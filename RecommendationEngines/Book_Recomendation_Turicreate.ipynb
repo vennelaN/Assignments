{
 "cells": [
  {
   "cell_type": "code",
   "execution_count": 1,
   "id": "27b488f9",
   "metadata": {},
   "outputs": [],
   "source": [
    "import pandas as pd\n",
    "import turicreate"
   ]
  },
  {
   "cell_type": "code",
   "execution_count": 6,
   "id": "af3f5cde",
   "metadata": {},
   "outputs": [
    {
     "data": {
      "text/html": [
       "<div>\n",
       "<style scoped>\n",
       "    .dataframe tbody tr th:only-of-type {\n",
       "        vertical-align: middle;\n",
       "    }\n",
       "\n",
       "    .dataframe tbody tr th {\n",
       "        vertical-align: top;\n",
       "    }\n",
       "\n",
       "    .dataframe thead th {\n",
       "        text-align: right;\n",
       "    }\n",
       "</style>\n",
       "<table border=\"1\" class=\"dataframe\">\n",
       "  <thead>\n",
       "    <tr style=\"text-align: right;\">\n",
       "      <th></th>\n",
       "      <th>Unnamed: 0</th>\n",
       "      <th>User.ID</th>\n",
       "      <th>Book.Title</th>\n",
       "      <th>Book.Rating</th>\n",
       "    </tr>\n",
       "  </thead>\n",
       "  <tbody>\n",
       "    <tr>\n",
       "      <th>0</th>\n",
       "      <td>1</td>\n",
       "      <td>276726</td>\n",
       "      <td>Classical Mythology</td>\n",
       "      <td>5</td>\n",
       "    </tr>\n",
       "    <tr>\n",
       "      <th>1</th>\n",
       "      <td>2</td>\n",
       "      <td>276729</td>\n",
       "      <td>Clara Callan</td>\n",
       "      <td>3</td>\n",
       "    </tr>\n",
       "    <tr>\n",
       "      <th>2</th>\n",
       "      <td>3</td>\n",
       "      <td>276729</td>\n",
       "      <td>Decision in Normandy</td>\n",
       "      <td>6</td>\n",
       "    </tr>\n",
       "    <tr>\n",
       "      <th>3</th>\n",
       "      <td>4</td>\n",
       "      <td>276736</td>\n",
       "      <td>Flu: The Story of the Great Influenza Pandemic...</td>\n",
       "      <td>8</td>\n",
       "    </tr>\n",
       "    <tr>\n",
       "      <th>4</th>\n",
       "      <td>5</td>\n",
       "      <td>276737</td>\n",
       "      <td>The Mummies of Urumchi</td>\n",
       "      <td>6</td>\n",
       "    </tr>\n",
       "  </tbody>\n",
       "</table>\n",
       "</div>"
      ],
      "text/plain": [
       "   Unnamed: 0  User.ID                                         Book.Title  \\\n",
       "0           1   276726                                Classical Mythology   \n",
       "1           2   276729                                       Clara Callan   \n",
       "2           3   276729                               Decision in Normandy   \n",
       "3           4   276736  Flu: The Story of the Great Influenza Pandemic...   \n",
       "4           5   276737                             The Mummies of Urumchi   \n",
       "\n",
       "   Book.Rating  \n",
       "0            5  \n",
       "1            3  \n",
       "2            6  \n",
       "3            8  \n",
       "4            6  "
      ]
     },
     "execution_count": 6,
     "metadata": {},
     "output_type": "execute_result"
    }
   ],
   "source": [
    "ratings_train = pd.read_csv('../../Exlr_Assignments/Datasets/book_RE.csv')\n",
    "ratings_train.head()"
   ]
  },
  {
   "cell_type": "code",
   "execution_count": 7,
   "id": "64ea52d6",
   "metadata": {},
   "outputs": [
    {
     "data": {
      "text/html": [
       "<div style=\"max-height:1000px;max-width:1500px;overflow:auto;\"><table frame=\"box\" rules=\"cols\">\n",
       "    <tr>\n",
       "        <th style=\"padding-left: 1em; padding-right: 1em; text-align: center\">Unnamed: 0</th>\n",
       "        <th style=\"padding-left: 1em; padding-right: 1em; text-align: center\">User.ID</th>\n",
       "        <th style=\"padding-left: 1em; padding-right: 1em; text-align: center\">Book.Title</th>\n",
       "        <th style=\"padding-left: 1em; padding-right: 1em; text-align: center\">Book.Rating</th>\n",
       "    </tr>\n",
       "    <tr>\n",
       "        <td style=\"padding-left: 1em; padding-right: 1em; text-align: center; vertical-align: top\">1</td>\n",
       "        <td style=\"padding-left: 1em; padding-right: 1em; text-align: center; vertical-align: top\">276726</td>\n",
       "        <td style=\"padding-left: 1em; padding-right: 1em; text-align: center; vertical-align: top\">Classical Mythology</td>\n",
       "        <td style=\"padding-left: 1em; padding-right: 1em; text-align: center; vertical-align: top\">5</td>\n",
       "    </tr>\n",
       "    <tr>\n",
       "        <td style=\"padding-left: 1em; padding-right: 1em; text-align: center; vertical-align: top\">2</td>\n",
       "        <td style=\"padding-left: 1em; padding-right: 1em; text-align: center; vertical-align: top\">276729</td>\n",
       "        <td style=\"padding-left: 1em; padding-right: 1em; text-align: center; vertical-align: top\">Clara Callan</td>\n",
       "        <td style=\"padding-left: 1em; padding-right: 1em; text-align: center; vertical-align: top\">3</td>\n",
       "    </tr>\n",
       "    <tr>\n",
       "        <td style=\"padding-left: 1em; padding-right: 1em; text-align: center; vertical-align: top\">3</td>\n",
       "        <td style=\"padding-left: 1em; padding-right: 1em; text-align: center; vertical-align: top\">276729</td>\n",
       "        <td style=\"padding-left: 1em; padding-right: 1em; text-align: center; vertical-align: top\">Decision in Normandy</td>\n",
       "        <td style=\"padding-left: 1em; padding-right: 1em; text-align: center; vertical-align: top\">6</td>\n",
       "    </tr>\n",
       "    <tr>\n",
       "        <td style=\"padding-left: 1em; padding-right: 1em; text-align: center; vertical-align: top\">4</td>\n",
       "        <td style=\"padding-left: 1em; padding-right: 1em; text-align: center; vertical-align: top\">276736</td>\n",
       "        <td style=\"padding-left: 1em; padding-right: 1em; text-align: center; vertical-align: top\">Flu: The Story of the<br>Great Influenza Pandemic ...</td>\n",
       "        <td style=\"padding-left: 1em; padding-right: 1em; text-align: center; vertical-align: top\">8</td>\n",
       "    </tr>\n",
       "    <tr>\n",
       "        <td style=\"padding-left: 1em; padding-right: 1em; text-align: center; vertical-align: top\">5</td>\n",
       "        <td style=\"padding-left: 1em; padding-right: 1em; text-align: center; vertical-align: top\">276737</td>\n",
       "        <td style=\"padding-left: 1em; padding-right: 1em; text-align: center; vertical-align: top\">The Mummies of Urumchi</td>\n",
       "        <td style=\"padding-left: 1em; padding-right: 1em; text-align: center; vertical-align: top\">6</td>\n",
       "    </tr>\n",
       "    <tr>\n",
       "        <td style=\"padding-left: 1em; padding-right: 1em; text-align: center; vertical-align: top\">6</td>\n",
       "        <td style=\"padding-left: 1em; padding-right: 1em; text-align: center; vertical-align: top\">276744</td>\n",
       "        <td style=\"padding-left: 1em; padding-right: 1em; text-align: center; vertical-align: top\">The Kitchen God&#x27;s Wife</td>\n",
       "        <td style=\"padding-left: 1em; padding-right: 1em; text-align: center; vertical-align: top\">7</td>\n",
       "    </tr>\n",
       "    <tr>\n",
       "        <td style=\"padding-left: 1em; padding-right: 1em; text-align: center; vertical-align: top\">7</td>\n",
       "        <td style=\"padding-left: 1em; padding-right: 1em; text-align: center; vertical-align: top\">276745</td>\n",
       "        <td style=\"padding-left: 1em; padding-right: 1em; text-align: center; vertical-align: top\">What If?: The World&#x27;s<br>Foremost Military ...</td>\n",
       "        <td style=\"padding-left: 1em; padding-right: 1em; text-align: center; vertical-align: top\">10</td>\n",
       "    </tr>\n",
       "    <tr>\n",
       "        <td style=\"padding-left: 1em; padding-right: 1em; text-align: center; vertical-align: top\">8</td>\n",
       "        <td style=\"padding-left: 1em; padding-right: 1em; text-align: center; vertical-align: top\">276747</td>\n",
       "        <td style=\"padding-left: 1em; padding-right: 1em; text-align: center; vertical-align: top\">PLEADING GUILTY</td>\n",
       "        <td style=\"padding-left: 1em; padding-right: 1em; text-align: center; vertical-align: top\">9</td>\n",
       "    </tr>\n",
       "    <tr>\n",
       "        <td style=\"padding-left: 1em; padding-right: 1em; text-align: center; vertical-align: top\">9</td>\n",
       "        <td style=\"padding-left: 1em; padding-right: 1em; text-align: center; vertical-align: top\">276747</td>\n",
       "        <td style=\"padding-left: 1em; padding-right: 1em; text-align: center; vertical-align: top\">Under the Black Flag: The<br>Romance and the Reality ...</td>\n",
       "        <td style=\"padding-left: 1em; padding-right: 1em; text-align: center; vertical-align: top\">9</td>\n",
       "    </tr>\n",
       "    <tr>\n",
       "        <td style=\"padding-left: 1em; padding-right: 1em; text-align: center; vertical-align: top\">10</td>\n",
       "        <td style=\"padding-left: 1em; padding-right: 1em; text-align: center; vertical-align: top\">276747</td>\n",
       "        <td style=\"padding-left: 1em; padding-right: 1em; text-align: center; vertical-align: top\">Where You&#x27;ll Find Me: And<br>Other Stories ...</td>\n",
       "        <td style=\"padding-left: 1em; padding-right: 1em; text-align: center; vertical-align: top\">8</td>\n",
       "    </tr>\n",
       "</table>\n",
       "[10000 rows x 4 columns]<br/>Note: Only the head of the SFrame is printed.<br/>You can use print_rows(num_rows=m, num_columns=n) to print more rows and columns.\n",
       "</div>"
      ],
      "text/plain": [
       "Columns:\n",
       "\tUnnamed: 0\tint\n",
       "\tUser.ID\tint\n",
       "\tBook.Title\tstr\n",
       "\tBook.Rating\tint\n",
       "\n",
       "Rows: 10000\n",
       "\n",
       "Data:\n",
       "+------------+---------+-------------------------------+-------------+\n",
       "| Unnamed: 0 | User.ID |           Book.Title          | Book.Rating |\n",
       "+------------+---------+-------------------------------+-------------+\n",
       "|     1      |  276726 |      Classical Mythology      |      5      |\n",
       "|     2      |  276729 |          Clara Callan         |      3      |\n",
       "|     3      |  276729 |      Decision in Normandy     |      6      |\n",
       "|     4      |  276736 | Flu: The Story of the Grea... |      8      |\n",
       "|     5      |  276737 |     The Mummies of Urumchi    |      6      |\n",
       "|     6      |  276744 |     The Kitchen God's Wife    |      7      |\n",
       "|     7      |  276745 | What If?: The World's Fore... |      10     |\n",
       "|     8      |  276747 |        PLEADING GUILTY        |      9      |\n",
       "|     9      |  276747 | Under the Black Flag: The ... |      9      |\n",
       "|     10     |  276747 | Where You'll Find Me: And ... |      8      |\n",
       "+------------+---------+-------------------------------+-------------+\n",
       "[10000 rows x 4 columns]\n",
       "Note: Only the head of the SFrame is printed.\n",
       "You can use print_rows(num_rows=m, num_columns=n) to print more rows and columns."
      ]
     },
     "execution_count": 7,
     "metadata": {},
     "output_type": "execute_result"
    }
   ],
   "source": [
    "train_data = turicreate.SFrame(ratings_train)\n",
    "train_data"
   ]
  },
  {
   "cell_type": "markdown",
   "id": "621e6fc3",
   "metadata": {},
   "source": [
    "## Popularity Based Filtering"
   ]
  },
  {
   "cell_type": "code",
   "execution_count": 9,
   "id": "4377bf5d",
   "metadata": {},
   "outputs": [
    {
     "data": {
      "text/html": [
       "<pre>Warning: Ignoring columns Unnamed: 0;</pre>"
      ],
      "text/plain": [
       "Warning: Ignoring columns Unnamed: 0;"
      ]
     },
     "metadata": {},
     "output_type": "display_data"
    },
    {
     "data": {
      "text/html": [
       "<pre>    To use these columns in scoring predictions, use a model that allows the use of additional features.</pre>"
      ],
      "text/plain": [
       "    To use these columns in scoring predictions, use a model that allows the use of additional features."
      ]
     },
     "metadata": {},
     "output_type": "display_data"
    },
    {
     "data": {
      "text/html": [
       "<pre>Preparing data set.</pre>"
      ],
      "text/plain": [
       "Preparing data set."
      ]
     },
     "metadata": {},
     "output_type": "display_data"
    },
    {
     "data": {
      "text/html": [
       "<pre>    Data has 10000 observations with 2182 users and 9659 items.</pre>"
      ],
      "text/plain": [
       "    Data has 10000 observations with 2182 users and 9659 items."
      ]
     },
     "metadata": {},
     "output_type": "display_data"
    },
    {
     "data": {
      "text/html": [
       "<pre>    Data prepared in: 0.039345s</pre>"
      ],
      "text/plain": [
       "    Data prepared in: 0.039345s"
      ]
     },
     "metadata": {},
     "output_type": "display_data"
    },
    {
     "data": {
      "text/html": [
       "<pre>10000 observations to process; with 9659 unique items.</pre>"
      ],
      "text/plain": [
       "10000 observations to process; with 9659 unique items."
      ]
     },
     "metadata": {},
     "output_type": "display_data"
    }
   ],
   "source": [
    "popularity_model = turicreate.popularity_recommender.create(observation_data=train_data,\n",
    "    user_id='User.ID',\n",
    "    item_id='Book.Title',\n",
    "    target='Book.Rating')"
   ]
  },
  {
   "cell_type": "code",
   "execution_count": 10,
   "id": "3de294f1",
   "metadata": {},
   "outputs": [
    {
     "name": "stdout",
     "output_type": "stream",
     "text": [
      "+---------+-------------------------------+-------+------+\n",
      "| User.ID |           Book.Title          | score | rank |\n",
      "+---------+-------------------------------+-------+------+\n",
      "|  276726 |       Sturmzeit. Roman.       |  10.0 |  1   |\n",
      "|  276726 |  Tell Me This Isn't Happening |  10.0 |  2   |\n",
      "|  276726 | Mary-Kate &amp; Ashley Swi... |  10.0 |  3   |\n",
      "|  276726 | More Cunning Than Man: A S... |  10.0 |  4   |\n",
      "|  276726 | What If?: The World's Fore... |  10.0 |  5   |\n",
      "|  276729 |       Sturmzeit. Roman.       |  10.0 |  1   |\n",
      "|  276729 |  Tell Me This Isn't Happening |  10.0 |  2   |\n",
      "|  276729 | Mary-Kate &amp; Ashley Swi... |  10.0 |  3   |\n",
      "|  276729 | More Cunning Than Man: A S... |  10.0 |  4   |\n",
      "|  276729 | What If?: The World's Fore... |  10.0 |  5   |\n",
      "|  276736 |       Sturmzeit. Roman.       |  10.0 |  1   |\n",
      "|  276736 |  Tell Me This Isn't Happening |  10.0 |  2   |\n",
      "|  276736 | Mary-Kate &amp; Ashley Swi... |  10.0 |  3   |\n",
      "|  276736 | More Cunning Than Man: A S... |  10.0 |  4   |\n",
      "|  276736 | What If?: The World's Fore... |  10.0 |  5   |\n",
      "|  276737 |       Sturmzeit. Roman.       |  10.0 |  1   |\n",
      "|  276737 |  Tell Me This Isn't Happening |  10.0 |  2   |\n",
      "|  276737 | Mary-Kate &amp; Ashley Swi... |  10.0 |  3   |\n",
      "|  276737 | More Cunning Than Man: A S... |  10.0 |  4   |\n",
      "|  276737 | What If?: The World's Fore... |  10.0 |  5   |\n",
      "|  276744 |       Sturmzeit. Roman.       |  10.0 |  1   |\n",
      "|  276744 |  Tell Me This Isn't Happening |  10.0 |  2   |\n",
      "|  276744 | Mary-Kate &amp; Ashley Swi... |  10.0 |  3   |\n",
      "|  276744 | More Cunning Than Man: A S... |  10.0 |  4   |\n",
      "|  276744 | What If?: The World's Fore... |  10.0 |  5   |\n",
      "+---------+-------------------------------+-------+------+\n",
      "[25 rows x 4 columns]\n",
      "\n"
     ]
    }
   ],
   "source": [
    "#We will recommend the top 5 items for the first 5 users in our dataset\n",
    "users_5 = ratings_train['User.ID'].unique()\n",
    "popularity_recomm = popularity_model.recommend(users=users_5[:5],k=5)\n",
    "#we are recomending books for first 5 users,with avg rating 5\n",
    "popularity_recomm.print_rows(num_rows=25)"
   ]
  },
  {
   "cell_type": "markdown",
   "id": "3fe05776",
   "metadata": {},
   "source": [
    "## Item to Item collebrative filtering"
   ]
  },
  {
   "cell_type": "code",
   "execution_count": 11,
   "id": "ee008c47",
   "metadata": {},
   "outputs": [
    {
     "data": {
      "text/html": [
       "<pre>Warning: Ignoring columns Unnamed: 0;</pre>"
      ],
      "text/plain": [
       "Warning: Ignoring columns Unnamed: 0;"
      ]
     },
     "metadata": {},
     "output_type": "display_data"
    },
    {
     "data": {
      "text/html": [
       "<pre>    To use these columns in scoring predictions, use a model that allows the use of additional features.</pre>"
      ],
      "text/plain": [
       "    To use these columns in scoring predictions, use a model that allows the use of additional features."
      ]
     },
     "metadata": {},
     "output_type": "display_data"
    },
    {
     "data": {
      "text/html": [
       "<pre>Preparing data set.</pre>"
      ],
      "text/plain": [
       "Preparing data set."
      ]
     },
     "metadata": {},
     "output_type": "display_data"
    },
    {
     "data": {
      "text/html": [
       "<pre>    Data has 10000 observations with 2182 users and 9659 items.</pre>"
      ],
      "text/plain": [
       "    Data has 10000 observations with 2182 users and 9659 items."
      ]
     },
     "metadata": {},
     "output_type": "display_data"
    },
    {
     "data": {
      "text/html": [
       "<pre>    Data prepared in: 0.039441s</pre>"
      ],
      "text/plain": [
       "    Data prepared in: 0.039441s"
      ]
     },
     "metadata": {},
     "output_type": "display_data"
    },
    {
     "data": {
      "text/html": [
       "<pre>Training model from provided data.</pre>"
      ],
      "text/plain": [
       "Training model from provided data."
      ]
     },
     "metadata": {},
     "output_type": "display_data"
    },
    {
     "data": {
      "text/html": [
       "<pre>Gathering per-item and per-user statistics.</pre>"
      ],
      "text/plain": [
       "Gathering per-item and per-user statistics."
      ]
     },
     "metadata": {},
     "output_type": "display_data"
    },
    {
     "data": {
      "text/html": [
       "<pre>+--------------------------------+------------+</pre>"
      ],
      "text/plain": [
       "+--------------------------------+------------+"
      ]
     },
     "metadata": {},
     "output_type": "display_data"
    },
    {
     "data": {
      "text/html": [
       "<pre>| Elapsed Time (Item Statistics) | % Complete |</pre>"
      ],
      "text/plain": [
       "| Elapsed Time (Item Statistics) | % Complete |"
      ]
     },
     "metadata": {},
     "output_type": "display_data"
    },
    {
     "data": {
      "text/html": [
       "<pre>+--------------------------------+------------+</pre>"
      ],
      "text/plain": [
       "+--------------------------------+------------+"
      ]
     },
     "metadata": {},
     "output_type": "display_data"
    },
    {
     "data": {
      "text/html": [
       "<pre>| 1.178ms                        | 45.75      |</pre>"
      ],
      "text/plain": [
       "| 1.178ms                        | 45.75      |"
      ]
     },
     "metadata": {},
     "output_type": "display_data"
    },
    {
     "data": {
      "text/html": [
       "<pre>| 1.798ms                        | 100        |</pre>"
      ],
      "text/plain": [
       "| 1.798ms                        | 100        |"
      ]
     },
     "metadata": {},
     "output_type": "display_data"
    },
    {
     "data": {
      "text/html": [
       "<pre>+--------------------------------+------------+</pre>"
      ],
      "text/plain": [
       "+--------------------------------+------------+"
      ]
     },
     "metadata": {},
     "output_type": "display_data"
    },
    {
     "data": {
      "text/html": [
       "<pre>Setting up lookup tables.</pre>"
      ],
      "text/plain": [
       "Setting up lookup tables."
      ]
     },
     "metadata": {},
     "output_type": "display_data"
    },
    {
     "data": {
      "text/html": [
       "<pre>Processing data in one pass using dense lookup tables.</pre>"
      ],
      "text/plain": [
       "Processing data in one pass using dense lookup tables."
      ]
     },
     "metadata": {},
     "output_type": "display_data"
    },
    {
     "data": {
      "text/html": [
       "<pre>+-------------------------------------+------------------+-----------------+</pre>"
      ],
      "text/plain": [
       "+-------------------------------------+------------------+-----------------+"
      ]
     },
     "metadata": {},
     "output_type": "display_data"
    },
    {
     "data": {
      "text/html": [
       "<pre>| Elapsed Time (Constructing Lookups) | Total % Complete | Items Processed |</pre>"
      ],
      "text/plain": [
       "| Elapsed Time (Constructing Lookups) | Total % Complete | Items Processed |"
      ]
     },
     "metadata": {},
     "output_type": "display_data"
    },
    {
     "data": {
      "text/html": [
       "<pre>+-------------------------------------+------------------+-----------------+</pre>"
      ],
      "text/plain": [
       "+-------------------------------------+------------------+-----------------+"
      ]
     },
     "metadata": {},
     "output_type": "display_data"
    },
    {
     "data": {
      "text/html": [
       "<pre>| 144.998ms                           | 0                | 0               |</pre>"
      ],
      "text/plain": [
       "| 144.998ms                           | 0                | 0               |"
      ]
     },
     "metadata": {},
     "output_type": "display_data"
    },
    {
     "data": {
      "text/html": [
       "<pre>| 263.741ms                           | 100              | 9659            |</pre>"
      ],
      "text/plain": [
       "| 263.741ms                           | 100              | 9659            |"
      ]
     },
     "metadata": {},
     "output_type": "display_data"
    },
    {
     "data": {
      "text/html": [
       "<pre>+-------------------------------------+------------------+-----------------+</pre>"
      ],
      "text/plain": [
       "+-------------------------------------+------------------+-----------------+"
      ]
     },
     "metadata": {},
     "output_type": "display_data"
    },
    {
     "data": {
      "text/html": [
       "<pre>Finalizing lookup tables.</pre>"
      ],
      "text/plain": [
       "Finalizing lookup tables."
      ]
     },
     "metadata": {},
     "output_type": "display_data"
    },
    {
     "data": {
      "text/html": [
       "<pre>Generating candidate set for working with new users.</pre>"
      ],
      "text/plain": [
       "Generating candidate set for working with new users."
      ]
     },
     "metadata": {},
     "output_type": "display_data"
    },
    {
     "data": {
      "text/html": [
       "<pre>Finished training in 1.27997s</pre>"
      ],
      "text/plain": [
       "Finished training in 1.27997s"
      ]
     },
     "metadata": {},
     "output_type": "display_data"
    }
   ],
   "source": [
    "item_recomm_model = turicreate.item_similarity_recommender.create(observation_data=train_data,\n",
    "    user_id='User.ID',\n",
    "    item_id='Book.Title',\n",
    "    target='Book.Rating',similarity_type='cosine')"
   ]
  },
  {
   "cell_type": "code",
   "execution_count": 13,
   "id": "d983aa3d",
   "metadata": {},
   "outputs": [
    {
     "name": "stdout",
     "output_type": "stream",
     "text": [
      "+---------+--------------------------------+----------------------+------+\n",
      "| User.ID |           Book.Title           |        score         | rank |\n",
      "+---------+--------------------------------+----------------------+------+\n",
      "|  276726 | A la vora del pou (El Balancí) | 0.045764436721801756 |  1   |\n",
      "|  276726 |     Tríptics (El Balancí)      | 0.045764436721801756 |  2   |\n",
      "|  276726 |      Els plaers ficticis       | 0.045764436721801756 |  3   |\n",
      "|  276726 | L'adoració perpètua (Col¨l...  | 0.045764436721801756 |  4   |\n",
      "|  276726 | Evangeli gris (Biblioteca ...  | 0.045764436721801756 |  5   |\n",
      "|  276729 | What If?: The World's Fore...  |         0.0          |  1   |\n",
      "|  276729 |     The Kitchen God's Wife     |         0.0          |  2   |\n",
      "|  276729 |     The Mummies of Urumchi     |         0.0          |  3   |\n",
      "|  276729 | Flu: The Story of the Grea...  |         0.0          |  4   |\n",
      "|  276729 |      Classical Mythology       |         0.0          |  5   |\n",
      "|  276736 | A la vora del pou (El Balancí) | 0.045764436721801756 |  1   |\n",
      "|  276736 |     Tríptics (El Balancí)      | 0.045764436721801756 |  2   |\n",
      "|  276736 |      Els plaers ficticis       | 0.045764436721801756 |  3   |\n",
      "|  276736 | L'adoració perpètua (Col¨l...  | 0.045764436721801756 |  4   |\n",
      "|  276736 | Evangeli gris (Biblioteca ...  | 0.045764436721801756 |  5   |\n",
      "|  276737 | A la vora del pou (El Balancí) | 0.045764436721801756 |  1   |\n",
      "|  276737 |     Tríptics (El Balancí)      | 0.045764436721801756 |  2   |\n",
      "|  276737 |      Els plaers ficticis       | 0.045764436721801756 |  3   |\n",
      "|  276737 | L'adoració perpètua (Col¨l...  | 0.045764436721801756 |  4   |\n",
      "|  276737 | Evangeli gris (Biblioteca ...  | 0.045764436721801756 |  5   |\n",
      "|  276744 | Adventures of Huckleberry ...  |  4.949747383594513   |  1   |\n",
      "|  276744 | Chicken Soup for the Mothe...  |  4.949747383594513   |  2   |\n",
      "|  276744 | Sacred Journey of the Peac...  |  4.949747383594513   |  3   |\n",
      "|  276744 | The Adventures of Augie March  |  4.949747383594513   |  4   |\n",
      "|  276744 |     The Mummies of Urumchi     |         0.0          |  5   |\n",
      "+---------+--------------------------------+----------------------+------+\n",
      "[25 rows x 4 columns]\n",
      "\n"
     ]
    }
   ],
   "source": [
    "#We will recommend the top 5 items for the first 5 users in our dataset\n",
    "users_5 = ratings_train['User.ID'].unique()\n",
    "#Making recommendations\n",
    "item_recomm = item_recomm_model.recommend(users=users_5[:5],k=5)\n",
    "item_recomm.print_rows(num_rows=25)\n",
    "\n"
   ]
  }
 ],
 "metadata": {
  "kernelspec": {
   "display_name": "Python 3",
   "language": "python",
   "name": "python3"
  },
  "language_info": {
   "codemirror_mode": {
    "name": "ipython",
    "version": 3
   },
   "file_extension": ".py",
   "mimetype": "text/x-python",
   "name": "python",
   "nbconvert_exporter": "python",
   "pygments_lexer": "ipython3",
   "version": "3.8.8"
  }
 },
 "nbformat": 4,
 "nbformat_minor": 5
}
