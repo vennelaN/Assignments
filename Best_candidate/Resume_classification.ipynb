{
 "cells": [
  {
   "cell_type": "code",
   "execution_count": 66,
   "id": "06b9cfb4",
   "metadata": {},
   "outputs": [],
   "source": [
    "import glob\n",
    "import pandas as pd\n",
    "import docx2txt"
   ]
  },
  {
   "cell_type": "code",
   "execution_count": 69,
   "id": "b32c0e35",
   "metadata": {},
   "outputs": [
    {
     "name": "stdout",
     "output_type": "stream",
     "text": [
      "/Users/vp054179/Downloads/Resumes/5_Resumes/React Dev_Krishna Kanth.docx\n",
      "/Users/vp054179/Downloads/Resumes/5_Resumes/React Dev_Krishna Kanth_Musquare Technologies.docx\n",
      "/Users/vp054179/Downloads/Resumes/5_Resumes/SQL_Anil_kumar.docx\n",
      "/Users/vp054179/Downloads/Resumes/5_Resumes/Internship_Ravali_Musquare_Technologies.docx\n",
      "/Users/vp054179/Downloads/Resumes/5_Resumes/React Developer_Deepakreddy.docx\n",
      "/Users/vp054179/Downloads/Resumes/5_Resumes/React Developer_Haripriya.docx\n",
      "/Users/vp054179/Downloads/Resumes/5_Resumes/React Developer_Kamalakar Reddy.docx\n",
      "/Users/vp054179/Downloads/Resumes/5_Resumes/Internship_Susovan_Bag_Musquare_Technologies.docx\n"
     ]
    }
   ],
   "source": [
    "for name in glob.glob(r'/Users/vp054179/Downloads/Resumes/5_Resumes/*'):\n",
    "    print(name)"
   ]
  },
  {
   "cell_type": "code",
   "execution_count": 70,
   "id": "3f8671f7",
   "metadata": {
    "scrolled": true
   },
   "outputs": [
    {
     "data": {
      "text/plain": [
       "['/Users/vp054179/Downloads/Resumes/5_Resumes/React Dev_Krishna Kanth.docx',\n",
       " '/Users/vp054179/Downloads/Resumes/5_Resumes/React Dev_Krishna Kanth_Musquare Technologies.docx',\n",
       " '/Users/vp054179/Downloads/Resumes/5_Resumes/SQL_Anil_kumar.docx',\n",
       " '/Users/vp054179/Downloads/Resumes/5_Resumes/Internship_Ravali_Musquare_Technologies.docx',\n",
       " '/Users/vp054179/Downloads/Resumes/5_Resumes/React Developer_Deepakreddy.docx',\n",
       " '/Users/vp054179/Downloads/Resumes/5_Resumes/React Developer_Haripriya.docx',\n",
       " '/Users/vp054179/Downloads/Resumes/5_Resumes/React Developer_Kamalakar Reddy.docx',\n",
       " '/Users/vp054179/Downloads/Resumes/5_Resumes/Internship_Susovan_Bag_Musquare_Technologies.docx']"
      ]
     },
     "execution_count": 70,
     "metadata": {},
     "output_type": "execute_result"
    }
   ],
   "source": [
    "glob.glob(r'/Users/vp054179/Downloads/Resumes/5_Resumes/*')"
   ]
  },
  {
   "cell_type": "code",
   "execution_count": 71,
   "id": "b5c08ca2",
   "metadata": {},
   "outputs": [],
   "source": [
    "\n",
    "resume = []\n",
    "file_name = []\n",
    "for file in glob.glob(r'/Users/vp054179/Downloads/Resumes/5_Resumes/*'):\n",
    "    resume.append(docx2txt.process(file))\n",
    "    resume_name = file[file.rfind('/')+1:]\n",
    "    file_name.append(resume_name)"
   ]
  },
  {
   "cell_type": "code",
   "execution_count": 76,
   "id": "14d46ac5",
   "metadata": {
    "scrolled": true
   },
   "outputs": [
    {
     "data": {
      "text/plain": [
       "8"
      ]
     },
     "execution_count": 76,
     "metadata": {},
     "output_type": "execute_result"
    }
   ],
   "source": [
    "len(file_name)"
   ]
  },
  {
   "cell_type": "code",
   "execution_count": 75,
   "id": "9f59581b",
   "metadata": {},
   "outputs": [
    {
     "data": {
      "text/plain": [
       "8"
      ]
     },
     "execution_count": 75,
     "metadata": {},
     "output_type": "execute_result"
    }
   ],
   "source": [
    "len(resume)"
   ]
  },
  {
   "cell_type": "code",
   "execution_count": 77,
   "id": "024417e4",
   "metadata": {
    "scrolled": true
   },
   "outputs": [
    {
     "data": {
      "text/html": [
       "<div>\n",
       "<style scoped>\n",
       "    .dataframe tbody tr th:only-of-type {\n",
       "        vertical-align: middle;\n",
       "    }\n",
       "\n",
       "    .dataframe tbody tr th {\n",
       "        vertical-align: top;\n",
       "    }\n",
       "\n",
       "    .dataframe thead th {\n",
       "        text-align: right;\n",
       "    }\n",
       "</style>\n",
       "<table border=\"1\" class=\"dataframe\">\n",
       "  <thead>\n",
       "    <tr style=\"text-align: right;\">\n",
       "      <th></th>\n",
       "      <th>resume</th>\n",
       "      <th>file_name</th>\n",
       "      <th>ind</th>\n",
       "    </tr>\n",
       "  </thead>\n",
       "  <tbody>\n",
       "    <tr>\n",
       "      <th>0</th>\n",
       "      <td>Ui-Developer/ React JS Developer \\n\\nNAME: KRI...</td>\n",
       "      <td>React Dev_Krishna Kanth.docx</td>\n",
       "      <td>0</td>\n",
       "    </tr>\n",
       "    <tr>\n",
       "      <th>1</th>\n",
       "      <td>Ui-Developer/ React JS Developer \\n\\nNAME: KRI...</td>\n",
       "      <td>React Dev_Krishna Kanth_Musquare Technologies....</td>\n",
       "      <td>1</td>\n",
       "    </tr>\n",
       "    <tr>\n",
       "      <th>2</th>\n",
       "      <td>ANIL KUMAR MADDUKURI  \\t\\t\\n\\nSQL &amp; MSBI Devel...</td>\n",
       "      <td>SQL_Anil_kumar.docx</td>\n",
       "      <td>2</td>\n",
       "    </tr>\n",
       "    <tr>\n",
       "      <th>3</th>\n",
       "      <td>Name: Ravali P \\n\\n\\n\\n                       ...</td>\n",
       "      <td>Internship_Ravali_Musquare_Technologies.docx</td>\n",
       "      <td>3</td>\n",
       "    </tr>\n",
       "    <tr>\n",
       "      <th>4</th>\n",
       "      <td>Kanumuru Deepak Reddy\\n\\n\\n\\n\\t\\n\\n\\n\\nCAREER ...</td>\n",
       "      <td>React Developer_Deepakreddy.docx</td>\n",
       "      <td>4</td>\n",
       "    </tr>\n",
       "    <tr>\n",
       "      <th>5</th>\n",
       "      <td>HARIPRIYA BATTINA \\n\\nExperience as UI Develop...</td>\n",
       "      <td>React Developer_Haripriya.docx</td>\n",
       "      <td>5</td>\n",
       "    </tr>\n",
       "    <tr>\n",
       "      <th>6</th>\n",
       "      <td>KAMALAKAR REDDY. A \\n\\nLinked In: https://www....</td>\n",
       "      <td>React Developer_Kamalakar Reddy.docx</td>\n",
       "      <td>6</td>\n",
       "    </tr>\n",
       "    <tr>\n",
       "      <th>7</th>\n",
       "      <td>SUSOVAN  BAG   \\n\\nSeeking  a  challenging  po...</td>\n",
       "      <td>Internship_Susovan_Bag_Musquare_Technologies.docx</td>\n",
       "      <td>7</td>\n",
       "    </tr>\n",
       "  </tbody>\n",
       "</table>\n",
       "</div>"
      ],
      "text/plain": [
       "                                              resume  \\\n",
       "0  Ui-Developer/ React JS Developer \\n\\nNAME: KRI...   \n",
       "1  Ui-Developer/ React JS Developer \\n\\nNAME: KRI...   \n",
       "2  ANIL KUMAR MADDUKURI  \\t\\t\\n\\nSQL & MSBI Devel...   \n",
       "3  Name: Ravali P \\n\\n\\n\\n                       ...   \n",
       "4  Kanumuru Deepak Reddy\\n\\n\\n\\n\\t\\n\\n\\n\\nCAREER ...   \n",
       "5  HARIPRIYA BATTINA \\n\\nExperience as UI Develop...   \n",
       "6  KAMALAKAR REDDY. A \\n\\nLinked In: https://www....   \n",
       "7  SUSOVAN  BAG   \\n\\nSeeking  a  challenging  po...   \n",
       "\n",
       "                                           file_name  ind  \n",
       "0                       React Dev_Krishna Kanth.docx    0  \n",
       "1  React Dev_Krishna Kanth_Musquare Technologies....    1  \n",
       "2                                SQL_Anil_kumar.docx    2  \n",
       "3       Internship_Ravali_Musquare_Technologies.docx    3  \n",
       "4                   React Developer_Deepakreddy.docx    4  \n",
       "5                     React Developer_Haripriya.docx    5  \n",
       "6               React Developer_Kamalakar Reddy.docx    6  \n",
       "7  Internship_Susovan_Bag_Musquare_Technologies.docx    7  "
      ]
     },
     "execution_count": 77,
     "metadata": {},
     "output_type": "execute_result"
    }
   ],
   "source": [
    "data = pd.DataFrame({'resume':resume,'file_name':file_name})\n",
    "data['ind'] = data.index\n",
    "data"
   ]
  },
  {
   "cell_type": "code",
   "execution_count": 78,
   "id": "190b62f8",
   "metadata": {},
   "outputs": [],
   "source": [
    "category = ['React','Java','Dotnet','SQL','Musquare']"
   ]
  },
  {
   "cell_type": "code",
   "execution_count": 79,
   "id": "577873ce",
   "metadata": {},
   "outputs": [],
   "source": [
    "data['category'] = ''"
   ]
  },
  {
   "cell_type": "code",
   "execution_count": 80,
   "id": "b6f15203",
   "metadata": {
    "scrolled": false
   },
   "outputs": [],
   "source": [
    "for i in data.values:\n",
    "    for x in category:\n",
    "        if i[1].lower().find(x.lower()) != -1:\n",
    "            data.loc[i[2],'category'] = x"
   ]
  },
  {
   "cell_type": "code",
   "execution_count": 81,
   "id": "f29638d8",
   "metadata": {},
   "outputs": [
    {
     "data": {
      "text/html": [
       "<div>\n",
       "<style scoped>\n",
       "    .dataframe tbody tr th:only-of-type {\n",
       "        vertical-align: middle;\n",
       "    }\n",
       "\n",
       "    .dataframe tbody tr th {\n",
       "        vertical-align: top;\n",
       "    }\n",
       "\n",
       "    .dataframe thead th {\n",
       "        text-align: right;\n",
       "    }\n",
       "</style>\n",
       "<table border=\"1\" class=\"dataframe\">\n",
       "  <thead>\n",
       "    <tr style=\"text-align: right;\">\n",
       "      <th></th>\n",
       "      <th>resume</th>\n",
       "      <th>file_name</th>\n",
       "      <th>ind</th>\n",
       "      <th>category</th>\n",
       "    </tr>\n",
       "  </thead>\n",
       "  <tbody>\n",
       "    <tr>\n",
       "      <th>0</th>\n",
       "      <td>Ui-Developer/ React JS Developer \\n\\nNAME: KRI...</td>\n",
       "      <td>React Dev_Krishna Kanth.docx</td>\n",
       "      <td>0</td>\n",
       "      <td>React</td>\n",
       "    </tr>\n",
       "    <tr>\n",
       "      <th>1</th>\n",
       "      <td>Ui-Developer/ React JS Developer \\n\\nNAME: KRI...</td>\n",
       "      <td>React Dev_Krishna Kanth_Musquare Technologies....</td>\n",
       "      <td>1</td>\n",
       "      <td>Musquare</td>\n",
       "    </tr>\n",
       "    <tr>\n",
       "      <th>2</th>\n",
       "      <td>ANIL KUMAR MADDUKURI  \\t\\t\\n\\nSQL &amp; MSBI Devel...</td>\n",
       "      <td>SQL_Anil_kumar.docx</td>\n",
       "      <td>2</td>\n",
       "      <td>SQL</td>\n",
       "    </tr>\n",
       "    <tr>\n",
       "      <th>3</th>\n",
       "      <td>Name: Ravali P \\n\\n\\n\\n                       ...</td>\n",
       "      <td>Internship_Ravali_Musquare_Technologies.docx</td>\n",
       "      <td>3</td>\n",
       "      <td>Musquare</td>\n",
       "    </tr>\n",
       "    <tr>\n",
       "      <th>4</th>\n",
       "      <td>Kanumuru Deepak Reddy\\n\\n\\n\\n\\t\\n\\n\\n\\nCAREER ...</td>\n",
       "      <td>React Developer_Deepakreddy.docx</td>\n",
       "      <td>4</td>\n",
       "      <td>React</td>\n",
       "    </tr>\n",
       "    <tr>\n",
       "      <th>5</th>\n",
       "      <td>HARIPRIYA BATTINA \\n\\nExperience as UI Develop...</td>\n",
       "      <td>React Developer_Haripriya.docx</td>\n",
       "      <td>5</td>\n",
       "      <td>React</td>\n",
       "    </tr>\n",
       "    <tr>\n",
       "      <th>6</th>\n",
       "      <td>KAMALAKAR REDDY. A \\n\\nLinked In: https://www....</td>\n",
       "      <td>React Developer_Kamalakar Reddy.docx</td>\n",
       "      <td>6</td>\n",
       "      <td>React</td>\n",
       "    </tr>\n",
       "    <tr>\n",
       "      <th>7</th>\n",
       "      <td>SUSOVAN  BAG   \\n\\nSeeking  a  challenging  po...</td>\n",
       "      <td>Internship_Susovan_Bag_Musquare_Technologies.docx</td>\n",
       "      <td>7</td>\n",
       "      <td>Musquare</td>\n",
       "    </tr>\n",
       "  </tbody>\n",
       "</table>\n",
       "</div>"
      ],
      "text/plain": [
       "                                              resume  \\\n",
       "0  Ui-Developer/ React JS Developer \\n\\nNAME: KRI...   \n",
       "1  Ui-Developer/ React JS Developer \\n\\nNAME: KRI...   \n",
       "2  ANIL KUMAR MADDUKURI  \\t\\t\\n\\nSQL & MSBI Devel...   \n",
       "3  Name: Ravali P \\n\\n\\n\\n                       ...   \n",
       "4  Kanumuru Deepak Reddy\\n\\n\\n\\n\\t\\n\\n\\n\\nCAREER ...   \n",
       "5  HARIPRIYA BATTINA \\n\\nExperience as UI Develop...   \n",
       "6  KAMALAKAR REDDY. A \\n\\nLinked In: https://www....   \n",
       "7  SUSOVAN  BAG   \\n\\nSeeking  a  challenging  po...   \n",
       "\n",
       "                                           file_name  ind  category  \n",
       "0                       React Dev_Krishna Kanth.docx    0     React  \n",
       "1  React Dev_Krishna Kanth_Musquare Technologies....    1  Musquare  \n",
       "2                                SQL_Anil_kumar.docx    2       SQL  \n",
       "3       Internship_Ravali_Musquare_Technologies.docx    3  Musquare  \n",
       "4                   React Developer_Deepakreddy.docx    4     React  \n",
       "5                     React Developer_Haripriya.docx    5     React  \n",
       "6               React Developer_Kamalakar Reddy.docx    6     React  \n",
       "7  Internship_Susovan_Bag_Musquare_Technologies.docx    7  Musquare  "
      ]
     },
     "execution_count": 81,
     "metadata": {},
     "output_type": "execute_result"
    }
   ],
   "source": [
    "data"
   ]
  }
 ],
 "metadata": {
  "kernelspec": {
   "display_name": "Python 3",
   "language": "python",
   "name": "python3"
  },
  "language_info": {
   "codemirror_mode": {
    "name": "ipython",
    "version": 3
   },
   "file_extension": ".py",
   "mimetype": "text/x-python",
   "name": "python",
   "nbconvert_exporter": "python",
   "pygments_lexer": "ipython3",
   "version": "3.8.8"
  }
 },
 "nbformat": 4,
 "nbformat_minor": 5
}
