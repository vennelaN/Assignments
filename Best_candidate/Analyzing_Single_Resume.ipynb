{
 "cells": [
  {
   "cell_type": "code",
   "execution_count": 11,
   "id": "4eaa74a8",
   "metadata": {},
   "outputs": [
    {
     "name": "stdout",
     "output_type": "stream",
     "text": [
      "Collecting python-docx\n",
      "  Downloading python-docx-0.8.11.tar.gz (5.6 MB)\n",
      "\u001b[K     |████████████████████████████████| 5.6 MB 3.8 MB/s eta 0:00:01\n",
      "\u001b[?25hRequirement already satisfied: lxml>=2.3.2 in /Users/vp054179/opt/anaconda3/lib/python3.8/site-packages (from python-docx) (4.6.3)\n",
      "Building wheels for collected packages: python-docx\n",
      "  Building wheel for python-docx (setup.py) ... \u001b[?25ldone\n",
      "\u001b[?25h  Created wheel for python-docx: filename=python_docx-0.8.11-py3-none-any.whl size=184600 sha256=d042b13cc26ed81a0084ea113e878fa6c03266c3632831db03e52252a6f97b23\n",
      "  Stored in directory: /Users/vp054179/Library/Caches/pip/wheels/32/b8/b2/c4c2b95765e615fe139b0b17b5ea7c0e1b6519b0a9ec8fb34d\n",
      "Successfully built python-docx\n",
      "Installing collected packages: python-docx\n",
      "Successfully installed python-docx-0.8.11\n"
     ]
    }
   ],
   "source": [
    "!pip install python-docx "
   ]
  },
  {
   "cell_type": "code",
   "execution_count": 54,
   "id": "7f309073",
   "metadata": {
    "scrolled": true
   },
   "outputs": [],
   "source": [
    "import docx\n",
    "import pandas as pd\n",
    "import re\n",
    "import string\n",
    "import matplotlib.pyplot as plt"
   ]
  },
  {
   "cell_type": "code",
   "execution_count": 40,
   "id": "43bf3965",
   "metadata": {},
   "outputs": [],
   "source": [
    "doc = docx.Document('Resumes/React Dev_Krishna Kanth.docx')\n",
    "\n",
    "paras = [p.text for p in doc.paragraphs if p.text]  \n",
    "paras[0:10]\n",
    "text = \"\"\n",
    "for i in paras:\n",
    "    text = text + i  "
   ]
  },
  {
   "cell_type": "code",
   "execution_count": 47,
   "id": "bc295b9a",
   "metadata": {},
   "outputs": [],
   "source": [
    "# Convert all strings to lowercase\n",
    "text = text.lower()\n",
    "\n",
    "# Remove numbers\n",
    "text = re.sub(r'\\d+','',text)\n",
    "\n",
    "# Remove punctuation\n",
    "text = text.translate(str.maketrans('','',string.punctuation))\n"
   ]
  },
  {
   "cell_type": "code",
   "execution_count": 48,
   "id": "2c64439f",
   "metadata": {},
   "outputs": [],
   "source": [
    "# Create dictionary with industrial and system engineering key terms by area\n",
    "terms = {'Quality/Six Sigma':['black belt','capability analysis','control charts','doe','dmaic','fishbone',\n",
    "                              'gage r&r', 'green belt','ishikawa','iso','kaizen','kpi','lean','metrics',\n",
    "                              'pdsa','performance improvement','process improvement','quality',\n",
    "                              'quality circles','quality tools','root cause','six sigma',\n",
    "                              'stability analysis','statistical analysis','tqm'],      \n",
    "        'Operations management':['automation','bottleneck','constraints','cycle time','efficiency','fmea',\n",
    "                                 'machinery','maintenance','manufacture','line balancing','oee','operations',\n",
    "                                 'operations research','optimization','overall equipment effectiveness',\n",
    "                                 'pfmea','process','process mapping','production','resources','safety',\n",
    "                                 'stoppage','value stream mapping','utilization'],\n",
    "        'Supply chain':['abc analysis','apics','customer','customs','delivery','distribution','eoq','epq',\n",
    "                        'fleet','forecast','inventory','logistic','materials','outsourcing','procurement',\n",
    "                        'reorder point','rout','safety stock','scheduling','shipping','stock','suppliers',\n",
    "                        'third party logistics','transport','transportation','traffic','supply chain',\n",
    "                        'vendor','warehouse','wip','work in progress'],\n",
    "        'Project management':['administration','agile','budget','cost','direction','feasibility analysis',\n",
    "                              'finance','kanban','leader','leadership','management','milestones','planning',\n",
    "                              'pmi','pmp','problem','project','risk','schedule','scrum','stakeholders'],\n",
    "        'Data analytics':['analytics','api','aws','big data','busines intelligence','clustering','code',\n",
    "                          'coding','data','database','data mining','data science','deep learning','hadoop',\n",
    "                          'hypothesis test','iot','internet','machine learning','modeling','nosql','nlp',\n",
    "                          'predictive','programming','python','r','sql','tableau','text mining',\n",
    "                          'visualuzation'],\n",
    "        'Healthcare':['adverse events','care','clinic','cphq','ergonomics','healthcare',\n",
    "                      'health care','health','hospital','human factors','medical','near misses',\n",
    "                      'patient','reporting system']}"
   ]
  },
  {
   "cell_type": "code",
   "execution_count": 51,
   "id": "9a4f9834",
   "metadata": {},
   "outputs": [
    {
     "name": "stdout",
     "output_type": "stream",
     "text": [
      "0\n",
      "1\n",
      "1\n",
      "4\n",
      "5\n",
      "0\n",
      "[0, 1, 1, 4, 5, 0]\n"
     ]
    }
   ],
   "source": [
    "quality = 0\n",
    "operations = 0\n",
    "supplychain = 0\n",
    "project = 0\n",
    "data = 0\n",
    "healthcare = 0\n",
    "\n",
    "# Create an empty list where the scores will be stored\n",
    "scores = []\n",
    "\n",
    "# Obtain the scores for each area\n",
    "for area in terms.keys():\n",
    "        \n",
    "    if area == 'Quality/Six Sigma':\n",
    "        for word in terms[area]:\n",
    "            if word in text:\n",
    "                quality +=1\n",
    "        scores.append(quality)\n",
    "        \n",
    "    elif area == 'Operations management':\n",
    "        for word in terms[area]:\n",
    "            if word in text:\n",
    "                operations +=1\n",
    "        scores.append(operations)\n",
    "        \n",
    "    elif area == 'Supply chain':\n",
    "        for word in terms[area]:\n",
    "            if word in text:\n",
    "                supplychain +=1\n",
    "        scores.append(supplychain)\n",
    "        \n",
    "    elif area == 'Project management':\n",
    "        for word in terms[area]:\n",
    "            if word in text:\n",
    "                project +=1\n",
    "        scores.append(project)\n",
    "        \n",
    "    elif area == 'Data analytics':\n",
    "        for word in terms[area]:\n",
    "            if word in text:\n",
    "                data +=1\n",
    "        scores.append(data)\n",
    "        \n",
    "    else:\n",
    "        for word in terms[area]:\n",
    "            if word in text:\n",
    "                healthcare +=1\n",
    "        scores.append(healthcare)\n",
    "print(quality)\n",
    "print(operations)\n",
    "print(supplychain)\n",
    "print(project)\n",
    "print(data)\n",
    "print(healthcare)\n",
    "print(scores)"
   ]
  },
  {
   "cell_type": "code",
   "execution_count": 52,
   "id": "c2aedeae",
   "metadata": {},
   "outputs": [
    {
     "data": {
      "text/html": [
       "<div>\n",
       "<style scoped>\n",
       "    .dataframe tbody tr th:only-of-type {\n",
       "        vertical-align: middle;\n",
       "    }\n",
       "\n",
       "    .dataframe tbody tr th {\n",
       "        vertical-align: top;\n",
       "    }\n",
       "\n",
       "    .dataframe thead th {\n",
       "        text-align: right;\n",
       "    }\n",
       "</style>\n",
       "<table border=\"1\" class=\"dataframe\">\n",
       "  <thead>\n",
       "    <tr style=\"text-align: right;\">\n",
       "      <th></th>\n",
       "      <th>score</th>\n",
       "    </tr>\n",
       "  </thead>\n",
       "  <tbody>\n",
       "    <tr>\n",
       "      <th>Data analytics</th>\n",
       "      <td>5</td>\n",
       "    </tr>\n",
       "    <tr>\n",
       "      <th>Project management</th>\n",
       "      <td>4</td>\n",
       "    </tr>\n",
       "    <tr>\n",
       "      <th>Operations management</th>\n",
       "      <td>1</td>\n",
       "    </tr>\n",
       "    <tr>\n",
       "      <th>Supply chain</th>\n",
       "      <td>1</td>\n",
       "    </tr>\n",
       "    <tr>\n",
       "      <th>Quality/Six Sigma</th>\n",
       "      <td>0</td>\n",
       "    </tr>\n",
       "    <tr>\n",
       "      <th>Healthcare</th>\n",
       "      <td>0</td>\n",
       "    </tr>\n",
       "  </tbody>\n",
       "</table>\n",
       "</div>"
      ],
      "text/plain": [
       "                       score\n",
       "Data analytics             5\n",
       "Project management         4\n",
       "Operations management      1\n",
       "Supply chain               1\n",
       "Quality/Six Sigma          0\n",
       "Healthcare                 0"
      ]
     },
     "execution_count": 52,
     "metadata": {},
     "output_type": "execute_result"
    }
   ],
   "source": [
    "# Create a data frame with the scores summary\n",
    "summary = pd.DataFrame(scores,index=terms.keys(),columns=['score']).sort_values(by='score',ascending=False)\n",
    "summary"
   ]
  },
  {
   "cell_type": "code",
   "execution_count": 55,
   "id": "88f471c5",
   "metadata": {},
   "outputs": [
    {
     "data": {
      "image/png": "[encoded data removed]",
      "text/plain": [
       "<Figure size 720x720 with 1 Axes>"
      ]
     },
     "metadata": {},
     "output_type": "display_data"
    }
   ],
   "source": [
    "\n",
    "# Create pie chart visualization\n",
    "pie = plt.figure(figsize=(10,10))\n",
    "plt.pie(summary['score'], labels=summary.index, explode = (0.1,0,0,0,0,0), autopct='%1.0f%%',shadow=True,startangle=90)\n",
    "plt.title('Industrial Engineering Candidate - Resume Decomposition by Areas')\n",
    "plt.axis('equal')\n",
    "plt.show()\n",
    "\n",
    "# Save pie chart as a .png file\n",
    "pie.savefig('resume_screening_results.png')"
   ]
  },
  {
   "cell_type": "code",
   "execution_count": null,
   "id": "9ed65fbb",
   "metadata": {},
   "outputs": [],
   "source": []
  }
 ],
 "metadata": {
  "kernelspec": {
   "display_name": "Python 3",
   "language": "python",
   "name": "python3"
  },
  "language_info": {
   "codemirror_mode": {
    "name": "ipython",
    "version": 3
   },
   "file_extension": ".py",
   "mimetype": "text/x-python",
   "name": "python",
   "nbconvert_exporter": "python",
   "pygments_lexer": "ipython3",
   "version": "3.8.8"
  }
 },
 "nbformat": 4,
 "nbformat_minor": 5
}
