{
 "cells": [
  {
   "cell_type": "code",
   "execution_count": 193,
   "id": "b0724503",
   "metadata": {},
   "outputs": [],
   "source": [
    "import os\n",
    "import docx2txt\n",
    "import glob\n",
    "import pandas as pd  \n",
    "from pdfminer.high_level import extract_text\n",
    "import os, subprocess\n",
    "import re\n",
    "import string"
   ]
  },
  {
   "cell_type": "markdown",
   "id": "54c244dd",
   "metadata": {},
   "source": [
    "### Reading all resumes"
   ]
  },
  {
   "cell_type": "code",
   "execution_count": 259,
   "id": "6cdf56f9",
   "metadata": {
    "scrolled": true
   },
   "outputs": [
    {
     "name": "stdout",
     "output_type": "stream",
     "text": [
      "71\n"
     ]
    }
   ],
   "source": [
    "\n",
    "resume = []\n",
    "file_name = []\n",
    "for file in glob.glob(r'/Users/vp054179/Downloads/Resumes/5_Resumes/*'):\n",
    "    resume_name = file[file.rfind('/')+1:]\n",
    "   \n",
    "    if resume_name.endswith('.docx'):\n",
    "        try:\n",
    "            resume.append(docx2txt.process(file))\n",
    "            file_name.append(resume_name)\n",
    "        except:\n",
    "              print(file)\n",
    "        \n",
    "    if resume_name.endswith(\".pdf\"):\n",
    "        text = extract_text(file)\n",
    "        resume.append(text)\n",
    "        file_name.append(resume_name)\n",
    "        \n",
    "    if resume_name.endswith(\".doc\"):\n",
    "        file = open(file, 'r', encoding=\"ISO-8859-1\")\n",
    "        text = str(file.read())\n",
    "        text = re.sub(r'[^\\x00-\\x7f]',r'', text) \n",
    "        text = re.sub('[^a-zA-Z]',' ', text)\n",
    "        text = ' '.join(word for word in text.split() if len(word)>2)\n",
    "        resume.append(text)\n",
    "        file_name.append(resume_name)\n",
    "        file.close()\n",
    "        \n",
    "        \n",
    "print(len(resume))    \n",
    "\n",
    "        \n",
    "    \n",
    "  "
   ]
  },
  {
   "cell_type": "code",
   "execution_count": 265,
   "id": "eb5e3d6d",
   "metadata": {
    "scrolled": true
   },
   "outputs": [],
   "source": [
    "\n",
    "# text = \"\"\n",
    "\n",
    "# for file in glob.glob(r'/Users/vp054179/Downloads/Resumes/5_Resumes/*'):\n",
    "#     resume_name = file[file.rfind('/')+1:]\n",
    "#     if resume_name.endswith(\".doc\"):\n",
    "#         file = open(file, 'r', encoding=\"ISO-8859-1\")\n",
    "#         text = str(file.read())\n",
    "#         text = re.sub(r'[^\\x00-\\x7f]',r'', text) \n",
    "#         text = re.sub('[^a-zA-Z]',' ', text)\n",
    "#         text = ' '.join(word for word in text.split() if len(word)>2)\n",
    "#         resume.append(text)\n",
    "#         file_name.append(resume_name)\n",
    "#         file.close()\n",
    "#         break\n",
    "# print(text)"
   ]
  },
  {
   "cell_type": "code",
   "execution_count": 261,
   "id": "e655a412",
   "metadata": {
    "scrolled": true
   },
   "outputs": [
    {
     "data": {
      "text/plain": [
       "71"
      ]
     },
     "execution_count": 261,
     "metadata": {},
     "output_type": "execute_result"
    }
   ],
   "source": [
    "len(resume)"
   ]
  },
  {
   "cell_type": "markdown",
   "id": "b38f3dfa",
   "metadata": {},
   "source": [
    "### creating a dataframe"
   ]
  },
  {
   "cell_type": "code",
   "execution_count": 262,
   "id": "2d16f219",
   "metadata": {},
   "outputs": [
    {
     "data": {
      "text/html": [
       "<div>\n",
       "<style scoped>\n",
       "    .dataframe tbody tr th:only-of-type {\n",
       "        vertical-align: middle;\n",
       "    }\n",
       "\n",
       "    .dataframe tbody tr th {\n",
       "        vertical-align: top;\n",
       "    }\n",
       "\n",
       "    .dataframe thead th {\n",
       "        text-align: right;\n",
       "    }\n",
       "</style>\n",
       "<table border=\"1\" class=\"dataframe\">\n",
       "  <thead>\n",
       "    <tr style=\"text-align: right;\">\n",
       "      <th></th>\n",
       "      <th>resume_name</th>\n",
       "      <th>resume_description</th>\n",
       "    </tr>\n",
       "  </thead>\n",
       "  <tbody>\n",
       "    <tr>\n",
       "      <th>0</th>\n",
       "      <td>Reactjs Developer_Ranga Gaganam_Musquare Techn...</td>\n",
       "      <td>Ranga Gaganam  \\n\\n\\n\\n \\n\\nProfessional\\n\\n \\...</td>\n",
       "    </tr>\n",
       "    <tr>\n",
       "      <th>1</th>\n",
       "      <td>Peoplesoft Admin_Vinod Akkala.doc</td>\n",
       "      <td>bjbjb Vinod Akkala PeopleSoft DBA Admin Profes...</td>\n",
       "    </tr>\n",
       "    <tr>\n",
       "      <th>2</th>\n",
       "      <td>Hima Mendu_Hexaware.doc</td>\n",
       "      <td>bjbjb HIMA MENDU Career Objective continue gro...</td>\n",
       "    </tr>\n",
       "    <tr>\n",
       "      <th>3</th>\n",
       "      <td>MooraboyinaGuravaiah_Hexaware.docx</td>\n",
       "      <td>Mooraboyina Guravaiah\\n\\nWorkday Integration S...</td>\n",
       "    </tr>\n",
       "    <tr>\n",
       "      <th>4</th>\n",
       "      <td>RameshP_Hexaware.docx</td>\n",
       "      <td>Ramesh A\\t\\t\\t\\t\\t\\t\\t\\t\\t\\t\\t\\t\\t\\t\\t\\t\\t\\t\\t...</td>\n",
       "    </tr>\n",
       "  </tbody>\n",
       "</table>\n",
       "</div>"
      ],
      "text/plain": [
       "                                         resume_name  \\\n",
       "0  Reactjs Developer_Ranga Gaganam_Musquare Techn...   \n",
       "1                  Peoplesoft Admin_Vinod Akkala.doc   \n",
       "2                            Hima Mendu_Hexaware.doc   \n",
       "3                 MooraboyinaGuravaiah_Hexaware.docx   \n",
       "4                              RameshP_Hexaware.docx   \n",
       "\n",
       "                                  resume_description  \n",
       "0  Ranga Gaganam  \\n\\n\\n\\n \\n\\nProfessional\\n\\n \\...  \n",
       "1  bjbjb Vinod Akkala PeopleSoft DBA Admin Profes...  \n",
       "2  bjbjb HIMA MENDU Career Objective continue gro...  \n",
       "3  Mooraboyina Guravaiah\\n\\nWorkday Integration S...  \n",
       "4  Ramesh A\\t\\t\\t\\t\\t\\t\\t\\t\\t\\t\\t\\t\\t\\t\\t\\t\\t\\t\\t...  "
      ]
     },
     "execution_count": 262,
     "metadata": {},
     "output_type": "execute_result"
    }
   ],
   "source": [
    "resumes_data = pd.DataFrame({'resume_name':file_name,'resume_description':resume})\n",
    "resumes_data.head()\n"
   ]
  },
  {
   "cell_type": "code",
   "execution_count": 263,
   "id": "a9a7b136",
   "metadata": {},
   "outputs": [
    {
     "data": {
      "text/html": [
       "<div>\n",
       "<style scoped>\n",
       "    .dataframe tbody tr th:only-of-type {\n",
       "        vertical-align: middle;\n",
       "    }\n",
       "\n",
       "    .dataframe tbody tr th {\n",
       "        vertical-align: top;\n",
       "    }\n",
       "\n",
       "    .dataframe thead th {\n",
       "        text-align: right;\n",
       "    }\n",
       "</style>\n",
       "<table border=\"1\" class=\"dataframe\">\n",
       "  <thead>\n",
       "    <tr style=\"text-align: right;\">\n",
       "      <th></th>\n",
       "      <th>resume_name</th>\n",
       "      <th>resume_description</th>\n",
       "    </tr>\n",
       "  </thead>\n",
       "  <tbody>\n",
       "    <tr>\n",
       "      <th>0</th>\n",
       "      <td>Reactjs Developer_Ranga Gaganam_Musquare Techn...</td>\n",
       "      <td>Ranga Gaganam Professional Summary Professiona...</td>\n",
       "    </tr>\n",
       "    <tr>\n",
       "      <th>1</th>\n",
       "      <td>Peoplesoft Admin_Vinod Akkala.doc</td>\n",
       "      <td>bjbjb Vinod Akkala PeopleSoft DBA Admin Profes...</td>\n",
       "    </tr>\n",
       "    <tr>\n",
       "      <th>2</th>\n",
       "      <td>Hima Mendu_Hexaware.doc</td>\n",
       "      <td>bjbjb HIMA MENDU Career Objective continue gro...</td>\n",
       "    </tr>\n",
       "    <tr>\n",
       "      <th>3</th>\n",
       "      <td>MooraboyinaGuravaiah_Hexaware.docx</td>\n",
       "      <td>Mooraboyina Guravaiah Workday Integration Spec...</td>\n",
       "    </tr>\n",
       "    <tr>\n",
       "      <th>4</th>\n",
       "      <td>RameshP_Hexaware.docx</td>\n",
       "      <td>Ramesh A Workday HCM Consultant PROFESSIONAL S...</td>\n",
       "    </tr>\n",
       "  </tbody>\n",
       "</table>\n",
       "</div>"
      ],
      "text/plain": [
       "                                         resume_name  \\\n",
       "0  Reactjs Developer_Ranga Gaganam_Musquare Techn...   \n",
       "1                  Peoplesoft Admin_Vinod Akkala.doc   \n",
       "2                            Hima Mendu_Hexaware.doc   \n",
       "3                 MooraboyinaGuravaiah_Hexaware.docx   \n",
       "4                              RameshP_Hexaware.docx   \n",
       "\n",
       "                                  resume_description  \n",
       "0  Ranga Gaganam Professional Summary Professiona...  \n",
       "1  bjbjb Vinod Akkala PeopleSoft DBA Admin Profes...  \n",
       "2  bjbjb HIMA MENDU Career Objective continue gro...  \n",
       "3  Mooraboyina Guravaiah Workday Integration Spec...  \n",
       "4  Ramesh A Workday HCM Consultant PROFESSIONAL S...  "
      ]
     },
     "execution_count": 263,
     "metadata": {},
     "output_type": "execute_result"
    }
   ],
   "source": [
    "#processing text\n",
    "resumes_data['resume_description'].replace({r'[^a-zA-Z]+':' '}, regex = True, inplace = True)\n",
    "\n",
    "resumes_data.head()"
   ]
  },
  {
   "cell_type": "code",
   "execution_count": 264,
   "id": "1494198f",
   "metadata": {},
   "outputs": [],
   "source": [
    "resumes_data.to_csv('resumes_data.csv')"
   ]
  }
 ],
 "metadata": {
  "kernelspec": {
   "display_name": "Python 3",
   "language": "python",
   "name": "python3"
  },
  "language_info": {
   "codemirror_mode": {
    "name": "ipython",
    "version": 3
   },
   "file_extension": ".py",
   "mimetype": "text/x-python",
   "name": "python",
   "nbconvert_exporter": "python",
   "pygments_lexer": "ipython3",
   "version": "3.8.8"
  }
 },
 "nbformat": 4,
 "nbformat_minor": 5
}
