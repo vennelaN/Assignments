{
 "cells": [
  {
   "cell_type": "code",
   "execution_count": 9,
   "id": "630f08da",
   "metadata": {},
   "outputs": [],
   "source": [
    "import pandas as pd\n",
    "from sklearn.linear_model import Ridge, Lasso, LogisticRegression\n",
    "from sklearn.preprocessing import StandardScaler\n",
    "import numpy as np\n",
    "import warnings\n",
    "warnings.filterwarnings('ignore')"
   ]
  },
  {
   "cell_type": "code",
   "execution_count": 4,
   "id": "9708f143",
   "metadata": {},
   "outputs": [
    {
     "data": {
      "text/html": [
       "<div>\n",
       "<style scoped>\n",
       "    .dataframe tbody tr th:only-of-type {\n",
       "        vertical-align: middle;\n",
       "    }\n",
       "\n",
       "    .dataframe tbody tr th {\n",
       "        vertical-align: top;\n",
       "    }\n",
       "\n",
       "    .dataframe thead th {\n",
       "        text-align: right;\n",
       "    }\n",
       "</style>\n",
       "<table border=\"1\" class=\"dataframe\">\n",
       "  <thead>\n",
       "    <tr style=\"text-align: right;\">\n",
       "      <th></th>\n",
       "      <th>R&amp;D Spend</th>\n",
       "      <th>Administration</th>\n",
       "      <th>Marketing Spend</th>\n",
       "      <th>State</th>\n",
       "      <th>Profit</th>\n",
       "    </tr>\n",
       "  </thead>\n",
       "  <tbody>\n",
       "    <tr>\n",
       "      <th>0</th>\n",
       "      <td>165349.20</td>\n",
       "      <td>136897.80</td>\n",
       "      <td>471784.10</td>\n",
       "      <td>New York</td>\n",
       "      <td>192261.83</td>\n",
       "    </tr>\n",
       "    <tr>\n",
       "      <th>1</th>\n",
       "      <td>162597.70</td>\n",
       "      <td>151377.59</td>\n",
       "      <td>443898.53</td>\n",
       "      <td>California</td>\n",
       "      <td>191792.06</td>\n",
       "    </tr>\n",
       "    <tr>\n",
       "      <th>2</th>\n",
       "      <td>153441.51</td>\n",
       "      <td>101145.55</td>\n",
       "      <td>407934.54</td>\n",
       "      <td>Florida</td>\n",
       "      <td>191050.39</td>\n",
       "    </tr>\n",
       "    <tr>\n",
       "      <th>3</th>\n",
       "      <td>144372.41</td>\n",
       "      <td>118671.85</td>\n",
       "      <td>383199.62</td>\n",
       "      <td>New York</td>\n",
       "      <td>182901.99</td>\n",
       "    </tr>\n",
       "    <tr>\n",
       "      <th>4</th>\n",
       "      <td>142107.34</td>\n",
       "      <td>91391.77</td>\n",
       "      <td>366168.42</td>\n",
       "      <td>Florida</td>\n",
       "      <td>166187.94</td>\n",
       "    </tr>\n",
       "  </tbody>\n",
       "</table>\n",
       "</div>"
      ],
      "text/plain": [
       "   R&D Spend  Administration  Marketing Spend       State     Profit\n",
       "0  165349.20       136897.80        471784.10    New York  192261.83\n",
       "1  162597.70       151377.59        443898.53  California  191792.06\n",
       "2  153441.51       101145.55        407934.54     Florida  191050.39\n",
       "3  144372.41       118671.85        383199.62    New York  182901.99\n",
       "4  142107.34        91391.77        366168.42     Florida  166187.94"
      ]
     },
     "execution_count": 4,
     "metadata": {},
     "output_type": "execute_result"
    }
   ],
   "source": [
    "data_regression = pd.read_csv('../../Exlr_Assignments/Datasets/50_Startups.csv')\n",
    "data_regression.head()"
   ]
  },
  {
   "cell_type": "code",
   "execution_count": 5,
   "id": "98f5a1b3",
   "metadata": {},
   "outputs": [],
   "source": [
    "y_reg = data_regression['Profit']\n",
    "X_category_reg = data_regression.iloc[:,-2]\n",
    "X_numeric_reg = data_regression.iloc[:,:-2]"
   ]
  },
  {
   "cell_type": "markdown",
   "id": "804e71d8",
   "metadata": {},
   "source": [
    "## 1.Embded techniques for feature slection"
   ]
  },
  {
   "cell_type": "code",
   "execution_count": 7,
   "id": "f8d2b8dd",
   "metadata": {},
   "outputs": [],
   "source": [
    "def get_embedded_report(X_numeric, X_category, y, estimator):\n",
    "    \n",
    "    # First normalize our predictors\n",
    "    X_numeric_scaled = StandardScaler().fit_transform(X_numeric)\n",
    "    y_scaled     = StandardScaler().fit_transform(y.values.reshape(-1,1))\n",
    "    # Save the columns name into variable named 'features'\n",
    "    X_category_dummies = pd.get_dummies(X_category)\n",
    "    features = list(X_numeric_reg.columns) + list(X_category_dummies.columns)\n",
    "        # Fit the regressor\n",
    "    X = np.concatenate([X_numeric_scaled, X_category_dummies.values], axis=1)\n",
    "\n",
    "    model = estimator.fit(X, y_scaled)\n",
    "    try:\n",
    "        c = model.coef_\n",
    "    except:\n",
    "        c = model.feature_importances_\n",
    "    finally:\n",
    "        return c, features"
   ]
  },
  {
   "cell_type": "markdown",
   "id": "fc240491",
   "metadata": {},
   "source": [
    "### 1.1.Feature selection using Regularization lasso technique"
   ]
  },
  {
   "cell_type": "code",
   "execution_count": 10,
   "id": "2f2e0e6a",
   "metadata": {},
   "outputs": [
    {
     "data": {
      "text/plain": [
       "[('R&D Spend', 0.849256095682484),\n",
       " ('Administration', -0.0),\n",
       " ('Marketing Spend', 0.032693579958810816),\n",
       " ('California', -0.0),\n",
       " ('Florida', 0.0),\n",
       " ('New York', -0.0)]"
      ]
     },
     "execution_count": 10,
     "metadata": {},
     "output_type": "execute_result"
    }
   ],
   "source": [
    "# Using L1-regularization\n",
    "coef, features = get_embedded_report(X_numeric_reg, X_category_reg, y_reg, Lasso(alpha=0.1))\n",
    "list(zip(features,coef))"
   ]
  },
  {
   "cell_type": "markdown",
   "id": "ae269b12",
   "metadata": {},
   "source": [
    "##### Administration and state seems to be less significant"
   ]
  },
  {
   "cell_type": "markdown",
   "id": "53049bdd",
   "metadata": {},
   "source": [
    "### 1.2.Feature selection using Regularization Ridge technique"
   ]
  },
  {
   "cell_type": "code",
   "execution_count": 11,
   "id": "030b79a4",
   "metadata": {},
   "outputs": [
    {
     "data": {
      "text/plain": [
       "[('R&D Spend', 0.8780288777147082),\n",
       " ('Administration', -0.008085007680925026),\n",
       " ('Marketing Spend', 0.10909503223068648),\n",
       " ('California', -0.0024425845607658667),\n",
       " ('Florida', 0.001444242340860628),\n",
       " ('New York', 0.00099834221990486)]"
      ]
     },
     "execution_count": 11,
     "metadata": {},
     "output_type": "execute_result"
    }
   ],
   "source": [
    "# Using L2-regularization\n",
    "coef, features = get_embedded_report(X_numeric_reg, X_category_reg, y_reg, Ridge())\n",
    "list(zip(features,coef[0]))"
   ]
  },
  {
   "cell_type": "markdown",
   "id": "ec29896b",
   "metadata": {},
   "source": [
    "### 1.3.Feature selection using Regularization DecisionTreeRegressor technique"
   ]
  },
  {
   "cell_type": "code",
   "execution_count": 12,
   "id": "92d8d835",
   "metadata": {},
   "outputs": [
    {
     "data": {
      "text/plain": [
       "[('R&D Spend', 0.9706854751075797),\n",
       " ('Administration', 0.00341762292952448),\n",
       " ('Marketing Spend', 0.019931677536507417),\n",
       " ('California', 0.0009344318230540478),\n",
       " ('Florida', 0.0046524953528572595),\n",
       " ('New York', 0.0003782972504769403)]"
      ]
     },
     "execution_count": 12,
     "metadata": {},
     "output_type": "execute_result"
    }
   ],
   "source": [
    "# Using feature_importances_'s DecisionTree\n",
    "from sklearn.tree import DecisionTreeRegressor\n",
    "\n",
    "coef, features = get_embedded_report(X_numeric_reg, X_category_reg, y_reg, DecisionTreeRegressor())\n",
    "list(zip(features,coef))"
   ]
  },
  {
   "cell_type": "markdown",
   "id": "a51bf438",
   "metadata": {},
   "source": [
    "### in all these method the feature will less value can be dropped to improve the performance i.e Administration and State"
   ]
  }
 ],
 "metadata": {
  "kernelspec": {
   "display_name": "Python 3",
   "language": "python",
   "name": "python3"
  },
  "language_info": {
   "codemirror_mode": {
    "name": "ipython",
    "version": 3
   },
   "file_extension": ".py",
   "mimetype": "text/x-python",
   "name": "python",
   "nbconvert_exporter": "python",
   "pygments_lexer": "ipython3",
   "version": "3.8.8"
  }
 },
 "nbformat": 4,
 "nbformat_minor": 5
}
