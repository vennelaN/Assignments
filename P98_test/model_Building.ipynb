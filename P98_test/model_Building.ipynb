{
 "cells": [
  {
   "cell_type": "code",
   "execution_count": 154,
   "id": "f6dbb4a0",
   "metadata": {},
   "outputs": [],
   "source": [
    "import pandas as pd\n",
    "from datetime import date,datetime\n",
    "import matplotlib.pyplot as plt\n",
    "import seaborn as sns\n",
    "import warnings\n",
    "warnings.filterwarnings('ignore')\n",
    "from sklearn.preprocessing import LabelEncoder,StandardScaler\n",
    "from sklearn.model_selection import train_test_split\n",
    "from sklearn.ensemble import GradientBoostingRegressor\n",
    "from sklearn.model_selection import GridSearchCV\n",
    "from sklearn.metrics import mean_absolute_error"
   ]
  },
  {
   "cell_type": "code",
   "execution_count": 123,
   "id": "d6bb2ac9",
   "metadata": {},
   "outputs": [],
   "source": [
    "data = pd.read_csv('../Carsvago_cleaned_data.csv')\n"
   ]
  },
  {
   "cell_type": "code",
   "execution_count": 124,
   "id": "4e2c6ec9",
   "metadata": {},
   "outputs": [
    {
     "data": {
      "text/plain": [
       "(9930, 12)"
      ]
     },
     "execution_count": 124,
     "metadata": {},
     "output_type": "execute_result"
    }
   ],
   "source": [
    "data.shape"
   ]
  },
  {
   "cell_type": "code",
   "execution_count": 125,
   "id": "ca0967ad",
   "metadata": {
    "scrolled": false
   },
   "outputs": [
    {
     "data": {
      "text/plain": [
       "Unnamed: 0            0\n",
       "Car_Name              0\n",
       "Kms_driven            0\n",
       "First_registration    0\n",
       "Power                 0\n",
       "Transmission          0\n",
       "Fuel_type             0\n",
       "Vendor                0\n",
       "Location              0\n",
       "Price_Euro            0\n",
       "Drive_type            0\n",
       "features_score        0\n",
       "dtype: int64"
      ]
     },
     "execution_count": 125,
     "metadata": {},
     "output_type": "execute_result"
    }
   ],
   "source": [
    "data.isna().sum()"
   ]
  },
  {
   "cell_type": "code",
   "execution_count": 126,
   "id": "f0e966a1",
   "metadata": {},
   "outputs": [],
   "source": [
    "data.reset_index(inplace=True)"
   ]
  },
  {
   "cell_type": "code",
   "execution_count": 89,
   "id": "3dde1638",
   "metadata": {
    "scrolled": true
   },
   "outputs": [
    {
     "data": {
      "text/html": [
       "<div>\n",
       "<style scoped>\n",
       "    .dataframe tbody tr th:only-of-type {\n",
       "        vertical-align: middle;\n",
       "    }\n",
       "\n",
       "    .dataframe tbody tr th {\n",
       "        vertical-align: top;\n",
       "    }\n",
       "\n",
       "    .dataframe thead th {\n",
       "        text-align: right;\n",
       "    }\n",
       "</style>\n",
       "<table border=\"1\" class=\"dataframe\">\n",
       "  <thead>\n",
       "    <tr style=\"text-align: right;\">\n",
       "      <th></th>\n",
       "      <th>index</th>\n",
       "      <th>Unnamed: 0</th>\n",
       "      <th>Car_Name</th>\n",
       "      <th>Kms_driven</th>\n",
       "      <th>First_registration</th>\n",
       "      <th>Power</th>\n",
       "      <th>Transmission</th>\n",
       "      <th>Fuel_type</th>\n",
       "      <th>Vendor</th>\n",
       "      <th>Location</th>\n",
       "      <th>Price_Euro</th>\n",
       "      <th>Drive_type</th>\n",
       "      <th>features_score</th>\n",
       "    </tr>\n",
       "  </thead>\n",
       "  <tbody>\n",
       "    <tr>\n",
       "      <th>0</th>\n",
       "      <td>0</td>\n",
       "      <td>0</td>\n",
       "      <td>BMW 520 d 140 kW</td>\n",
       "      <td>32125.0</td>\n",
       "      <td>2019-01-01</td>\n",
       "      <td>140</td>\n",
       "      <td>Automatic</td>\n",
       "      <td>Diesel</td>\n",
       "      <td>Dealership</td>\n",
       "      <td>Germany</td>\n",
       "      <td>32899.0</td>\n",
       "      <td>2x4</td>\n",
       "      <td>2</td>\n",
       "    </tr>\n",
       "    <tr>\n",
       "      <th>1</th>\n",
       "      <td>1</td>\n",
       "      <td>1</td>\n",
       "      <td>Kia Sorento 2.2 CRDi AWD 147 kW</td>\n",
       "      <td>63400.0</td>\n",
       "      <td>2018-07-01</td>\n",
       "      <td>147</td>\n",
       "      <td>Automatic</td>\n",
       "      <td>Diesel</td>\n",
       "      <td>Dealership</td>\n",
       "      <td>Germany</td>\n",
       "      <td>34649.0</td>\n",
       "      <td>4x4</td>\n",
       "      <td>2</td>\n",
       "    </tr>\n",
       "    <tr>\n",
       "      <th>2</th>\n",
       "      <td>2</td>\n",
       "      <td>2</td>\n",
       "      <td>Opel Grandland X 147 kW</td>\n",
       "      <td>2700.0</td>\n",
       "      <td>2020-06-01</td>\n",
       "      <td>147</td>\n",
       "      <td>Automatic</td>\n",
       "      <td>Hybrid</td>\n",
       "      <td>Dealership</td>\n",
       "      <td>Italy</td>\n",
       "      <td>35349.0</td>\n",
       "      <td>4x4</td>\n",
       "      <td>2</td>\n",
       "    </tr>\n",
       "    <tr>\n",
       "      <th>3</th>\n",
       "      <td>3</td>\n",
       "      <td>3</td>\n",
       "      <td>BMW 320 d 140 kW</td>\n",
       "      <td>26145.0</td>\n",
       "      <td>2021-03-01</td>\n",
       "      <td>140</td>\n",
       "      <td>Automatic</td>\n",
       "      <td>Diesel</td>\n",
       "      <td>Dealership</td>\n",
       "      <td>Germany</td>\n",
       "      <td>39349.0</td>\n",
       "      <td>2x4</td>\n",
       "      <td>2</td>\n",
       "    </tr>\n",
       "    <tr>\n",
       "      <th>4</th>\n",
       "      <td>4</td>\n",
       "      <td>4</td>\n",
       "      <td>BMW 320 d Sport Line 140 kW</td>\n",
       "      <td>28199.0</td>\n",
       "      <td>2021-02-01</td>\n",
       "      <td>140</td>\n",
       "      <td>Automatic</td>\n",
       "      <td>Diesel</td>\n",
       "      <td>Dealership</td>\n",
       "      <td>Germany</td>\n",
       "      <td>40099.0</td>\n",
       "      <td>2x4</td>\n",
       "      <td>2</td>\n",
       "    </tr>\n",
       "    <tr>\n",
       "      <th>...</th>\n",
       "      <td>...</td>\n",
       "      <td>...</td>\n",
       "      <td>...</td>\n",
       "      <td>...</td>\n",
       "      <td>...</td>\n",
       "      <td>...</td>\n",
       "      <td>...</td>\n",
       "      <td>...</td>\n",
       "      <td>...</td>\n",
       "      <td>...</td>\n",
       "      <td>...</td>\n",
       "      <td>...</td>\n",
       "      <td>...</td>\n",
       "    </tr>\n",
       "    <tr>\n",
       "      <th>9925</th>\n",
       "      <td>9925</td>\n",
       "      <td>10014</td>\n",
       "      <td>BMW 340 Gran Turismo i 240 kW</td>\n",
       "      <td>47800.0</td>\n",
       "      <td>2018-11-01</td>\n",
       "      <td>240</td>\n",
       "      <td>Automatic</td>\n",
       "      <td>Petrol</td>\n",
       "      <td>Dealership</td>\n",
       "      <td>Germany</td>\n",
       "      <td>37249.0</td>\n",
       "      <td>2x4</td>\n",
       "      <td>3</td>\n",
       "    </tr>\n",
       "    <tr>\n",
       "      <th>9926</th>\n",
       "      <td>9926</td>\n",
       "      <td>10015</td>\n",
       "      <td>Volvo V60 Momentum Pro 120 kW</td>\n",
       "      <td>16500.0</td>\n",
       "      <td>2021-04-01</td>\n",
       "      <td>120</td>\n",
       "      <td>Automatic</td>\n",
       "      <td>Petrol</td>\n",
       "      <td>Dealership</td>\n",
       "      <td>Germany</td>\n",
       "      <td>37249.0</td>\n",
       "      <td>2x4</td>\n",
       "      <td>3</td>\n",
       "    </tr>\n",
       "    <tr>\n",
       "      <th>9927</th>\n",
       "      <td>9927</td>\n",
       "      <td>10016</td>\n",
       "      <td>Audi S3 2.0 TFSI Quattro 228 kW</td>\n",
       "      <td>33002.0</td>\n",
       "      <td>2018-07-01</td>\n",
       "      <td>228</td>\n",
       "      <td>Automatic</td>\n",
       "      <td>Petrol</td>\n",
       "      <td>Dealership</td>\n",
       "      <td>Germany</td>\n",
       "      <td>40099.0</td>\n",
       "      <td>4x4</td>\n",
       "      <td>3</td>\n",
       "    </tr>\n",
       "    <tr>\n",
       "      <th>9928</th>\n",
       "      <td>9928</td>\n",
       "      <td>10017</td>\n",
       "      <td>Mercedes-Benz GLC 350 d 4Matic Coupe 190 kW</td>\n",
       "      <td>63000.0</td>\n",
       "      <td>2018-11-01</td>\n",
       "      <td>190</td>\n",
       "      <td>Automatic</td>\n",
       "      <td>Diesel</td>\n",
       "      <td>Used cars seller</td>\n",
       "      <td>Germany</td>\n",
       "      <td>42549.0</td>\n",
       "      <td>4x4</td>\n",
       "      <td>3</td>\n",
       "    </tr>\n",
       "    <tr>\n",
       "      <th>9929</th>\n",
       "      <td>9929</td>\n",
       "      <td>10018</td>\n",
       "      <td>Audi A4 40 TDI S advanced 140 kW</td>\n",
       "      <td>25690.0</td>\n",
       "      <td>2021-02-01</td>\n",
       "      <td>140</td>\n",
       "      <td>Automatic</td>\n",
       "      <td>Diesel</td>\n",
       "      <td>Dealership</td>\n",
       "      <td>Germany</td>\n",
       "      <td>44049.0</td>\n",
       "      <td>2x4</td>\n",
       "      <td>2</td>\n",
       "    </tr>\n",
       "  </tbody>\n",
       "</table>\n",
       "<p>9930 rows × 13 columns</p>\n",
       "</div>"
      ],
      "text/plain": [
       "      index  Unnamed: 0                                     Car_Name  \\\n",
       "0         0           0                             BMW 520 d 140 kW   \n",
       "1         1           1              Kia Sorento 2.2 CRDi AWD 147 kW   \n",
       "2         2           2                      Opel Grandland X 147 kW   \n",
       "3         3           3                             BMW 320 d 140 kW   \n",
       "4         4           4                  BMW 320 d Sport Line 140 kW   \n",
       "...     ...         ...                                          ...   \n",
       "9925   9925       10014                BMW 340 Gran Turismo i 240 kW   \n",
       "9926   9926       10015                Volvo V60 Momentum Pro 120 kW   \n",
       "9927   9927       10016              Audi S3 2.0 TFSI Quattro 228 kW   \n",
       "9928   9928       10017  Mercedes-Benz GLC 350 d 4Matic Coupe 190 kW   \n",
       "9929   9929       10018             Audi A4 40 TDI S advanced 140 kW   \n",
       "\n",
       "      Kms_driven First_registration  Power Transmission Fuel_type  \\\n",
       "0        32125.0         2019-01-01    140    Automatic    Diesel   \n",
       "1        63400.0         2018-07-01    147    Automatic    Diesel   \n",
       "2         2700.0         2020-06-01    147    Automatic    Hybrid   \n",
       "3        26145.0         2021-03-01    140    Automatic    Diesel   \n",
       "4        28199.0         2021-02-01    140    Automatic    Diesel   \n",
       "...          ...                ...    ...          ...       ...   \n",
       "9925     47800.0         2018-11-01    240    Automatic    Petrol   \n",
       "9926     16500.0         2021-04-01    120    Automatic    Petrol   \n",
       "9927     33002.0         2018-07-01    228    Automatic    Petrol   \n",
       "9928     63000.0         2018-11-01    190    Automatic    Diesel   \n",
       "9929     25690.0         2021-02-01    140    Automatic    Diesel   \n",
       "\n",
       "                Vendor Location  Price_Euro Drive_type  features_score  \n",
       "0           Dealership  Germany     32899.0        2x4               2  \n",
       "1           Dealership  Germany     34649.0        4x4               2  \n",
       "2           Dealership    Italy     35349.0        4x4               2  \n",
       "3           Dealership  Germany     39349.0        2x4               2  \n",
       "4           Dealership  Germany     40099.0        2x4               2  \n",
       "...                ...      ...         ...        ...             ...  \n",
       "9925        Dealership  Germany     37249.0        2x4               3  \n",
       "9926        Dealership  Germany     37249.0        2x4               3  \n",
       "9927        Dealership  Germany     40099.0        4x4               3  \n",
       "9928  Used cars seller  Germany     42549.0        4x4               3  \n",
       "9929        Dealership  Germany     44049.0        2x4               2  \n",
       "\n",
       "[9930 rows x 13 columns]"
      ]
     },
     "execution_count": 89,
     "metadata": {},
     "output_type": "execute_result"
    }
   ],
   "source": [
    "data"
   ]
  },
  {
   "cell_type": "code",
   "execution_count": 127,
   "id": "200f85f3",
   "metadata": {},
   "outputs": [],
   "source": [
    "del data['Unnamed: 0']"
   ]
  },
  {
   "cell_type": "code",
   "execution_count": 91,
   "id": "afcb2803",
   "metadata": {},
   "outputs": [
    {
     "data": {
      "text/plain": [
       "index                   int64\n",
       "Car_Name               object\n",
       "Kms_driven            float64\n",
       "First_registration     object\n",
       "Power                   int64\n",
       "Transmission           object\n",
       "Fuel_type              object\n",
       "Vendor                 object\n",
       "Location               object\n",
       "Price_Euro            float64\n",
       "Drive_type             object\n",
       "features_score          int64\n",
       "dtype: object"
      ]
     },
     "execution_count": 91,
     "metadata": {},
     "output_type": "execute_result"
    }
   ],
   "source": [
    "data.dtypes"
   ]
  },
  {
   "cell_type": "code",
   "execution_count": 128,
   "id": "85bd2236",
   "metadata": {},
   "outputs": [],
   "source": [
    "#calculation age\n",
    "today = date.today()\n",
    "data['age'] = 0\n",
    "# today\n",
    "# registered = datetime.strptime('2019-01-01', \"%Y-%m-%d\").date()\n",
    "# age = today.year - registered.year - ((today.month,today.day) < (registered.month,registered.day))\n",
    "# print(age)\n",
    "\n",
    "for i in data.values:\n",
    "        reg_year = datetime.strptime(data.loc[i[0],'First_registration'], \"%Y-%m-%d\").date()\n",
    "        age = today.year - reg_year.year - ((today.month,today.day) < (reg_year.month,reg_year.day))\n",
    "        data.loc[i[0],'age'] = age\n",
    "    \n"
   ]
  },
  {
   "cell_type": "code",
   "execution_count": 93,
   "id": "8b8ae166",
   "metadata": {
    "scrolled": true
   },
   "outputs": [
    {
     "data": {
      "text/html": [
       "<div>\n",
       "<style scoped>\n",
       "    .dataframe tbody tr th:only-of-type {\n",
       "        vertical-align: middle;\n",
       "    }\n",
       "\n",
       "    .dataframe tbody tr th {\n",
       "        vertical-align: top;\n",
       "    }\n",
       "\n",
       "    .dataframe thead th {\n",
       "        text-align: right;\n",
       "    }\n",
       "</style>\n",
       "<table border=\"1\" class=\"dataframe\">\n",
       "  <thead>\n",
       "    <tr style=\"text-align: right;\">\n",
       "      <th></th>\n",
       "      <th>index</th>\n",
       "      <th>Car_Name</th>\n",
       "      <th>Kms_driven</th>\n",
       "      <th>First_registration</th>\n",
       "      <th>Power</th>\n",
       "      <th>Transmission</th>\n",
       "      <th>Fuel_type</th>\n",
       "      <th>Vendor</th>\n",
       "      <th>Location</th>\n",
       "      <th>Price_Euro</th>\n",
       "      <th>Drive_type</th>\n",
       "      <th>features_score</th>\n",
       "      <th>age</th>\n",
       "    </tr>\n",
       "  </thead>\n",
       "  <tbody>\n",
       "    <tr>\n",
       "      <th>0</th>\n",
       "      <td>0</td>\n",
       "      <td>BMW 520 d 140 kW</td>\n",
       "      <td>32125.0</td>\n",
       "      <td>2019-01-01</td>\n",
       "      <td>140</td>\n",
       "      <td>Automatic</td>\n",
       "      <td>Diesel</td>\n",
       "      <td>Dealership</td>\n",
       "      <td>Germany</td>\n",
       "      <td>32899.0</td>\n",
       "      <td>2x4</td>\n",
       "      <td>2</td>\n",
       "      <td>3</td>\n",
       "    </tr>\n",
       "    <tr>\n",
       "      <th>1</th>\n",
       "      <td>1</td>\n",
       "      <td>Kia Sorento 2.2 CRDi AWD 147 kW</td>\n",
       "      <td>63400.0</td>\n",
       "      <td>2018-07-01</td>\n",
       "      <td>147</td>\n",
       "      <td>Automatic</td>\n",
       "      <td>Diesel</td>\n",
       "      <td>Dealership</td>\n",
       "      <td>Germany</td>\n",
       "      <td>34649.0</td>\n",
       "      <td>4x4</td>\n",
       "      <td>2</td>\n",
       "      <td>3</td>\n",
       "    </tr>\n",
       "    <tr>\n",
       "      <th>2</th>\n",
       "      <td>2</td>\n",
       "      <td>Opel Grandland X 147 kW</td>\n",
       "      <td>2700.0</td>\n",
       "      <td>2020-06-01</td>\n",
       "      <td>147</td>\n",
       "      <td>Automatic</td>\n",
       "      <td>Hybrid</td>\n",
       "      <td>Dealership</td>\n",
       "      <td>Italy</td>\n",
       "      <td>35349.0</td>\n",
       "      <td>4x4</td>\n",
       "      <td>2</td>\n",
       "      <td>1</td>\n",
       "    </tr>\n",
       "    <tr>\n",
       "      <th>3</th>\n",
       "      <td>3</td>\n",
       "      <td>BMW 320 d 140 kW</td>\n",
       "      <td>26145.0</td>\n",
       "      <td>2021-03-01</td>\n",
       "      <td>140</td>\n",
       "      <td>Automatic</td>\n",
       "      <td>Diesel</td>\n",
       "      <td>Dealership</td>\n",
       "      <td>Germany</td>\n",
       "      <td>39349.0</td>\n",
       "      <td>2x4</td>\n",
       "      <td>2</td>\n",
       "      <td>1</td>\n",
       "    </tr>\n",
       "    <tr>\n",
       "      <th>4</th>\n",
       "      <td>4</td>\n",
       "      <td>BMW 320 d Sport Line 140 kW</td>\n",
       "      <td>28199.0</td>\n",
       "      <td>2021-02-01</td>\n",
       "      <td>140</td>\n",
       "      <td>Automatic</td>\n",
       "      <td>Diesel</td>\n",
       "      <td>Dealership</td>\n",
       "      <td>Germany</td>\n",
       "      <td>40099.0</td>\n",
       "      <td>2x4</td>\n",
       "      <td>2</td>\n",
       "      <td>1</td>\n",
       "    </tr>\n",
       "  </tbody>\n",
       "</table>\n",
       "</div>"
      ],
      "text/plain": [
       "   index                         Car_Name  Kms_driven First_registration  \\\n",
       "0      0                 BMW 520 d 140 kW     32125.0         2019-01-01   \n",
       "1      1  Kia Sorento 2.2 CRDi AWD 147 kW     63400.0         2018-07-01   \n",
       "2      2          Opel Grandland X 147 kW      2700.0         2020-06-01   \n",
       "3      3                 BMW 320 d 140 kW     26145.0         2021-03-01   \n",
       "4      4      BMW 320 d Sport Line 140 kW     28199.0         2021-02-01   \n",
       "\n",
       "   Power Transmission Fuel_type      Vendor Location  Price_Euro Drive_type  \\\n",
       "0    140    Automatic    Diesel  Dealership  Germany     32899.0        2x4   \n",
       "1    147    Automatic    Diesel  Dealership  Germany     34649.0        4x4   \n",
       "2    147    Automatic    Hybrid  Dealership    Italy     35349.0        4x4   \n",
       "3    140    Automatic    Diesel  Dealership  Germany     39349.0        2x4   \n",
       "4    140    Automatic    Diesel  Dealership  Germany     40099.0        2x4   \n",
       "\n",
       "   features_score  age  \n",
       "0               2    3  \n",
       "1               2    3  \n",
       "2               2    1  \n",
       "3               2    1  \n",
       "4               2    1  "
      ]
     },
     "execution_count": 93,
     "metadata": {},
     "output_type": "execute_result"
    }
   ],
   "source": [
    "data.head()"
   ]
  },
  {
   "cell_type": "code",
   "execution_count": 129,
   "id": "01cdac57",
   "metadata": {},
   "outputs": [],
   "source": [
    "temp_data = data.drop(labels='First_registration',axis=1)"
   ]
  },
  {
   "cell_type": "markdown",
   "id": "4c481877",
   "metadata": {},
   "source": [
    "## ANALYSING PRICE ATTRIBUTE"
   ]
  },
  {
   "cell_type": "code",
   "execution_count": 95,
   "id": "75b6b68e",
   "metadata": {},
   "outputs": [
    {
     "data": {
      "text/plain": [
       "count      9930.000000\n",
       "mean      32254.886203\n",
       "std       14611.654717\n",
       "min        4049.000000\n",
       "25%       21299.000000\n",
       "50%       30699.000000\n",
       "75%       41799.000000\n",
       "max      264399.000000\n",
       "Name: Price_Euro, dtype: float64"
      ]
     },
     "execution_count": 95,
     "metadata": {},
     "output_type": "execute_result"
    }
   ],
   "source": [
    "temp_data['Price_Euro'].describe()"
   ]
  },
  {
   "cell_type": "code",
   "execution_count": 96,
   "id": "cbd93f32",
   "metadata": {
    "scrolled": true
   },
   "outputs": [
    {
     "name": "stdout",
     "output_type": "stream",
     "text": [
      "Skewness: 1.778600\n",
      "Kurtosis: 15.398815\n"
     ]
    },
    {
     "data": {
      "text/plain": [
       "'\\nWe can observe that the distribution of prices shows a high positive skewness \\nto the left (skew > 1). A kurtosis value of 15 is high, meaning that\\nthere is a profusion of outliers in the dataset. We need to do something.\\n'"
      ]
     },
     "execution_count": 96,
     "metadata": {},
     "output_type": "execute_result"
    },
    {
     "data": {
      "image/png": "[encoded data removed]",
      "text/plain": [
       "<Figure size 432x288 with 1 Axes>"
      ]
     },
     "metadata": {
      "needs_background": "light"
     },
     "output_type": "display_data"
    }
   ],
   "source": [
    "sns.distplot(temp_data['Price_Euro'])\n",
    "#skewness and kurtosis\n",
    "print(\"Skewness: %f\" % temp_data['Price_Euro'].skew())\n",
    "print(\"Kurtosis: %f\" % temp_data['Price_Euro'].kurt())\n",
    "\n",
    "\"\"\"\n",
    "We can observe that the distribution of prices shows a high positive skewness \n",
    "to the left (skew > 1). A kurtosis value of 15 is high, meaning that\n",
    "there is a profusion of outliers in the dataset. We need to do something.\n",
    "\"\"\""
   ]
  },
  {
   "cell_type": "markdown",
   "id": "f8f74ba9",
   "metadata": {},
   "source": [
    "## RELATIONSHIP WITH NUMERICAL FEATURES"
   ]
  },
  {
   "cell_type": "code",
   "execution_count": 97,
   "id": "9cbf341d",
   "metadata": {},
   "outputs": [
    {
     "data": {
      "text/plain": [
       "'\\nWe see that the lesser is the mileage, the higher tends to be the price. \\n'"
      ]
     },
     "execution_count": 97,
     "metadata": {},
     "output_type": "execute_result"
    },
    {
     "data": {
      "image/png": "[encoded data removed]",
      "text/plain": [
       "<Figure size 432x288 with 1 Axes>"
      ]
     },
     "metadata": {
      "needs_background": "light"
     },
     "output_type": "display_data"
    }
   ],
   "source": [
    "# Scatter plot Kms_driven / Price\n",
    "attrib = 'Kms_driven'\n",
    "data = pd.concat([temp_data['Price_Euro'], temp_data[attrib]], axis=1)\n",
    "data.plot.scatter(x=attrib, y='Price_Euro', ylim=(0,450000));\n",
    "\n",
    "\"\"\"\n",
    "We see that the lesser is the mileage, the higher tends to be the price. \n",
    "\"\"\""
   ]
  },
  {
   "cell_type": "code",
   "execution_count": 56,
   "id": "f79f6ba9",
   "metadata": {},
   "outputs": [
    {
     "data": {
      "text/plain": [
       "'\\nPrices tend to be higher as cars are more recent, and viceversa.\\n'"
      ]
     },
     "execution_count": 56,
     "metadata": {},
     "output_type": "execute_result"
    },
    {
     "data": {
      "image/png": "[encoded data removed]",
      "text/plain": [
       "<Figure size 432x288 with 1 Axes>"
      ]
     },
     "metadata": {
      "needs_background": "light"
     },
     "output_type": "display_data"
    }
   ],
   "source": [
    "# Scatter plot age / Price\n",
    "attrib = 'age'\n",
    "data = pd.concat([temp_data['Price_Euro'], temp_data[attrib]], axis=1)\n",
    "data.plot.scatter(x=attrib, y='Price_Euro', ylim=(0,450000));\n",
    "\n",
    "\"\"\"\n",
    "Prices tend to be higher as cars are more recent, and viceversa.\n",
    "\"\"\""
   ]
  },
  {
   "cell_type": "code",
   "execution_count": 57,
   "id": "21b5cb1a",
   "metadata": {},
   "outputs": [
    {
     "data": {
      "text/plain": [
       "'\\nPrices tend to be higher as cars are more recent, and viceversa.\\n'"
      ]
     },
     "execution_count": 57,
     "metadata": {},
     "output_type": "execute_result"
    },
    {
     "data": {
      "image/png": "[encoded data removed]",
      "text/plain": [
       "<Figure size 432x288 with 1 Axes>"
      ]
     },
     "metadata": {
      "needs_background": "light"
     },
     "output_type": "display_data"
    }
   ],
   "source": [
    "# Scatter plot power / Price\n",
    "attrib = 'Power'\n",
    "data = pd.concat([temp_data['Price_Euro'], temp_data[attrib]], axis=1)\n",
    "data.plot.scatter(x=attrib, y='Price_Euro', ylim=(0,450000));\n",
    "\n",
    "\"\"\"\n",
    "Prices tend to be higher as cars power increases, and viceversa.\n",
    "\"\"\""
   ]
  },
  {
   "cell_type": "markdown",
   "id": "ee92c67b",
   "metadata": {},
   "source": [
    "## RELATIONSHIP WITH CATEGORICAL FEATURES"
   ]
  },
  {
   "cell_type": "code",
   "execution_count": 60,
   "id": "cbc81512",
   "metadata": {},
   "outputs": [
    {
     "data": {
      "image/png": "[encoded data removed]",
      "text/plain": [
       "<Figure size 1296x864 with 1 Axes>"
      ]
     },
     "metadata": {
      "needs_background": "light"
     },
     "output_type": "display_data"
    }
   ],
   "source": [
    "# Box plot Transmission / Price\n",
    "\n",
    "attrib = 'Transmission'\n",
    "data = pd.concat([temp_data['Price_Euro'], temp_data[attrib]], axis=1)\n",
    "f, ax = plt.subplots(figsize=(18, 12))\n",
    "fig = sns.boxplot(x=attrib, y=\"Price_Euro\", data=temp_data)\n",
    "fig.axis(ymin=0, ymax=450000);"
   ]
  },
  {
   "cell_type": "code",
   "execution_count": 61,
   "id": "5dc71456",
   "metadata": {},
   "outputs": [
    {
     "data": {
      "image/png": "[encoded data removed]",
      "text/plain": [
       "<Figure size 1296x864 with 1 Axes>"
      ]
     },
     "metadata": {
      "needs_background": "light"
     },
     "output_type": "display_data"
    }
   ],
   "source": [
    "# Box plot Fuel_type / Price\n",
    "\n",
    "attrib = 'Fuel_type'\n",
    "data = pd.concat([temp_data['Price_Euro'], temp_data[attrib]], axis=1)\n",
    "f, ax = plt.subplots(figsize=(18, 12))\n",
    "fig = sns.boxplot(x=attrib, y=\"Price_Euro\", data=temp_data)\n",
    "fig.axis(ymin=0, ymax=450000);"
   ]
  },
  {
   "cell_type": "code",
   "execution_count": 62,
   "id": "261d4ca9",
   "metadata": {},
   "outputs": [
    {
     "data": {
      "image/png": "[encoded data removed]",
      "text/plain": [
       "<Figure size 1296x864 with 1 Axes>"
      ]
     },
     "metadata": {
      "needs_background": "light"
     },
     "output_type": "display_data"
    }
   ],
   "source": [
    "# Box plot Drive_type / Price\n",
    "\n",
    "attrib = 'Drive_type'\n",
    "data = pd.concat([temp_data['Price_Euro'], temp_data[attrib]], axis=1)\n",
    "f, ax = plt.subplots(figsize=(18, 12))\n",
    "fig = sns.boxplot(x=attrib, y=\"Price_Euro\", data=temp_data)\n",
    "fig.axis(ymin=0, ymax=450000);"
   ]
  },
  {
   "cell_type": "markdown",
   "id": "265d14bf",
   "metadata": {},
   "source": [
    "## FEATURE IMPORTANCE RELATED TO TARGET"
   ]
  },
  {
   "cell_type": "code",
   "execution_count": 66,
   "id": "6d801ad5",
   "metadata": {},
   "outputs": [
    {
     "name": "stdout",
     "output_type": "stream",
     "text": [
      "Find most important features relative to target\n",
      "Price_Euro        1.000000\n",
      "Power             0.754012\n",
      "index             0.076342\n",
      "features_score   -0.048677\n",
      "Kms_driven       -0.290612\n",
      "age              -0.339597\n",
      "Name: Price_Euro, dtype: float64\n"
     ]
    },
    {
     "data": {
      "text/plain": [
       "'\\nBetween Year and Price there is a positive correlation, meaning that the higher\\nis the Year (more recent), the higher is the Price (more recent cars cost more).\\nBetween Price and Kms_driven there is a negative correlation, meaning that higher\\nis the Kms_driven, lower is the Price (cars with high Kms_driven cost less).\\n\\n'"
      ]
     },
     "execution_count": 66,
     "metadata": {},
     "output_type": "execute_result"
    }
   ],
   "source": [
    "# Find most important features relative to target Price\n",
    "print(\"Find most important features relative to target\")\n",
    "corr = temp_data.corr()\n",
    "corr.sort_values([\"Price_Euro\"], ascending = False, inplace = True)\n",
    "print(corr.Price_Euro)\n",
    "\n",
    "\"\"\"\n",
    "Between Year and Price there is a positive correlation, meaning that the higher\n",
    "is the Year (more recent), the higher is the Price (more recent cars cost more).\n",
    "Between Price and Kms_driven there is a negative correlation, meaning that higher\n",
    "is the Kms_driven, lower is the Price (cars with high Kms_driven cost less).\n",
    "\n",
    "\"\"\""
   ]
  },
  {
   "cell_type": "code",
   "execution_count": 68,
   "id": "3f00840a",
   "metadata": {},
   "outputs": [
    {
     "data": {
      "image/png": "[encoded data removed]",
      "text/plain": [
       "<Figure size 504x504 with 2 Axes>"
      ]
     },
     "metadata": {
      "needs_background": "light"
     },
     "output_type": "display_data"
    }
   ],
   "source": [
    "# General correlation matrix\n",
    "corrmat = temp_data.corr()\n",
    "f, ax = plt.subplots(figsize=(7, 7))\n",
    "sns.heatmap(corrmat, vmax=.8, square=True,annot=True);\n"
   ]
  },
  {
   "cell_type": "markdown",
   "id": "cd302b52",
   "metadata": {},
   "source": [
    "## SCATTERPLOTS"
   ]
  },
  {
   "cell_type": "code",
   "execution_count": 69,
   "id": "e89fa08b",
   "metadata": {},
   "outputs": [
    {
     "data": {
      "image/png": "[encoded data removed]",
      "text/plain": [
       "<Figure size 540x540 with 12 Axes>"
      ]
     },
     "metadata": {
      "needs_background": "light"
     },
     "output_type": "display_data"
    }
   ],
   "source": [
    "# Scatter plot for numerical features\n",
    "num_features = [\"Price_Euro\", \"Kms_driven\", \"age\"]\n",
    "sns.pairplot(temp_data[num_features], size = 2.5)\n",
    "plt.show();"
   ]
  },
  {
   "cell_type": "markdown",
   "id": "e94103c4",
   "metadata": {},
   "source": [
    "## PREPROCESSING"
   ]
  },
  {
   "cell_type": "code",
   "execution_count": 130,
   "id": "83f1762e",
   "metadata": {},
   "outputs": [
    {
     "data": {
      "text/plain": [
       "index             0\n",
       "Car_Name          0\n",
       "Kms_driven        0\n",
       "Power             0\n",
       "Transmission      0\n",
       "Fuel_type         0\n",
       "Vendor            0\n",
       "Location          0\n",
       "Price_Euro        0\n",
       "Drive_type        0\n",
       "features_score    0\n",
       "age               0\n",
       "dtype: int64"
      ]
     },
     "execution_count": 130,
     "metadata": {},
     "output_type": "execute_result"
    }
   ],
   "source": [
    "# Checking for missing values -> no missing values\n",
    "temp_data.isnull().sum()"
   ]
  },
  {
   "cell_type": "markdown",
   "id": "a8136c96",
   "metadata": {},
   "source": [
    "## OUTLIERS MANAGEMENT\n",
    "BIVARIATE ANALYSIS"
   ]
  },
  {
   "cell_type": "markdown",
   "id": "63cab9d7",
   "metadata": {},
   "source": [
    "### REMOVING OUTLIERS BY MODEL"
   ]
  },
  {
   "cell_type": "markdown",
   "id": "33f06d24",
   "metadata": {},
   "source": [
    "## LABEL ENCODING"
   ]
  },
  {
   "cell_type": "code",
   "execution_count": 131,
   "id": "286da083",
   "metadata": {},
   "outputs": [],
   "source": [
    "# LABEL ENCODING\n",
    "features = ['Transmission', 'Fuel_type','Vendor','Drive_type','Location']\n",
    "les = {}\n",
    "\n",
    "for f in features:    \n",
    "    les[f] = LabelEncoder()\n",
    "    les[f] = les[f].fit(temp_data[f])\n",
    "    temp_data[f] = les[f].transform(temp_data[f])"
   ]
  },
  {
   "cell_type": "code",
   "execution_count": 132,
   "id": "c6541a4c",
   "metadata": {},
   "outputs": [],
   "source": [
    "temp_data.drop(labels='Car_Name',axis=1,inplace=True)"
   ]
  },
  {
   "cell_type": "code",
   "execution_count": 133,
   "id": "e91703ea",
   "metadata": {
    "scrolled": true
   },
   "outputs": [
    {
     "data": {
      "text/html": [
       "<div>\n",
       "<style scoped>\n",
       "    .dataframe tbody tr th:only-of-type {\n",
       "        vertical-align: middle;\n",
       "    }\n",
       "\n",
       "    .dataframe tbody tr th {\n",
       "        vertical-align: top;\n",
       "    }\n",
       "\n",
       "    .dataframe thead th {\n",
       "        text-align: right;\n",
       "    }\n",
       "</style>\n",
       "<table border=\"1\" class=\"dataframe\">\n",
       "  <thead>\n",
       "    <tr style=\"text-align: right;\">\n",
       "      <th></th>\n",
       "      <th>index</th>\n",
       "      <th>Kms_driven</th>\n",
       "      <th>Power</th>\n",
       "      <th>Transmission</th>\n",
       "      <th>Fuel_type</th>\n",
       "      <th>Vendor</th>\n",
       "      <th>Location</th>\n",
       "      <th>Price_Euro</th>\n",
       "      <th>Drive_type</th>\n",
       "      <th>features_score</th>\n",
       "      <th>age</th>\n",
       "    </tr>\n",
       "  </thead>\n",
       "  <tbody>\n",
       "    <tr>\n",
       "      <th>0</th>\n",
       "      <td>0</td>\n",
       "      <td>32125.0</td>\n",
       "      <td>140</td>\n",
       "      <td>0</td>\n",
       "      <td>1</td>\n",
       "      <td>0</td>\n",
       "      <td>3</td>\n",
       "      <td>32899.0</td>\n",
       "      <td>0</td>\n",
       "      <td>2</td>\n",
       "      <td>3</td>\n",
       "    </tr>\n",
       "    <tr>\n",
       "      <th>1</th>\n",
       "      <td>1</td>\n",
       "      <td>63400.0</td>\n",
       "      <td>147</td>\n",
       "      <td>0</td>\n",
       "      <td>1</td>\n",
       "      <td>0</td>\n",
       "      <td>3</td>\n",
       "      <td>34649.0</td>\n",
       "      <td>1</td>\n",
       "      <td>2</td>\n",
       "      <td>3</td>\n",
       "    </tr>\n",
       "    <tr>\n",
       "      <th>2</th>\n",
       "      <td>2</td>\n",
       "      <td>2700.0</td>\n",
       "      <td>147</td>\n",
       "      <td>0</td>\n",
       "      <td>3</td>\n",
       "      <td>0</td>\n",
       "      <td>4</td>\n",
       "      <td>35349.0</td>\n",
       "      <td>1</td>\n",
       "      <td>2</td>\n",
       "      <td>1</td>\n",
       "    </tr>\n",
       "    <tr>\n",
       "      <th>3</th>\n",
       "      <td>3</td>\n",
       "      <td>26145.0</td>\n",
       "      <td>140</td>\n",
       "      <td>0</td>\n",
       "      <td>1</td>\n",
       "      <td>0</td>\n",
       "      <td>3</td>\n",
       "      <td>39349.0</td>\n",
       "      <td>0</td>\n",
       "      <td>2</td>\n",
       "      <td>1</td>\n",
       "    </tr>\n",
       "    <tr>\n",
       "      <th>4</th>\n",
       "      <td>4</td>\n",
       "      <td>28199.0</td>\n",
       "      <td>140</td>\n",
       "      <td>0</td>\n",
       "      <td>1</td>\n",
       "      <td>0</td>\n",
       "      <td>3</td>\n",
       "      <td>40099.0</td>\n",
       "      <td>0</td>\n",
       "      <td>2</td>\n",
       "      <td>1</td>\n",
       "    </tr>\n",
       "    <tr>\n",
       "      <th>...</th>\n",
       "      <td>...</td>\n",
       "      <td>...</td>\n",
       "      <td>...</td>\n",
       "      <td>...</td>\n",
       "      <td>...</td>\n",
       "      <td>...</td>\n",
       "      <td>...</td>\n",
       "      <td>...</td>\n",
       "      <td>...</td>\n",
       "      <td>...</td>\n",
       "      <td>...</td>\n",
       "    </tr>\n",
       "    <tr>\n",
       "      <th>9925</th>\n",
       "      <td>9925</td>\n",
       "      <td>47800.0</td>\n",
       "      <td>240</td>\n",
       "      <td>0</td>\n",
       "      <td>7</td>\n",
       "      <td>0</td>\n",
       "      <td>3</td>\n",
       "      <td>37249.0</td>\n",
       "      <td>0</td>\n",
       "      <td>3</td>\n",
       "      <td>3</td>\n",
       "    </tr>\n",
       "    <tr>\n",
       "      <th>9926</th>\n",
       "      <td>9926</td>\n",
       "      <td>16500.0</td>\n",
       "      <td>120</td>\n",
       "      <td>0</td>\n",
       "      <td>7</td>\n",
       "      <td>0</td>\n",
       "      <td>3</td>\n",
       "      <td>37249.0</td>\n",
       "      <td>0</td>\n",
       "      <td>3</td>\n",
       "      <td>0</td>\n",
       "    </tr>\n",
       "    <tr>\n",
       "      <th>9927</th>\n",
       "      <td>9927</td>\n",
       "      <td>33002.0</td>\n",
       "      <td>228</td>\n",
       "      <td>0</td>\n",
       "      <td>7</td>\n",
       "      <td>0</td>\n",
       "      <td>3</td>\n",
       "      <td>40099.0</td>\n",
       "      <td>1</td>\n",
       "      <td>3</td>\n",
       "      <td>3</td>\n",
       "    </tr>\n",
       "    <tr>\n",
       "      <th>9928</th>\n",
       "      <td>9928</td>\n",
       "      <td>63000.0</td>\n",
       "      <td>190</td>\n",
       "      <td>0</td>\n",
       "      <td>1</td>\n",
       "      <td>1</td>\n",
       "      <td>3</td>\n",
       "      <td>42549.0</td>\n",
       "      <td>1</td>\n",
       "      <td>3</td>\n",
       "      <td>3</td>\n",
       "    </tr>\n",
       "    <tr>\n",
       "      <th>9929</th>\n",
       "      <td>9929</td>\n",
       "      <td>25690.0</td>\n",
       "      <td>140</td>\n",
       "      <td>0</td>\n",
       "      <td>1</td>\n",
       "      <td>0</td>\n",
       "      <td>3</td>\n",
       "      <td>44049.0</td>\n",
       "      <td>0</td>\n",
       "      <td>2</td>\n",
       "      <td>1</td>\n",
       "    </tr>\n",
       "  </tbody>\n",
       "</table>\n",
       "<p>9930 rows × 11 columns</p>\n",
       "</div>"
      ],
      "text/plain": [
       "      index  Kms_driven  Power  Transmission  Fuel_type  Vendor  Location  \\\n",
       "0         0     32125.0    140             0          1       0         3   \n",
       "1         1     63400.0    147             0          1       0         3   \n",
       "2         2      2700.0    147             0          3       0         4   \n",
       "3         3     26145.0    140             0          1       0         3   \n",
       "4         4     28199.0    140             0          1       0         3   \n",
       "...     ...         ...    ...           ...        ...     ...       ...   \n",
       "9925   9925     47800.0    240             0          7       0         3   \n",
       "9926   9926     16500.0    120             0          7       0         3   \n",
       "9927   9927     33002.0    228             0          7       0         3   \n",
       "9928   9928     63000.0    190             0          1       1         3   \n",
       "9929   9929     25690.0    140             0          1       0         3   \n",
       "\n",
       "      Price_Euro  Drive_type  features_score  age  \n",
       "0        32899.0           0               2    3  \n",
       "1        34649.0           1               2    3  \n",
       "2        35349.0           1               2    1  \n",
       "3        39349.0           0               2    1  \n",
       "4        40099.0           0               2    1  \n",
       "...          ...         ...             ...  ...  \n",
       "9925     37249.0           0               3    3  \n",
       "9926     37249.0           0               3    0  \n",
       "9927     40099.0           1               3    3  \n",
       "9928     42549.0           1               3    3  \n",
       "9929     44049.0           0               2    1  \n",
       "\n",
       "[9930 rows x 11 columns]"
      ]
     },
     "execution_count": 133,
     "metadata": {},
     "output_type": "execute_result"
    }
   ],
   "source": [
    "temp_data"
   ]
  },
  {
   "cell_type": "markdown",
   "id": "7326e072",
   "metadata": {},
   "source": [
    "## Seperating X and y"
   ]
  },
  {
   "cell_type": "code",
   "execution_count": 134,
   "id": "7b5f8677",
   "metadata": {},
   "outputs": [],
   "source": [
    "X = temp_data.drop(labels='Price_Euro',axis=1)\n",
    "y = temp_data[['Price_Euro']]"
   ]
  },
  {
   "cell_type": "markdown",
   "id": "8cdc7350",
   "metadata": {},
   "source": [
    "## Scaling data"
   ]
  },
  {
   "cell_type": "code",
   "execution_count": 135,
   "id": "2ac7ea0c",
   "metadata": {},
   "outputs": [
    {
     "data": {
      "text/html": [
       "<div>\n",
       "<style scoped>\n",
       "    .dataframe tbody tr th:only-of-type {\n",
       "        vertical-align: middle;\n",
       "    }\n",
       "\n",
       "    .dataframe tbody tr th {\n",
       "        vertical-align: top;\n",
       "    }\n",
       "\n",
       "    .dataframe thead th {\n",
       "        text-align: right;\n",
       "    }\n",
       "</style>\n",
       "<table border=\"1\" class=\"dataframe\">\n",
       "  <thead>\n",
       "    <tr style=\"text-align: right;\">\n",
       "      <th></th>\n",
       "      <th>0</th>\n",
       "      <th>1</th>\n",
       "      <th>2</th>\n",
       "      <th>3</th>\n",
       "      <th>4</th>\n",
       "      <th>5</th>\n",
       "      <th>6</th>\n",
       "      <th>7</th>\n",
       "      <th>8</th>\n",
       "      <th>9</th>\n",
       "    </tr>\n",
       "  </thead>\n",
       "  <tbody>\n",
       "    <tr>\n",
       "      <th>0</th>\n",
       "      <td>-1.731876</td>\n",
       "      <td>0.097008</td>\n",
       "      <td>0.137947</td>\n",
       "      <td>-0.573707</td>\n",
       "      <td>-0.923635</td>\n",
       "      <td>-0.223145</td>\n",
       "      <td>-0.295115</td>\n",
       "      <td>-0.635399</td>\n",
       "      <td>-0.429086</td>\n",
       "      <td>0.836192</td>\n",
       "    </tr>\n",
       "    <tr>\n",
       "      <th>1</th>\n",
       "      <td>-1.731528</td>\n",
       "      <td>1.176636</td>\n",
       "      <td>0.267091</td>\n",
       "      <td>-0.573707</td>\n",
       "      <td>-0.923635</td>\n",
       "      <td>-0.223145</td>\n",
       "      <td>-0.295115</td>\n",
       "      <td>1.573814</td>\n",
       "      <td>-0.429086</td>\n",
       "      <td>0.836192</td>\n",
       "    </tr>\n",
       "    <tr>\n",
       "      <th>2</th>\n",
       "      <td>-1.731179</td>\n",
       "      <td>-0.918758</td>\n",
       "      <td>0.267091</td>\n",
       "      <td>-0.573707</td>\n",
       "      <td>-0.199373</td>\n",
       "      <td>-0.223145</td>\n",
       "      <td>0.104952</td>\n",
       "      <td>1.573814</td>\n",
       "      <td>-0.429086</td>\n",
       "      <td>-0.398879</td>\n",
       "    </tr>\n",
       "    <tr>\n",
       "      <th>3</th>\n",
       "      <td>-1.730830</td>\n",
       "      <td>-0.109425</td>\n",
       "      <td>0.137947</td>\n",
       "      <td>-0.573707</td>\n",
       "      <td>-0.923635</td>\n",
       "      <td>-0.223145</td>\n",
       "      <td>-0.295115</td>\n",
       "      <td>-0.635399</td>\n",
       "      <td>-0.429086</td>\n",
       "      <td>-0.398879</td>\n",
       "    </tr>\n",
       "    <tr>\n",
       "      <th>4</th>\n",
       "      <td>-1.730481</td>\n",
       "      <td>-0.038520</td>\n",
       "      <td>0.137947</td>\n",
       "      <td>-0.573707</td>\n",
       "      <td>-0.923635</td>\n",
       "      <td>-0.223145</td>\n",
       "      <td>-0.295115</td>\n",
       "      <td>-0.635399</td>\n",
       "      <td>-0.429086</td>\n",
       "      <td>-0.398879</td>\n",
       "    </tr>\n",
       "    <tr>\n",
       "      <th>...</th>\n",
       "      <td>...</td>\n",
       "      <td>...</td>\n",
       "      <td>...</td>\n",
       "      <td>...</td>\n",
       "      <td>...</td>\n",
       "      <td>...</td>\n",
       "      <td>...</td>\n",
       "      <td>...</td>\n",
       "      <td>...</td>\n",
       "      <td>...</td>\n",
       "    </tr>\n",
       "    <tr>\n",
       "      <th>9925</th>\n",
       "      <td>1.730481</td>\n",
       "      <td>0.638116</td>\n",
       "      <td>1.982865</td>\n",
       "      <td>-0.573707</td>\n",
       "      <td>1.249153</td>\n",
       "      <td>-0.223145</td>\n",
       "      <td>-0.295115</td>\n",
       "      <td>-0.635399</td>\n",
       "      <td>0.730006</td>\n",
       "      <td>0.836192</td>\n",
       "    </tr>\n",
       "    <tr>\n",
       "      <th>9926</th>\n",
       "      <td>1.730830</td>\n",
       "      <td>-0.442375</td>\n",
       "      <td>-0.231037</td>\n",
       "      <td>-0.573707</td>\n",
       "      <td>1.249153</td>\n",
       "      <td>-0.223145</td>\n",
       "      <td>-0.295115</td>\n",
       "      <td>-0.635399</td>\n",
       "      <td>0.730006</td>\n",
       "      <td>-1.016415</td>\n",
       "    </tr>\n",
       "    <tr>\n",
       "      <th>9927</th>\n",
       "      <td>1.731179</td>\n",
       "      <td>0.127282</td>\n",
       "      <td>1.761475</td>\n",
       "      <td>-0.573707</td>\n",
       "      <td>1.249153</td>\n",
       "      <td>-0.223145</td>\n",
       "      <td>-0.295115</td>\n",
       "      <td>1.573814</td>\n",
       "      <td>0.730006</td>\n",
       "      <td>0.836192</td>\n",
       "    </tr>\n",
       "    <tr>\n",
       "      <th>9928</th>\n",
       "      <td>1.731528</td>\n",
       "      <td>1.162828</td>\n",
       "      <td>1.060406</td>\n",
       "      <td>-0.573707</td>\n",
       "      <td>-0.923635</td>\n",
       "      <td>4.481384</td>\n",
       "      <td>-0.295115</td>\n",
       "      <td>1.573814</td>\n",
       "      <td>0.730006</td>\n",
       "      <td>0.836192</td>\n",
       "    </tr>\n",
       "    <tr>\n",
       "      <th>9929</th>\n",
       "      <td>1.731876</td>\n",
       "      <td>-0.125132</td>\n",
       "      <td>0.137947</td>\n",
       "      <td>-0.573707</td>\n",
       "      <td>-0.923635</td>\n",
       "      <td>-0.223145</td>\n",
       "      <td>-0.295115</td>\n",
       "      <td>-0.635399</td>\n",
       "      <td>-0.429086</td>\n",
       "      <td>-0.398879</td>\n",
       "    </tr>\n",
       "  </tbody>\n",
       "</table>\n",
       "<p>9930 rows × 10 columns</p>\n",
       "</div>"
      ],
      "text/plain": [
       "             0         1         2         3         4         5         6  \\\n",
       "0    -1.731876  0.097008  0.137947 -0.573707 -0.923635 -0.223145 -0.295115   \n",
       "1    -1.731528  1.176636  0.267091 -0.573707 -0.923635 -0.223145 -0.295115   \n",
       "2    -1.731179 -0.918758  0.267091 -0.573707 -0.199373 -0.223145  0.104952   \n",
       "3    -1.730830 -0.109425  0.137947 -0.573707 -0.923635 -0.223145 -0.295115   \n",
       "4    -1.730481 -0.038520  0.137947 -0.573707 -0.923635 -0.223145 -0.295115   \n",
       "...        ...       ...       ...       ...       ...       ...       ...   \n",
       "9925  1.730481  0.638116  1.982865 -0.573707  1.249153 -0.223145 -0.295115   \n",
       "9926  1.730830 -0.442375 -0.231037 -0.573707  1.249153 -0.223145 -0.295115   \n",
       "9927  1.731179  0.127282  1.761475 -0.573707  1.249153 -0.223145 -0.295115   \n",
       "9928  1.731528  1.162828  1.060406 -0.573707 -0.923635  4.481384 -0.295115   \n",
       "9929  1.731876 -0.125132  0.137947 -0.573707 -0.923635 -0.223145 -0.295115   \n",
       "\n",
       "             7         8         9  \n",
       "0    -0.635399 -0.429086  0.836192  \n",
       "1     1.573814 -0.429086  0.836192  \n",
       "2     1.573814 -0.429086 -0.398879  \n",
       "3    -0.635399 -0.429086 -0.398879  \n",
       "4    -0.635399 -0.429086 -0.398879  \n",
       "...        ...       ...       ...  \n",
       "9925 -0.635399  0.730006  0.836192  \n",
       "9926 -0.635399  0.730006 -1.016415  \n",
       "9927  1.573814  0.730006  0.836192  \n",
       "9928  1.573814  0.730006  0.836192  \n",
       "9929 -0.635399 -0.429086 -0.398879  \n",
       "\n",
       "[9930 rows x 10 columns]"
      ]
     },
     "execution_count": 135,
     "metadata": {},
     "output_type": "execute_result"
    }
   ],
   "source": [
    "std_sclr = StandardScaler()\n",
    "col = X.columns\n",
    "X = pd.DataFrame(std_sclr.fit_transform(X))\n",
    "X.columnsumns = col\n",
    "X"
   ]
  },
  {
   "cell_type": "markdown",
   "id": "5af545e0",
   "metadata": {},
   "source": [
    "## Train test split"
   ]
  },
  {
   "cell_type": "code",
   "execution_count": 136,
   "id": "4d4f2b93",
   "metadata": {},
   "outputs": [
    {
     "data": {
      "text/plain": [
       "((7944, 10), (1986, 10), (7944, 1), (1986, 1))"
      ]
     },
     "execution_count": 136,
     "metadata": {},
     "output_type": "execute_result"
    }
   ],
   "source": [
    "# Splitting the dataset into train and test sets\n",
    "X_train,X_test,y_train,y_test = train_test_split(X,y,test_size=0.20,random_state=23,shuffle=True)\n",
    "X_train.shape,X_test.shape,y_train.shape,y_test.shape"
   ]
  },
  {
   "cell_type": "code",
   "execution_count": 137,
   "id": "5d3e62d2",
   "metadata": {},
   "outputs": [],
   "source": [
    "\n",
    "GBR = GradientBoostingRegressor()"
   ]
  },
  {
   "cell_type": "code",
   "execution_count": 140,
   "id": "7409f93f",
   "metadata": {},
   "outputs": [],
   "source": [
    "    parameters = {'learning_rate': [0.01,0.02,0.03,0.04],\n",
    "                  'subsample'    : [0.9, 0.5, 0.2, 0.1],\n",
    "                  'n_estimators' : [100,500,700, 900],\n",
    "                  'max_depth'    : [4,6,8,10]\n",
    "                 }"
   ]
  },
  {
   "cell_type": "code",
   "execution_count": 144,
   "id": "c98ee005",
   "metadata": {},
   "outputs": [
    {
     "data": {
      "text/plain": [
       "GridSearchCV(cv=2, estimator=GradientBoostingRegressor(), n_jobs=-1,\n",
       "             param_grid={'learning_rate': [0.01, 0.02, 0.03, 0.04],\n",
       "                         'max_depth': [4, 6, 8, 10],\n",
       "                         'n_estimators': [100, 500, 700, 900],\n",
       "                         'subsample': [0.9, 0.5, 0.2, 0.1]})"
      ]
     },
     "execution_count": 144,
     "metadata": {},
     "output_type": "execute_result"
    }
   ],
   "source": [
    "grid_GBR = GridSearchCV(estimator=GBR, param_grid = parameters, cv = 2, n_jobs=-1)\n",
    "grid_GBR.fit(X_train, y_train)"
   ]
  },
  {
   "cell_type": "code",
   "execution_count": 145,
   "id": "01b30dd7",
   "metadata": {
    "scrolled": true
   },
   "outputs": [
    {
     "name": "stdout",
     "output_type": "stream",
     "text": [
      " Results from Grid Search \n",
      "\n",
      " The best estimator across ALL searched params:\n",
      " GradientBoostingRegressor(learning_rate=0.01, max_depth=10, n_estimators=500,\n",
      "                          subsample=0.2)\n",
      "\n",
      " The best score across ALL searched params:\n",
      " 0.8758399447450904\n",
      "\n",
      " The best parameters across ALL searched params:\n",
      " {'learning_rate': 0.01, 'max_depth': 10, 'n_estimators': 500, 'subsample': 0.2}\n"
     ]
    }
   ],
   "source": [
    "    print(\" Results from Grid Search \" )\n",
    "    print(\"\\n The best estimator across ALL searched params:\\n\",grid_GBR.best_estimator_)\n",
    "    print(\"\\n The best score across ALL searched params:\\n\",grid_GBR.best_score_)\n",
    "    print(\"\\n The best parameters across ALL searched params:\\n\",grid_GBR.best_params_)"
   ]
  },
  {
   "cell_type": "code",
   "execution_count": 147,
   "id": "e9881237",
   "metadata": {},
   "outputs": [],
   "source": [
    "Final_GBModel = GradientBoostingRegressor(learning_rate=0.01,max_depth=10,n_estimators=500,subsample=0.2)"
   ]
  },
  {
   "cell_type": "code",
   "execution_count": 148,
   "id": "d7403a6f",
   "metadata": {},
   "outputs": [
    {
     "data": {
      "text/plain": [
       "GradientBoostingRegressor(learning_rate=0.01, max_depth=10, n_estimators=500,\n",
       "                          subsample=0.2)"
      ]
     },
     "execution_count": 148,
     "metadata": {},
     "output_type": "execute_result"
    }
   ],
   "source": [
    "Final_GBModel.fit(X_train,y_train)"
   ]
  },
  {
   "cell_type": "markdown",
   "id": "bddc3b12",
   "metadata": {},
   "source": [
    "## Model testing and evaluation using training data"
   ]
  },
  {
   "cell_type": "code",
   "execution_count": 149,
   "id": "088c3996",
   "metadata": {},
   "outputs": [],
   "source": [
    "y_train_pred = Final_GBModel.predict(X_train)"
   ]
  },
  {
   "cell_type": "code",
   "execution_count": 151,
   "id": "1955de99",
   "metadata": {},
   "outputs": [
    {
     "name": "stdout",
     "output_type": "stream",
     "text": [
      "model accuracy or R2 squared : 0.9492918580913311\n"
     ]
    }
   ],
   "source": [
    "print('model accuracy or R2 squared :',Final_GBModel.score(X_train,y_train))"
   ]
  },
  {
   "cell_type": "code",
   "execution_count": 155,
   "id": "ca4cb8f7",
   "metadata": {},
   "outputs": [
    {
     "name": "stdout",
     "output_type": "stream",
     "text": [
      "mean squared error mse :  2367.56062047402\n"
     ]
    }
   ],
   "source": [
    "print('mean squared error mse : ',mean_absolute_error(y_train,y_train_pred))"
   ]
  },
  {
   "cell_type": "markdown",
   "id": "e078c17e",
   "metadata": {},
   "source": [
    "## Model testing and evaluation using test data"
   ]
  },
  {
   "cell_type": "code",
   "execution_count": 156,
   "id": "fa9c782c",
   "metadata": {},
   "outputs": [],
   "source": [
    "\n",
    "y_test_pred = Final_GBModel.predict(X_test)\n"
   ]
  },
  {
   "cell_type": "code",
   "execution_count": 158,
   "id": "e202fccb",
   "metadata": {},
   "outputs": [
    {
     "name": "stdout",
     "output_type": "stream",
     "text": [
      "accuracy of model: r2 squared:  0.8828238635813677\n"
     ]
    }
   ],
   "source": [
    "print('accuracy of model: r2 squared: ',Final_GBModel.score(X_test,y_test))\n"
   ]
  },
  {
   "cell_type": "code",
   "execution_count": 161,
   "id": "2e9c1df3",
   "metadata": {},
   "outputs": [
    {
     "name": "stdout",
     "output_type": "stream",
     "text": [
      "mean squared errro :  3100.801946951291\n"
     ]
    }
   ],
   "source": [
    "\n",
    "print('mean squared errro : ',mean_absolute_error(y_test,y_test_pred))\n"
   ]
  }
 ],
 "metadata": {
  "kernelspec": {
   "display_name": "Python 3",
   "language": "python",
   "name": "python3"
  },
  "language_info": {
   "codemirror_mode": {
    "name": "ipython",
    "version": 3
   },
   "file_extension": ".py",
   "mimetype": "text/x-python",
   "name": "python",
   "nbconvert_exporter": "python",
   "pygments_lexer": "ipython3",
   "version": "3.8.8"
  }
 },
 "nbformat": 4,
 "nbformat_minor": 5
}
