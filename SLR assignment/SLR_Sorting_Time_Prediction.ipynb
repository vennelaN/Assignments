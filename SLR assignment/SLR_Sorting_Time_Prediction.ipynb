{
 "cells": [
  {
   "cell_type": "code",
   "execution_count": 4,
   "id": "6ee8ad4c",
   "metadata": {},
   "outputs": [],
   "source": [
    "import pandas as pd\n",
    "import matplotlib.pyplot as plt\n",
    "import seaborn as sns\n",
    "from sklearn.model_selection import train_test_split\n",
    "from sklearn.linear_model import LinearRegression\n",
    "from sklearn.preprocessing import StandardScaler\n",
    "from sklearn import metrics\n",
    "import warnings\n",
    "warnings.filterwarnings('ignore')\n",
    "from statsmodels import api\n",
    "from sklearn.ensemble import RandomForestRegressor,GradientBoostingRegressor\n",
    "from pickle import dump \n",
    "from numpy import log"
   ]
  },
  {
   "cell_type": "markdown",
   "id": "4705ab19",
   "metadata": {},
   "source": [
    "## 1.Load data"
   ]
  },
  {
   "cell_type": "code",
   "execution_count": 2,
   "id": "2d12b6c7",
   "metadata": {},
   "outputs": [
    {
     "data": {
      "text/html": [
       "<div>\n",
       "<style scoped>\n",
       "    .dataframe tbody tr th:only-of-type {\n",
       "        vertical-align: middle;\n",
       "    }\n",
       "\n",
       "    .dataframe tbody tr th {\n",
       "        vertical-align: top;\n",
       "    }\n",
       "\n",
       "    .dataframe thead th {\n",
       "        text-align: right;\n",
       "    }\n",
       "</style>\n",
       "<table border=\"1\" class=\"dataframe\">\n",
       "  <thead>\n",
       "    <tr style=\"text-align: right;\">\n",
       "      <th></th>\n",
       "      <th>Delivery Time</th>\n",
       "      <th>Sorting Time</th>\n",
       "    </tr>\n",
       "  </thead>\n",
       "  <tbody>\n",
       "    <tr>\n",
       "      <th>0</th>\n",
       "      <td>21.00</td>\n",
       "      <td>10</td>\n",
       "    </tr>\n",
       "    <tr>\n",
       "      <th>1</th>\n",
       "      <td>13.50</td>\n",
       "      <td>4</td>\n",
       "    </tr>\n",
       "    <tr>\n",
       "      <th>2</th>\n",
       "      <td>19.75</td>\n",
       "      <td>6</td>\n",
       "    </tr>\n",
       "    <tr>\n",
       "      <th>3</th>\n",
       "      <td>24.00</td>\n",
       "      <td>9</td>\n",
       "    </tr>\n",
       "    <tr>\n",
       "      <th>4</th>\n",
       "      <td>29.00</td>\n",
       "      <td>10</td>\n",
       "    </tr>\n",
       "  </tbody>\n",
       "</table>\n",
       "</div>"
      ],
      "text/plain": [
       "   Delivery Time  Sorting Time\n",
       "0          21.00            10\n",
       "1          13.50             4\n",
       "2          19.75             6\n",
       "3          24.00             9\n",
       "4          29.00            10"
      ]
     },
     "execution_count": 2,
     "metadata": {},
     "output_type": "execute_result"
    }
   ],
   "source": [
    "data = pd.read_csv('Datasets/delivery_time.csv')\n",
    "data.head()"
   ]
  },
  {
   "cell_type": "markdown",
   "id": "f835f504",
   "metadata": {},
   "source": [
    "## 2.Data Analysis"
   ]
  },
  {
   "cell_type": "code",
   "execution_count": 4,
   "id": "e8dad4bc",
   "metadata": {},
   "outputs": [
    {
     "data": {
      "text/plain": [
       "(21, 2)"
      ]
     },
     "execution_count": 4,
     "metadata": {},
     "output_type": "execute_result"
    }
   ],
   "source": [
    "data.shape"
   ]
  },
  {
   "cell_type": "code",
   "execution_count": 5,
   "id": "effae2d9",
   "metadata": {},
   "outputs": [
    {
     "data": {
      "text/plain": [
       "Delivery Time    float64\n",
       "Sorting Time       int64\n",
       "dtype: object"
      ]
     },
     "execution_count": 5,
     "metadata": {},
     "output_type": "execute_result"
    }
   ],
   "source": [
    "data.dtypes"
   ]
  },
  {
   "cell_type": "code",
   "execution_count": 6,
   "id": "48bc58ff",
   "metadata": {},
   "outputs": [
    {
     "data": {
      "text/plain": [
       "Delivery Time    0\n",
       "Sorting Time     0\n",
       "dtype: int64"
      ]
     },
     "execution_count": 6,
     "metadata": {},
     "output_type": "execute_result"
    }
   ],
   "source": [
    "data.isna().sum()"
   ]
  },
  {
   "cell_type": "code",
   "execution_count": 7,
   "id": "5ed12739",
   "metadata": {},
   "outputs": [
    {
     "data": {
      "text/plain": [
       "Delivery Time    0\n",
       "Sorting Time     0\n",
       "dtype: int64"
      ]
     },
     "execution_count": 7,
     "metadata": {},
     "output_type": "execute_result"
    }
   ],
   "source": [
    "data.isnull().sum()"
   ]
  },
  {
   "cell_type": "markdown",
   "id": "53d70239",
   "metadata": {},
   "source": [
    "## 3.Data processing"
   ]
  },
  {
   "cell_type": "code",
   "execution_count": 3,
   "id": "3bab4c0c",
   "metadata": {},
   "outputs": [
    {
     "data": {
      "text/html": [
       "<div>\n",
       "<style scoped>\n",
       "    .dataframe tbody tr th:only-of-type {\n",
       "        vertical-align: middle;\n",
       "    }\n",
       "\n",
       "    .dataframe tbody tr th {\n",
       "        vertical-align: top;\n",
       "    }\n",
       "\n",
       "    .dataframe thead th {\n",
       "        text-align: right;\n",
       "    }\n",
       "</style>\n",
       "<table border=\"1\" class=\"dataframe\">\n",
       "  <thead>\n",
       "    <tr style=\"text-align: right;\">\n",
       "      <th></th>\n",
       "      <th>Delivery_Time</th>\n",
       "      <th>Sorting_Time</th>\n",
       "    </tr>\n",
       "  </thead>\n",
       "  <tbody>\n",
       "    <tr>\n",
       "      <th>0</th>\n",
       "      <td>21.00</td>\n",
       "      <td>10</td>\n",
       "    </tr>\n",
       "    <tr>\n",
       "      <th>1</th>\n",
       "      <td>13.50</td>\n",
       "      <td>4</td>\n",
       "    </tr>\n",
       "    <tr>\n",
       "      <th>2</th>\n",
       "      <td>19.75</td>\n",
       "      <td>6</td>\n",
       "    </tr>\n",
       "    <tr>\n",
       "      <th>3</th>\n",
       "      <td>24.00</td>\n",
       "      <td>9</td>\n",
       "    </tr>\n",
       "    <tr>\n",
       "      <th>4</th>\n",
       "      <td>29.00</td>\n",
       "      <td>10</td>\n",
       "    </tr>\n",
       "  </tbody>\n",
       "</table>\n",
       "</div>"
      ],
      "text/plain": [
       "   Delivery_Time  Sorting_Time\n",
       "0          21.00            10\n",
       "1          13.50             4\n",
       "2          19.75             6\n",
       "3          24.00             9\n",
       "4          29.00            10"
      ]
     },
     "execution_count": 3,
     "metadata": {},
     "output_type": "execute_result"
    }
   ],
   "source": [
    "#lets rename the columns for our convinience\n",
    "data.columns = ['Delivery_Time','Sorting_Time']\n",
    "data.head()"
   ]
  },
  {
   "cell_type": "code",
   "execution_count": 6,
   "id": "bbc82c3d",
   "metadata": {},
   "outputs": [],
   "source": [
    "#applying Log transformation to the predictor\n",
    "data['Delivery_Time'] = log(data['Delivery_Time'])\n"
   ]
  },
  {
   "cell_type": "markdown",
   "id": "3073f860",
   "metadata": {},
   "source": [
    "## 4. Assumption checks for linear Regression\n",
    "### 4.1 Linearity check using catter plot"
   ]
  },
  {
   "cell_type": "code",
   "execution_count": 7,
   "id": "23b58cd0",
   "metadata": {},
   "outputs": [
    {
     "data": {
      "image/png": "[encoded data removed]",
      "text/plain": [
       "<Figure size 360x360 with 1 Axes>"
      ]
     },
     "metadata": {
      "needs_background": "light"
     },
     "output_type": "display_data"
    }
   ],
   "source": [
    "sns.lmplot(x='Delivery_Time',y='Sorting_Time',data=data)\n",
    "plt.show()\n",
    "\n",
    "#the data looks pretty linear "
   ]
  },
  {
   "cell_type": "code",
   "execution_count": 8,
   "id": "cab8c318",
   "metadata": {},
   "outputs": [
    {
     "data": {
      "text/html": [
       "<div>\n",
       "<style scoped>\n",
       "    .dataframe tbody tr th:only-of-type {\n",
       "        vertical-align: middle;\n",
       "    }\n",
       "\n",
       "    .dataframe tbody tr th {\n",
       "        vertical-align: top;\n",
       "    }\n",
       "\n",
       "    .dataframe thead th {\n",
       "        text-align: right;\n",
       "    }\n",
       "</style>\n",
       "<table border=\"1\" class=\"dataframe\">\n",
       "  <thead>\n",
       "    <tr style=\"text-align: right;\">\n",
       "      <th></th>\n",
       "      <th>Delivery_Time</th>\n",
       "      <th>Sorting_Time</th>\n",
       "    </tr>\n",
       "  </thead>\n",
       "  <tbody>\n",
       "    <tr>\n",
       "      <th>Delivery_Time</th>\n",
       "      <td>1.000000</td>\n",
       "      <td>0.840057</td>\n",
       "    </tr>\n",
       "    <tr>\n",
       "      <th>Sorting_Time</th>\n",
       "      <td>0.840057</td>\n",
       "      <td>1.000000</td>\n",
       "    </tr>\n",
       "  </tbody>\n",
       "</table>\n",
       "</div>"
      ],
      "text/plain": [
       "               Delivery_Time  Sorting_Time\n",
       "Delivery_Time       1.000000      0.840057\n",
       "Sorting_Time        0.840057      1.000000"
      ]
     },
     "execution_count": 8,
     "metadata": {},
     "output_type": "execute_result"
    }
   ],
   "source": [
    "data.corr()\n",
    "\n",
    "#'Sorting Time' and 'Delivery Time' are 84% strogly positively realeted"
   ]
  },
  {
   "cell_type": "markdown",
   "id": "e45315b3",
   "metadata": {},
   "source": [
    "## check for multicolinearity doest make sence as there is only one predictor and there are no Datetime type predictore so no time series problem"
   ]
  },
  {
   "cell_type": "markdown",
   "id": "3e260ae5",
   "metadata": {},
   "source": [
    "## 5. Seperating X and y and standardising X"
   ]
  },
  {
   "cell_type": "code",
   "execution_count": 9,
   "id": "92e5e282",
   "metadata": {},
   "outputs": [
    {
     "data": {
      "text/html": [
       "<div>\n",
       "<style scoped>\n",
       "    .dataframe tbody tr th:only-of-type {\n",
       "        vertical-align: middle;\n",
       "    }\n",
       "\n",
       "    .dataframe tbody tr th {\n",
       "        vertical-align: top;\n",
       "    }\n",
       "\n",
       "    .dataframe thead th {\n",
       "        text-align: right;\n",
       "    }\n",
       "</style>\n",
       "<table border=\"1\" class=\"dataframe\">\n",
       "  <thead>\n",
       "    <tr style=\"text-align: right;\">\n",
       "      <th></th>\n",
       "      <th>Delivery_Time</th>\n",
       "    </tr>\n",
       "  </thead>\n",
       "  <tbody>\n",
       "    <tr>\n",
       "      <th>0</th>\n",
       "      <td>1.113344</td>\n",
       "    </tr>\n",
       "    <tr>\n",
       "      <th>1</th>\n",
       "      <td>0.956545</td>\n",
       "    </tr>\n",
       "    <tr>\n",
       "      <th>2</th>\n",
       "      <td>1.092981</td>\n",
       "    </tr>\n",
       "    <tr>\n",
       "      <th>3</th>\n",
       "      <td>1.156269</td>\n",
       "    </tr>\n",
       "    <tr>\n",
       "      <th>4</th>\n",
       "      <td>1.214110</td>\n",
       "    </tr>\n",
       "  </tbody>\n",
       "</table>\n",
       "</div>"
      ],
      "text/plain": [
       "   Delivery_Time\n",
       "0       1.113344\n",
       "1       0.956545\n",
       "2       1.092981\n",
       "3       1.156269\n",
       "4       1.214110"
      ]
     },
     "execution_count": 9,
     "metadata": {},
     "output_type": "execute_result"
    }
   ],
   "source": [
    "X = data.drop(labels='Sorting_Time',axis=1)\n",
    "X.head()"
   ]
  },
  {
   "cell_type": "code",
   "execution_count": 10,
   "id": "9a36f2f6",
   "metadata": {},
   "outputs": [],
   "source": [
    "y = data.Sorting_Time"
   ]
  },
  {
   "cell_type": "markdown",
   "id": "edb5a1dc",
   "metadata": {},
   "source": [
    "## 6. Model Building"
   ]
  },
  {
   "cell_type": "markdown",
   "id": "24ca84cd",
   "metadata": {},
   "source": [
    "### train test spliting"
   ]
  },
  {
   "cell_type": "code",
   "execution_count": 11,
   "id": "dc7876ed",
   "metadata": {},
   "outputs": [
    {
     "data": {
      "text/plain": [
       "((16, 1), (5, 1), (16,), (5,))"
      ]
     },
     "execution_count": 11,
     "metadata": {},
     "output_type": "execute_result"
    }
   ],
   "source": [
    "X_train,X_test,y_train,y_test = train_test_split(X,y,test_size=0.20,shuffle=True,random_state=40)\n",
    "X_train.shape,X_test.shape,y_train.shape,y_test.shape"
   ]
  },
  {
   "cell_type": "markdown",
   "id": "0d45875c",
   "metadata": {},
   "source": [
    "### model building"
   ]
  },
  {
   "cell_type": "code",
   "execution_count": 12,
   "id": "a88456ac",
   "metadata": {},
   "outputs": [],
   "source": [
    "sorting_time_pred = LinearRegression()"
   ]
  },
  {
   "cell_type": "markdown",
   "id": "4b5e8dcd",
   "metadata": {},
   "source": [
    "## 7.Model training"
   ]
  },
  {
   "cell_type": "code",
   "execution_count": 13,
   "id": "29029364",
   "metadata": {},
   "outputs": [],
   "source": [
    "sorting_time_pred = sorting_time_pred.fit(X_train,y_train)"
   ]
  },
  {
   "cell_type": "markdown",
   "id": "b425960c",
   "metadata": {},
   "source": [
    "## 8.Model testing and evalution usin train data"
   ]
  },
  {
   "cell_type": "code",
   "execution_count": 14,
   "id": "db89a5bf",
   "metadata": {},
   "outputs": [],
   "source": [
    "y_train_pred = sorting_time_pred.predict(X_train)"
   ]
  },
  {
   "cell_type": "code",
   "execution_count": 15,
   "id": "a2c3faf0",
   "metadata": {},
   "outputs": [],
   "source": [
    "train_residuals = y_train-y_train_pred"
   ]
  },
  {
   "cell_type": "code",
   "execution_count": 16,
   "id": "615a1265",
   "metadata": {},
   "outputs": [
    {
     "data": {
      "text/plain": [
       "0.8069412167157395"
      ]
     },
     "execution_count": 16,
     "metadata": {},
     "output_type": "execute_result"
    }
   ],
   "source": [
    "sorting_time_pred.score(X_train,y_train)\n",
    "#rsquare"
   ]
  },
  {
   "cell_type": "code",
   "execution_count": 17,
   "id": "24ffbe40",
   "metadata": {},
   "outputs": [
    {
     "data": {
      "text/plain": [
       "0.7950010122478297"
      ]
     },
     "execution_count": 17,
     "metadata": {},
     "output_type": "execute_result"
    }
   ],
   "source": [
    "metrics.mean_absolute_error(y_train,y_train_pred)"
   ]
  },
  {
   "cell_type": "code",
   "execution_count": 18,
   "id": "1e0faa92",
   "metadata": {},
   "outputs": [
    {
     "data": {
      "text/plain": [
       "1.0618233080634332"
      ]
     },
     "execution_count": 18,
     "metadata": {},
     "output_type": "execute_result"
    }
   ],
   "source": [
    "metrics.mean_squared_error(y_train,y_train_pred)"
   ]
  },
  {
   "cell_type": "markdown",
   "id": "2b1c1b2a",
   "metadata": {},
   "source": [
    "## 9.1 Residual Normality check"
   ]
  },
  {
   "cell_type": "code",
   "execution_count": 19,
   "id": "28469180",
   "metadata": {},
   "outputs": [
    {
     "data": {
      "image/png": "[encoded data removed]",
      "text/plain": [
       "<Figure size 432x288 with 1 Axes>"
      ]
     },
     "metadata": {
      "needs_background": "light"
     },
     "output_type": "display_data"
    }
   ],
   "source": [
    "#checking if residuals are normally distributed\n",
    "plt.xlabel('train residuals')\n",
    "sns.distplot(train_residuals,hist=False)\n",
    "plt.show()"
   ]
  },
  {
   "cell_type": "code",
   "execution_count": 20,
   "id": "28a6fb62",
   "metadata": {},
   "outputs": [
    {
     "data": {
      "image/png": "[encoded data removed]",
      "text/plain": [
       "<Figure size 432x288 with 1 Axes>"
      ]
     },
     "metadata": {
      "needs_background": "light"
     },
     "output_type": "display_data"
    }
   ],
   "source": [
    "qq = api.qqplot(train_residuals,line='q')"
   ]
  },
  {
   "cell_type": "markdown",
   "id": "ae7d12e3",
   "metadata": {},
   "source": [
    "## 9.2 Homoscedasticity check.. check for equal varience of residuals"
   ]
  },
  {
   "cell_type": "code",
   "execution_count": 21,
   "id": "0c972da8",
   "metadata": {},
   "outputs": [
    {
     "data": {
      "image/png": "[encoded data removed]",
      "text/plain": [
       "<Figure size 432x288 with 1 Axes>"
      ]
     },
     "metadata": {
      "needs_background": "light"
     },
     "output_type": "display_data"
    }
   ],
   "source": [
    "def get_standardized_values( vals ):\n",
    "    return (vals - vals.mean())/vals.std()\n",
    "\n",
    "plt.scatter(get_standardized_values(y_train_pred),get_standardized_values(train_residuals))\n",
    "plt.xlabel('fitted values or predictions')\n",
    "plt.ylabel('residuals')\n",
    "plt.show()"
   ]
  },
  {
   "cell_type": "code",
   "execution_count": 50,
   "id": "a73b6bbb",
   "metadata": {},
   "outputs": [],
   "source": [
    "#residual doesnot have a constant varience"
   ]
  },
  {
   "cell_type": "markdown",
   "id": "8b299a17",
   "metadata": {},
   "source": [
    "## 10.Model Testing  and evaluation for test data"
   ]
  },
  {
   "cell_type": "code",
   "execution_count": 22,
   "id": "9d8c2a7e",
   "metadata": {},
   "outputs": [],
   "source": [
    "y_test_pred = sorting_time_pred.predict(X_test)"
   ]
  },
  {
   "cell_type": "code",
   "execution_count": 23,
   "id": "b7e17b16",
   "metadata": {},
   "outputs": [
    {
     "data": {
      "text/plain": [
       "0.45634728999097385"
      ]
     },
     "execution_count": 23,
     "metadata": {},
     "output_type": "execute_result"
    }
   ],
   "source": [
    "sorting_time_pred.score(X_test,y_test)"
   ]
  },
  {
   "cell_type": "code",
   "execution_count": 24,
   "id": "d9bf4c6c",
   "metadata": {},
   "outputs": [
    {
     "data": {
      "text/plain": [
       "1.659969277726465"
      ]
     },
     "execution_count": 24,
     "metadata": {},
     "output_type": "execute_result"
    }
   ],
   "source": [
    "metrics.mean_absolute_error(y_test,y_test_pred)"
   ]
  },
  {
   "cell_type": "code",
   "execution_count": 25,
   "id": "38c7da4f",
   "metadata": {},
   "outputs": [
    {
     "data": {
      "text/plain": [
       "4.2187450296700435"
      ]
     },
     "execution_count": 25,
     "metadata": {},
     "output_type": "execute_result"
    }
   ],
   "source": [
    "metrics.mean_squared_error(y_test,y_test_pred)"
   ]
  },
  {
   "cell_type": "markdown",
   "id": "10983188",
   "metadata": {},
   "source": [
    "## Liniear Regression algorithm is not the best fit for this model"
   ]
  },
  {
   "cell_type": "markdown",
   "id": "bf2f8c55",
   "metadata": {},
   "source": [
    "## 11.Model deployment"
   ]
  },
  {
   "cell_type": "code",
   "execution_count": 26,
   "id": "379d3224",
   "metadata": {},
   "outputs": [],
   "source": [
    "dump(sorting_time_pred,open('Sorting_time_pred.pkl','wb'))"
   ]
  }
 ],
 "metadata": {
  "kernelspec": {
   "display_name": "Python 3",
   "language": "python",
   "name": "python3"
  },
  "language_info": {
   "codemirror_mode": {
    "name": "ipython",
    "version": 3
   },
   "file_extension": ".py",
   "mimetype": "text/x-python",
   "name": "python",
   "nbconvert_exporter": "python",
   "pygments_lexer": "ipython3",
   "version": "3.8.8"
  }
 },
 "nbformat": 4,
 "nbformat_minor": 5
}
