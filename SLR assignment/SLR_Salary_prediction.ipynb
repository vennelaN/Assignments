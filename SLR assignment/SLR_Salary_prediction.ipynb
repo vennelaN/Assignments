{
 "cells": [
  {
   "cell_type": "code",
   "execution_count": 1,
   "id": "dc0338d6",
   "metadata": {},
   "outputs": [],
   "source": [
    "import pandas as pd\n",
    "from sklearn.preprocessing import StandardScaler\n",
    "import matplotlib.pyplot as plt\n",
    "import seaborn as sns\n",
    "from statsmodels.formula.api import ols\n",
    "from statsmodels import api\n",
    "from pickle import dump"
   ]
  },
  {
   "cell_type": "markdown",
   "id": "811a3931",
   "metadata": {},
   "source": [
    "## 1.Loading Data"
   ]
  },
  {
   "cell_type": "code",
   "execution_count": 2,
   "id": "888612a6",
   "metadata": {},
   "outputs": [
    {
     "data": {
      "text/html": [
       "<div>\n",
       "<style scoped>\n",
       "    .dataframe tbody tr th:only-of-type {\n",
       "        vertical-align: middle;\n",
       "    }\n",
       "\n",
       "    .dataframe tbody tr th {\n",
       "        vertical-align: top;\n",
       "    }\n",
       "\n",
       "    .dataframe thead th {\n",
       "        text-align: right;\n",
       "    }\n",
       "</style>\n",
       "<table border=\"1\" class=\"dataframe\">\n",
       "  <thead>\n",
       "    <tr style=\"text-align: right;\">\n",
       "      <th></th>\n",
       "      <th>YearsExperience</th>\n",
       "      <th>Salary</th>\n",
       "    </tr>\n",
       "  </thead>\n",
       "  <tbody>\n",
       "    <tr>\n",
       "      <th>0</th>\n",
       "      <td>1.1</td>\n",
       "      <td>39343.0</td>\n",
       "    </tr>\n",
       "    <tr>\n",
       "      <th>1</th>\n",
       "      <td>1.3</td>\n",
       "      <td>46205.0</td>\n",
       "    </tr>\n",
       "    <tr>\n",
       "      <th>2</th>\n",
       "      <td>1.5</td>\n",
       "      <td>37731.0</td>\n",
       "    </tr>\n",
       "    <tr>\n",
       "      <th>3</th>\n",
       "      <td>2.0</td>\n",
       "      <td>43525.0</td>\n",
       "    </tr>\n",
       "    <tr>\n",
       "      <th>4</th>\n",
       "      <td>2.2</td>\n",
       "      <td>39891.0</td>\n",
       "    </tr>\n",
       "  </tbody>\n",
       "</table>\n",
       "</div>"
      ],
      "text/plain": [
       "   YearsExperience   Salary\n",
       "0              1.1  39343.0\n",
       "1              1.3  46205.0\n",
       "2              1.5  37731.0\n",
       "3              2.0  43525.0\n",
       "4              2.2  39891.0"
      ]
     },
     "execution_count": 2,
     "metadata": {},
     "output_type": "execute_result"
    }
   ],
   "source": [
    "data = pd.read_csv('Datasets/Salary_Data.csv')\n",
    "data.head()"
   ]
  },
  {
   "cell_type": "markdown",
   "id": "01e73d9c",
   "metadata": {},
   "source": [
    "## 2.Data Analysis"
   ]
  },
  {
   "cell_type": "code",
   "execution_count": 3,
   "id": "d2cb4d52",
   "metadata": {},
   "outputs": [
    {
     "data": {
      "text/plain": [
       "(30, 2)"
      ]
     },
     "execution_count": 3,
     "metadata": {},
     "output_type": "execute_result"
    }
   ],
   "source": [
    "data.shape"
   ]
  },
  {
   "cell_type": "code",
   "execution_count": 4,
   "id": "66d5f04a",
   "metadata": {},
   "outputs": [
    {
     "data": {
      "text/plain": [
       "YearsExperience    float64\n",
       "Salary             float64\n",
       "dtype: object"
      ]
     },
     "execution_count": 4,
     "metadata": {},
     "output_type": "execute_result"
    }
   ],
   "source": [
    "data.dtypes"
   ]
  },
  {
   "cell_type": "code",
   "execution_count": 5,
   "id": "5896fc1c",
   "metadata": {},
   "outputs": [
    {
     "data": {
      "text/plain": [
       "YearsExperience    0\n",
       "Salary             0\n",
       "dtype: int64"
      ]
     },
     "execution_count": 5,
     "metadata": {},
     "output_type": "execute_result"
    }
   ],
   "source": [
    "data.isna().sum()"
   ]
  },
  {
   "cell_type": "code",
   "execution_count": 6,
   "id": "81031705",
   "metadata": {},
   "outputs": [
    {
     "data": {
      "text/plain": [
       "YearsExperience    0\n",
       "Salary             0\n",
       "dtype: int64"
      ]
     },
     "execution_count": 6,
     "metadata": {},
     "output_type": "execute_result"
    }
   ],
   "source": [
    "data.isnull().sum()"
   ]
  },
  {
   "cell_type": "code",
   "execution_count": 7,
   "id": "5e5ae28a",
   "metadata": {},
   "outputs": [
    {
     "data": {
      "text/plain": [
       "Index(['YearsExperience', 'Salary'], dtype='object')"
      ]
     },
     "execution_count": 7,
     "metadata": {},
     "output_type": "execute_result"
    }
   ],
   "source": [
    "data.columns"
   ]
  },
  {
   "cell_type": "markdown",
   "id": "4f11a51c",
   "metadata": {},
   "source": [
    "## 4. Train test spliting"
   ]
  },
  {
   "cell_type": "code",
   "execution_count": 4,
   "id": "0f09d8d5",
   "metadata": {},
   "outputs": [
    {
     "name": "stdout",
     "output_type": "stream",
     "text": [
      "(15, 2)\n",
      "    YearsExperience   Salary\n",
      "10              3.9  63218.0\n",
      "11              4.0  55794.0\n",
      "12              4.0  56957.0\n",
      "13              4.1  57081.0\n",
      "14              4.5  61111.0\n",
      "(15, 2)\n",
      "    YearsExperience   Salary\n",
      "15              4.9  67938.0\n",
      "16              5.1  66029.0\n",
      "17              5.3  83088.0\n",
      "18              5.9  81363.0\n",
      "19              6.0  93940.0\n"
     ]
    }
   ],
   "source": [
    "train = data.iloc[:15,:]\n",
    "print(train.shape)\n",
    "print(train.tail())\n",
    "test = data.iloc[15:,:]\n",
    "print(test.shape)\n",
    "print(test.head())"
   ]
  },
  {
   "cell_type": "markdown",
   "id": "8f03ce4a",
   "metadata": {},
   "source": [
    "## 5. Assumption Check\n",
    "### 5.1 Linearity Check"
   ]
  },
  {
   "cell_type": "code",
   "execution_count": 6,
   "id": "862a6be4",
   "metadata": {},
   "outputs": [
    {
     "data": {
      "image/png": "[encoded data removed]",
      "text/plain": [
       "<Figure size 360x360 with 1 Axes>"
      ]
     },
     "metadata": {
      "needs_background": "light"
     },
     "output_type": "display_data"
    }
   ],
   "source": [
    "sns.lmplot(x='YearsExperience',y='Salary',data=data)\n",
    "plt.show()\n",
    "#the relation seems linear"
   ]
  },
  {
   "cell_type": "code",
   "execution_count": 7,
   "id": "31caf545",
   "metadata": {},
   "outputs": [
    {
     "data": {
      "text/html": [
       "<div>\n",
       "<style scoped>\n",
       "    .dataframe tbody tr th:only-of-type {\n",
       "        vertical-align: middle;\n",
       "    }\n",
       "\n",
       "    .dataframe tbody tr th {\n",
       "        vertical-align: top;\n",
       "    }\n",
       "\n",
       "    .dataframe thead th {\n",
       "        text-align: right;\n",
       "    }\n",
       "</style>\n",
       "<table border=\"1\" class=\"dataframe\">\n",
       "  <thead>\n",
       "    <tr style=\"text-align: right;\">\n",
       "      <th></th>\n",
       "      <th>YearsExperience</th>\n",
       "      <th>Salary</th>\n",
       "    </tr>\n",
       "  </thead>\n",
       "  <tbody>\n",
       "    <tr>\n",
       "      <th>YearsExperience</th>\n",
       "      <td>1.000000</td>\n",
       "      <td>0.978242</td>\n",
       "    </tr>\n",
       "    <tr>\n",
       "      <th>Salary</th>\n",
       "      <td>0.978242</td>\n",
       "      <td>1.000000</td>\n",
       "    </tr>\n",
       "  </tbody>\n",
       "</table>\n",
       "</div>"
      ],
      "text/plain": [
       "                 YearsExperience    Salary\n",
       "YearsExperience         1.000000  0.978242\n",
       "Salary                  0.978242  1.000000"
      ]
     },
     "execution_count": 7,
     "metadata": {},
     "output_type": "execute_result"
    }
   ],
   "source": [
    "data.corr()\n",
    "# salary and YesrsExperiance is 97.82 % positively strogly related"
   ]
  },
  {
   "cell_type": "markdown",
   "id": "795546a0",
   "metadata": {},
   "source": [
    "#### Checking for outliers"
   ]
  },
  {
   "cell_type": "code",
   "execution_count": 5,
   "id": "e6152c65",
   "metadata": {},
   "outputs": [
    {
     "data": {
      "image/png": "[encoded data removed]",
      "text/plain": [
       "<Figure size 432x288 with 1 Axes>"
      ]
     },
     "metadata": {
      "needs_background": "light"
     },
     "output_type": "display_data"
    }
   ],
   "source": [
    "sns.boxplot(y='YearsExperience',data=train)\n",
    "plt.show()\n",
    "#no outliers"
   ]
  },
  {
   "cell_type": "markdown",
   "id": "668aa68b",
   "metadata": {},
   "source": [
    "## 6.Model Building and training"
   ]
  },
  {
   "cell_type": "code",
   "execution_count": 8,
   "id": "0a3cfed3",
   "metadata": {},
   "outputs": [],
   "source": [
    "salary_predc_model = ols(formula='Salary~YearsExperience',data=train).fit()"
   ]
  },
  {
   "cell_type": "markdown",
   "id": "883e284b",
   "metadata": {},
   "source": [
    "## 7.Model testing and evalution using train data"
   ]
  },
  {
   "cell_type": "code",
   "execution_count": 9,
   "id": "58d7254a",
   "metadata": {},
   "outputs": [],
   "source": [
    "y_train_pred = salary_predc_model.predict(train)"
   ]
  },
  {
   "cell_type": "code",
   "execution_count": 10,
   "id": "b57c5df6",
   "metadata": {},
   "outputs": [
    {
     "data": {
      "text/plain": [
       "0.702075518341867"
      ]
     },
     "execution_count": 10,
     "metadata": {},
     "output_type": "execute_result"
    }
   ],
   "source": [
    "salary_predc_model.rsquared"
   ]
  },
  {
   "cell_type": "code",
   "execution_count": 11,
   "id": "34314f55",
   "metadata": {},
   "outputs": [
    {
     "data": {
      "text/plain": [
       "-1.4551915228366852e-11"
      ]
     },
     "execution_count": 11,
     "metadata": {},
     "output_type": "execute_result"
    }
   ],
   "source": [
    "salary_predc_model.resid.mean()"
   ]
  },
  {
   "cell_type": "markdown",
   "id": "875d8a6d",
   "metadata": {},
   "source": [
    "## 8.1 Residual Normality check"
   ]
  },
  {
   "cell_type": "code",
   "execution_count": 12,
   "id": "fd68397b",
   "metadata": {},
   "outputs": [
    {
     "data": {
      "image/png": "[encoded data removed]",
      "text/plain": [
       "<Figure size 432x288 with 1 Axes>"
      ]
     },
     "metadata": {
      "needs_background": "light"
     },
     "output_type": "display_data"
    }
   ],
   "source": [
    "api.qqplot(salary_predc_model.resid,line='q')\n",
    "plt.show()\n",
    "\n",
    "# points are not falling on the line"
   ]
  },
  {
   "cell_type": "markdown",
   "id": "ce455edf",
   "metadata": {},
   "source": [
    "## 8.2 Homoscedasticity check"
   ]
  },
  {
   "cell_type": "code",
   "execution_count": 13,
   "id": "2dd0a7d3",
   "metadata": {},
   "outputs": [
    {
     "data": {
      "image/png": "[encoded data removed]",
      "text/plain": [
       "<Figure size 432x288 with 1 Axes>"
      ]
     },
     "metadata": {
      "needs_background": "light"
     },
     "output_type": "display_data"
    }
   ],
   "source": [
    "def get_standardized_values( vals ):\n",
    "    return (vals - vals.mean())/vals.std()\n",
    "\n",
    "plt.scatter(get_standardized_values(salary_predc_model.fittedvalues),get_standardized_values(salary_predc_model.resid))\n",
    "plt.xlabel('fitted values or predictions')\n",
    "plt.ylabel('residuals')\n",
    "plt.show()\n",
    "\n",
    "#variance is not constant"
   ]
  },
  {
   "cell_type": "markdown",
   "id": "f37accf8",
   "metadata": {},
   "source": [
    "## 9.Model testing and evaluation using test data"
   ]
  },
  {
   "cell_type": "code",
   "execution_count": 14,
   "id": "8787c03e",
   "metadata": {},
   "outputs": [],
   "source": [
    "y_test_pred = salary_predc_model.predict(test)"
   ]
  },
  {
   "cell_type": "code",
   "execution_count": 15,
   "id": "ab80bd1c",
   "metadata": {},
   "outputs": [
    {
     "data": {
      "text/plain": [
       "0.702075518341867"
      ]
     },
     "execution_count": 15,
     "metadata": {},
     "output_type": "execute_result"
    }
   ],
   "source": [
    "salary_predc_model.rsquared"
   ]
  },
  {
   "cell_type": "code",
   "execution_count": 16,
   "id": "a9a220bd",
   "metadata": {},
   "outputs": [
    {
     "data": {
      "text/plain": [
       "-1.4551915228366852e-11"
      ]
     },
     "execution_count": 16,
     "metadata": {},
     "output_type": "execute_result"
    }
   ],
   "source": [
    "salary_predc_model.resid.mean()"
   ]
  },
  {
   "cell_type": "markdown",
   "id": "b246598e",
   "metadata": {},
   "source": [
    "## 10.Model Deployment"
   ]
  },
  {
   "cell_type": "code",
   "execution_count": 17,
   "id": "13a2332b",
   "metadata": {},
   "outputs": [],
   "source": [
    "dump(salary_predc_model,open('salary_prediction.pkl','wb'))"
   ]
  },
  {
   "cell_type": "markdown",
   "id": "e46c1b8c",
   "metadata": {},
   "source": [
    "**Linear algorithm is not the best fit for this data, as r square is just 70%**"
   ]
  },
  {
   "cell_type": "markdown",
   "id": "8099b177",
   "metadata": {},
   "source": [
    "### Regressor vs reggression"
   ]
  },
  {
   "cell_type": "code",
   "execution_count": 20,
   "id": "6c2608b7",
   "metadata": {},
   "outputs": [
    {
     "data": {
      "image/png": "[encoded data removed]",
      "text/plain": [
       "<Figure size 1080x576 with 4 Axes>"
      ]
     },
     "metadata": {
      "needs_background": "light"
     },
     "output_type": "display_data"
    }
   ],
   "source": [
    "# Regression vs 'YearsExperience'\n",
    "#enog is y\n",
    "#exog is x\n",
    "fig = plt.figure(figsize=(15,8))\n",
    "fig = api.graphics.plot_regress_exog(salary_predc_model,'YearsExperience',fig=fig)\n",
    "#plot1 is exog vs edog, i.e YearsExperience vs salary which should be linear\n",
    "#plot2 is exog vs residuals, which should be with equal variance\n",
    "#plot3 is exog vs fitted or predicted values\n",
    "#plot4 is exog vs fitted values plus residuals"
   ]
  }
 ],
 "metadata": {
  "kernelspec": {
   "display_name": "Python 3",
   "language": "python",
   "name": "python3"
  },
  "language_info": {
   "codemirror_mode": {
    "name": "ipython",
    "version": 3
   },
   "file_extension": ".py",
   "mimetype": "text/x-python",
   "name": "python",
   "nbconvert_exporter": "python",
   "pygments_lexer": "ipython3",
   "version": "3.8.8"
  }
 },
 "nbformat": 4,
 "nbformat_minor": 5
}
