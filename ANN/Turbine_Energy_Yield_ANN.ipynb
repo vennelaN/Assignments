{
 "cells": [
  {
   "cell_type": "code",
   "execution_count": 55,
   "id": "c119ebf5",
   "metadata": {},
   "outputs": [],
   "source": [
    "import pandas as pd\n",
    "import numpy as np\n",
    "from sklearn.model_selection import train_test_split,GridSearchCV\n",
    "from keras.wrappers.scikit_learn import KerasRegressor\n"
   ]
  },
  {
   "cell_type": "markdown",
   "id": "0412cc4e",
   "metadata": {},
   "source": [
    "## 1.Loading data"
   ]
  },
  {
   "cell_type": "code",
   "execution_count": 3,
   "id": "39c09209",
   "metadata": {},
   "outputs": [
    {
     "data": {
      "text/html": [
       "<div>\n",
       "<style scoped>\n",
       "    .dataframe tbody tr th:only-of-type {\n",
       "        vertical-align: middle;\n",
       "    }\n",
       "\n",
       "    .dataframe tbody tr th {\n",
       "        vertical-align: top;\n",
       "    }\n",
       "\n",
       "    .dataframe thead th {\n",
       "        text-align: right;\n",
       "    }\n",
       "</style>\n",
       "<table border=\"1\" class=\"dataframe\">\n",
       "  <thead>\n",
       "    <tr style=\"text-align: right;\">\n",
       "      <th></th>\n",
       "      <th>AT</th>\n",
       "      <th>AP</th>\n",
       "      <th>AH</th>\n",
       "      <th>AFDP</th>\n",
       "      <th>GTEP</th>\n",
       "      <th>TIT</th>\n",
       "      <th>TAT</th>\n",
       "      <th>TEY</th>\n",
       "      <th>CDP</th>\n",
       "      <th>CO</th>\n",
       "      <th>NOX</th>\n",
       "    </tr>\n",
       "  </thead>\n",
       "  <tbody>\n",
       "    <tr>\n",
       "      <th>0</th>\n",
       "      <td>6.8594</td>\n",
       "      <td>1007.9</td>\n",
       "      <td>96.799</td>\n",
       "      <td>3.5000</td>\n",
       "      <td>19.663</td>\n",
       "      <td>1059.2</td>\n",
       "      <td>550.00</td>\n",
       "      <td>114.70</td>\n",
       "      <td>10.605</td>\n",
       "      <td>3.1547</td>\n",
       "      <td>82.722</td>\n",
       "    </tr>\n",
       "    <tr>\n",
       "      <th>1</th>\n",
       "      <td>6.7850</td>\n",
       "      <td>1008.4</td>\n",
       "      <td>97.118</td>\n",
       "      <td>3.4998</td>\n",
       "      <td>19.728</td>\n",
       "      <td>1059.3</td>\n",
       "      <td>550.00</td>\n",
       "      <td>114.72</td>\n",
       "      <td>10.598</td>\n",
       "      <td>3.2363</td>\n",
       "      <td>82.776</td>\n",
       "    </tr>\n",
       "    <tr>\n",
       "      <th>2</th>\n",
       "      <td>6.8977</td>\n",
       "      <td>1008.8</td>\n",
       "      <td>95.939</td>\n",
       "      <td>3.4824</td>\n",
       "      <td>19.779</td>\n",
       "      <td>1059.4</td>\n",
       "      <td>549.87</td>\n",
       "      <td>114.71</td>\n",
       "      <td>10.601</td>\n",
       "      <td>3.2012</td>\n",
       "      <td>82.468</td>\n",
       "    </tr>\n",
       "    <tr>\n",
       "      <th>3</th>\n",
       "      <td>7.0569</td>\n",
       "      <td>1009.2</td>\n",
       "      <td>95.249</td>\n",
       "      <td>3.4805</td>\n",
       "      <td>19.792</td>\n",
       "      <td>1059.6</td>\n",
       "      <td>549.99</td>\n",
       "      <td>114.72</td>\n",
       "      <td>10.606</td>\n",
       "      <td>3.1923</td>\n",
       "      <td>82.670</td>\n",
       "    </tr>\n",
       "    <tr>\n",
       "      <th>4</th>\n",
       "      <td>7.3978</td>\n",
       "      <td>1009.7</td>\n",
       "      <td>95.150</td>\n",
       "      <td>3.4976</td>\n",
       "      <td>19.765</td>\n",
       "      <td>1059.7</td>\n",
       "      <td>549.98</td>\n",
       "      <td>114.72</td>\n",
       "      <td>10.612</td>\n",
       "      <td>3.2484</td>\n",
       "      <td>82.311</td>\n",
       "    </tr>\n",
       "  </tbody>\n",
       "</table>\n",
       "</div>"
      ],
      "text/plain": [
       "       AT      AP      AH    AFDP    GTEP     TIT     TAT     TEY     CDP  \\\n",
       "0  6.8594  1007.9  96.799  3.5000  19.663  1059.2  550.00  114.70  10.605   \n",
       "1  6.7850  1008.4  97.118  3.4998  19.728  1059.3  550.00  114.72  10.598   \n",
       "2  6.8977  1008.8  95.939  3.4824  19.779  1059.4  549.87  114.71  10.601   \n",
       "3  7.0569  1009.2  95.249  3.4805  19.792  1059.6  549.99  114.72  10.606   \n",
       "4  7.3978  1009.7  95.150  3.4976  19.765  1059.7  549.98  114.72  10.612   \n",
       "\n",
       "       CO     NOX  \n",
       "0  3.1547  82.722  \n",
       "1  3.2363  82.776  \n",
       "2  3.2012  82.468  \n",
       "3  3.1923  82.670  \n",
       "4  3.2484  82.311  "
      ]
     },
     "execution_count": 3,
     "metadata": {},
     "output_type": "execute_result"
    }
   ],
   "source": [
    "data = pd.read_csv('Datasets/gas_turbines.csv')\n",
    "data.head()"
   ]
  },
  {
   "cell_type": "markdown",
   "id": "c7de894b",
   "metadata": {},
   "source": [
    "## 2.Data analysis"
   ]
  },
  {
   "cell_type": "code",
   "execution_count": 5,
   "id": "f01a1c15",
   "metadata": {},
   "outputs": [
    {
     "data": {
      "text/plain": [
       "(15039, 11)"
      ]
     },
     "execution_count": 5,
     "metadata": {},
     "output_type": "execute_result"
    }
   ],
   "source": [
    "data.shape"
   ]
  },
  {
   "cell_type": "code",
   "execution_count": 6,
   "id": "cec61704",
   "metadata": {},
   "outputs": [
    {
     "data": {
      "text/plain": [
       "AT      float64\n",
       "AP      float64\n",
       "AH      float64\n",
       "AFDP    float64\n",
       "GTEP    float64\n",
       "TIT     float64\n",
       "TAT     float64\n",
       "TEY     float64\n",
       "CDP     float64\n",
       "CO      float64\n",
       "NOX     float64\n",
       "dtype: object"
      ]
     },
     "execution_count": 6,
     "metadata": {},
     "output_type": "execute_result"
    }
   ],
   "source": [
    "data.dtypes"
   ]
  },
  {
   "cell_type": "code",
   "execution_count": 7,
   "id": "d8e2475c",
   "metadata": {},
   "outputs": [
    {
     "data": {
      "text/plain": [
       "AT      0\n",
       "AP      0\n",
       "AH      0\n",
       "AFDP    0\n",
       "GTEP    0\n",
       "TIT     0\n",
       "TAT     0\n",
       "TEY     0\n",
       "CDP     0\n",
       "CO      0\n",
       "NOX     0\n",
       "dtype: int64"
      ]
     },
     "execution_count": 7,
     "metadata": {},
     "output_type": "execute_result"
    }
   ],
   "source": [
    "data.isna().sum()"
   ]
  },
  {
   "cell_type": "markdown",
   "id": "130f4c51",
   "metadata": {},
   "source": [
    "## 4.Data preprocessing\n",
    "### 4.1. Seperating X,y"
   ]
  },
  {
   "cell_type": "code",
   "execution_count": 8,
   "id": "7e8c5c53",
   "metadata": {},
   "outputs": [],
   "source": [
    "X = data.drop(labels='TEY',axis=1)\n",
    "y = data['TEY']"
   ]
  },
  {
   "cell_type": "code",
   "execution_count": 9,
   "id": "2df973b4",
   "metadata": {},
   "outputs": [],
   "source": [
    "col = X.columns\n"
   ]
  },
  {
   "cell_type": "code",
   "execution_count": 10,
   "id": "2add3f34",
   "metadata": {},
   "outputs": [],
   "source": [
    "from sklearn.preprocessing import StandardScaler"
   ]
  },
  {
   "cell_type": "markdown",
   "id": "bc384255",
   "metadata": {},
   "source": [
    "### 4.2 Standardizing X"
   ]
  },
  {
   "cell_type": "code",
   "execution_count": 11,
   "id": "1fa69bf5",
   "metadata": {},
   "outputs": [],
   "source": [
    "std = StandardScaler()\n",
    "X = pd.DataFrame(std.fit_transform(X),columns=col)"
   ]
  },
  {
   "cell_type": "code",
   "execution_count": 12,
   "id": "d8f41657",
   "metadata": {},
   "outputs": [
    {
     "data": {
      "text/html": [
       "<div>\n",
       "<style scoped>\n",
       "    .dataframe tbody tr th:only-of-type {\n",
       "        vertical-align: middle;\n",
       "    }\n",
       "\n",
       "    .dataframe tbody tr th {\n",
       "        vertical-align: top;\n",
       "    }\n",
       "\n",
       "    .dataframe thead th {\n",
       "        text-align: right;\n",
       "    }\n",
       "</style>\n",
       "<table border=\"1\" class=\"dataframe\">\n",
       "  <thead>\n",
       "    <tr style=\"text-align: right;\">\n",
       "      <th></th>\n",
       "      <th>AT</th>\n",
       "      <th>AP</th>\n",
       "      <th>AH</th>\n",
       "      <th>AFDP</th>\n",
       "      <th>GTEP</th>\n",
       "      <th>TIT</th>\n",
       "      <th>TAT</th>\n",
       "      <th>CDP</th>\n",
       "      <th>CO</th>\n",
       "      <th>NOX</th>\n",
       "    </tr>\n",
       "  </thead>\n",
       "  <tbody>\n",
       "    <tr>\n",
       "      <th>0</th>\n",
       "      <td>-1.439778</td>\n",
       "      <td>-0.826644</td>\n",
       "      <td>1.281436</td>\n",
       "      <td>-0.921232</td>\n",
       "      <td>-1.379101</td>\n",
       "      <td>-1.488376</td>\n",
       "      <td>0.585240</td>\n",
       "      <td>-1.357331</td>\n",
       "      <td>0.532012</td>\n",
       "      <td>1.387845</td>\n",
       "    </tr>\n",
       "    <tr>\n",
       "      <th>1</th>\n",
       "      <td>-1.449601</td>\n",
       "      <td>-0.748647</td>\n",
       "      <td>1.304564</td>\n",
       "      <td>-0.921495</td>\n",
       "      <td>-1.363528</td>\n",
       "      <td>-1.482325</td>\n",
       "      <td>0.585240</td>\n",
       "      <td>-1.363676</td>\n",
       "      <td>0.568733</td>\n",
       "      <td>1.393002</td>\n",
       "    </tr>\n",
       "    <tr>\n",
       "      <th>2</th>\n",
       "      <td>-1.434721</td>\n",
       "      <td>-0.686250</td>\n",
       "      <td>1.219086</td>\n",
       "      <td>-0.944385</td>\n",
       "      <td>-1.351309</td>\n",
       "      <td>-1.476275</td>\n",
       "      <td>0.568715</td>\n",
       "      <td>-1.360957</td>\n",
       "      <td>0.552938</td>\n",
       "      <td>1.363586</td>\n",
       "    </tr>\n",
       "    <tr>\n",
       "      <th>3</th>\n",
       "      <td>-1.413702</td>\n",
       "      <td>-0.623853</td>\n",
       "      <td>1.169060</td>\n",
       "      <td>-0.946884</td>\n",
       "      <td>-1.348194</td>\n",
       "      <td>-1.464173</td>\n",
       "      <td>0.583969</td>\n",
       "      <td>-1.356424</td>\n",
       "      <td>0.548933</td>\n",
       "      <td>1.382878</td>\n",
       "    </tr>\n",
       "    <tr>\n",
       "      <th>4</th>\n",
       "      <td>-1.368693</td>\n",
       "      <td>-0.545857</td>\n",
       "      <td>1.161883</td>\n",
       "      <td>-0.924389</td>\n",
       "      <td>-1.354663</td>\n",
       "      <td>-1.458123</td>\n",
       "      <td>0.582698</td>\n",
       "      <td>-1.350985</td>\n",
       "      <td>0.574179</td>\n",
       "      <td>1.348591</td>\n",
       "    </tr>\n",
       "  </tbody>\n",
       "</table>\n",
       "</div>"
      ],
      "text/plain": [
       "         AT        AP        AH      AFDP      GTEP       TIT       TAT  \\\n",
       "0 -1.439778 -0.826644  1.281436 -0.921232 -1.379101 -1.488376  0.585240   \n",
       "1 -1.449601 -0.748647  1.304564 -0.921495 -1.363528 -1.482325  0.585240   \n",
       "2 -1.434721 -0.686250  1.219086 -0.944385 -1.351309 -1.476275  0.568715   \n",
       "3 -1.413702 -0.623853  1.169060 -0.946884 -1.348194 -1.464173  0.583969   \n",
       "4 -1.368693 -0.545857  1.161883 -0.924389 -1.354663 -1.458123  0.582698   \n",
       "\n",
       "        CDP        CO       NOX  \n",
       "0 -1.357331  0.532012  1.387845  \n",
       "1 -1.363676  0.568733  1.393002  \n",
       "2 -1.360957  0.552938  1.363586  \n",
       "3 -1.356424  0.548933  1.382878  \n",
       "4 -1.350985  0.574179  1.348591  "
      ]
     },
     "execution_count": 12,
     "metadata": {},
     "output_type": "execute_result"
    }
   ],
   "source": [
    "X.head()"
   ]
  },
  {
   "cell_type": "markdown",
   "id": "752fd7b1",
   "metadata": {},
   "source": [
    "### 4.3 Train test split"
   ]
  },
  {
   "cell_type": "code",
   "execution_count": 16,
   "id": "b3c25d3a",
   "metadata": {},
   "outputs": [
    {
     "data": {
      "text/plain": [
       "((12031, 10), (3008, 10), (12031,), (3008,))"
      ]
     },
     "execution_count": 16,
     "metadata": {},
     "output_type": "execute_result"
    }
   ],
   "source": [
    "X_train,X_test,y_train,y_test = train_test_split(X,y,test_size=.20,random_state=45,shuffle=True)\n",
    "X_train.shape,X_test.shape,y_train.shape,y_test.shape"
   ]
  },
  {
   "cell_type": "markdown",
   "id": "4570e4de",
   "metadata": {},
   "source": [
    "## 5.ANN Model"
   ]
  },
  {
   "cell_type": "code",
   "execution_count": 17,
   "id": "0d2a537b",
   "metadata": {},
   "outputs": [],
   "source": [
    "import tensorflow as tf\n",
    "import keras"
   ]
  },
  {
   "cell_type": "code",
   "execution_count": 18,
   "id": "4166da01",
   "metadata": {},
   "outputs": [],
   "source": [
    "from keras.models import Sequential\n",
    "from keras.layers import Dense"
   ]
  },
  {
   "cell_type": "code",
   "execution_count": 23,
   "id": "1e854a44",
   "metadata": {},
   "outputs": [],
   "source": [
    "# create ANN model\n",
    "model = Sequential()\n",
    "\n",
    "## Defining the Input layer and FIRST hidden layer, both are same!\n",
    "model.add(Dense(units = 5,input_dim = 10,kernel_initializer='normal', activation='relu'))\n",
    "\n",
    "# Defining the Second layer of the model\n",
    "# after the first layer we don't have to specify input_dim as keras configure it automatically\n",
    "model.add(Dense(units = 5,kernel_initializer='normal', activation='relu'))\n",
    "\n",
    "# The output neuron is a single fully connected node \n",
    "# Since we will be predicting a single number\n",
    "model.add(Dense(1, kernel_initializer='normal'))\n",
    "\n",
    "# Compiling the model\n",
    "model.compile(loss='mean_squared_error', optimizer='adam')\n"
   ]
  },
  {
   "cell_type": "code",
   "execution_count": 24,
   "id": "e81a2edd",
   "metadata": {},
   "outputs": [
    {
     "name": "stdout",
     "output_type": "stream",
     "text": [
      "Epoch 1/50\n",
      "602/602 [==============================] - 1s 599us/step - loss: 14309.8467\n",
      "Epoch 2/50\n",
      "602/602 [==============================] - 0s 584us/step - loss: 1858.1028\n",
      "Epoch 3/50\n",
      "602/602 [==============================] - 0s 588us/step - loss: 313.5623\n",
      "Epoch 4/50\n",
      "602/602 [==============================] - 0s 584us/step - loss: 229.7184\n",
      "Epoch 5/50\n",
      "602/602 [==============================] - 0s 609us/step - loss: 162.7896\n",
      "Epoch 6/50\n",
      "602/602 [==============================] - 0s 608us/step - loss: 109.7943\n",
      "Epoch 7/50\n",
      "602/602 [==============================] - 0s 598us/step - loss: 76.0502\n",
      "Epoch 8/50\n",
      "602/602 [==============================] - 0s 596us/step - loss: 54.6550\n",
      "Epoch 9/50\n",
      "602/602 [==============================] - 0s 596us/step - loss: 40.6072\n",
      "Epoch 10/50\n",
      "602/602 [==============================] - 0s 625us/step - loss: 31.8441\n",
      "Epoch 11/50\n",
      "602/602 [==============================] - 0s 617us/step - loss: 24.9905\n",
      "Epoch 12/50\n",
      "602/602 [==============================] - 0s 601us/step - loss: 19.0662\n",
      "Epoch 13/50\n",
      "602/602 [==============================] - 0s 596us/step - loss: 14.2039\n",
      "Epoch 14/50\n",
      "602/602 [==============================] - 0s 596us/step - loss: 10.6704\n",
      "Epoch 15/50\n",
      "602/602 [==============================] - 0s 602us/step - loss: 8.0237\n",
      "Epoch 16/50\n",
      "602/602 [==============================] - 0s 705us/step - loss: 5.9552\n",
      "Epoch 17/50\n",
      "602/602 [==============================] - 0s 786us/step - loss: 4.3632\n",
      "Epoch 18/50\n",
      "602/602 [==============================] - 0s 700us/step - loss: 2.9532\n",
      "Epoch 19/50\n",
      "602/602 [==============================] - 0s 757us/step - loss: 1.8798\n",
      "Epoch 20/50\n",
      "602/602 [==============================] - 0s 627us/step - loss: 1.0148\n",
      "Epoch 21/50\n",
      "602/602 [==============================] - 0s 645us/step - loss: 0.7196\n",
      "Epoch 22/50\n",
      "602/602 [==============================] - 0s 779us/step - loss: 0.6430\n",
      "Epoch 23/50\n",
      "602/602 [==============================] - 0s 768us/step - loss: 0.6049\n",
      "Epoch 24/50\n",
      "602/602 [==============================] - 0s 673us/step - loss: 0.5872\n",
      "Epoch 25/50\n",
      "602/602 [==============================] - 0s 666us/step - loss: 0.5835\n",
      "Epoch 26/50\n",
      "602/602 [==============================] - 0s 633us/step - loss: 0.5712\n",
      "Epoch 27/50\n",
      "602/602 [==============================] - 0s 665us/step - loss: 0.5715\n",
      "Epoch 28/50\n",
      "602/602 [==============================] - 0s 676us/step - loss: 0.5644\n",
      "Epoch 29/50\n",
      "602/602 [==============================] - 0s 658us/step - loss: 0.5834\n",
      "Epoch 30/50\n",
      "602/602 [==============================] - 0s 661us/step - loss: 0.5633\n",
      "Epoch 31/50\n",
      "602/602 [==============================] - 0s 672us/step - loss: 0.5656\n",
      "Epoch 32/50\n",
      "602/602 [==============================] - 0s 700us/step - loss: 0.5761\n",
      "Epoch 33/50\n",
      "602/602 [==============================] - 0s 662us/step - loss: 0.5798\n",
      "Epoch 34/50\n",
      "602/602 [==============================] - 0s 678us/step - loss: 0.5636\n",
      "Epoch 35/50\n",
      "602/602 [==============================] - 0s 566us/step - loss: 0.5691\n",
      "Epoch 36/50\n",
      "602/602 [==============================] - 0s 608us/step - loss: 0.5671\n",
      "Epoch 37/50\n",
      "602/602 [==============================] - 0s 639us/step - loss: 0.5726\n",
      "Epoch 38/50\n",
      "602/602 [==============================] - 0s 593us/step - loss: 0.5659\n",
      "Epoch 39/50\n",
      "602/602 [==============================] - 0s 589us/step - loss: 0.5850\n",
      "Epoch 40/50\n",
      "602/602 [==============================] - 0s 611us/step - loss: 0.5773\n",
      "Epoch 41/50\n",
      "602/602 [==============================] - 0s 575us/step - loss: 0.5619\n",
      "Epoch 42/50\n",
      "602/602 [==============================] - 0s 569us/step - loss: 0.5675\n",
      "Epoch 43/50\n",
      "602/602 [==============================] - 0s 593us/step - loss: 0.5709\n",
      "Epoch 44/50\n",
      "602/602 [==============================] - 0s 606us/step - loss: 0.5779\n",
      "Epoch 45/50\n",
      "602/602 [==============================] - 0s 603us/step - loss: 0.5747\n",
      "Epoch 46/50\n",
      "602/602 [==============================] - 0s 699us/step - loss: 0.5678\n",
      "Epoch 47/50\n",
      "602/602 [==============================] - 0s 592us/step - loss: 0.5739\n",
      "Epoch 48/50\n",
      "602/602 [==============================] - 0s 631us/step - loss: 0.5825\n",
      "Epoch 49/50\n",
      "602/602 [==============================] - 0s 593us/step - loss: 0.5733\n",
      "Epoch 50/50\n",
      "602/602 [==============================] - 0s 720us/step - loss: 0.5691\n"
     ]
    },
    {
     "data": {
      "text/plain": [
       "<keras.callbacks.History at 0x7ff1239b5640>"
      ]
     },
     "execution_count": 24,
     "metadata": {},
     "output_type": "execute_result"
    }
   ],
   "source": [
    "# Fitting the ANN to the Training set\n",
    "model.fit(X_train, y_train ,batch_size = 20, epochs = 50, verbose=1)"
   ]
  },
  {
   "cell_type": "markdown",
   "id": "4274416c",
   "metadata": {},
   "source": [
    "## Model Prediction"
   ]
  },
  {
   "cell_type": "code",
   "execution_count": 43,
   "id": "e7e977ce",
   "metadata": {},
   "outputs": [
    {
     "data": {
      "text/plain": [
       "4264     0.442857\n",
       "3852     0.723292\n",
       "1266     1.193433\n",
       "14730    0.951146\n",
       "487     -0.916625\n",
       "           ...   \n",
       "3715    -0.851801\n",
       "7934     0.490787\n",
       "10636    0.390284\n",
       "10853    0.333434\n",
       "591      0.764832\n",
       "Name: TEY, Length: 3008, dtype: float64"
      ]
     },
     "execution_count": 43,
     "metadata": {},
     "output_type": "execute_result"
    }
   ],
   "source": [
    "model.predict(X_test)"
   ]
  },
  {
   "cell_type": "markdown",
   "id": "dffaeabe",
   "metadata": {},
   "source": [
    "## Hyper parameter Tuning of ANN\n",
    "### Finding best set of parameters using manual grid search"
   ]
  },
  {
   "cell_type": "code",
   "execution_count": 44,
   "id": "ada8d673",
   "metadata": {},
   "outputs": [
    {
     "name": "stdout",
     "output_type": "stream",
     "text": [
      "1 Parameters: batch_size: 5 - epochs: 5 Accuracy: 98.84409855657084\n",
      "2 Parameters: batch_size: 5 - epochs: 10 Accuracy: 99.54591419596794\n",
      "3 Parameters: batch_size: 5 - epochs: 50 Accuracy: 99.60026407124575\n",
      "4 Parameters: batch_size: 5 - epochs: 100 Accuracy: 99.53331749565254\n",
      "5 Parameters: batch_size: 10 - epochs: 5 Accuracy: 95.83101076937577\n",
      "6 Parameters: batch_size: 10 - epochs: 10 Accuracy: 99.1481158460923\n",
      "7 Parameters: batch_size: 10 - epochs: 50 Accuracy: 99.5742314523502\n",
      "8 Parameters: batch_size: 10 - epochs: 100 Accuracy: 99.59818524638042\n",
      "9 Parameters: batch_size: 15 - epochs: 5 Accuracy: 94.90685479568724\n",
      "10 Parameters: batch_size: 15 - epochs: 10 Accuracy: 99.2400269591172\n",
      "11 Parameters: batch_size: 15 - epochs: 50 Accuracy: 99.60616807633129\n",
      "12 Parameters: batch_size: 15 - epochs: 100 Accuracy: 99.5823014946683\n",
      "13 Parameters: batch_size: 20 - epochs: 5 Accuracy: 92.81312013120575\n",
      "14 Parameters: batch_size: 20 - epochs: 10 Accuracy: 97.70810799700331\n",
      "15 Parameters: batch_size: 20 - epochs: 50 Accuracy: 99.59378833621817\n",
      "16 Parameters: batch_size: 20 - epochs: 100 Accuracy: 99.5160329565064\n"
     ]
    }
   ],
   "source": [
    "\n",
    "# Defining a function to find the best parameters for ANN\n",
    "def FunctionFindBestParams(X_train, y_train, X_test, y_test):\n",
    "    \n",
    "    # Defining the list of hyper parameters to try\n",
    "    batch_size_list=[5, 10, 15, 20]\n",
    "    epoch_list  =   [5, 10, 50, 100]\n",
    "    \n",
    "    import pandas as pd\n",
    "    SearchResultsData=pd.DataFrame(columns=['TrialNumber', 'Parameters', 'Accuracy'])\n",
    "    \n",
    "    # initializing the trials\n",
    "    TrialNumber=0\n",
    "    for batch_size_trial in batch_size_list:\n",
    "        for epochs_trial in epoch_list:\n",
    "            TrialNumber+=1\n",
    "            # create ANN model\n",
    "            model = Sequential()\n",
    "            # Defining the first layer of the model\n",
    "            model.add(Dense(units=5, input_dim=X_train.shape[1], kernel_initializer='normal', activation='relu'))\n",
    " \n",
    "            # Defining the Second layer of the model\n",
    "            model.add(Dense(units=5, kernel_initializer='normal', activation='relu'))\n",
    " \n",
    "            # The output neuron is a single fully connected node \n",
    "            # Since we will be predicting a single number\n",
    "            model.add(Dense(1, kernel_initializer='normal'))\n",
    " \n",
    "            # Compiling the model\n",
    "            model.compile(loss='mean_squared_error', optimizer='adam')\n",
    " \n",
    "            # Fitting the ANN to the Training set\n",
    "            model.fit(X_train, y_train ,batch_size = batch_size_trial, epochs = epochs_trial, verbose=0)\n",
    " \n",
    "            MAPE = np.mean(100 * (np.abs(y_test - np.reshape(model.predict(X_test),(3008,)))/y_test))\n",
    "            \n",
    "            # printing the results of the current iteration\n",
    "            print(TrialNumber, 'Parameters:','batch_size:', batch_size_trial,'-', 'epochs:',epochs_trial, 'Accuracy:', 100-MAPE)\n",
    "            \n",
    "            SearchResultsData=SearchResultsData.append(pd.DataFrame(data=[[TrialNumber, str(batch_size_trial)+'-'+str(epochs_trial), 100-MAPE]],\n",
    "                                                                    columns=['TrialNumber', 'Parameters', 'Accuracy'] ))\n",
    "    return(SearchResultsData)\n",
    " \n",
    " \n",
    "######################################################\n",
    "# Calling the function\n",
    "ResultsData =  FunctionFindBestParams(X_train, y_train, X_test, y_test)"
   ]
  },
  {
   "cell_type": "markdown",
   "id": "35426ab8",
   "metadata": {},
   "source": [
    "## Plotting the parameter trial results"
   ]
  },
  {
   "cell_type": "code",
   "execution_count": 45,
   "id": "3e59435c",
   "metadata": {},
   "outputs": [
    {
     "data": {
      "text/plain": [
       "<AxesSubplot:xlabel='Parameters'>"
      ]
     },
     "execution_count": 45,
     "metadata": {},
     "output_type": "execute_result"
    },
    {
     "data": {
      "image/png": "[encoded data removed]",
      "text/plain": [
       "<Figure size 1080x288 with 1 Axes>"
      ]
     },
     "metadata": {
      "needs_background": "light"
     },
     "output_type": "display_data"
    }
   ],
   "source": [
    "\n",
    "%matplotlib inline\n",
    "ResultsData.plot(x='Parameters', y='Accuracy', figsize=(15,4), kind='line')"
   ]
  },
  {
   "cell_type": "markdown",
   "id": "030614b3",
   "metadata": {},
   "source": [
    "### Training the ANN model with the best parameters batch_size: 5 - epochs: 10"
   ]
  },
  {
   "cell_type": "code",
   "execution_count": 47,
   "id": "dc966835",
   "metadata": {},
   "outputs": [
    {
     "name": "stdout",
     "output_type": "stream",
     "text": [
      "Epoch 1/10\n",
      "2407/2407 [==============================] - 1s 613us/step - loss: 0.6795\n",
      "Epoch 2/10\n",
      "2407/2407 [==============================] - 1s 583us/step - loss: 0.6474\n",
      "Epoch 3/10\n",
      "2407/2407 [==============================] - 1s 582us/step - loss: 0.6514\n",
      "Epoch 4/10\n",
      "2407/2407 [==============================] - 1s 575us/step - loss: 0.6576\n",
      "Epoch 5/10\n",
      "2407/2407 [==============================] - 1s 574us/step - loss: 0.6506\n",
      "Epoch 6/10\n",
      "2407/2407 [==============================] - 1s 596us/step - loss: 0.6572\n",
      "Epoch 7/10\n",
      "2407/2407 [==============================] - 2s 639us/step - loss: 0.6435\n",
      "Epoch 8/10\n",
      "2407/2407 [==============================] - 1s 575us/step - loss: 0.6448\n",
      "Epoch 9/10\n",
      "2407/2407 [==============================] - 1s 572us/step - loss: 0.6499\n",
      "Epoch 10/10\n",
      "2407/2407 [==============================] - 1s 579us/step - loss: 0.6531\n"
     ]
    },
    {
     "data": {
      "text/plain": [
       "<keras.callbacks.History at 0x7ff124664850>"
      ]
     },
     "execution_count": 47,
     "metadata": {},
     "output_type": "execute_result"
    }
   ],
   "source": [
    "model.fit(x=X_train,y=y_train,batch_size=5,epochs=10,verbose=1)\n"
   ]
  },
  {
   "cell_type": "code",
   "execution_count": 52,
   "id": "8d0158c0",
   "metadata": {},
   "outputs": [
    {
     "data": {
      "text/html": [
       "<div>\n",
       "<style scoped>\n",
       "    .dataframe tbody tr th:only-of-type {\n",
       "        vertical-align: middle;\n",
       "    }\n",
       "\n",
       "    .dataframe tbody tr th {\n",
       "        vertical-align: top;\n",
       "    }\n",
       "\n",
       "    .dataframe thead th {\n",
       "        text-align: right;\n",
       "    }\n",
       "</style>\n",
       "<table border=\"1\" class=\"dataframe\">\n",
       "  <thead>\n",
       "    <tr style=\"text-align: right;\">\n",
       "      <th></th>\n",
       "      <th>TEY</th>\n",
       "      <th>PredictedPrice</th>\n",
       "    </tr>\n",
       "  </thead>\n",
       "  <tbody>\n",
       "    <tr>\n",
       "      <th>4264</th>\n",
       "      <td>110.78</td>\n",
       "      <td>110.521698</td>\n",
       "    </tr>\n",
       "    <tr>\n",
       "      <th>3852</th>\n",
       "      <td>133.74</td>\n",
       "      <td>133.408188</td>\n",
       "    </tr>\n",
       "    <tr>\n",
       "      <th>1266</th>\n",
       "      <td>110.62</td>\n",
       "      <td>109.977730</td>\n",
       "    </tr>\n",
       "    <tr>\n",
       "      <th>14730</th>\n",
       "      <td>134.73</td>\n",
       "      <td>134.275726</td>\n",
       "    </tr>\n",
       "    <tr>\n",
       "      <th>487</th>\n",
       "      <td>133.64</td>\n",
       "      <td>134.848877</td>\n",
       "    </tr>\n",
       "  </tbody>\n",
       "</table>\n",
       "</div>"
      ],
      "text/plain": [
       "          TEY  PredictedPrice\n",
       "4264   110.78      110.521698\n",
       "3852   133.74      133.408188\n",
       "1266   110.62      109.977730\n",
       "14730  134.73      134.275726\n",
       "487    133.64      134.848877"
      ]
     },
     "execution_count": 52,
     "metadata": {},
     "output_type": "execute_result"
    }
   ],
   "source": [
    "\n",
    "# Generating Predictions on testing data\n",
    "Predictions=model.predict(X_test)\n",
    "\n",
    "\n",
    "TestingData=pd.DataFrame(data=y_test)\n",
    "TestingData['PredictedPrice']=Predictions\n",
    "TestingData.head()"
   ]
  },
  {
   "cell_type": "code",
   "execution_count": 54,
   "id": "952416de",
   "metadata": {},
   "outputs": [
    {
     "name": "stdout",
     "output_type": "stream",
     "text": [
      "The Accuracy of ANN model is: 99.60111439207014\n"
     ]
    },
    {
     "data": {
      "text/html": [
       "<div>\n",
       "<style scoped>\n",
       "    .dataframe tbody tr th:only-of-type {\n",
       "        vertical-align: middle;\n",
       "    }\n",
       "\n",
       "    .dataframe tbody tr th {\n",
       "        vertical-align: top;\n",
       "    }\n",
       "\n",
       "    .dataframe thead th {\n",
       "        text-align: right;\n",
       "    }\n",
       "</style>\n",
       "<table border=\"1\" class=\"dataframe\">\n",
       "  <thead>\n",
       "    <tr style=\"text-align: right;\">\n",
       "      <th></th>\n",
       "      <th>TEY</th>\n",
       "      <th>PredictedPrice</th>\n",
       "      <th>APE</th>\n",
       "    </tr>\n",
       "  </thead>\n",
       "  <tbody>\n",
       "    <tr>\n",
       "      <th>4264</th>\n",
       "      <td>110.78</td>\n",
       "      <td>110.521698</td>\n",
       "      <td>0.233167</td>\n",
       "    </tr>\n",
       "    <tr>\n",
       "      <th>3852</th>\n",
       "      <td>133.74</td>\n",
       "      <td>133.408188</td>\n",
       "      <td>0.248102</td>\n",
       "    </tr>\n",
       "    <tr>\n",
       "      <th>1266</th>\n",
       "      <td>110.62</td>\n",
       "      <td>109.977730</td>\n",
       "      <td>0.580609</td>\n",
       "    </tr>\n",
       "    <tr>\n",
       "      <th>14730</th>\n",
       "      <td>134.73</td>\n",
       "      <td>134.275726</td>\n",
       "      <td>0.337173</td>\n",
       "    </tr>\n",
       "    <tr>\n",
       "      <th>487</th>\n",
       "      <td>133.64</td>\n",
       "      <td>134.848877</td>\n",
       "      <td>0.904577</td>\n",
       "    </tr>\n",
       "  </tbody>\n",
       "</table>\n",
       "</div>"
      ],
      "text/plain": [
       "          TEY  PredictedPrice       APE\n",
       "4264   110.78      110.521698  0.233167\n",
       "3852   133.74      133.408188  0.248102\n",
       "1266   110.62      109.977730  0.580609\n",
       "14730  134.73      134.275726  0.337173\n",
       "487    133.64      134.848877  0.904577"
      ]
     },
     "execution_count": 54,
     "metadata": {},
     "output_type": "execute_result"
    }
   ],
   "source": [
    "\n",
    "# Computing the absolute percent error\n",
    "APE=100*(abs(TestingData['TEY']-TestingData['PredictedPrice'])/TestingData['TEY'])\n",
    "TestingData['APE']=APE\n",
    " \n",
    "print('The Accuracy of ANN model is:', 100-np.mean(APE))\n",
    "TestingData.head()"
   ]
  }
 ],
 "metadata": {
  "kernelspec": {
   "display_name": "Python 3",
   "language": "python",
   "name": "python3"
  },
  "language_info": {
   "codemirror_mode": {
    "name": "ipython",
    "version": 3
   },
   "file_extension": ".py",
   "mimetype": "text/x-python",
   "name": "python",
   "nbconvert_exporter": "python",
   "pygments_lexer": "ipython3",
   "version": "3.8.8"
  }
 },
 "nbformat": 4,
 "nbformat_minor": 5
}
