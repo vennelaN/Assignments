{
 "cells": [
  {
   "cell_type": "code",
   "execution_count": 33,
   "id": "e5a8a91f",
   "metadata": {},
   "outputs": [],
   "source": [
    "import pandas as pd\n",
    "from sklearn.linear_model import LogisticRegression\n",
    "from sklearn.model_selection import train_test_split,RepeatedStratifiedKFold,cross_val_score\n",
    "from sklearn.preprocessing import StandardScaler\n",
    "from numpy import mean,std\n",
    "from sklearn.tree import DecisionTreeClassifier\n",
    "from sklearn.ensemble import RandomForestClassifier\n",
    "from sklearn.ensemble import GradientBoostingClassifier\n",
    "from xgboost import XGBClassifier\n",
    "from sklearn.svm import SVC\n",
    "from sklearn.metrics import accuracy_score,precision_score,confusion_matrix,recall_score\n",
    "import warnings\n",
    "warnings.filterwarnings('ignore')\n",
    "from tensorflow import keras\n",
    "from keras.models import Sequential\n",
    "from keras.layers import Dense,Dropout\n",
    "from sklearn.naive_bayes import GaussianNB"
   ]
  },
  {
   "cell_type": "markdown",
   "id": "3450fd9c",
   "metadata": {},
   "source": [
    "## Loading Data"
   ]
  },
  {
   "cell_type": "code",
   "execution_count": 34,
   "id": "61b000d8",
   "metadata": {
    "scrolled": true
   },
   "outputs": [
    {
     "data": {
      "text/html": [
       "<div>\n",
       "<style scoped>\n",
       "    .dataframe tbody tr th:only-of-type {\n",
       "        vertical-align: middle;\n",
       "    }\n",
       "\n",
       "    .dataframe tbody tr th {\n",
       "        vertical-align: top;\n",
       "    }\n",
       "\n",
       "    .dataframe thead th {\n",
       "        text-align: right;\n",
       "    }\n",
       "</style>\n",
       "<table border=\"1\" class=\"dataframe\">\n",
       "  <thead>\n",
       "    <tr style=\"text-align: right;\">\n",
       "      <th></th>\n",
       "      <th>account_length</th>\n",
       "      <th>voice_mail_plan</th>\n",
       "      <th>voice_mail_messages</th>\n",
       "      <th>day_mins</th>\n",
       "      <th>evening_mins</th>\n",
       "      <th>night_mins</th>\n",
       "      <th>international_mins</th>\n",
       "      <th>customer_service_calls</th>\n",
       "      <th>international_plan</th>\n",
       "      <th>day_calls</th>\n",
       "      <th>day_charge</th>\n",
       "      <th>evening_calls</th>\n",
       "      <th>evening_charge</th>\n",
       "      <th>night_calls</th>\n",
       "      <th>night_charge</th>\n",
       "      <th>international_calls</th>\n",
       "      <th>international_charge</th>\n",
       "      <th>total_charge</th>\n",
       "      <th>churn</th>\n",
       "    </tr>\n",
       "  </thead>\n",
       "  <tbody>\n",
       "    <tr>\n",
       "      <th>0</th>\n",
       "      <td>128</td>\n",
       "      <td>1</td>\n",
       "      <td>25</td>\n",
       "      <td>265.1</td>\n",
       "      <td>197.4</td>\n",
       "      <td>244.7</td>\n",
       "      <td>10.0</td>\n",
       "      <td>1</td>\n",
       "      <td>0</td>\n",
       "      <td>110</td>\n",
       "      <td>45.07</td>\n",
       "      <td>99</td>\n",
       "      <td>16.78</td>\n",
       "      <td>91</td>\n",
       "      <td>11.01</td>\n",
       "      <td>3</td>\n",
       "      <td>2.70</td>\n",
       "      <td>75.56</td>\n",
       "      <td>0</td>\n",
       "    </tr>\n",
       "    <tr>\n",
       "      <th>1</th>\n",
       "      <td>107</td>\n",
       "      <td>1</td>\n",
       "      <td>26</td>\n",
       "      <td>161.6</td>\n",
       "      <td>195.5</td>\n",
       "      <td>254.4</td>\n",
       "      <td>13.7</td>\n",
       "      <td>1</td>\n",
       "      <td>0</td>\n",
       "      <td>123</td>\n",
       "      <td>27.47</td>\n",
       "      <td>103</td>\n",
       "      <td>16.62</td>\n",
       "      <td>103</td>\n",
       "      <td>11.45</td>\n",
       "      <td>3</td>\n",
       "      <td>3.70</td>\n",
       "      <td>59.24</td>\n",
       "      <td>0</td>\n",
       "    </tr>\n",
       "    <tr>\n",
       "      <th>2</th>\n",
       "      <td>137</td>\n",
       "      <td>0</td>\n",
       "      <td>0</td>\n",
       "      <td>243.4</td>\n",
       "      <td>121.2</td>\n",
       "      <td>162.6</td>\n",
       "      <td>12.2</td>\n",
       "      <td>0</td>\n",
       "      <td>0</td>\n",
       "      <td>114</td>\n",
       "      <td>41.38</td>\n",
       "      <td>110</td>\n",
       "      <td>10.30</td>\n",
       "      <td>104</td>\n",
       "      <td>7.32</td>\n",
       "      <td>5</td>\n",
       "      <td>3.29</td>\n",
       "      <td>62.29</td>\n",
       "      <td>0</td>\n",
       "    </tr>\n",
       "    <tr>\n",
       "      <th>3</th>\n",
       "      <td>84</td>\n",
       "      <td>0</td>\n",
       "      <td>0</td>\n",
       "      <td>299.4</td>\n",
       "      <td>61.9</td>\n",
       "      <td>196.9</td>\n",
       "      <td>6.6</td>\n",
       "      <td>2</td>\n",
       "      <td>1</td>\n",
       "      <td>71</td>\n",
       "      <td>50.90</td>\n",
       "      <td>88</td>\n",
       "      <td>5.26</td>\n",
       "      <td>89</td>\n",
       "      <td>8.86</td>\n",
       "      <td>7</td>\n",
       "      <td>1.78</td>\n",
       "      <td>66.80</td>\n",
       "      <td>0</td>\n",
       "    </tr>\n",
       "    <tr>\n",
       "      <th>4</th>\n",
       "      <td>75</td>\n",
       "      <td>0</td>\n",
       "      <td>0</td>\n",
       "      <td>166.7</td>\n",
       "      <td>148.3</td>\n",
       "      <td>186.9</td>\n",
       "      <td>10.1</td>\n",
       "      <td>3</td>\n",
       "      <td>1</td>\n",
       "      <td>113</td>\n",
       "      <td>28.34</td>\n",
       "      <td>122</td>\n",
       "      <td>12.61</td>\n",
       "      <td>121</td>\n",
       "      <td>8.41</td>\n",
       "      <td>3</td>\n",
       "      <td>2.73</td>\n",
       "      <td>52.09</td>\n",
       "      <td>0</td>\n",
       "    </tr>\n",
       "  </tbody>\n",
       "</table>\n",
       "</div>"
      ],
      "text/plain": [
       "   account_length  voice_mail_plan  voice_mail_messages  day_mins  \\\n",
       "0             128                1                   25     265.1   \n",
       "1             107                1                   26     161.6   \n",
       "2             137                0                    0     243.4   \n",
       "3              84                0                    0     299.4   \n",
       "4              75                0                    0     166.7   \n",
       "\n",
       "   evening_mins  night_mins  international_mins  customer_service_calls  \\\n",
       "0         197.4       244.7                10.0                       1   \n",
       "1         195.5       254.4                13.7                       1   \n",
       "2         121.2       162.6                12.2                       0   \n",
       "3          61.9       196.9                 6.6                       2   \n",
       "4         148.3       186.9                10.1                       3   \n",
       "\n",
       "   international_plan  day_calls  day_charge  evening_calls  evening_charge  \\\n",
       "0                   0        110       45.07             99           16.78   \n",
       "1                   0        123       27.47            103           16.62   \n",
       "2                   0        114       41.38            110           10.30   \n",
       "3                   1         71       50.90             88            5.26   \n",
       "4                   1        113       28.34            122           12.61   \n",
       "\n",
       "   night_calls  night_charge  international_calls  international_charge  \\\n",
       "0           91         11.01                    3                  2.70   \n",
       "1          103         11.45                    3                  3.70   \n",
       "2          104          7.32                    5                  3.29   \n",
       "3           89          8.86                    7                  1.78   \n",
       "4          121          8.41                    3                  2.73   \n",
       "\n",
       "   total_charge  churn  \n",
       "0         75.56      0  \n",
       "1         59.24      0  \n",
       "2         62.29      0  \n",
       "3         66.80      0  \n",
       "4         52.09      0  "
      ]
     },
     "execution_count": 34,
     "metadata": {},
     "output_type": "execute_result"
    }
   ],
   "source": [
    "data = data = pd.read_csv('../Datasets/telecommunications_churn.csv',sep=';')\n",
    "data.head()"
   ]
  },
  {
   "cell_type": "markdown",
   "id": "c5d9ec9e",
   "metadata": {},
   "source": [
    "## Scaling Data and Seperating X and y"
   ]
  },
  {
   "cell_type": "code",
   "execution_count": 35,
   "id": "e69ed586",
   "metadata": {},
   "outputs": [
    {
     "data": {
      "text/plain": [
       "((3333, 18), (3333, 1))"
      ]
     },
     "execution_count": 35,
     "metadata": {},
     "output_type": "execute_result"
    }
   ],
   "source": [
    "std_scr = StandardScaler()\n",
    "X = data.drop(labels='churn',axis=1)\n",
    "cols = X.columns\n",
    "X = pd.DataFrame(std_scr.fit_transform(X))\n",
    "X.columns = cols\n",
    "y = data[['churn']]\n",
    "X.shape,y.shape"
   ]
  },
  {
   "cell_type": "markdown",
   "id": "5c08ff68",
   "metadata": {},
   "source": [
    "## Train Test Split"
   ]
  },
  {
   "cell_type": "code",
   "execution_count": 36,
   "id": "3aec2a04",
   "metadata": {},
   "outputs": [],
   "source": [
    "x_train,x_test,y_train,y_test = train_test_split(X,y,test_size=0.2,shuffle=True,random_state=12,stratify=y)"
   ]
  },
  {
   "cell_type": "markdown",
   "id": "628003da",
   "metadata": {},
   "source": [
    "### Dict to record model performance"
   ]
  },
  {
   "cell_type": "code",
   "execution_count": 37,
   "id": "6c391559",
   "metadata": {},
   "outputs": [],
   "source": [
    "my_dict = {'model':[],'train accuracy':[], 'test accuracy': [],'precision':[],'recall':[]}"
   ]
  },
  {
   "cell_type": "markdown",
   "id": "3c1dd104",
   "metadata": {},
   "source": [
    "### Function to pridict and record model performance"
   ]
  },
  {
   "cell_type": "code",
   "execution_count": 38,
   "id": "32a51714",
   "metadata": {},
   "outputs": [],
   "source": [
    "def populate_matrix(fittedModel):\n",
    "    y_pred_train = fittedModel.predict(x_train)\n",
    "    train_accuracy = round(accuracy_score(y_train,y_pred_train)*100,2)\n",
    "    \n",
    "    y_pred = fittedModel.predict(x_test)\n",
    "    test_accuracy = round(accuracy_score(y_test,y_pred)*100,2)\n",
    "    precision = round(precision_score(y_test,y_pred)*100,2)\n",
    "    recall = round(recall_score(y_test,y_pred)*100,2)\n",
    "    model = str(fittedModel)\n",
    "    my_dict[\"model\"].append(model)\n",
    "    my_dict[\"train accuracy\"].append(train_accuracy)\n",
    "    my_dict[\"test accuracy\"].append(test_accuracy)\n",
    "    my_dict[\"precision\"].append(precision)\n",
    "    my_dict[\"recall\"].append(recall)\n"
   ]
  },
  {
   "cell_type": "code",
   "execution_count": 39,
   "id": "6b468e8b",
   "metadata": {},
   "outputs": [],
   "source": [
    "def cross_validate_model(model):\n",
    "    # evaluate model\n",
    "    cv = RepeatedStratifiedKFold(n_splits=10, n_repeats=3, random_state=1)\n",
    "    \n",
    "    n_scores = cross_val_score(estimator=model,X=X,y=y, scoring='accuracy', cv=cv, n_jobs=-1, error_score='raise')\n",
    "    # report performance\n",
    "    print('Accuracy: %.3f (%.3f)' % (mean(n_scores), std(n_scores)))"
   ]
  },
  {
   "cell_type": "markdown",
   "id": "2d14ebdb",
   "metadata": {},
   "source": [
    "## Model Validation"
   ]
  },
  {
   "cell_type": "markdown",
   "id": "61b4fc4f",
   "metadata": {},
   "source": [
    "## Logistic Model"
   ]
  },
  {
   "cell_type": "code",
   "execution_count": 40,
   "id": "750cd6f3",
   "metadata": {},
   "outputs": [
    {
     "name": "stdout",
     "output_type": "stream",
     "text": [
      "Accuracy: 0.861 (0.009)\n"
     ]
    }
   ],
   "source": [
    "# evaluate model\n",
    "logistic = LogisticRegression()\n",
    "cross_validate_model(logistic)\n"
   ]
  },
  {
   "cell_type": "markdown",
   "id": "063e95cd",
   "metadata": {},
   "source": [
    "### Model Training"
   ]
  },
  {
   "cell_type": "code",
   "execution_count": 41,
   "id": "953f76cd",
   "metadata": {},
   "outputs": [
    {
     "name": "stdout",
     "output_type": "stream",
     "text": [
      "{'model': ['LogisticRegression()'], 'train accuracy': [86.01], 'test accuracy': [86.51], 'precision': [56.6], 'recall': [30.93]}\n"
     ]
    }
   ],
   "source": [
    "logistic.fit(x_train,y_train)\n",
    "populate_matrix(logistic)\n",
    "print(my_dict)"
   ]
  },
  {
   "cell_type": "markdown",
   "id": "2f269cad",
   "metadata": {},
   "source": [
    "## Decision Tree"
   ]
  },
  {
   "cell_type": "code",
   "execution_count": 43,
   "id": "66a91bb1",
   "metadata": {},
   "outputs": [
    {
     "name": "stdout",
     "output_type": "stream",
     "text": [
      "Accuracy: 0.950 (0.011)\n"
     ]
    }
   ],
   "source": [
    "dtree = DecisionTreeClassifier()\n",
    "# evaluate model\n",
    "cross_validate_model(dtree)"
   ]
  },
  {
   "cell_type": "markdown",
   "id": "7078c62d",
   "metadata": {},
   "source": [
    "### Model Training"
   ]
  },
  {
   "cell_type": "code",
   "execution_count": 44,
   "id": "49abebbb",
   "metadata": {},
   "outputs": [
    {
     "name": "stdout",
     "output_type": "stream",
     "text": [
      "{'model': ['LogisticRegression()', 'DecisionTreeClassifier()'], 'train accuracy': [86.01, 100.0], 'test accuracy': [86.51, 93.25], 'precision': [56.6, 72.81], 'recall': [30.93, 85.57]}\n"
     ]
    }
   ],
   "source": [
    "dtree.fit(x_train,y_train)\n",
    "populate_matrix(dtree)\n",
    "print(my_dict)"
   ]
  },
  {
   "cell_type": "markdown",
   "id": "7e554fda",
   "metadata": {},
   "source": [
    "## RandomForest"
   ]
  },
  {
   "cell_type": "code",
   "execution_count": 45,
   "id": "80251d5a",
   "metadata": {},
   "outputs": [
    {
     "name": "stdout",
     "output_type": "stream",
     "text": [
      "Accuracy: 0.977 (0.007)\n"
     ]
    }
   ],
   "source": [
    "rf = RandomForestClassifier()\n",
    "# evaluate model\n",
    "cross_validate_model(rf)"
   ]
  },
  {
   "cell_type": "markdown",
   "id": "652cf854",
   "metadata": {},
   "source": [
    "### Model Training"
   ]
  },
  {
   "cell_type": "code",
   "execution_count": 46,
   "id": "1db9ddb1",
   "metadata": {},
   "outputs": [
    {
     "name": "stdout",
     "output_type": "stream",
     "text": [
      "{'model': ['LogisticRegression()', 'DecisionTreeClassifier()', 'RandomForestClassifier()'], 'train accuracy': [86.01, 100.0, 100.0], 'test accuracy': [86.51, 93.25, 97.3], 'precision': [56.6, 72.81, 98.77], 'recall': [30.93, 85.57, 82.47]}\n"
     ]
    }
   ],
   "source": [
    "rf.fit(x_train,y_train)\n",
    "populate_matrix(rf)\n",
    "print(my_dict)"
   ]
  },
  {
   "cell_type": "markdown",
   "id": "50429354",
   "metadata": {},
   "source": [
    "## Gradient Boosting"
   ]
  },
  {
   "cell_type": "code",
   "execution_count": 47,
   "id": "5780c92e",
   "metadata": {},
   "outputs": [
    {
     "name": "stdout",
     "output_type": "stream",
     "text": [
      "Accuracy: 0.978 (0.007)\n"
     ]
    }
   ],
   "source": [
    "gboost = GradientBoostingClassifier()\n",
    "# evaluate model\n",
    "cross_validate_model(gboost)"
   ]
  },
  {
   "cell_type": "markdown",
   "id": "862b66e4",
   "metadata": {},
   "source": [
    "### Model Training"
   ]
  },
  {
   "cell_type": "code",
   "execution_count": 48,
   "id": "a90069f0",
   "metadata": {},
   "outputs": [
    {
     "name": "stdout",
     "output_type": "stream",
     "text": [
      "{'model': ['LogisticRegression()', 'DecisionTreeClassifier()', 'RandomForestClassifier()', 'GradientBoostingClassifier()'], 'train accuracy': [86.01, 100.0, 100.0, 98.42], 'test accuracy': [86.51, 93.25, 97.3, 97.75], 'precision': [56.6, 72.81, 98.77, 98.81], 'recall': [30.93, 85.57, 82.47, 85.57]}\n"
     ]
    }
   ],
   "source": [
    "gboost.fit(x_train,y_train)\n",
    "populate_matrix(gboost)\n",
    "print(my_dict)"
   ]
  },
  {
   "cell_type": "markdown",
   "id": "5d7e94d1",
   "metadata": {},
   "source": [
    "## SVM"
   ]
  },
  {
   "cell_type": "code",
   "execution_count": 49,
   "id": "b5139adb",
   "metadata": {},
   "outputs": [
    {
     "name": "stdout",
     "output_type": "stream",
     "text": [
      "Accuracy: 0.928 (0.011)\n"
     ]
    }
   ],
   "source": [
    "svm = SVC()\n",
    "# evaluate model\n",
    "cross_validate_model(svm)"
   ]
  },
  {
   "cell_type": "markdown",
   "id": "bdea6e98",
   "metadata": {},
   "source": [
    "### Model Training"
   ]
  },
  {
   "cell_type": "code",
   "execution_count": 50,
   "id": "b89d5154",
   "metadata": {},
   "outputs": [
    {
     "name": "stdout",
     "output_type": "stream",
     "text": [
      "{'model': ['LogisticRegression()', 'DecisionTreeClassifier()', 'RandomForestClassifier()', 'GradientBoostingClassifier()', 'SVC()'], 'train accuracy': [86.01, 100.0, 100.0, 98.42, 95.31], 'test accuracy': [86.51, 93.25, 97.3, 97.75, 92.8], 'precision': [56.6, 72.81, 98.77, 98.81, 88.89], 'recall': [30.93, 85.57, 82.47, 85.57, 57.73]}\n"
     ]
    }
   ],
   "source": [
    "svm.fit(x_train,y_train)\n",
    "populate_matrix(svm)\n",
    "print(my_dict)"
   ]
  },
  {
   "cell_type": "markdown",
   "id": "304fd6c8",
   "metadata": {},
   "source": [
    "## ANN"
   ]
  },
  {
   "cell_type": "code",
   "execution_count": 51,
   "id": "9b4fd8a4",
   "metadata": {},
   "outputs": [],
   "source": [
    "ann_model = Sequential()\n",
    "ann_model.add(Dropout(0.30))\n",
    "ann_model.add(Dense(20,input_dim=x_train.shape[1],activation='relu'))\n",
    "ann_model.add(Dense(10,activation='relu'))\n",
    "ann_model.add(Dropout(0.30))\n",
    "ann_model.add(Dense(5,activation='relu'))\n",
    "ann_model.add(Dense(1,activation='sigmoid'))\n"
   ]
  },
  {
   "cell_type": "code",
   "execution_count": 52,
   "id": "807f3fda",
   "metadata": {},
   "outputs": [],
   "source": [
    "ann_model.compile(loss='binary_crossentropy',optimizer='adam',metrics=['accuracy'])\n"
   ]
  },
  {
   "cell_type": "markdown",
   "id": "3553b1e1",
   "metadata": {},
   "source": [
    "### Model Training"
   ]
  },
  {
   "cell_type": "code",
   "execution_count": 53,
   "id": "5d0dea2d",
   "metadata": {
    "scrolled": true
   },
   "outputs": [
    {
     "name": "stdout",
     "output_type": "stream",
     "text": [
      "Epoch 1/200\n",
      "27/27 [==============================] - 1s 6ms/step - loss: 0.7252 - accuracy: 0.4321 - val_loss: 0.6742 - val_accuracy: 0.6522\n",
      "Epoch 2/200\n",
      "27/27 [==============================] - 0s 2ms/step - loss: 0.6352 - accuracy: 0.7352 - val_loss: 0.6039 - val_accuracy: 0.8546\n",
      "Epoch 3/200\n",
      "27/27 [==============================] - 0s 2ms/step - loss: 0.5518 - accuracy: 0.8350 - val_loss: 0.5210 - val_accuracy: 0.8546\n",
      "Epoch 4/200\n",
      "27/27 [==============================] - 0s 2ms/step - loss: 0.4921 - accuracy: 0.8552 - val_loss: 0.4640 - val_accuracy: 0.8546\n",
      "Epoch 5/200\n",
      "27/27 [==============================] - 0s 2ms/step - loss: 0.4503 - accuracy: 0.8571 - val_loss: 0.4296 - val_accuracy: 0.8546\n",
      "Epoch 6/200\n",
      "27/27 [==============================] - 0s 2ms/step - loss: 0.4362 - accuracy: 0.8578 - val_loss: 0.4068 - val_accuracy: 0.8546\n",
      "Epoch 7/200\n",
      "27/27 [==============================] - 0s 2ms/step - loss: 0.4181 - accuracy: 0.8567 - val_loss: 0.3900 - val_accuracy: 0.8546\n",
      "Epoch 8/200\n",
      "27/27 [==============================] - 0s 2ms/step - loss: 0.4063 - accuracy: 0.8597 - val_loss: 0.3717 - val_accuracy: 0.8591\n",
      "Epoch 9/200\n",
      "27/27 [==============================] - 0s 2ms/step - loss: 0.3997 - accuracy: 0.8650 - val_loss: 0.3601 - val_accuracy: 0.8621\n",
      "Epoch 10/200\n",
      "27/27 [==============================] - 0s 2ms/step - loss: 0.3925 - accuracy: 0.8638 - val_loss: 0.3513 - val_accuracy: 0.8726\n",
      "Epoch 11/200\n",
      "27/27 [==============================] - 0s 2ms/step - loss: 0.3863 - accuracy: 0.8627 - val_loss: 0.3427 - val_accuracy: 0.8711\n",
      "Epoch 12/200\n",
      "27/27 [==============================] - 0s 2ms/step - loss: 0.3728 - accuracy: 0.8638 - val_loss: 0.3344 - val_accuracy: 0.8741\n",
      "Epoch 13/200\n",
      "27/27 [==============================] - 0s 2ms/step - loss: 0.3645 - accuracy: 0.8702 - val_loss: 0.3275 - val_accuracy: 0.8756\n",
      "Epoch 14/200\n",
      "27/27 [==============================] - 0s 2ms/step - loss: 0.3683 - accuracy: 0.8631 - val_loss: 0.3236 - val_accuracy: 0.8786\n",
      "Epoch 15/200\n",
      "27/27 [==============================] - 0s 2ms/step - loss: 0.3713 - accuracy: 0.8687 - val_loss: 0.3215 - val_accuracy: 0.8786\n",
      "Epoch 16/200\n",
      "27/27 [==============================] - 0s 2ms/step - loss: 0.3652 - accuracy: 0.8661 - val_loss: 0.3183 - val_accuracy: 0.8726\n",
      "Epoch 17/200\n",
      "27/27 [==============================] - 0s 2ms/step - loss: 0.3605 - accuracy: 0.8695 - val_loss: 0.3146 - val_accuracy: 0.8831\n",
      "Epoch 18/200\n",
      "27/27 [==============================] - 0s 2ms/step - loss: 0.3561 - accuracy: 0.8710 - val_loss: 0.3095 - val_accuracy: 0.8846\n",
      "Epoch 19/200\n",
      "27/27 [==============================] - 0s 2ms/step - loss: 0.3563 - accuracy: 0.8695 - val_loss: 0.3074 - val_accuracy: 0.8846\n",
      "Epoch 20/200\n",
      "27/27 [==============================] - 0s 2ms/step - loss: 0.3507 - accuracy: 0.8668 - val_loss: 0.3047 - val_accuracy: 0.8861\n",
      "Epoch 21/200\n",
      "27/27 [==============================] - 0s 2ms/step - loss: 0.3459 - accuracy: 0.8683 - val_loss: 0.3005 - val_accuracy: 0.8831\n",
      "Epoch 22/200\n",
      "27/27 [==============================] - 0s 2ms/step - loss: 0.3407 - accuracy: 0.8751 - val_loss: 0.2972 - val_accuracy: 0.8906\n",
      "Epoch 23/200\n",
      "27/27 [==============================] - 0s 2ms/step - loss: 0.3376 - accuracy: 0.8736 - val_loss: 0.2938 - val_accuracy: 0.8921\n",
      "Epoch 24/200\n",
      "27/27 [==============================] - 0s 2ms/step - loss: 0.3386 - accuracy: 0.8672 - val_loss: 0.2903 - val_accuracy: 0.8921\n",
      "Epoch 25/200\n",
      "27/27 [==============================] - 0s 2ms/step - loss: 0.3417 - accuracy: 0.8725 - val_loss: 0.2910 - val_accuracy: 0.8921\n",
      "Epoch 26/200\n",
      "27/27 [==============================] - 0s 2ms/step - loss: 0.3345 - accuracy: 0.8687 - val_loss: 0.2882 - val_accuracy: 0.8921\n",
      "Epoch 27/200\n",
      "27/27 [==============================] - 0s 2ms/step - loss: 0.3306 - accuracy: 0.8758 - val_loss: 0.2862 - val_accuracy: 0.8951\n",
      "Epoch 28/200\n",
      "27/27 [==============================] - 0s 2ms/step - loss: 0.3303 - accuracy: 0.8668 - val_loss: 0.2814 - val_accuracy: 0.8951\n",
      "Epoch 29/200\n",
      "27/27 [==============================] - 0s 2ms/step - loss: 0.3261 - accuracy: 0.8736 - val_loss: 0.2806 - val_accuracy: 0.8936\n",
      "Epoch 30/200\n",
      "27/27 [==============================] - 0s 2ms/step - loss: 0.3378 - accuracy: 0.8676 - val_loss: 0.2805 - val_accuracy: 0.8906\n",
      "Epoch 31/200\n",
      "27/27 [==============================] - 0s 2ms/step - loss: 0.3312 - accuracy: 0.8740 - val_loss: 0.2791 - val_accuracy: 0.8906\n",
      "Epoch 32/200\n",
      "27/27 [==============================] - 0s 2ms/step - loss: 0.3287 - accuracy: 0.8770 - val_loss: 0.2787 - val_accuracy: 0.8921\n",
      "Epoch 33/200\n",
      "27/27 [==============================] - 0s 2ms/step - loss: 0.3258 - accuracy: 0.8755 - val_loss: 0.2762 - val_accuracy: 0.8921\n",
      "Epoch 34/200\n",
      "27/27 [==============================] - 0s 2ms/step - loss: 0.3360 - accuracy: 0.8721 - val_loss: 0.2784 - val_accuracy: 0.8876\n",
      "Epoch 35/200\n",
      "27/27 [==============================] - 0s 2ms/step - loss: 0.3277 - accuracy: 0.8721 - val_loss: 0.2778 - val_accuracy: 0.8921\n",
      "Epoch 36/200\n",
      "27/27 [==============================] - 0s 2ms/step - loss: 0.3107 - accuracy: 0.8781 - val_loss: 0.2721 - val_accuracy: 0.8906\n",
      "Epoch 37/200\n",
      "27/27 [==============================] - 0s 2ms/step - loss: 0.3203 - accuracy: 0.8747 - val_loss: 0.2713 - val_accuracy: 0.8921\n",
      "Epoch 38/200\n",
      "27/27 [==============================] - 0s 2ms/step - loss: 0.3303 - accuracy: 0.8740 - val_loss: 0.2737 - val_accuracy: 0.8981\n",
      "Epoch 39/200\n",
      "27/27 [==============================] - 0s 2ms/step - loss: 0.3172 - accuracy: 0.8755 - val_loss: 0.2727 - val_accuracy: 0.8996\n",
      "Epoch 40/200\n",
      "27/27 [==============================] - 0s 2ms/step - loss: 0.3104 - accuracy: 0.8800 - val_loss: 0.2680 - val_accuracy: 0.8936\n",
      "Epoch 41/200\n",
      "27/27 [==============================] - 0s 2ms/step - loss: 0.3142 - accuracy: 0.8856 - val_loss: 0.2673 - val_accuracy: 0.8966\n",
      "Epoch 42/200\n",
      "27/27 [==============================] - 0s 2ms/step - loss: 0.3011 - accuracy: 0.8830 - val_loss: 0.2644 - val_accuracy: 0.9025\n",
      "Epoch 43/200\n",
      "27/27 [==============================] - 0s 2ms/step - loss: 0.3270 - accuracy: 0.8773 - val_loss: 0.2637 - val_accuracy: 0.9010\n",
      "Epoch 44/200\n",
      "27/27 [==============================] - 0s 2ms/step - loss: 0.3262 - accuracy: 0.8785 - val_loss: 0.2691 - val_accuracy: 0.9010\n",
      "Epoch 45/200\n",
      "27/27 [==============================] - 0s 2ms/step - loss: 0.3051 - accuracy: 0.8848 - val_loss: 0.2649 - val_accuracy: 0.8996\n",
      "Epoch 46/200\n",
      "27/27 [==============================] - 0s 2ms/step - loss: 0.3165 - accuracy: 0.8822 - val_loss: 0.2641 - val_accuracy: 0.8981\n",
      "Epoch 47/200\n",
      "27/27 [==============================] - 0s 2ms/step - loss: 0.3086 - accuracy: 0.8822 - val_loss: 0.2617 - val_accuracy: 0.9010\n",
      "Epoch 48/200\n",
      "27/27 [==============================] - 0s 2ms/step - loss: 0.3078 - accuracy: 0.8815 - val_loss: 0.2636 - val_accuracy: 0.8966\n",
      "Epoch 49/200\n",
      "27/27 [==============================] - 0s 2ms/step - loss: 0.3166 - accuracy: 0.8792 - val_loss: 0.2599 - val_accuracy: 0.8981\n",
      "Epoch 50/200\n",
      "27/27 [==============================] - 0s 2ms/step - loss: 0.3109 - accuracy: 0.8755 - val_loss: 0.2615 - val_accuracy: 0.8981\n",
      "Epoch 51/200\n",
      "27/27 [==============================] - 0s 2ms/step - loss: 0.2938 - accuracy: 0.8893 - val_loss: 0.2584 - val_accuracy: 0.8996\n",
      "Epoch 52/200\n",
      "27/27 [==============================] - 0s 2ms/step - loss: 0.3115 - accuracy: 0.8867 - val_loss: 0.2622 - val_accuracy: 0.8981\n",
      "Epoch 53/200\n",
      "27/27 [==============================] - 0s 2ms/step - loss: 0.2985 - accuracy: 0.8905 - val_loss: 0.2612 - val_accuracy: 0.8996\n",
      "Epoch 54/200\n",
      "27/27 [==============================] - 0s 2ms/step - loss: 0.3040 - accuracy: 0.8863 - val_loss: 0.2589 - val_accuracy: 0.8981\n",
      "Epoch 55/200\n",
      "27/27 [==============================] - 0s 2ms/step - loss: 0.3049 - accuracy: 0.8860 - val_loss: 0.2593 - val_accuracy: 0.8996\n",
      "Epoch 56/200\n",
      "27/27 [==============================] - 0s 2ms/step - loss: 0.3199 - accuracy: 0.8788 - val_loss: 0.2622 - val_accuracy: 0.8966\n",
      "Epoch 57/200\n",
      "27/27 [==============================] - 0s 2ms/step - loss: 0.3023 - accuracy: 0.8871 - val_loss: 0.2607 - val_accuracy: 0.8981\n",
      "Epoch 58/200\n",
      "27/27 [==============================] - 0s 2ms/step - loss: 0.3007 - accuracy: 0.8882 - val_loss: 0.2589 - val_accuracy: 0.8981\n"
     ]
    },
    {
     "name": "stdout",
     "output_type": "stream",
     "text": [
      "Epoch 59/200\n",
      "27/27 [==============================] - 0s 2ms/step - loss: 0.3100 - accuracy: 0.8897 - val_loss: 0.2591 - val_accuracy: 0.8996\n",
      "Epoch 60/200\n",
      "27/27 [==============================] - 0s 2ms/step - loss: 0.3143 - accuracy: 0.8852 - val_loss: 0.2605 - val_accuracy: 0.9010\n",
      "Epoch 61/200\n",
      "27/27 [==============================] - 0s 2ms/step - loss: 0.3040 - accuracy: 0.8871 - val_loss: 0.2606 - val_accuracy: 0.8996\n",
      "Epoch 62/200\n",
      "27/27 [==============================] - 0s 2ms/step - loss: 0.2991 - accuracy: 0.8916 - val_loss: 0.2546 - val_accuracy: 0.8996\n",
      "Epoch 63/200\n",
      "27/27 [==============================] - 0s 2ms/step - loss: 0.2968 - accuracy: 0.8946 - val_loss: 0.2549 - val_accuracy: 0.8981\n",
      "Epoch 64/200\n",
      "27/27 [==============================] - 0s 2ms/step - loss: 0.3012 - accuracy: 0.8942 - val_loss: 0.2564 - val_accuracy: 0.8981\n",
      "Epoch 65/200\n",
      "27/27 [==============================] - 0s 1ms/step - loss: 0.2998 - accuracy: 0.8938 - val_loss: 0.2589 - val_accuracy: 0.9010\n",
      "Epoch 66/200\n",
      "27/27 [==============================] - 0s 2ms/step - loss: 0.3091 - accuracy: 0.8818 - val_loss: 0.2598 - val_accuracy: 0.9010\n",
      "Epoch 67/200\n",
      "27/27 [==============================] - 0s 2ms/step - loss: 0.2971 - accuracy: 0.8972 - val_loss: 0.2562 - val_accuracy: 0.8996\n",
      "Epoch 68/200\n",
      "27/27 [==============================] - 0s 2ms/step - loss: 0.2990 - accuracy: 0.8867 - val_loss: 0.2547 - val_accuracy: 0.8996\n",
      "Epoch 69/200\n",
      "27/27 [==============================] - 0s 2ms/step - loss: 0.2906 - accuracy: 0.8946 - val_loss: 0.2524 - val_accuracy: 0.9010\n",
      "Epoch 70/200\n",
      "27/27 [==============================] - 0s 2ms/step - loss: 0.2961 - accuracy: 0.8935 - val_loss: 0.2537 - val_accuracy: 0.9010\n",
      "Epoch 71/200\n",
      "27/27 [==============================] - 0s 2ms/step - loss: 0.3028 - accuracy: 0.8953 - val_loss: 0.2538 - val_accuracy: 0.9055\n",
      "Epoch 72/200\n",
      "27/27 [==============================] - 0s 2ms/step - loss: 0.2959 - accuracy: 0.8905 - val_loss: 0.2533 - val_accuracy: 0.9040\n",
      "Epoch 73/200\n",
      "27/27 [==============================] - 0s 2ms/step - loss: 0.2970 - accuracy: 0.8942 - val_loss: 0.2535 - val_accuracy: 0.9040\n",
      "Epoch 74/200\n",
      "27/27 [==============================] - 0s 1ms/step - loss: 0.2917 - accuracy: 0.8965 - val_loss: 0.2508 - val_accuracy: 0.9040\n",
      "Epoch 75/200\n",
      "27/27 [==============================] - 0s 2ms/step - loss: 0.3035 - accuracy: 0.8867 - val_loss: 0.2535 - val_accuracy: 0.9055\n",
      "Epoch 76/200\n",
      "27/27 [==============================] - 0s 2ms/step - loss: 0.2979 - accuracy: 0.8916 - val_loss: 0.2537 - val_accuracy: 0.9070\n",
      "Epoch 77/200\n",
      "27/27 [==============================] - 0s 1ms/step - loss: 0.2883 - accuracy: 0.9010 - val_loss: 0.2485 - val_accuracy: 0.9025\n",
      "Epoch 78/200\n",
      "27/27 [==============================] - 0s 2ms/step - loss: 0.2910 - accuracy: 0.9032 - val_loss: 0.2502 - val_accuracy: 0.9025\n",
      "Epoch 79/200\n",
      "27/27 [==============================] - 0s 2ms/step - loss: 0.3050 - accuracy: 0.8901 - val_loss: 0.2531 - val_accuracy: 0.9040\n",
      "Epoch 80/200\n",
      "27/27 [==============================] - 0s 2ms/step - loss: 0.2999 - accuracy: 0.8923 - val_loss: 0.2555 - val_accuracy: 0.9055\n",
      "Epoch 81/200\n",
      "27/27 [==============================] - 0s 2ms/step - loss: 0.2769 - accuracy: 0.8976 - val_loss: 0.2473 - val_accuracy: 0.9055\n",
      "Epoch 82/200\n",
      "27/27 [==============================] - 0s 1ms/step - loss: 0.2917 - accuracy: 0.8938 - val_loss: 0.2503 - val_accuracy: 0.9025\n",
      "Epoch 83/200\n",
      "27/27 [==============================] - 0s 2ms/step - loss: 0.2936 - accuracy: 0.8916 - val_loss: 0.2514 - val_accuracy: 0.9040\n",
      "Epoch 84/200\n",
      "27/27 [==============================] - 0s 2ms/step - loss: 0.2988 - accuracy: 0.8938 - val_loss: 0.2520 - val_accuracy: 0.9070\n",
      "Epoch 85/200\n",
      "27/27 [==============================] - 0s 2ms/step - loss: 0.2981 - accuracy: 0.8927 - val_loss: 0.2503 - val_accuracy: 0.9070\n",
      "Epoch 86/200\n",
      "27/27 [==============================] - 0s 2ms/step - loss: 0.2930 - accuracy: 0.8983 - val_loss: 0.2497 - val_accuracy: 0.9085\n",
      "Epoch 87/200\n",
      "27/27 [==============================] - 0s 2ms/step - loss: 0.2966 - accuracy: 0.8946 - val_loss: 0.2494 - val_accuracy: 0.9025\n",
      "Epoch 88/200\n",
      "27/27 [==============================] - 0s 2ms/step - loss: 0.2878 - accuracy: 0.8942 - val_loss: 0.2487 - val_accuracy: 0.9085\n",
      "Epoch 89/200\n",
      "27/27 [==============================] - 0s 2ms/step - loss: 0.2818 - accuracy: 0.8987 - val_loss: 0.2459 - val_accuracy: 0.9070\n",
      "Epoch 90/200\n",
      "27/27 [==============================] - 0s 2ms/step - loss: 0.2926 - accuracy: 0.8946 - val_loss: 0.2471 - val_accuracy: 0.9085\n",
      "Epoch 91/200\n",
      "27/27 [==============================] - 0s 2ms/step - loss: 0.2789 - accuracy: 0.9036 - val_loss: 0.2449 - val_accuracy: 0.9040\n",
      "Epoch 92/200\n",
      "27/27 [==============================] - 0s 2ms/step - loss: 0.2915 - accuracy: 0.8942 - val_loss: 0.2469 - val_accuracy: 0.9025\n",
      "Epoch 93/200\n",
      "27/27 [==============================] - 0s 2ms/step - loss: 0.2805 - accuracy: 0.9036 - val_loss: 0.2461 - val_accuracy: 0.9085\n",
      "Epoch 94/200\n",
      "27/27 [==============================] - 0s 2ms/step - loss: 0.2914 - accuracy: 0.8942 - val_loss: 0.2486 - val_accuracy: 0.9070\n",
      "Epoch 95/200\n",
      "27/27 [==============================] - 0s 2ms/step - loss: 0.3089 - accuracy: 0.8878 - val_loss: 0.2551 - val_accuracy: 0.9010\n",
      "Epoch 96/200\n",
      "27/27 [==============================] - 0s 2ms/step - loss: 0.2828 - accuracy: 0.9036 - val_loss: 0.2492 - val_accuracy: 0.9040\n",
      "Epoch 97/200\n",
      "27/27 [==============================] - 0s 2ms/step - loss: 0.2869 - accuracy: 0.8938 - val_loss: 0.2452 - val_accuracy: 0.9025\n",
      "Epoch 98/200\n",
      "27/27 [==============================] - 0s 2ms/step - loss: 0.2792 - accuracy: 0.9044 - val_loss: 0.2443 - val_accuracy: 0.9010\n",
      "Epoch 99/200\n",
      "27/27 [==============================] - 0s 2ms/step - loss: 0.2834 - accuracy: 0.8987 - val_loss: 0.2464 - val_accuracy: 0.9025\n",
      "Epoch 100/200\n",
      "27/27 [==============================] - 0s 2ms/step - loss: 0.2807 - accuracy: 0.9062 - val_loss: 0.2466 - val_accuracy: 0.9025\n",
      "Epoch 101/200\n",
      "27/27 [==============================] - 0s 2ms/step - loss: 0.2785 - accuracy: 0.9036 - val_loss: 0.2431 - val_accuracy: 0.9025\n",
      "Epoch 102/200\n",
      "27/27 [==============================] - 0s 2ms/step - loss: 0.2777 - accuracy: 0.9051 - val_loss: 0.2456 - val_accuracy: 0.9055\n",
      "Epoch 103/200\n",
      "27/27 [==============================] - 0s 2ms/step - loss: 0.2733 - accuracy: 0.9040 - val_loss: 0.2436 - val_accuracy: 0.9070\n",
      "Epoch 104/200\n",
      "27/27 [==============================] - 0s 2ms/step - loss: 0.2843 - accuracy: 0.9047 - val_loss: 0.2404 - val_accuracy: 0.9100\n",
      "Epoch 105/200\n",
      "27/27 [==============================] - 0s 1ms/step - loss: 0.2906 - accuracy: 0.8991 - val_loss: 0.2425 - val_accuracy: 0.9085\n",
      "Epoch 106/200\n",
      "27/27 [==============================] - 0s 2ms/step - loss: 0.2861 - accuracy: 0.9036 - val_loss: 0.2439 - val_accuracy: 0.9100\n",
      "Epoch 107/200\n",
      "27/27 [==============================] - 0s 2ms/step - loss: 0.2837 - accuracy: 0.9002 - val_loss: 0.2436 - val_accuracy: 0.9085\n",
      "Epoch 108/200\n",
      "27/27 [==============================] - 0s 2ms/step - loss: 0.2682 - accuracy: 0.9126 - val_loss: 0.2403 - val_accuracy: 0.9070\n",
      "Epoch 109/200\n",
      "27/27 [==============================] - 0s 2ms/step - loss: 0.2785 - accuracy: 0.9036 - val_loss: 0.2400 - val_accuracy: 0.9100\n",
      "Epoch 110/200\n",
      "27/27 [==============================] - 0s 2ms/step - loss: 0.2781 - accuracy: 0.9014 - val_loss: 0.2420 - val_accuracy: 0.9025\n",
      "Epoch 111/200\n",
      "27/27 [==============================] - 0s 2ms/step - loss: 0.2872 - accuracy: 0.8980 - val_loss: 0.2465 - val_accuracy: 0.9055\n",
      "Epoch 112/200\n",
      "27/27 [==============================] - 0s 2ms/step - loss: 0.2862 - accuracy: 0.9032 - val_loss: 0.2490 - val_accuracy: 0.9070\n",
      "Epoch 113/200\n",
      "27/27 [==============================] - 0s 2ms/step - loss: 0.2778 - accuracy: 0.9029 - val_loss: 0.2473 - val_accuracy: 0.9040\n",
      "Epoch 114/200\n",
      "27/27 [==============================] - 0s 2ms/step - loss: 0.2774 - accuracy: 0.9010 - val_loss: 0.2474 - val_accuracy: 0.9085\n",
      "Epoch 115/200\n",
      "27/27 [==============================] - 0s 2ms/step - loss: 0.2829 - accuracy: 0.9010 - val_loss: 0.2430 - val_accuracy: 0.9130\n",
      "Epoch 116/200\n"
     ]
    },
    {
     "name": "stdout",
     "output_type": "stream",
     "text": [
      "27/27 [==============================] - 0s 2ms/step - loss: 0.2755 - accuracy: 0.9029 - val_loss: 0.2443 - val_accuracy: 0.9130\n",
      "Epoch 117/200\n",
      "27/27 [==============================] - 0s 2ms/step - loss: 0.2765 - accuracy: 0.9062 - val_loss: 0.2440 - val_accuracy: 0.9115\n",
      "Epoch 118/200\n",
      "27/27 [==============================] - 0s 2ms/step - loss: 0.2811 - accuracy: 0.9036 - val_loss: 0.2443 - val_accuracy: 0.9115\n",
      "Epoch 119/200\n",
      "27/27 [==============================] - 0s 2ms/step - loss: 0.2923 - accuracy: 0.8995 - val_loss: 0.2452 - val_accuracy: 0.9085\n",
      "Epoch 120/200\n",
      "27/27 [==============================] - 0s 2ms/step - loss: 0.2764 - accuracy: 0.9051 - val_loss: 0.2451 - val_accuracy: 0.9100\n",
      "Epoch 121/200\n",
      "27/27 [==============================] - 0s 2ms/step - loss: 0.2761 - accuracy: 0.9059 - val_loss: 0.2441 - val_accuracy: 0.9115\n",
      "Epoch 122/200\n",
      "27/27 [==============================] - 0s 2ms/step - loss: 0.2895 - accuracy: 0.9010 - val_loss: 0.2473 - val_accuracy: 0.9130\n",
      "Epoch 123/200\n",
      "27/27 [==============================] - 0s 2ms/step - loss: 0.2881 - accuracy: 0.8972 - val_loss: 0.2501 - val_accuracy: 0.9070\n",
      "Epoch 124/200\n",
      "27/27 [==============================] - 0s 2ms/step - loss: 0.2820 - accuracy: 0.9002 - val_loss: 0.2453 - val_accuracy: 0.9130\n",
      "Epoch 125/200\n",
      "27/27 [==============================] - 0s 2ms/step - loss: 0.2822 - accuracy: 0.9021 - val_loss: 0.2424 - val_accuracy: 0.9160\n",
      "Epoch 126/200\n",
      "27/27 [==============================] - 0s 2ms/step - loss: 0.2888 - accuracy: 0.9006 - val_loss: 0.2439 - val_accuracy: 0.9145\n",
      "Epoch 127/200\n",
      "27/27 [==============================] - 0s 2ms/step - loss: 0.2917 - accuracy: 0.9002 - val_loss: 0.2453 - val_accuracy: 0.9145\n",
      "Epoch 128/200\n",
      "27/27 [==============================] - 0s 2ms/step - loss: 0.2745 - accuracy: 0.9051 - val_loss: 0.2456 - val_accuracy: 0.9115\n",
      "Epoch 129/200\n",
      "27/27 [==============================] - 0s 2ms/step - loss: 0.2688 - accuracy: 0.9044 - val_loss: 0.2432 - val_accuracy: 0.9085\n",
      "Epoch 130/200\n",
      "27/27 [==============================] - 0s 2ms/step - loss: 0.2677 - accuracy: 0.9107 - val_loss: 0.2395 - val_accuracy: 0.9130\n",
      "Epoch 131/200\n",
      "27/27 [==============================] - 0s 2ms/step - loss: 0.2832 - accuracy: 0.9014 - val_loss: 0.2447 - val_accuracy: 0.9085\n",
      "Epoch 132/200\n",
      "27/27 [==============================] - 0s 2ms/step - loss: 0.2746 - accuracy: 0.9089 - val_loss: 0.2460 - val_accuracy: 0.9100\n",
      "Epoch 133/200\n",
      "27/27 [==============================] - 0s 2ms/step - loss: 0.2764 - accuracy: 0.9047 - val_loss: 0.2431 - val_accuracy: 0.9160\n",
      "Epoch 134/200\n",
      "27/27 [==============================] - 0s 2ms/step - loss: 0.2748 - accuracy: 0.9062 - val_loss: 0.2418 - val_accuracy: 0.9145\n",
      "Epoch 135/200\n",
      "27/27 [==============================] - 0s 2ms/step - loss: 0.2786 - accuracy: 0.9032 - val_loss: 0.2433 - val_accuracy: 0.9145\n",
      "Epoch 136/200\n",
      "27/27 [==============================] - 0s 2ms/step - loss: 0.2743 - accuracy: 0.9122 - val_loss: 0.2444 - val_accuracy: 0.9115\n",
      "Epoch 137/200\n",
      "27/27 [==============================] - 0s 1ms/step - loss: 0.2732 - accuracy: 0.9062 - val_loss: 0.2402 - val_accuracy: 0.9160\n",
      "Epoch 138/200\n",
      "27/27 [==============================] - 0s 2ms/step - loss: 0.2745 - accuracy: 0.9047 - val_loss: 0.2437 - val_accuracy: 0.9130\n",
      "Epoch 139/200\n",
      "27/27 [==============================] - 0s 2ms/step - loss: 0.2785 - accuracy: 0.9081 - val_loss: 0.2496 - val_accuracy: 0.9115\n",
      "Epoch 140/200\n",
      "27/27 [==============================] - 0s 1ms/step - loss: 0.2728 - accuracy: 0.9100 - val_loss: 0.2439 - val_accuracy: 0.9160\n",
      "Epoch 141/200\n",
      "27/27 [==============================] - 0s 1ms/step - loss: 0.2777 - accuracy: 0.9059 - val_loss: 0.2462 - val_accuracy: 0.9145\n",
      "Epoch 142/200\n",
      "27/27 [==============================] - 0s 1ms/step - loss: 0.2758 - accuracy: 0.9055 - val_loss: 0.2457 - val_accuracy: 0.9130\n",
      "Epoch 143/200\n",
      "27/27 [==============================] - 0s 2ms/step - loss: 0.2683 - accuracy: 0.9107 - val_loss: 0.2431 - val_accuracy: 0.9085\n",
      "Epoch 144/200\n",
      "27/27 [==============================] - 0s 2ms/step - loss: 0.2655 - accuracy: 0.9085 - val_loss: 0.2406 - val_accuracy: 0.9145\n",
      "Epoch 145/200\n",
      "27/27 [==============================] - 0s 2ms/step - loss: 0.2735 - accuracy: 0.9081 - val_loss: 0.2421 - val_accuracy: 0.9145\n",
      "Epoch 146/200\n",
      "27/27 [==============================] - 0s 2ms/step - loss: 0.2656 - accuracy: 0.9081 - val_loss: 0.2475 - val_accuracy: 0.9130\n",
      "Epoch 147/200\n",
      "27/27 [==============================] - 0s 2ms/step - loss: 0.2642 - accuracy: 0.9141 - val_loss: 0.2424 - val_accuracy: 0.9130\n",
      "Epoch 148/200\n",
      "27/27 [==============================] - 0s 2ms/step - loss: 0.2745 - accuracy: 0.9040 - val_loss: 0.2458 - val_accuracy: 0.9100\n",
      "Epoch 149/200\n",
      "27/27 [==============================] - 0s 2ms/step - loss: 0.2663 - accuracy: 0.9104 - val_loss: 0.2375 - val_accuracy: 0.9175\n",
      "Epoch 150/200\n",
      "27/27 [==============================] - 0s 2ms/step - loss: 0.2811 - accuracy: 0.9062 - val_loss: 0.2426 - val_accuracy: 0.9160\n",
      "Epoch 151/200\n",
      "27/27 [==============================] - 0s 2ms/step - loss: 0.2565 - accuracy: 0.9137 - val_loss: 0.2390 - val_accuracy: 0.9145\n",
      "Epoch 152/200\n",
      "27/27 [==============================] - 0s 2ms/step - loss: 0.2748 - accuracy: 0.9070 - val_loss: 0.2388 - val_accuracy: 0.9175\n",
      "Epoch 153/200\n",
      "27/27 [==============================] - 0s 2ms/step - loss: 0.2767 - accuracy: 0.9085 - val_loss: 0.2428 - val_accuracy: 0.9175\n",
      "Epoch 154/200\n",
      "27/27 [==============================] - 0s 2ms/step - loss: 0.2718 - accuracy: 0.9077 - val_loss: 0.2428 - val_accuracy: 0.9145\n",
      "Epoch 155/200\n",
      "27/27 [==============================] - 0s 2ms/step - loss: 0.2673 - accuracy: 0.9040 - val_loss: 0.2496 - val_accuracy: 0.9100\n",
      "Epoch 156/200\n",
      "27/27 [==============================] - 0s 2ms/step - loss: 0.2769 - accuracy: 0.9092 - val_loss: 0.2440 - val_accuracy: 0.9145\n",
      "Epoch 157/200\n",
      "27/27 [==============================] - 0s 2ms/step - loss: 0.2653 - accuracy: 0.9089 - val_loss: 0.2422 - val_accuracy: 0.9130\n",
      "Epoch 158/200\n",
      "27/27 [==============================] - 0s 2ms/step - loss: 0.2699 - accuracy: 0.9062 - val_loss: 0.2425 - val_accuracy: 0.9130\n",
      "Epoch 159/200\n",
      "27/27 [==============================] - 0s 2ms/step - loss: 0.2799 - accuracy: 0.9066 - val_loss: 0.2416 - val_accuracy: 0.9160\n",
      "Epoch 160/200\n",
      "27/27 [==============================] - 0s 2ms/step - loss: 0.2638 - accuracy: 0.9096 - val_loss: 0.2435 - val_accuracy: 0.9175\n",
      "Epoch 161/200\n",
      "27/27 [==============================] - 0s 2ms/step - loss: 0.2781 - accuracy: 0.9051 - val_loss: 0.2438 - val_accuracy: 0.9115\n",
      "Epoch 162/200\n",
      "27/27 [==============================] - 0s 2ms/step - loss: 0.2673 - accuracy: 0.9089 - val_loss: 0.2420 - val_accuracy: 0.9160\n",
      "Epoch 163/200\n",
      "27/27 [==============================] - 0s 2ms/step - loss: 0.2536 - accuracy: 0.9160 - val_loss: 0.2435 - val_accuracy: 0.9145\n",
      "Epoch 164/200\n",
      "27/27 [==============================] - 0s 1ms/step - loss: 0.2618 - accuracy: 0.9130 - val_loss: 0.2531 - val_accuracy: 0.9070\n",
      "Epoch 165/200\n",
      "27/27 [==============================] - 0s 2ms/step - loss: 0.2663 - accuracy: 0.9119 - val_loss: 0.2485 - val_accuracy: 0.9085\n",
      "Epoch 166/200\n",
      "27/27 [==============================] - 0s 2ms/step - loss: 0.2669 - accuracy: 0.9092 - val_loss: 0.2444 - val_accuracy: 0.9070\n",
      "Epoch 167/200\n",
      "27/27 [==============================] - 0s 2ms/step - loss: 0.2756 - accuracy: 0.9036 - val_loss: 0.2434 - val_accuracy: 0.9130\n",
      "Epoch 168/200\n",
      "27/27 [==============================] - 0s 2ms/step - loss: 0.2601 - accuracy: 0.9119 - val_loss: 0.2436 - val_accuracy: 0.9115\n",
      "Epoch 169/200\n",
      "27/27 [==============================] - 0s 2ms/step - loss: 0.2572 - accuracy: 0.9122 - val_loss: 0.2434 - val_accuracy: 0.9115\n",
      "Epoch 170/200\n",
      "27/27 [==============================] - 0s 2ms/step - loss: 0.2578 - accuracy: 0.9152 - val_loss: 0.2470 - val_accuracy: 0.9145\n",
      "Epoch 171/200\n",
      "27/27 [==============================] - 0s 2ms/step - loss: 0.2698 - accuracy: 0.9062 - val_loss: 0.2435 - val_accuracy: 0.9145\n",
      "Epoch 172/200\n",
      "27/27 [==============================] - 0s 2ms/step - loss: 0.2576 - accuracy: 0.9134 - val_loss: 0.2430 - val_accuracy: 0.9145\n",
      "Epoch 173/200\n"
     ]
    },
    {
     "name": "stdout",
     "output_type": "stream",
     "text": [
      "27/27 [==============================] - 0s 2ms/step - loss: 0.2535 - accuracy: 0.9145 - val_loss: 0.2426 - val_accuracy: 0.9130\n",
      "Epoch 174/200\n",
      "27/27 [==============================] - 0s 2ms/step - loss: 0.2681 - accuracy: 0.9077 - val_loss: 0.2404 - val_accuracy: 0.9115\n",
      "Epoch 175/200\n",
      "27/27 [==============================] - 0s 2ms/step - loss: 0.2630 - accuracy: 0.9137 - val_loss: 0.2465 - val_accuracy: 0.9145\n",
      "Epoch 176/200\n",
      "27/27 [==============================] - 0s 1ms/step - loss: 0.2646 - accuracy: 0.9096 - val_loss: 0.2426 - val_accuracy: 0.9160\n",
      "Epoch 177/200\n",
      "27/27 [==============================] - 0s 2ms/step - loss: 0.2542 - accuracy: 0.9171 - val_loss: 0.2435 - val_accuracy: 0.9160\n",
      "Epoch 178/200\n",
      "27/27 [==============================] - 0s 1ms/step - loss: 0.2685 - accuracy: 0.9089 - val_loss: 0.2468 - val_accuracy: 0.9100\n",
      "Epoch 179/200\n",
      "27/27 [==============================] - 0s 2ms/step - loss: 0.2595 - accuracy: 0.9149 - val_loss: 0.2458 - val_accuracy: 0.9115\n",
      "Epoch 180/200\n",
      "27/27 [==============================] - 0s 2ms/step - loss: 0.2668 - accuracy: 0.9111 - val_loss: 0.2453 - val_accuracy: 0.9130\n",
      "Epoch 181/200\n",
      "27/27 [==============================] - 0s 1ms/step - loss: 0.2556 - accuracy: 0.9126 - val_loss: 0.2444 - val_accuracy: 0.9130\n",
      "Epoch 182/200\n",
      "27/27 [==============================] - 0s 2ms/step - loss: 0.2516 - accuracy: 0.9175 - val_loss: 0.2426 - val_accuracy: 0.9160\n",
      "Epoch 183/200\n",
      "27/27 [==============================] - 0s 2ms/step - loss: 0.2613 - accuracy: 0.9152 - val_loss: 0.2478 - val_accuracy: 0.9100\n",
      "Epoch 184/200\n",
      "27/27 [==============================] - 0s 2ms/step - loss: 0.2640 - accuracy: 0.9077 - val_loss: 0.2507 - val_accuracy: 0.9070\n",
      "Epoch 185/200\n",
      "27/27 [==============================] - 0s 2ms/step - loss: 0.2594 - accuracy: 0.9096 - val_loss: 0.2399 - val_accuracy: 0.9130\n",
      "Epoch 186/200\n",
      "27/27 [==============================] - 0s 1ms/step - loss: 0.2684 - accuracy: 0.9077 - val_loss: 0.2555 - val_accuracy: 0.9010\n",
      "Epoch 187/200\n",
      "27/27 [==============================] - 0s 2ms/step - loss: 0.2534 - accuracy: 0.9197 - val_loss: 0.2451 - val_accuracy: 0.9085\n",
      "Epoch 188/200\n",
      "27/27 [==============================] - 0s 2ms/step - loss: 0.2633 - accuracy: 0.9111 - val_loss: 0.2539 - val_accuracy: 0.9040\n",
      "Epoch 189/200\n",
      "27/27 [==============================] - 0s 1ms/step - loss: 0.2560 - accuracy: 0.9167 - val_loss: 0.2473 - val_accuracy: 0.9085\n",
      "Epoch 190/200\n",
      "27/27 [==============================] - 0s 2ms/step - loss: 0.2522 - accuracy: 0.9167 - val_loss: 0.2457 - val_accuracy: 0.9085\n",
      "Epoch 191/200\n",
      "27/27 [==============================] - 0s 2ms/step - loss: 0.2515 - accuracy: 0.9194 - val_loss: 0.2486 - val_accuracy: 0.9085\n",
      "Epoch 192/200\n",
      "27/27 [==============================] - 0s 1ms/step - loss: 0.2426 - accuracy: 0.9239 - val_loss: 0.2501 - val_accuracy: 0.9130\n",
      "Epoch 193/200\n",
      "27/27 [==============================] - 0s 2ms/step - loss: 0.2629 - accuracy: 0.9100 - val_loss: 0.2488 - val_accuracy: 0.9085\n",
      "Epoch 194/200\n",
      "27/27 [==============================] - 0s 1ms/step - loss: 0.2449 - accuracy: 0.9182 - val_loss: 0.2522 - val_accuracy: 0.9070\n",
      "Epoch 195/200\n",
      "27/27 [==============================] - 0s 2ms/step - loss: 0.2589 - accuracy: 0.9141 - val_loss: 0.2507 - val_accuracy: 0.9070\n",
      "Epoch 196/200\n",
      "27/27 [==============================] - 0s 2ms/step - loss: 0.2495 - accuracy: 0.9190 - val_loss: 0.2505 - val_accuracy: 0.9055\n",
      "Epoch 197/200\n",
      "27/27 [==============================] - 0s 2ms/step - loss: 0.2510 - accuracy: 0.9152 - val_loss: 0.2479 - val_accuracy: 0.9055\n",
      "Epoch 198/200\n",
      "27/27 [==============================] - 0s 2ms/step - loss: 0.2615 - accuracy: 0.9156 - val_loss: 0.2506 - val_accuracy: 0.9085\n",
      "Epoch 199/200\n",
      "27/27 [==============================] - 0s 2ms/step - loss: 0.2550 - accuracy: 0.9149 - val_loss: 0.2502 - val_accuracy: 0.9085\n",
      "Epoch 200/200\n",
      "27/27 [==============================] - 0s 2ms/step - loss: 0.2483 - accuracy: 0.9171 - val_loss: 0.2472 - val_accuracy: 0.9085\n"
     ]
    },
    {
     "data": {
      "text/plain": [
       "<keras.callbacks.History at 0x7fbb78863d00>"
      ]
     },
     "execution_count": 53,
     "metadata": {},
     "output_type": "execute_result"
    }
   ],
   "source": [
    "ann_model.fit(x_train,y_train,batch_size=100,epochs=200,validation_data=(x_test,y_test),shuffle=True)\n",
    "\n"
   ]
  },
  {
   "cell_type": "code",
   "execution_count": 20,
   "id": "5c032bff",
   "metadata": {},
   "outputs": [
    {
     "name": "stdout",
     "output_type": "stream",
     "text": [
      "84/84 [==============================] - 0s 682us/step - loss: 0.2429 - accuracy: 0.8980\n"
     ]
    },
    {
     "data": {
      "text/plain": [
       "[0.2429174929857254, 0.8979744911193848]"
      ]
     },
     "execution_count": 20,
     "metadata": {},
     "output_type": "execute_result"
    }
   ],
   "source": [
    "ann_model.evaluate(x_train,y_train)"
   ]
  },
  {
   "cell_type": "code",
   "execution_count": 21,
   "id": "dbc1350c",
   "metadata": {},
   "outputs": [
    {
     "name": "stdout",
     "output_type": "stream",
     "text": [
      "21/21 [==============================] - 0s 679us/step - loss: 0.2541 - accuracy: 0.9040\n"
     ]
    },
    {
     "data": {
      "text/plain": [
       "[0.2540603578090668, 0.904047966003418]"
      ]
     },
     "execution_count": 21,
     "metadata": {},
     "output_type": "execute_result"
    }
   ],
   "source": [
    "ann_model.evaluate(x_test,y_test)"
   ]
  },
  {
   "cell_type": "markdown",
   "id": "155a9dab",
   "metadata": {},
   "source": [
    "### convertiing probabilities to labels"
   ]
  },
  {
   "cell_type": "code",
   "execution_count": 54,
   "id": "bc7e4554",
   "metadata": {},
   "outputs": [],
   "source": [
    "y_pred_train = ann_model.predict(x_train)\n",
    "for i in range(0,len(y_pred_train)):\n",
    "    if y_pred_train[i]>=.5:\n",
    "        y_pred_train[i] = 1\n",
    "    else:\n",
    "        y_pred_train[i] = 0"
   ]
  },
  {
   "cell_type": "code",
   "execution_count": 55,
   "id": "b028731a",
   "metadata": {
    "scrolled": false
   },
   "outputs": [],
   "source": [
    "y_pred_test = ann_model.predict(x_test)\n",
    "for i in range(0,len(y_pred_test)):\n",
    "    if y_pred_test[i]>=.5:\n",
    "        y_pred_test[i] = 1\n",
    "    else:\n",
    "        y_pred_test[i] = 0\n",
    "   "
   ]
  },
  {
   "cell_type": "code",
   "execution_count": 56,
   "id": "31bb74b5",
   "metadata": {},
   "outputs": [],
   "source": [
    "my_dict[\"model\"].append('ANN')\n",
    "my_dict[\"train accuracy\"].append(round(accuracy_score(y_train,y_pred_train)*100,2))\n",
    "my_dict[\"test accuracy\"].append(round(accuracy_score(y_test,y_pred_test)*100,2))\n",
    "my_dict[\"precision\"].append(round(precision_score(y_test,y_pred_test)*100,2))\n",
    "my_dict[\"recall\"].append(round(recall_score(y_test,y_pred_test)*100,2))"
   ]
  },
  {
   "cell_type": "markdown",
   "id": "ec14de8d",
   "metadata": {},
   "source": [
    "### Naive Bayes"
   ]
  },
  {
   "cell_type": "code",
   "execution_count": 57,
   "id": "ef7ea84b",
   "metadata": {},
   "outputs": [
    {
     "name": "stdout",
     "output_type": "stream",
     "text": [
      "Accuracy: 0.875 (0.017)\n"
     ]
    }
   ],
   "source": [
    "gnb = GaussianNB()\n",
    "# evaluate model\n",
    "cross_validate_model(gnb)"
   ]
  },
  {
   "cell_type": "code",
   "execution_count": 58,
   "id": "f5fd69b9",
   "metadata": {},
   "outputs": [
    {
     "name": "stdout",
     "output_type": "stream",
     "text": [
      "{'model': ['LogisticRegression()', 'DecisionTreeClassifier()', 'RandomForestClassifier()', 'GradientBoostingClassifier()', 'SVC()', 'ANN', 'GaussianNB()'], 'train accuracy': [86.01, 100.0, 100.0, 98.42, 95.31, 90.96, 86.98], 'test accuracy': [86.51, 93.25, 97.3, 97.75, 92.8, 90.85, 88.31], 'precision': [56.6, 72.81, 98.77, 98.81, 88.89, 92.86, 57.6], 'recall': [30.93, 85.57, 82.47, 85.57, 57.73, 40.21, 74.23]}\n"
     ]
    }
   ],
   "source": [
    "gnb.fit(x_train,y_train)\n",
    "populate_matrix(gnb)\n",
    "print(my_dict)"
   ]
  },
  {
   "cell_type": "code",
   "execution_count": 59,
   "id": "38678a06",
   "metadata": {},
   "outputs": [],
   "source": [
    "# Adding performance metrics of xgboost manually, i implemented the same in seperate file\n",
    "\n",
    "my_dict[\"model\"].append('XGBClassifier()')\n",
    "my_dict[\"train accuracy\"].append(97.78)\n",
    "my_dict[\"test accuracy\"].append(97.8)\n",
    "my_dict[\"precision\"].append(98.41)\n",
    "my_dict[\"recall\"].append(86.11)"
   ]
  },
  {
   "cell_type": "markdown",
   "id": "70634022",
   "metadata": {},
   "source": [
    "### Final performance matrix of all the models"
   ]
  },
  {
   "cell_type": "code",
   "execution_count": 60,
   "id": "1b1420f1",
   "metadata": {},
   "outputs": [
    {
     "data": {
      "text/html": [
       "<div>\n",
       "<style scoped>\n",
       "    .dataframe tbody tr th:only-of-type {\n",
       "        vertical-align: middle;\n",
       "    }\n",
       "\n",
       "    .dataframe tbody tr th {\n",
       "        vertical-align: top;\n",
       "    }\n",
       "\n",
       "    .dataframe thead th {\n",
       "        text-align: right;\n",
       "    }\n",
       "</style>\n",
       "<table border=\"1\" class=\"dataframe\">\n",
       "  <thead>\n",
       "    <tr style=\"text-align: right;\">\n",
       "      <th></th>\n",
       "      <th>model</th>\n",
       "      <th>train accuracy</th>\n",
       "      <th>test accuracy</th>\n",
       "      <th>precision</th>\n",
       "      <th>recall</th>\n",
       "    </tr>\n",
       "  </thead>\n",
       "  <tbody>\n",
       "    <tr>\n",
       "      <th>7</th>\n",
       "      <td>XGBClassifier()</td>\n",
       "      <td>97.78</td>\n",
       "      <td>97.80</td>\n",
       "      <td>98.41</td>\n",
       "      <td>86.11</td>\n",
       "    </tr>\n",
       "    <tr>\n",
       "      <th>3</th>\n",
       "      <td>GradientBoostingClassifier()</td>\n",
       "      <td>98.42</td>\n",
       "      <td>97.75</td>\n",
       "      <td>98.81</td>\n",
       "      <td>85.57</td>\n",
       "    </tr>\n",
       "    <tr>\n",
       "      <th>2</th>\n",
       "      <td>RandomForestClassifier()</td>\n",
       "      <td>100.00</td>\n",
       "      <td>97.30</td>\n",
       "      <td>98.77</td>\n",
       "      <td>82.47</td>\n",
       "    </tr>\n",
       "    <tr>\n",
       "      <th>1</th>\n",
       "      <td>DecisionTreeClassifier()</td>\n",
       "      <td>100.00</td>\n",
       "      <td>93.25</td>\n",
       "      <td>72.81</td>\n",
       "      <td>85.57</td>\n",
       "    </tr>\n",
       "    <tr>\n",
       "      <th>4</th>\n",
       "      <td>SVC()</td>\n",
       "      <td>95.31</td>\n",
       "      <td>92.80</td>\n",
       "      <td>88.89</td>\n",
       "      <td>57.73</td>\n",
       "    </tr>\n",
       "    <tr>\n",
       "      <th>5</th>\n",
       "      <td>ANN</td>\n",
       "      <td>90.96</td>\n",
       "      <td>90.85</td>\n",
       "      <td>92.86</td>\n",
       "      <td>40.21</td>\n",
       "    </tr>\n",
       "    <tr>\n",
       "      <th>6</th>\n",
       "      <td>GaussianNB()</td>\n",
       "      <td>86.98</td>\n",
       "      <td>88.31</td>\n",
       "      <td>57.60</td>\n",
       "      <td>74.23</td>\n",
       "    </tr>\n",
       "    <tr>\n",
       "      <th>0</th>\n",
       "      <td>LogisticRegression()</td>\n",
       "      <td>86.01</td>\n",
       "      <td>86.51</td>\n",
       "      <td>56.60</td>\n",
       "      <td>30.93</td>\n",
       "    </tr>\n",
       "  </tbody>\n",
       "</table>\n",
       "</div>"
      ],
      "text/plain": [
       "                          model  train accuracy  test accuracy  precision  \\\n",
       "7               XGBClassifier()           97.78          97.80      98.41   \n",
       "3  GradientBoostingClassifier()           98.42          97.75      98.81   \n",
       "2      RandomForestClassifier()          100.00          97.30      98.77   \n",
       "1      DecisionTreeClassifier()          100.00          93.25      72.81   \n",
       "4                         SVC()           95.31          92.80      88.89   \n",
       "5                           ANN           90.96          90.85      92.86   \n",
       "6                  GaussianNB()           86.98          88.31      57.60   \n",
       "0          LogisticRegression()           86.01          86.51      56.60   \n",
       "\n",
       "   recall  \n",
       "7   86.11  \n",
       "3   85.57  \n",
       "2   82.47  \n",
       "1   85.57  \n",
       "4   57.73  \n",
       "5   40.21  \n",
       "6   74.23  \n",
       "0   30.93  "
      ]
     },
     "execution_count": 60,
     "metadata": {},
     "output_type": "execute_result"
    }
   ],
   "source": [
    "pd.DataFrame(my_dict).sort_values(by='test accuracy',ascending=False)"
   ]
  }
 ],
 "metadata": {
  "kernelspec": {
   "display_name": "Python 3",
   "language": "python",
   "name": "python3"
  },
  "language_info": {
   "codemirror_mode": {
    "name": "ipython",
    "version": 3
   },
   "file_extension": ".py",
   "mimetype": "text/x-python",
   "name": "python",
   "nbconvert_exporter": "python",
   "pygments_lexer": "ipython3",
   "version": "3.8.8"
  }
 },
 "nbformat": 4,
 "nbformat_minor": 5
}
