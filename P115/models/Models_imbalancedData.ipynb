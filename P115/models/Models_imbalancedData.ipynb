{
 "cells": [
  {
   "cell_type": "code",
   "execution_count": 3,
   "id": "e5a8a91f",
   "metadata": {},
   "outputs": [],
   "source": [
    "import pandas as pd\n",
    "from sklearn.linear_model import LogisticRegression\n",
    "from sklearn.model_selection import train_test_split,RepeatedStratifiedKFold,cross_val_score\n",
    "from sklearn.preprocessing import StandardScaler\n",
    "from numpy import mean,std\n",
    "from sklearn.tree import DecisionTreeClassifier\n",
    "from sklearn.ensemble import RandomForestClassifier\n",
    "from sklearn.ensemble import GradientBoostingClassifier\n",
    "from xgboost import XGBClassifier\n",
    "from sklearn.svm import SVC\n",
    "from sklearn.metrics import accuracy_score,precision_score,confusion_matrix,recall_score\n",
    "import warnings\n",
    "warnings.filterwarnings('ignore')\n",
    "from tensorflow import keras\n",
    "from keras.models import Sequential\n",
    "from keras.layers import Dense,Dropout\n",
    "from sklearn.naive_bayes import GaussianNB"
   ]
  },
  {
   "cell_type": "markdown",
   "id": "3450fd9c",
   "metadata": {},
   "source": [
    "## Loading Data"
   ]
  },
  {
   "cell_type": "code",
   "execution_count": 4,
   "id": "61b000d8",
   "metadata": {
    "scrolled": true
   },
   "outputs": [
    {
     "data": {
      "text/html": [
       "<div>\n",
       "<style scoped>\n",
       "    .dataframe tbody tr th:only-of-type {\n",
       "        vertical-align: middle;\n",
       "    }\n",
       "\n",
       "    .dataframe tbody tr th {\n",
       "        vertical-align: top;\n",
       "    }\n",
       "\n",
       "    .dataframe thead th {\n",
       "        text-align: right;\n",
       "    }\n",
       "</style>\n",
       "<table border=\"1\" class=\"dataframe\">\n",
       "  <thead>\n",
       "    <tr style=\"text-align: right;\">\n",
       "      <th></th>\n",
       "      <th>account_length</th>\n",
       "      <th>voice_mail_plan</th>\n",
       "      <th>voice_mail_messages</th>\n",
       "      <th>day_mins</th>\n",
       "      <th>evening_mins</th>\n",
       "      <th>night_mins</th>\n",
       "      <th>international_mins</th>\n",
       "      <th>customer_service_calls</th>\n",
       "      <th>international_plan</th>\n",
       "      <th>day_calls</th>\n",
       "      <th>day_charge</th>\n",
       "      <th>evening_calls</th>\n",
       "      <th>evening_charge</th>\n",
       "      <th>night_calls</th>\n",
       "      <th>night_charge</th>\n",
       "      <th>international_calls</th>\n",
       "      <th>international_charge</th>\n",
       "      <th>total_charge</th>\n",
       "      <th>churn</th>\n",
       "    </tr>\n",
       "  </thead>\n",
       "  <tbody>\n",
       "    <tr>\n",
       "      <th>0</th>\n",
       "      <td>128</td>\n",
       "      <td>1</td>\n",
       "      <td>25</td>\n",
       "      <td>265.1</td>\n",
       "      <td>197.4</td>\n",
       "      <td>244.7</td>\n",
       "      <td>10.0</td>\n",
       "      <td>1</td>\n",
       "      <td>0</td>\n",
       "      <td>110</td>\n",
       "      <td>45.07</td>\n",
       "      <td>99</td>\n",
       "      <td>16.78</td>\n",
       "      <td>91</td>\n",
       "      <td>11.01</td>\n",
       "      <td>3</td>\n",
       "      <td>2.70</td>\n",
       "      <td>75.56</td>\n",
       "      <td>0</td>\n",
       "    </tr>\n",
       "    <tr>\n",
       "      <th>1</th>\n",
       "      <td>107</td>\n",
       "      <td>1</td>\n",
       "      <td>26</td>\n",
       "      <td>161.6</td>\n",
       "      <td>195.5</td>\n",
       "      <td>254.4</td>\n",
       "      <td>13.7</td>\n",
       "      <td>1</td>\n",
       "      <td>0</td>\n",
       "      <td>123</td>\n",
       "      <td>27.47</td>\n",
       "      <td>103</td>\n",
       "      <td>16.62</td>\n",
       "      <td>103</td>\n",
       "      <td>11.45</td>\n",
       "      <td>3</td>\n",
       "      <td>3.70</td>\n",
       "      <td>59.24</td>\n",
       "      <td>0</td>\n",
       "    </tr>\n",
       "    <tr>\n",
       "      <th>2</th>\n",
       "      <td>137</td>\n",
       "      <td>0</td>\n",
       "      <td>0</td>\n",
       "      <td>243.4</td>\n",
       "      <td>121.2</td>\n",
       "      <td>162.6</td>\n",
       "      <td>12.2</td>\n",
       "      <td>0</td>\n",
       "      <td>0</td>\n",
       "      <td>114</td>\n",
       "      <td>41.38</td>\n",
       "      <td>110</td>\n",
       "      <td>10.30</td>\n",
       "      <td>104</td>\n",
       "      <td>7.32</td>\n",
       "      <td>5</td>\n",
       "      <td>3.29</td>\n",
       "      <td>62.29</td>\n",
       "      <td>0</td>\n",
       "    </tr>\n",
       "    <tr>\n",
       "      <th>3</th>\n",
       "      <td>84</td>\n",
       "      <td>0</td>\n",
       "      <td>0</td>\n",
       "      <td>299.4</td>\n",
       "      <td>61.9</td>\n",
       "      <td>196.9</td>\n",
       "      <td>6.6</td>\n",
       "      <td>2</td>\n",
       "      <td>1</td>\n",
       "      <td>71</td>\n",
       "      <td>50.90</td>\n",
       "      <td>88</td>\n",
       "      <td>5.26</td>\n",
       "      <td>89</td>\n",
       "      <td>8.86</td>\n",
       "      <td>7</td>\n",
       "      <td>1.78</td>\n",
       "      <td>66.80</td>\n",
       "      <td>0</td>\n",
       "    </tr>\n",
       "    <tr>\n",
       "      <th>4</th>\n",
       "      <td>75</td>\n",
       "      <td>0</td>\n",
       "      <td>0</td>\n",
       "      <td>166.7</td>\n",
       "      <td>148.3</td>\n",
       "      <td>186.9</td>\n",
       "      <td>10.1</td>\n",
       "      <td>3</td>\n",
       "      <td>1</td>\n",
       "      <td>113</td>\n",
       "      <td>28.34</td>\n",
       "      <td>122</td>\n",
       "      <td>12.61</td>\n",
       "      <td>121</td>\n",
       "      <td>8.41</td>\n",
       "      <td>3</td>\n",
       "      <td>2.73</td>\n",
       "      <td>52.09</td>\n",
       "      <td>0</td>\n",
       "    </tr>\n",
       "  </tbody>\n",
       "</table>\n",
       "</div>"
      ],
      "text/plain": [
       "   account_length  voice_mail_plan  voice_mail_messages  day_mins  \\\n",
       "0             128                1                   25     265.1   \n",
       "1             107                1                   26     161.6   \n",
       "2             137                0                    0     243.4   \n",
       "3              84                0                    0     299.4   \n",
       "4              75                0                    0     166.7   \n",
       "\n",
       "   evening_mins  night_mins  international_mins  customer_service_calls  \\\n",
       "0         197.4       244.7                10.0                       1   \n",
       "1         195.5       254.4                13.7                       1   \n",
       "2         121.2       162.6                12.2                       0   \n",
       "3          61.9       196.9                 6.6                       2   \n",
       "4         148.3       186.9                10.1                       3   \n",
       "\n",
       "   international_plan  day_calls  day_charge  evening_calls  evening_charge  \\\n",
       "0                   0        110       45.07             99           16.78   \n",
       "1                   0        123       27.47            103           16.62   \n",
       "2                   0        114       41.38            110           10.30   \n",
       "3                   1         71       50.90             88            5.26   \n",
       "4                   1        113       28.34            122           12.61   \n",
       "\n",
       "   night_calls  night_charge  international_calls  international_charge  \\\n",
       "0           91         11.01                    3                  2.70   \n",
       "1          103         11.45                    3                  3.70   \n",
       "2          104          7.32                    5                  3.29   \n",
       "3           89          8.86                    7                  1.78   \n",
       "4          121          8.41                    3                  2.73   \n",
       "\n",
       "   total_charge  churn  \n",
       "0         75.56      0  \n",
       "1         59.24      0  \n",
       "2         62.29      0  \n",
       "3         66.80      0  \n",
       "4         52.09      0  "
      ]
     },
     "execution_count": 4,
     "metadata": {},
     "output_type": "execute_result"
    }
   ],
   "source": [
    "data = data = pd.read_csv('../Datasets/telecommunications_churn.csv',sep=';')\n",
    "data.head()"
   ]
  },
  {
   "cell_type": "markdown",
   "id": "c5d9ec9e",
   "metadata": {},
   "source": [
    "## Scaling Data and Seperating X and y"
   ]
  },
  {
   "cell_type": "code",
   "execution_count": 5,
   "id": "e69ed586",
   "metadata": {},
   "outputs": [
    {
     "data": {
      "text/plain": [
       "((3333, 18), (3333, 1))"
      ]
     },
     "execution_count": 5,
     "metadata": {},
     "output_type": "execute_result"
    }
   ],
   "source": [
    "std_scr = StandardScaler()\n",
    "X = data.drop(labels='churn',axis=1)\n",
    "cols = X.columns\n",
    "X = pd.DataFrame(std_scr.fit_transform(X))\n",
    "X.columns = cols\n",
    "y = data[['churn']]\n",
    "X.shape,y.shape"
   ]
  },
  {
   "cell_type": "markdown",
   "id": "5c08ff68",
   "metadata": {},
   "source": [
    "## Train Test Split"
   ]
  },
  {
   "cell_type": "code",
   "execution_count": 6,
   "id": "3aec2a04",
   "metadata": {},
   "outputs": [],
   "source": [
    "x_train,x_test,y_train,y_test = train_test_split(X,y,test_size=0.2,shuffle=True,random_state=12,stratify=y)"
   ]
  },
  {
   "cell_type": "markdown",
   "id": "628003da",
   "metadata": {},
   "source": [
    "### Dict to record model performance"
   ]
  },
  {
   "cell_type": "code",
   "execution_count": 8,
   "id": "6c391559",
   "metadata": {},
   "outputs": [],
   "source": [
    "my_dict = {'model':[], 'accuracy': [],'precision':[],'recall':[]}"
   ]
  },
  {
   "cell_type": "markdown",
   "id": "3c1dd104",
   "metadata": {},
   "source": [
    "### Function to pridict and record model performance"
   ]
  },
  {
   "cell_type": "code",
   "execution_count": 9,
   "id": "32a51714",
   "metadata": {},
   "outputs": [],
   "source": [
    "def populate_matrix(fittedModel):\n",
    "    y_pred = fittedModel.predict(x_test)\n",
    "    accuracy = round(accuracy_score(y_test,y_pred)*100,2)\n",
    "    precision = round(precision_score(y_test,y_pred)*100,2)\n",
    "    recall = round(recall_score(y_test,y_pred)*100,2)\n",
    "    model = str(fittedModel)\n",
    "    my_dict[\"model\"].append(model)\n",
    "    my_dict[\"accuracy\"].append(accuracy)\n",
    "    my_dict[\"precision\"].append(precision)\n",
    "    my_dict[\"recall\"].append(recall)\n"
   ]
  },
  {
   "cell_type": "markdown",
   "id": "2d14ebdb",
   "metadata": {},
   "source": [
    "## Model Validation"
   ]
  },
  {
   "cell_type": "markdown",
   "id": "61b4fc4f",
   "metadata": {},
   "source": [
    "## Logistic Model"
   ]
  },
  {
   "cell_type": "code",
   "execution_count": 10,
   "id": "750cd6f3",
   "metadata": {},
   "outputs": [
    {
     "name": "stdout",
     "output_type": "stream",
     "text": [
      "Accuracy: 0.861 (0.009)\n"
     ]
    }
   ],
   "source": [
    "# evaluate model\n",
    "logistic = LogisticRegression()\n",
    "cv = RepeatedStratifiedKFold(n_splits=10, n_repeats=3, random_state=1)\n",
    "n_scores = cross_val_score(estimator=logistic,X=X,y=y, scoring='accuracy', cv=cv, n_jobs=-1, error_score='raise')\n",
    "# report performance\n",
    "print('Accuracy: %.3f (%.3f)' % (mean(n_scores), std(n_scores)))\n"
   ]
  },
  {
   "cell_type": "markdown",
   "id": "063e95cd",
   "metadata": {},
   "source": [
    "### Model Training"
   ]
  },
  {
   "cell_type": "code",
   "execution_count": 11,
   "id": "953f76cd",
   "metadata": {},
   "outputs": [
    {
     "name": "stdout",
     "output_type": "stream",
     "text": [
      "{'model': ['LogisticRegression()'], 'accuracy': [86.51], 'precision': [56.6], 'recall': [30.93]}\n"
     ]
    }
   ],
   "source": [
    "\n",
    "logistic.fit(x_train,y_train)\n",
    "populate_matrix(logistic)\n",
    "print(my_dict)"
   ]
  },
  {
   "cell_type": "markdown",
   "id": "2f269cad",
   "metadata": {},
   "source": [
    "## Decision Tree"
   ]
  },
  {
   "cell_type": "code",
   "execution_count": 12,
   "id": "66a91bb1",
   "metadata": {},
   "outputs": [
    {
     "name": "stdout",
     "output_type": "stream",
     "text": [
      "Accuracy: 0.950 (0.009)\n"
     ]
    }
   ],
   "source": [
    "dtree = DecisionTreeClassifier()\n",
    "# evaluate model\n",
    "cv = RepeatedStratifiedKFold(n_splits=10, n_repeats=3, random_state=1)\n",
    "n_scores = cross_val_score(estimator=dtree,X=X,y=y, scoring='accuracy', cv=cv, n_jobs=-1, error_score='raise')\n",
    "# report performance\n",
    "print('Accuracy: %.3f (%.3f)' % (mean(n_scores), std(n_scores)))"
   ]
  },
  {
   "cell_type": "markdown",
   "id": "7078c62d",
   "metadata": {},
   "source": [
    "### Model Training"
   ]
  },
  {
   "cell_type": "code",
   "execution_count": 13,
   "id": "49abebbb",
   "metadata": {},
   "outputs": [
    {
     "name": "stdout",
     "output_type": "stream",
     "text": [
      "{'model': ['LogisticRegression()', 'DecisionTreeClassifier()'], 'accuracy': [86.51, 94.0], 'precision': [56.6, 76.15], 'recall': [30.93, 85.57]}\n"
     ]
    }
   ],
   "source": [
    "dtree.fit(x_train,y_train)\n",
    "populate_matrix(dtree)\n",
    "print(my_dict)"
   ]
  },
  {
   "cell_type": "markdown",
   "id": "7e554fda",
   "metadata": {},
   "source": [
    "## RandomForest"
   ]
  },
  {
   "cell_type": "code",
   "execution_count": 14,
   "id": "80251d5a",
   "metadata": {},
   "outputs": [
    {
     "name": "stdout",
     "output_type": "stream",
     "text": [
      "Accuracy: 0.978 (0.008)\n"
     ]
    }
   ],
   "source": [
    "rf = RandomForestClassifier()\n",
    "# evaluate model\n",
    "cv = RepeatedStratifiedKFold(n_splits=10, n_repeats=3, random_state=1)\n",
    "n_scores = cross_val_score(estimator=rf,X=X,y=y, scoring='accuracy', cv=cv, n_jobs=-1, error_score='raise')\n",
    "# report performance\n",
    "print('Accuracy: %.3f (%.3f)' % (mean(n_scores), std(n_scores)))"
   ]
  },
  {
   "cell_type": "markdown",
   "id": "652cf854",
   "metadata": {},
   "source": [
    "### Model Training"
   ]
  },
  {
   "cell_type": "code",
   "execution_count": 15,
   "id": "1db9ddb1",
   "metadata": {},
   "outputs": [
    {
     "name": "stdout",
     "output_type": "stream",
     "text": [
      "{'model': ['LogisticRegression()', 'DecisionTreeClassifier()', 'RandomForestClassifier()'], 'accuracy': [86.51, 94.0, 97.45], 'precision': [56.6, 76.15, 100.0], 'recall': [30.93, 85.57, 82.47]}\n"
     ]
    }
   ],
   "source": [
    "rf.fit(x_train,y_train)\n",
    "populate_matrix(rf)\n",
    "print(my_dict)"
   ]
  },
  {
   "cell_type": "markdown",
   "id": "50429354",
   "metadata": {},
   "source": [
    "## Gradient Boosting"
   ]
  },
  {
   "cell_type": "code",
   "execution_count": 16,
   "id": "5780c92e",
   "metadata": {},
   "outputs": [
    {
     "name": "stdout",
     "output_type": "stream",
     "text": [
      "Accuracy: 0.979 (0.007)\n"
     ]
    }
   ],
   "source": [
    "gboost = GradientBoostingClassifier()\n",
    "# evaluate model\n",
    "cv = RepeatedStratifiedKFold(n_splits=10, n_repeats=3, random_state=1)\n",
    "n_scores = cross_val_score(estimator=gboost,X=X,y=y, scoring='accuracy', cv=cv, n_jobs=-1, error_score='raise')\n",
    "# report performance\n",
    "print('Accuracy: %.3f (%.3f)' % (mean(n_scores), std(n_scores)))"
   ]
  },
  {
   "cell_type": "markdown",
   "id": "862b66e4",
   "metadata": {},
   "source": [
    "### Model Training"
   ]
  },
  {
   "cell_type": "code",
   "execution_count": 17,
   "id": "a90069f0",
   "metadata": {},
   "outputs": [
    {
     "name": "stdout",
     "output_type": "stream",
     "text": [
      "{'model': ['LogisticRegression()', 'DecisionTreeClassifier()', 'RandomForestClassifier()', 'GradientBoostingClassifier()'], 'accuracy': [86.51, 94.0, 97.45, 97.6], 'precision': [56.6, 76.15, 100.0, 97.65], 'recall': [30.93, 85.57, 82.47, 85.57]}\n"
     ]
    }
   ],
   "source": [
    "gboost.fit(x_train,y_train)\n",
    "populate_matrix(gboost)\n",
    "print(my_dict)"
   ]
  },
  {
   "cell_type": "markdown",
   "id": "5d7e94d1",
   "metadata": {},
   "source": [
    "## SVM"
   ]
  },
  {
   "cell_type": "code",
   "execution_count": 18,
   "id": "b5139adb",
   "metadata": {},
   "outputs": [
    {
     "name": "stdout",
     "output_type": "stream",
     "text": [
      "Accuracy: 0.928 (0.011)\n"
     ]
    }
   ],
   "source": [
    "svm = SVC()\n",
    "# evaluate model\n",
    "cv = RepeatedStratifiedKFold(n_splits=10, n_repeats=3, random_state=1)\n",
    "n_scores = cross_val_score(estimator=svm,X=X,y=y, scoring='accuracy', cv=cv, n_jobs=-1, error_score='raise')\n",
    "# report performance\n",
    "print('Accuracy: %.3f (%.3f)' % (mean(n_scores), std(n_scores)))"
   ]
  },
  {
   "cell_type": "markdown",
   "id": "bdea6e98",
   "metadata": {},
   "source": [
    "### Model Training"
   ]
  },
  {
   "cell_type": "code",
   "execution_count": 19,
   "id": "b89d5154",
   "metadata": {},
   "outputs": [
    {
     "name": "stdout",
     "output_type": "stream",
     "text": [
      "{'model': ['LogisticRegression()', 'DecisionTreeClassifier()', 'RandomForestClassifier()', 'GradientBoostingClassifier()', 'SVC()'], 'accuracy': [86.51, 94.0, 97.45, 97.6, 92.8], 'precision': [56.6, 76.15, 100.0, 97.65, 88.89], 'recall': [30.93, 85.57, 82.47, 85.57, 57.73]}\n"
     ]
    }
   ],
   "source": [
    "svm.fit(x_train,y_train)\n",
    "populate_matrix(svm)\n",
    "print(my_dict)"
   ]
  },
  {
   "cell_type": "markdown",
   "id": "304fd6c8",
   "metadata": {},
   "source": [
    "## ANN"
   ]
  },
  {
   "cell_type": "code",
   "execution_count": 20,
   "id": "9b4fd8a4",
   "metadata": {},
   "outputs": [],
   "source": [
    "ann_model = Sequential()\n",
    "ann_model.add(Dropout(0.30))\n",
    "ann_model.add(Dense(20,input_dim=x_train.shape[1],activation='relu'))\n",
    "ann_model.add(Dense(10,activation='relu'))\n",
    "ann_model.add(Dropout(0.30))\n",
    "ann_model.add(Dense(5,activation='relu'))\n",
    "ann_model.add(Dense(1,activation='sigmoid'))\n"
   ]
  },
  {
   "cell_type": "code",
   "execution_count": 21,
   "id": "807f3fda",
   "metadata": {},
   "outputs": [],
   "source": [
    "ann_model.compile(loss='binary_crossentropy',optimizer='adam',metrics=['accuracy'])\n"
   ]
  },
  {
   "cell_type": "markdown",
   "id": "3553b1e1",
   "metadata": {},
   "source": [
    "### Model Training"
   ]
  },
  {
   "cell_type": "code",
   "execution_count": 22,
   "id": "5d0dea2d",
   "metadata": {
    "scrolled": true
   },
   "outputs": [
    {
     "name": "stdout",
     "output_type": "stream",
     "text": [
      "Epoch 1/200\n",
      "27/27 [==============================] - 1s 7ms/step - loss: 0.6049 - accuracy: 0.7644 - val_loss: 0.5534 - val_accuracy: 0.8486\n",
      "Epoch 2/200\n",
      "27/27 [==============================] - 0s 2ms/step - loss: 0.5390 - accuracy: 0.8417 - val_loss: 0.4833 - val_accuracy: 0.8546\n",
      "Epoch 3/200\n",
      "27/27 [==============================] - 0s 2ms/step - loss: 0.4889 - accuracy: 0.8533 - val_loss: 0.4381 - val_accuracy: 0.8546\n",
      "Epoch 4/200\n",
      "27/27 [==============================] - 0s 2ms/step - loss: 0.4562 - accuracy: 0.8560 - val_loss: 0.4092 - val_accuracy: 0.8546\n",
      "Epoch 5/200\n",
      "27/27 [==============================] - 0s 2ms/step - loss: 0.4529 - accuracy: 0.8571 - val_loss: 0.3899 - val_accuracy: 0.8561\n",
      "Epoch 6/200\n",
      "27/27 [==============================] - 0s 2ms/step - loss: 0.4312 - accuracy: 0.8567 - val_loss: 0.3737 - val_accuracy: 0.8561\n",
      "Epoch 7/200\n",
      "27/27 [==============================] - 0s 2ms/step - loss: 0.4128 - accuracy: 0.8601 - val_loss: 0.3622 - val_accuracy: 0.8591\n",
      "Epoch 8/200\n",
      "27/27 [==============================] - 0s 2ms/step - loss: 0.4090 - accuracy: 0.8620 - val_loss: 0.3519 - val_accuracy: 0.8621\n",
      "Epoch 9/200\n",
      "27/27 [==============================] - 0s 2ms/step - loss: 0.4092 - accuracy: 0.8556 - val_loss: 0.3484 - val_accuracy: 0.8591\n",
      "Epoch 10/200\n",
      "27/27 [==============================] - 0s 2ms/step - loss: 0.4016 - accuracy: 0.8601 - val_loss: 0.3426 - val_accuracy: 0.8606\n",
      "Epoch 11/200\n",
      "27/27 [==============================] - 0s 2ms/step - loss: 0.3997 - accuracy: 0.8590 - val_loss: 0.3403 - val_accuracy: 0.8651\n",
      "Epoch 12/200\n",
      "27/27 [==============================] - 0s 2ms/step - loss: 0.3797 - accuracy: 0.8620 - val_loss: 0.3338 - val_accuracy: 0.8636\n",
      "Epoch 13/200\n",
      "27/27 [==============================] - 0s 2ms/step - loss: 0.3956 - accuracy: 0.8590 - val_loss: 0.3306 - val_accuracy: 0.8636\n",
      "Epoch 14/200\n",
      "27/27 [==============================] - 0s 2ms/step - loss: 0.3930 - accuracy: 0.8567 - val_loss: 0.3313 - val_accuracy: 0.8651\n",
      "Epoch 15/200\n",
      "27/27 [==============================] - 0s 2ms/step - loss: 0.3739 - accuracy: 0.8638 - val_loss: 0.3282 - val_accuracy: 0.8666\n",
      "Epoch 16/200\n",
      "27/27 [==============================] - 0s 2ms/step - loss: 0.3701 - accuracy: 0.8612 - val_loss: 0.3243 - val_accuracy: 0.8666\n",
      "Epoch 17/200\n",
      "27/27 [==============================] - 0s 2ms/step - loss: 0.3678 - accuracy: 0.8635 - val_loss: 0.3224 - val_accuracy: 0.8696\n",
      "Epoch 18/200\n",
      "27/27 [==============================] - 0s 2ms/step - loss: 0.3786 - accuracy: 0.8612 - val_loss: 0.3246 - val_accuracy: 0.8696\n",
      "Epoch 19/200\n",
      "27/27 [==============================] - 0s 2ms/step - loss: 0.3862 - accuracy: 0.8605 - val_loss: 0.3229 - val_accuracy: 0.8696\n",
      "Epoch 20/200\n",
      "27/27 [==============================] - 0s 2ms/step - loss: 0.3682 - accuracy: 0.8650 - val_loss: 0.3234 - val_accuracy: 0.8681\n",
      "Epoch 21/200\n",
      "27/27 [==============================] - 0s 2ms/step - loss: 0.3640 - accuracy: 0.8612 - val_loss: 0.3218 - val_accuracy: 0.8711\n",
      "Epoch 22/200\n",
      "27/27 [==============================] - 0s 2ms/step - loss: 0.3722 - accuracy: 0.8627 - val_loss: 0.3201 - val_accuracy: 0.8726\n",
      "Epoch 23/200\n",
      "27/27 [==============================] - 0s 2ms/step - loss: 0.3539 - accuracy: 0.8665 - val_loss: 0.3151 - val_accuracy: 0.8711\n",
      "Epoch 24/200\n",
      "27/27 [==============================] - 0s 2ms/step - loss: 0.3621 - accuracy: 0.8672 - val_loss: 0.3122 - val_accuracy: 0.8726\n",
      "Epoch 25/200\n",
      "27/27 [==============================] - 0s 2ms/step - loss: 0.3660 - accuracy: 0.8665 - val_loss: 0.3097 - val_accuracy: 0.8801\n",
      "Epoch 26/200\n",
      "27/27 [==============================] - 0s 2ms/step - loss: 0.3503 - accuracy: 0.8668 - val_loss: 0.3085 - val_accuracy: 0.8816\n",
      "Epoch 27/200\n",
      "27/27 [==============================] - 0s 2ms/step - loss: 0.3508 - accuracy: 0.8635 - val_loss: 0.3068 - val_accuracy: 0.8831\n",
      "Epoch 28/200\n",
      "27/27 [==============================] - 0s 2ms/step - loss: 0.3722 - accuracy: 0.8661 - val_loss: 0.3088 - val_accuracy: 0.8831\n",
      "Epoch 29/200\n",
      "27/27 [==============================] - 0s 2ms/step - loss: 0.3490 - accuracy: 0.8717 - val_loss: 0.3056 - val_accuracy: 0.8861\n",
      "Epoch 30/200\n",
      "27/27 [==============================] - 0s 2ms/step - loss: 0.3454 - accuracy: 0.8732 - val_loss: 0.3004 - val_accuracy: 0.8876\n",
      "Epoch 31/200\n",
      "27/27 [==============================] - 0s 2ms/step - loss: 0.3480 - accuracy: 0.8725 - val_loss: 0.2979 - val_accuracy: 0.8876\n",
      "Epoch 32/200\n",
      "27/27 [==============================] - 0s 2ms/step - loss: 0.3487 - accuracy: 0.8710 - val_loss: 0.2970 - val_accuracy: 0.8921\n",
      "Epoch 33/200\n",
      "27/27 [==============================] - 0s 2ms/step - loss: 0.3502 - accuracy: 0.8661 - val_loss: 0.2957 - val_accuracy: 0.8906\n",
      "Epoch 34/200\n",
      "27/27 [==============================] - 0s 2ms/step - loss: 0.3407 - accuracy: 0.8732 - val_loss: 0.2930 - val_accuracy: 0.8876\n",
      "Epoch 35/200\n",
      "27/27 [==============================] - 0s 2ms/step - loss: 0.3507 - accuracy: 0.8732 - val_loss: 0.2915 - val_accuracy: 0.8921\n",
      "Epoch 36/200\n",
      "27/27 [==============================] - 0s 2ms/step - loss: 0.3435 - accuracy: 0.8766 - val_loss: 0.2901 - val_accuracy: 0.8936\n",
      "Epoch 37/200\n",
      "27/27 [==============================] - 0s 2ms/step - loss: 0.3405 - accuracy: 0.8717 - val_loss: 0.2877 - val_accuracy: 0.8921\n",
      "Epoch 38/200\n",
      "27/27 [==============================] - 0s 2ms/step - loss: 0.3414 - accuracy: 0.8710 - val_loss: 0.2880 - val_accuracy: 0.8921\n",
      "Epoch 39/200\n",
      "27/27 [==============================] - 0s 2ms/step - loss: 0.3403 - accuracy: 0.8691 - val_loss: 0.2851 - val_accuracy: 0.8936\n",
      "Epoch 40/200\n",
      "27/27 [==============================] - 0s 2ms/step - loss: 0.3323 - accuracy: 0.8721 - val_loss: 0.2820 - val_accuracy: 0.8951\n",
      "Epoch 41/200\n",
      "27/27 [==============================] - 0s 2ms/step - loss: 0.3318 - accuracy: 0.8717 - val_loss: 0.2812 - val_accuracy: 0.8936\n",
      "Epoch 42/200\n",
      "27/27 [==============================] - 0s 2ms/step - loss: 0.3299 - accuracy: 0.8747 - val_loss: 0.2797 - val_accuracy: 0.8966\n",
      "Epoch 43/200\n",
      "27/27 [==============================] - 0s 2ms/step - loss: 0.3225 - accuracy: 0.8811 - val_loss: 0.2752 - val_accuracy: 0.8966\n",
      "Epoch 44/200\n",
      "27/27 [==============================] - 0s 2ms/step - loss: 0.3256 - accuracy: 0.8785 - val_loss: 0.2731 - val_accuracy: 0.8981\n",
      "Epoch 45/200\n",
      "27/27 [==============================] - 0s 2ms/step - loss: 0.3260 - accuracy: 0.8758 - val_loss: 0.2724 - val_accuracy: 0.8996\n",
      "Epoch 46/200\n",
      "27/27 [==============================] - 0s 2ms/step - loss: 0.3261 - accuracy: 0.8777 - val_loss: 0.2722 - val_accuracy: 0.8996\n",
      "Epoch 47/200\n",
      "27/27 [==============================] - 0s 2ms/step - loss: 0.3253 - accuracy: 0.8743 - val_loss: 0.2716 - val_accuracy: 0.9040\n",
      "Epoch 48/200\n",
      "27/27 [==============================] - 0s 2ms/step - loss: 0.3364 - accuracy: 0.8728 - val_loss: 0.2718 - val_accuracy: 0.9025\n",
      "Epoch 49/200\n",
      "27/27 [==============================] - 0s 2ms/step - loss: 0.3120 - accuracy: 0.8833 - val_loss: 0.2668 - val_accuracy: 0.9010\n",
      "Epoch 50/200\n",
      "27/27 [==============================] - 0s 2ms/step - loss: 0.3274 - accuracy: 0.8758 - val_loss: 0.2683 - val_accuracy: 0.9010\n",
      "Epoch 51/200\n",
      "27/27 [==============================] - 0s 2ms/step - loss: 0.3181 - accuracy: 0.8758 - val_loss: 0.2676 - val_accuracy: 0.9010\n",
      "Epoch 52/200\n",
      "27/27 [==============================] - 0s 2ms/step - loss: 0.3259 - accuracy: 0.8762 - val_loss: 0.2683 - val_accuracy: 0.8981\n",
      "Epoch 53/200\n",
      "27/27 [==============================] - 0s 2ms/step - loss: 0.3173 - accuracy: 0.8803 - val_loss: 0.2684 - val_accuracy: 0.9025\n",
      "Epoch 54/200\n",
      "27/27 [==============================] - 0s 2ms/step - loss: 0.3185 - accuracy: 0.8811 - val_loss: 0.2680 - val_accuracy: 0.8996\n",
      "Epoch 55/200\n",
      "27/27 [==============================] - 0s 2ms/step - loss: 0.3096 - accuracy: 0.8826 - val_loss: 0.2657 - val_accuracy: 0.9055\n",
      "Epoch 56/200\n",
      "27/27 [==============================] - 0s 2ms/step - loss: 0.3279 - accuracy: 0.8781 - val_loss: 0.2645 - val_accuracy: 0.9025\n",
      "Epoch 57/200\n",
      "27/27 [==============================] - 0s 2ms/step - loss: 0.3022 - accuracy: 0.8878 - val_loss: 0.2598 - val_accuracy: 0.9055\n",
      "Epoch 58/200\n",
      "27/27 [==============================] - 0s 2ms/step - loss: 0.3027 - accuracy: 0.8856 - val_loss: 0.2611 - val_accuracy: 0.9025\n"
     ]
    },
    {
     "name": "stdout",
     "output_type": "stream",
     "text": [
      "Epoch 59/200\n",
      "27/27 [==============================] - 0s 2ms/step - loss: 0.3096 - accuracy: 0.8852 - val_loss: 0.2620 - val_accuracy: 0.8996\n",
      "Epoch 60/200\n",
      "27/27 [==============================] - 0s 2ms/step - loss: 0.3069 - accuracy: 0.8867 - val_loss: 0.2647 - val_accuracy: 0.8981\n",
      "Epoch 61/200\n",
      "27/27 [==============================] - 0s 2ms/step - loss: 0.3101 - accuracy: 0.8852 - val_loss: 0.2647 - val_accuracy: 0.8966\n",
      "Epoch 62/200\n",
      "27/27 [==============================] - 0s 2ms/step - loss: 0.3052 - accuracy: 0.8927 - val_loss: 0.2631 - val_accuracy: 0.8981\n",
      "Epoch 63/200\n",
      "27/27 [==============================] - 0s 1ms/step - loss: 0.3001 - accuracy: 0.8927 - val_loss: 0.2599 - val_accuracy: 0.9010\n",
      "Epoch 64/200\n",
      "27/27 [==============================] - 0s 2ms/step - loss: 0.2916 - accuracy: 0.8912 - val_loss: 0.2563 - val_accuracy: 0.8996\n",
      "Epoch 65/200\n",
      "27/27 [==============================] - 0s 2ms/step - loss: 0.3060 - accuracy: 0.8942 - val_loss: 0.2586 - val_accuracy: 0.8996\n",
      "Epoch 66/200\n",
      "27/27 [==============================] - 0s 1ms/step - loss: 0.3027 - accuracy: 0.8931 - val_loss: 0.2609 - val_accuracy: 0.9010\n",
      "Epoch 67/200\n",
      "27/27 [==============================] - 0s 2ms/step - loss: 0.3098 - accuracy: 0.8878 - val_loss: 0.2634 - val_accuracy: 0.8981\n",
      "Epoch 68/200\n",
      "27/27 [==============================] - 0s 2ms/step - loss: 0.2922 - accuracy: 0.8953 - val_loss: 0.2622 - val_accuracy: 0.8981\n",
      "Epoch 69/200\n",
      "27/27 [==============================] - 0s 2ms/step - loss: 0.3009 - accuracy: 0.8935 - val_loss: 0.2534 - val_accuracy: 0.9055\n",
      "Epoch 70/200\n",
      "27/27 [==============================] - 0s 2ms/step - loss: 0.2909 - accuracy: 0.8987 - val_loss: 0.2549 - val_accuracy: 0.9055\n",
      "Epoch 71/200\n",
      "27/27 [==============================] - 0s 1ms/step - loss: 0.3003 - accuracy: 0.8912 - val_loss: 0.2585 - val_accuracy: 0.9070\n",
      "Epoch 72/200\n",
      "27/27 [==============================] - 0s 2ms/step - loss: 0.2840 - accuracy: 0.9017 - val_loss: 0.2568 - val_accuracy: 0.9100\n",
      "Epoch 73/200\n",
      "27/27 [==============================] - 0s 2ms/step - loss: 0.2910 - accuracy: 0.8950 - val_loss: 0.2557 - val_accuracy: 0.9085\n",
      "Epoch 74/200\n",
      "27/27 [==============================] - 0s 2ms/step - loss: 0.3017 - accuracy: 0.8893 - val_loss: 0.2539 - val_accuracy: 0.9085\n",
      "Epoch 75/200\n",
      "27/27 [==============================] - 0s 2ms/step - loss: 0.2997 - accuracy: 0.8908 - val_loss: 0.2550 - val_accuracy: 0.9085\n",
      "Epoch 76/200\n",
      "27/27 [==============================] - 0s 2ms/step - loss: 0.2839 - accuracy: 0.9006 - val_loss: 0.2554 - val_accuracy: 0.9085\n",
      "Epoch 77/200\n",
      "27/27 [==============================] - 0s 1ms/step - loss: 0.2872 - accuracy: 0.8983 - val_loss: 0.2547 - val_accuracy: 0.9070\n",
      "Epoch 78/200\n",
      "27/27 [==============================] - 0s 2ms/step - loss: 0.2848 - accuracy: 0.8953 - val_loss: 0.2469 - val_accuracy: 0.9100\n",
      "Epoch 79/200\n",
      "27/27 [==============================] - 0s 2ms/step - loss: 0.2913 - accuracy: 0.8991 - val_loss: 0.2513 - val_accuracy: 0.9130\n",
      "Epoch 80/200\n",
      "27/27 [==============================] - 0s 2ms/step - loss: 0.2938 - accuracy: 0.8950 - val_loss: 0.2554 - val_accuracy: 0.9085\n",
      "Epoch 81/200\n",
      "27/27 [==============================] - 0s 2ms/step - loss: 0.2881 - accuracy: 0.8961 - val_loss: 0.2549 - val_accuracy: 0.9025\n",
      "Epoch 82/200\n",
      "27/27 [==============================] - 0s 1ms/step - loss: 0.2830 - accuracy: 0.9036 - val_loss: 0.2511 - val_accuracy: 0.9070\n",
      "Epoch 83/200\n",
      "27/27 [==============================] - 0s 2ms/step - loss: 0.2802 - accuracy: 0.8987 - val_loss: 0.2471 - val_accuracy: 0.9100\n",
      "Epoch 84/200\n",
      "27/27 [==============================] - 0s 2ms/step - loss: 0.2829 - accuracy: 0.9021 - val_loss: 0.2491 - val_accuracy: 0.9100\n",
      "Epoch 85/200\n",
      "27/27 [==============================] - 0s 2ms/step - loss: 0.2883 - accuracy: 0.9006 - val_loss: 0.2537 - val_accuracy: 0.9070\n",
      "Epoch 86/200\n",
      "27/27 [==============================] - 0s 2ms/step - loss: 0.2752 - accuracy: 0.9044 - val_loss: 0.2540 - val_accuracy: 0.9070\n",
      "Epoch 87/200\n",
      "27/27 [==============================] - 0s 1ms/step - loss: 0.2916 - accuracy: 0.8987 - val_loss: 0.2520 - val_accuracy: 0.9085\n",
      "Epoch 88/200\n",
      "27/27 [==============================] - 0s 2ms/step - loss: 0.2858 - accuracy: 0.8961 - val_loss: 0.2505 - val_accuracy: 0.9085\n",
      "Epoch 89/200\n",
      "27/27 [==============================] - 0s 1ms/step - loss: 0.2891 - accuracy: 0.8995 - val_loss: 0.2508 - val_accuracy: 0.9070\n",
      "Epoch 90/200\n",
      "27/27 [==============================] - 0s 2ms/step - loss: 0.2881 - accuracy: 0.8976 - val_loss: 0.2473 - val_accuracy: 0.9145\n",
      "Epoch 91/200\n",
      "27/27 [==============================] - 0s 1ms/step - loss: 0.2729 - accuracy: 0.9051 - val_loss: 0.2524 - val_accuracy: 0.9085\n",
      "Epoch 92/200\n",
      "27/27 [==============================] - 0s 2ms/step - loss: 0.2804 - accuracy: 0.9036 - val_loss: 0.2501 - val_accuracy: 0.9070\n",
      "Epoch 93/200\n",
      "27/27 [==============================] - 0s 1ms/step - loss: 0.2811 - accuracy: 0.9036 - val_loss: 0.2499 - val_accuracy: 0.9100\n",
      "Epoch 94/200\n",
      "27/27 [==============================] - 0s 2ms/step - loss: 0.2823 - accuracy: 0.9036 - val_loss: 0.2524 - val_accuracy: 0.9070\n",
      "Epoch 95/200\n",
      "27/27 [==============================] - 0s 2ms/step - loss: 0.2807 - accuracy: 0.9025 - val_loss: 0.2555 - val_accuracy: 0.9055\n",
      "Epoch 96/200\n",
      "27/27 [==============================] - 0s 2ms/step - loss: 0.2668 - accuracy: 0.9070 - val_loss: 0.2541 - val_accuracy: 0.9085\n",
      "Epoch 97/200\n",
      "27/27 [==============================] - 0s 2ms/step - loss: 0.2776 - accuracy: 0.9062 - val_loss: 0.2537 - val_accuracy: 0.9055\n",
      "Epoch 98/200\n",
      "27/27 [==============================] - 0s 1ms/step - loss: 0.2852 - accuracy: 0.9085 - val_loss: 0.2530 - val_accuracy: 0.9100\n",
      "Epoch 99/200\n",
      "27/27 [==============================] - 0s 2ms/step - loss: 0.2832 - accuracy: 0.9014 - val_loss: 0.2544 - val_accuracy: 0.9070\n",
      "Epoch 100/200\n",
      "27/27 [==============================] - 0s 2ms/step - loss: 0.2853 - accuracy: 0.9066 - val_loss: 0.2497 - val_accuracy: 0.9070\n",
      "Epoch 101/200\n",
      "27/27 [==============================] - 0s 2ms/step - loss: 0.2740 - accuracy: 0.9107 - val_loss: 0.2521 - val_accuracy: 0.9070\n",
      "Epoch 102/200\n",
      "27/27 [==============================] - 0s 1ms/step - loss: 0.2773 - accuracy: 0.9025 - val_loss: 0.2531 - val_accuracy: 0.9040\n",
      "Epoch 103/200\n",
      "27/27 [==============================] - 0s 2ms/step - loss: 0.2688 - accuracy: 0.9092 - val_loss: 0.2514 - val_accuracy: 0.9040\n",
      "Epoch 104/200\n",
      "27/27 [==============================] - 0s 1ms/step - loss: 0.2954 - accuracy: 0.8942 - val_loss: 0.2557 - val_accuracy: 0.9025\n",
      "Epoch 105/200\n",
      "27/27 [==============================] - 0s 2ms/step - loss: 0.2707 - accuracy: 0.9111 - val_loss: 0.2598 - val_accuracy: 0.9055\n",
      "Epoch 106/200\n",
      "27/27 [==============================] - 0s 2ms/step - loss: 0.2694 - accuracy: 0.9089 - val_loss: 0.2503 - val_accuracy: 0.9070\n",
      "Epoch 107/200\n",
      "27/27 [==============================] - 0s 2ms/step - loss: 0.2732 - accuracy: 0.9014 - val_loss: 0.2514 - val_accuracy: 0.9040\n",
      "Epoch 108/200\n",
      "27/27 [==============================] - 0s 1ms/step - loss: 0.2706 - accuracy: 0.9149 - val_loss: 0.2508 - val_accuracy: 0.9055\n",
      "Epoch 109/200\n",
      "27/27 [==============================] - 0s 2ms/step - loss: 0.2804 - accuracy: 0.9040 - val_loss: 0.2592 - val_accuracy: 0.9025\n",
      "Epoch 110/200\n",
      "27/27 [==============================] - 0s 2ms/step - loss: 0.2758 - accuracy: 0.9021 - val_loss: 0.2565 - val_accuracy: 0.9025\n",
      "Epoch 111/200\n",
      "27/27 [==============================] - 0s 2ms/step - loss: 0.2596 - accuracy: 0.9096 - val_loss: 0.2481 - val_accuracy: 0.9100\n",
      "Epoch 112/200\n",
      "27/27 [==============================] - 0s 2ms/step - loss: 0.2794 - accuracy: 0.8983 - val_loss: 0.2519 - val_accuracy: 0.9085\n",
      "Epoch 113/200\n",
      "27/27 [==============================] - 0s 2ms/step - loss: 0.2710 - accuracy: 0.9055 - val_loss: 0.2604 - val_accuracy: 0.9010\n",
      "Epoch 114/200\n",
      "27/27 [==============================] - 0s 2ms/step - loss: 0.2783 - accuracy: 0.9036 - val_loss: 0.2492 - val_accuracy: 0.9070\n",
      "Epoch 115/200\n",
      "27/27 [==============================] - 0s 2ms/step - loss: 0.2738 - accuracy: 0.9074 - val_loss: 0.2566 - val_accuracy: 0.9055\n",
      "Epoch 116/200\n",
      "27/27 [==============================] - 0s 2ms/step - loss: 0.2772 - accuracy: 0.9077 - val_loss: 0.2559 - val_accuracy: 0.9085\n",
      "Epoch 117/200\n",
      "27/27 [==============================] - 0s 2ms/step - loss: 0.2700 - accuracy: 0.9074 - val_loss: 0.2527 - val_accuracy: 0.9070\n",
      "Epoch 118/200\n",
      "27/27 [==============================] - 0s 2ms/step - loss: 0.2596 - accuracy: 0.9066 - val_loss: 0.2475 - val_accuracy: 0.9085\n",
      "Epoch 119/200\n",
      "27/27 [==============================] - 0s 2ms/step - loss: 0.2835 - accuracy: 0.9029 - val_loss: 0.2536 - val_accuracy: 0.9040\n",
      "Epoch 120/200\n",
      "27/27 [==============================] - 0s 1ms/step - loss: 0.2710 - accuracy: 0.9051 - val_loss: 0.2576 - val_accuracy: 0.9040\n",
      "Epoch 121/200\n",
      "27/27 [==============================] - 0s 2ms/step - loss: 0.2722 - accuracy: 0.9089 - val_loss: 0.2628 - val_accuracy: 0.9010\n",
      "Epoch 122/200\n",
      "27/27 [==============================] - 0s 2ms/step - loss: 0.2670 - accuracy: 0.9074 - val_loss: 0.2546 - val_accuracy: 0.9055\n",
      "Epoch 123/200\n",
      "27/27 [==============================] - 0s 2ms/step - loss: 0.2629 - accuracy: 0.9062 - val_loss: 0.2520 - val_accuracy: 0.9055\n",
      "Epoch 124/200\n",
      "27/27 [==============================] - 0s 2ms/step - loss: 0.2534 - accuracy: 0.9156 - val_loss: 0.2564 - val_accuracy: 0.9085\n",
      "Epoch 125/200\n",
      "27/27 [==============================] - 0s 2ms/step - loss: 0.2665 - accuracy: 0.9089 - val_loss: 0.2567 - val_accuracy: 0.9070\n",
      "Epoch 126/200\n",
      "27/27 [==============================] - 0s 2ms/step - loss: 0.2656 - accuracy: 0.9092 - val_loss: 0.2592 - val_accuracy: 0.9010\n",
      "Epoch 127/200\n",
      "27/27 [==============================] - 0s 2ms/step - loss: 0.2630 - accuracy: 0.9089 - val_loss: 0.2569 - val_accuracy: 0.9040\n",
      "Epoch 128/200\n",
      "27/27 [==============================] - 0s 1ms/step - loss: 0.2687 - accuracy: 0.9107 - val_loss: 0.2541 - val_accuracy: 0.9070\n",
      "Epoch 129/200\n",
      "27/27 [==============================] - 0s 2ms/step - loss: 0.2687 - accuracy: 0.9070 - val_loss: 0.2553 - val_accuracy: 0.9070\n",
      "Epoch 130/200\n",
      "27/27 [==============================] - 0s 1ms/step - loss: 0.2728 - accuracy: 0.9081 - val_loss: 0.2627 - val_accuracy: 0.9010\n",
      "Epoch 131/200\n",
      "27/27 [==============================] - 0s 2ms/step - loss: 0.2755 - accuracy: 0.9051 - val_loss: 0.2579 - val_accuracy: 0.9040\n",
      "Epoch 132/200\n",
      "27/27 [==============================] - 0s 1ms/step - loss: 0.2707 - accuracy: 0.9062 - val_loss: 0.2609 - val_accuracy: 0.9025\n",
      "Epoch 133/200\n",
      "27/27 [==============================] - 0s 2ms/step - loss: 0.2569 - accuracy: 0.9122 - val_loss: 0.2558 - val_accuracy: 0.9010\n",
      "Epoch 134/200\n",
      "27/27 [==============================] - 0s 1ms/step - loss: 0.2732 - accuracy: 0.9130 - val_loss: 0.2623 - val_accuracy: 0.9055\n",
      "Epoch 135/200\n",
      "27/27 [==============================] - 0s 2ms/step - loss: 0.2692 - accuracy: 0.9107 - val_loss: 0.2606 - val_accuracy: 0.9025\n",
      "Epoch 136/200\n",
      "27/27 [==============================] - 0s 2ms/step - loss: 0.2703 - accuracy: 0.9092 - val_loss: 0.2567 - val_accuracy: 0.9040\n",
      "Epoch 137/200\n",
      "27/27 [==============================] - 0s 2ms/step - loss: 0.2626 - accuracy: 0.9081 - val_loss: 0.2625 - val_accuracy: 0.9025\n",
      "Epoch 138/200\n",
      "27/27 [==============================] - 0s 2ms/step - loss: 0.2568 - accuracy: 0.9077 - val_loss: 0.2637 - val_accuracy: 0.8996\n",
      "Epoch 139/200\n",
      "27/27 [==============================] - 0s 1ms/step - loss: 0.2640 - accuracy: 0.9107 - val_loss: 0.2651 - val_accuracy: 0.9040\n",
      "Epoch 140/200\n",
      "27/27 [==============================] - 0s 2ms/step - loss: 0.2541 - accuracy: 0.9171 - val_loss: 0.2542 - val_accuracy: 0.9040\n",
      "Epoch 141/200\n",
      "27/27 [==============================] - 0s 2ms/step - loss: 0.2601 - accuracy: 0.9152 - val_loss: 0.2551 - val_accuracy: 0.9040\n",
      "Epoch 142/200\n",
      "27/27 [==============================] - 0s 1ms/step - loss: 0.2698 - accuracy: 0.9107 - val_loss: 0.2631 - val_accuracy: 0.9040\n",
      "Epoch 143/200\n",
      "27/27 [==============================] - 0s 2ms/step - loss: 0.2613 - accuracy: 0.9115 - val_loss: 0.2606 - val_accuracy: 0.9055\n",
      "Epoch 144/200\n",
      "27/27 [==============================] - 0s 2ms/step - loss: 0.2593 - accuracy: 0.9119 - val_loss: 0.2598 - val_accuracy: 0.9025\n",
      "Epoch 145/200\n",
      "27/27 [==============================] - 0s 2ms/step - loss: 0.2688 - accuracy: 0.9104 - val_loss: 0.2590 - val_accuracy: 0.9055\n",
      "Epoch 146/200\n",
      "27/27 [==============================] - 0s 1ms/step - loss: 0.2624 - accuracy: 0.9107 - val_loss: 0.2588 - val_accuracy: 0.9040\n",
      "Epoch 147/200\n",
      "27/27 [==============================] - 0s 2ms/step - loss: 0.2569 - accuracy: 0.9160 - val_loss: 0.2598 - val_accuracy: 0.9040\n",
      "Epoch 148/200\n",
      "27/27 [==============================] - 0s 2ms/step - loss: 0.2606 - accuracy: 0.9156 - val_loss: 0.2609 - val_accuracy: 0.9025\n",
      "Epoch 149/200\n",
      "27/27 [==============================] - 0s 1ms/step - loss: 0.2672 - accuracy: 0.9070 - val_loss: 0.2617 - val_accuracy: 0.9025\n",
      "Epoch 150/200\n",
      "27/27 [==============================] - 0s 2ms/step - loss: 0.2574 - accuracy: 0.9126 - val_loss: 0.2613 - val_accuracy: 0.9040\n",
      "Epoch 151/200\n",
      "27/27 [==============================] - 0s 1ms/step - loss: 0.2534 - accuracy: 0.9167 - val_loss: 0.2592 - val_accuracy: 0.9055\n",
      "Epoch 152/200\n",
      "27/27 [==============================] - 0s 2ms/step - loss: 0.2730 - accuracy: 0.9066 - val_loss: 0.2553 - val_accuracy: 0.9025\n",
      "Epoch 153/200\n",
      "27/27 [==============================] - 0s 2ms/step - loss: 0.2644 - accuracy: 0.9134 - val_loss: 0.2607 - val_accuracy: 0.9010\n",
      "Epoch 154/200\n",
      "27/27 [==============================] - 0s 1ms/step - loss: 0.2557 - accuracy: 0.9190 - val_loss: 0.2601 - val_accuracy: 0.9010\n",
      "Epoch 155/200\n",
      "27/27 [==============================] - 0s 2ms/step - loss: 0.2624 - accuracy: 0.9092 - val_loss: 0.2619 - val_accuracy: 0.9010\n",
      "Epoch 156/200\n",
      "27/27 [==============================] - 0s 1ms/step - loss: 0.2551 - accuracy: 0.9209 - val_loss: 0.2656 - val_accuracy: 0.8981\n",
      "Epoch 157/200\n",
      "27/27 [==============================] - 0s 2ms/step - loss: 0.2512 - accuracy: 0.9167 - val_loss: 0.2564 - val_accuracy: 0.9010\n",
      "Epoch 158/200\n",
      "27/27 [==============================] - 0s 2ms/step - loss: 0.2638 - accuracy: 0.9089 - val_loss: 0.2604 - val_accuracy: 0.8996\n",
      "Epoch 159/200\n",
      "27/27 [==============================] - 0s 2ms/step - loss: 0.2529 - accuracy: 0.9137 - val_loss: 0.2538 - val_accuracy: 0.9055\n",
      "Epoch 160/200\n",
      "27/27 [==============================] - 0s 2ms/step - loss: 0.2592 - accuracy: 0.9152 - val_loss: 0.2645 - val_accuracy: 0.8981\n",
      "Epoch 161/200\n",
      "27/27 [==============================] - 0s 1ms/step - loss: 0.2521 - accuracy: 0.9156 - val_loss: 0.2601 - val_accuracy: 0.8996\n",
      "Epoch 162/200\n",
      "27/27 [==============================] - 0s 2ms/step - loss: 0.2444 - accuracy: 0.9201 - val_loss: 0.2613 - val_accuracy: 0.9010\n",
      "Epoch 163/200\n",
      "27/27 [==============================] - 0s 2ms/step - loss: 0.2540 - accuracy: 0.9137 - val_loss: 0.2609 - val_accuracy: 0.9040\n",
      "Epoch 164/200\n",
      "27/27 [==============================] - 0s 2ms/step - loss: 0.2680 - accuracy: 0.9100 - val_loss: 0.2546 - val_accuracy: 0.9010\n",
      "Epoch 165/200\n",
      "27/27 [==============================] - 0s 2ms/step - loss: 0.2507 - accuracy: 0.9182 - val_loss: 0.2610 - val_accuracy: 0.9025\n",
      "Epoch 166/200\n",
      "27/27 [==============================] - 0s 1ms/step - loss: 0.2626 - accuracy: 0.9122 - val_loss: 0.2629 - val_accuracy: 0.9025\n",
      "Epoch 167/200\n",
      "27/27 [==============================] - 0s 2ms/step - loss: 0.2463 - accuracy: 0.9145 - val_loss: 0.2579 - val_accuracy: 0.9025\n",
      "Epoch 168/200\n",
      "27/27 [==============================] - 0s 1ms/step - loss: 0.2569 - accuracy: 0.9130 - val_loss: 0.2620 - val_accuracy: 0.8996\n",
      "Epoch 169/200\n",
      "27/27 [==============================] - 0s 2ms/step - loss: 0.2636 - accuracy: 0.9137 - val_loss: 0.2563 - val_accuracy: 0.8996\n",
      "Epoch 170/200\n",
      "27/27 [==============================] - 0s 2ms/step - loss: 0.2513 - accuracy: 0.9179 - val_loss: 0.2622 - val_accuracy: 0.9010\n",
      "Epoch 171/200\n",
      "27/27 [==============================] - 0s 2ms/step - loss: 0.2634 - accuracy: 0.9152 - val_loss: 0.2511 - val_accuracy: 0.9055\n",
      "Epoch 172/200\n",
      "27/27 [==============================] - 0s 2ms/step - loss: 0.2531 - accuracy: 0.9190 - val_loss: 0.2712 - val_accuracy: 0.9010\n",
      "Epoch 173/200\n"
     ]
    },
    {
     "name": "stdout",
     "output_type": "stream",
     "text": [
      "27/27 [==============================] - 0s 2ms/step - loss: 0.2618 - accuracy: 0.9141 - val_loss: 0.2650 - val_accuracy: 0.9025\n",
      "Epoch 174/200\n",
      "27/27 [==============================] - 0s 2ms/step - loss: 0.2531 - accuracy: 0.9152 - val_loss: 0.2634 - val_accuracy: 0.9040\n",
      "Epoch 175/200\n",
      "27/27 [==============================] - 0s 2ms/step - loss: 0.2476 - accuracy: 0.9167 - val_loss: 0.2551 - val_accuracy: 0.9055\n",
      "Epoch 176/200\n",
      "27/27 [==============================] - 0s 2ms/step - loss: 0.2368 - accuracy: 0.9224 - val_loss: 0.2598 - val_accuracy: 0.9055\n",
      "Epoch 177/200\n",
      "27/27 [==============================] - 0s 2ms/step - loss: 0.2541 - accuracy: 0.9160 - val_loss: 0.2637 - val_accuracy: 0.9040\n",
      "Epoch 178/200\n",
      "27/27 [==============================] - 0s 2ms/step - loss: 0.2480 - accuracy: 0.9149 - val_loss: 0.2637 - val_accuracy: 0.9040\n",
      "Epoch 179/200\n",
      "27/27 [==============================] - 0s 2ms/step - loss: 0.2630 - accuracy: 0.9122 - val_loss: 0.2645 - val_accuracy: 0.9010\n",
      "Epoch 180/200\n",
      "27/27 [==============================] - 0s 2ms/step - loss: 0.2538 - accuracy: 0.9160 - val_loss: 0.2607 - val_accuracy: 0.9070\n",
      "Epoch 181/200\n",
      "27/27 [==============================] - 0s 2ms/step - loss: 0.2538 - accuracy: 0.9145 - val_loss: 0.2583 - val_accuracy: 0.9085\n",
      "Epoch 182/200\n",
      "27/27 [==============================] - 0s 1ms/step - loss: 0.2521 - accuracy: 0.9149 - val_loss: 0.2716 - val_accuracy: 0.8966\n",
      "Epoch 183/200\n",
      "27/27 [==============================] - 0s 2ms/step - loss: 0.2590 - accuracy: 0.9089 - val_loss: 0.2590 - val_accuracy: 0.9055\n",
      "Epoch 184/200\n",
      "27/27 [==============================] - 0s 1ms/step - loss: 0.2586 - accuracy: 0.9149 - val_loss: 0.2557 - val_accuracy: 0.9100\n",
      "Epoch 185/200\n",
      "27/27 [==============================] - 0s 2ms/step - loss: 0.2446 - accuracy: 0.9164 - val_loss: 0.2555 - val_accuracy: 0.9085\n",
      "Epoch 186/200\n",
      "27/27 [==============================] - 0s 2ms/step - loss: 0.2675 - accuracy: 0.9149 - val_loss: 0.2622 - val_accuracy: 0.9055\n",
      "Epoch 187/200\n",
      "27/27 [==============================] - 0s 2ms/step - loss: 0.2487 - accuracy: 0.9160 - val_loss: 0.2638 - val_accuracy: 0.9040\n",
      "Epoch 188/200\n",
      "27/27 [==============================] - 0s 2ms/step - loss: 0.2470 - accuracy: 0.9179 - val_loss: 0.2571 - val_accuracy: 0.9055\n",
      "Epoch 189/200\n",
      "27/27 [==============================] - 0s 2ms/step - loss: 0.2584 - accuracy: 0.9115 - val_loss: 0.2633 - val_accuracy: 0.9040\n",
      "Epoch 190/200\n",
      "27/27 [==============================] - 0s 2ms/step - loss: 0.2382 - accuracy: 0.9197 - val_loss: 0.2549 - val_accuracy: 0.9055\n",
      "Epoch 191/200\n",
      "27/27 [==============================] - 0s 2ms/step - loss: 0.2598 - accuracy: 0.9137 - val_loss: 0.2620 - val_accuracy: 0.9055\n",
      "Epoch 192/200\n",
      "27/27 [==============================] - 0s 2ms/step - loss: 0.2468 - accuracy: 0.9164 - val_loss: 0.2614 - val_accuracy: 0.9055\n",
      "Epoch 193/200\n",
      "27/27 [==============================] - 0s 2ms/step - loss: 0.2747 - accuracy: 0.9077 - val_loss: 0.2586 - val_accuracy: 0.9055\n",
      "Epoch 194/200\n",
      "27/27 [==============================] - 0s 1ms/step - loss: 0.2461 - accuracy: 0.9197 - val_loss: 0.2596 - val_accuracy: 0.9055\n",
      "Epoch 195/200\n",
      "27/27 [==============================] - 0s 2ms/step - loss: 0.2590 - accuracy: 0.9137 - val_loss: 0.2567 - val_accuracy: 0.9040\n",
      "Epoch 196/200\n",
      "27/27 [==============================] - 0s 1ms/step - loss: 0.2631 - accuracy: 0.9141 - val_loss: 0.2615 - val_accuracy: 0.9040\n",
      "Epoch 197/200\n",
      "27/27 [==============================] - 0s 2ms/step - loss: 0.2505 - accuracy: 0.9152 - val_loss: 0.2623 - val_accuracy: 0.9025\n",
      "Epoch 198/200\n",
      "27/27 [==============================] - 0s 1ms/step - loss: 0.2578 - accuracy: 0.9145 - val_loss: 0.2517 - val_accuracy: 0.9040\n",
      "Epoch 199/200\n",
      "27/27 [==============================] - 0s 2ms/step - loss: 0.2521 - accuracy: 0.9149 - val_loss: 0.2593 - val_accuracy: 0.9070\n",
      "Epoch 200/200\n",
      "27/27 [==============================] - 0s 2ms/step - loss: 0.2419 - accuracy: 0.9209 - val_loss: 0.2603 - val_accuracy: 0.9040\n"
     ]
    },
    {
     "data": {
      "text/plain": [
       "<keras.callbacks.History at 0x7fc03a300460>"
      ]
     },
     "execution_count": 22,
     "metadata": {},
     "output_type": "execute_result"
    }
   ],
   "source": [
    "ann_model.fit(x_train,y_train,batch_size=100,epochs=200,validation_data=(x_test,y_test),shuffle=True)\n",
    "\n"
   ]
  },
  {
   "cell_type": "markdown",
   "id": "155a9dab",
   "metadata": {},
   "source": [
    "### convertiing probabilities to labels"
   ]
  },
  {
   "cell_type": "code",
   "execution_count": 23,
   "id": "b028731a",
   "metadata": {
    "scrolled": false
   },
   "outputs": [],
   "source": [
    "y_pred = ann_model.predict(x_test)\n",
    "for i in range(0,len(y_pred)):\n",
    "    if y_pred[i]>=.5:\n",
    "        y_pred[i] = 1\n",
    "    else:\n",
    "        y_pred[i] = 0\n",
    "   "
   ]
  },
  {
   "cell_type": "code",
   "execution_count": 24,
   "id": "31bb74b5",
   "metadata": {},
   "outputs": [],
   "source": [
    "my_dict[\"model\"].append('ANN')\n",
    "my_dict[\"accuracy\"].append(round(accuracy_score(y_test,y_pred)*100,2))\n",
    "my_dict[\"precision\"].append(round(precision_score(y_test,y_pred)*100,2))\n",
    "my_dict[\"recall\"].append(round(recall_score(y_test,y_pred)*100,2))"
   ]
  },
  {
   "cell_type": "markdown",
   "id": "ec14de8d",
   "metadata": {},
   "source": [
    "### Naive Bayes"
   ]
  },
  {
   "cell_type": "code",
   "execution_count": 25,
   "id": "ef7ea84b",
   "metadata": {},
   "outputs": [
    {
     "name": "stdout",
     "output_type": "stream",
     "text": [
      "Accuracy: 0.875 (0.017)\n"
     ]
    }
   ],
   "source": [
    "gnb = GaussianNB()\n",
    "# evaluate model\n",
    "cv = RepeatedStratifiedKFold(n_splits=10, n_repeats=3, random_state=1)\n",
    "n_scores = cross_val_score(estimator=gnb,X=X,y=y, scoring='accuracy', cv=cv, n_jobs=-1, error_score='raise')\n",
    "# report performance\n",
    "print('Accuracy: %.3f (%.3f)' % (mean(n_scores), std(n_scores)))"
   ]
  },
  {
   "cell_type": "code",
   "execution_count": 26,
   "id": "f5fd69b9",
   "metadata": {},
   "outputs": [
    {
     "name": "stdout",
     "output_type": "stream",
     "text": [
      "{'model': ['LogisticRegression()', 'DecisionTreeClassifier()', 'RandomForestClassifier()', 'GradientBoostingClassifier()', 'SVC()', 'ANN', 'GaussianNB()'], 'accuracy': [86.51, 94.0, 97.45, 97.6, 92.8, 90.4, 88.31], 'precision': [56.6, 76.15, 100.0, 97.65, 88.89, 92.31, 57.6], 'recall': [30.93, 85.57, 82.47, 85.57, 57.73, 37.11, 74.23]}\n"
     ]
    }
   ],
   "source": [
    "gnb.fit(x_train,y_train)\n",
    "populate_matrix(gnb)\n",
    "print(my_dict)"
   ]
  },
  {
   "cell_type": "markdown",
   "id": "70634022",
   "metadata": {},
   "source": [
    "### Final performance matrix of all the models"
   ]
  },
  {
   "cell_type": "code",
   "execution_count": 27,
   "id": "1b1420f1",
   "metadata": {},
   "outputs": [
    {
     "data": {
      "text/html": [
       "<div>\n",
       "<style scoped>\n",
       "    .dataframe tbody tr th:only-of-type {\n",
       "        vertical-align: middle;\n",
       "    }\n",
       "\n",
       "    .dataframe tbody tr th {\n",
       "        vertical-align: top;\n",
       "    }\n",
       "\n",
       "    .dataframe thead th {\n",
       "        text-align: right;\n",
       "    }\n",
       "</style>\n",
       "<table border=\"1\" class=\"dataframe\">\n",
       "  <thead>\n",
       "    <tr style=\"text-align: right;\">\n",
       "      <th></th>\n",
       "      <th>model</th>\n",
       "      <th>accuracy</th>\n",
       "      <th>precision</th>\n",
       "      <th>recall</th>\n",
       "    </tr>\n",
       "  </thead>\n",
       "  <tbody>\n",
       "    <tr>\n",
       "      <th>0</th>\n",
       "      <td>LogisticRegression()</td>\n",
       "      <td>86.51</td>\n",
       "      <td>56.60</td>\n",
       "      <td>30.93</td>\n",
       "    </tr>\n",
       "    <tr>\n",
       "      <th>1</th>\n",
       "      <td>DecisionTreeClassifier()</td>\n",
       "      <td>94.00</td>\n",
       "      <td>76.15</td>\n",
       "      <td>85.57</td>\n",
       "    </tr>\n",
       "    <tr>\n",
       "      <th>2</th>\n",
       "      <td>RandomForestClassifier()</td>\n",
       "      <td>97.45</td>\n",
       "      <td>100.00</td>\n",
       "      <td>82.47</td>\n",
       "    </tr>\n",
       "    <tr>\n",
       "      <th>3</th>\n",
       "      <td>GradientBoostingClassifier()</td>\n",
       "      <td>97.60</td>\n",
       "      <td>97.65</td>\n",
       "      <td>85.57</td>\n",
       "    </tr>\n",
       "    <tr>\n",
       "      <th>4</th>\n",
       "      <td>SVC()</td>\n",
       "      <td>92.80</td>\n",
       "      <td>88.89</td>\n",
       "      <td>57.73</td>\n",
       "    </tr>\n",
       "    <tr>\n",
       "      <th>5</th>\n",
       "      <td>ANN</td>\n",
       "      <td>90.40</td>\n",
       "      <td>92.31</td>\n",
       "      <td>37.11</td>\n",
       "    </tr>\n",
       "    <tr>\n",
       "      <th>6</th>\n",
       "      <td>GaussianNB()</td>\n",
       "      <td>88.31</td>\n",
       "      <td>57.60</td>\n",
       "      <td>74.23</td>\n",
       "    </tr>\n",
       "  </tbody>\n",
       "</table>\n",
       "</div>"
      ],
      "text/plain": [
       "                          model  accuracy  precision  recall\n",
       "0          LogisticRegression()     86.51      56.60   30.93\n",
       "1      DecisionTreeClassifier()     94.00      76.15   85.57\n",
       "2      RandomForestClassifier()     97.45     100.00   82.47\n",
       "3  GradientBoostingClassifier()     97.60      97.65   85.57\n",
       "4                         SVC()     92.80      88.89   57.73\n",
       "5                           ANN     90.40      92.31   37.11\n",
       "6                  GaussianNB()     88.31      57.60   74.23"
      ]
     },
     "execution_count": 27,
     "metadata": {},
     "output_type": "execute_result"
    }
   ],
   "source": [
    "pd.DataFrame(my_dict)"
   ]
  }
 ],
 "metadata": {
  "kernelspec": {
   "display_name": "Python 3",
   "language": "python",
   "name": "python3"
  },
  "language_info": {
   "codemirror_mode": {
    "name": "ipython",
    "version": 3
   },
   "file_extension": ".py",
   "mimetype": "text/x-python",
   "name": "python",
   "nbconvert_exporter": "python",
   "pygments_lexer": "ipython3",
   "version": "3.8.8"
  }
 },
 "nbformat": 4,
 "nbformat_minor": 5
}
