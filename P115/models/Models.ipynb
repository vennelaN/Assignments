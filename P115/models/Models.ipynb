{
 "cells": [
  {
   "cell_type": "code",
   "execution_count": 80,
   "id": "e5a8a91f",
   "metadata": {},
   "outputs": [],
   "source": [
    "import pandas as pd\n",
    "from sklearn.linear_model import LogisticRegression\n",
    "from sklearn.model_selection import train_test_split,RepeatedStratifiedKFold,cross_val_score\n",
    "from sklearn.preprocessing import StandardScaler\n",
    "from numpy import mean,std\n",
    "from sklearn.tree import DecisionTreeClassifier\n",
    "from sklearn.ensemble import RandomForestClassifier\n",
    "from sklearn.ensemble import GradientBoostingClassifier\n",
    "from xgboost import XGBClassifier\n",
    "from sklearn.svm import SVC\n",
    "from sklearn.metrics import accuracy_score,precision_score,confusion_matrix,recall_score\n",
    "import warnings\n",
    "warnings.filterwarnings('ignore')\n",
    "from tensorflow import keras\n",
    "from keras.models import Sequential\n",
    "from keras.layers import Dense,Dropout"
   ]
  },
  {
   "cell_type": "markdown",
   "id": "3450fd9c",
   "metadata": {},
   "source": [
    "## Loading Data"
   ]
  },
  {
   "cell_type": "code",
   "execution_count": 30,
   "id": "61b000d8",
   "metadata": {
    "scrolled": true
   },
   "outputs": [
    {
     "data": {
      "text/html": [
       "<div>\n",
       "<style scoped>\n",
       "    .dataframe tbody tr th:only-of-type {\n",
       "        vertical-align: middle;\n",
       "    }\n",
       "\n",
       "    .dataframe tbody tr th {\n",
       "        vertical-align: top;\n",
       "    }\n",
       "\n",
       "    .dataframe thead th {\n",
       "        text-align: right;\n",
       "    }\n",
       "</style>\n",
       "<table border=\"1\" class=\"dataframe\">\n",
       "  <thead>\n",
       "    <tr style=\"text-align: right;\">\n",
       "      <th></th>\n",
       "      <th>account_length</th>\n",
       "      <th>voice_mail_plan</th>\n",
       "      <th>voice_mail_messages</th>\n",
       "      <th>day_mins</th>\n",
       "      <th>evening_mins</th>\n",
       "      <th>night_mins</th>\n",
       "      <th>international_mins</th>\n",
       "      <th>customer_service_calls</th>\n",
       "      <th>international_plan</th>\n",
       "      <th>day_calls</th>\n",
       "      <th>day_charge</th>\n",
       "      <th>evening_calls</th>\n",
       "      <th>evening_charge</th>\n",
       "      <th>night_calls</th>\n",
       "      <th>night_charge</th>\n",
       "      <th>international_calls</th>\n",
       "      <th>international_charge</th>\n",
       "      <th>total_charge</th>\n",
       "      <th>churn</th>\n",
       "    </tr>\n",
       "  </thead>\n",
       "  <tbody>\n",
       "    <tr>\n",
       "      <th>0</th>\n",
       "      <td>128</td>\n",
       "      <td>1</td>\n",
       "      <td>25</td>\n",
       "      <td>265.1</td>\n",
       "      <td>197.4</td>\n",
       "      <td>244.7</td>\n",
       "      <td>10.0</td>\n",
       "      <td>1</td>\n",
       "      <td>0</td>\n",
       "      <td>110</td>\n",
       "      <td>45.07</td>\n",
       "      <td>99</td>\n",
       "      <td>16.78</td>\n",
       "      <td>91</td>\n",
       "      <td>11.01</td>\n",
       "      <td>3</td>\n",
       "      <td>2.70</td>\n",
       "      <td>75.56</td>\n",
       "      <td>0</td>\n",
       "    </tr>\n",
       "    <tr>\n",
       "      <th>1</th>\n",
       "      <td>107</td>\n",
       "      <td>1</td>\n",
       "      <td>26</td>\n",
       "      <td>161.6</td>\n",
       "      <td>195.5</td>\n",
       "      <td>254.4</td>\n",
       "      <td>13.7</td>\n",
       "      <td>1</td>\n",
       "      <td>0</td>\n",
       "      <td>123</td>\n",
       "      <td>27.47</td>\n",
       "      <td>103</td>\n",
       "      <td>16.62</td>\n",
       "      <td>103</td>\n",
       "      <td>11.45</td>\n",
       "      <td>3</td>\n",
       "      <td>3.70</td>\n",
       "      <td>59.24</td>\n",
       "      <td>0</td>\n",
       "    </tr>\n",
       "    <tr>\n",
       "      <th>2</th>\n",
       "      <td>137</td>\n",
       "      <td>0</td>\n",
       "      <td>0</td>\n",
       "      <td>243.4</td>\n",
       "      <td>121.2</td>\n",
       "      <td>162.6</td>\n",
       "      <td>12.2</td>\n",
       "      <td>0</td>\n",
       "      <td>0</td>\n",
       "      <td>114</td>\n",
       "      <td>41.38</td>\n",
       "      <td>110</td>\n",
       "      <td>10.30</td>\n",
       "      <td>104</td>\n",
       "      <td>7.32</td>\n",
       "      <td>5</td>\n",
       "      <td>3.29</td>\n",
       "      <td>62.29</td>\n",
       "      <td>0</td>\n",
       "    </tr>\n",
       "    <tr>\n",
       "      <th>3</th>\n",
       "      <td>84</td>\n",
       "      <td>0</td>\n",
       "      <td>0</td>\n",
       "      <td>299.4</td>\n",
       "      <td>61.9</td>\n",
       "      <td>196.9</td>\n",
       "      <td>6.6</td>\n",
       "      <td>2</td>\n",
       "      <td>1</td>\n",
       "      <td>71</td>\n",
       "      <td>50.90</td>\n",
       "      <td>88</td>\n",
       "      <td>5.26</td>\n",
       "      <td>89</td>\n",
       "      <td>8.86</td>\n",
       "      <td>7</td>\n",
       "      <td>1.78</td>\n",
       "      <td>66.80</td>\n",
       "      <td>0</td>\n",
       "    </tr>\n",
       "    <tr>\n",
       "      <th>4</th>\n",
       "      <td>75</td>\n",
       "      <td>0</td>\n",
       "      <td>0</td>\n",
       "      <td>166.7</td>\n",
       "      <td>148.3</td>\n",
       "      <td>186.9</td>\n",
       "      <td>10.1</td>\n",
       "      <td>3</td>\n",
       "      <td>1</td>\n",
       "      <td>113</td>\n",
       "      <td>28.34</td>\n",
       "      <td>122</td>\n",
       "      <td>12.61</td>\n",
       "      <td>121</td>\n",
       "      <td>8.41</td>\n",
       "      <td>3</td>\n",
       "      <td>2.73</td>\n",
       "      <td>52.09</td>\n",
       "      <td>0</td>\n",
       "    </tr>\n",
       "  </tbody>\n",
       "</table>\n",
       "</div>"
      ],
      "text/plain": [
       "   account_length  voice_mail_plan  voice_mail_messages  day_mins  \\\n",
       "0             128                1                   25     265.1   \n",
       "1             107                1                   26     161.6   \n",
       "2             137                0                    0     243.4   \n",
       "3              84                0                    0     299.4   \n",
       "4              75                0                    0     166.7   \n",
       "\n",
       "   evening_mins  night_mins  international_mins  customer_service_calls  \\\n",
       "0         197.4       244.7                10.0                       1   \n",
       "1         195.5       254.4                13.7                       1   \n",
       "2         121.2       162.6                12.2                       0   \n",
       "3          61.9       196.9                 6.6                       2   \n",
       "4         148.3       186.9                10.1                       3   \n",
       "\n",
       "   international_plan  day_calls  day_charge  evening_calls  evening_charge  \\\n",
       "0                   0        110       45.07             99           16.78   \n",
       "1                   0        123       27.47            103           16.62   \n",
       "2                   0        114       41.38            110           10.30   \n",
       "3                   1         71       50.90             88            5.26   \n",
       "4                   1        113       28.34            122           12.61   \n",
       "\n",
       "   night_calls  night_charge  international_calls  international_charge  \\\n",
       "0           91         11.01                    3                  2.70   \n",
       "1          103         11.45                    3                  3.70   \n",
       "2          104          7.32                    5                  3.29   \n",
       "3           89          8.86                    7                  1.78   \n",
       "4          121          8.41                    3                  2.73   \n",
       "\n",
       "   total_charge  churn  \n",
       "0         75.56      0  \n",
       "1         59.24      0  \n",
       "2         62.29      0  \n",
       "3         66.80      0  \n",
       "4         52.09      0  "
      ]
     },
     "execution_count": 30,
     "metadata": {},
     "output_type": "execute_result"
    }
   ],
   "source": [
    "data = data = pd.read_csv('../Datasets/telecommunications_churn.csv',sep=';')\n",
    "data.head()"
   ]
  },
  {
   "cell_type": "markdown",
   "id": "c5d9ec9e",
   "metadata": {},
   "source": [
    "## Scaling Data and Seperating X and y"
   ]
  },
  {
   "cell_type": "code",
   "execution_count": 31,
   "id": "e69ed586",
   "metadata": {},
   "outputs": [
    {
     "data": {
      "text/plain": [
       "((3333, 18), (3333, 1))"
      ]
     },
     "execution_count": 31,
     "metadata": {},
     "output_type": "execute_result"
    }
   ],
   "source": [
    "std_scr = StandardScaler()\n",
    "X = data.drop(labels='churn',axis=1)\n",
    "cols = X.columns\n",
    "X = pd.DataFrame(std_scr.fit_transform(X))\n",
    "X.columns = cols\n",
    "y = data[['churn']]\n",
    "X.shape,y.shape"
   ]
  },
  {
   "cell_type": "markdown",
   "id": "5c08ff68",
   "metadata": {},
   "source": [
    "## Train Test Split"
   ]
  },
  {
   "cell_type": "code",
   "execution_count": 32,
   "id": "3aec2a04",
   "metadata": {},
   "outputs": [],
   "source": [
    "x_train,x_test,y_train,y_test = train_test_split(X,y,test_size=0.2,shuffle=True,random_state=12,stratify=y)"
   ]
  },
  {
   "cell_type": "markdown",
   "id": "628003da",
   "metadata": {},
   "source": [
    "### Dict to record model performance"
   ]
  },
  {
   "cell_type": "code",
   "execution_count": 34,
   "id": "6c391559",
   "metadata": {},
   "outputs": [],
   "source": [
    "\n",
    "my_dict = {'model':[], 'accuracy': [],'precision':[],'recall':[]}"
   ]
  },
  {
   "cell_type": "markdown",
   "id": "3c1dd104",
   "metadata": {},
   "source": [
    "### Function to pridict and record model performance"
   ]
  },
  {
   "cell_type": "code",
   "execution_count": 35,
   "id": "32a51714",
   "metadata": {},
   "outputs": [],
   "source": [
    "def populate_matrix(fittedModel):\n",
    "    y_pred = fittedModel.predict(x_test)\n",
    "    accuracy = round(accuracy_score(y_test,y_pred)*100,2)\n",
    "    precision = round(precision_score(y_test,y_pred)*100,2)\n",
    "    recall = round(recall_score(y_test,y_pred)*100,2)\n",
    "    model = str(fittedModel)\n",
    "    my_dict[\"model\"].append(model)\n",
    "    my_dict[\"accuracy\"].append(accuracy)\n",
    "    my_dict[\"precision\"].append(precision)\n",
    "    my_dict[\"recall\"].append(recall)\n"
   ]
  },
  {
   "cell_type": "markdown",
   "id": "2d14ebdb",
   "metadata": {},
   "source": [
    "## Model Validation"
   ]
  },
  {
   "cell_type": "markdown",
   "id": "61b4fc4f",
   "metadata": {},
   "source": [
    "## Logistic Model"
   ]
  },
  {
   "cell_type": "code",
   "execution_count": 36,
   "id": "750cd6f3",
   "metadata": {},
   "outputs": [
    {
     "name": "stdout",
     "output_type": "stream",
     "text": [
      "Accuracy: 0.861 (0.009)\n"
     ]
    }
   ],
   "source": [
    "# evaluate model\n",
    "logistic = LogisticRegression()\n",
    "cv = RepeatedStratifiedKFold(n_splits=10, n_repeats=3, random_state=1)\n",
    "n_scores = cross_val_score(estimator=logistic,X=X,y=y, scoring='accuracy', cv=cv, n_jobs=-1, error_score='raise')\n",
    "# report performance\n",
    "print('Accuracy: %.3f (%.3f)' % (mean(n_scores), std(n_scores)))\n"
   ]
  },
  {
   "cell_type": "markdown",
   "id": "063e95cd",
   "metadata": {},
   "source": [
    "### Model Training"
   ]
  },
  {
   "cell_type": "code",
   "execution_count": 37,
   "id": "953f76cd",
   "metadata": {},
   "outputs": [
    {
     "name": "stdout",
     "output_type": "stream",
     "text": [
      "{'model': ['LogisticRegression()'], 'accuracy': [86.51], 'precision': [56.6], 'recall': [30.93]}\n"
     ]
    }
   ],
   "source": [
    "\n",
    "logistic.fit(x_train,y_train)\n",
    "populate_matrix(logistic)\n",
    "print(my_dict)"
   ]
  },
  {
   "cell_type": "markdown",
   "id": "2f269cad",
   "metadata": {},
   "source": [
    "## Decision Tree"
   ]
  },
  {
   "cell_type": "code",
   "execution_count": 38,
   "id": "66a91bb1",
   "metadata": {},
   "outputs": [
    {
     "name": "stdout",
     "output_type": "stream",
     "text": [
      "Accuracy: 0.948 (0.010)\n"
     ]
    }
   ],
   "source": [
    "dtree = DecisionTreeClassifier()\n",
    "# evaluate model\n",
    "cv = RepeatedStratifiedKFold(n_splits=10, n_repeats=3, random_state=1)\n",
    "n_scores = cross_val_score(estimator=dtree,X=X,y=y, scoring='accuracy', cv=cv, n_jobs=-1, error_score='raise')\n",
    "# report performance\n",
    "print('Accuracy: %.3f (%.3f)' % (mean(n_scores), std(n_scores)))"
   ]
  },
  {
   "cell_type": "markdown",
   "id": "7078c62d",
   "metadata": {},
   "source": [
    "### Model Training"
   ]
  },
  {
   "cell_type": "code",
   "execution_count": 39,
   "id": "49abebbb",
   "metadata": {},
   "outputs": [
    {
     "name": "stdout",
     "output_type": "stream",
     "text": [
      "{'model': ['LogisticRegression()', 'DecisionTreeClassifier()'], 'accuracy': [86.51, 93.4], 'precision': [56.6, 73.45], 'recall': [30.93, 85.57]}\n"
     ]
    }
   ],
   "source": [
    "dtree.fit(x_train,y_train)\n",
    "populate_matrix(dtree)\n",
    "print(my_dict)"
   ]
  },
  {
   "cell_type": "markdown",
   "id": "7e554fda",
   "metadata": {},
   "source": [
    "## RandomForest"
   ]
  },
  {
   "cell_type": "code",
   "execution_count": 40,
   "id": "80251d5a",
   "metadata": {},
   "outputs": [
    {
     "name": "stdout",
     "output_type": "stream",
     "text": [
      "Accuracy: 0.978 (0.008)\n"
     ]
    }
   ],
   "source": [
    "rf = RandomForestClassifier()\n",
    "# evaluate model\n",
    "cv = RepeatedStratifiedKFold(n_splits=10, n_repeats=3, random_state=1)\n",
    "n_scores = cross_val_score(estimator=rf,X=X,y=y, scoring='accuracy', cv=cv, n_jobs=-1, error_score='raise')\n",
    "# report performance\n",
    "print('Accuracy: %.3f (%.3f)' % (mean(n_scores), std(n_scores)))"
   ]
  },
  {
   "cell_type": "markdown",
   "id": "652cf854",
   "metadata": {},
   "source": [
    "### Model Training"
   ]
  },
  {
   "cell_type": "code",
   "execution_count": 41,
   "id": "1db9ddb1",
   "metadata": {},
   "outputs": [
    {
     "name": "stdout",
     "output_type": "stream",
     "text": [
      "{'model': ['LogisticRegression()', 'DecisionTreeClassifier()', 'RandomForestClassifier()'], 'accuracy': [86.51, 93.4, 97.45], 'precision': [56.6, 73.45, 100.0], 'recall': [30.93, 85.57, 82.47]}\n"
     ]
    }
   ],
   "source": [
    "rf.fit(x_train,y_train)\n",
    "populate_matrix(rf)\n",
    "print(my_dict)"
   ]
  },
  {
   "cell_type": "markdown",
   "id": "50429354",
   "metadata": {},
   "source": [
    "## Gradient Boosting"
   ]
  },
  {
   "cell_type": "code",
   "execution_count": 42,
   "id": "5780c92e",
   "metadata": {},
   "outputs": [
    {
     "name": "stdout",
     "output_type": "stream",
     "text": [
      "Accuracy: 0.978 (0.007)\n"
     ]
    }
   ],
   "source": [
    "\n",
    "gboost = GradientBoostingClassifier()\n",
    "# evaluate model\n",
    "cv = RepeatedStratifiedKFold(n_splits=10, n_repeats=3, random_state=1)\n",
    "n_scores = cross_val_score(estimator=gboost,X=X,y=y, scoring='accuracy', cv=cv, n_jobs=-1, error_score='raise')\n",
    "# report performance\n",
    "print('Accuracy: %.3f (%.3f)' % (mean(n_scores), std(n_scores)))"
   ]
  },
  {
   "cell_type": "markdown",
   "id": "862b66e4",
   "metadata": {},
   "source": [
    "### Model Training"
   ]
  },
  {
   "cell_type": "code",
   "execution_count": 43,
   "id": "a90069f0",
   "metadata": {},
   "outputs": [
    {
     "name": "stdout",
     "output_type": "stream",
     "text": [
      "{'model': ['LogisticRegression()', 'DecisionTreeClassifier()', 'RandomForestClassifier()', 'GradientBoostingClassifier()'], 'accuracy': [86.51, 93.4, 97.45, 97.6], 'precision': [56.6, 73.45, 100.0, 97.65], 'recall': [30.93, 85.57, 82.47, 85.57]}\n"
     ]
    }
   ],
   "source": [
    "gboost.fit(x_train,y_train)\n",
    "populate_matrix(gboost)\n",
    "print(my_dict)"
   ]
  },
  {
   "cell_type": "markdown",
   "id": "5d7e94d1",
   "metadata": {},
   "source": [
    "## SVM"
   ]
  },
  {
   "cell_type": "code",
   "execution_count": 44,
   "id": "b5139adb",
   "metadata": {},
   "outputs": [
    {
     "name": "stdout",
     "output_type": "stream",
     "text": [
      "Accuracy: 0.928 (0.011)\n"
     ]
    }
   ],
   "source": [
    "\n",
    "svm = SVC()\n",
    "# evaluate model\n",
    "cv = RepeatedStratifiedKFold(n_splits=10, n_repeats=3, random_state=1)\n",
    "n_scores = cross_val_score(estimator=svm,X=X,y=y, scoring='accuracy', cv=cv, n_jobs=-1, error_score='raise')\n",
    "# report performance\n",
    "print('Accuracy: %.3f (%.3f)' % (mean(n_scores), std(n_scores)))"
   ]
  },
  {
   "cell_type": "markdown",
   "id": "bdea6e98",
   "metadata": {},
   "source": [
    "### Model Training"
   ]
  },
  {
   "cell_type": "code",
   "execution_count": 45,
   "id": "b89d5154",
   "metadata": {},
   "outputs": [
    {
     "name": "stdout",
     "output_type": "stream",
     "text": [
      "{'model': ['LogisticRegression()', 'DecisionTreeClassifier()', 'RandomForestClassifier()', 'GradientBoostingClassifier()', 'SVC()'], 'accuracy': [86.51, 93.4, 97.45, 97.6, 92.8], 'precision': [56.6, 73.45, 100.0, 97.65, 88.89], 'recall': [30.93, 85.57, 82.47, 85.57, 57.73]}\n"
     ]
    }
   ],
   "source": [
    "svm.fit(x_train,y_train)\n",
    "populate_matrix(svm)\n",
    "print(my_dict)"
   ]
  },
  {
   "cell_type": "markdown",
   "id": "304fd6c8",
   "metadata": {},
   "source": [
    "## ANN"
   ]
  },
  {
   "cell_type": "code",
   "execution_count": 85,
   "id": "9b4fd8a4",
   "metadata": {},
   "outputs": [],
   "source": [
    "ann_model = Sequential()\n",
    "ann_model.add(Dropout(0.30))\n",
    "ann_model.add(Dense(20,input_dim=x_train.shape[1],activation='relu'))\n",
    "ann_model.add(Dense(10,activation='relu'))\n",
    "ann_model.add(Dropout(0.30))\n",
    "ann_model.add(Dense(5,activation='relu'))\n",
    "ann_model.add(Dense(1,activation='sigmoid'))\n"
   ]
  },
  {
   "cell_type": "code",
   "execution_count": 86,
   "id": "807f3fda",
   "metadata": {},
   "outputs": [],
   "source": [
    "ann_model.compile(loss='binary_crossentropy',optimizer='adam',metrics=['accuracy'])\n"
   ]
  },
  {
   "cell_type": "markdown",
   "id": "3553b1e1",
   "metadata": {},
   "source": [
    "### Model Training"
   ]
  },
  {
   "cell_type": "code",
   "execution_count": 87,
   "id": "5d0dea2d",
   "metadata": {
    "scrolled": true
   },
   "outputs": [
    {
     "name": "stdout",
     "output_type": "stream",
     "text": [
      "Epoch 1/200\n",
      "27/27 [==============================] - 1s 6ms/step - loss: 0.7954 - accuracy: 0.3601 - val_loss: 0.6799 - val_accuracy: 0.5532\n",
      "Epoch 2/200\n",
      "27/27 [==============================] - 0s 2ms/step - loss: 0.6570 - accuracy: 0.6148 - val_loss: 0.5975 - val_accuracy: 0.8021\n",
      "Epoch 3/200\n",
      "27/27 [==============================] - 0s 2ms/step - loss: 0.5856 - accuracy: 0.7674 - val_loss: 0.5318 - val_accuracy: 0.8561\n",
      "Epoch 4/200\n",
      "27/27 [==============================] - 0s 2ms/step - loss: 0.5312 - accuracy: 0.8410 - val_loss: 0.4765 - val_accuracy: 0.8546\n",
      "Epoch 5/200\n",
      "27/27 [==============================] - 0s 2ms/step - loss: 0.4900 - accuracy: 0.8518 - val_loss: 0.4342 - val_accuracy: 0.8561\n",
      "Epoch 6/200\n",
      "27/27 [==============================] - 0s 2ms/step - loss: 0.4681 - accuracy: 0.8530 - val_loss: 0.4080 - val_accuracy: 0.8561\n",
      "Epoch 7/200\n",
      "27/27 [==============================] - 0s 2ms/step - loss: 0.4473 - accuracy: 0.8571 - val_loss: 0.3903 - val_accuracy: 0.8561\n",
      "Epoch 8/200\n",
      "27/27 [==============================] - 0s 2ms/step - loss: 0.4381 - accuracy: 0.8575 - val_loss: 0.3784 - val_accuracy: 0.8546\n",
      "Epoch 9/200\n",
      "27/27 [==============================] - 0s 2ms/step - loss: 0.4143 - accuracy: 0.8571 - val_loss: 0.3668 - val_accuracy: 0.8546\n",
      "Epoch 10/200\n",
      "27/27 [==============================] - 0s 2ms/step - loss: 0.4131 - accuracy: 0.8556 - val_loss: 0.3582 - val_accuracy: 0.8561\n",
      "Epoch 11/200\n",
      "27/27 [==============================] - 0s 2ms/step - loss: 0.4067 - accuracy: 0.8556 - val_loss: 0.3522 - val_accuracy: 0.8561\n",
      "Epoch 12/200\n",
      "27/27 [==============================] - 0s 2ms/step - loss: 0.3930 - accuracy: 0.8548 - val_loss: 0.3456 - val_accuracy: 0.8561\n",
      "Epoch 13/200\n",
      "27/27 [==============================] - 0s 2ms/step - loss: 0.3879 - accuracy: 0.8578 - val_loss: 0.3400 - val_accuracy: 0.8561\n",
      "Epoch 14/200\n",
      "27/27 [==============================] - 0s 2ms/step - loss: 0.3991 - accuracy: 0.8593 - val_loss: 0.3369 - val_accuracy: 0.8576\n",
      "Epoch 15/200\n",
      "27/27 [==============================] - 0s 2ms/step - loss: 0.3879 - accuracy: 0.8612 - val_loss: 0.3309 - val_accuracy: 0.8591\n",
      "Epoch 16/200\n",
      "27/27 [==============================] - 0s 2ms/step - loss: 0.3781 - accuracy: 0.8605 - val_loss: 0.3256 - val_accuracy: 0.8621\n",
      "Epoch 17/200\n",
      "27/27 [==============================] - 0s 2ms/step - loss: 0.3746 - accuracy: 0.8608 - val_loss: 0.3204 - val_accuracy: 0.8681\n",
      "Epoch 18/200\n",
      "27/27 [==============================] - 0s 2ms/step - loss: 0.3700 - accuracy: 0.8691 - val_loss: 0.3157 - val_accuracy: 0.8696\n",
      "Epoch 19/200\n",
      "27/27 [==============================] - 0s 2ms/step - loss: 0.3564 - accuracy: 0.8661 - val_loss: 0.3100 - val_accuracy: 0.8711\n",
      "Epoch 20/200\n",
      "27/27 [==============================] - 0s 2ms/step - loss: 0.3645 - accuracy: 0.8653 - val_loss: 0.3049 - val_accuracy: 0.8771\n",
      "Epoch 21/200\n",
      "27/27 [==============================] - 0s 2ms/step - loss: 0.3480 - accuracy: 0.8698 - val_loss: 0.2977 - val_accuracy: 0.8861\n",
      "Epoch 22/200\n",
      "27/27 [==============================] - 0s 2ms/step - loss: 0.3521 - accuracy: 0.8683 - val_loss: 0.2930 - val_accuracy: 0.8876\n",
      "Epoch 23/200\n",
      "27/27 [==============================] - 0s 2ms/step - loss: 0.3567 - accuracy: 0.8740 - val_loss: 0.2917 - val_accuracy: 0.8861\n",
      "Epoch 24/200\n",
      "27/27 [==============================] - 0s 2ms/step - loss: 0.3292 - accuracy: 0.8822 - val_loss: 0.2842 - val_accuracy: 0.8846\n",
      "Epoch 25/200\n",
      "27/27 [==============================] - 0s 2ms/step - loss: 0.3350 - accuracy: 0.8770 - val_loss: 0.2804 - val_accuracy: 0.8876\n",
      "Epoch 26/200\n",
      "27/27 [==============================] - 0s 2ms/step - loss: 0.3278 - accuracy: 0.8796 - val_loss: 0.2759 - val_accuracy: 0.8906\n",
      "Epoch 27/200\n",
      "27/27 [==============================] - 0s 2ms/step - loss: 0.3164 - accuracy: 0.8867 - val_loss: 0.2696 - val_accuracy: 0.8921\n",
      "Epoch 28/200\n",
      "27/27 [==============================] - 0s 2ms/step - loss: 0.3300 - accuracy: 0.8811 - val_loss: 0.2710 - val_accuracy: 0.8906\n",
      "Epoch 29/200\n",
      "27/27 [==============================] - 0s 2ms/step - loss: 0.3220 - accuracy: 0.8818 - val_loss: 0.2696 - val_accuracy: 0.8951\n",
      "Epoch 30/200\n",
      "27/27 [==============================] - 0s 2ms/step - loss: 0.3242 - accuracy: 0.8822 - val_loss: 0.2672 - val_accuracy: 0.8981\n",
      "Epoch 31/200\n",
      "27/27 [==============================] - 0s 2ms/step - loss: 0.3212 - accuracy: 0.8837 - val_loss: 0.2671 - val_accuracy: 0.8996\n",
      "Epoch 32/200\n",
      "27/27 [==============================] - 0s 2ms/step - loss: 0.3055 - accuracy: 0.8875 - val_loss: 0.2636 - val_accuracy: 0.9010\n",
      "Epoch 33/200\n",
      "27/27 [==============================] - 0s 2ms/step - loss: 0.3216 - accuracy: 0.8848 - val_loss: 0.2624 - val_accuracy: 0.9025\n",
      "Epoch 34/200\n",
      "27/27 [==============================] - 0s 2ms/step - loss: 0.3082 - accuracy: 0.8893 - val_loss: 0.2609 - val_accuracy: 0.9040\n",
      "Epoch 35/200\n",
      "27/27 [==============================] - 0s 2ms/step - loss: 0.3209 - accuracy: 0.8845 - val_loss: 0.2580 - val_accuracy: 0.9040\n",
      "Epoch 36/200\n",
      "27/27 [==============================] - 0s 2ms/step - loss: 0.3254 - accuracy: 0.8830 - val_loss: 0.2607 - val_accuracy: 0.9055\n",
      "Epoch 37/200\n",
      "27/27 [==============================] - 0s 2ms/step - loss: 0.3149 - accuracy: 0.8912 - val_loss: 0.2607 - val_accuracy: 0.9040\n",
      "Epoch 38/200\n",
      "27/27 [==============================] - 0s 2ms/step - loss: 0.3036 - accuracy: 0.8920 - val_loss: 0.2567 - val_accuracy: 0.9025\n",
      "Epoch 39/200\n",
      "27/27 [==============================] - 0s 2ms/step - loss: 0.3065 - accuracy: 0.8905 - val_loss: 0.2567 - val_accuracy: 0.9040\n",
      "Epoch 40/200\n",
      "27/27 [==============================] - 0s 2ms/step - loss: 0.3131 - accuracy: 0.8901 - val_loss: 0.2551 - val_accuracy: 0.9040\n",
      "Epoch 41/200\n",
      "27/27 [==============================] - 0s 2ms/step - loss: 0.2979 - accuracy: 0.8972 - val_loss: 0.2543 - val_accuracy: 0.9040\n",
      "Epoch 42/200\n",
      "27/27 [==============================] - 0s 2ms/step - loss: 0.3114 - accuracy: 0.8893 - val_loss: 0.2548 - val_accuracy: 0.9040\n",
      "Epoch 43/200\n",
      "27/27 [==============================] - 0s 2ms/step - loss: 0.3057 - accuracy: 0.8890 - val_loss: 0.2528 - val_accuracy: 0.9040\n",
      "Epoch 44/200\n",
      "27/27 [==============================] - 0s 2ms/step - loss: 0.3091 - accuracy: 0.8905 - val_loss: 0.2516 - val_accuracy: 0.9085\n",
      "Epoch 45/200\n",
      "27/27 [==============================] - 0s 2ms/step - loss: 0.3113 - accuracy: 0.8961 - val_loss: 0.2514 - val_accuracy: 0.9040\n",
      "Epoch 46/200\n",
      "27/27 [==============================] - 0s 2ms/step - loss: 0.3133 - accuracy: 0.8931 - val_loss: 0.2524 - val_accuracy: 0.9085\n",
      "Epoch 47/200\n",
      "27/27 [==============================] - 0s 2ms/step - loss: 0.2985 - accuracy: 0.8972 - val_loss: 0.2497 - val_accuracy: 0.9100\n",
      "Epoch 48/200\n",
      "27/27 [==============================] - 0s 2ms/step - loss: 0.2988 - accuracy: 0.8916 - val_loss: 0.2490 - val_accuracy: 0.9040\n",
      "Epoch 49/200\n",
      "27/27 [==============================] - 0s 2ms/step - loss: 0.2873 - accuracy: 0.8908 - val_loss: 0.2461 - val_accuracy: 0.9085\n",
      "Epoch 50/200\n",
      "27/27 [==============================] - 0s 2ms/step - loss: 0.2928 - accuracy: 0.8968 - val_loss: 0.2450 - val_accuracy: 0.9100\n",
      "Epoch 51/200\n",
      "27/27 [==============================] - 0s 2ms/step - loss: 0.2947 - accuracy: 0.8998 - val_loss: 0.2452 - val_accuracy: 0.9145\n",
      "Epoch 52/200\n",
      "27/27 [==============================] - 0s 2ms/step - loss: 0.2923 - accuracy: 0.9002 - val_loss: 0.2446 - val_accuracy: 0.9175\n",
      "Epoch 53/200\n",
      "27/27 [==============================] - 0s 2ms/step - loss: 0.3145 - accuracy: 0.8830 - val_loss: 0.2459 - val_accuracy: 0.9085\n",
      "Epoch 54/200\n",
      "27/27 [==============================] - 0s 2ms/step - loss: 0.2898 - accuracy: 0.9014 - val_loss: 0.2462 - val_accuracy: 0.9040\n",
      "Epoch 55/200\n",
      "27/27 [==============================] - 0s 2ms/step - loss: 0.2968 - accuracy: 0.8995 - val_loss: 0.2455 - val_accuracy: 0.9055\n",
      "Epoch 56/200\n",
      "27/27 [==============================] - 0s 2ms/step - loss: 0.3004 - accuracy: 0.8931 - val_loss: 0.2475 - val_accuracy: 0.9070\n",
      "Epoch 57/200\n",
      "27/27 [==============================] - 0s 2ms/step - loss: 0.2901 - accuracy: 0.8965 - val_loss: 0.2446 - val_accuracy: 0.9085\n",
      "Epoch 58/200\n",
      "27/27 [==============================] - 0s 2ms/step - loss: 0.2987 - accuracy: 0.8920 - val_loss: 0.2419 - val_accuracy: 0.9130\n"
     ]
    },
    {
     "name": "stdout",
     "output_type": "stream",
     "text": [
      "Epoch 59/200\n",
      "27/27 [==============================] - 0s 2ms/step - loss: 0.2905 - accuracy: 0.9025 - val_loss: 0.2385 - val_accuracy: 0.9115\n",
      "Epoch 60/200\n",
      "27/27 [==============================] - 0s 2ms/step - loss: 0.2772 - accuracy: 0.9014 - val_loss: 0.2375 - val_accuracy: 0.9130\n",
      "Epoch 61/200\n",
      "27/27 [==============================] - 0s 2ms/step - loss: 0.2817 - accuracy: 0.9010 - val_loss: 0.2360 - val_accuracy: 0.9130\n",
      "Epoch 62/200\n",
      "27/27 [==============================] - 0s 2ms/step - loss: 0.2902 - accuracy: 0.9010 - val_loss: 0.2390 - val_accuracy: 0.9130\n",
      "Epoch 63/200\n",
      "27/27 [==============================] - 0s 2ms/step - loss: 0.2726 - accuracy: 0.9017 - val_loss: 0.2378 - val_accuracy: 0.9160\n",
      "Epoch 64/200\n",
      "27/27 [==============================] - 0s 2ms/step - loss: 0.2833 - accuracy: 0.8991 - val_loss: 0.2381 - val_accuracy: 0.9130\n",
      "Epoch 65/200\n",
      "27/27 [==============================] - 0s 2ms/step - loss: 0.2847 - accuracy: 0.8968 - val_loss: 0.2407 - val_accuracy: 0.9160\n",
      "Epoch 66/200\n",
      "27/27 [==============================] - 0s 2ms/step - loss: 0.2822 - accuracy: 0.8991 - val_loss: 0.2413 - val_accuracy: 0.9115\n",
      "Epoch 67/200\n",
      "27/27 [==============================] - 0s 2ms/step - loss: 0.2897 - accuracy: 0.9006 - val_loss: 0.2411 - val_accuracy: 0.9100\n",
      "Epoch 68/200\n",
      "27/27 [==============================] - 0s 2ms/step - loss: 0.2923 - accuracy: 0.8991 - val_loss: 0.2437 - val_accuracy: 0.9100\n",
      "Epoch 69/200\n",
      "27/27 [==============================] - 0s 2ms/step - loss: 0.2912 - accuracy: 0.8931 - val_loss: 0.2421 - val_accuracy: 0.9100\n",
      "Epoch 70/200\n",
      "27/27 [==============================] - 0s 2ms/step - loss: 0.2836 - accuracy: 0.9040 - val_loss: 0.2376 - val_accuracy: 0.9130\n",
      "Epoch 71/200\n",
      "27/27 [==============================] - 0s 2ms/step - loss: 0.2844 - accuracy: 0.9032 - val_loss: 0.2368 - val_accuracy: 0.9145\n",
      "Epoch 72/200\n",
      "27/27 [==============================] - 0s 2ms/step - loss: 0.2800 - accuracy: 0.8983 - val_loss: 0.2354 - val_accuracy: 0.9145\n",
      "Epoch 73/200\n",
      "27/27 [==============================] - 0s 2ms/step - loss: 0.2930 - accuracy: 0.8942 - val_loss: 0.2379 - val_accuracy: 0.9085\n",
      "Epoch 74/200\n",
      "27/27 [==============================] - 0s 2ms/step - loss: 0.2755 - accuracy: 0.9025 - val_loss: 0.2349 - val_accuracy: 0.9130\n",
      "Epoch 75/200\n",
      "27/27 [==============================] - 0s 2ms/step - loss: 0.2855 - accuracy: 0.9029 - val_loss: 0.2363 - val_accuracy: 0.9085\n",
      "Epoch 76/200\n",
      "27/27 [==============================] - 0s 2ms/step - loss: 0.2894 - accuracy: 0.8972 - val_loss: 0.2353 - val_accuracy: 0.9085\n",
      "Epoch 77/200\n",
      "27/27 [==============================] - 0s 2ms/step - loss: 0.2717 - accuracy: 0.9025 - val_loss: 0.2351 - val_accuracy: 0.9115\n",
      "Epoch 78/200\n",
      "27/27 [==============================] - 0s 2ms/step - loss: 0.2618 - accuracy: 0.9126 - val_loss: 0.2313 - val_accuracy: 0.9100\n",
      "Epoch 79/200\n",
      "27/27 [==============================] - 0s 2ms/step - loss: 0.2778 - accuracy: 0.9062 - val_loss: 0.2303 - val_accuracy: 0.9115\n",
      "Epoch 80/200\n",
      "27/27 [==============================] - 0s 2ms/step - loss: 0.2934 - accuracy: 0.9010 - val_loss: 0.2330 - val_accuracy: 0.9130\n",
      "Epoch 81/200\n",
      "27/27 [==============================] - 0s 2ms/step - loss: 0.2847 - accuracy: 0.9002 - val_loss: 0.2356 - val_accuracy: 0.9070\n",
      "Epoch 82/200\n",
      "27/27 [==============================] - 0s 2ms/step - loss: 0.2706 - accuracy: 0.9006 - val_loss: 0.2320 - val_accuracy: 0.9055\n",
      "Epoch 83/200\n",
      "27/27 [==============================] - 0s 2ms/step - loss: 0.2787 - accuracy: 0.9014 - val_loss: 0.2322 - val_accuracy: 0.9040\n",
      "Epoch 84/200\n",
      "27/27 [==============================] - 0s 2ms/step - loss: 0.2876 - accuracy: 0.9032 - val_loss: 0.2372 - val_accuracy: 0.9025\n",
      "Epoch 85/200\n",
      "27/27 [==============================] - 0s 2ms/step - loss: 0.2845 - accuracy: 0.8995 - val_loss: 0.2366 - val_accuracy: 0.9040\n",
      "Epoch 86/200\n",
      "27/27 [==============================] - 0s 2ms/step - loss: 0.2860 - accuracy: 0.9014 - val_loss: 0.2351 - val_accuracy: 0.9040\n",
      "Epoch 87/200\n",
      "27/27 [==============================] - 0s 2ms/step - loss: 0.2918 - accuracy: 0.8980 - val_loss: 0.2396 - val_accuracy: 0.9040\n",
      "Epoch 88/200\n",
      "27/27 [==============================] - 0s 2ms/step - loss: 0.2774 - accuracy: 0.9047 - val_loss: 0.2370 - val_accuracy: 0.9070\n",
      "Epoch 89/200\n",
      "27/27 [==============================] - 0s 2ms/step - loss: 0.2746 - accuracy: 0.9025 - val_loss: 0.2357 - val_accuracy: 0.9085\n",
      "Epoch 90/200\n",
      "27/27 [==============================] - 0s 2ms/step - loss: 0.2660 - accuracy: 0.9051 - val_loss: 0.2328 - val_accuracy: 0.9115\n",
      "Epoch 91/200\n",
      "27/27 [==============================] - 0s 2ms/step - loss: 0.2716 - accuracy: 0.9059 - val_loss: 0.2307 - val_accuracy: 0.9055\n",
      "Epoch 92/200\n",
      "27/27 [==============================] - 0s 2ms/step - loss: 0.2761 - accuracy: 0.9021 - val_loss: 0.2334 - val_accuracy: 0.9070\n",
      "Epoch 93/200\n",
      "27/27 [==============================] - 0s 2ms/step - loss: 0.2784 - accuracy: 0.9032 - val_loss: 0.2315 - val_accuracy: 0.9085\n",
      "Epoch 94/200\n",
      "27/27 [==============================] - 0s 2ms/step - loss: 0.2687 - accuracy: 0.9066 - val_loss: 0.2303 - val_accuracy: 0.9115\n",
      "Epoch 95/200\n",
      "27/27 [==============================] - 0s 2ms/step - loss: 0.2658 - accuracy: 0.9089 - val_loss: 0.2298 - val_accuracy: 0.9100\n",
      "Epoch 96/200\n",
      "27/27 [==============================] - 0s 2ms/step - loss: 0.2894 - accuracy: 0.8972 - val_loss: 0.2315 - val_accuracy: 0.9100\n",
      "Epoch 97/200\n",
      "27/27 [==============================] - 0s 2ms/step - loss: 0.2713 - accuracy: 0.9036 - val_loss: 0.2320 - val_accuracy: 0.9085\n",
      "Epoch 98/200\n",
      "27/27 [==============================] - 0s 2ms/step - loss: 0.2822 - accuracy: 0.9014 - val_loss: 0.2300 - val_accuracy: 0.9100\n",
      "Epoch 99/200\n",
      "27/27 [==============================] - 0s 2ms/step - loss: 0.2736 - accuracy: 0.9066 - val_loss: 0.2292 - val_accuracy: 0.9085\n",
      "Epoch 100/200\n",
      "27/27 [==============================] - 0s 2ms/step - loss: 0.2751 - accuracy: 0.9074 - val_loss: 0.2297 - val_accuracy: 0.9055\n",
      "Epoch 101/200\n",
      "27/27 [==============================] - 0s 2ms/step - loss: 0.2785 - accuracy: 0.9002 - val_loss: 0.2275 - val_accuracy: 0.9115\n",
      "Epoch 102/200\n",
      "27/27 [==============================] - 0s 2ms/step - loss: 0.2646 - accuracy: 0.9062 - val_loss: 0.2280 - val_accuracy: 0.9085\n",
      "Epoch 103/200\n",
      "27/27 [==============================] - 0s 2ms/step - loss: 0.2623 - accuracy: 0.9104 - val_loss: 0.2222 - val_accuracy: 0.9130\n",
      "Epoch 104/200\n",
      "27/27 [==============================] - 0s 2ms/step - loss: 0.2770 - accuracy: 0.9070 - val_loss: 0.2276 - val_accuracy: 0.9130\n",
      "Epoch 105/200\n",
      "27/27 [==============================] - 0s 2ms/step - loss: 0.2758 - accuracy: 0.9059 - val_loss: 0.2318 - val_accuracy: 0.9100\n",
      "Epoch 106/200\n",
      "27/27 [==============================] - 0s 2ms/step - loss: 0.2700 - accuracy: 0.9047 - val_loss: 0.2333 - val_accuracy: 0.9070\n",
      "Epoch 107/200\n",
      "27/27 [==============================] - 0s 2ms/step - loss: 0.2692 - accuracy: 0.9062 - val_loss: 0.2260 - val_accuracy: 0.9160\n",
      "Epoch 108/200\n",
      "27/27 [==============================] - 0s 2ms/step - loss: 0.2763 - accuracy: 0.9017 - val_loss: 0.2314 - val_accuracy: 0.9070\n",
      "Epoch 109/200\n",
      "27/27 [==============================] - 0s 2ms/step - loss: 0.2818 - accuracy: 0.9021 - val_loss: 0.2315 - val_accuracy: 0.9115\n",
      "Epoch 110/200\n",
      "27/27 [==============================] - 0s 2ms/step - loss: 0.2777 - accuracy: 0.9036 - val_loss: 0.2336 - val_accuracy: 0.9115\n",
      "Epoch 111/200\n",
      "27/27 [==============================] - 0s 2ms/step - loss: 0.2735 - accuracy: 0.9077 - val_loss: 0.2292 - val_accuracy: 0.9115\n",
      "Epoch 112/200\n",
      "27/27 [==============================] - 0s 2ms/step - loss: 0.2764 - accuracy: 0.9032 - val_loss: 0.2290 - val_accuracy: 0.9130\n",
      "Epoch 113/200\n",
      "27/27 [==============================] - 0s 2ms/step - loss: 0.2841 - accuracy: 0.9070 - val_loss: 0.2320 - val_accuracy: 0.9100\n",
      "Epoch 114/200\n",
      "27/27 [==============================] - 0s 2ms/step - loss: 0.2717 - accuracy: 0.9070 - val_loss: 0.2349 - val_accuracy: 0.9085\n",
      "Epoch 115/200\n",
      "27/27 [==============================] - 0s 2ms/step - loss: 0.2709 - accuracy: 0.9044 - val_loss: 0.2383 - val_accuracy: 0.9085\n",
      "Epoch 116/200\n"
     ]
    },
    {
     "name": "stdout",
     "output_type": "stream",
     "text": [
      "27/27 [==============================] - 0s 2ms/step - loss: 0.2702 - accuracy: 0.9059 - val_loss: 0.2290 - val_accuracy: 0.9145\n",
      "Epoch 117/200\n",
      "27/27 [==============================] - 0s 2ms/step - loss: 0.2632 - accuracy: 0.9141 - val_loss: 0.2272 - val_accuracy: 0.9160\n",
      "Epoch 118/200\n",
      "27/27 [==============================] - 0s 2ms/step - loss: 0.2658 - accuracy: 0.9100 - val_loss: 0.2296 - val_accuracy: 0.9115\n",
      "Epoch 119/200\n",
      "27/27 [==============================] - 0s 2ms/step - loss: 0.2574 - accuracy: 0.9152 - val_loss: 0.2293 - val_accuracy: 0.9130\n",
      "Epoch 120/200\n",
      "27/27 [==============================] - 0s 2ms/step - loss: 0.2709 - accuracy: 0.9085 - val_loss: 0.2252 - val_accuracy: 0.9175\n",
      "Epoch 121/200\n",
      "27/27 [==============================] - 0s 2ms/step - loss: 0.2732 - accuracy: 0.9096 - val_loss: 0.2428 - val_accuracy: 0.9085\n",
      "Epoch 122/200\n",
      "27/27 [==============================] - 0s 2ms/step - loss: 0.2565 - accuracy: 0.9149 - val_loss: 0.2297 - val_accuracy: 0.9115\n",
      "Epoch 123/200\n",
      "27/27 [==============================] - 0s 2ms/step - loss: 0.2592 - accuracy: 0.9156 - val_loss: 0.2292 - val_accuracy: 0.9130\n",
      "Epoch 124/200\n",
      "27/27 [==============================] - 0s 2ms/step - loss: 0.2716 - accuracy: 0.9085 - val_loss: 0.2270 - val_accuracy: 0.9115\n",
      "Epoch 125/200\n",
      "27/27 [==============================] - 0s 2ms/step - loss: 0.2584 - accuracy: 0.9141 - val_loss: 0.2294 - val_accuracy: 0.9100\n",
      "Epoch 126/200\n",
      "27/27 [==============================] - 0s 2ms/step - loss: 0.2701 - accuracy: 0.9066 - val_loss: 0.2333 - val_accuracy: 0.9085\n",
      "Epoch 127/200\n",
      "27/27 [==============================] - 0s 2ms/step - loss: 0.2633 - accuracy: 0.9104 - val_loss: 0.2328 - val_accuracy: 0.9085\n",
      "Epoch 128/200\n",
      "27/27 [==============================] - 0s 2ms/step - loss: 0.2766 - accuracy: 0.9055 - val_loss: 0.2296 - val_accuracy: 0.9100\n",
      "Epoch 129/200\n",
      "27/27 [==============================] - 0s 2ms/step - loss: 0.2696 - accuracy: 0.9100 - val_loss: 0.2335 - val_accuracy: 0.9085\n",
      "Epoch 130/200\n",
      "27/27 [==============================] - 0s 2ms/step - loss: 0.2667 - accuracy: 0.9047 - val_loss: 0.2298 - val_accuracy: 0.9115\n",
      "Epoch 131/200\n",
      "27/27 [==============================] - 0s 2ms/step - loss: 0.2577 - accuracy: 0.9134 - val_loss: 0.2303 - val_accuracy: 0.9085\n",
      "Epoch 132/200\n",
      "27/27 [==============================] - 0s 2ms/step - loss: 0.2604 - accuracy: 0.9104 - val_loss: 0.2283 - val_accuracy: 0.9100\n",
      "Epoch 133/200\n",
      "27/27 [==============================] - 0s 2ms/step - loss: 0.2847 - accuracy: 0.9055 - val_loss: 0.2371 - val_accuracy: 0.9070\n",
      "Epoch 134/200\n",
      "27/27 [==============================] - 0s 2ms/step - loss: 0.2672 - accuracy: 0.9111 - val_loss: 0.2272 - val_accuracy: 0.9130\n",
      "Epoch 135/200\n",
      "27/27 [==============================] - 0s 2ms/step - loss: 0.2690 - accuracy: 0.9077 - val_loss: 0.2390 - val_accuracy: 0.9055\n",
      "Epoch 136/200\n",
      "27/27 [==============================] - 0s 2ms/step - loss: 0.2570 - accuracy: 0.9167 - val_loss: 0.2287 - val_accuracy: 0.9055\n",
      "Epoch 137/200\n",
      "27/27 [==============================] - 0s 2ms/step - loss: 0.2753 - accuracy: 0.9092 - val_loss: 0.2337 - val_accuracy: 0.9085\n",
      "Epoch 138/200\n",
      "27/27 [==============================] - 0s 2ms/step - loss: 0.2593 - accuracy: 0.9107 - val_loss: 0.2336 - val_accuracy: 0.9055\n",
      "Epoch 139/200\n",
      "27/27 [==============================] - 0s 2ms/step - loss: 0.2617 - accuracy: 0.9100 - val_loss: 0.2328 - val_accuracy: 0.9055\n",
      "Epoch 140/200\n",
      "27/27 [==============================] - 0s 2ms/step - loss: 0.2523 - accuracy: 0.9149 - val_loss: 0.2288 - val_accuracy: 0.9070\n",
      "Epoch 141/200\n",
      "27/27 [==============================] - 0s 2ms/step - loss: 0.2648 - accuracy: 0.9104 - val_loss: 0.2297 - val_accuracy: 0.9085\n",
      "Epoch 142/200\n",
      "27/27 [==============================] - 0s 2ms/step - loss: 0.2643 - accuracy: 0.9126 - val_loss: 0.2355 - val_accuracy: 0.9070\n",
      "Epoch 143/200\n",
      "27/27 [==============================] - 0s 2ms/step - loss: 0.2559 - accuracy: 0.9190 - val_loss: 0.2356 - val_accuracy: 0.9070\n",
      "Epoch 144/200\n",
      "27/27 [==============================] - 0s 2ms/step - loss: 0.2652 - accuracy: 0.9115 - val_loss: 0.2367 - val_accuracy: 0.9040\n",
      "Epoch 145/200\n",
      "27/27 [==============================] - 0s 2ms/step - loss: 0.2537 - accuracy: 0.9152 - val_loss: 0.2304 - val_accuracy: 0.9040\n",
      "Epoch 146/200\n",
      "27/27 [==============================] - 0s 2ms/step - loss: 0.2660 - accuracy: 0.9107 - val_loss: 0.2317 - val_accuracy: 0.9055\n",
      "Epoch 147/200\n",
      "27/27 [==============================] - 0s 2ms/step - loss: 0.2589 - accuracy: 0.9160 - val_loss: 0.2284 - val_accuracy: 0.9070\n",
      "Epoch 148/200\n",
      "27/27 [==============================] - 0s 2ms/step - loss: 0.2613 - accuracy: 0.9096 - val_loss: 0.2278 - val_accuracy: 0.9100\n",
      "Epoch 149/200\n",
      "27/27 [==============================] - 0s 2ms/step - loss: 0.2709 - accuracy: 0.9051 - val_loss: 0.2305 - val_accuracy: 0.9070\n",
      "Epoch 150/200\n",
      "27/27 [==============================] - 0s 2ms/step - loss: 0.2606 - accuracy: 0.9111 - val_loss: 0.2308 - val_accuracy: 0.9070\n",
      "Epoch 151/200\n",
      "27/27 [==============================] - 0s 2ms/step - loss: 0.2534 - accuracy: 0.9111 - val_loss: 0.2275 - val_accuracy: 0.9085\n",
      "Epoch 152/200\n",
      "27/27 [==============================] - 0s 2ms/step - loss: 0.2610 - accuracy: 0.9130 - val_loss: 0.2245 - val_accuracy: 0.9115\n",
      "Epoch 153/200\n",
      "27/27 [==============================] - 0s 2ms/step - loss: 0.2759 - accuracy: 0.9111 - val_loss: 0.2340 - val_accuracy: 0.9055\n",
      "Epoch 154/200\n",
      "27/27 [==============================] - 0s 2ms/step - loss: 0.2639 - accuracy: 0.9164 - val_loss: 0.2336 - val_accuracy: 0.9070\n",
      "Epoch 155/200\n",
      "27/27 [==============================] - 0s 2ms/step - loss: 0.2774 - accuracy: 0.9119 - val_loss: 0.2396 - val_accuracy: 0.9055\n",
      "Epoch 156/200\n",
      "27/27 [==============================] - 0s 2ms/step - loss: 0.2667 - accuracy: 0.9107 - val_loss: 0.2341 - val_accuracy: 0.9070\n",
      "Epoch 157/200\n",
      "27/27 [==============================] - 0s 2ms/step - loss: 0.2499 - accuracy: 0.9167 - val_loss: 0.2360 - val_accuracy: 0.9100\n",
      "Epoch 158/200\n",
      "27/27 [==============================] - 0s 2ms/step - loss: 0.2566 - accuracy: 0.9164 - val_loss: 0.2284 - val_accuracy: 0.9130\n",
      "Epoch 159/200\n",
      "27/27 [==============================] - 0s 2ms/step - loss: 0.2472 - accuracy: 0.9179 - val_loss: 0.2263 - val_accuracy: 0.9115\n",
      "Epoch 160/200\n",
      "27/27 [==============================] - 0s 2ms/step - loss: 0.2605 - accuracy: 0.9081 - val_loss: 0.2307 - val_accuracy: 0.9100\n",
      "Epoch 161/200\n",
      "27/27 [==============================] - 0s 2ms/step - loss: 0.2554 - accuracy: 0.9152 - val_loss: 0.2341 - val_accuracy: 0.9055\n",
      "Epoch 162/200\n",
      "27/27 [==============================] - 0s 2ms/step - loss: 0.2511 - accuracy: 0.9119 - val_loss: 0.2227 - val_accuracy: 0.9100\n",
      "Epoch 163/200\n",
      "27/27 [==============================] - 0s 2ms/step - loss: 0.2610 - accuracy: 0.9149 - val_loss: 0.2354 - val_accuracy: 0.9055\n",
      "Epoch 164/200\n",
      "27/27 [==============================] - 0s 2ms/step - loss: 0.2565 - accuracy: 0.9115 - val_loss: 0.2338 - val_accuracy: 0.9100\n",
      "Epoch 165/200\n",
      "27/27 [==============================] - 0s 2ms/step - loss: 0.2602 - accuracy: 0.9141 - val_loss: 0.2247 - val_accuracy: 0.9130\n",
      "Epoch 166/200\n",
      "27/27 [==============================] - 0s 2ms/step - loss: 0.2498 - accuracy: 0.9164 - val_loss: 0.2251 - val_accuracy: 0.9115\n",
      "Epoch 167/200\n",
      "27/27 [==============================] - 0s 2ms/step - loss: 0.2587 - accuracy: 0.9179 - val_loss: 0.2322 - val_accuracy: 0.9070\n",
      "Epoch 168/200\n",
      "27/27 [==============================] - 0s 2ms/step - loss: 0.2564 - accuracy: 0.9122 - val_loss: 0.2304 - val_accuracy: 0.9085\n",
      "Epoch 169/200\n",
      "27/27 [==============================] - 0s 2ms/step - loss: 0.2525 - accuracy: 0.9145 - val_loss: 0.2348 - val_accuracy: 0.9070\n",
      "Epoch 170/200\n",
      "27/27 [==============================] - 0s 2ms/step - loss: 0.2545 - accuracy: 0.9145 - val_loss: 0.2331 - val_accuracy: 0.9070\n",
      "Epoch 171/200\n",
      "27/27 [==============================] - 0s 2ms/step - loss: 0.2501 - accuracy: 0.9156 - val_loss: 0.2307 - val_accuracy: 0.9100\n",
      "Epoch 172/200\n",
      "27/27 [==============================] - 0s 2ms/step - loss: 0.2517 - accuracy: 0.9182 - val_loss: 0.2419 - val_accuracy: 0.9055\n",
      "Epoch 173/200\n"
     ]
    },
    {
     "name": "stdout",
     "output_type": "stream",
     "text": [
      "27/27 [==============================] - 0s 2ms/step - loss: 0.2542 - accuracy: 0.9145 - val_loss: 0.2361 - val_accuracy: 0.9070\n",
      "Epoch 174/200\n",
      "27/27 [==============================] - 0s 2ms/step - loss: 0.2509 - accuracy: 0.9179 - val_loss: 0.2386 - val_accuracy: 0.9070\n",
      "Epoch 175/200\n",
      "27/27 [==============================] - 0s 2ms/step - loss: 0.2559 - accuracy: 0.9182 - val_loss: 0.2341 - val_accuracy: 0.9085\n",
      "Epoch 176/200\n",
      "27/27 [==============================] - 0s 2ms/step - loss: 0.2527 - accuracy: 0.9171 - val_loss: 0.2372 - val_accuracy: 0.9055\n",
      "Epoch 177/200\n",
      "27/27 [==============================] - 0s 2ms/step - loss: 0.2481 - accuracy: 0.9134 - val_loss: 0.2341 - val_accuracy: 0.9055\n",
      "Epoch 178/200\n",
      "27/27 [==============================] - 0s 2ms/step - loss: 0.2580 - accuracy: 0.9141 - val_loss: 0.2338 - val_accuracy: 0.9055\n",
      "Epoch 179/200\n",
      "27/27 [==============================] - 0s 2ms/step - loss: 0.2447 - accuracy: 0.9186 - val_loss: 0.2320 - val_accuracy: 0.9070\n",
      "Epoch 180/200\n",
      "27/27 [==============================] - 0s 2ms/step - loss: 0.2602 - accuracy: 0.9119 - val_loss: 0.2330 - val_accuracy: 0.9085\n",
      "Epoch 181/200\n",
      "27/27 [==============================] - 0s 2ms/step - loss: 0.2535 - accuracy: 0.9130 - val_loss: 0.2337 - val_accuracy: 0.9085\n",
      "Epoch 182/200\n",
      "27/27 [==============================] - 0s 2ms/step - loss: 0.2547 - accuracy: 0.9141 - val_loss: 0.2314 - val_accuracy: 0.9085\n",
      "Epoch 183/200\n",
      "27/27 [==============================] - 0s 2ms/step - loss: 0.2587 - accuracy: 0.9137 - val_loss: 0.2275 - val_accuracy: 0.9130\n",
      "Epoch 184/200\n",
      "27/27 [==============================] - 0s 2ms/step - loss: 0.2649 - accuracy: 0.9096 - val_loss: 0.2305 - val_accuracy: 0.9085\n",
      "Epoch 185/200\n",
      "27/27 [==============================] - 0s 2ms/step - loss: 0.2601 - accuracy: 0.9152 - val_loss: 0.2300 - val_accuracy: 0.9100\n",
      "Epoch 186/200\n",
      "27/27 [==============================] - 0s 2ms/step - loss: 0.2514 - accuracy: 0.9156 - val_loss: 0.2342 - val_accuracy: 0.9070\n",
      "Epoch 187/200\n",
      "27/27 [==============================] - 0s 2ms/step - loss: 0.2621 - accuracy: 0.9134 - val_loss: 0.2363 - val_accuracy: 0.9100\n",
      "Epoch 188/200\n",
      "27/27 [==============================] - 0s 2ms/step - loss: 0.2503 - accuracy: 0.9137 - val_loss: 0.2378 - val_accuracy: 0.9085\n",
      "Epoch 189/200\n",
      "27/27 [==============================] - 0s 2ms/step - loss: 0.2484 - accuracy: 0.9156 - val_loss: 0.2343 - val_accuracy: 0.9070\n",
      "Epoch 190/200\n",
      "27/27 [==============================] - 0s 2ms/step - loss: 0.2604 - accuracy: 0.9089 - val_loss: 0.2415 - val_accuracy: 0.9055\n",
      "Epoch 191/200\n",
      "27/27 [==============================] - 0s 2ms/step - loss: 0.2581 - accuracy: 0.9145 - val_loss: 0.2380 - val_accuracy: 0.9040\n",
      "Epoch 192/200\n",
      "27/27 [==============================] - 0s 2ms/step - loss: 0.2583 - accuracy: 0.9164 - val_loss: 0.2354 - val_accuracy: 0.9070\n",
      "Epoch 193/200\n",
      "27/27 [==============================] - 0s 2ms/step - loss: 0.2490 - accuracy: 0.9152 - val_loss: 0.2402 - val_accuracy: 0.9040\n",
      "Epoch 194/200\n",
      "27/27 [==============================] - 0s 2ms/step - loss: 0.2588 - accuracy: 0.9149 - val_loss: 0.2334 - val_accuracy: 0.9085\n",
      "Epoch 195/200\n",
      "27/27 [==============================] - 0s 2ms/step - loss: 0.2585 - accuracy: 0.9130 - val_loss: 0.2370 - val_accuracy: 0.9100\n",
      "Epoch 196/200\n",
      "27/27 [==============================] - 0s 2ms/step - loss: 0.2493 - accuracy: 0.9209 - val_loss: 0.2356 - val_accuracy: 0.9100\n",
      "Epoch 197/200\n",
      "27/27 [==============================] - 0s 2ms/step - loss: 0.2521 - accuracy: 0.9149 - val_loss: 0.2349 - val_accuracy: 0.9100\n",
      "Epoch 198/200\n",
      "27/27 [==============================] - 0s 2ms/step - loss: 0.2501 - accuracy: 0.9156 - val_loss: 0.2358 - val_accuracy: 0.9115\n",
      "Epoch 199/200\n",
      "27/27 [==============================] - 0s 2ms/step - loss: 0.2488 - accuracy: 0.9175 - val_loss: 0.2396 - val_accuracy: 0.9070\n",
      "Epoch 200/200\n",
      "27/27 [==============================] - 0s 2ms/step - loss: 0.2510 - accuracy: 0.9182 - val_loss: 0.2321 - val_accuracy: 0.9100\n"
     ]
    },
    {
     "data": {
      "text/plain": [
       "<keras.callbacks.History at 0x7ff22ee39b50>"
      ]
     },
     "execution_count": 87,
     "metadata": {},
     "output_type": "execute_result"
    }
   ],
   "source": [
    "ann_model.fit(x_train,y_train,batch_size=100,epochs=200,validation_data=(x_test,y_test),shuffle=True)\n",
    "\n"
   ]
  },
  {
   "cell_type": "markdown",
   "id": "155a9dab",
   "metadata": {},
   "source": [
    "### convertiing probabilities to labels"
   ]
  },
  {
   "cell_type": "code",
   "execution_count": 88,
   "id": "b028731a",
   "metadata": {
    "scrolled": false
   },
   "outputs": [],
   "source": [
    "y_pred = ann_model.predict(x_test)\n",
    "for i in range(0,len(y_pred)):\n",
    "    if y_pred[i]>=.5:\n",
    "        y_pred[i] = 1\n",
    "    else:\n",
    "        y_pred[i] = 0\n",
    "   "
   ]
  },
  {
   "cell_type": "code",
   "execution_count": 97,
   "id": "31bb74b5",
   "metadata": {},
   "outputs": [],
   "source": [
    "my_dict[\"model\"].append('ANN')\n",
    "my_dict[\"accuracy\"].append(round(accuracy_score(y_test,y_pred)*100,2))\n",
    "my_dict[\"precision\"].append(round(precision_score(y_test,y_pred)*100,2))\n",
    "my_dict[\"recall\"].append(round(recall_score(y_test,y_pred)*100,2))"
   ]
  },
  {
   "cell_type": "markdown",
   "id": "70634022",
   "metadata": {},
   "source": [
    "### Final performance matrix of all the models"
   ]
  },
  {
   "cell_type": "code",
   "execution_count": 99,
   "id": "1b1420f1",
   "metadata": {},
   "outputs": [
    {
     "data": {
      "text/html": [
       "<div>\n",
       "<style scoped>\n",
       "    .dataframe tbody tr th:only-of-type {\n",
       "        vertical-align: middle;\n",
       "    }\n",
       "\n",
       "    .dataframe tbody tr th {\n",
       "        vertical-align: top;\n",
       "    }\n",
       "\n",
       "    .dataframe thead th {\n",
       "        text-align: right;\n",
       "    }\n",
       "</style>\n",
       "<table border=\"1\" class=\"dataframe\">\n",
       "  <thead>\n",
       "    <tr style=\"text-align: right;\">\n",
       "      <th></th>\n",
       "      <th>model</th>\n",
       "      <th>accuracy</th>\n",
       "      <th>precision</th>\n",
       "      <th>recall</th>\n",
       "    </tr>\n",
       "  </thead>\n",
       "  <tbody>\n",
       "    <tr>\n",
       "      <th>0</th>\n",
       "      <td>LogisticRegression()</td>\n",
       "      <td>86.51</td>\n",
       "      <td>56.60</td>\n",
       "      <td>30.93</td>\n",
       "    </tr>\n",
       "    <tr>\n",
       "      <th>1</th>\n",
       "      <td>DecisionTreeClassifier()</td>\n",
       "      <td>93.40</td>\n",
       "      <td>73.45</td>\n",
       "      <td>85.57</td>\n",
       "    </tr>\n",
       "    <tr>\n",
       "      <th>2</th>\n",
       "      <td>RandomForestClassifier()</td>\n",
       "      <td>97.45</td>\n",
       "      <td>100.00</td>\n",
       "      <td>82.47</td>\n",
       "    </tr>\n",
       "    <tr>\n",
       "      <th>3</th>\n",
       "      <td>GradientBoostingClassifier()</td>\n",
       "      <td>97.60</td>\n",
       "      <td>97.65</td>\n",
       "      <td>85.57</td>\n",
       "    </tr>\n",
       "    <tr>\n",
       "      <th>4</th>\n",
       "      <td>SVC()</td>\n",
       "      <td>92.80</td>\n",
       "      <td>88.89</td>\n",
       "      <td>57.73</td>\n",
       "    </tr>\n",
       "    <tr>\n",
       "      <th>5</th>\n",
       "      <td>ANN</td>\n",
       "      <td>91.00</td>\n",
       "      <td>97.44</td>\n",
       "      <td>39.18</td>\n",
       "    </tr>\n",
       "  </tbody>\n",
       "</table>\n",
       "</div>"
      ],
      "text/plain": [
       "                          model  accuracy  precision  recall\n",
       "0          LogisticRegression()     86.51      56.60   30.93\n",
       "1      DecisionTreeClassifier()     93.40      73.45   85.57\n",
       "2      RandomForestClassifier()     97.45     100.00   82.47\n",
       "3  GradientBoostingClassifier()     97.60      97.65   85.57\n",
       "4                         SVC()     92.80      88.89   57.73\n",
       "5                           ANN     91.00      97.44   39.18"
      ]
     },
     "execution_count": 99,
     "metadata": {},
     "output_type": "execute_result"
    }
   ],
   "source": [
    "pd.DataFrame(my_dict)"
   ]
  }
 ],
 "metadata": {
  "kernelspec": {
   "display_name": "Python 3",
   "language": "python",
   "name": "python3"
  },
  "language_info": {
   "codemirror_mode": {
    "name": "ipython",
    "version": 3
   },
   "file_extension": ".py",
   "mimetype": "text/x-python",
   "name": "python",
   "nbconvert_exporter": "python",
   "pygments_lexer": "ipython3",
   "version": "3.8.8"
  }
 },
 "nbformat": 4,
 "nbformat_minor": 5
}
