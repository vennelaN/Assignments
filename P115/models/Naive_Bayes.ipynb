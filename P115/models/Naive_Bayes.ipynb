{
 "cells": [
  {
   "cell_type": "code",
   "execution_count": 23,
   "id": "3bbae63c",
   "metadata": {},
   "outputs": [],
   "source": [
    "from sklearn.naive_bayes import GaussianNB\n",
    "import pandas as pd\n",
    "import matplotlib.pyplot as plt\n",
    "from statsmodels.stats.outliers_influence import variance_inflation_factor\n",
    "import seaborn as sns\n",
    "from sklearn.preprocessing import MinMaxScaler\n",
    "import warnings\n",
    "warnings.filterwarnings('ignore')\n",
    "from sklearn.naive_bayes import GaussianNB\n",
    "from sklearn.model_selection import RepeatedStratifiedKFold,cross_val_score,train_test_split\n",
    "from numpy import mean,std\n",
    "from sklearn.metrics import accuracy_score,confusion_matrix,precision_score,recall_score"
   ]
  },
  {
   "cell_type": "markdown",
   "id": "27afd31a",
   "metadata": {},
   "source": [
    "### loading Data"
   ]
  },
  {
   "cell_type": "code",
   "execution_count": 24,
   "id": "49738e64",
   "metadata": {
    "scrolled": false
   },
   "outputs": [
    {
     "data": {
      "text/html": [
       "<div>\n",
       "<style scoped>\n",
       "    .dataframe tbody tr th:only-of-type {\n",
       "        vertical-align: middle;\n",
       "    }\n",
       "\n",
       "    .dataframe tbody tr th {\n",
       "        vertical-align: top;\n",
       "    }\n",
       "\n",
       "    .dataframe thead th {\n",
       "        text-align: right;\n",
       "    }\n",
       "</style>\n",
       "<table border=\"1\" class=\"dataframe\">\n",
       "  <thead>\n",
       "    <tr style=\"text-align: right;\">\n",
       "      <th></th>\n",
       "      <th>account_length</th>\n",
       "      <th>voice_mail_plan</th>\n",
       "      <th>voice_mail_messages</th>\n",
       "      <th>day_mins</th>\n",
       "      <th>evening_mins</th>\n",
       "      <th>night_mins</th>\n",
       "      <th>international_mins</th>\n",
       "      <th>customer_service_calls</th>\n",
       "      <th>international_plan</th>\n",
       "      <th>day_calls</th>\n",
       "      <th>day_charge</th>\n",
       "      <th>evening_calls</th>\n",
       "      <th>evening_charge</th>\n",
       "      <th>night_calls</th>\n",
       "      <th>night_charge</th>\n",
       "      <th>international_calls</th>\n",
       "      <th>international_charge</th>\n",
       "      <th>total_charge</th>\n",
       "      <th>churn</th>\n",
       "    </tr>\n",
       "  </thead>\n",
       "  <tbody>\n",
       "    <tr>\n",
       "      <th>0</th>\n",
       "      <td>128</td>\n",
       "      <td>1</td>\n",
       "      <td>25</td>\n",
       "      <td>265.1</td>\n",
       "      <td>197.4</td>\n",
       "      <td>244.7</td>\n",
       "      <td>10.0</td>\n",
       "      <td>1</td>\n",
       "      <td>0</td>\n",
       "      <td>110</td>\n",
       "      <td>45.07</td>\n",
       "      <td>99</td>\n",
       "      <td>16.78</td>\n",
       "      <td>91</td>\n",
       "      <td>11.01</td>\n",
       "      <td>3</td>\n",
       "      <td>2.70</td>\n",
       "      <td>75.56</td>\n",
       "      <td>0</td>\n",
       "    </tr>\n",
       "    <tr>\n",
       "      <th>1</th>\n",
       "      <td>107</td>\n",
       "      <td>1</td>\n",
       "      <td>26</td>\n",
       "      <td>161.6</td>\n",
       "      <td>195.5</td>\n",
       "      <td>254.4</td>\n",
       "      <td>13.7</td>\n",
       "      <td>1</td>\n",
       "      <td>0</td>\n",
       "      <td>123</td>\n",
       "      <td>27.47</td>\n",
       "      <td>103</td>\n",
       "      <td>16.62</td>\n",
       "      <td>103</td>\n",
       "      <td>11.45</td>\n",
       "      <td>3</td>\n",
       "      <td>3.70</td>\n",
       "      <td>59.24</td>\n",
       "      <td>0</td>\n",
       "    </tr>\n",
       "    <tr>\n",
       "      <th>2</th>\n",
       "      <td>137</td>\n",
       "      <td>0</td>\n",
       "      <td>0</td>\n",
       "      <td>243.4</td>\n",
       "      <td>121.2</td>\n",
       "      <td>162.6</td>\n",
       "      <td>12.2</td>\n",
       "      <td>0</td>\n",
       "      <td>0</td>\n",
       "      <td>114</td>\n",
       "      <td>41.38</td>\n",
       "      <td>110</td>\n",
       "      <td>10.30</td>\n",
       "      <td>104</td>\n",
       "      <td>7.32</td>\n",
       "      <td>5</td>\n",
       "      <td>3.29</td>\n",
       "      <td>62.29</td>\n",
       "      <td>0</td>\n",
       "    </tr>\n",
       "    <tr>\n",
       "      <th>3</th>\n",
       "      <td>84</td>\n",
       "      <td>0</td>\n",
       "      <td>0</td>\n",
       "      <td>299.4</td>\n",
       "      <td>61.9</td>\n",
       "      <td>196.9</td>\n",
       "      <td>6.6</td>\n",
       "      <td>2</td>\n",
       "      <td>1</td>\n",
       "      <td>71</td>\n",
       "      <td>50.90</td>\n",
       "      <td>88</td>\n",
       "      <td>5.26</td>\n",
       "      <td>89</td>\n",
       "      <td>8.86</td>\n",
       "      <td>7</td>\n",
       "      <td>1.78</td>\n",
       "      <td>66.80</td>\n",
       "      <td>0</td>\n",
       "    </tr>\n",
       "    <tr>\n",
       "      <th>4</th>\n",
       "      <td>75</td>\n",
       "      <td>0</td>\n",
       "      <td>0</td>\n",
       "      <td>166.7</td>\n",
       "      <td>148.3</td>\n",
       "      <td>186.9</td>\n",
       "      <td>10.1</td>\n",
       "      <td>3</td>\n",
       "      <td>1</td>\n",
       "      <td>113</td>\n",
       "      <td>28.34</td>\n",
       "      <td>122</td>\n",
       "      <td>12.61</td>\n",
       "      <td>121</td>\n",
       "      <td>8.41</td>\n",
       "      <td>3</td>\n",
       "      <td>2.73</td>\n",
       "      <td>52.09</td>\n",
       "      <td>0</td>\n",
       "    </tr>\n",
       "  </tbody>\n",
       "</table>\n",
       "</div>"
      ],
      "text/plain": [
       "   account_length  voice_mail_plan  voice_mail_messages  day_mins  \\\n",
       "0             128                1                   25     265.1   \n",
       "1             107                1                   26     161.6   \n",
       "2             137                0                    0     243.4   \n",
       "3              84                0                    0     299.4   \n",
       "4              75                0                    0     166.7   \n",
       "\n",
       "   evening_mins  night_mins  international_mins  customer_service_calls  \\\n",
       "0         197.4       244.7                10.0                       1   \n",
       "1         195.5       254.4                13.7                       1   \n",
       "2         121.2       162.6                12.2                       0   \n",
       "3          61.9       196.9                 6.6                       2   \n",
       "4         148.3       186.9                10.1                       3   \n",
       "\n",
       "   international_plan  day_calls  day_charge  evening_calls  evening_charge  \\\n",
       "0                   0        110       45.07             99           16.78   \n",
       "1                   0        123       27.47            103           16.62   \n",
       "2                   0        114       41.38            110           10.30   \n",
       "3                   1         71       50.90             88            5.26   \n",
       "4                   1        113       28.34            122           12.61   \n",
       "\n",
       "   night_calls  night_charge  international_calls  international_charge  \\\n",
       "0           91         11.01                    3                  2.70   \n",
       "1          103         11.45                    3                  3.70   \n",
       "2          104          7.32                    5                  3.29   \n",
       "3           89          8.86                    7                  1.78   \n",
       "4          121          8.41                    3                  2.73   \n",
       "\n",
       "   total_charge  churn  \n",
       "0         75.56      0  \n",
       "1         59.24      0  \n",
       "2         62.29      0  \n",
       "3         66.80      0  \n",
       "4         52.09      0  "
      ]
     },
     "execution_count": 24,
     "metadata": {},
     "output_type": "execute_result"
    }
   ],
   "source": [
    "data = data = pd.read_csv('../Datasets/telecommunications_churn.csv',sep=';')\n",
    "data.head()"
   ]
  },
  {
   "cell_type": "code",
   "execution_count": 13,
   "id": "0041fefa",
   "metadata": {},
   "outputs": [],
   "source": [
    "#When using oversampled data the accuracy is decreasing\n",
    "# data = pd.read_csv('../Datasets/oversampled_data.csv')\n",
    "# del data['Unnamed: 0']\n",
    "# data.head()\n",
    "\n",
    "## Using Balanced data is decreasing the accuracy of Naive Bayes, so prefering imbalanced dataset"
   ]
  },
  {
   "cell_type": "markdown",
   "id": "44f5a3ee",
   "metadata": {},
   "source": [
    "### scaling and seperating X and y\n",
    "\n",
    "### Since Naive Bayes works on normally distributed data, we are using MinMaxScalar to normalize the data"
   ]
  },
  {
   "cell_type": "code",
   "execution_count": 25,
   "id": "67ec4b82",
   "metadata": {},
   "outputs": [
    {
     "data": {
      "text/plain": [
       "((3333, 18), (3333, 1))"
      ]
     },
     "execution_count": 25,
     "metadata": {},
     "output_type": "execute_result"
    }
   ],
   "source": [
    "std_scr = MinMaxScaler()\n",
    "X = data.drop(labels='churn',axis=1)\n",
    "cols = X.columns\n",
    "X = pd.DataFrame(std_scr.fit_transform(X))\n",
    "X.columns = cols\n",
    "y = data[['churn']]\n",
    "X.shape,y.shape"
   ]
  },
  {
   "cell_type": "markdown",
   "id": "afcd560c",
   "metadata": {},
   "source": [
    "### Naive Bayes is a classification technique based on Bayes’ Theorem with an assumption of independence among predictors. So multicolinearity doesnt effect this algorithm.\n"
   ]
  },
  {
   "cell_type": "markdown",
   "id": "ba9a774b",
   "metadata": {},
   "source": [
    "### Calculating VIF to check for multicolinearity"
   ]
  },
  {
   "cell_type": "code",
   "execution_count": 26,
   "id": "f80eb0a3",
   "metadata": {
    "scrolled": true
   },
   "outputs": [
    {
     "name": "stdout",
     "output_type": "stream",
     "text": [
      "                 variables           VIF\n",
      "0           account_length  1.004366e+00\n",
      "1          voice_mail_plan  1.190453e+01\n",
      "2      voice_mail_messages  1.190351e+01\n",
      "3                 day_mins  1.047616e+07\n",
      "4             evening_mins  2.237334e+06\n",
      "5               night_mins  6.387661e+05\n",
      "6       international_mins  6.907441e+04\n",
      "7   customer_service_calls  1.002660e+00\n",
      "8       international_plan  1.008221e+00\n",
      "9                day_calls  1.004704e+00\n",
      "10              day_charge  1.246366e+08\n",
      "11           evening_calls  1.002310e+00\n",
      "12          evening_charge  3.738703e+07\n",
      "13             night_calls  1.003217e+00\n",
      "14            night_charge  8.529402e+06\n",
      "15     international_calls  1.003815e+00\n",
      "16    international_charge  9.985041e+05\n",
      "17            total_charge  3.825585e+02\n"
     ]
    }
   ],
   "source": [
    "#calculating VIF of each independent variables against all other independent variable\n",
    "#variance inflation factor\n",
    "\n",
    "def cal_VIF(X):\n",
    "    \n",
    "    vif = pd.DataFrame()\n",
    "    vif['variables'] = X.columns\n",
    "    vif['VIF'] = [variance_inflation_factor(X.values,i) for i in range(X.shape[1])]\n",
    "    \n",
    "    return vif\n",
    "\n",
    "##calling cal_VIF function with using only the predictor\n",
    "# using original data fro VIF calculation\n",
    "print(cal_VIF(X))\n",
    "\n",
    "#all the VIF values are <5 which is acceptable"
   ]
  },
  {
   "cell_type": "markdown",
   "id": "2abbbc84",
   "metadata": {},
   "source": [
    "### Train test split"
   ]
  },
  {
   "cell_type": "code",
   "execution_count": 27,
   "id": "6e130430",
   "metadata": {},
   "outputs": [],
   "source": [
    "x_train,x_test,y_train,y_test = train_test_split(X,y,test_size=0.2,shuffle=True,random_state=12,stratify=y)"
   ]
  },
  {
   "cell_type": "markdown",
   "id": "9e9d5825",
   "metadata": {},
   "source": [
    "## Naive Bayes Gaussian model cross validation and Model Building"
   ]
  },
  {
   "cell_type": "code",
   "execution_count": 28,
   "id": "b5abcde9",
   "metadata": {},
   "outputs": [
    {
     "name": "stdout",
     "output_type": "stream",
     "text": [
      "Accuracy: 0.875 (0.017)\n"
     ]
    }
   ],
   "source": [
    "gnb = GaussianNB()\n",
    "# evaluate model\n",
    "cv = RepeatedStratifiedKFold(n_splits=10, n_repeats=3, random_state=1)\n",
    "n_scores = cross_val_score(estimator=gnb,X=X,y=y, scoring='accuracy', cv=cv, n_jobs=-1, error_score='raise')\n",
    "# report performance\n",
    "print('Accuracy: %.3f (%.3f)' % (mean(n_scores), std(n_scores)))"
   ]
  },
  {
   "cell_type": "markdown",
   "id": "0ee185fc",
   "metadata": {},
   "source": [
    "### Model fitting ,prediction and evaluating"
   ]
  },
  {
   "cell_type": "code",
   "execution_count": 29,
   "id": "7e7975e8",
   "metadata": {},
   "outputs": [
    {
     "name": "stdout",
     "output_type": "stream",
     "text": [
      "accuracy 88.31  precision 57.6 recall 74.23\n"
     ]
    }
   ],
   "source": [
    "gnb.fit(x_train,y_train)\n",
    "y_pred = gnb.predict(x_test)\n",
    "accuracy = round(accuracy_score(y_test,y_pred)*100,2)\n",
    "precision = round(precision_score(y_test,y_pred)*100,2)\n",
    "recall = round(recall_score(y_test,y_pred)*100,2)\n",
    "print(\"accuracy {}  precision {} recall {}\".format(accuracy,precision,recall))"
   ]
  }
 ],
 "metadata": {
  "kernelspec": {
   "display_name": "Python 3",
   "language": "python",
   "name": "python3"
  },
  "language_info": {
   "codemirror_mode": {
    "name": "ipython",
    "version": 3
   },
   "file_extension": ".py",
   "mimetype": "text/x-python",
   "name": "python",
   "nbconvert_exporter": "python",
   "pygments_lexer": "ipython3",
   "version": "3.8.8"
  }
 },
 "nbformat": 4,
 "nbformat_minor": 5
}
