{
 "cells": [
  {
   "cell_type": "code",
   "execution_count": 186,
   "id": "5b751f9a",
   "metadata": {},
   "outputs": [],
   "source": [
    "import pandas as pd\n",
    "from sklearn.preprocessing import LabelEncoder,StandardScaler\n",
    "from sklearn.model_selection import train_test_split,KFold,GridSearchCV,cross_val_score\n",
    "from sklearn.svm import SVC\n",
    "from sklearn.metrics import accuracy_score,classification_report,confusion_matrix\n",
    "import warnings\n",
    "warnings.filterwarnings('ignore')\n",
    "from mlxtend.feature_selection import SequentialFeatureSelector as msfs\n",
    "from sklearn.ensemble import RandomForestClassifier\n",
    "from pickle import dump"
   ]
  },
  {
   "cell_type": "markdown",
   "id": "46b93206",
   "metadata": {},
   "source": [
    "## 1.Loading Data"
   ]
  },
  {
   "cell_type": "code",
   "execution_count": 87,
   "id": "762911b1",
   "metadata": {},
   "outputs": [
    {
     "data": {
      "text/html": [
       "<div>\n",
       "<style scoped>\n",
       "    .dataframe tbody tr th:only-of-type {\n",
       "        vertical-align: middle;\n",
       "    }\n",
       "\n",
       "    .dataframe tbody tr th {\n",
       "        vertical-align: top;\n",
       "    }\n",
       "\n",
       "    .dataframe thead th {\n",
       "        text-align: right;\n",
       "    }\n",
       "</style>\n",
       "<table border=\"1\" class=\"dataframe\">\n",
       "  <thead>\n",
       "    <tr style=\"text-align: right;\">\n",
       "      <th></th>\n",
       "      <th>age</th>\n",
       "      <th>workclass</th>\n",
       "      <th>education</th>\n",
       "      <th>educationno</th>\n",
       "      <th>maritalstatus</th>\n",
       "      <th>occupation</th>\n",
       "      <th>relationship</th>\n",
       "      <th>race</th>\n",
       "      <th>sex</th>\n",
       "      <th>capitalgain</th>\n",
       "      <th>capitalloss</th>\n",
       "      <th>hoursperweek</th>\n",
       "      <th>native</th>\n",
       "      <th>Salary</th>\n",
       "    </tr>\n",
       "  </thead>\n",
       "  <tbody>\n",
       "    <tr>\n",
       "      <th>0</th>\n",
       "      <td>39</td>\n",
       "      <td>State-gov</td>\n",
       "      <td>Bachelors</td>\n",
       "      <td>13</td>\n",
       "      <td>Never-married</td>\n",
       "      <td>Adm-clerical</td>\n",
       "      <td>Not-in-family</td>\n",
       "      <td>White</td>\n",
       "      <td>Male</td>\n",
       "      <td>2174</td>\n",
       "      <td>0</td>\n",
       "      <td>40</td>\n",
       "      <td>United-States</td>\n",
       "      <td>&lt;=50K</td>\n",
       "    </tr>\n",
       "    <tr>\n",
       "      <th>1</th>\n",
       "      <td>50</td>\n",
       "      <td>Self-emp-not-inc</td>\n",
       "      <td>Bachelors</td>\n",
       "      <td>13</td>\n",
       "      <td>Married-civ-spouse</td>\n",
       "      <td>Exec-managerial</td>\n",
       "      <td>Husband</td>\n",
       "      <td>White</td>\n",
       "      <td>Male</td>\n",
       "      <td>0</td>\n",
       "      <td>0</td>\n",
       "      <td>13</td>\n",
       "      <td>United-States</td>\n",
       "      <td>&lt;=50K</td>\n",
       "    </tr>\n",
       "    <tr>\n",
       "      <th>2</th>\n",
       "      <td>38</td>\n",
       "      <td>Private</td>\n",
       "      <td>HS-grad</td>\n",
       "      <td>9</td>\n",
       "      <td>Divorced</td>\n",
       "      <td>Handlers-cleaners</td>\n",
       "      <td>Not-in-family</td>\n",
       "      <td>White</td>\n",
       "      <td>Male</td>\n",
       "      <td>0</td>\n",
       "      <td>0</td>\n",
       "      <td>40</td>\n",
       "      <td>United-States</td>\n",
       "      <td>&lt;=50K</td>\n",
       "    </tr>\n",
       "    <tr>\n",
       "      <th>3</th>\n",
       "      <td>53</td>\n",
       "      <td>Private</td>\n",
       "      <td>11th</td>\n",
       "      <td>7</td>\n",
       "      <td>Married-civ-spouse</td>\n",
       "      <td>Handlers-cleaners</td>\n",
       "      <td>Husband</td>\n",
       "      <td>Black</td>\n",
       "      <td>Male</td>\n",
       "      <td>0</td>\n",
       "      <td>0</td>\n",
       "      <td>40</td>\n",
       "      <td>United-States</td>\n",
       "      <td>&lt;=50K</td>\n",
       "    </tr>\n",
       "    <tr>\n",
       "      <th>4</th>\n",
       "      <td>28</td>\n",
       "      <td>Private</td>\n",
       "      <td>Bachelors</td>\n",
       "      <td>13</td>\n",
       "      <td>Married-civ-spouse</td>\n",
       "      <td>Prof-specialty</td>\n",
       "      <td>Wife</td>\n",
       "      <td>Black</td>\n",
       "      <td>Female</td>\n",
       "      <td>0</td>\n",
       "      <td>0</td>\n",
       "      <td>40</td>\n",
       "      <td>Cuba</td>\n",
       "      <td>&lt;=50K</td>\n",
       "    </tr>\n",
       "  </tbody>\n",
       "</table>\n",
       "</div>"
      ],
      "text/plain": [
       "   age          workclass   education  educationno        maritalstatus  \\\n",
       "0   39          State-gov   Bachelors           13        Never-married   \n",
       "1   50   Self-emp-not-inc   Bachelors           13   Married-civ-spouse   \n",
       "2   38            Private     HS-grad            9             Divorced   \n",
       "3   53            Private        11th            7   Married-civ-spouse   \n",
       "4   28            Private   Bachelors           13   Married-civ-spouse   \n",
       "\n",
       "           occupation    relationship    race      sex  capitalgain  \\\n",
       "0        Adm-clerical   Not-in-family   White     Male         2174   \n",
       "1     Exec-managerial         Husband   White     Male            0   \n",
       "2   Handlers-cleaners   Not-in-family   White     Male            0   \n",
       "3   Handlers-cleaners         Husband   Black     Male            0   \n",
       "4      Prof-specialty            Wife   Black   Female            0   \n",
       "\n",
       "   capitalloss  hoursperweek          native  Salary  \n",
       "0            0            40   United-States   <=50K  \n",
       "1            0            13   United-States   <=50K  \n",
       "2            0            40   United-States   <=50K  \n",
       "3            0            40   United-States   <=50K  \n",
       "4            0            40            Cuba   <=50K  "
      ]
     },
     "execution_count": 87,
     "metadata": {},
     "output_type": "execute_result"
    }
   ],
   "source": [
    "train_data = pd.read_csv('Datasets/SalaryData_Train(1).csv')\n",
    "train_data.head()"
   ]
  },
  {
   "cell_type": "code",
   "execution_count": 3,
   "id": "013cf24c",
   "metadata": {},
   "outputs": [
    {
     "data": {
      "text/html": [
       "<div>\n",
       "<style scoped>\n",
       "    .dataframe tbody tr th:only-of-type {\n",
       "        vertical-align: middle;\n",
       "    }\n",
       "\n",
       "    .dataframe tbody tr th {\n",
       "        vertical-align: top;\n",
       "    }\n",
       "\n",
       "    .dataframe thead th {\n",
       "        text-align: right;\n",
       "    }\n",
       "</style>\n",
       "<table border=\"1\" class=\"dataframe\">\n",
       "  <thead>\n",
       "    <tr style=\"text-align: right;\">\n",
       "      <th></th>\n",
       "      <th>age</th>\n",
       "      <th>workclass</th>\n",
       "      <th>education</th>\n",
       "      <th>educationno</th>\n",
       "      <th>maritalstatus</th>\n",
       "      <th>occupation</th>\n",
       "      <th>relationship</th>\n",
       "      <th>race</th>\n",
       "      <th>sex</th>\n",
       "      <th>capitalgain</th>\n",
       "      <th>capitalloss</th>\n",
       "      <th>hoursperweek</th>\n",
       "      <th>native</th>\n",
       "      <th>Salary</th>\n",
       "    </tr>\n",
       "  </thead>\n",
       "  <tbody>\n",
       "    <tr>\n",
       "      <th>0</th>\n",
       "      <td>25</td>\n",
       "      <td>Private</td>\n",
       "      <td>11th</td>\n",
       "      <td>7</td>\n",
       "      <td>Never-married</td>\n",
       "      <td>Machine-op-inspct</td>\n",
       "      <td>Own-child</td>\n",
       "      <td>Black</td>\n",
       "      <td>Male</td>\n",
       "      <td>0</td>\n",
       "      <td>0</td>\n",
       "      <td>40</td>\n",
       "      <td>United-States</td>\n",
       "      <td>&lt;=50K</td>\n",
       "    </tr>\n",
       "    <tr>\n",
       "      <th>1</th>\n",
       "      <td>38</td>\n",
       "      <td>Private</td>\n",
       "      <td>HS-grad</td>\n",
       "      <td>9</td>\n",
       "      <td>Married-civ-spouse</td>\n",
       "      <td>Farming-fishing</td>\n",
       "      <td>Husband</td>\n",
       "      <td>White</td>\n",
       "      <td>Male</td>\n",
       "      <td>0</td>\n",
       "      <td>0</td>\n",
       "      <td>50</td>\n",
       "      <td>United-States</td>\n",
       "      <td>&lt;=50K</td>\n",
       "    </tr>\n",
       "    <tr>\n",
       "      <th>2</th>\n",
       "      <td>28</td>\n",
       "      <td>Local-gov</td>\n",
       "      <td>Assoc-acdm</td>\n",
       "      <td>12</td>\n",
       "      <td>Married-civ-spouse</td>\n",
       "      <td>Protective-serv</td>\n",
       "      <td>Husband</td>\n",
       "      <td>White</td>\n",
       "      <td>Male</td>\n",
       "      <td>0</td>\n",
       "      <td>0</td>\n",
       "      <td>40</td>\n",
       "      <td>United-States</td>\n",
       "      <td>&gt;50K</td>\n",
       "    </tr>\n",
       "    <tr>\n",
       "      <th>3</th>\n",
       "      <td>44</td>\n",
       "      <td>Private</td>\n",
       "      <td>Some-college</td>\n",
       "      <td>10</td>\n",
       "      <td>Married-civ-spouse</td>\n",
       "      <td>Machine-op-inspct</td>\n",
       "      <td>Husband</td>\n",
       "      <td>Black</td>\n",
       "      <td>Male</td>\n",
       "      <td>7688</td>\n",
       "      <td>0</td>\n",
       "      <td>40</td>\n",
       "      <td>United-States</td>\n",
       "      <td>&gt;50K</td>\n",
       "    </tr>\n",
       "    <tr>\n",
       "      <th>4</th>\n",
       "      <td>34</td>\n",
       "      <td>Private</td>\n",
       "      <td>10th</td>\n",
       "      <td>6</td>\n",
       "      <td>Never-married</td>\n",
       "      <td>Other-service</td>\n",
       "      <td>Not-in-family</td>\n",
       "      <td>White</td>\n",
       "      <td>Male</td>\n",
       "      <td>0</td>\n",
       "      <td>0</td>\n",
       "      <td>30</td>\n",
       "      <td>United-States</td>\n",
       "      <td>&lt;=50K</td>\n",
       "    </tr>\n",
       "  </tbody>\n",
       "</table>\n",
       "</div>"
      ],
      "text/plain": [
       "   age   workclass      education  educationno        maritalstatus  \\\n",
       "0   25     Private           11th            7        Never-married   \n",
       "1   38     Private        HS-grad            9   Married-civ-spouse   \n",
       "2   28   Local-gov     Assoc-acdm           12   Married-civ-spouse   \n",
       "3   44     Private   Some-college           10   Married-civ-spouse   \n",
       "4   34     Private           10th            6        Never-married   \n",
       "\n",
       "           occupation    relationship    race    sex  capitalgain  \\\n",
       "0   Machine-op-inspct       Own-child   Black   Male            0   \n",
       "1     Farming-fishing         Husband   White   Male            0   \n",
       "2     Protective-serv         Husband   White   Male            0   \n",
       "3   Machine-op-inspct         Husband   Black   Male         7688   \n",
       "4       Other-service   Not-in-family   White   Male            0   \n",
       "\n",
       "   capitalloss  hoursperweek          native  Salary  \n",
       "0            0            40   United-States   <=50K  \n",
       "1            0            50   United-States   <=50K  \n",
       "2            0            40   United-States    >50K  \n",
       "3            0            40   United-States    >50K  \n",
       "4            0            30   United-States   <=50K  "
      ]
     },
     "execution_count": 3,
     "metadata": {},
     "output_type": "execute_result"
    }
   ],
   "source": [
    "test_data = pd.read_csv('Datasets/SalaryData_Test(1).csv')\n",
    "test_data.head()"
   ]
  },
  {
   "cell_type": "code",
   "execution_count": 11,
   "id": "27f21f1a",
   "metadata": {},
   "outputs": [
    {
     "data": {
      "text/plain": [
       "((30161, 14), (15060, 14))"
      ]
     },
     "execution_count": 11,
     "metadata": {},
     "output_type": "execute_result"
    }
   ],
   "source": [
    "train_data.shape,test_data.shape"
   ]
  },
  {
   "cell_type": "code",
   "execution_count": 12,
   "id": "42b8dfcf",
   "metadata": {},
   "outputs": [
    {
     "data": {
      "text/plain": [
       "45221"
      ]
     },
     "execution_count": 12,
     "metadata": {},
     "output_type": "execute_result"
    }
   ],
   "source": [
    "30161+15060"
   ]
  },
  {
   "cell_type": "markdown",
   "id": "42b09c42",
   "metadata": {},
   "source": [
    "## 2.Data analysis"
   ]
  },
  {
   "cell_type": "code",
   "execution_count": 88,
   "id": "90b0b353",
   "metadata": {},
   "outputs": [
    {
     "data": {
      "text/plain": [
       "(30161, 14)"
      ]
     },
     "execution_count": 88,
     "metadata": {},
     "output_type": "execute_result"
    }
   ],
   "source": [
    "train_data.shape"
   ]
  },
  {
   "cell_type": "code",
   "execution_count": 7,
   "id": "beb028b0",
   "metadata": {},
   "outputs": [
    {
     "data": {
      "text/plain": [
       "age               int64\n",
       "workclass        object\n",
       "education        object\n",
       "educationno       int64\n",
       "maritalstatus    object\n",
       "occupation       object\n",
       "relationship     object\n",
       "race             object\n",
       "sex              object\n",
       "capitalgain       int64\n",
       "capitalloss       int64\n",
       "hoursperweek      int64\n",
       "native           object\n",
       "Salary           object\n",
       "dtype: object"
      ]
     },
     "execution_count": 7,
     "metadata": {},
     "output_type": "execute_result"
    }
   ],
   "source": [
    "train_data.dtypes"
   ]
  },
  {
   "cell_type": "code",
   "execution_count": 8,
   "id": "4b836203",
   "metadata": {},
   "outputs": [
    {
     "data": {
      "text/plain": [
       "age              0\n",
       "workclass        0\n",
       "education        0\n",
       "educationno      0\n",
       "maritalstatus    0\n",
       "occupation       0\n",
       "relationship     0\n",
       "race             0\n",
       "sex              0\n",
       "capitalgain      0\n",
       "capitalloss      0\n",
       "hoursperweek     0\n",
       "native           0\n",
       "Salary           0\n",
       "dtype: int64"
      ]
     },
     "execution_count": 8,
     "metadata": {},
     "output_type": "execute_result"
    }
   ],
   "source": [
    "train_data.isna().sum()"
   ]
  },
  {
   "cell_type": "code",
   "execution_count": 89,
   "id": "61ec4fc7",
   "metadata": {},
   "outputs": [
    {
     "data": {
      "text/html": [
       "<div>\n",
       "<style scoped>\n",
       "    .dataframe tbody tr th:only-of-type {\n",
       "        vertical-align: middle;\n",
       "    }\n",
       "\n",
       "    .dataframe tbody tr th {\n",
       "        vertical-align: top;\n",
       "    }\n",
       "\n",
       "    .dataframe thead th {\n",
       "        text-align: right;\n",
       "    }\n",
       "</style>\n",
       "<table border=\"1\" class=\"dataframe\">\n",
       "  <thead>\n",
       "    <tr style=\"text-align: right;\">\n",
       "      <th></th>\n",
       "      <th>age</th>\n",
       "      <th>workclass</th>\n",
       "      <th>education</th>\n",
       "      <th>educationno</th>\n",
       "      <th>maritalstatus</th>\n",
       "      <th>occupation</th>\n",
       "      <th>relationship</th>\n",
       "      <th>race</th>\n",
       "      <th>sex</th>\n",
       "      <th>capitalgain</th>\n",
       "      <th>capitalloss</th>\n",
       "      <th>hoursperweek</th>\n",
       "      <th>native</th>\n",
       "      <th>Salary</th>\n",
       "    </tr>\n",
       "  </thead>\n",
       "  <tbody>\n",
       "    <tr>\n",
       "      <th>30156</th>\n",
       "      <td>27</td>\n",
       "      <td>Private</td>\n",
       "      <td>Assoc-acdm</td>\n",
       "      <td>12</td>\n",
       "      <td>Married-civ-spouse</td>\n",
       "      <td>Tech-support</td>\n",
       "      <td>Wife</td>\n",
       "      <td>White</td>\n",
       "      <td>Female</td>\n",
       "      <td>0</td>\n",
       "      <td>0</td>\n",
       "      <td>38</td>\n",
       "      <td>United-States</td>\n",
       "      <td>&lt;=50K</td>\n",
       "    </tr>\n",
       "    <tr>\n",
       "      <th>30157</th>\n",
       "      <td>40</td>\n",
       "      <td>Private</td>\n",
       "      <td>HS-grad</td>\n",
       "      <td>9</td>\n",
       "      <td>Married-civ-spouse</td>\n",
       "      <td>Machine-op-inspct</td>\n",
       "      <td>Husband</td>\n",
       "      <td>White</td>\n",
       "      <td>Male</td>\n",
       "      <td>0</td>\n",
       "      <td>0</td>\n",
       "      <td>40</td>\n",
       "      <td>United-States</td>\n",
       "      <td>&gt;50K</td>\n",
       "    </tr>\n",
       "    <tr>\n",
       "      <th>30158</th>\n",
       "      <td>58</td>\n",
       "      <td>Private</td>\n",
       "      <td>HS-grad</td>\n",
       "      <td>9</td>\n",
       "      <td>Widowed</td>\n",
       "      <td>Adm-clerical</td>\n",
       "      <td>Unmarried</td>\n",
       "      <td>White</td>\n",
       "      <td>Female</td>\n",
       "      <td>0</td>\n",
       "      <td>0</td>\n",
       "      <td>40</td>\n",
       "      <td>United-States</td>\n",
       "      <td>&lt;=50K</td>\n",
       "    </tr>\n",
       "    <tr>\n",
       "      <th>30159</th>\n",
       "      <td>22</td>\n",
       "      <td>Private</td>\n",
       "      <td>HS-grad</td>\n",
       "      <td>9</td>\n",
       "      <td>Never-married</td>\n",
       "      <td>Adm-clerical</td>\n",
       "      <td>Own-child</td>\n",
       "      <td>White</td>\n",
       "      <td>Male</td>\n",
       "      <td>0</td>\n",
       "      <td>0</td>\n",
       "      <td>20</td>\n",
       "      <td>United-States</td>\n",
       "      <td>&lt;=50K</td>\n",
       "    </tr>\n",
       "    <tr>\n",
       "      <th>30160</th>\n",
       "      <td>52</td>\n",
       "      <td>Self-emp-inc</td>\n",
       "      <td>HS-grad</td>\n",
       "      <td>9</td>\n",
       "      <td>Married-civ-spouse</td>\n",
       "      <td>Exec-managerial</td>\n",
       "      <td>Wife</td>\n",
       "      <td>White</td>\n",
       "      <td>Female</td>\n",
       "      <td>15024</td>\n",
       "      <td>0</td>\n",
       "      <td>40</td>\n",
       "      <td>United-States</td>\n",
       "      <td>&gt;50K</td>\n",
       "    </tr>\n",
       "  </tbody>\n",
       "</table>\n",
       "</div>"
      ],
      "text/plain": [
       "       age      workclass    education  educationno        maritalstatus  \\\n",
       "30156   27        Private   Assoc-acdm           12   Married-civ-spouse   \n",
       "30157   40        Private      HS-grad            9   Married-civ-spouse   \n",
       "30158   58        Private      HS-grad            9              Widowed   \n",
       "30159   22        Private      HS-grad            9        Never-married   \n",
       "30160   52   Self-emp-inc      HS-grad            9   Married-civ-spouse   \n",
       "\n",
       "               occupation relationship    race      sex  capitalgain  \\\n",
       "30156        Tech-support         Wife   White   Female            0   \n",
       "30157   Machine-op-inspct      Husband   White     Male            0   \n",
       "30158        Adm-clerical    Unmarried   White   Female            0   \n",
       "30159        Adm-clerical    Own-child   White     Male            0   \n",
       "30160     Exec-managerial         Wife   White   Female        15024   \n",
       "\n",
       "       capitalloss  hoursperweek          native  Salary  \n",
       "30156            0            38   United-States   <=50K  \n",
       "30157            0            40   United-States    >50K  \n",
       "30158            0            40   United-States   <=50K  \n",
       "30159            0            20   United-States   <=50K  \n",
       "30160            0            40   United-States    >50K  "
      ]
     },
     "execution_count": 89,
     "metadata": {},
     "output_type": "execute_result"
    }
   ],
   "source": [
    "train_data.tail()"
   ]
  },
  {
   "cell_type": "markdown",
   "id": "a1769fd8",
   "metadata": {},
   "source": [
    "## 3.Data preprocessing"
   ]
  },
  {
   "cell_type": "code",
   "execution_count": 4,
   "id": "fd79d3f5",
   "metadata": {},
   "outputs": [
    {
     "name": "stdout",
     "output_type": "stream",
     "text": [
      "(45221, 14)\n"
     ]
    },
    {
     "data": {
      "text/html": [
       "<div>\n",
       "<style scoped>\n",
       "    .dataframe tbody tr th:only-of-type {\n",
       "        vertical-align: middle;\n",
       "    }\n",
       "\n",
       "    .dataframe tbody tr th {\n",
       "        vertical-align: top;\n",
       "    }\n",
       "\n",
       "    .dataframe thead th {\n",
       "        text-align: right;\n",
       "    }\n",
       "</style>\n",
       "<table border=\"1\" class=\"dataframe\">\n",
       "  <thead>\n",
       "    <tr style=\"text-align: right;\">\n",
       "      <th></th>\n",
       "      <th>age</th>\n",
       "      <th>workclass</th>\n",
       "      <th>education</th>\n",
       "      <th>educationno</th>\n",
       "      <th>maritalstatus</th>\n",
       "      <th>occupation</th>\n",
       "      <th>relationship</th>\n",
       "      <th>race</th>\n",
       "      <th>sex</th>\n",
       "      <th>capitalgain</th>\n",
       "      <th>capitalloss</th>\n",
       "      <th>hoursperweek</th>\n",
       "      <th>native</th>\n",
       "      <th>Salary</th>\n",
       "    </tr>\n",
       "  </thead>\n",
       "  <tbody>\n",
       "    <tr>\n",
       "      <th>0</th>\n",
       "      <td>39</td>\n",
       "      <td>State-gov</td>\n",
       "      <td>Bachelors</td>\n",
       "      <td>13</td>\n",
       "      <td>Never-married</td>\n",
       "      <td>Adm-clerical</td>\n",
       "      <td>Not-in-family</td>\n",
       "      <td>White</td>\n",
       "      <td>Male</td>\n",
       "      <td>2174</td>\n",
       "      <td>0</td>\n",
       "      <td>40</td>\n",
       "      <td>United-States</td>\n",
       "      <td>&lt;=50K</td>\n",
       "    </tr>\n",
       "    <tr>\n",
       "      <th>1</th>\n",
       "      <td>50</td>\n",
       "      <td>Self-emp-not-inc</td>\n",
       "      <td>Bachelors</td>\n",
       "      <td>13</td>\n",
       "      <td>Married-civ-spouse</td>\n",
       "      <td>Exec-managerial</td>\n",
       "      <td>Husband</td>\n",
       "      <td>White</td>\n",
       "      <td>Male</td>\n",
       "      <td>0</td>\n",
       "      <td>0</td>\n",
       "      <td>13</td>\n",
       "      <td>United-States</td>\n",
       "      <td>&lt;=50K</td>\n",
       "    </tr>\n",
       "    <tr>\n",
       "      <th>2</th>\n",
       "      <td>38</td>\n",
       "      <td>Private</td>\n",
       "      <td>HS-grad</td>\n",
       "      <td>9</td>\n",
       "      <td>Divorced</td>\n",
       "      <td>Handlers-cleaners</td>\n",
       "      <td>Not-in-family</td>\n",
       "      <td>White</td>\n",
       "      <td>Male</td>\n",
       "      <td>0</td>\n",
       "      <td>0</td>\n",
       "      <td>40</td>\n",
       "      <td>United-States</td>\n",
       "      <td>&lt;=50K</td>\n",
       "    </tr>\n",
       "    <tr>\n",
       "      <th>3</th>\n",
       "      <td>53</td>\n",
       "      <td>Private</td>\n",
       "      <td>11th</td>\n",
       "      <td>7</td>\n",
       "      <td>Married-civ-spouse</td>\n",
       "      <td>Handlers-cleaners</td>\n",
       "      <td>Husband</td>\n",
       "      <td>Black</td>\n",
       "      <td>Male</td>\n",
       "      <td>0</td>\n",
       "      <td>0</td>\n",
       "      <td>40</td>\n",
       "      <td>United-States</td>\n",
       "      <td>&lt;=50K</td>\n",
       "    </tr>\n",
       "    <tr>\n",
       "      <th>4</th>\n",
       "      <td>28</td>\n",
       "      <td>Private</td>\n",
       "      <td>Bachelors</td>\n",
       "      <td>13</td>\n",
       "      <td>Married-civ-spouse</td>\n",
       "      <td>Prof-specialty</td>\n",
       "      <td>Wife</td>\n",
       "      <td>Black</td>\n",
       "      <td>Female</td>\n",
       "      <td>0</td>\n",
       "      <td>0</td>\n",
       "      <td>40</td>\n",
       "      <td>Cuba</td>\n",
       "      <td>&lt;=50K</td>\n",
       "    </tr>\n",
       "  </tbody>\n",
       "</table>\n",
       "</div>"
      ],
      "text/plain": [
       "   age          workclass   education  educationno        maritalstatus  \\\n",
       "0   39          State-gov   Bachelors           13        Never-married   \n",
       "1   50   Self-emp-not-inc   Bachelors           13   Married-civ-spouse   \n",
       "2   38            Private     HS-grad            9             Divorced   \n",
       "3   53            Private        11th            7   Married-civ-spouse   \n",
       "4   28            Private   Bachelors           13   Married-civ-spouse   \n",
       "\n",
       "           occupation    relationship    race      sex  capitalgain  \\\n",
       "0        Adm-clerical   Not-in-family   White     Male         2174   \n",
       "1     Exec-managerial         Husband   White     Male            0   \n",
       "2   Handlers-cleaners   Not-in-family   White     Male            0   \n",
       "3   Handlers-cleaners         Husband   Black     Male            0   \n",
       "4      Prof-specialty            Wife   Black   Female            0   \n",
       "\n",
       "   capitalloss  hoursperweek          native  Salary  \n",
       "0            0            40   United-States   <=50K  \n",
       "1            0            13   United-States   <=50K  \n",
       "2            0            40   United-States   <=50K  \n",
       "3            0            40   United-States   <=50K  \n",
       "4            0            40            Cuba   <=50K  "
      ]
     },
     "execution_count": 4,
     "metadata": {},
     "output_type": "execute_result"
    }
   ],
   "source": [
    "data = [train_data, test_data]\n",
    "data= pd.concat(data)\n",
    "print(data.shape)\n",
    "data.head()"
   ]
  },
  {
   "cell_type": "code",
   "execution_count": 20,
   "id": "cf1793ee",
   "metadata": {},
   "outputs": [
    {
     "data": {
      "text/plain": [
       "age              0\n",
       "workclass        0\n",
       "education        0\n",
       "educationno      0\n",
       "maritalstatus    0\n",
       "occupation       0\n",
       "relationship     0\n",
       "race             0\n",
       "sex              0\n",
       "capitalgain      0\n",
       "capitalloss      0\n",
       "hoursperweek     0\n",
       "native           0\n",
       "Salary           0\n",
       "dtype: int64"
      ]
     },
     "execution_count": 20,
     "metadata": {},
     "output_type": "execute_result"
    }
   ],
   "source": [
    "data.isna().sum()"
   ]
  },
  {
   "cell_type": "code",
   "execution_count": 21,
   "id": "6a976d83",
   "metadata": {},
   "outputs": [
    {
     "data": {
      "text/plain": [
       "array([' State-gov', ' Self-emp-not-inc', ' Private', ' Federal-gov',\n",
       "       ' Local-gov', ' Self-emp-inc', ' Without-pay'], dtype=object)"
      ]
     },
     "execution_count": 21,
     "metadata": {},
     "output_type": "execute_result"
    }
   ],
   "source": [
    "data['workclass'].unique()"
   ]
  },
  {
   "cell_type": "code",
   "execution_count": 22,
   "id": "e2d1dbc3",
   "metadata": {},
   "outputs": [
    {
     "data": {
      "text/plain": [
       "array([' Bachelors', ' HS-grad', ' 11th', ' Masters', ' 9th',\n",
       "       ' Some-college', ' Assoc-acdm', ' 7th-8th', ' Doctorate',\n",
       "       ' Assoc-voc', ' Prof-school', ' 5th-6th', ' 10th', ' Preschool',\n",
       "       ' 12th', ' 1st-4th'], dtype=object)"
      ]
     },
     "execution_count": 22,
     "metadata": {},
     "output_type": "execute_result"
    }
   ],
   "source": [
    "data['education'].unique()"
   ]
  },
  {
   "cell_type": "code",
   "execution_count": 23,
   "id": "b23e7a27",
   "metadata": {},
   "outputs": [
    {
     "data": {
      "text/plain": [
       "array([13,  9,  7, 14,  5, 10, 12,  4, 16, 11, 15,  3,  6,  1,  8,  2])"
      ]
     },
     "execution_count": 23,
     "metadata": {},
     "output_type": "execute_result"
    }
   ],
   "source": [
    "data['educationno'].unique()"
   ]
  },
  {
   "cell_type": "code",
   "execution_count": 24,
   "id": "206d48cc",
   "metadata": {},
   "outputs": [
    {
     "data": {
      "text/plain": [
       "array([' Never-married', ' Married-civ-spouse', ' Divorced',\n",
       "       ' Married-spouse-absent', ' Separated', ' Married-AF-spouse',\n",
       "       ' Widowed'], dtype=object)"
      ]
     },
     "execution_count": 24,
     "metadata": {},
     "output_type": "execute_result"
    }
   ],
   "source": [
    "data['maritalstatus'].unique()"
   ]
  },
  {
   "cell_type": "code",
   "execution_count": 25,
   "id": "da3bc975",
   "metadata": {},
   "outputs": [
    {
     "data": {
      "text/plain": [
       "array([' Adm-clerical', ' Exec-managerial', ' Handlers-cleaners',\n",
       "       ' Prof-specialty', ' Other-service', ' Sales', ' Transport-moving',\n",
       "       ' Farming-fishing', ' Machine-op-inspct', ' Tech-support',\n",
       "       ' Craft-repair', ' Protective-serv', ' Armed-Forces',\n",
       "       ' Priv-house-serv'], dtype=object)"
      ]
     },
     "execution_count": 25,
     "metadata": {},
     "output_type": "execute_result"
    }
   ],
   "source": [
    "data['occupation'].unique()"
   ]
  },
  {
   "cell_type": "code",
   "execution_count": 5,
   "id": "5c7e191e",
   "metadata": {},
   "outputs": [
    {
     "data": {
      "text/plain": [
       "age              0\n",
       "workclass        0\n",
       "education        0\n",
       "educationno      0\n",
       "maritalstatus    0\n",
       "occupation       0\n",
       "relationship     0\n",
       "race             0\n",
       "sex              0\n",
       "capitalgain      0\n",
       "capitalloss      0\n",
       "hoursperweek     0\n",
       "native           0\n",
       "Salary           0\n",
       "dtype: int64"
      ]
     },
     "execution_count": 5,
     "metadata": {},
     "output_type": "execute_result"
    }
   ],
   "source": [
    "#Finding the special characters in the data frame \n",
    "data.isin(['?']).sum(axis=0)"
   ]
  },
  {
   "cell_type": "code",
   "execution_count": 28,
   "id": "f0f80f13",
   "metadata": {},
   "outputs": [
    {
     "data": {
      "text/plain": [
       "Index(['age', 'workclass', 'education', 'educationno', 'maritalstatus',\n",
       "       'occupation', 'relationship', 'race', 'sex', 'capitalgain',\n",
       "       'capitalloss', 'hoursperweek', 'native', 'Salary'],\n",
       "      dtype='object')"
      ]
     },
     "execution_count": 28,
     "metadata": {},
     "output_type": "execute_result"
    }
   ],
   "source": [
    "data.columns"
   ]
  },
  {
   "cell_type": "code",
   "execution_count": 61,
   "id": "b7c6f481",
   "metadata": {},
   "outputs": [
    {
     "data": {
      "text/html": [
       "<div>\n",
       "<style scoped>\n",
       "    .dataframe tbody tr th:only-of-type {\n",
       "        vertical-align: middle;\n",
       "    }\n",
       "\n",
       "    .dataframe tbody tr th {\n",
       "        vertical-align: top;\n",
       "    }\n",
       "\n",
       "    .dataframe thead th {\n",
       "        text-align: right;\n",
       "    }\n",
       "</style>\n",
       "<table border=\"1\" class=\"dataframe\">\n",
       "  <thead>\n",
       "    <tr style=\"text-align: right;\">\n",
       "      <th></th>\n",
       "      <th>age</th>\n",
       "      <th>workclass</th>\n",
       "      <th>education</th>\n",
       "      <th>maritalstatus</th>\n",
       "      <th>occupation</th>\n",
       "      <th>relationship</th>\n",
       "      <th>race</th>\n",
       "      <th>sex</th>\n",
       "      <th>capitalloss</th>\n",
       "      <th>hoursperweek</th>\n",
       "      <th>Salary</th>\n",
       "    </tr>\n",
       "  </thead>\n",
       "  <tbody>\n",
       "    <tr>\n",
       "      <th>0</th>\n",
       "      <td>39</td>\n",
       "      <td>State-gov</td>\n",
       "      <td>Bachelors</td>\n",
       "      <td>Never-married</td>\n",
       "      <td>Adm-clerical</td>\n",
       "      <td>Not-in-family</td>\n",
       "      <td>White</td>\n",
       "      <td>Male</td>\n",
       "      <td>0</td>\n",
       "      <td>40</td>\n",
       "      <td>&lt;=50K</td>\n",
       "    </tr>\n",
       "    <tr>\n",
       "      <th>1</th>\n",
       "      <td>50</td>\n",
       "      <td>Self-emp-not-inc</td>\n",
       "      <td>Bachelors</td>\n",
       "      <td>Married-civ-spouse</td>\n",
       "      <td>Exec-managerial</td>\n",
       "      <td>Husband</td>\n",
       "      <td>White</td>\n",
       "      <td>Male</td>\n",
       "      <td>0</td>\n",
       "      <td>13</td>\n",
       "      <td>&lt;=50K</td>\n",
       "    </tr>\n",
       "    <tr>\n",
       "      <th>2</th>\n",
       "      <td>38</td>\n",
       "      <td>Private</td>\n",
       "      <td>HS-grad</td>\n",
       "      <td>Divorced</td>\n",
       "      <td>Handlers-cleaners</td>\n",
       "      <td>Not-in-family</td>\n",
       "      <td>White</td>\n",
       "      <td>Male</td>\n",
       "      <td>0</td>\n",
       "      <td>40</td>\n",
       "      <td>&lt;=50K</td>\n",
       "    </tr>\n",
       "    <tr>\n",
       "      <th>3</th>\n",
       "      <td>53</td>\n",
       "      <td>Private</td>\n",
       "      <td>11th</td>\n",
       "      <td>Married-civ-spouse</td>\n",
       "      <td>Handlers-cleaners</td>\n",
       "      <td>Husband</td>\n",
       "      <td>Black</td>\n",
       "      <td>Male</td>\n",
       "      <td>0</td>\n",
       "      <td>40</td>\n",
       "      <td>&lt;=50K</td>\n",
       "    </tr>\n",
       "    <tr>\n",
       "      <th>4</th>\n",
       "      <td>28</td>\n",
       "      <td>Private</td>\n",
       "      <td>Bachelors</td>\n",
       "      <td>Married-civ-spouse</td>\n",
       "      <td>Prof-specialty</td>\n",
       "      <td>Wife</td>\n",
       "      <td>Black</td>\n",
       "      <td>Female</td>\n",
       "      <td>0</td>\n",
       "      <td>40</td>\n",
       "      <td>&lt;=50K</td>\n",
       "    </tr>\n",
       "  </tbody>\n",
       "</table>\n",
       "</div>"
      ],
      "text/plain": [
       "   age          workclass   education        maritalstatus  \\\n",
       "0   39          State-gov   Bachelors        Never-married   \n",
       "1   50   Self-emp-not-inc   Bachelors   Married-civ-spouse   \n",
       "2   38            Private     HS-grad             Divorced   \n",
       "3   53            Private        11th   Married-civ-spouse   \n",
       "4   28            Private   Bachelors   Married-civ-spouse   \n",
       "\n",
       "           occupation    relationship    race      sex  capitalloss  \\\n",
       "0        Adm-clerical   Not-in-family   White     Male            0   \n",
       "1     Exec-managerial         Husband   White     Male            0   \n",
       "2   Handlers-cleaners   Not-in-family   White     Male            0   \n",
       "3   Handlers-cleaners         Husband   Black     Male            0   \n",
       "4      Prof-specialty            Wife   Black   Female            0   \n",
       "\n",
       "   hoursperweek  Salary  \n",
       "0            40   <=50K  \n",
       "1            13   <=50K  \n",
       "2            40   <=50K  \n",
       "3            40   <=50K  \n",
       "4            40   <=50K  "
      ]
     },
     "execution_count": 61,
     "metadata": {},
     "output_type": "execute_result"
    }
   ],
   "source": [
    "#data2 = data.drop(['age','educationno','capitalgain','native'],axis=1)\n",
    "data2 = data.drop(['educationno','capitalgain','native'],axis=1)\n",
    "data2.head()"
   ]
  },
  {
   "cell_type": "code",
   "execution_count": 62,
   "id": "23dd8702",
   "metadata": {},
   "outputs": [
    {
     "data": {
      "text/plain": [
       "array([' <=50K', ' >50K'], dtype=object)"
      ]
     },
     "execution_count": 62,
     "metadata": {},
     "output_type": "execute_result"
    }
   ],
   "source": [
    "data2['Salary'].unique()"
   ]
  },
  {
   "cell_type": "code",
   "execution_count": 63,
   "id": "acef9127",
   "metadata": {},
   "outputs": [
    {
     "data": {
      "text/html": [
       "<div>\n",
       "<style scoped>\n",
       "    .dataframe tbody tr th:only-of-type {\n",
       "        vertical-align: middle;\n",
       "    }\n",
       "\n",
       "    .dataframe tbody tr th {\n",
       "        vertical-align: top;\n",
       "    }\n",
       "\n",
       "    .dataframe thead th {\n",
       "        text-align: right;\n",
       "    }\n",
       "</style>\n",
       "<table border=\"1\" class=\"dataframe\">\n",
       "  <thead>\n",
       "    <tr style=\"text-align: right;\">\n",
       "      <th></th>\n",
       "      <th>age</th>\n",
       "      <th>workclass</th>\n",
       "      <th>education</th>\n",
       "      <th>maritalstatus</th>\n",
       "      <th>occupation</th>\n",
       "      <th>relationship</th>\n",
       "      <th>race</th>\n",
       "      <th>sex</th>\n",
       "      <th>capitalloss</th>\n",
       "      <th>hoursperweek</th>\n",
       "      <th>Salary</th>\n",
       "    </tr>\n",
       "  </thead>\n",
       "  <tbody>\n",
       "    <tr>\n",
       "      <th>0</th>\n",
       "      <td>39</td>\n",
       "      <td>State-gov</td>\n",
       "      <td>Bachelors</td>\n",
       "      <td>Never-married</td>\n",
       "      <td>Adm-clerical</td>\n",
       "      <td>Not-in-family</td>\n",
       "      <td>White</td>\n",
       "      <td>Male</td>\n",
       "      <td>0</td>\n",
       "      <td>40</td>\n",
       "      <td>0</td>\n",
       "    </tr>\n",
       "    <tr>\n",
       "      <th>1</th>\n",
       "      <td>50</td>\n",
       "      <td>Self-emp-not-inc</td>\n",
       "      <td>Bachelors</td>\n",
       "      <td>Married-civ-spouse</td>\n",
       "      <td>Exec-managerial</td>\n",
       "      <td>Husband</td>\n",
       "      <td>White</td>\n",
       "      <td>Male</td>\n",
       "      <td>0</td>\n",
       "      <td>13</td>\n",
       "      <td>0</td>\n",
       "    </tr>\n",
       "    <tr>\n",
       "      <th>2</th>\n",
       "      <td>38</td>\n",
       "      <td>Private</td>\n",
       "      <td>HS-grad</td>\n",
       "      <td>Divorced</td>\n",
       "      <td>Handlers-cleaners</td>\n",
       "      <td>Not-in-family</td>\n",
       "      <td>White</td>\n",
       "      <td>Male</td>\n",
       "      <td>0</td>\n",
       "      <td>40</td>\n",
       "      <td>0</td>\n",
       "    </tr>\n",
       "    <tr>\n",
       "      <th>3</th>\n",
       "      <td>53</td>\n",
       "      <td>Private</td>\n",
       "      <td>11th</td>\n",
       "      <td>Married-civ-spouse</td>\n",
       "      <td>Handlers-cleaners</td>\n",
       "      <td>Husband</td>\n",
       "      <td>Black</td>\n",
       "      <td>Male</td>\n",
       "      <td>0</td>\n",
       "      <td>40</td>\n",
       "      <td>0</td>\n",
       "    </tr>\n",
       "    <tr>\n",
       "      <th>4</th>\n",
       "      <td>28</td>\n",
       "      <td>Private</td>\n",
       "      <td>Bachelors</td>\n",
       "      <td>Married-civ-spouse</td>\n",
       "      <td>Prof-specialty</td>\n",
       "      <td>Wife</td>\n",
       "      <td>Black</td>\n",
       "      <td>Female</td>\n",
       "      <td>0</td>\n",
       "      <td>40</td>\n",
       "      <td>0</td>\n",
       "    </tr>\n",
       "  </tbody>\n",
       "</table>\n",
       "</div>"
      ],
      "text/plain": [
       "   age          workclass   education        maritalstatus  \\\n",
       "0   39          State-gov   Bachelors        Never-married   \n",
       "1   50   Self-emp-not-inc   Bachelors   Married-civ-spouse   \n",
       "2   38            Private     HS-grad             Divorced   \n",
       "3   53            Private        11th   Married-civ-spouse   \n",
       "4   28            Private   Bachelors   Married-civ-spouse   \n",
       "\n",
       "           occupation    relationship    race      sex  capitalloss  \\\n",
       "0        Adm-clerical   Not-in-family   White     Male            0   \n",
       "1     Exec-managerial         Husband   White     Male            0   \n",
       "2   Handlers-cleaners   Not-in-family   White     Male            0   \n",
       "3   Handlers-cleaners         Husband   Black     Male            0   \n",
       "4      Prof-specialty            Wife   Black   Female            0   \n",
       "\n",
       "   hoursperweek  Salary  \n",
       "0            40       0  \n",
       "1            13       0  \n",
       "2            40       0  \n",
       "3            40       0  \n",
       "4            40       0  "
      ]
     },
     "execution_count": 63,
     "metadata": {},
     "output_type": "execute_result"
    }
   ],
   "source": [
    "data2['Salary'] = data2['Salary'].apply( lambda x: 0 if x == ' <=50K' else 1).astype('int')\n",
    "data2.head()"
   ]
  },
  {
   "cell_type": "code",
   "execution_count": 41,
   "id": "d5940e04",
   "metadata": {},
   "outputs": [
    {
     "data": {
      "text/plain": [
       "array([0, 1])"
      ]
     },
     "execution_count": 41,
     "metadata": {},
     "output_type": "execute_result"
    }
   ],
   "source": [
    "data2['Salary'].unique()"
   ]
  },
  {
   "cell_type": "code",
   "execution_count": 42,
   "id": "3b9f557a",
   "metadata": {},
   "outputs": [
    {
     "data": {
      "text/plain": [
       "workclass        object\n",
       "education        object\n",
       "maritalstatus    object\n",
       "occupation       object\n",
       "relationship     object\n",
       "race             object\n",
       "sex              object\n",
       "capitalloss       int64\n",
       "hoursperweek      int64\n",
       "Salary            int64\n",
       "dtype: object"
      ]
     },
     "execution_count": 42,
     "metadata": {},
     "output_type": "execute_result"
    }
   ],
   "source": [
    "data2.dtypes"
   ]
  },
  {
   "cell_type": "code",
   "execution_count": 64,
   "id": "7299f163",
   "metadata": {},
   "outputs": [
    {
     "data": {
      "text/html": [
       "<div>\n",
       "<style scoped>\n",
       "    .dataframe tbody tr th:only-of-type {\n",
       "        vertical-align: middle;\n",
       "    }\n",
       "\n",
       "    .dataframe tbody tr th {\n",
       "        vertical-align: top;\n",
       "    }\n",
       "\n",
       "    .dataframe thead th {\n",
       "        text-align: right;\n",
       "    }\n",
       "</style>\n",
       "<table border=\"1\" class=\"dataframe\">\n",
       "  <thead>\n",
       "    <tr style=\"text-align: right;\">\n",
       "      <th></th>\n",
       "      <th>age</th>\n",
       "      <th>workclass</th>\n",
       "      <th>education</th>\n",
       "      <th>maritalstatus</th>\n",
       "      <th>occupation</th>\n",
       "      <th>relationship</th>\n",
       "      <th>race</th>\n",
       "      <th>sex</th>\n",
       "      <th>capitalloss</th>\n",
       "      <th>hoursperweek</th>\n",
       "      <th>Salary</th>\n",
       "    </tr>\n",
       "  </thead>\n",
       "  <tbody>\n",
       "    <tr>\n",
       "      <th>0</th>\n",
       "      <td>39</td>\n",
       "      <td>5</td>\n",
       "      <td>Bachelors</td>\n",
       "      <td>Never-married</td>\n",
       "      <td>Adm-clerical</td>\n",
       "      <td>Not-in-family</td>\n",
       "      <td>White</td>\n",
       "      <td>Male</td>\n",
       "      <td>0</td>\n",
       "      <td>40</td>\n",
       "      <td>0</td>\n",
       "    </tr>\n",
       "    <tr>\n",
       "      <th>1</th>\n",
       "      <td>50</td>\n",
       "      <td>4</td>\n",
       "      <td>Bachelors</td>\n",
       "      <td>Married-civ-spouse</td>\n",
       "      <td>Exec-managerial</td>\n",
       "      <td>Husband</td>\n",
       "      <td>White</td>\n",
       "      <td>Male</td>\n",
       "      <td>0</td>\n",
       "      <td>13</td>\n",
       "      <td>0</td>\n",
       "    </tr>\n",
       "    <tr>\n",
       "      <th>2</th>\n",
       "      <td>38</td>\n",
       "      <td>2</td>\n",
       "      <td>HS-grad</td>\n",
       "      <td>Divorced</td>\n",
       "      <td>Handlers-cleaners</td>\n",
       "      <td>Not-in-family</td>\n",
       "      <td>White</td>\n",
       "      <td>Male</td>\n",
       "      <td>0</td>\n",
       "      <td>40</td>\n",
       "      <td>0</td>\n",
       "    </tr>\n",
       "    <tr>\n",
       "      <th>3</th>\n",
       "      <td>53</td>\n",
       "      <td>2</td>\n",
       "      <td>11th</td>\n",
       "      <td>Married-civ-spouse</td>\n",
       "      <td>Handlers-cleaners</td>\n",
       "      <td>Husband</td>\n",
       "      <td>Black</td>\n",
       "      <td>Male</td>\n",
       "      <td>0</td>\n",
       "      <td>40</td>\n",
       "      <td>0</td>\n",
       "    </tr>\n",
       "    <tr>\n",
       "      <th>4</th>\n",
       "      <td>28</td>\n",
       "      <td>2</td>\n",
       "      <td>Bachelors</td>\n",
       "      <td>Married-civ-spouse</td>\n",
       "      <td>Prof-specialty</td>\n",
       "      <td>Wife</td>\n",
       "      <td>Black</td>\n",
       "      <td>Female</td>\n",
       "      <td>0</td>\n",
       "      <td>40</td>\n",
       "      <td>0</td>\n",
       "    </tr>\n",
       "  </tbody>\n",
       "</table>\n",
       "</div>"
      ],
      "text/plain": [
       "   age  workclass   education        maritalstatus          occupation  \\\n",
       "0   39          5   Bachelors        Never-married        Adm-clerical   \n",
       "1   50          4   Bachelors   Married-civ-spouse     Exec-managerial   \n",
       "2   38          2     HS-grad             Divorced   Handlers-cleaners   \n",
       "3   53          2        11th   Married-civ-spouse   Handlers-cleaners   \n",
       "4   28          2   Bachelors   Married-civ-spouse      Prof-specialty   \n",
       "\n",
       "     relationship    race      sex  capitalloss  hoursperweek  Salary  \n",
       "0   Not-in-family   White     Male            0            40       0  \n",
       "1         Husband   White     Male            0            13       0  \n",
       "2   Not-in-family   White     Male            0            40       0  \n",
       "3         Husband   Black     Male            0            40       0  \n",
       "4            Wife   Black   Female            0            40       0  "
      ]
     },
     "execution_count": 64,
     "metadata": {},
     "output_type": "execute_result"
    }
   ],
   "source": [
    "lbl_encoder = LabelEncoder()\n",
    "data2['workclass'] = lbl_encoder.fit_transform(data2['workclass'])\n",
    "data2.head()"
   ]
  },
  {
   "cell_type": "code",
   "execution_count": 65,
   "id": "bc52217d",
   "metadata": {},
   "outputs": [
    {
     "data": {
      "text/html": [
       "<div>\n",
       "<style scoped>\n",
       "    .dataframe tbody tr th:only-of-type {\n",
       "        vertical-align: middle;\n",
       "    }\n",
       "\n",
       "    .dataframe tbody tr th {\n",
       "        vertical-align: top;\n",
       "    }\n",
       "\n",
       "    .dataframe thead th {\n",
       "        text-align: right;\n",
       "    }\n",
       "</style>\n",
       "<table border=\"1\" class=\"dataframe\">\n",
       "  <thead>\n",
       "    <tr style=\"text-align: right;\">\n",
       "      <th></th>\n",
       "      <th>age</th>\n",
       "      <th>workclass</th>\n",
       "      <th>education</th>\n",
       "      <th>maritalstatus</th>\n",
       "      <th>occupation</th>\n",
       "      <th>relationship</th>\n",
       "      <th>race</th>\n",
       "      <th>sex</th>\n",
       "      <th>capitalloss</th>\n",
       "      <th>hoursperweek</th>\n",
       "      <th>Salary</th>\n",
       "    </tr>\n",
       "  </thead>\n",
       "  <tbody>\n",
       "    <tr>\n",
       "      <th>0</th>\n",
       "      <td>39</td>\n",
       "      <td>5</td>\n",
       "      <td>9</td>\n",
       "      <td>Never-married</td>\n",
       "      <td>Adm-clerical</td>\n",
       "      <td>Not-in-family</td>\n",
       "      <td>White</td>\n",
       "      <td>Male</td>\n",
       "      <td>0</td>\n",
       "      <td>40</td>\n",
       "      <td>0</td>\n",
       "    </tr>\n",
       "    <tr>\n",
       "      <th>1</th>\n",
       "      <td>50</td>\n",
       "      <td>4</td>\n",
       "      <td>9</td>\n",
       "      <td>Married-civ-spouse</td>\n",
       "      <td>Exec-managerial</td>\n",
       "      <td>Husband</td>\n",
       "      <td>White</td>\n",
       "      <td>Male</td>\n",
       "      <td>0</td>\n",
       "      <td>13</td>\n",
       "      <td>0</td>\n",
       "    </tr>\n",
       "    <tr>\n",
       "      <th>2</th>\n",
       "      <td>38</td>\n",
       "      <td>2</td>\n",
       "      <td>11</td>\n",
       "      <td>Divorced</td>\n",
       "      <td>Handlers-cleaners</td>\n",
       "      <td>Not-in-family</td>\n",
       "      <td>White</td>\n",
       "      <td>Male</td>\n",
       "      <td>0</td>\n",
       "      <td>40</td>\n",
       "      <td>0</td>\n",
       "    </tr>\n",
       "    <tr>\n",
       "      <th>3</th>\n",
       "      <td>53</td>\n",
       "      <td>2</td>\n",
       "      <td>1</td>\n",
       "      <td>Married-civ-spouse</td>\n",
       "      <td>Handlers-cleaners</td>\n",
       "      <td>Husband</td>\n",
       "      <td>Black</td>\n",
       "      <td>Male</td>\n",
       "      <td>0</td>\n",
       "      <td>40</td>\n",
       "      <td>0</td>\n",
       "    </tr>\n",
       "    <tr>\n",
       "      <th>4</th>\n",
       "      <td>28</td>\n",
       "      <td>2</td>\n",
       "      <td>9</td>\n",
       "      <td>Married-civ-spouse</td>\n",
       "      <td>Prof-specialty</td>\n",
       "      <td>Wife</td>\n",
       "      <td>Black</td>\n",
       "      <td>Female</td>\n",
       "      <td>0</td>\n",
       "      <td>40</td>\n",
       "      <td>0</td>\n",
       "    </tr>\n",
       "  </tbody>\n",
       "</table>\n",
       "</div>"
      ],
      "text/plain": [
       "   age  workclass  education        maritalstatus          occupation  \\\n",
       "0   39          5          9        Never-married        Adm-clerical   \n",
       "1   50          4          9   Married-civ-spouse     Exec-managerial   \n",
       "2   38          2         11             Divorced   Handlers-cleaners   \n",
       "3   53          2          1   Married-civ-spouse   Handlers-cleaners   \n",
       "4   28          2          9   Married-civ-spouse      Prof-specialty   \n",
       "\n",
       "     relationship    race      sex  capitalloss  hoursperweek  Salary  \n",
       "0   Not-in-family   White     Male            0            40       0  \n",
       "1         Husband   White     Male            0            13       0  \n",
       "2   Not-in-family   White     Male            0            40       0  \n",
       "3         Husband   Black     Male            0            40       0  \n",
       "4            Wife   Black   Female            0            40       0  "
      ]
     },
     "execution_count": 65,
     "metadata": {},
     "output_type": "execute_result"
    }
   ],
   "source": [
    "data2['education'] = lbl_encoder.fit_transform(data2['education'])\n",
    "data2.head()"
   ]
  },
  {
   "cell_type": "code",
   "execution_count": 66,
   "id": "850ab11e",
   "metadata": {},
   "outputs": [
    {
     "data": {
      "text/html": [
       "<div>\n",
       "<style scoped>\n",
       "    .dataframe tbody tr th:only-of-type {\n",
       "        vertical-align: middle;\n",
       "    }\n",
       "\n",
       "    .dataframe tbody tr th {\n",
       "        vertical-align: top;\n",
       "    }\n",
       "\n",
       "    .dataframe thead th {\n",
       "        text-align: right;\n",
       "    }\n",
       "</style>\n",
       "<table border=\"1\" class=\"dataframe\">\n",
       "  <thead>\n",
       "    <tr style=\"text-align: right;\">\n",
       "      <th></th>\n",
       "      <th>age</th>\n",
       "      <th>workclass</th>\n",
       "      <th>education</th>\n",
       "      <th>maritalstatus</th>\n",
       "      <th>occupation</th>\n",
       "      <th>relationship</th>\n",
       "      <th>race</th>\n",
       "      <th>sex</th>\n",
       "      <th>capitalloss</th>\n",
       "      <th>hoursperweek</th>\n",
       "      <th>Salary</th>\n",
       "    </tr>\n",
       "  </thead>\n",
       "  <tbody>\n",
       "    <tr>\n",
       "      <th>0</th>\n",
       "      <td>39</td>\n",
       "      <td>5</td>\n",
       "      <td>9</td>\n",
       "      <td>4</td>\n",
       "      <td>0</td>\n",
       "      <td>1</td>\n",
       "      <td>4</td>\n",
       "      <td>1</td>\n",
       "      <td>0</td>\n",
       "      <td>40</td>\n",
       "      <td>0</td>\n",
       "    </tr>\n",
       "    <tr>\n",
       "      <th>1</th>\n",
       "      <td>50</td>\n",
       "      <td>4</td>\n",
       "      <td>9</td>\n",
       "      <td>2</td>\n",
       "      <td>3</td>\n",
       "      <td>0</td>\n",
       "      <td>4</td>\n",
       "      <td>1</td>\n",
       "      <td>0</td>\n",
       "      <td>13</td>\n",
       "      <td>0</td>\n",
       "    </tr>\n",
       "    <tr>\n",
       "      <th>2</th>\n",
       "      <td>38</td>\n",
       "      <td>2</td>\n",
       "      <td>11</td>\n",
       "      <td>0</td>\n",
       "      <td>5</td>\n",
       "      <td>1</td>\n",
       "      <td>4</td>\n",
       "      <td>1</td>\n",
       "      <td>0</td>\n",
       "      <td>40</td>\n",
       "      <td>0</td>\n",
       "    </tr>\n",
       "    <tr>\n",
       "      <th>3</th>\n",
       "      <td>53</td>\n",
       "      <td>2</td>\n",
       "      <td>1</td>\n",
       "      <td>2</td>\n",
       "      <td>5</td>\n",
       "      <td>0</td>\n",
       "      <td>2</td>\n",
       "      <td>1</td>\n",
       "      <td>0</td>\n",
       "      <td>40</td>\n",
       "      <td>0</td>\n",
       "    </tr>\n",
       "    <tr>\n",
       "      <th>4</th>\n",
       "      <td>28</td>\n",
       "      <td>2</td>\n",
       "      <td>9</td>\n",
       "      <td>2</td>\n",
       "      <td>9</td>\n",
       "      <td>5</td>\n",
       "      <td>2</td>\n",
       "      <td>0</td>\n",
       "      <td>0</td>\n",
       "      <td>40</td>\n",
       "      <td>0</td>\n",
       "    </tr>\n",
       "  </tbody>\n",
       "</table>\n",
       "</div>"
      ],
      "text/plain": [
       "   age  workclass  education  maritalstatus  occupation  relationship  race  \\\n",
       "0   39          5          9              4           0             1     4   \n",
       "1   50          4          9              2           3             0     4   \n",
       "2   38          2         11              0           5             1     4   \n",
       "3   53          2          1              2           5             0     2   \n",
       "4   28          2          9              2           9             5     2   \n",
       "\n",
       "   sex  capitalloss  hoursperweek  Salary  \n",
       "0    1            0            40       0  \n",
       "1    1            0            13       0  \n",
       "2    1            0            40       0  \n",
       "3    1            0            40       0  \n",
       "4    0            0            40       0  "
      ]
     },
     "execution_count": 66,
     "metadata": {},
     "output_type": "execute_result"
    }
   ],
   "source": [
    "data2['maritalstatus'] = lbl_encoder.fit_transform(data2['maritalstatus'])\n",
    "data2['occupation'] = lbl_encoder.fit_transform(data2['occupation'])\n",
    "data2['relationship'] = lbl_encoder.fit_transform(data2['relationship'])\n",
    "data2['race'] = lbl_encoder.fit_transform(data2['race'])\n",
    "data2['sex'] = lbl_encoder.fit_transform(data2['sex'])\n",
    "data2.head()"
   ]
  },
  {
   "cell_type": "markdown",
   "id": "7fe1154e",
   "metadata": {},
   "source": [
    "### Data vizualization"
   ]
  },
  {
   "cell_type": "code",
   "execution_count": 13,
   "id": "847fcda3",
   "metadata": {},
   "outputs": [
    {
     "data": {
      "text/plain": [
       "<AxesSubplot:xlabel='education'>"
      ]
     },
     "execution_count": 13,
     "metadata": {},
     "output_type": "execute_result"
    },
    {
     "data": {
      "image/png": "[encoded data removed]",
      "text/plain": [
       "<Figure size 432x288 with 1 Axes>"
      ]
     },
     "metadata": {
      "needs_background": "light"
     },
     "output_type": "display_data"
    }
   ],
   "source": [
    "data2.groupby('education').Salary.mean().plot(kind='bar')"
   ]
  },
  {
   "cell_type": "markdown",
   "id": "90ada9c3",
   "metadata": {},
   "source": [
    "**Adults with an educational background of Prof-school (10) and 12th (14) will have a better income and it is likely possible that their income is higher than 50K.**"
   ]
  },
  {
   "cell_type": "code",
   "execution_count": 14,
   "id": "62c7e1e3",
   "metadata": {},
   "outputs": [
    {
     "data": {
      "text/plain": [
       "<AxesSubplot:xlabel='occupation'>"
      ]
     },
     "execution_count": 14,
     "metadata": {},
     "output_type": "execute_result"
    },
    {
     "data": {
      "image/png": "[encoded data removed]",
      "text/plain": [
       "<Figure size 432x288 with 1 Axes>"
      ]
     },
     "metadata": {
      "needs_background": "light"
     },
     "output_type": "display_data"
    }
   ],
   "source": [
    "data2.groupby('occupation').Salary.mean().plot(kind='bar')"
   ]
  },
  {
   "cell_type": "markdown",
   "id": "d3e951aa",
   "metadata": {},
   "source": [
    "**Our data suggest that people with occupation Prof-specialty (5) and Tech-support (9) will have a better chance of earning an income of more than 50K.**"
   ]
  },
  {
   "cell_type": "code",
   "execution_count": 62,
   "id": "9c2f319e",
   "metadata": {},
   "outputs": [
    {
     "data": {
      "text/plain": [
       "<AxesSubplot:xlabel='relationship'>"
      ]
     },
     "execution_count": 62,
     "metadata": {},
     "output_type": "execute_result"
    },
    {
     "data": {
      "image/png": "[encoded data removed]",
      "text/plain": [
       "<Figure size 432x288 with 1 Axes>"
      ]
     },
     "metadata": {
      "needs_background": "light"
     },
     "output_type": "display_data"
    }
   ],
   "source": [
    "data2.groupby('relationship').Salary.mean().plot(kind='bar')"
   ]
  },
  {
   "cell_type": "markdown",
   "id": "92c3c464",
   "metadata": {},
   "source": [
    "**relationship chart shows us that Not-in-family (0) and Other-relative (5) has a higher income.\n",
    "A married couple would most likely earn >50K.**"
   ]
  },
  {
   "cell_type": "code",
   "execution_count": 60,
   "id": "56203c9d",
   "metadata": {},
   "outputs": [
    {
     "data": {
      "text/plain": [
       "<AxesSubplot:xlabel='maritalstatus'>"
      ]
     },
     "execution_count": 60,
     "metadata": {},
     "output_type": "execute_result"
    },
    {
     "data": {
      "image/png": "[encoded data removed]",
      "text/plain": [
       "<Figure size 432x288 with 1 Axes>"
      ]
     },
     "metadata": {
      "needs_background": "light"
     },
     "output_type": "display_data"
    }
   ],
   "source": [
    "data2.groupby('maritalstatus').Salary.mean().plot(kind='bar')"
   ]
  },
  {
   "cell_type": "code",
   "execution_count": 61,
   "id": "c50cc2a5",
   "metadata": {},
   "outputs": [
    {
     "data": {
      "text/plain": [
       "<AxesSubplot:xlabel='workclass'>"
      ]
     },
     "execution_count": 61,
     "metadata": {},
     "output_type": "execute_result"
    },
    {
     "data": {
      "image/png": "[encoded data removed]",
      "text/plain": [
       "<Figure size 432x288 with 1 Axes>"
      ]
     },
     "metadata": {
      "needs_background": "light"
     },
     "output_type": "display_data"
    }
   ],
   "source": [
    "data2.groupby('workclass').Salary.mean().plot(kind='bar')"
   ]
  },
  {
   "cell_type": "code",
   "execution_count": 63,
   "id": "6c67225f",
   "metadata": {},
   "outputs": [
    {
     "data": {
      "text/plain": [
       "<AxesSubplot:xlabel='race'>"
      ]
     },
     "execution_count": 63,
     "metadata": {},
     "output_type": "execute_result"
    },
    {
     "data": {
      "image/png": "[encoded data removed]",
      "text/plain": [
       "<Figure size 432x288 with 1 Axes>"
      ]
     },
     "metadata": {
      "needs_background": "light"
     },
     "output_type": "display_data"
    }
   ],
   "source": [
    "data2.groupby('race').Salary.mean().plot(kind='bar')"
   ]
  },
  {
   "cell_type": "markdown",
   "id": "6dc20fea",
   "metadata": {},
   "source": [
    "**As per the data, an Black (1) or a Other (4) have more chances of earning more than 50K.**"
   ]
  },
  {
   "cell_type": "code",
   "execution_count": 64,
   "id": "b67f8b1f",
   "metadata": {},
   "outputs": [
    {
     "data": {
      "text/plain": [
       "<AxesSubplot:xlabel='sex'>"
      ]
     },
     "execution_count": 64,
     "metadata": {},
     "output_type": "execute_result"
    },
    {
     "data": {
      "image/png": "[encoded data removed]",
      "text/plain": [
       "<Figure size 432x288 with 1 Axes>"
      ]
     },
     "metadata": {
      "needs_background": "light"
     },
     "output_type": "display_data"
    }
   ],
   "source": [
    "data2.groupby('sex').Salary.mean().plot(kind='bar')"
   ]
  },
  {
   "cell_type": "markdown",
   "id": "f43b1e50",
   "metadata": {},
   "source": [
    "**The sex bar chart provides us some useful insight into the data that Female (1) \n",
    "are more likely to have a higher income.**"
   ]
  },
  {
   "cell_type": "markdown",
   "id": "f0fe7204",
   "metadata": {},
   "source": [
    "## spliting X,y"
   ]
  },
  {
   "cell_type": "code",
   "execution_count": 67,
   "id": "f46ae873",
   "metadata": {},
   "outputs": [
    {
     "data": {
      "text/plain": [
       "age              0\n",
       "workclass        0\n",
       "education        0\n",
       "maritalstatus    0\n",
       "occupation       0\n",
       "relationship     0\n",
       "race             0\n",
       "sex              0\n",
       "capitalloss      0\n",
       "hoursperweek     0\n",
       "Salary           0\n",
       "dtype: int64"
      ]
     },
     "execution_count": 67,
     "metadata": {},
     "output_type": "execute_result"
    }
   ],
   "source": [
    "data2.isna().sum()"
   ]
  },
  {
   "cell_type": "code",
   "execution_count": 173,
   "id": "bd2b27d8",
   "metadata": {},
   "outputs": [
    {
     "data": {
      "text/html": [
       "<div>\n",
       "<style scoped>\n",
       "    .dataframe tbody tr th:only-of-type {\n",
       "        vertical-align: middle;\n",
       "    }\n",
       "\n",
       "    .dataframe tbody tr th {\n",
       "        vertical-align: top;\n",
       "    }\n",
       "\n",
       "    .dataframe thead th {\n",
       "        text-align: right;\n",
       "    }\n",
       "</style>\n",
       "<table border=\"1\" class=\"dataframe\">\n",
       "  <thead>\n",
       "    <tr style=\"text-align: right;\">\n",
       "      <th></th>\n",
       "      <th>age</th>\n",
       "      <th>workclass</th>\n",
       "      <th>education</th>\n",
       "      <th>maritalstatus</th>\n",
       "      <th>occupation</th>\n",
       "      <th>relationship</th>\n",
       "      <th>race</th>\n",
       "      <th>sex</th>\n",
       "      <th>capitalloss</th>\n",
       "      <th>hoursperweek</th>\n",
       "    </tr>\n",
       "  </thead>\n",
       "  <tbody>\n",
       "    <tr>\n",
       "      <th>0</th>\n",
       "      <td>39</td>\n",
       "      <td>5</td>\n",
       "      <td>9</td>\n",
       "      <td>4</td>\n",
       "      <td>0</td>\n",
       "      <td>1</td>\n",
       "      <td>4</td>\n",
       "      <td>1</td>\n",
       "      <td>0</td>\n",
       "      <td>40</td>\n",
       "    </tr>\n",
       "    <tr>\n",
       "      <th>1</th>\n",
       "      <td>50</td>\n",
       "      <td>4</td>\n",
       "      <td>9</td>\n",
       "      <td>2</td>\n",
       "      <td>3</td>\n",
       "      <td>0</td>\n",
       "      <td>4</td>\n",
       "      <td>1</td>\n",
       "      <td>0</td>\n",
       "      <td>13</td>\n",
       "    </tr>\n",
       "    <tr>\n",
       "      <th>2</th>\n",
       "      <td>38</td>\n",
       "      <td>2</td>\n",
       "      <td>11</td>\n",
       "      <td>0</td>\n",
       "      <td>5</td>\n",
       "      <td>1</td>\n",
       "      <td>4</td>\n",
       "      <td>1</td>\n",
       "      <td>0</td>\n",
       "      <td>40</td>\n",
       "    </tr>\n",
       "    <tr>\n",
       "      <th>3</th>\n",
       "      <td>53</td>\n",
       "      <td>2</td>\n",
       "      <td>1</td>\n",
       "      <td>2</td>\n",
       "      <td>5</td>\n",
       "      <td>0</td>\n",
       "      <td>2</td>\n",
       "      <td>1</td>\n",
       "      <td>0</td>\n",
       "      <td>40</td>\n",
       "    </tr>\n",
       "    <tr>\n",
       "      <th>4</th>\n",
       "      <td>28</td>\n",
       "      <td>2</td>\n",
       "      <td>9</td>\n",
       "      <td>2</td>\n",
       "      <td>9</td>\n",
       "      <td>5</td>\n",
       "      <td>2</td>\n",
       "      <td>0</td>\n",
       "      <td>0</td>\n",
       "      <td>40</td>\n",
       "    </tr>\n",
       "  </tbody>\n",
       "</table>\n",
       "</div>"
      ],
      "text/plain": [
       "   age  workclass  education  maritalstatus  occupation  relationship  race  \\\n",
       "0   39          5          9              4           0             1     4   \n",
       "1   50          4          9              2           3             0     4   \n",
       "2   38          2         11              0           5             1     4   \n",
       "3   53          2          1              2           5             0     2   \n",
       "4   28          2          9              2           9             5     2   \n",
       "\n",
       "   sex  capitalloss  hoursperweek  \n",
       "0    1            0            40  \n",
       "1    1            0            13  \n",
       "2    1            0            40  \n",
       "3    1            0            40  \n",
       "4    0            0            40  "
      ]
     },
     "execution_count": 173,
     "metadata": {},
     "output_type": "execute_result"
    }
   ],
   "source": [
    "X = data2.drop(labels='Salary',axis=1)\n",
    "y = data2[['Salary']]\n",
    "X.head()"
   ]
  },
  {
   "cell_type": "code",
   "execution_count": 69,
   "id": "0da58114",
   "metadata": {},
   "outputs": [
    {
     "data": {
      "text/html": [
       "<div>\n",
       "<style scoped>\n",
       "    .dataframe tbody tr th:only-of-type {\n",
       "        vertical-align: middle;\n",
       "    }\n",
       "\n",
       "    .dataframe tbody tr th {\n",
       "        vertical-align: top;\n",
       "    }\n",
       "\n",
       "    .dataframe thead th {\n",
       "        text-align: right;\n",
       "    }\n",
       "</style>\n",
       "<table border=\"1\" class=\"dataframe\">\n",
       "  <thead>\n",
       "    <tr style=\"text-align: right;\">\n",
       "      <th></th>\n",
       "      <th>Salary</th>\n",
       "    </tr>\n",
       "  </thead>\n",
       "  <tbody>\n",
       "    <tr>\n",
       "      <th>0</th>\n",
       "      <td>0</td>\n",
       "    </tr>\n",
       "    <tr>\n",
       "      <th>1</th>\n",
       "      <td>0</td>\n",
       "    </tr>\n",
       "    <tr>\n",
       "      <th>2</th>\n",
       "      <td>0</td>\n",
       "    </tr>\n",
       "    <tr>\n",
       "      <th>3</th>\n",
       "      <td>0</td>\n",
       "    </tr>\n",
       "    <tr>\n",
       "      <th>4</th>\n",
       "      <td>0</td>\n",
       "    </tr>\n",
       "  </tbody>\n",
       "</table>\n",
       "</div>"
      ],
      "text/plain": [
       "   Salary\n",
       "0       0\n",
       "1       0\n",
       "2       0\n",
       "3       0\n",
       "4       0"
      ]
     },
     "execution_count": 69,
     "metadata": {},
     "output_type": "execute_result"
    }
   ],
   "source": [
    "y.head()"
   ]
  },
  {
   "cell_type": "markdown",
   "id": "2e26a1f2",
   "metadata": {},
   "source": [
    "### scaling X"
   ]
  },
  {
   "cell_type": "code",
   "execution_count": 174,
   "id": "fc19c240",
   "metadata": {},
   "outputs": [],
   "source": [
    "std_sclr = StandardScaler()\n",
    "X = std_sclr.fit_transform(X)"
   ]
  },
  {
   "cell_type": "markdown",
   "id": "753b016f",
   "metadata": {},
   "source": [
    "## Train test split"
   ]
  },
  {
   "cell_type": "code",
   "execution_count": 175,
   "id": "51a84a8c",
   "metadata": {},
   "outputs": [
    {
     "name": "stdout",
     "output_type": "stream",
     "text": [
      "(30161, 10)\n"
     ]
    },
    {
     "data": {
      "text/html": [
       "<div>\n",
       "<style scoped>\n",
       "    .dataframe tbody tr th:only-of-type {\n",
       "        vertical-align: middle;\n",
       "    }\n",
       "\n",
       "    .dataframe tbody tr th {\n",
       "        vertical-align: top;\n",
       "    }\n",
       "\n",
       "    .dataframe thead th {\n",
       "        text-align: right;\n",
       "    }\n",
       "</style>\n",
       "<table border=\"1\" class=\"dataframe\">\n",
       "  <thead>\n",
       "    <tr style=\"text-align: right;\">\n",
       "      <th></th>\n",
       "      <th>age</th>\n",
       "      <th>workclass</th>\n",
       "      <th>education</th>\n",
       "      <th>maritalstatus</th>\n",
       "      <th>occupation</th>\n",
       "      <th>relationship</th>\n",
       "      <th>race</th>\n",
       "      <th>sex</th>\n",
       "      <th>capitalloss</th>\n",
       "      <th>hoursperweek</th>\n",
       "    </tr>\n",
       "  </thead>\n",
       "  <tbody>\n",
       "    <tr>\n",
       "      <th>0</th>\n",
       "      <td>0.034190</td>\n",
       "      <td>2.917682</td>\n",
       "      <td>-0.344049</td>\n",
       "      <td>0.942956</td>\n",
       "      <td>-1.482608</td>\n",
       "      <td>-0.258376</td>\n",
       "      <td>0.384115</td>\n",
       "      <td>0.693790</td>\n",
       "      <td>-0.218728</td>\n",
       "      <td>-0.078121</td>\n",
       "    </tr>\n",
       "    <tr>\n",
       "      <th>1</th>\n",
       "      <td>0.866399</td>\n",
       "      <td>1.873973</td>\n",
       "      <td>-0.344049</td>\n",
       "      <td>-0.389984</td>\n",
       "      <td>-0.737525</td>\n",
       "      <td>-0.884462</td>\n",
       "      <td>0.384115</td>\n",
       "      <td>0.693790</td>\n",
       "      <td>-0.218728</td>\n",
       "      <td>-2.326714</td>\n",
       "    </tr>\n",
       "    <tr>\n",
       "      <th>2</th>\n",
       "      <td>-0.041466</td>\n",
       "      <td>-0.213446</td>\n",
       "      <td>0.179930</td>\n",
       "      <td>-1.722923</td>\n",
       "      <td>-0.240804</td>\n",
       "      <td>-0.258376</td>\n",
       "      <td>0.384115</td>\n",
       "      <td>0.693790</td>\n",
       "      <td>-0.218728</td>\n",
       "      <td>-0.078121</td>\n",
       "    </tr>\n",
       "    <tr>\n",
       "      <th>3</th>\n",
       "      <td>1.093365</td>\n",
       "      <td>-0.213446</td>\n",
       "      <td>-2.439963</td>\n",
       "      <td>-0.389984</td>\n",
       "      <td>-0.240804</td>\n",
       "      <td>-0.884462</td>\n",
       "      <td>-2.018716</td>\n",
       "      <td>0.693790</td>\n",
       "      <td>-0.218728</td>\n",
       "      <td>-0.078121</td>\n",
       "    </tr>\n",
       "    <tr>\n",
       "      <th>4</th>\n",
       "      <td>-0.798019</td>\n",
       "      <td>-0.213446</td>\n",
       "      <td>-0.344049</td>\n",
       "      <td>-0.389984</td>\n",
       "      <td>0.752640</td>\n",
       "      <td>2.245968</td>\n",
       "      <td>-2.018716</td>\n",
       "      <td>-1.441359</td>\n",
       "      <td>-0.218728</td>\n",
       "      <td>-0.078121</td>\n",
       "    </tr>\n",
       "  </tbody>\n",
       "</table>\n",
       "</div>"
      ],
      "text/plain": [
       "        age  workclass  education  maritalstatus  occupation  relationship  \\\n",
       "0  0.034190   2.917682  -0.344049       0.942956   -1.482608     -0.258376   \n",
       "1  0.866399   1.873973  -0.344049      -0.389984   -0.737525     -0.884462   \n",
       "2 -0.041466  -0.213446   0.179930      -1.722923   -0.240804     -0.258376   \n",
       "3  1.093365  -0.213446  -2.439963      -0.389984   -0.240804     -0.884462   \n",
       "4 -0.798019  -0.213446  -0.344049      -0.389984    0.752640      2.245968   \n",
       "\n",
       "       race       sex  capitalloss  hoursperweek  \n",
       "0  0.384115  0.693790    -0.218728     -0.078121  \n",
       "1  0.384115  0.693790    -0.218728     -2.326714  \n",
       "2  0.384115  0.693790    -0.218728     -0.078121  \n",
       "3 -2.018716  0.693790    -0.218728     -0.078121  \n",
       "4 -2.018716 -1.441359    -0.218728     -0.078121  "
      ]
     },
     "execution_count": 175,
     "metadata": {},
     "output_type": "execute_result"
    }
   ],
   "source": [
    "col = ['age', 'workclass', 'education', 'maritalstatus', 'occupation',\n",
    "       'relationship', 'race', 'sex', 'capitalloss', 'hoursperweek']\n",
    "X_train =pd.DataFrame(X[:30161,:],columns=col)\n",
    "X_test = pd.DataFrame(X[30161:,:],columns=col)\n",
    "\n",
    "print(X_train.shape)\n",
    "X_train.head()\n"
   ]
  },
  {
   "cell_type": "code",
   "execution_count": 176,
   "id": "b836c83c",
   "metadata": {},
   "outputs": [
    {
     "name": "stdout",
     "output_type": "stream",
     "text": [
      "(15060, 10)\n"
     ]
    },
    {
     "data": {
      "text/html": [
       "<div>\n",
       "<style scoped>\n",
       "    .dataframe tbody tr th:only-of-type {\n",
       "        vertical-align: middle;\n",
       "    }\n",
       "\n",
       "    .dataframe tbody tr th {\n",
       "        vertical-align: top;\n",
       "    }\n",
       "\n",
       "    .dataframe thead th {\n",
       "        text-align: right;\n",
       "    }\n",
       "</style>\n",
       "<table border=\"1\" class=\"dataframe\">\n",
       "  <thead>\n",
       "    <tr style=\"text-align: right;\">\n",
       "      <th></th>\n",
       "      <th>age</th>\n",
       "      <th>workclass</th>\n",
       "      <th>education</th>\n",
       "      <th>maritalstatus</th>\n",
       "      <th>occupation</th>\n",
       "      <th>relationship</th>\n",
       "      <th>race</th>\n",
       "      <th>sex</th>\n",
       "      <th>capitalloss</th>\n",
       "      <th>hoursperweek</th>\n",
       "    </tr>\n",
       "  </thead>\n",
       "  <tbody>\n",
       "    <tr>\n",
       "      <th>0</th>\n",
       "      <td>-1.024985</td>\n",
       "      <td>-0.213446</td>\n",
       "      <td>-2.439963</td>\n",
       "      <td>0.942956</td>\n",
       "      <td>0.007557</td>\n",
       "      <td>0.993796</td>\n",
       "      <td>-2.018716</td>\n",
       "      <td>0.69379</td>\n",
       "      <td>-0.218728</td>\n",
       "      <td>-0.078121</td>\n",
       "    </tr>\n",
       "    <tr>\n",
       "      <th>1</th>\n",
       "      <td>-0.041466</td>\n",
       "      <td>-0.213446</td>\n",
       "      <td>0.179930</td>\n",
       "      <td>-0.389984</td>\n",
       "      <td>-0.489164</td>\n",
       "      <td>-0.884462</td>\n",
       "      <td>0.384115</td>\n",
       "      <td>0.69379</td>\n",
       "      <td>-0.218728</td>\n",
       "      <td>0.754691</td>\n",
       "    </tr>\n",
       "    <tr>\n",
       "      <th>2</th>\n",
       "      <td>-0.798019</td>\n",
       "      <td>-1.257155</td>\n",
       "      <td>-0.868027</td>\n",
       "      <td>-0.389984</td>\n",
       "      <td>1.001001</td>\n",
       "      <td>-0.884462</td>\n",
       "      <td>0.384115</td>\n",
       "      <td>0.69379</td>\n",
       "      <td>-0.218728</td>\n",
       "      <td>-0.078121</td>\n",
       "    </tr>\n",
       "    <tr>\n",
       "      <th>3</th>\n",
       "      <td>0.412467</td>\n",
       "      <td>-0.213446</td>\n",
       "      <td>1.227887</td>\n",
       "      <td>-0.389984</td>\n",
       "      <td>0.007557</td>\n",
       "      <td>-0.884462</td>\n",
       "      <td>-2.018716</td>\n",
       "      <td>0.69379</td>\n",
       "      <td>-0.218728</td>\n",
       "      <td>-0.078121</td>\n",
       "    </tr>\n",
       "    <tr>\n",
       "      <th>4</th>\n",
       "      <td>-0.344087</td>\n",
       "      <td>-0.213446</td>\n",
       "      <td>-2.701952</td>\n",
       "      <td>0.942956</td>\n",
       "      <td>0.255918</td>\n",
       "      <td>-0.258376</td>\n",
       "      <td>0.384115</td>\n",
       "      <td>0.69379</td>\n",
       "      <td>-0.218728</td>\n",
       "      <td>-0.910933</td>\n",
       "    </tr>\n",
       "  </tbody>\n",
       "</table>\n",
       "</div>"
      ],
      "text/plain": [
       "        age  workclass  education  maritalstatus  occupation  relationship  \\\n",
       "0 -1.024985  -0.213446  -2.439963       0.942956    0.007557      0.993796   \n",
       "1 -0.041466  -0.213446   0.179930      -0.389984   -0.489164     -0.884462   \n",
       "2 -0.798019  -1.257155  -0.868027      -0.389984    1.001001     -0.884462   \n",
       "3  0.412467  -0.213446   1.227887      -0.389984    0.007557     -0.884462   \n",
       "4 -0.344087  -0.213446  -2.701952       0.942956    0.255918     -0.258376   \n",
       "\n",
       "       race      sex  capitalloss  hoursperweek  \n",
       "0 -2.018716  0.69379    -0.218728     -0.078121  \n",
       "1  0.384115  0.69379    -0.218728      0.754691  \n",
       "2  0.384115  0.69379    -0.218728     -0.078121  \n",
       "3 -2.018716  0.69379    -0.218728     -0.078121  \n",
       "4  0.384115  0.69379    -0.218728     -0.910933  "
      ]
     },
     "execution_count": 176,
     "metadata": {},
     "output_type": "execute_result"
    }
   ],
   "source": [
    "print(X_test.shape)\n",
    "X_test.head()"
   ]
  },
  {
   "cell_type": "code",
   "execution_count": 177,
   "id": "99c35588",
   "metadata": {},
   "outputs": [
    {
     "data": {
      "text/plain": [
       "((30161, 1), (15060, 1))"
      ]
     },
     "execution_count": 177,
     "metadata": {},
     "output_type": "execute_result"
    }
   ],
   "source": [
    "y_train = y[:30161]\n",
    "y_test = y[30161:]\n",
    "y_train.shape,y_test.shape"
   ]
  },
  {
   "cell_type": "markdown",
   "id": "b897ad13",
   "metadata": {},
   "source": [
    "## 4. Base model \n",
    "### rbf svm"
   ]
  },
  {
   "cell_type": "code",
   "execution_count": 110,
   "id": "4246974f",
   "metadata": {},
   "outputs": [],
   "source": [
    "base_model1 = SVC()\n",
    "base_model1.fit(X_train,y_train)\n",
    "pred1 = base_model1.predict(X_test)"
   ]
  },
  {
   "cell_type": "code",
   "execution_count": 116,
   "id": "231379a4",
   "metadata": {},
   "outputs": [
    {
     "data": {
      "text/plain": [
       "0.801859229747676"
      ]
     },
     "execution_count": 116,
     "metadata": {},
     "output_type": "execute_result"
    }
   ],
   "source": [
    "accuracy_score(y_test,pred1)"
   ]
  },
  {
   "cell_type": "code",
   "execution_count": 117,
   "id": "16054ae9",
   "metadata": {},
   "outputs": [
    {
     "data": {
      "text/plain": [
       "array([[10190,  1170],\n",
       "       [ 1814,  1886]])"
      ]
     },
     "execution_count": 117,
     "metadata": {},
     "output_type": "execute_result"
    }
   ],
   "source": [
    "confusion_matrix(y_test,pred1)"
   ]
  },
  {
   "cell_type": "code",
   "execution_count": 118,
   "id": "3fde28ac",
   "metadata": {},
   "outputs": [
    {
     "name": "stdout",
     "output_type": "stream",
     "text": [
      "\n",
      "               precision    recall  f1-score   support\n",
      "\n",
      "           0       0.85      0.90      0.87     11360\n",
      "           1       0.62      0.51      0.56      3700\n",
      "\n",
      "    accuracy                           0.80     15060\n",
      "   macro avg       0.73      0.70      0.72     15060\n",
      "weighted avg       0.79      0.80      0.80     15060\n",
      "\n"
     ]
    }
   ],
   "source": [
    "print('\\n',classification_report(y_test,pred1))"
   ]
  },
  {
   "cell_type": "markdown",
   "id": "236240f9",
   "metadata": {},
   "source": [
    "### linear svm"
   ]
  },
  {
   "cell_type": "code",
   "execution_count": 123,
   "id": "b75c0464",
   "metadata": {},
   "outputs": [],
   "source": [
    "base_model2 = SVC(kernel='linear')\n",
    "base_model2.fit(X_train,y_train)\n",
    "pred2 = base_model2.predict(X_test)"
   ]
  },
  {
   "cell_type": "code",
   "execution_count": 124,
   "id": "a85bb4f9",
   "metadata": {},
   "outputs": [
    {
     "data": {
      "text/plain": [
       "0.7559096945551129"
      ]
     },
     "execution_count": 124,
     "metadata": {},
     "output_type": "execute_result"
    }
   ],
   "source": [
    "accuracy_score(y_test,pred2)"
   ]
  },
  {
   "cell_type": "markdown",
   "id": "a4877447",
   "metadata": {},
   "source": [
    "### Poly SVM"
   ]
  },
  {
   "cell_type": "code",
   "execution_count": 121,
   "id": "0e8f6031",
   "metadata": {},
   "outputs": [],
   "source": [
    "base_model3 = SVC(kernel='poly')\n",
    "base_model3.fit(X_train,y_train)\n",
    "pred3 = base_model3.predict(X_test)"
   ]
  },
  {
   "cell_type": "code",
   "execution_count": 122,
   "id": "e996adf2",
   "metadata": {},
   "outputs": [
    {
     "data": {
      "text/plain": [
       "0.7739043824701195"
      ]
     },
     "execution_count": 122,
     "metadata": {},
     "output_type": "execute_result"
    }
   ],
   "source": [
    "accuracy_score(y_test,pred3)"
   ]
  },
  {
   "cell_type": "markdown",
   "id": "339fdb11",
   "metadata": {},
   "source": [
    "### Best model is SVM rbf\n",
    "\n",
    "#### Hyperparameter tuning"
   ]
  },
  {
   "cell_type": "code",
   "execution_count": 132,
   "id": "8fb82828",
   "metadata": {},
   "outputs": [],
   "source": [
    "#Classifier 1 - Gamma = 0.001\n",
    "\n",
    "model1 = SVC(gamma=0.001)\n",
    "model1.fit(X_train,y_train)\n",
    "y_pred1 = model1.predict(X_test)"
   ]
  },
  {
   "cell_type": "code",
   "execution_count": 133,
   "id": "99133287",
   "metadata": {},
   "outputs": [
    {
     "data": {
      "text/plain": [
       "0.7559096945551129"
      ]
     },
     "execution_count": 133,
     "metadata": {},
     "output_type": "execute_result"
    }
   ],
   "source": [
    "accuracy_score(y_test,y_pred1)"
   ]
  },
  {
   "cell_type": "code",
   "execution_count": 134,
   "id": "24c202a6",
   "metadata": {},
   "outputs": [
    {
     "data": {
      "text/plain": [
       "0.801527224435591"
      ]
     },
     "execution_count": 134,
     "metadata": {},
     "output_type": "execute_result"
    }
   ],
   "source": [
    "#Classifier 2 - Gamma = 0.1\n",
    "\n",
    "\n",
    "model2 = SVC(gamma=0.1)\n",
    "model2.fit(X_train,y_train)\n",
    "y_pred2 = model2.predict(X_test)\n",
    "accuracy_score(y_test,y_pred2)"
   ]
  },
  {
   "cell_type": "code",
   "execution_count": 136,
   "id": "b3f15432",
   "metadata": {},
   "outputs": [
    {
     "data": {
      "text/plain": [
       "0.8197211155378487"
      ]
     },
     "execution_count": 136,
     "metadata": {},
     "output_type": "execute_result"
    }
   ],
   "source": [
    "#Classifier 3 - Gamma = 1\n",
    "\n",
    "model3 = SVC(gamma=1)\n",
    "model3.fit(X_train,y_train)\n",
    "y_pred3 = model3.predict(X_test)\n",
    "accuracy_score(y_test,y_pred3)"
   ]
  },
  {
   "cell_type": "code",
   "execution_count": 137,
   "id": "f8824373",
   "metadata": {},
   "outputs": [
    {
     "data": {
      "text/plain": [
       "array([[10361,   999],\n",
       "       [ 1716,  1984]])"
      ]
     },
     "execution_count": 137,
     "metadata": {},
     "output_type": "execute_result"
    }
   ],
   "source": [
    "confusion_matrix(y_test,y_pred3)"
   ]
  },
  {
   "cell_type": "code",
   "execution_count": 138,
   "id": "5417b5e4",
   "metadata": {},
   "outputs": [
    {
     "name": "stdout",
     "output_type": "stream",
     "text": [
      "\n",
      "               precision    recall  f1-score   support\n",
      "\n",
      "           0       0.86      0.91      0.88     11360\n",
      "           1       0.67      0.54      0.59      3700\n",
      "\n",
      "    accuracy                           0.82     15060\n",
      "   macro avg       0.76      0.72      0.74     15060\n",
      "weighted avg       0.81      0.82      0.81     15060\n",
      "\n"
     ]
    }
   ],
   "source": [
    "print('\\n',classification_report(y_test,y_pred3))"
   ]
  },
  {
   "cell_type": "code",
   "execution_count": 140,
   "id": "38c795e2",
   "metadata": {},
   "outputs": [
    {
     "data": {
      "text/plain": [
       "0.8185258964143426"
      ]
     },
     "execution_count": 140,
     "metadata": {},
     "output_type": "execute_result"
    }
   ],
   "source": [
    "#Classifier 3 - Gamma = 2\n",
    "\n",
    "\n",
    "model4 = SVC(gamma=2)\n",
    "model4.fit(X_train,y_train)\n",
    "y_pred4 = model4.predict(X_test)\n",
    "accuracy_score(y_test,y_pred4)"
   ]
  },
  {
   "cell_type": "code",
   "execution_count": 142,
   "id": "0e62f284",
   "metadata": {},
   "outputs": [
    {
     "data": {
      "text/plain": [
       "0.7932934926958831"
      ]
     },
     "execution_count": 142,
     "metadata": {},
     "output_type": "execute_result"
    }
   ],
   "source": [
    "#Classifier 4 - Gamma = 0.1 & C = 0.1\n",
    "\n",
    "\n",
    "model5 = SVC(C=0.1,gamma=0.1)\n",
    "model5.fit(X_train,y_train)\n",
    "y_pred5 = model5.predict(X_test)\n",
    "accuracy_score(y_test,y_pred5)"
   ]
  },
  {
   "cell_type": "code",
   "execution_count": 143,
   "id": "5714d08a",
   "metadata": {},
   "outputs": [
    {
     "data": {
      "text/plain": [
       "0.801527224435591"
      ]
     },
     "execution_count": 143,
     "metadata": {},
     "output_type": "execute_result"
    }
   ],
   "source": [
    "#Classifier 5 - Gamma = 0.1 & C = 1\n",
    "\n",
    "model6 = SVC(C=1,gamma=0.1)\n",
    "model6.fit(X_train,y_train)\n",
    "y_pred6 = model6.predict(X_test)\n",
    "accuracy_score(y_test,y_pred6)"
   ]
  },
  {
   "cell_type": "code",
   "execution_count": 144,
   "id": "a811ecdf",
   "metadata": {},
   "outputs": [
    {
     "data": {
      "text/plain": [
       "0.8102921646746348"
      ]
     },
     "execution_count": 144,
     "metadata": {},
     "output_type": "execute_result"
    }
   ],
   "source": [
    "#Classifier 6 - Gamma = 0.1 & C = 10\n",
    "\n",
    "model7 = SVC(C=10,gamma=0.1)\n",
    "model7.fit(X_train,y_train)\n",
    "y_pred7 = model7.predict(X_test)\n",
    "accuracy_score(y_test,y_pred7)\n"
   ]
  },
  {
   "cell_type": "code",
   "execution_count": 145,
   "id": "7a8e056d",
   "metadata": {},
   "outputs": [
    {
     "data": {
      "text/plain": [
       "0.8071049136786188"
      ]
     },
     "execution_count": 145,
     "metadata": {},
     "output_type": "execute_result"
    }
   ],
   "source": [
    "#Classifier 7 - Gamma = 1 & C = 10\n",
    "\n",
    "model8 = SVC(C=10,gamma=1)\n",
    "model8.fit(X_train,y_train)\n",
    "y_pred8 = model8.predict(X_test)\n",
    "accuracy_score(y_test,y_pred8)"
   ]
  },
  {
   "cell_type": "markdown",
   "id": "f6c03cdc",
   "metadata": {},
   "source": [
    "## Feature selection"
   ]
  },
  {
   "cell_type": "code",
   "execution_count": 147,
   "id": "b18bee0a",
   "metadata": {},
   "outputs": [
    {
     "name": "stderr",
     "output_type": "stream",
     "text": [
      "\n",
      "STOPPING EARLY DUE TO KEYBOARD INTERRUPT..."
     ]
    },
    {
     "data": {
      "text/plain": [
       "['education', 'maritalstatus', 'capitalloss']"
      ]
     },
     "execution_count": 147,
     "metadata": {},
     "output_type": "execute_result"
    }
   ],
   "source": [
    "#let us take classifier 3,with gamma1\n",
    "\n",
    "msfs_model = msfs(estimator=model3,k_features='best',forward=True,n_jobs=-1)\n",
    "msfs_model.fit(X_train,y_train)\n",
    "features = list(msfs_model.k_feature_names_)\n",
    "features"
   ]
  },
  {
   "cell_type": "code",
   "execution_count": 150,
   "id": "88035b30",
   "metadata": {},
   "outputs": [
    {
     "data": {
      "text/plain": [
       "(30161, 3)"
      ]
     },
     "execution_count": 150,
     "metadata": {},
     "output_type": "execute_result"
    }
   ],
   "source": [
    "X_train_selected = msfs_model.transform(X_train)\n",
    "X_train_selected.shape"
   ]
  },
  {
   "cell_type": "code",
   "execution_count": 149,
   "id": "14173a7b",
   "metadata": {},
   "outputs": [
    {
     "data": {
      "text/plain": [
       "(15060, 3)"
      ]
     },
     "execution_count": 149,
     "metadata": {},
     "output_type": "execute_result"
    }
   ],
   "source": [
    "X_test_selected = msfs_model.transform(X_test)\n",
    "X_test_selected.shape"
   ]
  },
  {
   "cell_type": "code",
   "execution_count": 152,
   "id": "e7e27f6f",
   "metadata": {},
   "outputs": [
    {
     "data": {
      "text/plain": [
       "0.8158698539176626"
      ]
     },
     "execution_count": 152,
     "metadata": {},
     "output_type": "execute_result"
    }
   ],
   "source": [
    "model9 = SVC(gamma=1)\n",
    "model9.fit(X_train_selected,y_train)\n",
    "y_pred9 = model9.predict(X_test_selected)\n",
    "accuracy_score(y_test,y_pred9)\n"
   ]
  },
  {
   "cell_type": "markdown",
   "id": "03ccc9d5",
   "metadata": {},
   "source": [
    "## feature selection using randomforest"
   ]
  },
  {
   "cell_type": "code",
   "execution_count": 155,
   "id": "ef1f5320",
   "metadata": {},
   "outputs": [
    {
     "data": {
      "text/html": [
       "<div>\n",
       "<style scoped>\n",
       "    .dataframe tbody tr th:only-of-type {\n",
       "        vertical-align: middle;\n",
       "    }\n",
       "\n",
       "    .dataframe tbody tr th {\n",
       "        vertical-align: top;\n",
       "    }\n",
       "\n",
       "    .dataframe thead th {\n",
       "        text-align: right;\n",
       "    }\n",
       "</style>\n",
       "<table border=\"1\" class=\"dataframe\">\n",
       "  <thead>\n",
       "    <tr style=\"text-align: right;\">\n",
       "      <th></th>\n",
       "      <th>features</th>\n",
       "      <th>importances</th>\n",
       "    </tr>\n",
       "  </thead>\n",
       "  <tbody>\n",
       "    <tr>\n",
       "      <th>0</th>\n",
       "      <td>age</td>\n",
       "      <td>0.274199</td>\n",
       "    </tr>\n",
       "    <tr>\n",
       "      <th>1</th>\n",
       "      <td>workclass</td>\n",
       "      <td>0.060733</td>\n",
       "    </tr>\n",
       "    <tr>\n",
       "      <th>2</th>\n",
       "      <td>education</td>\n",
       "      <td>0.126389</td>\n",
       "    </tr>\n",
       "    <tr>\n",
       "      <th>3</th>\n",
       "      <td>maritalstatus</td>\n",
       "      <td>0.079030</td>\n",
       "    </tr>\n",
       "    <tr>\n",
       "      <th>4</th>\n",
       "      <td>occupation</td>\n",
       "      <td>0.116997</td>\n",
       "    </tr>\n",
       "    <tr>\n",
       "      <th>5</th>\n",
       "      <td>relationship</td>\n",
       "      <td>0.122104</td>\n",
       "    </tr>\n",
       "    <tr>\n",
       "      <th>6</th>\n",
       "      <td>race</td>\n",
       "      <td>0.025383</td>\n",
       "    </tr>\n",
       "    <tr>\n",
       "      <th>7</th>\n",
       "      <td>sex</td>\n",
       "      <td>0.015371</td>\n",
       "    </tr>\n",
       "    <tr>\n",
       "      <th>8</th>\n",
       "      <td>capitalloss</td>\n",
       "      <td>0.044586</td>\n",
       "    </tr>\n",
       "    <tr>\n",
       "      <th>9</th>\n",
       "      <td>hoursperweek</td>\n",
       "      <td>0.135208</td>\n",
       "    </tr>\n",
       "  </tbody>\n",
       "</table>\n",
       "</div>"
      ],
      "text/plain": [
       "        features  importances\n",
       "0            age     0.274199\n",
       "1      workclass     0.060733\n",
       "2      education     0.126389\n",
       "3  maritalstatus     0.079030\n",
       "4     occupation     0.116997\n",
       "5   relationship     0.122104\n",
       "6           race     0.025383\n",
       "7            sex     0.015371\n",
       "8    capitalloss     0.044586\n",
       "9   hoursperweek     0.135208"
      ]
     },
     "execution_count": 155,
     "metadata": {},
     "output_type": "execute_result"
    }
   ],
   "source": [
    "rf_model = RandomForestClassifier()\n",
    "rf_model.fit(X_train,y_train)\n",
    "importantces = rf_model.feature_importances_\n",
    "importance_df = pd.DataFrame({'features':X_train.columns,'importances':importantces})\n",
    "importance_df"
   ]
  },
  {
   "cell_type": "code",
   "execution_count": 156,
   "id": "60222416",
   "metadata": {},
   "outputs": [
    {
     "data": {
      "text/plain": [
       "<AxesSubplot:>"
      ]
     },
     "execution_count": 156,
     "metadata": {},
     "output_type": "execute_result"
    },
    {
     "data": {
      "image/png": "[encoded data removed]",
      "text/plain": [
       "<Figure size 432x288 with 1 Axes>"
      ]
     },
     "metadata": {
      "needs_background": "light"
     },
     "output_type": "display_data"
    }
   ],
   "source": [
    "importance_df.plot(kind='barh',color='teal')"
   ]
  },
  {
   "cell_type": "code",
   "execution_count": 161,
   "id": "f586e44a",
   "metadata": {},
   "outputs": [
    {
     "data": {
      "text/plain": [
       "((30161, 10), (45221, 10))"
      ]
     },
     "execution_count": 161,
     "metadata": {},
     "output_type": "execute_result"
    }
   ],
   "source": [
    "X_train.shape,X.shape"
   ]
  },
  {
   "cell_type": "code",
   "execution_count": 178,
   "id": "8ba7e54b",
   "metadata": {},
   "outputs": [
    {
     "data": {
      "text/plain": [
       "((30161, 10), (15060, 10))"
      ]
     },
     "execution_count": 178,
     "metadata": {},
     "output_type": "execute_result"
    }
   ],
   "source": [
    "X_train.shape,X_test.shape"
   ]
  },
  {
   "cell_type": "code",
   "execution_count": 163,
   "id": "65cea467",
   "metadata": {},
   "outputs": [
    {
     "data": {
      "text/plain": [
       "Index(['age', 'workclass', 'education', 'maritalstatus', 'occupation',\n",
       "       'relationship', 'race', 'sex', 'capitalloss', 'hoursperweek', 'Salary'],\n",
       "      dtype='object')"
      ]
     },
     "execution_count": 163,
     "metadata": {},
     "output_type": "execute_result"
    }
   ],
   "source": [
    "data2.columns"
   ]
  },
  {
   "cell_type": "code",
   "execution_count": 179,
   "id": "498c4953",
   "metadata": {},
   "outputs": [],
   "source": [
    "X_train = pd.DataFrame(X_train,columns=(['age', 'workclass', 'education', 'maritalstatus', 'occupation',\n",
    "       'relationship', 'race', 'sex', 'capitalloss', 'hoursperweek']))\n",
    "X_test = pd.DataFrame(X_test,columns=(['age', 'workclass', 'education', 'maritalstatus', 'occupation',\n",
    "       'relationship', 'race', 'sex', 'capitalloss', 'hoursperweek']))"
   ]
  },
  {
   "cell_type": "code",
   "execution_count": 184,
   "id": "59eedb32",
   "metadata": {},
   "outputs": [
    {
     "data": {
      "text/plain": [
       "((30161, 5), (15060, 5), (30161, 1), (15060, 1))"
      ]
     },
     "execution_count": 184,
     "metadata": {},
     "output_type": "execute_result"
    }
   ],
   "source": [
    "X_train.shape\n",
    "temp_train = X_train[['age','hoursperweek','education','relationship','occupation']]\n",
    "temp_test = X_test[['age','hoursperweek','education','relationship','occupation']]\n",
    "temp_train.shape,temp_test.shape,y_train.shape,y_test.shape"
   ]
  },
  {
   "cell_type": "code",
   "execution_count": 185,
   "id": "8f5d07d7",
   "metadata": {},
   "outputs": [
    {
     "data": {
      "text/plain": [
       "0.8179282868525897"
      ]
     },
     "execution_count": 185,
     "metadata": {},
     "output_type": "execute_result"
    }
   ],
   "source": [
    "model10 = SVC(gamma=1)\n",
    "model10.fit(temp_train,y_train)\n",
    "y_pred10 = model10.predict(temp_test)\n",
    "accuracy_score(y_test,y_pred10)"
   ]
  },
  {
   "cell_type": "markdown",
   "id": "a05f172f",
   "metadata": {},
   "source": [
    "## model deployment"
   ]
  },
  {
   "cell_type": "code",
   "execution_count": 187,
   "id": "b88095cb",
   "metadata": {},
   "outputs": [],
   "source": [
    "dump(model10,open('final_model.pkl','wb'))"
   ]
  }
 ],
 "metadata": {
  "kernelspec": {
   "display_name": "Python 3",
   "language": "python",
   "name": "python3"
  }
 },
 "nbformat": 4,
 "nbformat_minor": 5
}
