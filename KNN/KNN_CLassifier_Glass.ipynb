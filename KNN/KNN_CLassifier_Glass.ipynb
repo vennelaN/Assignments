{
 "cells": [
  {
   "cell_type": "code",
   "execution_count": 484,
   "id": "88c53b78",
   "metadata": {},
   "outputs": [],
   "source": [
    "import pandas as pd\n",
    "from sklearn.preprocessing import StandardScaler\n",
    "from sklearn.model_selection import train_test_split,GridSearchCV\n",
    "from sklearn.neighbors import KNeighborsClassifier,LocalOutlierFactor\n",
    "import warnings\n",
    "warnings.filterwarnings('ignore')\n",
    "from sklearn.metrics import accuracy_score,confusion_matrix,classification_report\n",
    "import matplotlib.pyplot as plt\n",
    "from mlxtend.feature_selection import SequentialFeatureSelector as sfs\n",
    "from pickle import dump"
   ]
  },
  {
   "cell_type": "markdown",
   "id": "23c97948",
   "metadata": {},
   "source": [
    "## 1.Loading Data"
   ]
  },
  {
   "cell_type": "code",
   "execution_count": 415,
   "id": "3dfc4bde",
   "metadata": {},
   "outputs": [
    {
     "data": {
      "text/html": [
       "<div>\n",
       "<style scoped>\n",
       "    .dataframe tbody tr th:only-of-type {\n",
       "        vertical-align: middle;\n",
       "    }\n",
       "\n",
       "    .dataframe tbody tr th {\n",
       "        vertical-align: top;\n",
       "    }\n",
       "\n",
       "    .dataframe thead th {\n",
       "        text-align: right;\n",
       "    }\n",
       "</style>\n",
       "<table border=\"1\" class=\"dataframe\">\n",
       "  <thead>\n",
       "    <tr style=\"text-align: right;\">\n",
       "      <th></th>\n",
       "      <th>RI</th>\n",
       "      <th>Na</th>\n",
       "      <th>Mg</th>\n",
       "      <th>Al</th>\n",
       "      <th>Si</th>\n",
       "      <th>K</th>\n",
       "      <th>Ca</th>\n",
       "      <th>Ba</th>\n",
       "      <th>Fe</th>\n",
       "      <th>Type</th>\n",
       "    </tr>\n",
       "  </thead>\n",
       "  <tbody>\n",
       "    <tr>\n",
       "      <th>0</th>\n",
       "      <td>1.52101</td>\n",
       "      <td>13.64</td>\n",
       "      <td>4.49</td>\n",
       "      <td>1.10</td>\n",
       "      <td>71.78</td>\n",
       "      <td>0.06</td>\n",
       "      <td>8.75</td>\n",
       "      <td>0.0</td>\n",
       "      <td>0.0</td>\n",
       "      <td>1</td>\n",
       "    </tr>\n",
       "    <tr>\n",
       "      <th>1</th>\n",
       "      <td>1.51761</td>\n",
       "      <td>13.89</td>\n",
       "      <td>3.60</td>\n",
       "      <td>1.36</td>\n",
       "      <td>72.73</td>\n",
       "      <td>0.48</td>\n",
       "      <td>7.83</td>\n",
       "      <td>0.0</td>\n",
       "      <td>0.0</td>\n",
       "      <td>1</td>\n",
       "    </tr>\n",
       "    <tr>\n",
       "      <th>2</th>\n",
       "      <td>1.51618</td>\n",
       "      <td>13.53</td>\n",
       "      <td>3.55</td>\n",
       "      <td>1.54</td>\n",
       "      <td>72.99</td>\n",
       "      <td>0.39</td>\n",
       "      <td>7.78</td>\n",
       "      <td>0.0</td>\n",
       "      <td>0.0</td>\n",
       "      <td>1</td>\n",
       "    </tr>\n",
       "    <tr>\n",
       "      <th>3</th>\n",
       "      <td>1.51766</td>\n",
       "      <td>13.21</td>\n",
       "      <td>3.69</td>\n",
       "      <td>1.29</td>\n",
       "      <td>72.61</td>\n",
       "      <td>0.57</td>\n",
       "      <td>8.22</td>\n",
       "      <td>0.0</td>\n",
       "      <td>0.0</td>\n",
       "      <td>1</td>\n",
       "    </tr>\n",
       "    <tr>\n",
       "      <th>4</th>\n",
       "      <td>1.51742</td>\n",
       "      <td>13.27</td>\n",
       "      <td>3.62</td>\n",
       "      <td>1.24</td>\n",
       "      <td>73.08</td>\n",
       "      <td>0.55</td>\n",
       "      <td>8.07</td>\n",
       "      <td>0.0</td>\n",
       "      <td>0.0</td>\n",
       "      <td>1</td>\n",
       "    </tr>\n",
       "  </tbody>\n",
       "</table>\n",
       "</div>"
      ],
      "text/plain": [
       "        RI     Na    Mg    Al     Si     K    Ca   Ba   Fe  Type\n",
       "0  1.52101  13.64  4.49  1.10  71.78  0.06  8.75  0.0  0.0     1\n",
       "1  1.51761  13.89  3.60  1.36  72.73  0.48  7.83  0.0  0.0     1\n",
       "2  1.51618  13.53  3.55  1.54  72.99  0.39  7.78  0.0  0.0     1\n",
       "3  1.51766  13.21  3.69  1.29  72.61  0.57  8.22  0.0  0.0     1\n",
       "4  1.51742  13.27  3.62  1.24  73.08  0.55  8.07  0.0  0.0     1"
      ]
     },
     "execution_count": 415,
     "metadata": {},
     "output_type": "execute_result"
    }
   ],
   "source": [
    "data = pd.read_csv('Datasets/glass.csv')\n",
    "data.head()"
   ]
  },
  {
   "cell_type": "markdown",
   "id": "253e918d",
   "metadata": {},
   "source": [
    "## 2. Data analysis"
   ]
  },
  {
   "cell_type": "code",
   "execution_count": 288,
   "id": "0fd75e69",
   "metadata": {},
   "outputs": [
    {
     "data": {
      "text/plain": [
       "(214, 10)"
      ]
     },
     "execution_count": 288,
     "metadata": {},
     "output_type": "execute_result"
    }
   ],
   "source": [
    "data.shape"
   ]
  },
  {
   "cell_type": "code",
   "execution_count": 289,
   "id": "c10cad9f",
   "metadata": {},
   "outputs": [
    {
     "data": {
      "text/plain": [
       "RI      float64\n",
       "Na      float64\n",
       "Mg      float64\n",
       "Al      float64\n",
       "Si      float64\n",
       "K       float64\n",
       "Ca      float64\n",
       "Ba      float64\n",
       "Fe      float64\n",
       "Type      int64\n",
       "dtype: object"
      ]
     },
     "execution_count": 289,
     "metadata": {},
     "output_type": "execute_result"
    }
   ],
   "source": [
    "data.dtypes"
   ]
  },
  {
   "cell_type": "code",
   "execution_count": 290,
   "id": "3cca760e",
   "metadata": {},
   "outputs": [
    {
     "data": {
      "text/plain": [
       "RI      0\n",
       "Na      0\n",
       "Mg      0\n",
       "Al      0\n",
       "Si      0\n",
       "K       0\n",
       "Ca      0\n",
       "Ba      0\n",
       "Fe      0\n",
       "Type    0\n",
       "dtype: int64"
      ]
     },
     "execution_count": 290,
     "metadata": {},
     "output_type": "execute_result"
    }
   ],
   "source": [
    "data.isna().sum()"
   ]
  },
  {
   "cell_type": "markdown",
   "id": "33a653d8",
   "metadata": {},
   "source": [
    "## 3.Data processing"
   ]
  },
  {
   "cell_type": "markdown",
   "id": "665207ef",
   "metadata": {},
   "source": [
    "#### Spliting X,y"
   ]
  },
  {
   "cell_type": "code",
   "execution_count": 416,
   "id": "12f75e59",
   "metadata": {},
   "outputs": [],
   "source": [
    "X = data.drop(labels='Type',axis=1)\n",
    "y = data[['Type']]"
   ]
  },
  {
   "cell_type": "markdown",
   "id": "f1ac381c",
   "metadata": {},
   "source": [
    "#### scaling data"
   ]
  },
  {
   "cell_type": "code",
   "execution_count": 417,
   "id": "58a4c53f",
   "metadata": {},
   "outputs": [],
   "source": [
    "std_sclr = StandardScaler()\n",
    "col = X.columns\n",
    "X = pd.DataFrame(std_sclr.fit_transform(X),columns=col)"
   ]
  },
  {
   "cell_type": "code",
   "execution_count": 418,
   "id": "c0e0d2dd",
   "metadata": {},
   "outputs": [
    {
     "data": {
      "text/plain": [
       "((214, 9), (214, 1))"
      ]
     },
     "execution_count": 418,
     "metadata": {},
     "output_type": "execute_result"
    }
   ],
   "source": [
    "X.shape,y.shape"
   ]
  },
  {
   "cell_type": "markdown",
   "id": "32787e8e",
   "metadata": {},
   "source": [
    "#### Train test split"
   ]
  },
  {
   "cell_type": "code",
   "execution_count": 419,
   "id": "87e0ef78",
   "metadata": {},
   "outputs": [
    {
     "data": {
      "text/plain": [
       "((171, 9), (43, 9), (171, 1), (43, 1))"
      ]
     },
     "execution_count": 419,
     "metadata": {},
     "output_type": "execute_result"
    }
   ],
   "source": [
    "X_train,X_test,y_train,y_test = train_test_split(X,y,test_size=0.20,shuffle=True,random_state=24,stratify=y)\n",
    "X_train.shape,X_test.shape,y_train.shape,y_test.shape "
   ]
  },
  {
   "cell_type": "markdown",
   "id": "dfb45ef5",
   "metadata": {},
   "source": [
    "## 4. Base model building and training"
   ]
  },
  {
   "cell_type": "code",
   "execution_count": 420,
   "id": "ca43770a",
   "metadata": {},
   "outputs": [
    {
     "data": {
      "text/plain": [
       "KNeighborsClassifier()"
      ]
     },
     "execution_count": 420,
     "metadata": {},
     "output_type": "execute_result"
    }
   ],
   "source": [
    "base_model = KNeighborsClassifier()\n",
    "base_model.fit(X_train,y_train)"
   ]
  },
  {
   "cell_type": "code",
   "execution_count": 421,
   "id": "48034508",
   "metadata": {},
   "outputs": [],
   "source": [
    "y_pred1 = base_model.predict(X_test)"
   ]
  },
  {
   "cell_type": "code",
   "execution_count": 422,
   "id": "5650b61c",
   "metadata": {},
   "outputs": [
    {
     "data": {
      "text/plain": [
       "0.6976744186046512"
      ]
     },
     "execution_count": 422,
     "metadata": {},
     "output_type": "execute_result"
    }
   ],
   "source": [
    "accuracy_score(y_test,y_pred1)"
   ]
  },
  {
   "cell_type": "code",
   "execution_count": 423,
   "id": "f7ef31d8",
   "metadata": {},
   "outputs": [
    {
     "data": {
      "text/plain": [
       "array([[11,  2,  1,  0,  0,  0],\n",
       "       [ 4, 11,  0,  0,  0,  0],\n",
       "       [ 1,  2,  0,  0,  0,  0],\n",
       "       [ 0,  1,  0,  2,  0,  0],\n",
       "       [ 0,  0,  0,  0,  2,  0],\n",
       "       [ 2,  0,  0,  0,  0,  4]])"
      ]
     },
     "execution_count": 423,
     "metadata": {},
     "output_type": "execute_result"
    }
   ],
   "source": [
    "confusion_matrix(y_test,y_pred1)"
   ]
  },
  {
   "cell_type": "code",
   "execution_count": 424,
   "id": "c3527cbf",
   "metadata": {
    "scrolled": true
   },
   "outputs": [
    {
     "name": "stdout",
     "output_type": "stream",
     "text": [
      "\n",
      "               precision    recall  f1-score   support\n",
      "\n",
      "           1       0.61      0.79      0.69        14\n",
      "           2       0.69      0.73      0.71        15\n",
      "           3       0.00      0.00      0.00         3\n",
      "           5       1.00      0.67      0.80         3\n",
      "           6       1.00      1.00      1.00         2\n",
      "           7       1.00      0.67      0.80         6\n",
      "\n",
      "    accuracy                           0.70        43\n",
      "   macro avg       0.72      0.64      0.67        43\n",
      "weighted avg       0.69      0.70      0.69        43\n",
      "\n"
     ]
    }
   ],
   "source": [
    "print('\\n',classification_report(y_test,y_pred1))"
   ]
  },
  {
   "cell_type": "markdown",
   "id": "cb9d05f5",
   "metadata": {},
   "source": [
    "## 7.Hyper parameter tuning :Optimum value of neighbors"
   ]
  },
  {
   "cell_type": "code",
   "execution_count": 425,
   "id": "15c999ec",
   "metadata": {},
   "outputs": [
    {
     "name": "stdout",
     "output_type": "stream",
     "text": [
      "{'n_neighbors': 7}\n",
      "0.6552941176470588\n"
     ]
    }
   ],
   "source": [
    "params = {'n_neighbors':[3,5,7,9,11]}\n",
    "\n",
    "grid = GridSearchCV(estimator=KNeighborsClassifier(),param_grid=params,scoring='accuracy',cv=5)\n",
    "grid.fit(X_train,y_train)\n",
    "print(grid.best_params_)\n",
    "print(grid.best_score_)"
   ]
  },
  {
   "cell_type": "markdown",
   "id": "9282c8bf",
   "metadata": {},
   "source": [
    "## 8.Feature Selection"
   ]
  },
  {
   "cell_type": "code",
   "execution_count": 458,
   "id": "4acabc01",
   "metadata": {},
   "outputs": [
    {
     "data": {
      "text/plain": [
       "['RI', 'Mg', 'Al', 'Si', 'K', 'Ca', 'Ba']"
      ]
     },
     "execution_count": 458,
     "metadata": {},
     "output_type": "execute_result"
    }
   ],
   "source": [
    "feature_selection =sfs(estimator=KNeighborsClassifier(),k_features=7,forward=True,n_jobs=-1)\n",
    "feature_selection.fit(X_train,y_train)\n",
    "selected_features = list(feature_selection.k_feature_names_)\n",
    "selected_features"
   ]
  },
  {
   "cell_type": "code",
   "execution_count": 459,
   "id": "d4f833e1",
   "metadata": {},
   "outputs": [
    {
     "data": {
      "text/plain": [
       "(171, 7)"
      ]
     },
     "execution_count": 459,
     "metadata": {},
     "output_type": "execute_result"
    }
   ],
   "source": [
    "X_train_selected = feature_selection.transform(X_train)\n",
    "X_train_selected.shape"
   ]
  },
  {
   "cell_type": "code",
   "execution_count": 460,
   "id": "4aa337df",
   "metadata": {},
   "outputs": [
    {
     "data": {
      "text/plain": [
       "(43, 7)"
      ]
     },
     "execution_count": 460,
     "metadata": {},
     "output_type": "execute_result"
    }
   ],
   "source": [
    "X_test_selected = feature_selection.transform(X_test)\n",
    "X_test_selected.shape"
   ]
  },
  {
   "cell_type": "code",
   "execution_count": 461,
   "id": "569f6d0e",
   "metadata": {},
   "outputs": [
    {
     "data": {
      "text/plain": [
       "((171, 7), (43, 7), (171, 1), (43, 1))"
      ]
     },
     "execution_count": 461,
     "metadata": {},
     "output_type": "execute_result"
    }
   ],
   "source": [
    "X_train_selected.shape,X_test_selected.shape,y_train.shape,y_test.shape"
   ]
  },
  {
   "cell_type": "markdown",
   "id": "d3176ebf",
   "metadata": {},
   "source": [
    "## 9. model with best features"
   ]
  },
  {
   "cell_type": "code",
   "execution_count": 462,
   "id": "3bd590bb",
   "metadata": {},
   "outputs": [],
   "source": [
    "Knn_model1 = KNeighborsClassifier()\n",
    "Knn_model1.fit(X_train_selected,y_train)\n",
    "pred = Knn_model1.predict(X_test_selected)"
   ]
  },
  {
   "cell_type": "code",
   "execution_count": 463,
   "id": "fe1d4f21",
   "metadata": {},
   "outputs": [
    {
     "data": {
      "text/plain": [
       "0.6976744186046512"
      ]
     },
     "execution_count": 463,
     "metadata": {},
     "output_type": "execute_result"
    }
   ],
   "source": [
    "accuracy_score(y_test,pred)"
   ]
  },
  {
   "cell_type": "markdown",
   "id": "bf3627e1",
   "metadata": {},
   "source": [
    "### 10.checking for outliers"
   ]
  },
  {
   "cell_type": "markdown",
   "id": "282e1455",
   "metadata": {},
   "source": [
    "## using percentiles"
   ]
  },
  {
   "cell_type": "code",
   "execution_count": 464,
   "id": "dd2dba04",
   "metadata": {},
   "outputs": [
    {
     "data": {
      "text/html": [
       "<div>\n",
       "<style scoped>\n",
       "    .dataframe tbody tr th:only-of-type {\n",
       "        vertical-align: middle;\n",
       "    }\n",
       "\n",
       "    .dataframe tbody tr th {\n",
       "        vertical-align: top;\n",
       "    }\n",
       "\n",
       "    .dataframe thead th {\n",
       "        text-align: right;\n",
       "    }\n",
       "</style>\n",
       "<table border=\"1\" class=\"dataframe\">\n",
       "  <thead>\n",
       "    <tr style=\"text-align: right;\">\n",
       "      <th></th>\n",
       "      <th>RI</th>\n",
       "      <th>Na</th>\n",
       "      <th>Mg</th>\n",
       "      <th>Al</th>\n",
       "      <th>Si</th>\n",
       "      <th>K</th>\n",
       "      <th>Ca</th>\n",
       "      <th>Ba</th>\n",
       "      <th>Fe</th>\n",
       "    </tr>\n",
       "  </thead>\n",
       "  <tbody>\n",
       "    <tr>\n",
       "      <th>0</th>\n",
       "      <td>0.872868</td>\n",
       "      <td>0.284953</td>\n",
       "      <td>1.254639</td>\n",
       "      <td>-0.692442</td>\n",
       "      <td>-1.127082</td>\n",
       "      <td>-0.671705</td>\n",
       "      <td>-0.145766</td>\n",
       "      <td>-0.352877</td>\n",
       "      <td>-0.586451</td>\n",
       "    </tr>\n",
       "    <tr>\n",
       "      <th>1</th>\n",
       "      <td>-0.249333</td>\n",
       "      <td>0.591817</td>\n",
       "      <td>0.636168</td>\n",
       "      <td>-0.170460</td>\n",
       "      <td>0.102319</td>\n",
       "      <td>-0.026213</td>\n",
       "      <td>-0.793734</td>\n",
       "      <td>-0.352877</td>\n",
       "      <td>-0.586451</td>\n",
       "    </tr>\n",
       "    <tr>\n",
       "      <th>2</th>\n",
       "      <td>-0.721318</td>\n",
       "      <td>0.149933</td>\n",
       "      <td>0.601422</td>\n",
       "      <td>0.190912</td>\n",
       "      <td>0.438787</td>\n",
       "      <td>-0.164533</td>\n",
       "      <td>-0.828949</td>\n",
       "      <td>-0.352877</td>\n",
       "      <td>-0.586451</td>\n",
       "    </tr>\n",
       "    <tr>\n",
       "      <th>3</th>\n",
       "      <td>-0.232831</td>\n",
       "      <td>-0.242853</td>\n",
       "      <td>0.698710</td>\n",
       "      <td>-0.310994</td>\n",
       "      <td>-0.052974</td>\n",
       "      <td>0.112107</td>\n",
       "      <td>-0.519052</td>\n",
       "      <td>-0.352877</td>\n",
       "      <td>-0.586451</td>\n",
       "    </tr>\n",
       "    <tr>\n",
       "      <th>4</th>\n",
       "      <td>-0.312045</td>\n",
       "      <td>-0.169205</td>\n",
       "      <td>0.650066</td>\n",
       "      <td>-0.411375</td>\n",
       "      <td>0.555256</td>\n",
       "      <td>0.081369</td>\n",
       "      <td>-0.624699</td>\n",
       "      <td>-0.352877</td>\n",
       "      <td>-0.586451</td>\n",
       "    </tr>\n",
       "  </tbody>\n",
       "</table>\n",
       "</div>"
      ],
      "text/plain": [
       "         RI        Na        Mg        Al        Si         K        Ca  \\\n",
       "0  0.872868  0.284953  1.254639 -0.692442 -1.127082 -0.671705 -0.145766   \n",
       "1 -0.249333  0.591817  0.636168 -0.170460  0.102319 -0.026213 -0.793734   \n",
       "2 -0.721318  0.149933  0.601422  0.190912  0.438787 -0.164533 -0.828949   \n",
       "3 -0.232831 -0.242853  0.698710 -0.310994 -0.052974  0.112107 -0.519052   \n",
       "4 -0.312045 -0.169205  0.650066 -0.411375  0.555256  0.081369 -0.624699   \n",
       "\n",
       "         Ba        Fe  \n",
       "0 -0.352877 -0.586451  \n",
       "1 -0.352877 -0.586451  \n",
       "2 -0.352877 -0.586451  \n",
       "3 -0.352877 -0.586451  \n",
       "4 -0.352877 -0.586451  "
      ]
     },
     "execution_count": 464,
     "metadata": {},
     "output_type": "execute_result"
    }
   ],
   "source": [
    "X.head()"
   ]
  },
  {
   "cell_type": "code",
   "execution_count": 465,
   "id": "fb2bc0ff",
   "metadata": {},
   "outputs": [
    {
     "data": {
      "text/html": [
       "<div>\n",
       "<style scoped>\n",
       "    .dataframe tbody tr th:only-of-type {\n",
       "        vertical-align: middle;\n",
       "    }\n",
       "\n",
       "    .dataframe tbody tr th {\n",
       "        vertical-align: top;\n",
       "    }\n",
       "\n",
       "    .dataframe thead th {\n",
       "        text-align: right;\n",
       "    }\n",
       "</style>\n",
       "<table border=\"1\" class=\"dataframe\">\n",
       "  <thead>\n",
       "    <tr style=\"text-align: right;\">\n",
       "      <th></th>\n",
       "      <th>Type</th>\n",
       "    </tr>\n",
       "  </thead>\n",
       "  <tbody>\n",
       "    <tr>\n",
       "      <th>0</th>\n",
       "      <td>1</td>\n",
       "    </tr>\n",
       "    <tr>\n",
       "      <th>1</th>\n",
       "      <td>1</td>\n",
       "    </tr>\n",
       "    <tr>\n",
       "      <th>2</th>\n",
       "      <td>1</td>\n",
       "    </tr>\n",
       "    <tr>\n",
       "      <th>3</th>\n",
       "      <td>1</td>\n",
       "    </tr>\n",
       "    <tr>\n",
       "      <th>4</th>\n",
       "      <td>1</td>\n",
       "    </tr>\n",
       "  </tbody>\n",
       "</table>\n",
       "</div>"
      ],
      "text/plain": [
       "   Type\n",
       "0     1\n",
       "1     1\n",
       "2     1\n",
       "3     1\n",
       "4     1"
      ]
     },
     "execution_count": 465,
     "metadata": {},
     "output_type": "execute_result"
    }
   ],
   "source": [
    "y.head()"
   ]
  },
  {
   "cell_type": "code",
   "execution_count": 466,
   "id": "4d7c8ff1",
   "metadata": {},
   "outputs": [
    {
     "data": {
      "text/html": [
       "<div>\n",
       "<style scoped>\n",
       "    .dataframe tbody tr th:only-of-type {\n",
       "        vertical-align: middle;\n",
       "    }\n",
       "\n",
       "    .dataframe tbody tr th {\n",
       "        vertical-align: top;\n",
       "    }\n",
       "\n",
       "    .dataframe thead th {\n",
       "        text-align: right;\n",
       "    }\n",
       "</style>\n",
       "<table border=\"1\" class=\"dataframe\">\n",
       "  <thead>\n",
       "    <tr style=\"text-align: right;\">\n",
       "      <th></th>\n",
       "      <th>RI</th>\n",
       "      <th>Mg</th>\n",
       "      <th>Al</th>\n",
       "      <th>Si</th>\n",
       "      <th>K</th>\n",
       "      <th>Ca</th>\n",
       "      <th>Ba</th>\n",
       "      <th>Type</th>\n",
       "    </tr>\n",
       "  </thead>\n",
       "  <tbody>\n",
       "    <tr>\n",
       "      <th>0</th>\n",
       "      <td>0.872868</td>\n",
       "      <td>1.254639</td>\n",
       "      <td>-0.692442</td>\n",
       "      <td>-1.127082</td>\n",
       "      <td>-0.671705</td>\n",
       "      <td>-0.145766</td>\n",
       "      <td>-0.352877</td>\n",
       "      <td>1</td>\n",
       "    </tr>\n",
       "    <tr>\n",
       "      <th>1</th>\n",
       "      <td>-0.249333</td>\n",
       "      <td>0.636168</td>\n",
       "      <td>-0.170460</td>\n",
       "      <td>0.102319</td>\n",
       "      <td>-0.026213</td>\n",
       "      <td>-0.793734</td>\n",
       "      <td>-0.352877</td>\n",
       "      <td>1</td>\n",
       "    </tr>\n",
       "    <tr>\n",
       "      <th>2</th>\n",
       "      <td>-0.721318</td>\n",
       "      <td>0.601422</td>\n",
       "      <td>0.190912</td>\n",
       "      <td>0.438787</td>\n",
       "      <td>-0.164533</td>\n",
       "      <td>-0.828949</td>\n",
       "      <td>-0.352877</td>\n",
       "      <td>1</td>\n",
       "    </tr>\n",
       "    <tr>\n",
       "      <th>3</th>\n",
       "      <td>-0.232831</td>\n",
       "      <td>0.698710</td>\n",
       "      <td>-0.310994</td>\n",
       "      <td>-0.052974</td>\n",
       "      <td>0.112107</td>\n",
       "      <td>-0.519052</td>\n",
       "      <td>-0.352877</td>\n",
       "      <td>1</td>\n",
       "    </tr>\n",
       "    <tr>\n",
       "      <th>4</th>\n",
       "      <td>-0.312045</td>\n",
       "      <td>0.650066</td>\n",
       "      <td>-0.411375</td>\n",
       "      <td>0.555256</td>\n",
       "      <td>0.081369</td>\n",
       "      <td>-0.624699</td>\n",
       "      <td>-0.352877</td>\n",
       "      <td>1</td>\n",
       "    </tr>\n",
       "  </tbody>\n",
       "</table>\n",
       "</div>"
      ],
      "text/plain": [
       "         RI        Mg        Al        Si         K        Ca        Ba  Type\n",
       "0  0.872868  1.254639 -0.692442 -1.127082 -0.671705 -0.145766 -0.352877     1\n",
       "1 -0.249333  0.636168 -0.170460  0.102319 -0.026213 -0.793734 -0.352877     1\n",
       "2 -0.721318  0.601422  0.190912  0.438787 -0.164533 -0.828949 -0.352877     1\n",
       "3 -0.232831  0.698710 -0.310994 -0.052974  0.112107 -0.519052 -0.352877     1\n",
       "4 -0.312045  0.650066 -0.411375  0.555256  0.081369 -0.624699 -0.352877     1"
      ]
     },
     "execution_count": 466,
     "metadata": {},
     "output_type": "execute_result"
    }
   ],
   "source": [
    "data2 = X[['RI', 'Mg', 'Al', 'Si', 'K', 'Ca', 'Ba']]\n",
    "data2['Type'] = y\n",
    "data2.head()"
   ]
  },
  {
   "cell_type": "code",
   "execution_count": 467,
   "id": "4722e998",
   "metadata": {},
   "outputs": [
    {
     "data": {
      "image/png": "[encoded data removed]",
      "text/plain": [
       "<Figure size 432x288 with 1 Axes>"
      ]
     },
     "metadata": {
      "needs_background": "light"
     },
     "output_type": "display_data"
    }
   ],
   "source": [
    "plt.boxplot(data2)\n",
    "plt.show()"
   ]
  },
  {
   "cell_type": "code",
   "execution_count": 468,
   "id": "7dcdbca4",
   "metadata": {},
   "outputs": [],
   "source": [
    "temp_data = data2"
   ]
  },
  {
   "cell_type": "code",
   "execution_count": 469,
   "id": "7bf3674b",
   "metadata": {},
   "outputs": [
    {
     "name": "stdout",
     "output_type": "stream",
     "text": [
      "(214, 8)\n"
     ]
    },
    {
     "data": {
      "text/plain": [
       "(192, 8)"
      ]
     },
     "execution_count": 469,
     "metadata": {},
     "output_type": "execute_result"
    }
   ],
   "source": [
    "print(temp_data.shape)\n",
    "upper_limit = temp_data['Ca'].quantile(.95)\n",
    "lower_limit = temp_data['Ca'].quantile(.05)\n",
    "\n",
    "f1 = temp_data['Ca'] < upper_limit\n",
    "f2 = temp_data['Ca'] > lower_limit\n",
    "\n",
    "temp_data = temp_data[f1 & f2]\n",
    "temp_data.shape"
   ]
  },
  {
   "cell_type": "code",
   "execution_count": 470,
   "id": "4afb29e4",
   "metadata": {},
   "outputs": [
    {
     "data": {
      "text/plain": [
       "((153, 7), (39, 7), (153, 1), (39, 1))"
      ]
     },
     "execution_count": 470,
     "metadata": {},
     "output_type": "execute_result"
    }
   ],
   "source": [
    "X = temp_data.drop(labels='Type',axis=1)\n",
    "y = temp_data[['Type']]\n",
    "\n",
    "X_train,X_test,y_train,y_test = train_test_split(X,y,test_size=0.20,shuffle=True,random_state=24,stratify=y)\n",
    "X_train.shape,X_test.shape,y_train.shape,y_test.shape "
   ]
  },
  {
   "cell_type": "code",
   "execution_count": 471,
   "id": "88d53511",
   "metadata": {},
   "outputs": [
    {
     "data": {
      "text/plain": [
       "0.6666666666666666"
      ]
     },
     "execution_count": 471,
     "metadata": {},
     "output_type": "execute_result"
    }
   ],
   "source": [
    "knn_model2 = KNeighborsClassifier()\n",
    "knn_model2.fit(X_train,y_train)\n",
    "y_pred2 = knn_model2.predict(X_test)\n",
    "accuracy_score(y_test,y_pred2)"
   ]
  },
  {
   "cell_type": "markdown",
   "id": "ac54834f",
   "metadata": {},
   "source": [
    "#### Removing outliers decreasing the accuracy"
   ]
  },
  {
   "cell_type": "markdown",
   "id": "6a1537b6",
   "metadata": {},
   "source": [
    "## Final Model with 5 neighbors,7 features "
   ]
  },
  {
   "cell_type": "code",
   "execution_count": 475,
   "id": "02b5a4f2",
   "metadata": {},
   "outputs": [],
   "source": [
    "X = data[['RI', 'Mg', 'Al', 'Si', 'K', 'Ca', 'Ba']]\n",
    "y = data[['Type']]"
   ]
  },
  {
   "cell_type": "code",
   "execution_count": 476,
   "id": "f1d48408",
   "metadata": {},
   "outputs": [],
   "source": [
    "std_sclr = StandardScaler()\n",
    "col = X.columns\n",
    "X = pd.DataFrame(std_sclr.fit_transform(X),columns=col)"
   ]
  },
  {
   "cell_type": "code",
   "execution_count": 477,
   "id": "0e5a6351",
   "metadata": {},
   "outputs": [
    {
     "data": {
      "text/plain": [
       "((214, 7), (214, 1))"
      ]
     },
     "execution_count": 477,
     "metadata": {},
     "output_type": "execute_result"
    }
   ],
   "source": [
    "X.shape,y.shape"
   ]
  },
  {
   "cell_type": "code",
   "execution_count": 478,
   "id": "b157944e",
   "metadata": {},
   "outputs": [
    {
     "data": {
      "text/plain": [
       "((171, 7), (43, 7), (171, 1), (43, 1))"
      ]
     },
     "execution_count": 478,
     "metadata": {},
     "output_type": "execute_result"
    }
   ],
   "source": [
    "X_train,X_test,y_train,y_test = train_test_split(X,y,test_size=0.20,shuffle=True,random_state=24,stratify=y)\n",
    "X_train.shape,X_test.shape,y_train.shape,y_test.shape "
   ]
  },
  {
   "cell_type": "code",
   "execution_count": 479,
   "id": "5764c71a",
   "metadata": {},
   "outputs": [
    {
     "data": {
      "text/plain": [
       "KNeighborsClassifier()"
      ]
     },
     "execution_count": 479,
     "metadata": {},
     "output_type": "execute_result"
    }
   ],
   "source": [
    "Final_model = KNeighborsClassifier()\n",
    "final_model.fit(X_train,y_train)"
   ]
  },
  {
   "cell_type": "code",
   "execution_count": 480,
   "id": "a8037cd1",
   "metadata": {},
   "outputs": [],
   "source": [
    "pred = final_model.predict(X_test)"
   ]
  },
  {
   "cell_type": "code",
   "execution_count": 481,
   "id": "a63cd43a",
   "metadata": {},
   "outputs": [
    {
     "data": {
      "text/plain": [
       "0.6976744186046512"
      ]
     },
     "execution_count": 481,
     "metadata": {},
     "output_type": "execute_result"
    }
   ],
   "source": [
    "accuracy_score(y_test,pred)"
   ]
  },
  {
   "cell_type": "code",
   "execution_count": 482,
   "id": "82a84161",
   "metadata": {},
   "outputs": [
    {
     "data": {
      "text/plain": [
       "array([[12,  1,  1,  0,  0,  0],\n",
       "       [ 4, 10,  1,  0,  0,  0],\n",
       "       [ 1,  2,  0,  0,  0,  0],\n",
       "       [ 0,  0,  0,  3,  0,  0],\n",
       "       [ 1,  0,  0,  0,  1,  0],\n",
       "       [ 1,  1,  0,  0,  0,  4]])"
      ]
     },
     "execution_count": 482,
     "metadata": {},
     "output_type": "execute_result"
    }
   ],
   "source": [
    "confusion_matrix(y_test,pred)"
   ]
  },
  {
   "cell_type": "code",
   "execution_count": 483,
   "id": "dd431975",
   "metadata": {},
   "outputs": [
    {
     "name": "stdout",
     "output_type": "stream",
     "text": [
      "\n",
      "               precision    recall  f1-score   support\n",
      "\n",
      "           1       0.63      0.86      0.73        14\n",
      "           2       0.71      0.67      0.69        15\n",
      "           3       0.00      0.00      0.00         3\n",
      "           5       1.00      1.00      1.00         3\n",
      "           6       1.00      0.50      0.67         2\n",
      "           7       1.00      0.67      0.80         6\n",
      "\n",
      "    accuracy                           0.70        43\n",
      "   macro avg       0.72      0.62      0.65        43\n",
      "weighted avg       0.71      0.70      0.69        43\n",
      "\n"
     ]
    }
   ],
   "source": [
    "print('\\n',classification_report(y_test,pred))"
   ]
  },
  {
   "cell_type": "markdown",
   "id": "8f27fd12",
   "metadata": {},
   "source": [
    "## Model Deployment"
   ]
  },
  {
   "cell_type": "code",
   "execution_count": 485,
   "id": "061f7919",
   "metadata": {},
   "outputs": [],
   "source": [
    "dump(final_model,open('glass_type_pred.pkl','wb'))"
   ]
  }
 ],
 "metadata": {
  "kernelspec": {
   "display_name": "Python 3",
   "language": "python",
   "name": "python3"
  },
  "language_info": {
   "codemirror_mode": {
    "name": "ipython",
    "version": 3
   },
   "file_extension": ".py",
   "mimetype": "text/x-python",
   "name": "python",
   "nbconvert_exporter": "python",
   "pygments_lexer": "ipython3",
   "version": "3.8.8"
  }
 },
 "nbformat": 4,
 "nbformat_minor": 5
}
