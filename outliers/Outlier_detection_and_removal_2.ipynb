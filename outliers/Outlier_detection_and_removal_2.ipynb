{
 "cells": [
  {
   "cell_type": "code",
   "execution_count": 353,
   "id": "4fb69b4f",
   "metadata": {},
   "outputs": [],
   "source": [
    "import pandas as pd\n",
    "pd.set_option('display.max_columns',None)\n",
    "import warnings\n",
    "warnings.filterwarnings('ignore')"
   ]
  },
  {
   "cell_type": "code",
   "execution_count": 407,
   "id": "1a8c56e0",
   "metadata": {},
   "outputs": [
    {
     "data": {
      "text/html": [
       "<div>\n",
       "<style scoped>\n",
       "    .dataframe tbody tr th:only-of-type {\n",
       "        vertical-align: middle;\n",
       "    }\n",
       "\n",
       "    .dataframe tbody tr th {\n",
       "        vertical-align: top;\n",
       "    }\n",
       "\n",
       "    .dataframe thead th {\n",
       "        text-align: right;\n",
       "    }\n",
       "</style>\n",
       "<table border=\"1\" class=\"dataframe\">\n",
       "  <thead>\n",
       "    <tr style=\"text-align: right;\">\n",
       "      <th></th>\n",
       "      <th>Id</th>\n",
       "      <th>Model</th>\n",
       "      <th>Price</th>\n",
       "      <th>Age_08_04</th>\n",
       "      <th>Mfg_Month</th>\n",
       "      <th>Mfg_Year</th>\n",
       "      <th>KM</th>\n",
       "      <th>Fuel_Type</th>\n",
       "      <th>HP</th>\n",
       "      <th>Met_Color</th>\n",
       "      <th>Color</th>\n",
       "      <th>Automatic</th>\n",
       "      <th>cc</th>\n",
       "      <th>Doors</th>\n",
       "      <th>Cylinders</th>\n",
       "      <th>Gears</th>\n",
       "      <th>Quarterly_Tax</th>\n",
       "      <th>Weight</th>\n",
       "      <th>Mfr_Guarantee</th>\n",
       "      <th>BOVAG_Guarantee</th>\n",
       "      <th>Guarantee_Period</th>\n",
       "      <th>ABS</th>\n",
       "      <th>Airbag_1</th>\n",
       "      <th>Airbag_2</th>\n",
       "      <th>Airco</th>\n",
       "      <th>Automatic_airco</th>\n",
       "      <th>Boardcomputer</th>\n",
       "      <th>CD_Player</th>\n",
       "      <th>Central_Lock</th>\n",
       "      <th>Powered_Windows</th>\n",
       "      <th>Power_Steering</th>\n",
       "      <th>Radio</th>\n",
       "      <th>Mistlamps</th>\n",
       "      <th>Sport_Model</th>\n",
       "      <th>Backseat_Divider</th>\n",
       "      <th>Metallic_Rim</th>\n",
       "      <th>Radio_cassette</th>\n",
       "      <th>Tow_Bar</th>\n",
       "    </tr>\n",
       "  </thead>\n",
       "  <tbody>\n",
       "    <tr>\n",
       "      <th>0</th>\n",
       "      <td>1</td>\n",
       "      <td>TOYOTA Corolla 2.0 D4D HATCHB TERRA 2/3-Doors</td>\n",
       "      <td>13500</td>\n",
       "      <td>23</td>\n",
       "      <td>10</td>\n",
       "      <td>2002</td>\n",
       "      <td>46986</td>\n",
       "      <td>Diesel</td>\n",
       "      <td>90</td>\n",
       "      <td>1</td>\n",
       "      <td>Blue</td>\n",
       "      <td>0</td>\n",
       "      <td>2000</td>\n",
       "      <td>3</td>\n",
       "      <td>4</td>\n",
       "      <td>5</td>\n",
       "      <td>210</td>\n",
       "      <td>1165</td>\n",
       "      <td>0</td>\n",
       "      <td>1</td>\n",
       "      <td>3</td>\n",
       "      <td>1</td>\n",
       "      <td>1</td>\n",
       "      <td>1</td>\n",
       "      <td>0</td>\n",
       "      <td>0</td>\n",
       "      <td>1</td>\n",
       "      <td>0</td>\n",
       "      <td>1</td>\n",
       "      <td>1</td>\n",
       "      <td>1</td>\n",
       "      <td>0</td>\n",
       "      <td>0</td>\n",
       "      <td>0</td>\n",
       "      <td>1</td>\n",
       "      <td>0</td>\n",
       "      <td>0</td>\n",
       "      <td>0</td>\n",
       "    </tr>\n",
       "    <tr>\n",
       "      <th>1</th>\n",
       "      <td>2</td>\n",
       "      <td>TOYOTA Corolla 2.0 D4D HATCHB TERRA 2/3-Doors</td>\n",
       "      <td>13750</td>\n",
       "      <td>23</td>\n",
       "      <td>10</td>\n",
       "      <td>2002</td>\n",
       "      <td>72937</td>\n",
       "      <td>Diesel</td>\n",
       "      <td>90</td>\n",
       "      <td>1</td>\n",
       "      <td>Silver</td>\n",
       "      <td>0</td>\n",
       "      <td>2000</td>\n",
       "      <td>3</td>\n",
       "      <td>4</td>\n",
       "      <td>5</td>\n",
       "      <td>210</td>\n",
       "      <td>1165</td>\n",
       "      <td>0</td>\n",
       "      <td>1</td>\n",
       "      <td>3</td>\n",
       "      <td>1</td>\n",
       "      <td>1</td>\n",
       "      <td>1</td>\n",
       "      <td>1</td>\n",
       "      <td>0</td>\n",
       "      <td>1</td>\n",
       "      <td>1</td>\n",
       "      <td>1</td>\n",
       "      <td>0</td>\n",
       "      <td>1</td>\n",
       "      <td>0</td>\n",
       "      <td>0</td>\n",
       "      <td>0</td>\n",
       "      <td>1</td>\n",
       "      <td>0</td>\n",
       "      <td>0</td>\n",
       "      <td>0</td>\n",
       "    </tr>\n",
       "  </tbody>\n",
       "</table>\n",
       "</div>"
      ],
      "text/plain": [
       "   Id                                          Model  Price  Age_08_04  \\\n",
       "0   1  TOYOTA Corolla 2.0 D4D HATCHB TERRA 2/3-Doors  13500         23   \n",
       "1   2  TOYOTA Corolla 2.0 D4D HATCHB TERRA 2/3-Doors  13750         23   \n",
       "\n",
       "   Mfg_Month  Mfg_Year     KM Fuel_Type  HP  Met_Color   Color  Automatic  \\\n",
       "0         10      2002  46986    Diesel  90          1    Blue          0   \n",
       "1         10      2002  72937    Diesel  90          1  Silver          0   \n",
       "\n",
       "     cc  Doors  Cylinders  Gears  Quarterly_Tax  Weight  Mfr_Guarantee  \\\n",
       "0  2000      3          4      5            210    1165              0   \n",
       "1  2000      3          4      5            210    1165              0   \n",
       "\n",
       "   BOVAG_Guarantee  Guarantee_Period  ABS  Airbag_1  Airbag_2  Airco  \\\n",
       "0                1                 3    1         1         1      0   \n",
       "1                1                 3    1         1         1      1   \n",
       "\n",
       "   Automatic_airco  Boardcomputer  CD_Player  Central_Lock  Powered_Windows  \\\n",
       "0                0              1          0             1                1   \n",
       "1                0              1          1             1                0   \n",
       "\n",
       "   Power_Steering  Radio  Mistlamps  Sport_Model  Backseat_Divider  \\\n",
       "0               1      0          0            0                 1   \n",
       "1               1      0          0            0                 1   \n",
       "\n",
       "   Metallic_Rim  Radio_cassette  Tow_Bar  \n",
       "0             0               0        0  \n",
       "1             0               0        0  "
      ]
     },
     "execution_count": 407,
     "metadata": {},
     "output_type": "execute_result"
    }
   ],
   "source": [
    "data_cars = pd.read_csv('../../Exlr_Assignments/Datasets/ToyotaCorolla.csv')\n",
    "data_cars.head(2)"
   ]
  },
  {
   "cell_type": "code",
   "execution_count": 397,
   "id": "fa510d7f",
   "metadata": {},
   "outputs": [
    {
     "data": {
      "text/plain": [
       "(1436, 38)"
      ]
     },
     "execution_count": 397,
     "metadata": {},
     "output_type": "execute_result"
    }
   ],
   "source": [
    "data_cars.shape"
   ]
  },
  {
   "cell_type": "code",
   "execution_count": 63,
   "id": "d69b201f",
   "metadata": {},
   "outputs": [
    {
     "data": {
      "text/plain": [
       "Id                  0\n",
       "Model               0\n",
       "Price               0\n",
       "Age_08_04           0\n",
       "Mfg_Month           0\n",
       "Mfg_Year            0\n",
       "KM                  0\n",
       "Fuel_Type           0\n",
       "HP                  0\n",
       "Met_Color           0\n",
       "Color               0\n",
       "Automatic           0\n",
       "cc                  0\n",
       "Doors               0\n",
       "Cylinders           0\n",
       "Gears               0\n",
       "Quarterly_Tax       0\n",
       "Weight              0\n",
       "Mfr_Guarantee       0\n",
       "BOVAG_Guarantee     0\n",
       "Guarantee_Period    0\n",
       "ABS                 0\n",
       "Airbag_1            0\n",
       "Airbag_2            0\n",
       "Airco               0\n",
       "Automatic_airco     0\n",
       "Boardcomputer       0\n",
       "CD_Player           0\n",
       "Central_Lock        0\n",
       "Powered_Windows     0\n",
       "Power_Steering      0\n",
       "Radio               0\n",
       "Mistlamps           0\n",
       "Sport_Model         0\n",
       "Backseat_Divider    0\n",
       "Metallic_Rim        0\n",
       "Radio_cassette      0\n",
       "Tow_Bar             0\n",
       "dtype: int64"
      ]
     },
     "execution_count": 63,
     "metadata": {},
     "output_type": "execute_result"
    }
   ],
   "source": [
    "data_cars.isna().sum()"
   ]
  },
  {
   "cell_type": "code",
   "execution_count": 4,
   "id": "b1501086",
   "metadata": {},
   "outputs": [
    {
     "data": {
      "text/plain": [
       "Id                   int64\n",
       "Model               object\n",
       "Price                int64\n",
       "Age_08_04            int64\n",
       "Mfg_Month            int64\n",
       "Mfg_Year             int64\n",
       "KM                   int64\n",
       "Fuel_Type           object\n",
       "HP                   int64\n",
       "Met_Color            int64\n",
       "Color               object\n",
       "Automatic            int64\n",
       "cc                   int64\n",
       "Doors                int64\n",
       "Cylinders            int64\n",
       "Gears                int64\n",
       "Quarterly_Tax        int64\n",
       "Weight               int64\n",
       "Mfr_Guarantee        int64\n",
       "BOVAG_Guarantee      int64\n",
       "Guarantee_Period     int64\n",
       "ABS                  int64\n",
       "Airbag_1             int64\n",
       "Airbag_2             int64\n",
       "Airco                int64\n",
       "Automatic_airco      int64\n",
       "Boardcomputer        int64\n",
       "CD_Player            int64\n",
       "Central_Lock         int64\n",
       "Powered_Windows      int64\n",
       "Power_Steering       int64\n",
       "Radio                int64\n",
       "Mistlamps            int64\n",
       "Sport_Model          int64\n",
       "Backseat_Divider     int64\n",
       "Metallic_Rim         int64\n",
       "Radio_cassette       int64\n",
       "Tow_Bar              int64\n",
       "dtype: object"
      ]
     },
     "execution_count": 4,
     "metadata": {},
     "output_type": "execute_result"
    }
   ],
   "source": [
    "data_cars.dtypes"
   ]
  },
  {
   "cell_type": "code",
   "execution_count": 398,
   "id": "03f04740",
   "metadata": {},
   "outputs": [
    {
     "data": {
      "text/plain": [
       "['Model', 'Fuel_Type', 'Color']"
      ]
     },
     "execution_count": 398,
     "metadata": {},
     "output_type": "execute_result"
    }
   ],
   "source": [
    "[x for x in data_cars.columns if data_cars[x].dtype == 'O']"
   ]
  },
  {
   "cell_type": "code",
   "execution_count": 408,
   "id": "b6f3df23",
   "metadata": {},
   "outputs": [],
   "source": [
    "del data_cars['Model']"
   ]
  },
  {
   "cell_type": "code",
   "execution_count": 409,
   "id": "024e8227",
   "metadata": {},
   "outputs": [
    {
     "data": {
      "text/plain": [
       "array(['Diesel', 'Petrol', 'CNG'], dtype=object)"
      ]
     },
     "execution_count": 409,
     "metadata": {},
     "output_type": "execute_result"
    }
   ],
   "source": [
    "data_cars['Fuel_Type'].unique()"
   ]
  },
  {
   "cell_type": "code",
   "execution_count": 410,
   "id": "cc6d0901",
   "metadata": {},
   "outputs": [],
   "source": [
    "data_cars = pd.get_dummies(data=data_cars,columns=['Fuel_Type'],drop_first=True)"
   ]
  },
  {
   "cell_type": "code",
   "execution_count": 411,
   "id": "f47947e2",
   "metadata": {},
   "outputs": [
    {
     "data": {
      "text/html": [
       "<div>\n",
       "<style scoped>\n",
       "    .dataframe tbody tr th:only-of-type {\n",
       "        vertical-align: middle;\n",
       "    }\n",
       "\n",
       "    .dataframe tbody tr th {\n",
       "        vertical-align: top;\n",
       "    }\n",
       "\n",
       "    .dataframe thead th {\n",
       "        text-align: right;\n",
       "    }\n",
       "</style>\n",
       "<table border=\"1\" class=\"dataframe\">\n",
       "  <thead>\n",
       "    <tr style=\"text-align: right;\">\n",
       "      <th></th>\n",
       "      <th>Id</th>\n",
       "      <th>Price</th>\n",
       "      <th>Age_08_04</th>\n",
       "      <th>Mfg_Month</th>\n",
       "      <th>Mfg_Year</th>\n",
       "      <th>KM</th>\n",
       "      <th>HP</th>\n",
       "      <th>Met_Color</th>\n",
       "      <th>Color</th>\n",
       "      <th>Automatic</th>\n",
       "      <th>cc</th>\n",
       "      <th>Doors</th>\n",
       "      <th>Cylinders</th>\n",
       "      <th>Gears</th>\n",
       "      <th>Quarterly_Tax</th>\n",
       "      <th>Weight</th>\n",
       "      <th>Mfr_Guarantee</th>\n",
       "      <th>BOVAG_Guarantee</th>\n",
       "      <th>Guarantee_Period</th>\n",
       "      <th>ABS</th>\n",
       "      <th>Airbag_1</th>\n",
       "      <th>Airbag_2</th>\n",
       "      <th>Airco</th>\n",
       "      <th>Automatic_airco</th>\n",
       "      <th>Boardcomputer</th>\n",
       "      <th>CD_Player</th>\n",
       "      <th>Central_Lock</th>\n",
       "      <th>Powered_Windows</th>\n",
       "      <th>Power_Steering</th>\n",
       "      <th>Radio</th>\n",
       "      <th>Mistlamps</th>\n",
       "      <th>Sport_Model</th>\n",
       "      <th>Backseat_Divider</th>\n",
       "      <th>Metallic_Rim</th>\n",
       "      <th>Radio_cassette</th>\n",
       "      <th>Tow_Bar</th>\n",
       "      <th>Fuel_Type_Diesel</th>\n",
       "      <th>Fuel_Type_Petrol</th>\n",
       "    </tr>\n",
       "  </thead>\n",
       "  <tbody>\n",
       "    <tr>\n",
       "      <th>0</th>\n",
       "      <td>1</td>\n",
       "      <td>13500</td>\n",
       "      <td>23</td>\n",
       "      <td>10</td>\n",
       "      <td>2002</td>\n",
       "      <td>46986</td>\n",
       "      <td>90</td>\n",
       "      <td>1</td>\n",
       "      <td>Blue</td>\n",
       "      <td>0</td>\n",
       "      <td>2000</td>\n",
       "      <td>3</td>\n",
       "      <td>4</td>\n",
       "      <td>5</td>\n",
       "      <td>210</td>\n",
       "      <td>1165</td>\n",
       "      <td>0</td>\n",
       "      <td>1</td>\n",
       "      <td>3</td>\n",
       "      <td>1</td>\n",
       "      <td>1</td>\n",
       "      <td>1</td>\n",
       "      <td>0</td>\n",
       "      <td>0</td>\n",
       "      <td>1</td>\n",
       "      <td>0</td>\n",
       "      <td>1</td>\n",
       "      <td>1</td>\n",
       "      <td>1</td>\n",
       "      <td>0</td>\n",
       "      <td>0</td>\n",
       "      <td>0</td>\n",
       "      <td>1</td>\n",
       "      <td>0</td>\n",
       "      <td>0</td>\n",
       "      <td>0</td>\n",
       "      <td>1</td>\n",
       "      <td>0</td>\n",
       "    </tr>\n",
       "    <tr>\n",
       "      <th>1</th>\n",
       "      <td>2</td>\n",
       "      <td>13750</td>\n",
       "      <td>23</td>\n",
       "      <td>10</td>\n",
       "      <td>2002</td>\n",
       "      <td>72937</td>\n",
       "      <td>90</td>\n",
       "      <td>1</td>\n",
       "      <td>Silver</td>\n",
       "      <td>0</td>\n",
       "      <td>2000</td>\n",
       "      <td>3</td>\n",
       "      <td>4</td>\n",
       "      <td>5</td>\n",
       "      <td>210</td>\n",
       "      <td>1165</td>\n",
       "      <td>0</td>\n",
       "      <td>1</td>\n",
       "      <td>3</td>\n",
       "      <td>1</td>\n",
       "      <td>1</td>\n",
       "      <td>1</td>\n",
       "      <td>1</td>\n",
       "      <td>0</td>\n",
       "      <td>1</td>\n",
       "      <td>1</td>\n",
       "      <td>1</td>\n",
       "      <td>0</td>\n",
       "      <td>1</td>\n",
       "      <td>0</td>\n",
       "      <td>0</td>\n",
       "      <td>0</td>\n",
       "      <td>1</td>\n",
       "      <td>0</td>\n",
       "      <td>0</td>\n",
       "      <td>0</td>\n",
       "      <td>1</td>\n",
       "      <td>0</td>\n",
       "    </tr>\n",
       "    <tr>\n",
       "      <th>2</th>\n",
       "      <td>3</td>\n",
       "      <td>13950</td>\n",
       "      <td>24</td>\n",
       "      <td>9</td>\n",
       "      <td>2002</td>\n",
       "      <td>41711</td>\n",
       "      <td>90</td>\n",
       "      <td>1</td>\n",
       "      <td>Blue</td>\n",
       "      <td>0</td>\n",
       "      <td>2000</td>\n",
       "      <td>3</td>\n",
       "      <td>4</td>\n",
       "      <td>5</td>\n",
       "      <td>210</td>\n",
       "      <td>1165</td>\n",
       "      <td>1</td>\n",
       "      <td>1</td>\n",
       "      <td>3</td>\n",
       "      <td>1</td>\n",
       "      <td>1</td>\n",
       "      <td>1</td>\n",
       "      <td>0</td>\n",
       "      <td>0</td>\n",
       "      <td>1</td>\n",
       "      <td>0</td>\n",
       "      <td>0</td>\n",
       "      <td>0</td>\n",
       "      <td>1</td>\n",
       "      <td>0</td>\n",
       "      <td>0</td>\n",
       "      <td>0</td>\n",
       "      <td>1</td>\n",
       "      <td>0</td>\n",
       "      <td>0</td>\n",
       "      <td>0</td>\n",
       "      <td>1</td>\n",
       "      <td>0</td>\n",
       "    </tr>\n",
       "    <tr>\n",
       "      <th>3</th>\n",
       "      <td>4</td>\n",
       "      <td>14950</td>\n",
       "      <td>26</td>\n",
       "      <td>7</td>\n",
       "      <td>2002</td>\n",
       "      <td>48000</td>\n",
       "      <td>90</td>\n",
       "      <td>0</td>\n",
       "      <td>Black</td>\n",
       "      <td>0</td>\n",
       "      <td>2000</td>\n",
       "      <td>3</td>\n",
       "      <td>4</td>\n",
       "      <td>5</td>\n",
       "      <td>210</td>\n",
       "      <td>1165</td>\n",
       "      <td>1</td>\n",
       "      <td>1</td>\n",
       "      <td>3</td>\n",
       "      <td>1</td>\n",
       "      <td>1</td>\n",
       "      <td>1</td>\n",
       "      <td>0</td>\n",
       "      <td>0</td>\n",
       "      <td>1</td>\n",
       "      <td>0</td>\n",
       "      <td>0</td>\n",
       "      <td>0</td>\n",
       "      <td>1</td>\n",
       "      <td>0</td>\n",
       "      <td>0</td>\n",
       "      <td>0</td>\n",
       "      <td>1</td>\n",
       "      <td>0</td>\n",
       "      <td>0</td>\n",
       "      <td>0</td>\n",
       "      <td>1</td>\n",
       "      <td>0</td>\n",
       "    </tr>\n",
       "    <tr>\n",
       "      <th>4</th>\n",
       "      <td>5</td>\n",
       "      <td>13750</td>\n",
       "      <td>30</td>\n",
       "      <td>3</td>\n",
       "      <td>2002</td>\n",
       "      <td>38500</td>\n",
       "      <td>90</td>\n",
       "      <td>0</td>\n",
       "      <td>Black</td>\n",
       "      <td>0</td>\n",
       "      <td>2000</td>\n",
       "      <td>3</td>\n",
       "      <td>4</td>\n",
       "      <td>5</td>\n",
       "      <td>210</td>\n",
       "      <td>1170</td>\n",
       "      <td>1</td>\n",
       "      <td>1</td>\n",
       "      <td>3</td>\n",
       "      <td>1</td>\n",
       "      <td>1</td>\n",
       "      <td>1</td>\n",
       "      <td>1</td>\n",
       "      <td>0</td>\n",
       "      <td>1</td>\n",
       "      <td>0</td>\n",
       "      <td>1</td>\n",
       "      <td>1</td>\n",
       "      <td>1</td>\n",
       "      <td>0</td>\n",
       "      <td>1</td>\n",
       "      <td>0</td>\n",
       "      <td>1</td>\n",
       "      <td>0</td>\n",
       "      <td>0</td>\n",
       "      <td>0</td>\n",
       "      <td>1</td>\n",
       "      <td>0</td>\n",
       "    </tr>\n",
       "  </tbody>\n",
       "</table>\n",
       "</div>"
      ],
      "text/plain": [
       "   Id  Price  Age_08_04  Mfg_Month  Mfg_Year     KM  HP  Met_Color   Color  \\\n",
       "0   1  13500         23         10      2002  46986  90          1    Blue   \n",
       "1   2  13750         23         10      2002  72937  90          1  Silver   \n",
       "2   3  13950         24          9      2002  41711  90          1    Blue   \n",
       "3   4  14950         26          7      2002  48000  90          0   Black   \n",
       "4   5  13750         30          3      2002  38500  90          0   Black   \n",
       "\n",
       "   Automatic    cc  Doors  Cylinders  Gears  Quarterly_Tax  Weight  \\\n",
       "0          0  2000      3          4      5            210    1165   \n",
       "1          0  2000      3          4      5            210    1165   \n",
       "2          0  2000      3          4      5            210    1165   \n",
       "3          0  2000      3          4      5            210    1165   \n",
       "4          0  2000      3          4      5            210    1170   \n",
       "\n",
       "   Mfr_Guarantee  BOVAG_Guarantee  Guarantee_Period  ABS  Airbag_1  Airbag_2  \\\n",
       "0              0                1                 3    1         1         1   \n",
       "1              0                1                 3    1         1         1   \n",
       "2              1                1                 3    1         1         1   \n",
       "3              1                1                 3    1         1         1   \n",
       "4              1                1                 3    1         1         1   \n",
       "\n",
       "   Airco  Automatic_airco  Boardcomputer  CD_Player  Central_Lock  \\\n",
       "0      0                0              1          0             1   \n",
       "1      1                0              1          1             1   \n",
       "2      0                0              1          0             0   \n",
       "3      0                0              1          0             0   \n",
       "4      1                0              1          0             1   \n",
       "\n",
       "   Powered_Windows  Power_Steering  Radio  Mistlamps  Sport_Model  \\\n",
       "0                1               1      0          0            0   \n",
       "1                0               1      0          0            0   \n",
       "2                0               1      0          0            0   \n",
       "3                0               1      0          0            0   \n",
       "4                1               1      0          1            0   \n",
       "\n",
       "   Backseat_Divider  Metallic_Rim  Radio_cassette  Tow_Bar  Fuel_Type_Diesel  \\\n",
       "0                 1             0               0        0                 1   \n",
       "1                 1             0               0        0                 1   \n",
       "2                 1             0               0        0                 1   \n",
       "3                 1             0               0        0                 1   \n",
       "4                 1             0               0        0                 1   \n",
       "\n",
       "   Fuel_Type_Petrol  \n",
       "0                 0  \n",
       "1                 0  \n",
       "2                 0  \n",
       "3                 0  \n",
       "4                 0  "
      ]
     },
     "execution_count": 411,
     "metadata": {},
     "output_type": "execute_result"
    }
   ],
   "source": [
    "data_cars.head()"
   ]
  },
  {
   "cell_type": "code",
   "execution_count": 412,
   "id": "e3688f4e",
   "metadata": {},
   "outputs": [
    {
     "data": {
      "text/plain": [
       "array(['Blue', 'Silver', 'Black', 'White', 'Grey', 'Red', 'Green',\n",
       "       'Yellow', 'Violet', 'Beige'], dtype=object)"
      ]
     },
     "execution_count": 412,
     "metadata": {},
     "output_type": "execute_result"
    }
   ],
   "source": [
    "data_cars['Color'].unique()"
   ]
  },
  {
   "cell_type": "code",
   "execution_count": 413,
   "id": "cfadc2d1",
   "metadata": {},
   "outputs": [],
   "source": [
    "del data_cars['Color']"
   ]
  },
  {
   "cell_type": "code",
   "execution_count": 414,
   "id": "d45a4c40",
   "metadata": {},
   "outputs": [
    {
     "data": {
      "text/html": [
       "<div>\n",
       "<style scoped>\n",
       "    .dataframe tbody tr th:only-of-type {\n",
       "        vertical-align: middle;\n",
       "    }\n",
       "\n",
       "    .dataframe tbody tr th {\n",
       "        vertical-align: top;\n",
       "    }\n",
       "\n",
       "    .dataframe thead th {\n",
       "        text-align: right;\n",
       "    }\n",
       "</style>\n",
       "<table border=\"1\" class=\"dataframe\">\n",
       "  <thead>\n",
       "    <tr style=\"text-align: right;\">\n",
       "      <th></th>\n",
       "      <th>Id</th>\n",
       "      <th>Price</th>\n",
       "      <th>Age_08_04</th>\n",
       "      <th>Mfg_Month</th>\n",
       "      <th>Mfg_Year</th>\n",
       "      <th>KM</th>\n",
       "      <th>HP</th>\n",
       "      <th>Met_Color</th>\n",
       "      <th>Automatic</th>\n",
       "      <th>cc</th>\n",
       "      <th>Doors</th>\n",
       "      <th>Cylinders</th>\n",
       "      <th>Gears</th>\n",
       "      <th>Quarterly_Tax</th>\n",
       "      <th>Weight</th>\n",
       "      <th>Mfr_Guarantee</th>\n",
       "      <th>BOVAG_Guarantee</th>\n",
       "      <th>Guarantee_Period</th>\n",
       "      <th>ABS</th>\n",
       "      <th>Airbag_1</th>\n",
       "      <th>Airbag_2</th>\n",
       "      <th>Airco</th>\n",
       "      <th>Automatic_airco</th>\n",
       "      <th>Boardcomputer</th>\n",
       "      <th>CD_Player</th>\n",
       "      <th>Central_Lock</th>\n",
       "      <th>Powered_Windows</th>\n",
       "      <th>Power_Steering</th>\n",
       "      <th>Radio</th>\n",
       "      <th>Mistlamps</th>\n",
       "      <th>Sport_Model</th>\n",
       "      <th>Backseat_Divider</th>\n",
       "      <th>Metallic_Rim</th>\n",
       "      <th>Radio_cassette</th>\n",
       "      <th>Tow_Bar</th>\n",
       "      <th>Fuel_Type_Diesel</th>\n",
       "      <th>Fuel_Type_Petrol</th>\n",
       "    </tr>\n",
       "  </thead>\n",
       "  <tbody>\n",
       "    <tr>\n",
       "      <th>0</th>\n",
       "      <td>1</td>\n",
       "      <td>13500</td>\n",
       "      <td>23</td>\n",
       "      <td>10</td>\n",
       "      <td>2002</td>\n",
       "      <td>46986</td>\n",
       "      <td>90</td>\n",
       "      <td>1</td>\n",
       "      <td>0</td>\n",
       "      <td>2000</td>\n",
       "      <td>3</td>\n",
       "      <td>4</td>\n",
       "      <td>5</td>\n",
       "      <td>210</td>\n",
       "      <td>1165</td>\n",
       "      <td>0</td>\n",
       "      <td>1</td>\n",
       "      <td>3</td>\n",
       "      <td>1</td>\n",
       "      <td>1</td>\n",
       "      <td>1</td>\n",
       "      <td>0</td>\n",
       "      <td>0</td>\n",
       "      <td>1</td>\n",
       "      <td>0</td>\n",
       "      <td>1</td>\n",
       "      <td>1</td>\n",
       "      <td>1</td>\n",
       "      <td>0</td>\n",
       "      <td>0</td>\n",
       "      <td>0</td>\n",
       "      <td>1</td>\n",
       "      <td>0</td>\n",
       "      <td>0</td>\n",
       "      <td>0</td>\n",
       "      <td>1</td>\n",
       "      <td>0</td>\n",
       "    </tr>\n",
       "    <tr>\n",
       "      <th>1</th>\n",
       "      <td>2</td>\n",
       "      <td>13750</td>\n",
       "      <td>23</td>\n",
       "      <td>10</td>\n",
       "      <td>2002</td>\n",
       "      <td>72937</td>\n",
       "      <td>90</td>\n",
       "      <td>1</td>\n",
       "      <td>0</td>\n",
       "      <td>2000</td>\n",
       "      <td>3</td>\n",
       "      <td>4</td>\n",
       "      <td>5</td>\n",
       "      <td>210</td>\n",
       "      <td>1165</td>\n",
       "      <td>0</td>\n",
       "      <td>1</td>\n",
       "      <td>3</td>\n",
       "      <td>1</td>\n",
       "      <td>1</td>\n",
       "      <td>1</td>\n",
       "      <td>1</td>\n",
       "      <td>0</td>\n",
       "      <td>1</td>\n",
       "      <td>1</td>\n",
       "      <td>1</td>\n",
       "      <td>0</td>\n",
       "      <td>1</td>\n",
       "      <td>0</td>\n",
       "      <td>0</td>\n",
       "      <td>0</td>\n",
       "      <td>1</td>\n",
       "      <td>0</td>\n",
       "      <td>0</td>\n",
       "      <td>0</td>\n",
       "      <td>1</td>\n",
       "      <td>0</td>\n",
       "    </tr>\n",
       "    <tr>\n",
       "      <th>2</th>\n",
       "      <td>3</td>\n",
       "      <td>13950</td>\n",
       "      <td>24</td>\n",
       "      <td>9</td>\n",
       "      <td>2002</td>\n",
       "      <td>41711</td>\n",
       "      <td>90</td>\n",
       "      <td>1</td>\n",
       "      <td>0</td>\n",
       "      <td>2000</td>\n",
       "      <td>3</td>\n",
       "      <td>4</td>\n",
       "      <td>5</td>\n",
       "      <td>210</td>\n",
       "      <td>1165</td>\n",
       "      <td>1</td>\n",
       "      <td>1</td>\n",
       "      <td>3</td>\n",
       "      <td>1</td>\n",
       "      <td>1</td>\n",
       "      <td>1</td>\n",
       "      <td>0</td>\n",
       "      <td>0</td>\n",
       "      <td>1</td>\n",
       "      <td>0</td>\n",
       "      <td>0</td>\n",
       "      <td>0</td>\n",
       "      <td>1</td>\n",
       "      <td>0</td>\n",
       "      <td>0</td>\n",
       "      <td>0</td>\n",
       "      <td>1</td>\n",
       "      <td>0</td>\n",
       "      <td>0</td>\n",
       "      <td>0</td>\n",
       "      <td>1</td>\n",
       "      <td>0</td>\n",
       "    </tr>\n",
       "    <tr>\n",
       "      <th>3</th>\n",
       "      <td>4</td>\n",
       "      <td>14950</td>\n",
       "      <td>26</td>\n",
       "      <td>7</td>\n",
       "      <td>2002</td>\n",
       "      <td>48000</td>\n",
       "      <td>90</td>\n",
       "      <td>0</td>\n",
       "      <td>0</td>\n",
       "      <td>2000</td>\n",
       "      <td>3</td>\n",
       "      <td>4</td>\n",
       "      <td>5</td>\n",
       "      <td>210</td>\n",
       "      <td>1165</td>\n",
       "      <td>1</td>\n",
       "      <td>1</td>\n",
       "      <td>3</td>\n",
       "      <td>1</td>\n",
       "      <td>1</td>\n",
       "      <td>1</td>\n",
       "      <td>0</td>\n",
       "      <td>0</td>\n",
       "      <td>1</td>\n",
       "      <td>0</td>\n",
       "      <td>0</td>\n",
       "      <td>0</td>\n",
       "      <td>1</td>\n",
       "      <td>0</td>\n",
       "      <td>0</td>\n",
       "      <td>0</td>\n",
       "      <td>1</td>\n",
       "      <td>0</td>\n",
       "      <td>0</td>\n",
       "      <td>0</td>\n",
       "      <td>1</td>\n",
       "      <td>0</td>\n",
       "    </tr>\n",
       "    <tr>\n",
       "      <th>4</th>\n",
       "      <td>5</td>\n",
       "      <td>13750</td>\n",
       "      <td>30</td>\n",
       "      <td>3</td>\n",
       "      <td>2002</td>\n",
       "      <td>38500</td>\n",
       "      <td>90</td>\n",
       "      <td>0</td>\n",
       "      <td>0</td>\n",
       "      <td>2000</td>\n",
       "      <td>3</td>\n",
       "      <td>4</td>\n",
       "      <td>5</td>\n",
       "      <td>210</td>\n",
       "      <td>1170</td>\n",
       "      <td>1</td>\n",
       "      <td>1</td>\n",
       "      <td>3</td>\n",
       "      <td>1</td>\n",
       "      <td>1</td>\n",
       "      <td>1</td>\n",
       "      <td>1</td>\n",
       "      <td>0</td>\n",
       "      <td>1</td>\n",
       "      <td>0</td>\n",
       "      <td>1</td>\n",
       "      <td>1</td>\n",
       "      <td>1</td>\n",
       "      <td>0</td>\n",
       "      <td>1</td>\n",
       "      <td>0</td>\n",
       "      <td>1</td>\n",
       "      <td>0</td>\n",
       "      <td>0</td>\n",
       "      <td>0</td>\n",
       "      <td>1</td>\n",
       "      <td>0</td>\n",
       "    </tr>\n",
       "  </tbody>\n",
       "</table>\n",
       "</div>"
      ],
      "text/plain": [
       "   Id  Price  Age_08_04  Mfg_Month  Mfg_Year     KM  HP  Met_Color  Automatic  \\\n",
       "0   1  13500         23         10      2002  46986  90          1          0   \n",
       "1   2  13750         23         10      2002  72937  90          1          0   \n",
       "2   3  13950         24          9      2002  41711  90          1          0   \n",
       "3   4  14950         26          7      2002  48000  90          0          0   \n",
       "4   5  13750         30          3      2002  38500  90          0          0   \n",
       "\n",
       "     cc  Doors  Cylinders  Gears  Quarterly_Tax  Weight  Mfr_Guarantee  \\\n",
       "0  2000      3          4      5            210    1165              0   \n",
       "1  2000      3          4      5            210    1165              0   \n",
       "2  2000      3          4      5            210    1165              1   \n",
       "3  2000      3          4      5            210    1165              1   \n",
       "4  2000      3          4      5            210    1170              1   \n",
       "\n",
       "   BOVAG_Guarantee  Guarantee_Period  ABS  Airbag_1  Airbag_2  Airco  \\\n",
       "0                1                 3    1         1         1      0   \n",
       "1                1                 3    1         1         1      1   \n",
       "2                1                 3    1         1         1      0   \n",
       "3                1                 3    1         1         1      0   \n",
       "4                1                 3    1         1         1      1   \n",
       "\n",
       "   Automatic_airco  Boardcomputer  CD_Player  Central_Lock  Powered_Windows  \\\n",
       "0                0              1          0             1                1   \n",
       "1                0              1          1             1                0   \n",
       "2                0              1          0             0                0   \n",
       "3                0              1          0             0                0   \n",
       "4                0              1          0             1                1   \n",
       "\n",
       "   Power_Steering  Radio  Mistlamps  Sport_Model  Backseat_Divider  \\\n",
       "0               1      0          0            0                 1   \n",
       "1               1      0          0            0                 1   \n",
       "2               1      0          0            0                 1   \n",
       "3               1      0          0            0                 1   \n",
       "4               1      0          1            0                 1   \n",
       "\n",
       "   Metallic_Rim  Radio_cassette  Tow_Bar  Fuel_Type_Diesel  Fuel_Type_Petrol  \n",
       "0             0               0        0                 1                 0  \n",
       "1             0               0        0                 1                 0  \n",
       "2             0               0        0                 1                 0  \n",
       "3             0               0        0                 1                 0  \n",
       "4             0               0        0                 1                 0  "
      ]
     },
     "execution_count": 414,
     "metadata": {},
     "output_type": "execute_result"
    }
   ],
   "source": [
    "data_cars.head()"
   ]
  },
  {
   "cell_type": "code",
   "execution_count": 415,
   "id": "252bccf6",
   "metadata": {},
   "outputs": [],
   "source": [
    "data_cars.drop(labels=['Mfg_Month','Mfg_Year'],axis=1,inplace=True)"
   ]
  },
  {
   "cell_type": "code",
   "execution_count": 416,
   "id": "c750b5f7",
   "metadata": {},
   "outputs": [
    {
     "data": {
      "text/html": [
       "<div>\n",
       "<style scoped>\n",
       "    .dataframe tbody tr th:only-of-type {\n",
       "        vertical-align: middle;\n",
       "    }\n",
       "\n",
       "    .dataframe tbody tr th {\n",
       "        vertical-align: top;\n",
       "    }\n",
       "\n",
       "    .dataframe thead th {\n",
       "        text-align: right;\n",
       "    }\n",
       "</style>\n",
       "<table border=\"1\" class=\"dataframe\">\n",
       "  <thead>\n",
       "    <tr style=\"text-align: right;\">\n",
       "      <th></th>\n",
       "      <th>Id</th>\n",
       "      <th>Price</th>\n",
       "      <th>Age_08_04</th>\n",
       "      <th>KM</th>\n",
       "      <th>HP</th>\n",
       "      <th>Met_Color</th>\n",
       "      <th>Automatic</th>\n",
       "      <th>cc</th>\n",
       "      <th>Doors</th>\n",
       "      <th>Cylinders</th>\n",
       "      <th>Gears</th>\n",
       "      <th>Quarterly_Tax</th>\n",
       "      <th>Weight</th>\n",
       "      <th>Mfr_Guarantee</th>\n",
       "      <th>BOVAG_Guarantee</th>\n",
       "      <th>Guarantee_Period</th>\n",
       "      <th>ABS</th>\n",
       "      <th>Airbag_1</th>\n",
       "      <th>Airbag_2</th>\n",
       "      <th>Airco</th>\n",
       "      <th>Automatic_airco</th>\n",
       "      <th>Boardcomputer</th>\n",
       "      <th>CD_Player</th>\n",
       "      <th>Central_Lock</th>\n",
       "      <th>Powered_Windows</th>\n",
       "      <th>Power_Steering</th>\n",
       "      <th>Radio</th>\n",
       "      <th>Mistlamps</th>\n",
       "      <th>Sport_Model</th>\n",
       "      <th>Backseat_Divider</th>\n",
       "      <th>Metallic_Rim</th>\n",
       "      <th>Radio_cassette</th>\n",
       "      <th>Tow_Bar</th>\n",
       "      <th>Fuel_Type_Diesel</th>\n",
       "      <th>Fuel_Type_Petrol</th>\n",
       "    </tr>\n",
       "  </thead>\n",
       "  <tbody>\n",
       "    <tr>\n",
       "      <th>0</th>\n",
       "      <td>1</td>\n",
       "      <td>13500</td>\n",
       "      <td>23</td>\n",
       "      <td>46986</td>\n",
       "      <td>90</td>\n",
       "      <td>1</td>\n",
       "      <td>0</td>\n",
       "      <td>2000</td>\n",
       "      <td>3</td>\n",
       "      <td>4</td>\n",
       "      <td>5</td>\n",
       "      <td>210</td>\n",
       "      <td>1165</td>\n",
       "      <td>0</td>\n",
       "      <td>1</td>\n",
       "      <td>3</td>\n",
       "      <td>1</td>\n",
       "      <td>1</td>\n",
       "      <td>1</td>\n",
       "      <td>0</td>\n",
       "      <td>0</td>\n",
       "      <td>1</td>\n",
       "      <td>0</td>\n",
       "      <td>1</td>\n",
       "      <td>1</td>\n",
       "      <td>1</td>\n",
       "      <td>0</td>\n",
       "      <td>0</td>\n",
       "      <td>0</td>\n",
       "      <td>1</td>\n",
       "      <td>0</td>\n",
       "      <td>0</td>\n",
       "      <td>0</td>\n",
       "      <td>1</td>\n",
       "      <td>0</td>\n",
       "    </tr>\n",
       "    <tr>\n",
       "      <th>1</th>\n",
       "      <td>2</td>\n",
       "      <td>13750</td>\n",
       "      <td>23</td>\n",
       "      <td>72937</td>\n",
       "      <td>90</td>\n",
       "      <td>1</td>\n",
       "      <td>0</td>\n",
       "      <td>2000</td>\n",
       "      <td>3</td>\n",
       "      <td>4</td>\n",
       "      <td>5</td>\n",
       "      <td>210</td>\n",
       "      <td>1165</td>\n",
       "      <td>0</td>\n",
       "      <td>1</td>\n",
       "      <td>3</td>\n",
       "      <td>1</td>\n",
       "      <td>1</td>\n",
       "      <td>1</td>\n",
       "      <td>1</td>\n",
       "      <td>0</td>\n",
       "      <td>1</td>\n",
       "      <td>1</td>\n",
       "      <td>1</td>\n",
       "      <td>0</td>\n",
       "      <td>1</td>\n",
       "      <td>0</td>\n",
       "      <td>0</td>\n",
       "      <td>0</td>\n",
       "      <td>1</td>\n",
       "      <td>0</td>\n",
       "      <td>0</td>\n",
       "      <td>0</td>\n",
       "      <td>1</td>\n",
       "      <td>0</td>\n",
       "    </tr>\n",
       "    <tr>\n",
       "      <th>2</th>\n",
       "      <td>3</td>\n",
       "      <td>13950</td>\n",
       "      <td>24</td>\n",
       "      <td>41711</td>\n",
       "      <td>90</td>\n",
       "      <td>1</td>\n",
       "      <td>0</td>\n",
       "      <td>2000</td>\n",
       "      <td>3</td>\n",
       "      <td>4</td>\n",
       "      <td>5</td>\n",
       "      <td>210</td>\n",
       "      <td>1165</td>\n",
       "      <td>1</td>\n",
       "      <td>1</td>\n",
       "      <td>3</td>\n",
       "      <td>1</td>\n",
       "      <td>1</td>\n",
       "      <td>1</td>\n",
       "      <td>0</td>\n",
       "      <td>0</td>\n",
       "      <td>1</td>\n",
       "      <td>0</td>\n",
       "      <td>0</td>\n",
       "      <td>0</td>\n",
       "      <td>1</td>\n",
       "      <td>0</td>\n",
       "      <td>0</td>\n",
       "      <td>0</td>\n",
       "      <td>1</td>\n",
       "      <td>0</td>\n",
       "      <td>0</td>\n",
       "      <td>0</td>\n",
       "      <td>1</td>\n",
       "      <td>0</td>\n",
       "    </tr>\n",
       "    <tr>\n",
       "      <th>3</th>\n",
       "      <td>4</td>\n",
       "      <td>14950</td>\n",
       "      <td>26</td>\n",
       "      <td>48000</td>\n",
       "      <td>90</td>\n",
       "      <td>0</td>\n",
       "      <td>0</td>\n",
       "      <td>2000</td>\n",
       "      <td>3</td>\n",
       "      <td>4</td>\n",
       "      <td>5</td>\n",
       "      <td>210</td>\n",
       "      <td>1165</td>\n",
       "      <td>1</td>\n",
       "      <td>1</td>\n",
       "      <td>3</td>\n",
       "      <td>1</td>\n",
       "      <td>1</td>\n",
       "      <td>1</td>\n",
       "      <td>0</td>\n",
       "      <td>0</td>\n",
       "      <td>1</td>\n",
       "      <td>0</td>\n",
       "      <td>0</td>\n",
       "      <td>0</td>\n",
       "      <td>1</td>\n",
       "      <td>0</td>\n",
       "      <td>0</td>\n",
       "      <td>0</td>\n",
       "      <td>1</td>\n",
       "      <td>0</td>\n",
       "      <td>0</td>\n",
       "      <td>0</td>\n",
       "      <td>1</td>\n",
       "      <td>0</td>\n",
       "    </tr>\n",
       "    <tr>\n",
       "      <th>4</th>\n",
       "      <td>5</td>\n",
       "      <td>13750</td>\n",
       "      <td>30</td>\n",
       "      <td>38500</td>\n",
       "      <td>90</td>\n",
       "      <td>0</td>\n",
       "      <td>0</td>\n",
       "      <td>2000</td>\n",
       "      <td>3</td>\n",
       "      <td>4</td>\n",
       "      <td>5</td>\n",
       "      <td>210</td>\n",
       "      <td>1170</td>\n",
       "      <td>1</td>\n",
       "      <td>1</td>\n",
       "      <td>3</td>\n",
       "      <td>1</td>\n",
       "      <td>1</td>\n",
       "      <td>1</td>\n",
       "      <td>1</td>\n",
       "      <td>0</td>\n",
       "      <td>1</td>\n",
       "      <td>0</td>\n",
       "      <td>1</td>\n",
       "      <td>1</td>\n",
       "      <td>1</td>\n",
       "      <td>0</td>\n",
       "      <td>1</td>\n",
       "      <td>0</td>\n",
       "      <td>1</td>\n",
       "      <td>0</td>\n",
       "      <td>0</td>\n",
       "      <td>0</td>\n",
       "      <td>1</td>\n",
       "      <td>0</td>\n",
       "    </tr>\n",
       "  </tbody>\n",
       "</table>\n",
       "</div>"
      ],
      "text/plain": [
       "   Id  Price  Age_08_04     KM  HP  Met_Color  Automatic    cc  Doors  \\\n",
       "0   1  13500         23  46986  90          1          0  2000      3   \n",
       "1   2  13750         23  72937  90          1          0  2000      3   \n",
       "2   3  13950         24  41711  90          1          0  2000      3   \n",
       "3   4  14950         26  48000  90          0          0  2000      3   \n",
       "4   5  13750         30  38500  90          0          0  2000      3   \n",
       "\n",
       "   Cylinders  Gears  Quarterly_Tax  Weight  Mfr_Guarantee  BOVAG_Guarantee  \\\n",
       "0          4      5            210    1165              0                1   \n",
       "1          4      5            210    1165              0                1   \n",
       "2          4      5            210    1165              1                1   \n",
       "3          4      5            210    1165              1                1   \n",
       "4          4      5            210    1170              1                1   \n",
       "\n",
       "   Guarantee_Period  ABS  Airbag_1  Airbag_2  Airco  Automatic_airco  \\\n",
       "0                 3    1         1         1      0                0   \n",
       "1                 3    1         1         1      1                0   \n",
       "2                 3    1         1         1      0                0   \n",
       "3                 3    1         1         1      0                0   \n",
       "4                 3    1         1         1      1                0   \n",
       "\n",
       "   Boardcomputer  CD_Player  Central_Lock  Powered_Windows  Power_Steering  \\\n",
       "0              1          0             1                1               1   \n",
       "1              1          1             1                0               1   \n",
       "2              1          0             0                0               1   \n",
       "3              1          0             0                0               1   \n",
       "4              1          0             1                1               1   \n",
       "\n",
       "   Radio  Mistlamps  Sport_Model  Backseat_Divider  Metallic_Rim  \\\n",
       "0      0          0            0                 1             0   \n",
       "1      0          0            0                 1             0   \n",
       "2      0          0            0                 1             0   \n",
       "3      0          0            0                 1             0   \n",
       "4      0          1            0                 1             0   \n",
       "\n",
       "   Radio_cassette  Tow_Bar  Fuel_Type_Diesel  Fuel_Type_Petrol  \n",
       "0               0        0                 1                 0  \n",
       "1               0        0                 1                 0  \n",
       "2               0        0                 1                 0  \n",
       "3               0        0                 1                 0  \n",
       "4               0        0                 1                 0  "
      ]
     },
     "execution_count": 416,
     "metadata": {},
     "output_type": "execute_result"
    }
   ],
   "source": [
    "data_cars.head()"
   ]
  },
  {
   "cell_type": "code",
   "execution_count": 406,
   "id": "cd387ab7",
   "metadata": {},
   "outputs": [],
   "source": [
    "data_cars.to_csv('cleaned_corolla_data')"
   ]
  },
  {
   "cell_type": "markdown",
   "id": "afe1d2ab",
   "metadata": {},
   "source": [
    "## Visualizing outlier using box plot"
   ]
  },
  {
   "cell_type": "code",
   "execution_count": 27,
   "id": "3e5c98a1",
   "metadata": {},
   "outputs": [],
   "source": [
    "import matplotlib.pyplot as plt\n",
    "import seaborn as sns"
   ]
  },
  {
   "cell_type": "code",
   "execution_count": 31,
   "id": "1297832d",
   "metadata": {},
   "outputs": [
    {
     "data": {
      "image/png": "[encoded data removed]",
      "text/plain": [
       "<Figure size 1080x576 with 1 Axes>"
      ]
     },
     "metadata": {
      "needs_background": "light"
     },
     "output_type": "display_data"
    }
   ],
   "source": [
    "plt.figure(figsize=(15,8))\n",
    "plt.boxplot(data_cars[['Price']])\n",
    "plt.show()"
   ]
  },
  {
   "cell_type": "code",
   "execution_count": 32,
   "id": "085dd087",
   "metadata": {},
   "outputs": [
    {
     "data": {
      "image/png": "[encoded data removed]",
      "text/plain": [
       "<Figure size 1080x576 with 1 Axes>"
      ]
     },
     "metadata": {
      "needs_background": "light"
     },
     "output_type": "display_data"
    }
   ],
   "source": [
    "\n",
    "plt.figure(figsize=(15,8))\n",
    "plt.boxplot(data_cars[['Age_08_04','HP','Quarterly_Tax']])\n",
    "plt.show()"
   ]
  },
  {
   "cell_type": "markdown",
   "id": "8f767113",
   "metadata": {},
   "source": [
    "## Train test splits"
   ]
  },
  {
   "cell_type": "code",
   "execution_count": 33,
   "id": "504844f4",
   "metadata": {},
   "outputs": [],
   "source": [
    "from sklearn.model_selection import train_test_split"
   ]
  },
  {
   "cell_type": "code",
   "execution_count": 417,
   "id": "9042029c",
   "metadata": {},
   "outputs": [
    {
     "name": "stdout",
     "output_type": "stream",
     "text": [
      "(1436, 34) (1436, 1)\n",
      "(1220, 34) (216, 34) (1220, 1) (216, 1)\n"
     ]
    }
   ],
   "source": [
    "def intialize_X_tain_y_train():\n",
    "    # split into input and output elements\n",
    "    X = data_cars.drop(labels='Price',axis=1)\n",
    "    y = data_cars[['Price']]\n",
    "    # summarize the shape of the dataset\n",
    "    print(X.shape, y.shape)\n",
    "    # split into train and test sets\n",
    "    X_train, X_test, y_train, y_test = train_test_split(X, y, test_size=0.15, random_state=20)\n",
    "    # summarize the shape of the train and test sets\n",
    "    return X_train, X_test, y_train, y_test\n",
    "    \n",
    "X_train, X_test, y_train, y_test = intialize_X_tain_y_train()\n",
    "print(X_train.shape, X_test.shape, y_train.shape, y_test.shape)"
   ]
  },
  {
   "cell_type": "markdown",
   "id": "a3b01ef5",
   "metadata": {},
   "source": [
    "## lets use two algorithms for our study\n",
    "\n",
    "### random Forest and Gradient Boosting algorithms"
   ]
  },
  {
   "cell_type": "markdown",
   "id": "6f987305",
   "metadata": {},
   "source": [
    "**Methods to create modeles and return mae and mse**"
   ]
  },
  {
   "cell_type": "code",
   "execution_count": 418,
   "id": "ea6d634f",
   "metadata": {},
   "outputs": [],
   "source": [
    "from sklearn.metrics import mean_absolute_error,mean_squared_error\n",
    "from sklearn.ensemble import RandomForestRegressor,GradientBoostingRegressor"
   ]
  },
  {
   "cell_type": "code",
   "execution_count": 419,
   "id": "ca9310f5",
   "metadata": {},
   "outputs": [],
   "source": [
    "def get_RandomForest_mae_mse(X_train,y_train):\n",
    "    rf_model = RandomForestRegressor()\n",
    "    rf_model.fit(X_train,y_train)\n",
    "    rf_pred = rf_model.predict(X_test)\n",
    "    rf_mae = mean_absolute_error(y_test,rf_pred)\n",
    "    rf_mse = mean_squared_error(y_test,rf_pred)\n",
    "    return rf_mae,rf_mse\n",
    "\n",
    "def get_GradientBoosting_mae_mse(X_train,y_train):\n",
    "    gb_model = GradientBoostingRegressor()\n",
    "    gb_model.fit(X_train,y_train)\n",
    "    gb_pred = gb_model.predict(X_test)\n",
    "    gb_mae = mean_absolute_error(y_test,gb_pred)\n",
    "    gb_mse = mean_squared_error(y_test,gb_pred)\n",
    "    return gb_mae,gb_mse"
   ]
  },
  {
   "cell_type": "markdown",
   "id": "95cb2f68",
   "metadata": {},
   "source": [
    "## creating the models with outliers"
   ]
  },
  {
   "cell_type": "code",
   "execution_count": 420,
   "id": "d4a66457",
   "metadata": {},
   "outputs": [
    {
     "data": {
      "text/plain": [
       "(794.07875, 1001537.8332384259)"
      ]
     },
     "execution_count": 420,
     "metadata": {},
     "output_type": "execute_result"
    }
   ],
   "source": [
    "rf_mae1,rf_mse1 = get_RandomForest_mae_mse(X_train,y_train)\n",
    "rf_mae1,rf_mse1 "
   ]
  },
  {
   "cell_type": "code",
   "execution_count": 421,
   "id": "d191d304",
   "metadata": {},
   "outputs": [
    {
     "data": {
      "text/plain": [
       "(778.9240822169502, 979989.9621739907)"
      ]
     },
     "execution_count": 421,
     "metadata": {},
     "output_type": "execute_result"
    }
   ],
   "source": [
    "gb_mae1,gb_mse1 = get_GradientBoosting_mae_mse(X_train,y_train)\n",
    "gb_mae1,gb_mse1"
   ]
  },
  {
   "cell_type": "markdown",
   "id": "1ed03734",
   "metadata": {},
   "source": [
    "## 1.Outlier detection and removal using Standard deviation"
   ]
  },
  {
   "cell_type": "code",
   "execution_count": 422,
   "id": "95a34800",
   "metadata": {},
   "outputs": [
    {
     "name": "stdout",
     "output_type": "stream",
     "text": [
      "(1436, 35)\n"
     ]
    },
    {
     "data": {
      "text/plain": [
       "((1410, 34), (1410, 1))"
      ]
     },
     "execution_count": 422,
     "metadata": {},
     "output_type": "execute_result"
    }
   ],
   "source": [
    "print(data_cars.shape)\n",
    "upper_limit = data_cars['Price'].mean() + data_cars['Price'].std()*3\n",
    "lower_limit = data_cars['Price'].mean() - data_cars['Price'].std()*3\n",
    "\n",
    "f1 = data_cars['Price'] < upper_limit\n",
    "f2 = data_cars['Price'] > lower_limit\n",
    "\n",
    "data = data_cars[f1 & f2]\n",
    "\n",
    "X = data.drop(labels='Price',axis=1)\n",
    "y = data[['Price']]\n",
    "X.shape,y.shape"
   ]
  },
  {
   "cell_type": "code",
   "execution_count": 423,
   "id": "f3e51976",
   "metadata": {},
   "outputs": [
    {
     "name": "stdout",
     "output_type": "stream",
     "text": [
      "(1198, 34) (212, 34) (1198, 1) (212, 1)\n"
     ]
    }
   ],
   "source": [
    " # split into train and test sets\n",
    "X_train, X_test, y_train, y_test = train_test_split(X, y, test_size=0.15, random_state=20)\n",
    "print(X_train.shape, X_test.shape, y_train.shape, y_test.shape)"
   ]
  },
  {
   "cell_type": "markdown",
   "id": "f725f451",
   "metadata": {},
   "source": [
    "## Creating models iwth new data"
   ]
  },
  {
   "cell_type": "code",
   "execution_count": 424,
   "id": "93b36475",
   "metadata": {},
   "outputs": [
    {
     "data": {
      "text/plain": [
       "(701.6231603773584, 860010.2114438679)"
      ]
     },
     "execution_count": 424,
     "metadata": {},
     "output_type": "execute_result"
    }
   ],
   "source": [
    "rf_mae2,rf_mse2 = get_RandomForest_mae_mse(X_train,y_train)\n",
    "rf_mae2,rf_mse2 "
   ]
  },
  {
   "cell_type": "code",
   "execution_count": 425,
   "id": "d2881f02",
   "metadata": {},
   "outputs": [
    {
     "data": {
      "text/plain": [
       "(659.8236322308737, 755087.492165774)"
      ]
     },
     "execution_count": 425,
     "metadata": {},
     "output_type": "execute_result"
    }
   ],
   "source": [
    "gb_mae2,gb_mse2 = get_GradientBoosting_mae_mse(X_train,y_train)\n",
    "gb_mae2,gb_mse2"
   ]
  },
  {
   "cell_type": "markdown",
   "id": "a0f3dec4",
   "metadata": {},
   "source": [
    "## mae decreased!!!"
   ]
  },
  {
   "cell_type": "markdown",
   "id": "c38e6f9f",
   "metadata": {},
   "source": [
    "## 2.Outlier detection and removal using percentiles"
   ]
  },
  {
   "cell_type": "code",
   "execution_count": 130,
   "id": "bcd75a94",
   "metadata": {},
   "outputs": [
    {
     "name": "stdout",
     "output_type": "stream",
     "text": [
      "(1436, 35)\n"
     ]
    }
   ],
   "source": [
    "print(data_cars.shape)"
   ]
  },
  {
   "cell_type": "code",
   "execution_count": 426,
   "id": "75b3bd48",
   "metadata": {},
   "outputs": [
    {
     "data": {
      "text/plain": [
       "((1202, 34), (1202, 1))"
      ]
     },
     "execution_count": 426,
     "metadata": {},
     "output_type": "execute_result"
    }
   ],
   "source": [
    "upper_limit = data_cars['Price'].quantile(0.90)\n",
    "lower_limit = data_cars['Price'].quantile(0.05)\n",
    "\n",
    "f1 = data_cars['Price'] < upper_limit\n",
    "f2 = data_cars['Price'] > lower_limit\n",
    "\n",
    "data = data_cars[f1 & f2]\n",
    "\n",
    "X = data.drop(labels='Price',axis=1)\n",
    "y = data[['Price']]\n",
    "X.shape,y.shape"
   ]
  },
  {
   "cell_type": "code",
   "execution_count": 427,
   "id": "8b387b01",
   "metadata": {},
   "outputs": [
    {
     "name": "stdout",
     "output_type": "stream",
     "text": [
      "(1021, 34) (181, 34) (1021, 1) (181, 1)\n"
     ]
    }
   ],
   "source": [
    " # split into train and test sets\n",
    "X_train, X_test, y_train, y_test = train_test_split(X, y, test_size=0.15, random_state=20)\n",
    "print(X_train.shape, X_test.shape, y_train.shape, y_test.shape)"
   ]
  },
  {
   "cell_type": "markdown",
   "id": "5d9de5f2",
   "metadata": {},
   "source": [
    "## creating new models with new data"
   ]
  },
  {
   "cell_type": "code",
   "execution_count": 428,
   "id": "82975e5d",
   "metadata": {},
   "outputs": [
    {
     "data": {
      "text/plain": [
       "(702.941546961326, 816908.4872176794)"
      ]
     },
     "execution_count": 428,
     "metadata": {},
     "output_type": "execute_result"
    }
   ],
   "source": [
    "rf_mae3,rf_mse3 = get_RandomForest_mae_mse(X_train,y_train)\n",
    "rf_mae3,rf_mse3 "
   ]
  },
  {
   "cell_type": "code",
   "execution_count": 429,
   "id": "19479bbc",
   "metadata": {},
   "outputs": [
    {
     "data": {
      "text/plain": [
       "(654.1662857234237, 689088.7705626669)"
      ]
     },
     "execution_count": 429,
     "metadata": {},
     "output_type": "execute_result"
    }
   ],
   "source": [
    "gb_mae3,gb_mse3 = get_GradientBoosting_mae_mse(X_train,y_train)\n",
    "gb_mae3,gb_mse3"
   ]
  },
  {
   "cell_type": "markdown",
   "id": "443ffcc7",
   "metadata": {},
   "source": [
    "## 3.Outlier Detection and removal using isolation forest"
   ]
  },
  {
   "cell_type": "code",
   "execution_count": 145,
   "id": "677b16e1",
   "metadata": {},
   "outputs": [],
   "source": [
    "from sklearn.ensemble import IsolationForest"
   ]
  },
  {
   "cell_type": "code",
   "execution_count": 430,
   "id": "a6cfae99",
   "metadata": {},
   "outputs": [
    {
     "name": "stdout",
     "output_type": "stream",
     "text": [
      "(1436, 34) (1436, 1)\n",
      "(1220, 34) (216, 34) (1220, 1) (216, 1)\n"
     ]
    }
   ],
   "source": [
    "X_train, X_test, y_train, y_test = intialize_X_tain_y_train()\n",
    "print(X_train.shape, X_test.shape, y_train.shape, y_test.shape)"
   ]
  },
  {
   "cell_type": "code",
   "execution_count": 431,
   "id": "fcee7724",
   "metadata": {},
   "outputs": [
    {
     "data": {
      "text/plain": [
       "((1098, 34), (1098, 1))"
      ]
     },
     "execution_count": 431,
     "metadata": {},
     "output_type": "execute_result"
    }
   ],
   "source": [
    "isf_model = IsolationForest(contamination=0.1)\n",
    "isf_pred = isf_model.fit_predict(X_train)\n",
    "\n",
    "X_train['pred'] = isf_pred\n",
    "y_train['pred'] = isf_pred\n",
    "\n",
    "X_train = X_train[X_train['pred']!=-1]\n",
    "y_train = y_train[y_train['pred']!=-1]\n",
    "\n",
    "del X_train['pred']\n",
    "del y_train['pred']\n",
    "\n",
    "X_train.shape,y_train.shape\n",
    "\n"
   ]
  },
  {
   "cell_type": "markdown",
   "id": "f4dcd397",
   "metadata": {},
   "source": [
    "### building models"
   ]
  },
  {
   "cell_type": "code",
   "execution_count": 432,
   "id": "7863fa22",
   "metadata": {},
   "outputs": [
    {
     "data": {
      "text/plain": [
       "(845.8488888888888, 1204821.3298518518)"
      ]
     },
     "execution_count": 432,
     "metadata": {},
     "output_type": "execute_result"
    }
   ],
   "source": [
    "rf_mae4,rf_mse4 = get_RandomForest_mae_mse(X_train,y_train)\n",
    "rf_mae4,rf_mse4 "
   ]
  },
  {
   "cell_type": "code",
   "execution_count": 433,
   "id": "8624c9e6",
   "metadata": {},
   "outputs": [
    {
     "data": {
      "text/plain": [
       "(814.2876712056337, 1103752.6825046057)"
      ]
     },
     "execution_count": 433,
     "metadata": {},
     "output_type": "execute_result"
    }
   ],
   "source": [
    "gb_mae4,gb_mse4 = get_GradientBoosting_mae_mse(X_train,y_train)\n",
    "gb_mae4,gb_mse4"
   ]
  },
  {
   "cell_type": "markdown",
   "id": "950c8982",
   "metadata": {},
   "source": [
    "## Isolation forest outlier detection doesnt work well for this data"
   ]
  },
  {
   "cell_type": "markdown",
   "id": "6a655431",
   "metadata": {},
   "source": [
    "## 4. Outlier detection and removal using Minimum Covariance Determinant (EllipticEnvelope class.)"
   ]
  },
  {
   "cell_type": "code",
   "execution_count": 434,
   "id": "974cd012",
   "metadata": {},
   "outputs": [],
   "source": [
    "from sklearn.covariance import EllipticEnvelope"
   ]
  },
  {
   "cell_type": "code",
   "execution_count": 435,
   "id": "898c1b6e",
   "metadata": {},
   "outputs": [
    {
     "name": "stdout",
     "output_type": "stream",
     "text": [
      "(1436, 34) (1436, 1)\n",
      "(1220, 34) (216, 34) (1220, 1) (216, 1)\n"
     ]
    }
   ],
   "source": [
    "X_train, X_test, y_train, y_test = intialize_X_tain_y_train()\n",
    "print(X_train.shape, X_test.shape, y_train.shape, y_test.shape)"
   ]
  },
  {
   "cell_type": "code",
   "execution_count": 436,
   "id": "e08de8fd",
   "metadata": {},
   "outputs": [
    {
     "data": {
      "text/plain": [
       "((1213, 34), (1213, 1))"
      ]
     },
     "execution_count": 436,
     "metadata": {},
     "output_type": "execute_result"
    }
   ],
   "source": [
    "ee_model = EllipticEnvelope(contamination=0.005)\n",
    "ee_pred = ee_model.fit_predict(X_train)\n",
    "\n",
    "X_train['pred'] = ee_pred\n",
    "y_train['pred'] = ee_pred\n",
    "\n",
    "X_train = X_train[X_train['pred']!=-1]\n",
    "y_train = y_train[y_train['pred']!=-1]\n",
    "\n",
    "del X_train['pred']\n",
    "del y_train['pred']\n",
    "\n",
    "X_train.shape,y_train.shape\n"
   ]
  },
  {
   "cell_type": "markdown",
   "id": "6ad4bd38",
   "metadata": {},
   "source": [
    "## building models"
   ]
  },
  {
   "cell_type": "code",
   "execution_count": 437,
   "id": "01088d08",
   "metadata": {},
   "outputs": [
    {
     "data": {
      "text/plain": [
       "(784.8823611111112, 996808.6377152778)"
      ]
     },
     "execution_count": 437,
     "metadata": {},
     "output_type": "execute_result"
    }
   ],
   "source": [
    "rf_mae5,rf_mse5 = get_RandomForest_mae_mse(X_train,y_train)\n",
    "rf_mae5,rf_mse5 "
   ]
  },
  {
   "cell_type": "code",
   "execution_count": 438,
   "id": "71463fff",
   "metadata": {},
   "outputs": [
    {
     "data": {
      "text/plain": [
       "(789.8325125121241, 1001396.4108627156)"
      ]
     },
     "execution_count": 438,
     "metadata": {},
     "output_type": "execute_result"
    }
   ],
   "source": [
    "gb_mae5,gb_mse5 = get_GradientBoosting_mae_mse(X_train,y_train)\n",
    "gb_mae5,gb_mse5"
   ]
  },
  {
   "cell_type": "markdown",
   "id": "7d2adca5",
   "metadata": {},
   "source": [
    "## 5. Outlier detection and removal using Local Outlier Factor"
   ]
  },
  {
   "cell_type": "code",
   "execution_count": 439,
   "id": "92ad16ad",
   "metadata": {},
   "outputs": [],
   "source": [
    "from sklearn.neighbors import LocalOutlierFactor"
   ]
  },
  {
   "cell_type": "code",
   "execution_count": 440,
   "id": "2f7bf459",
   "metadata": {},
   "outputs": [
    {
     "name": "stdout",
     "output_type": "stream",
     "text": [
      "(1436, 34) (1436, 1)\n",
      "(1220, 34) (216, 34) (1220, 1) (216, 1)\n"
     ]
    }
   ],
   "source": [
    "X_train, X_test, y_train, y_test = intialize_X_tain_y_train()\n",
    "print(X_train.shape, X_test.shape, y_train.shape, y_test.shape)"
   ]
  },
  {
   "cell_type": "code",
   "execution_count": 441,
   "id": "a34b6adf",
   "metadata": {},
   "outputs": [
    {
     "data": {
      "text/plain": [
       "((1216, 34), (1216, 1))"
      ]
     },
     "execution_count": 441,
     "metadata": {},
     "output_type": "execute_result"
    }
   ],
   "source": [
    "lof_model = LocalOutlierFactor(n_neighbors=15)\n",
    "lof_pred = lof_model.fit_predict(X_train)\n",
    "\n",
    "X_train['pred'] = lof_pred\n",
    "y_train['pred'] = lof_pred\n",
    "\n",
    "X_train = X_train[X_train['pred']!=-1]\n",
    "y_train = y_train[y_train['pred']!=-1]\n",
    "\n",
    "del X_train['pred']\n",
    "del y_train['pred']\n",
    "\n",
    "X_train.shape,y_train.shape"
   ]
  },
  {
   "cell_type": "markdown",
   "id": "5155ec4f",
   "metadata": {},
   "source": [
    "## building models"
   ]
  },
  {
   "cell_type": "code",
   "execution_count": 442,
   "id": "60374e76",
   "metadata": {},
   "outputs": [
    {
     "data": {
      "text/plain": [
       "(791.3373611111111, 985763.3453958333)"
      ]
     },
     "execution_count": 442,
     "metadata": {},
     "output_type": "execute_result"
    }
   ],
   "source": [
    "rf_mae6,rf_mse6 = get_RandomForest_mae_mse(X_train,y_train)\n",
    "rf_mae6,rf_mse6 "
   ]
  },
  {
   "cell_type": "code",
   "execution_count": 443,
   "id": "14a9abf3",
   "metadata": {},
   "outputs": [
    {
     "data": {
      "text/plain": [
       "(779.6546670729143, 993893.5617784968)"
      ]
     },
     "execution_count": 443,
     "metadata": {},
     "output_type": "execute_result"
    }
   ],
   "source": [
    "gb_mae6,gb_mse6 = get_GradientBoosting_mae_mse(X_train,y_train)\n",
    "gb_mae6,gb_mse6"
   ]
  },
  {
   "cell_type": "markdown",
   "id": "839d2345",
   "metadata": {},
   "source": [
    "## 6. Outlier detection and removal using One-Class SVM"
   ]
  },
  {
   "cell_type": "code",
   "execution_count": 307,
   "id": "a3777076",
   "metadata": {},
   "outputs": [],
   "source": [
    "from sklearn.svm import OneClassSVM"
   ]
  },
  {
   "cell_type": "code",
   "execution_count": 444,
   "id": "b5b8a484",
   "metadata": {},
   "outputs": [
    {
     "name": "stdout",
     "output_type": "stream",
     "text": [
      "(1436, 34) (1436, 1)\n",
      "(1220, 34) (216, 34) (1220, 1) (216, 1)\n"
     ]
    }
   ],
   "source": [
    "X_train, X_test, y_train, y_test = intialize_X_tain_y_train()\n",
    "print(X_train.shape, X_test.shape, y_train.shape, y_test.shape)"
   ]
  },
  {
   "cell_type": "code",
   "execution_count": 445,
   "id": "6ead30c6",
   "metadata": {},
   "outputs": [
    {
     "data": {
      "text/plain": [
       "((1097, 34), (1097, 1))"
      ]
     },
     "execution_count": 445,
     "metadata": {},
     "output_type": "execute_result"
    }
   ],
   "source": [
    "osvm_model = OneClassSVM(nu=0.1)\n",
    "osvm_pred = osvm_model.fit_predict(X_train)\n",
    "\n",
    "X_train['pred'] = osvm_pred\n",
    "y_train['pred'] = osvm_pred\n",
    "\n",
    "X_train = X_train[X_train['pred']!=-1]\n",
    "y_train = y_train[y_train['pred']!=-1]\n",
    "\n",
    "del X_train['pred']\n",
    "del y_train['pred']\n",
    "\n",
    "X_train.shape,y_train.shape"
   ]
  },
  {
   "cell_type": "markdown",
   "id": "96e910c9",
   "metadata": {},
   "source": [
    "## building models"
   ]
  },
  {
   "cell_type": "code",
   "execution_count": 446,
   "id": "28145b1b",
   "metadata": {},
   "outputs": [
    {
     "data": {
      "text/plain": [
       "(820.8098148148149, 1111743.954037963)"
      ]
     },
     "execution_count": 446,
     "metadata": {},
     "output_type": "execute_result"
    }
   ],
   "source": [
    "rf_mae7,rf_mse7 = get_RandomForest_mae_mse(X_train,y_train)\n",
    "rf_mae7,rf_mse7 "
   ]
  },
  {
   "cell_type": "code",
   "execution_count": 447,
   "id": "88cec7cf",
   "metadata": {},
   "outputs": [
    {
     "data": {
      "text/plain": [
       "(812.7655135966286, 1088166.9643365303)"
      ]
     },
     "execution_count": 447,
     "metadata": {},
     "output_type": "execute_result"
    }
   ],
   "source": [
    "gb_mae7,gb_mse7 = get_GradientBoosting_mae_mse(X_train,y_train)\n",
    "gb_mae7,gb_mse7"
   ]
  }
 ],
 "metadata": {
  "kernelspec": {
   "display_name": "Python 3",
   "language": "python",
   "name": "python3"
  },
  "language_info": {
   "codemirror_mode": {
    "name": "ipython",
    "version": 3
   },
   "file_extension": ".py",
   "mimetype": "text/x-python",
   "name": "python",
   "nbconvert_exporter": "python",
   "pygments_lexer": "ipython3",
   "version": "3.8.8"
  }
 },
 "nbformat": 4,
 "nbformat_minor": 5
}
