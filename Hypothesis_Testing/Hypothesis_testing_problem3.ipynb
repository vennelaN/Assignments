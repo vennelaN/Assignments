{
 "cells": [
  {
   "cell_type": "code",
   "execution_count": 4,
   "id": "9e61f1a4",
   "metadata": {},
   "outputs": [],
   "source": [
    "import pandas as pd\n",
    "from scipy import stats"
   ]
  },
  {
   "cell_type": "code",
   "execution_count": 16,
   "id": "a46e2101",
   "metadata": {},
   "outputs": [
    {
     "data": {
      "text/plain": [
       "Index(['Observed Values', 'East', 'West', 'North', 'South'], dtype='object')"
      ]
     },
     "execution_count": 16,
     "metadata": {},
     "output_type": "execute_result"
    }
   ],
   "source": [
    "data = pd.read_csv('Datasets/BuyerRatio.csv')\n",
    "data.columns"
   ]
  },
  {
   "cell_type": "markdown",
   "id": "b8683afa",
   "metadata": {},
   "source": [
    "## 1.Hypothesis Formulation\n",
    "\n",
    "**H0: Male female buyer ration is similar across region, or Gender and reagion factors are independent of each other**\n",
    "\n",
    "**Ha:Gender and Region factors are dependend are each other**"
   ]
  },
  {
   "cell_type": "markdown",
   "id": "f3c55856",
   "metadata": {},
   "source": [
    "**say the significance level is 10% or 0.10**"
   ]
  },
  {
   "cell_type": "markdown",
   "id": "fe85459b",
   "metadata": {},
   "source": [
    "### 2.Data Analysis.\n",
    "\n",
    "**get the frequeny table or the table of observed values**"
   ]
  },
  {
   "cell_type": "code",
   "execution_count": 29,
   "id": "0b2c52c0",
   "metadata": {},
   "outputs": [
    {
     "data": {
      "text/html": [
       "<div>\n",
       "<style scoped>\n",
       "    .dataframe tbody tr th:only-of-type {\n",
       "        vertical-align: middle;\n",
       "    }\n",
       "\n",
       "    .dataframe tbody tr th {\n",
       "        vertical-align: top;\n",
       "    }\n",
       "\n",
       "    .dataframe thead th {\n",
       "        text-align: right;\n",
       "    }\n",
       "</style>\n",
       "<table border=\"1\" class=\"dataframe\">\n",
       "  <thead>\n",
       "    <tr style=\"text-align: right;\">\n",
       "      <th></th>\n",
       "      <th>West</th>\n",
       "      <th>North</th>\n",
       "      <th>South</th>\n",
       "    </tr>\n",
       "  </thead>\n",
       "  <tbody>\n",
       "    <tr>\n",
       "      <th>0</th>\n",
       "      <td>142</td>\n",
       "      <td>131</td>\n",
       "      <td>70</td>\n",
       "    </tr>\n",
       "    <tr>\n",
       "      <th>1</th>\n",
       "      <td>1523</td>\n",
       "      <td>1356</td>\n",
       "      <td>750</td>\n",
       "    </tr>\n",
       "  </tbody>\n",
       "</table>\n",
       "</div>"
      ],
      "text/plain": [
       "   West  North  South\n",
       "0   142    131     70\n",
       "1  1523   1356    750"
      ]
     },
     "execution_count": 29,
     "metadata": {},
     "output_type": "execute_result"
    }
   ],
   "source": [
    "α = 0.10\n",
    "\n",
    "data.iloc[:,2:5]"
   ]
  },
  {
   "cell_type": "code",
   "execution_count": 35,
   "id": "e4089620",
   "metadata": {},
   "outputs": [
    {
     "name": "stdout",
     "output_type": "stream",
     "text": [
      "0.955280807164431\n"
     ]
    },
    {
     "data": {
      "text/plain": [
       "array([[ 143.78021148,  128.4091138 ,   70.81067472],\n",
       "       [1521.21978852, 1358.5908862 ,  749.18932528]])"
      ]
     },
     "execution_count": 35,
     "metadata": {},
     "output_type": "execute_result"
    }
   ],
   "source": [
    "q,p,dof,expect = stats.chi2_contingency(observed=data.iloc[:,2:5])\n",
    "print(p)\n",
    "expect"
   ]
  },
  {
   "cell_type": "code",
   "execution_count": 34,
   "id": "cfc6178f",
   "metadata": {},
   "outputs": [
    {
     "name": "stdout",
     "output_type": "stream",
     "text": [
      "We Fail to reject Null hypothessi\n",
      "Male and Female ratios are same across regio\n"
     ]
    }
   ],
   "source": [
    "if p < α:\n",
    "    print('Reject Null hypothesis')\n",
    "    print('Male and felame ratio are nor same across region' )\n",
    "else:\n",
    "    print('We Fail to reject Null hypothessi')\n",
    "    print('Male and Female ratios are same across regio')"
   ]
  }
 ],
 "metadata": {
  "kernelspec": {
   "display_name": "Python 3",
   "language": "python",
   "name": "python3"
  },
  "language_info": {
   "codemirror_mode": {
    "name": "ipython",
    "version": 3
   },
   "file_extension": ".py",
   "mimetype": "text/x-python",
   "name": "python",
   "nbconvert_exporter": "python",
   "pygments_lexer": "ipython3",
   "version": "3.8.8"
  }
 },
 "nbformat": 4,
 "nbformat_minor": 5
}
