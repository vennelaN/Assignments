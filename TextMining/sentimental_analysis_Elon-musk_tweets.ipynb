{
 "cells": [
  {
   "cell_type": "code",
   "execution_count": 28,
   "id": "22621638",
   "metadata": {},
   "outputs": [
    {
     "name": "stderr",
     "output_type": "stream",
     "text": [
      "[nltk_data] Downloading package punkt to /Users/vp054179/nltk_data...\n",
      "[nltk_data]   Unzipping tokenizers/punkt.zip.\n"
     ]
    },
    {
     "data": {
      "text/plain": [
       "True"
      ]
     },
     "execution_count": 28,
     "metadata": {},
     "output_type": "execute_result"
    }
   ],
   "source": [
    "nltk.download('punkt')"
   ]
  },
  {
   "cell_type": "code",
   "execution_count": 104,
   "id": "27eae3b9",
   "metadata": {},
   "outputs": [],
   "source": [
    "import pandas as pd\n",
    "import spacy\n",
    "import seaborn as sns\n",
    "import matplotlib.pyplot as plt\n",
    "import re\n",
    "import nltk\n",
    "from nltk import tokenize\n",
    "from nltk.corpus import stopwords"
   ]
  },
  {
   "cell_type": "code",
   "execution_count": 3,
   "id": "e516c1fe",
   "metadata": {},
   "outputs": [
    {
     "data": {
      "text/html": [
       "<div>\n",
       "<style scoped>\n",
       "    .dataframe tbody tr th:only-of-type {\n",
       "        vertical-align: middle;\n",
       "    }\n",
       "\n",
       "    .dataframe tbody tr th {\n",
       "        vertical-align: top;\n",
       "    }\n",
       "\n",
       "    .dataframe thead th {\n",
       "        text-align: right;\n",
       "    }\n",
       "</style>\n",
       "<table border=\"1\" class=\"dataframe\">\n",
       "  <thead>\n",
       "    <tr style=\"text-align: right;\">\n",
       "      <th></th>\n",
       "      <th>Unnamed: 0</th>\n",
       "      <th>Text</th>\n",
       "    </tr>\n",
       "  </thead>\n",
       "  <tbody>\n",
       "    <tr>\n",
       "      <th>0</th>\n",
       "      <td>1</td>\n",
       "      <td>@kunalb11 I�m an alien</td>\n",
       "    </tr>\n",
       "    <tr>\n",
       "      <th>1</th>\n",
       "      <td>2</td>\n",
       "      <td>@ID_AA_Carmack Ray tracing on Cyberpunk with H...</td>\n",
       "    </tr>\n",
       "    <tr>\n",
       "      <th>2</th>\n",
       "      <td>3</td>\n",
       "      <td>@joerogan @Spotify Great interview!</td>\n",
       "    </tr>\n",
       "    <tr>\n",
       "      <th>3</th>\n",
       "      <td>4</td>\n",
       "      <td>@gtera27 Doge is underestimated</td>\n",
       "    </tr>\n",
       "    <tr>\n",
       "      <th>4</th>\n",
       "      <td>5</td>\n",
       "      <td>@teslacn Congratulations Tesla China for amazi...</td>\n",
       "    </tr>\n",
       "  </tbody>\n",
       "</table>\n",
       "</div>"
      ],
      "text/plain": [
       "   Unnamed: 0                                               Text\n",
       "0           1                             @kunalb11 I�m an alien\n",
       "1           2  @ID_AA_Carmack Ray tracing on Cyberpunk with H...\n",
       "2           3                @joerogan @Spotify Great interview!\n",
       "3           4                    @gtera27 Doge is underestimated\n",
       "4           5  @teslacn Congratulations Tesla China for amazi..."
      ]
     },
     "execution_count": 3,
     "metadata": {},
     "output_type": "execute_result"
    }
   ],
   "source": [
    "data = pd.read_csv('Datasets/Elon_musk.csv')\n",
    "data.head()"
   ]
  },
  {
   "cell_type": "code",
   "execution_count": 17,
   "id": "7cdf8ca1",
   "metadata": {},
   "outputs": [
    {
     "data": {
      "text/plain": [
       "'@ID_AA_Carmack Ray tracing on Cyberpunk with HDR is next-level. Have you tried it?'"
      ]
     },
     "execution_count": 17,
     "metadata": {},
     "output_type": "execute_result"
    }
   ],
   "source": [
    "data['Text'][1]"
   ]
  },
  {
   "cell_type": "code",
   "execution_count": 12,
   "id": "c7fa08fc",
   "metadata": {},
   "outputs": [],
   "source": [
    "del data['Unnamed: 0']"
   ]
  },
  {
   "cell_type": "code",
   "execution_count": 13,
   "id": "a05592fd",
   "metadata": {},
   "outputs": [
    {
     "data": {
      "text/html": [
       "<div>\n",
       "<style scoped>\n",
       "    .dataframe tbody tr th:only-of-type {\n",
       "        vertical-align: middle;\n",
       "    }\n",
       "\n",
       "    .dataframe tbody tr th {\n",
       "        vertical-align: top;\n",
       "    }\n",
       "\n",
       "    .dataframe thead th {\n",
       "        text-align: right;\n",
       "    }\n",
       "</style>\n",
       "<table border=\"1\" class=\"dataframe\">\n",
       "  <thead>\n",
       "    <tr style=\"text-align: right;\">\n",
       "      <th></th>\n",
       "      <th>Text</th>\n",
       "    </tr>\n",
       "  </thead>\n",
       "  <tbody>\n",
       "    <tr>\n",
       "      <th>0</th>\n",
       "      <td>@kunalb11 I�m an alien</td>\n",
       "    </tr>\n",
       "    <tr>\n",
       "      <th>1</th>\n",
       "      <td>@ID_AA_Carmack Ray tracing on Cyberpunk with H...</td>\n",
       "    </tr>\n",
       "    <tr>\n",
       "      <th>2</th>\n",
       "      <td>@joerogan @Spotify Great interview!</td>\n",
       "    </tr>\n",
       "    <tr>\n",
       "      <th>3</th>\n",
       "      <td>@gtera27 Doge is underestimated</td>\n",
       "    </tr>\n",
       "    <tr>\n",
       "      <th>4</th>\n",
       "      <td>@teslacn Congratulations Tesla China for amazi...</td>\n",
       "    </tr>\n",
       "  </tbody>\n",
       "</table>\n",
       "</div>"
      ],
      "text/plain": [
       "                                                Text\n",
       "0                             @kunalb11 I�m an alien\n",
       "1  @ID_AA_Carmack Ray tracing on Cyberpunk with H...\n",
       "2                @joerogan @Spotify Great interview!\n",
       "3                    @gtera27 Doge is underestimated\n",
       "4  @teslacn Congratulations Tesla China for amazi..."
      ]
     },
     "execution_count": 13,
     "metadata": {},
     "output_type": "execute_result"
    }
   ],
   "source": [
    "data.head()"
   ]
  },
  {
   "cell_type": "code",
   "execution_count": null,
   "id": "ed0ceac1",
   "metadata": {},
   "outputs": [],
   "source": []
  },
  {
   "cell_type": "markdown",
   "id": "5c2f7492",
   "metadata": {},
   "source": [
    "### Text Preprocessing"
   ]
  },
  {
   "cell_type": "code",
   "execution_count": 79,
   "id": "f7c9f1c5",
   "metadata": {},
   "outputs": [
    {
     "data": {
      "text/plain": [
       "['@kunalb11 I�m an alien',\n",
       " '@ID_AA_Carmack Ray tracing on Cyberpunk with HDR is next-level. Have you tried it?',\n",
       " '@joerogan @Spotify Great interview!',\n",
       " '@gtera27 Doge is underestimated',\n",
       " '@teslacn Congratulations Tesla China for amazing execution last year. Now on to the next for even more!!',\n",
       " 'Happy New Year of the Ox! https://t.co/9WFKMYu2oj',\n",
       " 'Frodo was the underdoge,\\nAll thought he would fail,\\nHimself most of all. https://t.co/zGxJFDzzrM',\n",
       " '@OwenSparks_ @flcnhvy @anonyx10 Haha thanks :)',\n",
       " '@flcnhvy @anonyx10 Indeed! Tweets definitely do not represent real-world time allocation.',\n",
       " 'The most entertaining outcome is the most likely']"
      ]
     },
     "execution_count": 79,
     "metadata": {},
     "output_type": "execute_result"
    }
   ],
   "source": [
    "tweets=[Text.strip() for Text in data.Text] # remove both the leading and the trailing characters\n",
    "tweets=[Text for Text in tweets if Text] # removes empty strings, because they are considered in Python as False\n",
    "tweets[0:10]"
   ]
  },
  {
   "cell_type": "code",
   "execution_count": 83,
   "id": "f174b2e8",
   "metadata": {},
   "outputs": [
    {
     "data": {
      "text/plain": [
       "'@ID_AA_Carmack Ray tracing on Cyberpunk with HDR is next-level. Have you tried it?'"
      ]
     },
     "execution_count": 83,
     "metadata": {},
     "output_type": "execute_result"
    }
   ],
   "source": [
    "tweets[1]"
   ]
  },
  {
   "cell_type": "code",
   "execution_count": 86,
   "id": "b476ec4d",
   "metadata": {},
   "outputs": [],
   "source": [
    "# remove Twitter username handles from a given twitter text. (Removes @usernames)\n",
    "from nltk.tokenize import TweetTokenizer\n",
    "tknzr = TweetTokenizer(strip_handles=True)\n",
    "tweets_tokens = []\n",
    "for i in range(0,len(tweets)):\n",
    "    tweet_tokens=tknzr.tokenize(tweets[i])\n",
    "    tweets_tokens.append(tweet_tokens)\n",
    "#print(tweets_tokens)"
   ]
  },
  {
   "cell_type": "code",
   "execution_count": 87,
   "id": "2e14d41a",
   "metadata": {},
   "outputs": [
    {
     "data": {
      "text/plain": [
       "['I', '�', 'm', 'an', 'alien']"
      ]
     },
     "execution_count": 87,
     "metadata": {},
     "output_type": "execute_result"
    }
   ],
   "source": [
    "tweets_tokens[0]"
   ]
  },
  {
   "cell_type": "code",
   "execution_count": 89,
   "id": "42c5599d",
   "metadata": {},
   "outputs": [],
   "source": [
    "# Again Joining the list into one string/text\n",
    "tweets_tokens_text = []\n",
    "for i in range(0,len(tweets_tokens)):\n",
    "    txt = ' '.join(tweets_tokens[i])\n",
    "    tweets_tokens_text.append(txt)\n",
    "    \n"
   ]
  },
  {
   "cell_type": "code",
   "execution_count": 95,
   "id": "8b0e4ad6",
   "metadata": {},
   "outputs": [
    {
     "data": {
      "text/plain": [
       "('Great interview !', 'Happy New Year of the Ox ! https://t.co/9WFKMYu2oj')"
      ]
     },
     "execution_count": 95,
     "metadata": {},
     "output_type": "execute_result"
    }
   ],
   "source": [
    "tweets_tokens_text[2],tweets_tokens_text[5]"
   ]
  },
  {
   "cell_type": "code",
   "execution_count": 96,
   "id": "55b100b4",
   "metadata": {},
   "outputs": [],
   "source": [
    "# Remove Punctuations \n",
    "import string\n",
    "no_punc_text = []\n",
    "for i in range(0,len(tweets_tokens_text)):\n",
    "    txt = tweets_tokens_text[i].translate(str.maketrans('','',string.punctuation))\n",
    "    no_punc_text.append(txt)\n"
   ]
  },
  {
   "cell_type": "code",
   "execution_count": 97,
   "id": "a6234948",
   "metadata": {},
   "outputs": [
    {
     "data": {
      "text/plain": [
       "('Great interview ', 'Happy New Year of the Ox  httpstco9WFKMYu2oj')"
      ]
     },
     "execution_count": 97,
     "metadata": {},
     "output_type": "execute_result"
    }
   ],
   "source": [
    "no_punc_text[2],no_punc_text[5]"
   ]
  },
  {
   "cell_type": "code",
   "execution_count": 101,
   "id": "df0d40df",
   "metadata": {},
   "outputs": [
    {
     "data": {
      "text/plain": [
       "('Great interview ', 'Happy New Year of the Ox  ', 'I � m an alien')"
      ]
     },
     "execution_count": 101,
     "metadata": {},
     "output_type": "execute_result"
    }
   ],
   "source": [
    "# remove https or url within text\n",
    "no_url_text = []\n",
    "\n",
    "for i in range(0,len(no_punc_text)):\n",
    "    txt = re.sub(r'http\\S+', '', no_punc_text[i])\n",
    "    no_url_text.append(txt)\n",
    "    \n",
    "no_url_text[2],no_url_text[5],no_url_text[0]"
   ]
  },
  {
   "cell_type": "code",
   "execution_count": 107,
   "id": "594f389c",
   "metadata": {},
   "outputs": [
    {
     "data": {
      "text/plain": [
       "(['Great', 'interview'],\n",
       " ['Happy', 'New', 'Year', 'of', 'the', 'Ox'],\n",
       " ['I', '�', 'm', 'an', 'alien'])"
      ]
     },
     "execution_count": 107,
     "metadata": {},
     "output_type": "execute_result"
    }
   ],
   "source": [
    "from nltk.tokenize import word_tokenize\n",
    "\n",
    "text_tokens = []\n",
    "for i in range(0,len(no_url_text)):\n",
    "    txt = word_tokenize(no_url_text[i])\n",
    "    text_tokens.append(txt)\n",
    "\n",
    "text_tokens[2],text_tokens[5],text_tokens[0]"
   ]
  },
  {
   "cell_type": "code",
   "execution_count": 106,
   "id": "378340f1",
   "metadata": {},
   "outputs": [
    {
     "data": {
      "text/plain": [
       "'I � m an alien'"
      ]
     },
     "execution_count": 106,
     "metadata": {},
     "output_type": "execute_result"
    }
   ],
   "source": [
    "no_url_text[0]"
   ]
  },
  {
   "cell_type": "code",
   "execution_count": 108,
   "id": "ec6ef5b1",
   "metadata": {},
   "outputs": [
    {
     "data": {
      "text/plain": [
       "(['Great', 'interview'], ['Happy', 'New', 'Year', 'Ox'], ['alien'])"
      ]
     },
     "execution_count": 108,
     "metadata": {},
     "output_type": "execute_result"
    }
   ],
   "source": [
    "\n",
    "# Remove Stopwords\n",
    "\n",
    "my_stop_words=stopwords.words('english')\n",
    "\n",
    "sw_list = ['\\x92','rt','ye','yeah','haha','Yes','U0001F923','I','�','U0001F3B6','U0001F495']\n",
    "my_stop_words.extend(sw_list)\n",
    "no_stop_tokens = []\n",
    "\n",
    "for i in range(0,len(text_tokens)):\n",
    "    txt = [word for word in text_tokens[i] if not word in my_stop_words]\n",
    "    no_stop_tokens.append(txt)\n",
    "    \n",
    "no_stop_tokens[2],no_stop_tokens[5],no_stop_tokens[0]"
   ]
  },
  {
   "cell_type": "code",
   "execution_count": 116,
   "id": "0435fe05",
   "metadata": {},
   "outputs": [
    {
     "data": {
      "text/plain": [
       "(['great', 'interview'],\n",
       " ['happy', 'new', 'year', 'ox'],\n",
       " ['alien'],\n",
       " ['ray', 'tracing', 'cyberpunk', 'hdr', 'nextlevel', 'have', 'tried'])"
      ]
     },
     "execution_count": 116,
     "metadata": {},
     "output_type": "execute_result"
    }
   ],
   "source": [
    "# Normalize the data\n",
    "lower_words = []\n",
    "for i in range(0,len(no_stop_tokens)):\n",
    "    txt = [Text.lower() for Text in no_stop_tokens[i]]\n",
    "    lower_words.append(txt)\n",
    "    \n",
    "lower_words[2],lower_words[5],lower_words[0],lower_words[1]\n"
   ]
  },
  {
   "cell_type": "code",
   "execution_count": 115,
   "id": "f11866df",
   "metadata": {},
   "outputs": [
    {
     "data": {
      "text/plain": [
       "(['great', 'interview'],\n",
       " ['happy', 'new', 'year', 'ox'],\n",
       " ['alien'],\n",
       " ['ray', 'trace', 'cyberpunk', 'hdr', 'nextlevel', 'have', 'try'])"
      ]
     },
     "execution_count": 115,
     "metadata": {},
     "output_type": "execute_result"
    }
   ],
   "source": [
    "# Lemmatization\n",
    "nlp=spacy.load('en_core_web_sm')\n",
    "\n",
    "lemmas = []\n",
    "for i in range(0,len(lower_words)):\n",
    "    doc=nlp(' '.join(lower_words[i]))\n",
    "    lm = [token.lemma_ for token in doc]\n",
    "    lemmas.append(lm)\n",
    "    \n",
    "\n",
    "lemmas[2],lemmas[5],lemmas[0],lemmas[1]"
   ]
  },
  {
   "cell_type": "code",
   "execution_count": 117,
   "id": "f8caa9f5",
   "metadata": {},
   "outputs": [
    {
     "data": {
      "text/plain": [
       "('great interview',\n",
       " 'happy new year ox',\n",
       " 'alien',\n",
       " 'ray trace cyberpunk hdr nextlevel have try')"
      ]
     },
     "execution_count": 117,
     "metadata": {},
     "output_type": "execute_result"
    }
   ],
   "source": [
    "clean_tweets = []\n",
    "for i in range(0,len(lemmas)):\n",
    "    txt = ' '.join(lemmas[i])\n",
    "    clean_tweets.append(txt)\n",
    "clean_tweets[2],clean_tweets[5],clean_tweets[0],clean_tweets[1]    "
   ]
  },
  {
   "cell_type": "code",
   "execution_count": 119,
   "id": "7ea998e0",
   "metadata": {},
   "outputs": [
    {
     "data": {
      "text/html": [
       "<div>\n",
       "<style scoped>\n",
       "    .dataframe tbody tr th:only-of-type {\n",
       "        vertical-align: middle;\n",
       "    }\n",
       "\n",
       "    .dataframe tbody tr th {\n",
       "        vertical-align: top;\n",
       "    }\n",
       "\n",
       "    .dataframe thead th {\n",
       "        text-align: right;\n",
       "    }\n",
       "</style>\n",
       "<table border=\"1\" class=\"dataframe\">\n",
       "  <thead>\n",
       "    <tr style=\"text-align: right;\">\n",
       "      <th></th>\n",
       "      <th>Text</th>\n",
       "      <th>tweets</th>\n",
       "    </tr>\n",
       "  </thead>\n",
       "  <tbody>\n",
       "    <tr>\n",
       "      <th>0</th>\n",
       "      <td>@kunalb11 I�m an alien</td>\n",
       "      <td>alien</td>\n",
       "    </tr>\n",
       "    <tr>\n",
       "      <th>1</th>\n",
       "      <td>@ID_AA_Carmack Ray tracing on Cyberpunk with H...</td>\n",
       "      <td>ray trace cyberpunk hdr nextlevel have try</td>\n",
       "    </tr>\n",
       "    <tr>\n",
       "      <th>2</th>\n",
       "      <td>@joerogan @Spotify Great interview!</td>\n",
       "      <td>great interview</td>\n",
       "    </tr>\n",
       "    <tr>\n",
       "      <th>3</th>\n",
       "      <td>@gtera27 Doge is underestimated</td>\n",
       "      <td>doge underestimate</td>\n",
       "    </tr>\n",
       "    <tr>\n",
       "      <th>4</th>\n",
       "      <td>@teslacn Congratulations Tesla China for amazi...</td>\n",
       "      <td>congratulation tesla china amazing execution l...</td>\n",
       "    </tr>\n",
       "  </tbody>\n",
       "</table>\n",
       "</div>"
      ],
      "text/plain": [
       "                                                Text  \\\n",
       "0                             @kunalb11 I�m an alien   \n",
       "1  @ID_AA_Carmack Ray tracing on Cyberpunk with H...   \n",
       "2                @joerogan @Spotify Great interview!   \n",
       "3                    @gtera27 Doge is underestimated   \n",
       "4  @teslacn Congratulations Tesla China for amazi...   \n",
       "\n",
       "                                              tweets  \n",
       "0                                              alien  \n",
       "1         ray trace cyberpunk hdr nextlevel have try  \n",
       "2                                    great interview  \n",
       "3                                 doge underestimate  \n",
       "4  congratulation tesla china amazing execution l...  "
      ]
     },
     "execution_count": 119,
     "metadata": {},
     "output_type": "execute_result"
    }
   ],
   "source": [
    "data ['tweets'] = clean_tweets\n",
    "data.head()"
   ]
  },
  {
   "cell_type": "markdown",
   "id": "9a219ed4",
   "metadata": {},
   "source": [
    "### Emotion Mining - Sentiment Analysis"
   ]
  },
  {
   "cell_type": "code",
   "execution_count": 52,
   "id": "6c1a00e8",
   "metadata": {},
   "outputs": [
    {
     "name": "stdout",
     "output_type": "stream",
     "text": [
      "(2477, 2)\n"
     ]
    },
    {
     "data": {
      "text/html": [
       "<div>\n",
       "<style scoped>\n",
       "    .dataframe tbody tr th:only-of-type {\n",
       "        vertical-align: middle;\n",
       "    }\n",
       "\n",
       "    .dataframe tbody tr th {\n",
       "        vertical-align: top;\n",
       "    }\n",
       "\n",
       "    .dataframe thead th {\n",
       "        text-align: right;\n",
       "    }\n",
       "</style>\n",
       "<table border=\"1\" class=\"dataframe\">\n",
       "  <thead>\n",
       "    <tr style=\"text-align: right;\">\n",
       "      <th></th>\n",
       "      <th>word</th>\n",
       "      <th>value</th>\n",
       "    </tr>\n",
       "  </thead>\n",
       "  <tbody>\n",
       "    <tr>\n",
       "      <th>0</th>\n",
       "      <td>abandon</td>\n",
       "      <td>-2</td>\n",
       "    </tr>\n",
       "    <tr>\n",
       "      <th>1</th>\n",
       "      <td>abandoned</td>\n",
       "      <td>-2</td>\n",
       "    </tr>\n",
       "    <tr>\n",
       "      <th>2</th>\n",
       "      <td>abandons</td>\n",
       "      <td>-2</td>\n",
       "    </tr>\n",
       "    <tr>\n",
       "      <th>3</th>\n",
       "      <td>abducted</td>\n",
       "      <td>-2</td>\n",
       "    </tr>\n",
       "    <tr>\n",
       "      <th>4</th>\n",
       "      <td>abduction</td>\n",
       "      <td>-2</td>\n",
       "    </tr>\n",
       "  </tbody>\n",
       "</table>\n",
       "</div>"
      ],
      "text/plain": [
       "        word  value\n",
       "0    abandon     -2\n",
       "1  abandoned     -2\n",
       "2   abandons     -2\n",
       "3   abducted     -2\n",
       "4  abduction     -2"
      ]
     },
     "execution_count": 52,
     "metadata": {},
     "output_type": "execute_result"
    }
   ],
   "source": [
    "affin = pd.read_csv('Datasets/affin.csv')\n",
    "print(affin.shape)\n",
    "affin.head()"
   ]
  },
  {
   "cell_type": "code",
   "execution_count": 54,
   "id": "84039c79",
   "metadata": {},
   "outputs": [],
   "source": [
    "affinity_scores=affin.set_index('word')['value'].to_dict()\n"
   ]
  },
  {
   "cell_type": "code",
   "execution_count": 56,
   "id": "8254e5b0",
   "metadata": {},
   "outputs": [],
   "source": [
    "# Custom function: score each word in a sentence in lemmatised form, \n",
    "#but calculate the score for the whole original sentence\n",
    "nlp=spacy.load('en_core_web_sm')\n",
    "sentiment_lexicon=affinity_scores"
   ]
  },
  {
   "cell_type": "code",
   "execution_count": 57,
   "id": "15d41b63",
   "metadata": {},
   "outputs": [],
   "source": [
    "def calculate_sentiment(text:str=None):\n",
    "    sent_score=0\n",
    "    if text:\n",
    "        sentence=nlp(text)\n",
    "        for word in sentence:\n",
    "            sent_score+=sentiment_lexicon.get(word.lemma_,0)\n",
    "    return sent_score"
   ]
  },
  {
   "cell_type": "code",
   "execution_count": 131,
   "id": "3472d6fc",
   "metadata": {},
   "outputs": [
    {
     "data": {
      "text/plain": [
       "4"
      ]
     },
     "execution_count": 131,
     "metadata": {},
     "output_type": "execute_result"
    }
   ],
   "source": [
    "# manual testing\n",
    "calculate_sentiment(text='awesome day')"
   ]
  },
  {
   "cell_type": "code",
   "execution_count": 61,
   "id": "a3d6f509",
   "metadata": {},
   "outputs": [
    {
     "data": {
      "text/plain": [
       "-3"
      ]
     },
     "execution_count": 61,
     "metadata": {},
     "output_type": "execute_result"
    }
   ],
   "source": [
    "calculate_sentiment(text='bad')"
   ]
  },
  {
   "cell_type": "code",
   "execution_count": 120,
   "id": "55a9ca70",
   "metadata": {},
   "outputs": [
    {
     "data": {
      "text/plain": [
       "0       0\n",
       "1       0\n",
       "2       3\n",
       "3      -1\n",
       "4       6\n",
       "       ..\n",
       "1994   -1\n",
       "1995    1\n",
       "1996    0\n",
       "1997   -3\n",
       "1998    2\n",
       "Name: sentiment_value, Length: 1999, dtype: int64"
      ]
     },
     "execution_count": 120,
     "metadata": {},
     "output_type": "execute_result"
    }
   ],
   "source": [
    "# Calculating sentiment value for each sentence\n",
    "data['sentiment_value']=data['tweets'].apply(calculate_sentiment)\n",
    "data['sentiment_value']"
   ]
  },
  {
   "cell_type": "code",
   "execution_count": 121,
   "id": "f453d5a2",
   "metadata": {},
   "outputs": [
    {
     "data": {
      "text/html": [
       "<div>\n",
       "<style scoped>\n",
       "    .dataframe tbody tr th:only-of-type {\n",
       "        vertical-align: middle;\n",
       "    }\n",
       "\n",
       "    .dataframe tbody tr th {\n",
       "        vertical-align: top;\n",
       "    }\n",
       "\n",
       "    .dataframe thead th {\n",
       "        text-align: right;\n",
       "    }\n",
       "</style>\n",
       "<table border=\"1\" class=\"dataframe\">\n",
       "  <thead>\n",
       "    <tr style=\"text-align: right;\">\n",
       "      <th></th>\n",
       "      <th>Text</th>\n",
       "      <th>tweets</th>\n",
       "      <th>sentiment_value</th>\n",
       "    </tr>\n",
       "  </thead>\n",
       "  <tbody>\n",
       "    <tr>\n",
       "      <th>186</th>\n",
       "      <td>@naval [Some tyranny]. Also, the road to hell ...</td>\n",
       "      <td>some tyranny also road hell mostly pave bad in...</td>\n",
       "      <td>-7</td>\n",
       "    </tr>\n",
       "    <tr>\n",
       "      <th>1273</th>\n",
       "      <td>@TJLK There are some eerie parallels between T...</td>\n",
       "      <td>there eerie parallel the boring company vaultt...</td>\n",
       "      <td>-6</td>\n",
       "    </tr>\n",
       "    <tr>\n",
       "      <th>1015</th>\n",
       "      <td>@enn_nafnlaus There are sketchy edits to Tesla...</td>\n",
       "      <td>there sketchy edit tesla wiki whitewash eberha...</td>\n",
       "      <td>-6</td>\n",
       "    </tr>\n",
       "    <tr>\n",
       "      <th>1717</th>\n",
       "      <td>@Neuro_Skeptic They don�t fire all at once. So...</td>\n",
       "      <td>they fire some go several second minute withou...</td>\n",
       "      <td>-6</td>\n",
       "    </tr>\n",
       "    <tr>\n",
       "      <th>1574</th>\n",
       "      <td>@universal_sci Asteroid impact risk is well un...</td>\n",
       "      <td>asteroid impact risk well understand comet tho...</td>\n",
       "      <td>-5</td>\n",
       "    </tr>\n",
       "    <tr>\n",
       "      <th>...</th>\n",
       "      <td>...</td>\n",
       "      <td>...</td>\n",
       "      <td>...</td>\n",
       "    </tr>\n",
       "    <tr>\n",
       "      <th>1172</th>\n",
       "      <td>Thanks Tesla Team for great work on deliveries...</td>\n",
       "      <td>thank tesla team great work delivery for new o...</td>\n",
       "      <td>10</td>\n",
       "    </tr>\n",
       "    <tr>\n",
       "      <th>468</th>\n",
       "      <td>@picot_john @CyberpunkGame It�s a good to grea...</td>\n",
       "      <td>it good great game imo improve may seem like m...</td>\n",
       "      <td>10</td>\n",
       "    </tr>\n",
       "    <tr>\n",
       "      <th>1357</th>\n",
       "      <td>Great trip to Germany. Support from government...</td>\n",
       "      <td>great trip germany support government people s...</td>\n",
       "      <td>10</td>\n",
       "    </tr>\n",
       "    <tr>\n",
       "      <th>1304</th>\n",
       "      <td>One way or another, excitement guaranteed! Sup...</td>\n",
       "      <td>one way another excitement guarantee support g...</td>\n",
       "      <td>11</td>\n",
       "    </tr>\n",
       "    <tr>\n",
       "      <th>1388</th>\n",
       "      <td>@GerberKawasaki Wow, I super loved astronomy (...</td>\n",
       "      <td>wow super love astronomy take queen penn defin...</td>\n",
       "      <td>12</td>\n",
       "    </tr>\n",
       "  </tbody>\n",
       "</table>\n",
       "<p>1999 rows × 3 columns</p>\n",
       "</div>"
      ],
      "text/plain": [
       "                                                   Text  \\\n",
       "186   @naval [Some tyranny]. Also, the road to hell ...   \n",
       "1273  @TJLK There are some eerie parallels between T...   \n",
       "1015  @enn_nafnlaus There are sketchy edits to Tesla...   \n",
       "1717  @Neuro_Skeptic They don�t fire all at once. So...   \n",
       "1574  @universal_sci Asteroid impact risk is well un...   \n",
       "...                                                 ...   \n",
       "1172  Thanks Tesla Team for great work on deliveries...   \n",
       "468   @picot_john @CyberpunkGame It�s a good to grea...   \n",
       "1357  Great trip to Germany. Support from government...   \n",
       "1304  One way or another, excitement guaranteed! Sup...   \n",
       "1388  @GerberKawasaki Wow, I super loved astronomy (...   \n",
       "\n",
       "                                                 tweets  sentiment_value  \n",
       "186   some tyranny also road hell mostly pave bad in...               -7  \n",
       "1273  there eerie parallel the boring company vaultt...               -6  \n",
       "1015  there sketchy edit tesla wiki whitewash eberha...               -6  \n",
       "1717  they fire some go several second minute withou...               -6  \n",
       "1574  asteroid impact risk well understand comet tho...               -5  \n",
       "...                                                 ...              ...  \n",
       "1172  thank tesla team great work delivery for new o...               10  \n",
       "468   it good great game imo improve may seem like m...               10  \n",
       "1357  great trip germany support government people s...               10  \n",
       "1304  one way another excitement guarantee support g...               11  \n",
       "1388  wow super love astronomy take queen penn defin...               12  \n",
       "\n",
       "[1999 rows x 3 columns]"
      ]
     },
     "execution_count": 121,
     "metadata": {},
     "output_type": "execute_result"
    }
   ],
   "source": [
    "data.sort_values(by='sentiment_value')"
   ]
  },
  {
   "cell_type": "code",
   "execution_count": 122,
   "id": "2ac89531",
   "metadata": {},
   "outputs": [
    {
     "data": {
      "text/plain": [
       "count    1999.000000\n",
       "mean        0.703352\n",
       "std         1.800774\n",
       "min        -7.000000\n",
       "25%         0.000000\n",
       "50%         0.000000\n",
       "75%         2.000000\n",
       "max        12.000000\n",
       "Name: sentiment_value, dtype: float64"
      ]
     },
     "execution_count": 122,
     "metadata": {},
     "output_type": "execute_result"
    }
   ],
   "source": [
    "# Sentiment score of the whole review\n",
    "data['sentiment_value'].describe()"
   ]
  },
  {
   "cell_type": "code",
   "execution_count": 123,
   "id": "46551adc",
   "metadata": {},
   "outputs": [
    {
     "data": {
      "text/html": [
       "<div>\n",
       "<style scoped>\n",
       "    .dataframe tbody tr th:only-of-type {\n",
       "        vertical-align: middle;\n",
       "    }\n",
       "\n",
       "    .dataframe tbody tr th {\n",
       "        vertical-align: top;\n",
       "    }\n",
       "\n",
       "    .dataframe thead th {\n",
       "        text-align: right;\n",
       "    }\n",
       "</style>\n",
       "<table border=\"1\" class=\"dataframe\">\n",
       "  <thead>\n",
       "    <tr style=\"text-align: right;\">\n",
       "      <th></th>\n",
       "      <th>Text</th>\n",
       "      <th>tweets</th>\n",
       "      <th>sentiment_value</th>\n",
       "    </tr>\n",
       "  </thead>\n",
       "  <tbody>\n",
       "    <tr>\n",
       "      <th>0</th>\n",
       "      <td>@kunalb11 I�m an alien</td>\n",
       "      <td>alien</td>\n",
       "      <td>0</td>\n",
       "    </tr>\n",
       "    <tr>\n",
       "      <th>1</th>\n",
       "      <td>@ID_AA_Carmack Ray tracing on Cyberpunk with H...</td>\n",
       "      <td>ray trace cyberpunk hdr nextlevel have try</td>\n",
       "      <td>0</td>\n",
       "    </tr>\n",
       "    <tr>\n",
       "      <th>3</th>\n",
       "      <td>@gtera27 Doge is underestimated</td>\n",
       "      <td>doge underestimate</td>\n",
       "      <td>-1</td>\n",
       "    </tr>\n",
       "    <tr>\n",
       "      <th>6</th>\n",
       "      <td>Frodo was the underdoge,\\nAll thought he would...</td>\n",
       "      <td>frodo underdoge all thought would fail himself</td>\n",
       "      <td>-2</td>\n",
       "    </tr>\n",
       "    <tr>\n",
       "      <th>8</th>\n",
       "      <td>@flcnhvy @anonyx10 Indeed! Tweets definitely d...</td>\n",
       "      <td>indeed tweet definitely represent realworld ti...</td>\n",
       "      <td>0</td>\n",
       "    </tr>\n",
       "    <tr>\n",
       "      <th>...</th>\n",
       "      <td>...</td>\n",
       "      <td>...</td>\n",
       "      <td>...</td>\n",
       "    </tr>\n",
       "    <tr>\n",
       "      <th>1992</th>\n",
       "      <td>AI symbiosis while u wait</td>\n",
       "      <td>ai symbiosis u wait</td>\n",
       "      <td>0</td>\n",
       "    </tr>\n",
       "    <tr>\n",
       "      <th>1993</th>\n",
       "      <td>@vistacruiser7 @flcnhvy There�s some of that too</td>\n",
       "      <td>there</td>\n",
       "      <td>0</td>\n",
       "    </tr>\n",
       "    <tr>\n",
       "      <th>1994</th>\n",
       "      <td>@flcnhvy True, it sounds so surreal, but the n...</td>\n",
       "      <td>true sound surreal negative propaganda still e...</td>\n",
       "      <td>-1</td>\n",
       "    </tr>\n",
       "    <tr>\n",
       "      <th>1996</th>\n",
       "      <td>@TeslaGong @PPathole Samwise Gamgee</td>\n",
       "      <td>samwise gamgee</td>\n",
       "      <td>0</td>\n",
       "    </tr>\n",
       "    <tr>\n",
       "      <th>1997</th>\n",
       "      <td>@PPathole Altho Dumb and Dumber is &lt;U+0001F525...</td>\n",
       "      <td>altho dumb dumber u0001f525 u0001f525</td>\n",
       "      <td>-3</td>\n",
       "    </tr>\n",
       "  </tbody>\n",
       "</table>\n",
       "<p>1318 rows × 3 columns</p>\n",
       "</div>"
      ],
      "text/plain": [
       "                                                   Text  \\\n",
       "0                                @kunalb11 I�m an alien   \n",
       "1     @ID_AA_Carmack Ray tracing on Cyberpunk with H...   \n",
       "3                       @gtera27 Doge is underestimated   \n",
       "6     Frodo was the underdoge,\\nAll thought he would...   \n",
       "8     @flcnhvy @anonyx10 Indeed! Tweets definitely d...   \n",
       "...                                                 ...   \n",
       "1992                          AI symbiosis while u wait   \n",
       "1993   @vistacruiser7 @flcnhvy There�s some of that too   \n",
       "1994  @flcnhvy True, it sounds so surreal, but the n...   \n",
       "1996                @TeslaGong @PPathole Samwise Gamgee   \n",
       "1997  @PPathole Altho Dumb and Dumber is <U+0001F525...   \n",
       "\n",
       "                                                 tweets  sentiment_value  \n",
       "0                                                 alien                0  \n",
       "1            ray trace cyberpunk hdr nextlevel have try                0  \n",
       "3                                    doge underestimate               -1  \n",
       "6        frodo underdoge all thought would fail himself               -2  \n",
       "8     indeed tweet definitely represent realworld ti...                0  \n",
       "...                                                 ...              ...  \n",
       "1992                                ai symbiosis u wait                0  \n",
       "1993                                              there                0  \n",
       "1994  true sound surreal negative propaganda still e...               -1  \n",
       "1996                                     samwise gamgee                0  \n",
       "1997              altho dumb dumber u0001f525 u0001f525               -3  \n",
       "\n",
       "[1318 rows x 3 columns]"
      ]
     },
     "execution_count": 123,
     "metadata": {},
     "output_type": "execute_result"
    }
   ],
   "source": [
    "# negative sentiment score of the whole review\n",
    "data[data['sentiment_value']<=0]"
   ]
  },
  {
   "cell_type": "code",
   "execution_count": 124,
   "id": "32ca7197",
   "metadata": {},
   "outputs": [
    {
     "data": {
      "text/html": [
       "<div>\n",
       "<style scoped>\n",
       "    .dataframe tbody tr th:only-of-type {\n",
       "        vertical-align: middle;\n",
       "    }\n",
       "\n",
       "    .dataframe tbody tr th {\n",
       "        vertical-align: top;\n",
       "    }\n",
       "\n",
       "    .dataframe thead th {\n",
       "        text-align: right;\n",
       "    }\n",
       "</style>\n",
       "<table border=\"1\" class=\"dataframe\">\n",
       "  <thead>\n",
       "    <tr style=\"text-align: right;\">\n",
       "      <th></th>\n",
       "      <th>Text</th>\n",
       "      <th>tweets</th>\n",
       "      <th>sentiment_value</th>\n",
       "    </tr>\n",
       "  </thead>\n",
       "  <tbody>\n",
       "    <tr>\n",
       "      <th>2</th>\n",
       "      <td>@joerogan @Spotify Great interview!</td>\n",
       "      <td>great interview</td>\n",
       "      <td>3</td>\n",
       "    </tr>\n",
       "    <tr>\n",
       "      <th>4</th>\n",
       "      <td>@teslacn Congratulations Tesla China for amazi...</td>\n",
       "      <td>congratulation tesla china amazing execution l...</td>\n",
       "      <td>6</td>\n",
       "    </tr>\n",
       "    <tr>\n",
       "      <th>5</th>\n",
       "      <td>Happy New Year of the Ox! https://t.co/9WFKMYu2oj</td>\n",
       "      <td>happy new year ox</td>\n",
       "      <td>3</td>\n",
       "    </tr>\n",
       "    <tr>\n",
       "      <th>7</th>\n",
       "      <td>@OwenSparks_ @flcnhvy @anonyx10 Haha thanks :)</td>\n",
       "      <td>haha thank</td>\n",
       "      <td>5</td>\n",
       "    </tr>\n",
       "    <tr>\n",
       "      <th>9</th>\n",
       "      <td>The most entertaining outcome is the most likely</td>\n",
       "      <td>the entertaining outcome likely</td>\n",
       "      <td>2</td>\n",
       "    </tr>\n",
       "    <tr>\n",
       "      <th>...</th>\n",
       "      <td>...</td>\n",
       "      <td>...</td>\n",
       "      <td>...</td>\n",
       "    </tr>\n",
       "    <tr>\n",
       "      <th>1986</th>\n",
       "      <td>Best use of the term �Full Stack�?</td>\n",
       "      <td>good use term full stack</td>\n",
       "      <td>3</td>\n",
       "    </tr>\n",
       "    <tr>\n",
       "      <th>1987</th>\n",
       "      <td>@PPathole @IheartTesla For sure. This is both ...</td>\n",
       "      <td>for sure this great terrify everything ever se...</td>\n",
       "      <td>3</td>\n",
       "    </tr>\n",
       "    <tr>\n",
       "      <th>1989</th>\n",
       "      <td>@buzzindelhi Sorry, should hopefully be soon!</td>\n",
       "      <td>sorry hopefully soon</td>\n",
       "      <td>1</td>\n",
       "    </tr>\n",
       "    <tr>\n",
       "      <th>1995</th>\n",
       "      <td>@PPathole Make sure to read ur terms &amp;amp; con...</td>\n",
       "      <td>make sure read ur term condition click accept</td>\n",
       "      <td>1</td>\n",
       "    </tr>\n",
       "    <tr>\n",
       "      <th>1998</th>\n",
       "      <td>Progress update August 28</td>\n",
       "      <td>progress update august 28</td>\n",
       "      <td>2</td>\n",
       "    </tr>\n",
       "  </tbody>\n",
       "</table>\n",
       "<p>681 rows × 3 columns</p>\n",
       "</div>"
      ],
      "text/plain": [
       "                                                   Text  \\\n",
       "2                   @joerogan @Spotify Great interview!   \n",
       "4     @teslacn Congratulations Tesla China for amazi...   \n",
       "5     Happy New Year of the Ox! https://t.co/9WFKMYu2oj   \n",
       "7        @OwenSparks_ @flcnhvy @anonyx10 Haha thanks :)   \n",
       "9      The most entertaining outcome is the most likely   \n",
       "...                                                 ...   \n",
       "1986                 Best use of the term �Full Stack�?   \n",
       "1987  @PPathole @IheartTesla For sure. This is both ...   \n",
       "1989      @buzzindelhi Sorry, should hopefully be soon!   \n",
       "1995  @PPathole Make sure to read ur terms &amp; con...   \n",
       "1998                          Progress update August 28   \n",
       "\n",
       "                                                 tweets  sentiment_value  \n",
       "2                                       great interview                3  \n",
       "4     congratulation tesla china amazing execution l...                6  \n",
       "5                                     happy new year ox                3  \n",
       "7                                            haha thank                5  \n",
       "9                       the entertaining outcome likely                2  \n",
       "...                                                 ...              ...  \n",
       "1986                           good use term full stack                3  \n",
       "1987  for sure this great terrify everything ever se...                3  \n",
       "1989                               sorry hopefully soon                1  \n",
       "1995      make sure read ur term condition click accept                1  \n",
       "1998                          progress update august 28                2  \n",
       "\n",
       "[681 rows x 3 columns]"
      ]
     },
     "execution_count": 124,
     "metadata": {},
     "output_type": "execute_result"
    }
   ],
   "source": [
    "# positive sentiment score of the whole review\n",
    "data[data['sentiment_value']>0]"
   ]
  },
  {
   "cell_type": "code",
   "execution_count": 126,
   "id": "7d175b6c",
   "metadata": {},
   "outputs": [
    {
     "data": {
      "text/plain": [
       "0        1\n",
       "1        7\n",
       "2        2\n",
       "3        2\n",
       "4       10\n",
       "        ..\n",
       "1994     9\n",
       "1995     8\n",
       "1996     2\n",
       "1997     5\n",
       "1998     4\n",
       "Name: word_count, Length: 1999, dtype: int64"
      ]
     },
     "execution_count": 126,
     "metadata": {},
     "output_type": "execute_result"
    }
   ],
   "source": [
    "# how many words are there in a sentence?\n",
    "data['word_count']=data['tweets'].str.split().apply(len)\n",
    "data['word_count']"
   ]
  },
  {
   "cell_type": "code",
   "execution_count": 128,
   "id": "97696fcc",
   "metadata": {},
   "outputs": [
    {
     "data": {
      "text/html": [
       "<div>\n",
       "<style scoped>\n",
       "    .dataframe tbody tr th:only-of-type {\n",
       "        vertical-align: middle;\n",
       "    }\n",
       "\n",
       "    .dataframe tbody tr th {\n",
       "        vertical-align: top;\n",
       "    }\n",
       "\n",
       "    .dataframe thead th {\n",
       "        text-align: right;\n",
       "    }\n",
       "</style>\n",
       "<table border=\"1\" class=\"dataframe\">\n",
       "  <thead>\n",
       "    <tr style=\"text-align: right;\">\n",
       "      <th></th>\n",
       "      <th>Text</th>\n",
       "      <th>tweets</th>\n",
       "      <th>sentiment_value</th>\n",
       "      <th>word_count</th>\n",
       "      <th>index</th>\n",
       "    </tr>\n",
       "  </thead>\n",
       "  <tbody>\n",
       "    <tr>\n",
       "      <th>0</th>\n",
       "      <td>@kunalb11 I�m an alien</td>\n",
       "      <td>alien</td>\n",
       "      <td>0</td>\n",
       "      <td>1</td>\n",
       "      <td>0</td>\n",
       "    </tr>\n",
       "    <tr>\n",
       "      <th>1</th>\n",
       "      <td>@ID_AA_Carmack Ray tracing on Cyberpunk with H...</td>\n",
       "      <td>ray trace cyberpunk hdr nextlevel have try</td>\n",
       "      <td>0</td>\n",
       "      <td>7</td>\n",
       "      <td>1</td>\n",
       "    </tr>\n",
       "    <tr>\n",
       "      <th>2</th>\n",
       "      <td>@joerogan @Spotify Great interview!</td>\n",
       "      <td>great interview</td>\n",
       "      <td>3</td>\n",
       "      <td>2</td>\n",
       "      <td>2</td>\n",
       "    </tr>\n",
       "    <tr>\n",
       "      <th>3</th>\n",
       "      <td>@gtera27 Doge is underestimated</td>\n",
       "      <td>doge underestimate</td>\n",
       "      <td>-1</td>\n",
       "      <td>2</td>\n",
       "      <td>3</td>\n",
       "    </tr>\n",
       "    <tr>\n",
       "      <th>4</th>\n",
       "      <td>@teslacn Congratulations Tesla China for amazi...</td>\n",
       "      <td>congratulation tesla china amazing execution l...</td>\n",
       "      <td>6</td>\n",
       "      <td>10</td>\n",
       "      <td>4</td>\n",
       "    </tr>\n",
       "  </tbody>\n",
       "</table>\n",
       "</div>"
      ],
      "text/plain": [
       "                                                Text  \\\n",
       "0                             @kunalb11 I�m an alien   \n",
       "1  @ID_AA_Carmack Ray tracing on Cyberpunk with H...   \n",
       "2                @joerogan @Spotify Great interview!   \n",
       "3                    @gtera27 Doge is underestimated   \n",
       "4  @teslacn Congratulations Tesla China for amazi...   \n",
       "\n",
       "                                              tweets  sentiment_value  \\\n",
       "0                                              alien                0   \n",
       "1         ray trace cyberpunk hdr nextlevel have try                0   \n",
       "2                                    great interview                3   \n",
       "3                                 doge underestimate               -1   \n",
       "4  congratulation tesla china amazing execution l...                6   \n",
       "\n",
       "   word_count  index  \n",
       "0           1      0  \n",
       "1           7      1  \n",
       "2           2      2  \n",
       "3           2      3  \n",
       "4          10      4  "
      ]
     },
     "execution_count": 128,
     "metadata": {},
     "output_type": "execute_result"
    }
   ],
   "source": [
    "# Adding index cloumn\n",
    "data['index']=range(0,len(data))\n",
    "data.head()"
   ]
  },
  {
   "cell_type": "code",
   "execution_count": 129,
   "id": "acacc00a",
   "metadata": {},
   "outputs": [
    {
     "name": "stderr",
     "output_type": "stream",
     "text": [
      "/Users/vp054179/opt/anaconda3/lib/python3.8/site-packages/seaborn/distributions.py:2557: FutureWarning: `distplot` is a deprecated function and will be removed in a future version. Please adapt your code to use either `displot` (a figure-level function with similar flexibility) or `histplot` (an axes-level function for histograms).\n",
      "  warnings.warn(msg, FutureWarning)\n"
     ]
    },
    {
     "data": {
      "image/png": "[encoded data removed]",
      "text/plain": [
       "<Figure size 1080x720 with 1 Axes>"
      ]
     },
     "metadata": {
      "needs_background": "light"
     },
     "output_type": "display_data"
    }
   ],
   "source": [
    "# Plotting the sentiment value for whole review\n",
    "plt.figure(figsize=(15,10))\n",
    "sns.distplot(data['sentiment_value'])\n",
    "plt.show()"
   ]
  },
  {
   "cell_type": "code",
   "execution_count": 132,
   "id": "55e73ca5",
   "metadata": {},
   "outputs": [
    {
     "data": {
      "image/png": "[encoded data removed]",
      "text/plain": [
       "<Figure size 1080x720 with 1 Axes>"
      ]
     },
     "metadata": {
      "needs_background": "light"
     },
     "output_type": "display_data"
    }
   ],
   "source": [
    "# Plotting the line plot for sentiment value of whole review\n",
    "plt.figure(figsize=(15,10))\n",
    "sns.lineplot(y='sentiment_value',x='index',data=data)\n",
    "plt.show()"
   ]
  },
  {
   "cell_type": "code",
   "execution_count": 133,
   "id": "3dbdd720",
   "metadata": {
    "scrolled": true
   },
   "outputs": [
    {
     "data": {
      "image/png": "[encoded data removed]",
      "text/plain": [
       "<Figure size 576x576 with 1 Axes>"
      ]
     },
     "metadata": {
      "needs_background": "light"
     },
     "output_type": "display_data"
    }
   ],
   "source": [
    "# Correlation analysis\n",
    "data.plot.scatter(x='word_count',y='sentiment_value',figsize=(8,8),title='Sentence sentiment value to sentence word count')\n",
    "plt.show()"
   ]
  }
 ],
 "metadata": {
  "kernelspec": {
   "display_name": "Python 3",
   "language": "python",
   "name": "python3"
  },
  "language_info": {
   "codemirror_mode": {
    "name": "ipython",
    "version": 3
   },
   "file_extension": ".py",
   "mimetype": "text/x-python",
   "name": "python",
   "nbconvert_exporter": "python",
   "pygments_lexer": "ipython3",
   "version": "3.8.8"
  }
 },
 "nbformat": 4,
 "nbformat_minor": 5
}
