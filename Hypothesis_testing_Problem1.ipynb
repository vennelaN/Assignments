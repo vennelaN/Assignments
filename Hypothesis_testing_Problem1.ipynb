{
 "cells": [
  {
   "cell_type": "code",
   "execution_count": 275,
   "id": "227d260e",
   "metadata": {},
   "outputs": [],
   "source": [
    "\n",
    "import numpy as np\n",
    "import pandas as pd\n",
    "import warnings\n",
    "warnings.filterwarnings('ignore')\n",
    "from scipy import stats"
   ]
  },
  {
   "cell_type": "markdown",
   "id": "146fd601",
   "metadata": {},
   "source": [
    "## 1.Hypothesis Formulation"
   ]
  },
  {
   "cell_type": "markdown",
   "id": "bb29d8ba",
   "metadata": {},
   "source": [
    "**H0: µ1 = µ2 (there is no significant difference in the mean of diameter of the two samples )**\n",
    "\n",
    "**Ha: µ1 != µ2 (there is a significant difference in the mean of diameter of two samples)**"
   ]
  },
  {
   "cell_type": "markdown",
   "id": "2f52ded0",
   "metadata": {},
   "source": [
    "## 2.Data collection"
   ]
  },
  {
   "cell_type": "code",
   "execution_count": 252,
   "id": "c30ea78a",
   "metadata": {},
   "outputs": [
    {
     "data": {
      "text/html": [
       "<div>\n",
       "<style scoped>\n",
       "    .dataframe tbody tr th:only-of-type {\n",
       "        vertical-align: middle;\n",
       "    }\n",
       "\n",
       "    .dataframe tbody tr th {\n",
       "        vertical-align: top;\n",
       "    }\n",
       "\n",
       "    .dataframe thead th {\n",
       "        text-align: right;\n",
       "    }\n",
       "</style>\n",
       "<table border=\"1\" class=\"dataframe\">\n",
       "  <thead>\n",
       "    <tr style=\"text-align: right;\">\n",
       "      <th></th>\n",
       "      <th>Unit A</th>\n",
       "      <th>Unit B</th>\n",
       "    </tr>\n",
       "  </thead>\n",
       "  <tbody>\n",
       "    <tr>\n",
       "      <th>0</th>\n",
       "      <td>6.8090</td>\n",
       "      <td>6.7703</td>\n",
       "    </tr>\n",
       "    <tr>\n",
       "      <th>1</th>\n",
       "      <td>6.4376</td>\n",
       "      <td>7.5093</td>\n",
       "    </tr>\n",
       "    <tr>\n",
       "      <th>2</th>\n",
       "      <td>6.9157</td>\n",
       "      <td>6.7300</td>\n",
       "    </tr>\n",
       "    <tr>\n",
       "      <th>3</th>\n",
       "      <td>7.3012</td>\n",
       "      <td>6.7878</td>\n",
       "    </tr>\n",
       "    <tr>\n",
       "      <th>4</th>\n",
       "      <td>7.4488</td>\n",
       "      <td>7.1522</td>\n",
       "    </tr>\n",
       "  </tbody>\n",
       "</table>\n",
       "</div>"
      ],
      "text/plain": [
       "   Unit A  Unit B\n",
       "0  6.8090  6.7703\n",
       "1  6.4376  7.5093\n",
       "2  6.9157  6.7300\n",
       "3  7.3012  6.7878\n",
       "4  7.4488  7.1522"
      ]
     },
     "execution_count": 252,
     "metadata": {},
     "output_type": "execute_result"
    }
   ],
   "source": [
    "data = pd.read_csv('Datasets/Cutlets.csv')\n",
    "data.head()"
   ]
  },
  {
   "cell_type": "markdown",
   "id": "781caf73",
   "metadata": {},
   "source": [
    "## 3.Data Analysis"
   ]
  },
  {
   "cell_type": "code",
   "execution_count": 246,
   "id": "62d4827c",
   "metadata": {},
   "outputs": [
    {
     "data": {
      "text/plain": [
       "(35, 2)"
      ]
     },
     "execution_count": 246,
     "metadata": {},
     "output_type": "execute_result"
    }
   ],
   "source": [
    "data.shape"
   ]
  },
  {
   "cell_type": "code",
   "execution_count": 247,
   "id": "c3f92fef",
   "metadata": {},
   "outputs": [
    {
     "data": {
      "text/plain": [
       "Unit A    float64\n",
       "Unit B    float64\n",
       "dtype: object"
      ]
     },
     "execution_count": 247,
     "metadata": {},
     "output_type": "execute_result"
    }
   ],
   "source": [
    "data.dtypes"
   ]
  },
  {
   "cell_type": "code",
   "execution_count": 248,
   "id": "ff66216e",
   "metadata": {},
   "outputs": [
    {
     "data": {
      "text/plain": [
       "Unit A    0\n",
       "Unit B    0\n",
       "dtype: int64"
      ]
     },
     "execution_count": 248,
     "metadata": {},
     "output_type": "execute_result"
    }
   ],
   "source": [
    "data.isna().sum()"
   ]
  },
  {
   "cell_type": "code",
   "execution_count": 262,
   "id": "2c236dab",
   "metadata": {},
   "outputs": [
    {
     "name": "stdout",
     "output_type": "stream",
     "text": [
      "x̅1:  7.01909142857143\n",
      "s1:  0.2884084841815496\n",
      "n1:  35\n"
     ]
    }
   ],
   "source": [
    "x̅1 = data['Unit A'].mean()\n",
    "print('x̅1: ',x̅1)\n",
    "s1 = data['Unit A'].std()\n",
    "print('s1: ',s1)\n",
    "n1 = data['Unit A'].value_counts().sum()\n",
    "print('n1: ',n1)"
   ]
  },
  {
   "cell_type": "code",
   "execution_count": 273,
   "id": "bc8a6cd1",
   "metadata": {},
   "outputs": [
    {
     "name": "stdout",
     "output_type": "stream",
     "text": [
      "x̅2:  6.964297142857142\n",
      "s2:  0.343400647063108\n",
      "n2:  35\n"
     ]
    }
   ],
   "source": [
    "x̅2 = data['Unit B'].mean()\n",
    "print('x̅2: ',x̅2)\n",
    "s2 = data['Unit B'].std()\n",
    "print('s2: ',s1)\n",
    "n2 = data['Unit B'].value_counts().sum()\n",
    "print('n2: ',n1)"
   ]
  },
  {
   "cell_type": "code",
   "execution_count": 280,
   "id": "c90b3ecd",
   "metadata": {},
   "outputs": [],
   "source": [
    "popMeanDiff = 0 # µ1-µ2 = 0 as both are equal according to H0\n",
    "α = 0.05"
   ]
  },
  {
   "cell_type": "markdown",
   "id": "ccf03eae",
   "metadata": {},
   "source": [
    "## p value calculation"
   ]
  },
  {
   "cell_type": "code",
   "execution_count": 274,
   "id": "811092bc",
   "metadata": {},
   "outputs": [
    {
     "name": "stdout",
     "output_type": "stream",
     "text": [
      "Z score : 0.6675029434526222\n"
     ]
    }
   ],
   "source": [
    "stdE = (np.square(s1)/n1 + np.square(s2)/n2) #standard error\n",
    "z = ((x̅1-x̅2)- popMeanDiff)/(np.sqrt(stdE))\n",
    "print('Z score :',z)"
   ]
  },
  {
   "cell_type": "code",
   "execution_count": 279,
   "id": "e0cb0261",
   "metadata": {},
   "outputs": [
    {
     "data": {
      "text/plain": [
       "0.5669715660680492"
      ]
     },
     "execution_count": 279,
     "metadata": {},
     "output_type": "execute_result"
    }
   ],
   "source": [
    "#p value is the 1-area under the curve coresponding to the above z score\n",
    "\n",
    "pValue = 1-stats.norm.ppf(z)\n",
    "pValue"
   ]
  },
  {
   "cell_type": "code",
   "execution_count": 281,
   "id": "8b2eeed8",
   "metadata": {},
   "outputs": [
    {
     "name": "stdout",
     "output_type": "stream",
     "text": [
      "We Fail to reject Null HYpothesis\n",
      "Conclusion: there is no significant difference in the means of both samples\n"
     ]
    }
   ],
   "source": [
    "if pValue < α :\n",
    "    print('We reject Null HYpothesis')\n",
    "    print('Conclusion: there is a significant difference in the means of both samples')\n",
    "else:\n",
    "    print('We Fail to reject Null HYpothesis')\n",
    "    print('Conclusion: there is no significant difference in the means of both samples')"
   ]
  }
 ],
 "metadata": {
  "kernelspec": {
   "display_name": "Python 3",
   "language": "python",
   "name": "python3"
  },
  "language_info": {
   "codemirror_mode": {
    "name": "ipython",
    "version": 3
   },
   "file_extension": ".py",
   "mimetype": "text/x-python",
   "name": "python",
   "nbconvert_exporter": "python",
   "pygments_lexer": "ipython3",
   "version": "3.8.8"
  }
 },
 "nbformat": 4,
 "nbformat_minor": 5
}
