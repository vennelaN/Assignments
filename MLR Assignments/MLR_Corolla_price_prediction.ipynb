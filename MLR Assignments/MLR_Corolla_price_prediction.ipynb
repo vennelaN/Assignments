{
 "cells": [
  {
   "cell_type": "code",
   "execution_count": 288,
   "id": "3f6c11ab",
   "metadata": {},
   "outputs": [],
   "source": [
    "import pandas as pd\n",
    "pd.set_option('display.max_columns',None)\n",
    "import math\n",
    "import numpy as np\n",
    "from sklearn.preprocessing import LabelEncoder,StandardScaler\n",
    "import matplotlib.pyplot as plt\n",
    "import seaborn as sns\n",
    "from statsmodels.stats.outliers_influence import variance_inflation_factor\n",
    "from statsmodels.formula.api import ols\n",
    "from sklearn.metrics import mean_absolute_error,mean_absolute_percentage_error,accuracy_score\n",
    "from statsmodels.graphics.api import qqplot,influence_plot\n",
    "from pickle import dump"
   ]
  },
  {
   "cell_type": "markdown",
   "id": "2732bc2f",
   "metadata": {},
   "source": [
    "## 1.Loading Data"
   ]
  },
  {
   "cell_type": "code",
   "execution_count": 233,
   "id": "e1004fd2",
   "metadata": {},
   "outputs": [
    {
     "data": {
      "text/html": [
       "<div>\n",
       "<style scoped>\n",
       "    .dataframe tbody tr th:only-of-type {\n",
       "        vertical-align: middle;\n",
       "    }\n",
       "\n",
       "    .dataframe tbody tr th {\n",
       "        vertical-align: top;\n",
       "    }\n",
       "\n",
       "    .dataframe thead th {\n",
       "        text-align: right;\n",
       "    }\n",
       "</style>\n",
       "<table border=\"1\" class=\"dataframe\">\n",
       "  <thead>\n",
       "    <tr style=\"text-align: right;\">\n",
       "      <th></th>\n",
       "      <th>Id</th>\n",
       "      <th>Model</th>\n",
       "      <th>Price</th>\n",
       "      <th>Age_08_04</th>\n",
       "      <th>Mfg_Month</th>\n",
       "      <th>Mfg_Year</th>\n",
       "      <th>KM</th>\n",
       "      <th>Fuel_Type</th>\n",
       "      <th>HP</th>\n",
       "      <th>Met_Color</th>\n",
       "      <th>Color</th>\n",
       "      <th>Automatic</th>\n",
       "      <th>cc</th>\n",
       "      <th>Doors</th>\n",
       "      <th>Cylinders</th>\n",
       "      <th>Gears</th>\n",
       "      <th>Quarterly_Tax</th>\n",
       "      <th>Weight</th>\n",
       "      <th>Mfr_Guarantee</th>\n",
       "      <th>BOVAG_Guarantee</th>\n",
       "      <th>Guarantee_Period</th>\n",
       "      <th>ABS</th>\n",
       "      <th>Airbag_1</th>\n",
       "      <th>Airbag_2</th>\n",
       "      <th>Airco</th>\n",
       "      <th>Automatic_airco</th>\n",
       "      <th>Boardcomputer</th>\n",
       "      <th>CD_Player</th>\n",
       "      <th>Central_Lock</th>\n",
       "      <th>Powered_Windows</th>\n",
       "      <th>Power_Steering</th>\n",
       "      <th>Radio</th>\n",
       "      <th>Mistlamps</th>\n",
       "      <th>Sport_Model</th>\n",
       "      <th>Backseat_Divider</th>\n",
       "      <th>Metallic_Rim</th>\n",
       "      <th>Radio_cassette</th>\n",
       "      <th>Tow_Bar</th>\n",
       "    </tr>\n",
       "  </thead>\n",
       "  <tbody>\n",
       "    <tr>\n",
       "      <th>0</th>\n",
       "      <td>1</td>\n",
       "      <td>TOYOTA Corolla 2.0 D4D HATCHB TERRA 2/3-Doors</td>\n",
       "      <td>13500</td>\n",
       "      <td>23</td>\n",
       "      <td>10</td>\n",
       "      <td>2002</td>\n",
       "      <td>46986</td>\n",
       "      <td>Diesel</td>\n",
       "      <td>90</td>\n",
       "      <td>1</td>\n",
       "      <td>Blue</td>\n",
       "      <td>0</td>\n",
       "      <td>2000</td>\n",
       "      <td>3</td>\n",
       "      <td>4</td>\n",
       "      <td>5</td>\n",
       "      <td>210</td>\n",
       "      <td>1165</td>\n",
       "      <td>0</td>\n",
       "      <td>1</td>\n",
       "      <td>3</td>\n",
       "      <td>1</td>\n",
       "      <td>1</td>\n",
       "      <td>1</td>\n",
       "      <td>0</td>\n",
       "      <td>0</td>\n",
       "      <td>1</td>\n",
       "      <td>0</td>\n",
       "      <td>1</td>\n",
       "      <td>1</td>\n",
       "      <td>1</td>\n",
       "      <td>0</td>\n",
       "      <td>0</td>\n",
       "      <td>0</td>\n",
       "      <td>1</td>\n",
       "      <td>0</td>\n",
       "      <td>0</td>\n",
       "      <td>0</td>\n",
       "    </tr>\n",
       "    <tr>\n",
       "      <th>1</th>\n",
       "      <td>2</td>\n",
       "      <td>TOYOTA Corolla 2.0 D4D HATCHB TERRA 2/3-Doors</td>\n",
       "      <td>13750</td>\n",
       "      <td>23</td>\n",
       "      <td>10</td>\n",
       "      <td>2002</td>\n",
       "      <td>72937</td>\n",
       "      <td>Diesel</td>\n",
       "      <td>90</td>\n",
       "      <td>1</td>\n",
       "      <td>Silver</td>\n",
       "      <td>0</td>\n",
       "      <td>2000</td>\n",
       "      <td>3</td>\n",
       "      <td>4</td>\n",
       "      <td>5</td>\n",
       "      <td>210</td>\n",
       "      <td>1165</td>\n",
       "      <td>0</td>\n",
       "      <td>1</td>\n",
       "      <td>3</td>\n",
       "      <td>1</td>\n",
       "      <td>1</td>\n",
       "      <td>1</td>\n",
       "      <td>1</td>\n",
       "      <td>0</td>\n",
       "      <td>1</td>\n",
       "      <td>1</td>\n",
       "      <td>1</td>\n",
       "      <td>0</td>\n",
       "      <td>1</td>\n",
       "      <td>0</td>\n",
       "      <td>0</td>\n",
       "      <td>0</td>\n",
       "      <td>1</td>\n",
       "      <td>0</td>\n",
       "      <td>0</td>\n",
       "      <td>0</td>\n",
       "    </tr>\n",
       "  </tbody>\n",
       "</table>\n",
       "</div>"
      ],
      "text/plain": [
       "   Id                                          Model  Price  Age_08_04  \\\n",
       "0   1  TOYOTA Corolla 2.0 D4D HATCHB TERRA 2/3-Doors  13500         23   \n",
       "1   2  TOYOTA Corolla 2.0 D4D HATCHB TERRA 2/3-Doors  13750         23   \n",
       "\n",
       "   Mfg_Month  Mfg_Year     KM Fuel_Type  HP  Met_Color   Color  Automatic  \\\n",
       "0         10      2002  46986    Diesel  90          1    Blue          0   \n",
       "1         10      2002  72937    Diesel  90          1  Silver          0   \n",
       "\n",
       "     cc  Doors  Cylinders  Gears  Quarterly_Tax  Weight  Mfr_Guarantee  \\\n",
       "0  2000      3          4      5            210    1165              0   \n",
       "1  2000      3          4      5            210    1165              0   \n",
       "\n",
       "   BOVAG_Guarantee  Guarantee_Period  ABS  Airbag_1  Airbag_2  Airco  \\\n",
       "0                1                 3    1         1         1      0   \n",
       "1                1                 3    1         1         1      1   \n",
       "\n",
       "   Automatic_airco  Boardcomputer  CD_Player  Central_Lock  Powered_Windows  \\\n",
       "0                0              1          0             1                1   \n",
       "1                0              1          1             1                0   \n",
       "\n",
       "   Power_Steering  Radio  Mistlamps  Sport_Model  Backseat_Divider  \\\n",
       "0               1      0          0            0                 1   \n",
       "1               1      0          0            0                 1   \n",
       "\n",
       "   Metallic_Rim  Radio_cassette  Tow_Bar  \n",
       "0             0               0        0  \n",
       "1             0               0        0  "
      ]
     },
     "execution_count": 233,
     "metadata": {},
     "output_type": "execute_result"
    }
   ],
   "source": [
    "cars_data = pd.read_csv('Datasets/ToyotaCorolla.csv')\n",
    "cars_data.head(2)"
   ]
  },
  {
   "cell_type": "markdown",
   "id": "5797eb32",
   "metadata": {},
   "source": [
    "## 2.Data Analysis"
   ]
  },
  {
   "cell_type": "code",
   "execution_count": 4,
   "id": "a9346641",
   "metadata": {},
   "outputs": [
    {
     "data": {
      "text/plain": [
       "(1436, 38)"
      ]
     },
     "execution_count": 4,
     "metadata": {},
     "output_type": "execute_result"
    }
   ],
   "source": [
    "cars_data.shape"
   ]
  },
  {
   "cell_type": "code",
   "execution_count": 5,
   "id": "3417a41b",
   "metadata": {},
   "outputs": [
    {
     "data": {
      "text/plain": [
       "Id                   int64\n",
       "Model               object\n",
       "Price                int64\n",
       "Age_08_04            int64\n",
       "Mfg_Month            int64\n",
       "Mfg_Year             int64\n",
       "KM                   int64\n",
       "Fuel_Type           object\n",
       "HP                   int64\n",
       "Met_Color            int64\n",
       "Color               object\n",
       "Automatic            int64\n",
       "cc                   int64\n",
       "Doors                int64\n",
       "Cylinders            int64\n",
       "Gears                int64\n",
       "Quarterly_Tax        int64\n",
       "Weight               int64\n",
       "Mfr_Guarantee        int64\n",
       "BOVAG_Guarantee      int64\n",
       "Guarantee_Period     int64\n",
       "ABS                  int64\n",
       "Airbag_1             int64\n",
       "Airbag_2             int64\n",
       "Airco                int64\n",
       "Automatic_airco      int64\n",
       "Boardcomputer        int64\n",
       "CD_Player            int64\n",
       "Central_Lock         int64\n",
       "Powered_Windows      int64\n",
       "Power_Steering       int64\n",
       "Radio                int64\n",
       "Mistlamps            int64\n",
       "Sport_Model          int64\n",
       "Backseat_Divider     int64\n",
       "Metallic_Rim         int64\n",
       "Radio_cassette       int64\n",
       "Tow_Bar              int64\n",
       "dtype: object"
      ]
     },
     "execution_count": 5,
     "metadata": {},
     "output_type": "execute_result"
    }
   ],
   "source": [
    "cars_data.dtypes"
   ]
  },
  {
   "cell_type": "code",
   "execution_count": 6,
   "id": "264e59c2",
   "metadata": {},
   "outputs": [
    {
     "data": {
      "text/plain": [
       "Id                  0\n",
       "Model               0\n",
       "Price               0\n",
       "Age_08_04           0\n",
       "Mfg_Month           0\n",
       "Mfg_Year            0\n",
       "KM                  0\n",
       "Fuel_Type           0\n",
       "HP                  0\n",
       "Met_Color           0\n",
       "Color               0\n",
       "Automatic           0\n",
       "cc                  0\n",
       "Doors               0\n",
       "Cylinders           0\n",
       "Gears               0\n",
       "Quarterly_Tax       0\n",
       "Weight              0\n",
       "Mfr_Guarantee       0\n",
       "BOVAG_Guarantee     0\n",
       "Guarantee_Period    0\n",
       "ABS                 0\n",
       "Airbag_1            0\n",
       "Airbag_2            0\n",
       "Airco               0\n",
       "Automatic_airco     0\n",
       "Boardcomputer       0\n",
       "CD_Player           0\n",
       "Central_Lock        0\n",
       "Powered_Windows     0\n",
       "Power_Steering      0\n",
       "Radio               0\n",
       "Mistlamps           0\n",
       "Sport_Model         0\n",
       "Backseat_Divider    0\n",
       "Metallic_Rim        0\n",
       "Radio_cassette      0\n",
       "Tow_Bar             0\n",
       "dtype: int64"
      ]
     },
     "execution_count": 6,
     "metadata": {},
     "output_type": "execute_result"
    }
   ],
   "source": [
    "cars_data.isna().sum()"
   ]
  },
  {
   "cell_type": "markdown",
   "id": "64bdc780",
   "metadata": {},
   "source": [
    "## 3.Data processing"
   ]
  },
  {
   "cell_type": "code",
   "execution_count": 13,
   "id": "66a13d80",
   "metadata": {},
   "outputs": [
    {
     "data": {
      "text/plain": [
       "['Model', 'Fuel_Type', 'Color']"
      ]
     },
     "execution_count": 13,
     "metadata": {},
     "output_type": "execute_result"
    }
   ],
   "source": [
    "[x for x in cars_data.columns if cars_data[x].dtypes == 'O']"
   ]
  },
  {
   "cell_type": "code",
   "execution_count": 16,
   "id": "c8834a89",
   "metadata": {},
   "outputs": [
    {
     "data": {
      "text/plain": [
       "372"
      ]
     },
     "execution_count": 16,
     "metadata": {},
     "output_type": "execute_result"
    }
   ],
   "source": [
    "cars_data['Model'].nunique()"
   ]
  },
  {
   "cell_type": "code",
   "execution_count": 234,
   "id": "e975fef4",
   "metadata": {},
   "outputs": [],
   "source": [
    "#deleting 'model' feature\n",
    "cars_data = cars_data.drop(labels=('Model'),axis=1)"
   ]
  },
  {
   "cell_type": "code",
   "execution_count": 20,
   "id": "293d469f",
   "metadata": {},
   "outputs": [
    {
     "data": {
      "text/html": [
       "<div>\n",
       "<style scoped>\n",
       "    .dataframe tbody tr th:only-of-type {\n",
       "        vertical-align: middle;\n",
       "    }\n",
       "\n",
       "    .dataframe tbody tr th {\n",
       "        vertical-align: top;\n",
       "    }\n",
       "\n",
       "    .dataframe thead th {\n",
       "        text-align: right;\n",
       "    }\n",
       "</style>\n",
       "<table border=\"1\" class=\"dataframe\">\n",
       "  <thead>\n",
       "    <tr style=\"text-align: right;\">\n",
       "      <th></th>\n",
       "      <th>Id</th>\n",
       "      <th>Price</th>\n",
       "      <th>Age_08_04</th>\n",
       "      <th>Mfg_Month</th>\n",
       "      <th>Mfg_Year</th>\n",
       "      <th>KM</th>\n",
       "      <th>Fuel_Type</th>\n",
       "      <th>HP</th>\n",
       "      <th>Met_Color</th>\n",
       "      <th>Color</th>\n",
       "      <th>Automatic</th>\n",
       "      <th>cc</th>\n",
       "      <th>Doors</th>\n",
       "      <th>Cylinders</th>\n",
       "      <th>Gears</th>\n",
       "      <th>Quarterly_Tax</th>\n",
       "      <th>Weight</th>\n",
       "      <th>Mfr_Guarantee</th>\n",
       "      <th>BOVAG_Guarantee</th>\n",
       "      <th>Guarantee_Period</th>\n",
       "      <th>ABS</th>\n",
       "      <th>Airbag_1</th>\n",
       "      <th>Airbag_2</th>\n",
       "      <th>Airco</th>\n",
       "      <th>Automatic_airco</th>\n",
       "      <th>Boardcomputer</th>\n",
       "      <th>CD_Player</th>\n",
       "      <th>Central_Lock</th>\n",
       "      <th>Powered_Windows</th>\n",
       "      <th>Power_Steering</th>\n",
       "      <th>Radio</th>\n",
       "      <th>Mistlamps</th>\n",
       "      <th>Sport_Model</th>\n",
       "      <th>Backseat_Divider</th>\n",
       "      <th>Metallic_Rim</th>\n",
       "      <th>Radio_cassette</th>\n",
       "      <th>Tow_Bar</th>\n",
       "    </tr>\n",
       "  </thead>\n",
       "  <tbody>\n",
       "    <tr>\n",
       "      <th>0</th>\n",
       "      <td>1</td>\n",
       "      <td>13500</td>\n",
       "      <td>23</td>\n",
       "      <td>10</td>\n",
       "      <td>2002</td>\n",
       "      <td>46986</td>\n",
       "      <td>Diesel</td>\n",
       "      <td>90</td>\n",
       "      <td>1</td>\n",
       "      <td>Blue</td>\n",
       "      <td>0</td>\n",
       "      <td>2000</td>\n",
       "      <td>3</td>\n",
       "      <td>4</td>\n",
       "      <td>5</td>\n",
       "      <td>210</td>\n",
       "      <td>1165</td>\n",
       "      <td>0</td>\n",
       "      <td>1</td>\n",
       "      <td>3</td>\n",
       "      <td>1</td>\n",
       "      <td>1</td>\n",
       "      <td>1</td>\n",
       "      <td>0</td>\n",
       "      <td>0</td>\n",
       "      <td>1</td>\n",
       "      <td>0</td>\n",
       "      <td>1</td>\n",
       "      <td>1</td>\n",
       "      <td>1</td>\n",
       "      <td>0</td>\n",
       "      <td>0</td>\n",
       "      <td>0</td>\n",
       "      <td>1</td>\n",
       "      <td>0</td>\n",
       "      <td>0</td>\n",
       "      <td>0</td>\n",
       "    </tr>\n",
       "    <tr>\n",
       "      <th>1</th>\n",
       "      <td>2</td>\n",
       "      <td>13750</td>\n",
       "      <td>23</td>\n",
       "      <td>10</td>\n",
       "      <td>2002</td>\n",
       "      <td>72937</td>\n",
       "      <td>Diesel</td>\n",
       "      <td>90</td>\n",
       "      <td>1</td>\n",
       "      <td>Silver</td>\n",
       "      <td>0</td>\n",
       "      <td>2000</td>\n",
       "      <td>3</td>\n",
       "      <td>4</td>\n",
       "      <td>5</td>\n",
       "      <td>210</td>\n",
       "      <td>1165</td>\n",
       "      <td>0</td>\n",
       "      <td>1</td>\n",
       "      <td>3</td>\n",
       "      <td>1</td>\n",
       "      <td>1</td>\n",
       "      <td>1</td>\n",
       "      <td>1</td>\n",
       "      <td>0</td>\n",
       "      <td>1</td>\n",
       "      <td>1</td>\n",
       "      <td>1</td>\n",
       "      <td>0</td>\n",
       "      <td>1</td>\n",
       "      <td>0</td>\n",
       "      <td>0</td>\n",
       "      <td>0</td>\n",
       "      <td>1</td>\n",
       "      <td>0</td>\n",
       "      <td>0</td>\n",
       "      <td>0</td>\n",
       "    </tr>\n",
       "    <tr>\n",
       "      <th>2</th>\n",
       "      <td>3</td>\n",
       "      <td>13950</td>\n",
       "      <td>24</td>\n",
       "      <td>9</td>\n",
       "      <td>2002</td>\n",
       "      <td>41711</td>\n",
       "      <td>Diesel</td>\n",
       "      <td>90</td>\n",
       "      <td>1</td>\n",
       "      <td>Blue</td>\n",
       "      <td>0</td>\n",
       "      <td>2000</td>\n",
       "      <td>3</td>\n",
       "      <td>4</td>\n",
       "      <td>5</td>\n",
       "      <td>210</td>\n",
       "      <td>1165</td>\n",
       "      <td>1</td>\n",
       "      <td>1</td>\n",
       "      <td>3</td>\n",
       "      <td>1</td>\n",
       "      <td>1</td>\n",
       "      <td>1</td>\n",
       "      <td>0</td>\n",
       "      <td>0</td>\n",
       "      <td>1</td>\n",
       "      <td>0</td>\n",
       "      <td>0</td>\n",
       "      <td>0</td>\n",
       "      <td>1</td>\n",
       "      <td>0</td>\n",
       "      <td>0</td>\n",
       "      <td>0</td>\n",
       "      <td>1</td>\n",
       "      <td>0</td>\n",
       "      <td>0</td>\n",
       "      <td>0</td>\n",
       "    </tr>\n",
       "  </tbody>\n",
       "</table>\n",
       "</div>"
      ],
      "text/plain": [
       "   Id  Price  Age_08_04  Mfg_Month  Mfg_Year     KM Fuel_Type  HP  Met_Color  \\\n",
       "0   1  13500         23         10      2002  46986    Diesel  90          1   \n",
       "1   2  13750         23         10      2002  72937    Diesel  90          1   \n",
       "2   3  13950         24          9      2002  41711    Diesel  90          1   \n",
       "\n",
       "    Color  Automatic    cc  Doors  Cylinders  Gears  Quarterly_Tax  Weight  \\\n",
       "0    Blue          0  2000      3          4      5            210    1165   \n",
       "1  Silver          0  2000      3          4      5            210    1165   \n",
       "2    Blue          0  2000      3          4      5            210    1165   \n",
       "\n",
       "   Mfr_Guarantee  BOVAG_Guarantee  Guarantee_Period  ABS  Airbag_1  Airbag_2  \\\n",
       "0              0                1                 3    1         1         1   \n",
       "1              0                1                 3    1         1         1   \n",
       "2              1                1                 3    1         1         1   \n",
       "\n",
       "   Airco  Automatic_airco  Boardcomputer  CD_Player  Central_Lock  \\\n",
       "0      0                0              1          0             1   \n",
       "1      1                0              1          1             1   \n",
       "2      0                0              1          0             0   \n",
       "\n",
       "   Powered_Windows  Power_Steering  Radio  Mistlamps  Sport_Model  \\\n",
       "0                1               1      0          0            0   \n",
       "1                0               1      0          0            0   \n",
       "2                0               1      0          0            0   \n",
       "\n",
       "   Backseat_Divider  Metallic_Rim  Radio_cassette  Tow_Bar  \n",
       "0                 1             0               0        0  \n",
       "1                 1             0               0        0  \n",
       "2                 1             0               0        0  "
      ]
     },
     "execution_count": 20,
     "metadata": {},
     "output_type": "execute_result"
    }
   ],
   "source": [
    "cars_data.head(3)"
   ]
  },
  {
   "cell_type": "code",
   "execution_count": 22,
   "id": "679c2f60",
   "metadata": {},
   "outputs": [
    {
     "data": {
      "text/plain": [
       "3"
      ]
     },
     "execution_count": 22,
     "metadata": {},
     "output_type": "execute_result"
    }
   ],
   "source": [
    "cars_data['Fuel_Type'].nunique()"
   ]
  },
  {
   "cell_type": "code",
   "execution_count": 235,
   "id": "3954968d",
   "metadata": {},
   "outputs": [
    {
     "data": {
      "text/plain": [
       "0    1\n",
       "1    1\n",
       "2    1\n",
       "3    1\n",
       "4    1\n",
       "Name: Fuel_Type, dtype: int64"
      ]
     },
     "execution_count": 235,
     "metadata": {},
     "output_type": "execute_result"
    }
   ],
   "source": [
    "lbl_encoder = LabelEncoder()\n",
    "x = lbl_encoder.fit_transform(cars_data['Fuel_Type'])\n",
    "x = pd.DataFrame(data=x,columns=['Fuel_Type'])\n",
    "cars_data['Fuel_Type'] = x\n",
    "cars_data['Fuel_Type'].head()"
   ]
  },
  {
   "cell_type": "code",
   "execution_count": 236,
   "id": "ee29b07e",
   "metadata": {},
   "outputs": [
    {
     "data": {
      "text/html": [
       "<div>\n",
       "<style scoped>\n",
       "    .dataframe tbody tr th:only-of-type {\n",
       "        vertical-align: middle;\n",
       "    }\n",
       "\n",
       "    .dataframe tbody tr th {\n",
       "        vertical-align: top;\n",
       "    }\n",
       "\n",
       "    .dataframe thead th {\n",
       "        text-align: right;\n",
       "    }\n",
       "</style>\n",
       "<table border=\"1\" class=\"dataframe\">\n",
       "  <thead>\n",
       "    <tr style=\"text-align: right;\">\n",
       "      <th></th>\n",
       "      <th>Price</th>\n",
       "      <th>Age_08_04</th>\n",
       "      <th>KM</th>\n",
       "      <th>Fuel_Type</th>\n",
       "      <th>Automatic</th>\n",
       "      <th>cc</th>\n",
       "      <th>Doors</th>\n",
       "      <th>Cylinders</th>\n",
       "      <th>Gears</th>\n",
       "      <th>Quarterly_Tax</th>\n",
       "      <th>Weight</th>\n",
       "    </tr>\n",
       "  </thead>\n",
       "  <tbody>\n",
       "    <tr>\n",
       "      <th>0</th>\n",
       "      <td>13500</td>\n",
       "      <td>23</td>\n",
       "      <td>46986</td>\n",
       "      <td>1</td>\n",
       "      <td>0</td>\n",
       "      <td>2000</td>\n",
       "      <td>3</td>\n",
       "      <td>4</td>\n",
       "      <td>5</td>\n",
       "      <td>210</td>\n",
       "      <td>1165</td>\n",
       "    </tr>\n",
       "    <tr>\n",
       "      <th>1</th>\n",
       "      <td>13750</td>\n",
       "      <td>23</td>\n",
       "      <td>72937</td>\n",
       "      <td>1</td>\n",
       "      <td>0</td>\n",
       "      <td>2000</td>\n",
       "      <td>3</td>\n",
       "      <td>4</td>\n",
       "      <td>5</td>\n",
       "      <td>210</td>\n",
       "      <td>1165</td>\n",
       "    </tr>\n",
       "    <tr>\n",
       "      <th>2</th>\n",
       "      <td>13950</td>\n",
       "      <td>24</td>\n",
       "      <td>41711</td>\n",
       "      <td>1</td>\n",
       "      <td>0</td>\n",
       "      <td>2000</td>\n",
       "      <td>3</td>\n",
       "      <td>4</td>\n",
       "      <td>5</td>\n",
       "      <td>210</td>\n",
       "      <td>1165</td>\n",
       "    </tr>\n",
       "    <tr>\n",
       "      <th>3</th>\n",
       "      <td>14950</td>\n",
       "      <td>26</td>\n",
       "      <td>48000</td>\n",
       "      <td>1</td>\n",
       "      <td>0</td>\n",
       "      <td>2000</td>\n",
       "      <td>3</td>\n",
       "      <td>4</td>\n",
       "      <td>5</td>\n",
       "      <td>210</td>\n",
       "      <td>1165</td>\n",
       "    </tr>\n",
       "    <tr>\n",
       "      <th>4</th>\n",
       "      <td>13750</td>\n",
       "      <td>30</td>\n",
       "      <td>38500</td>\n",
       "      <td>1</td>\n",
       "      <td>0</td>\n",
       "      <td>2000</td>\n",
       "      <td>3</td>\n",
       "      <td>4</td>\n",
       "      <td>5</td>\n",
       "      <td>210</td>\n",
       "      <td>1170</td>\n",
       "    </tr>\n",
       "  </tbody>\n",
       "</table>\n",
       "</div>"
      ],
      "text/plain": [
       "   Price  Age_08_04     KM  Fuel_Type  Automatic    cc  Doors  Cylinders  \\\n",
       "0  13500         23  46986          1          0  2000      3          4   \n",
       "1  13750         23  72937          1          0  2000      3          4   \n",
       "2  13950         24  41711          1          0  2000      3          4   \n",
       "3  14950         26  48000          1          0  2000      3          4   \n",
       "4  13750         30  38500          1          0  2000      3          4   \n",
       "\n",
       "   Gears  Quarterly_Tax  Weight  \n",
       "0      5            210    1165  \n",
       "1      5            210    1165  \n",
       "2      5            210    1165  \n",
       "3      5            210    1165  \n",
       "4      5            210    1170  "
      ]
     },
     "execution_count": 236,
     "metadata": {},
     "output_type": "execute_result"
    }
   ],
   "source": [
    "toyota_data1 = cars_data.loc[:,('Price','Age_08_04','KM',\n",
    "                                'Fuel_Type','Automatic','cc','Doors','Cylinders','Gears','Quarterly_Tax','Weight')]\n",
    "toyota_data1.head()"
   ]
  },
  {
   "cell_type": "code",
   "execution_count": 40,
   "id": "c062b3f5",
   "metadata": {},
   "outputs": [
    {
     "data": {
      "text/plain": [
       "1"
      ]
     },
     "execution_count": 40,
     "metadata": {},
     "output_type": "execute_result"
    }
   ],
   "source": [
    "toyota_data1['Cylinders'].nunique()"
   ]
  },
  {
   "cell_type": "code",
   "execution_count": 41,
   "id": "ded97e43",
   "metadata": {},
   "outputs": [
    {
     "data": {
      "text/plain": [
       "13"
      ]
     },
     "execution_count": 41,
     "metadata": {},
     "output_type": "execute_result"
    }
   ],
   "source": [
    "toyota_data1['cc'].nunique()"
   ]
  },
  {
   "cell_type": "code",
   "execution_count": 47,
   "id": "ca266096",
   "metadata": {},
   "outputs": [
    {
     "data": {
      "text/plain": [
       "4"
      ]
     },
     "execution_count": 47,
     "metadata": {},
     "output_type": "execute_result"
    }
   ],
   "source": [
    "toyota_data1['Gears'].nunique()"
   ]
  },
  {
   "cell_type": "code",
   "execution_count": 237,
   "id": "5c6f9cbe",
   "metadata": {},
   "outputs": [],
   "source": [
    "toyota_data1.drop(labels=('Cylinders'),axis=1,inplace=True)"
   ]
  },
  {
   "cell_type": "code",
   "execution_count": 112,
   "id": "dbcf451b",
   "metadata": {},
   "outputs": [
    {
     "data": {
      "text/html": [
       "<div>\n",
       "<style scoped>\n",
       "    .dataframe tbody tr th:only-of-type {\n",
       "        vertical-align: middle;\n",
       "    }\n",
       "\n",
       "    .dataframe tbody tr th {\n",
       "        vertical-align: top;\n",
       "    }\n",
       "\n",
       "    .dataframe thead th {\n",
       "        text-align: right;\n",
       "    }\n",
       "</style>\n",
       "<table border=\"1\" class=\"dataframe\">\n",
       "  <thead>\n",
       "    <tr style=\"text-align: right;\">\n",
       "      <th></th>\n",
       "      <th>Price</th>\n",
       "      <th>Age_08_04</th>\n",
       "      <th>KM</th>\n",
       "      <th>Fuel_Type</th>\n",
       "      <th>Automatic</th>\n",
       "      <th>cc</th>\n",
       "      <th>Doors</th>\n",
       "      <th>Gears</th>\n",
       "      <th>Quarterly_Tax</th>\n",
       "      <th>Weight</th>\n",
       "    </tr>\n",
       "  </thead>\n",
       "  <tbody>\n",
       "    <tr>\n",
       "      <th>0</th>\n",
       "      <td>13500</td>\n",
       "      <td>23</td>\n",
       "      <td>46986</td>\n",
       "      <td>1</td>\n",
       "      <td>0</td>\n",
       "      <td>2000</td>\n",
       "      <td>3</td>\n",
       "      <td>5</td>\n",
       "      <td>210</td>\n",
       "      <td>1165</td>\n",
       "    </tr>\n",
       "    <tr>\n",
       "      <th>1</th>\n",
       "      <td>13750</td>\n",
       "      <td>23</td>\n",
       "      <td>72937</td>\n",
       "      <td>1</td>\n",
       "      <td>0</td>\n",
       "      <td>2000</td>\n",
       "      <td>3</td>\n",
       "      <td>5</td>\n",
       "      <td>210</td>\n",
       "      <td>1165</td>\n",
       "    </tr>\n",
       "    <tr>\n",
       "      <th>2</th>\n",
       "      <td>13950</td>\n",
       "      <td>24</td>\n",
       "      <td>41711</td>\n",
       "      <td>1</td>\n",
       "      <td>0</td>\n",
       "      <td>2000</td>\n",
       "      <td>3</td>\n",
       "      <td>5</td>\n",
       "      <td>210</td>\n",
       "      <td>1165</td>\n",
       "    </tr>\n",
       "    <tr>\n",
       "      <th>3</th>\n",
       "      <td>14950</td>\n",
       "      <td>26</td>\n",
       "      <td>48000</td>\n",
       "      <td>1</td>\n",
       "      <td>0</td>\n",
       "      <td>2000</td>\n",
       "      <td>3</td>\n",
       "      <td>5</td>\n",
       "      <td>210</td>\n",
       "      <td>1165</td>\n",
       "    </tr>\n",
       "    <tr>\n",
       "      <th>4</th>\n",
       "      <td>13750</td>\n",
       "      <td>30</td>\n",
       "      <td>38500</td>\n",
       "      <td>1</td>\n",
       "      <td>0</td>\n",
       "      <td>2000</td>\n",
       "      <td>3</td>\n",
       "      <td>5</td>\n",
       "      <td>210</td>\n",
       "      <td>1170</td>\n",
       "    </tr>\n",
       "  </tbody>\n",
       "</table>\n",
       "</div>"
      ],
      "text/plain": [
       "   Price  Age_08_04     KM  Fuel_Type  Automatic    cc  Doors  Gears  \\\n",
       "0  13500         23  46986          1          0  2000      3      5   \n",
       "1  13750         23  72937          1          0  2000      3      5   \n",
       "2  13950         24  41711          1          0  2000      3      5   \n",
       "3  14950         26  48000          1          0  2000      3      5   \n",
       "4  13750         30  38500          1          0  2000      3      5   \n",
       "\n",
       "   Quarterly_Tax  Weight  \n",
       "0            210    1165  \n",
       "1            210    1165  \n",
       "2            210    1165  \n",
       "3            210    1165  \n",
       "4            210    1170  "
      ]
     },
     "execution_count": 112,
     "metadata": {},
     "output_type": "execute_result"
    }
   ],
   "source": [
    "toyota_data1.head()"
   ]
  },
  {
   "cell_type": "code",
   "execution_count": 48,
   "id": "2cbf4ef9",
   "metadata": {},
   "outputs": [
    {
     "data": {
      "text/plain": [
       "Price            0\n",
       "Age_08_04        0\n",
       "KM               0\n",
       "Fuel_Type        0\n",
       "Automatic        0\n",
       "cc               0\n",
       "Gears            0\n",
       "Quarterly_Tax    0\n",
       "Weight           0\n",
       "dtype: int64"
      ]
     },
     "execution_count": 48,
     "metadata": {},
     "output_type": "execute_result"
    }
   ],
   "source": [
    "toyota_data1.isna().sum()"
   ]
  },
  {
   "cell_type": "markdown",
   "id": "a5f45878",
   "metadata": {},
   "source": [
    "### aplying stanadrd scalar to data"
   ]
  },
  {
   "cell_type": "code",
   "execution_count": 238,
   "id": "27055026",
   "metadata": {},
   "outputs": [
    {
     "data": {
      "text/plain": [
       "Price            0\n",
       "Age_08_04        0\n",
       "KM               0\n",
       "Fuel_Type        0\n",
       "Automatic        0\n",
       "cc               0\n",
       "Doors            0\n",
       "Gears            0\n",
       "Quarterly_Tax    0\n",
       "Weight           0\n",
       "dtype: int64"
      ]
     },
     "execution_count": 238,
     "metadata": {},
     "output_type": "execute_result"
    }
   ],
   "source": [
    "std_sclr = StandardScaler()\n",
    "col = [x for x in toyota_data1.columns if x != 'Price']\n",
    "toyota_data1[col] = std_sclr.fit_transform(toyota_data1[col])\n",
    "toyota_data1.isna().sum()"
   ]
  },
  {
   "cell_type": "markdown",
   "id": "af5b38b6",
   "metadata": {},
   "source": [
    "### Checking for outliers using box plot"
   ]
  },
  {
   "cell_type": "code",
   "execution_count": 239,
   "id": "67967574",
   "metadata": {},
   "outputs": [
    {
     "data": {
      "image/png": "[encoded data removed]",
      "text/plain": [
       "<Figure size 864x576 with 1 Axes>"
      ]
     },
     "metadata": {
      "needs_background": "light"
     },
     "output_type": "display_data"
    }
   ],
   "source": [
    "plt.figure(figsize=(12,8))\n",
    "sns.boxplot(data=toyota_data1.iloc[:,1:])\n",
    "plt.show()\n",
    "\n",
    "#seems like our daa consists of outliers"
   ]
  },
  {
   "cell_type": "markdown",
   "id": "d2248963",
   "metadata": {},
   "source": [
    "### seperating train and test data"
   ]
  },
  {
   "cell_type": "code",
   "execution_count": 152,
   "id": "80158c8a",
   "metadata": {},
   "outputs": [
    {
     "data": {
      "text/plain": [
       "(1436, 10)"
      ]
     },
     "execution_count": 152,
     "metadata": {},
     "output_type": "execute_result"
    }
   ],
   "source": [
    "toyota_data1.shape"
   ]
  },
  {
   "cell_type": "code",
   "execution_count": 240,
   "id": "d6357832",
   "metadata": {},
   "outputs": [
    {
     "data": {
      "text/html": [
       "<div>\n",
       "<style scoped>\n",
       "    .dataframe tbody tr th:only-of-type {\n",
       "        vertical-align: middle;\n",
       "    }\n",
       "\n",
       "    .dataframe tbody tr th {\n",
       "        vertical-align: top;\n",
       "    }\n",
       "\n",
       "    .dataframe thead th {\n",
       "        text-align: right;\n",
       "    }\n",
       "</style>\n",
       "<table border=\"1\" class=\"dataframe\">\n",
       "  <thead>\n",
       "    <tr style=\"text-align: right;\">\n",
       "      <th></th>\n",
       "      <th>Price</th>\n",
       "      <th>Age_08_04</th>\n",
       "      <th>KM</th>\n",
       "      <th>Fuel_Type</th>\n",
       "      <th>Automatic</th>\n",
       "      <th>cc</th>\n",
       "      <th>Doors</th>\n",
       "      <th>Gears</th>\n",
       "      <th>Quarterly_Tax</th>\n",
       "      <th>Weight</th>\n",
       "    </tr>\n",
       "  </thead>\n",
       "  <tbody>\n",
       "    <tr>\n",
       "      <th>1216</th>\n",
       "      <td>8500</td>\n",
       "      <td>0.755797</td>\n",
       "      <td>0.462235</td>\n",
       "      <td>-2.337868</td>\n",
       "      <td>-0.242893</td>\n",
       "      <td>0.997419</td>\n",
       "      <td>1.014941</td>\n",
       "      <td>-0.140425</td>\n",
       "      <td>2.380619</td>\n",
       "      <td>1.188466</td>\n",
       "    </tr>\n",
       "    <tr>\n",
       "      <th>1217</th>\n",
       "      <td>8250</td>\n",
       "      <td>1.293619</td>\n",
       "      <td>0.454260</td>\n",
       "      <td>0.354336</td>\n",
       "      <td>-0.242893</td>\n",
       "      <td>0.054555</td>\n",
       "      <td>1.014941</td>\n",
       "      <td>-0.140425</td>\n",
       "      <td>-0.051626</td>\n",
       "      <td>-0.046740</td>\n",
       "    </tr>\n",
       "    <tr>\n",
       "      <th>1218</th>\n",
       "      <td>9450</td>\n",
       "      <td>0.755797</td>\n",
       "      <td>0.451726</td>\n",
       "      <td>0.354336</td>\n",
       "      <td>4.117038</td>\n",
       "      <td>0.054555</td>\n",
       "      <td>-1.085139</td>\n",
       "      <td>-0.140425</td>\n",
       "      <td>-0.051626</td>\n",
       "      <td>0.143291</td>\n",
       "    </tr>\n",
       "    <tr>\n",
       "      <th>1219</th>\n",
       "      <td>7950</td>\n",
       "      <td>0.917144</td>\n",
       "      <td>0.444525</td>\n",
       "      <td>0.354336</td>\n",
       "      <td>-0.242893</td>\n",
       "      <td>0.054555</td>\n",
       "      <td>-1.085139</td>\n",
       "      <td>-0.140425</td>\n",
       "      <td>-0.440785</td>\n",
       "      <td>-0.426804</td>\n",
       "    </tr>\n",
       "    <tr>\n",
       "      <th>1220</th>\n",
       "      <td>7900</td>\n",
       "      <td>0.755797</td>\n",
       "      <td>0.439191</td>\n",
       "      <td>0.354336</td>\n",
       "      <td>-0.242893</td>\n",
       "      <td>0.054555</td>\n",
       "      <td>-1.085139</td>\n",
       "      <td>-0.140425</td>\n",
       "      <td>-0.051626</td>\n",
       "      <td>-0.331788</td>\n",
       "    </tr>\n",
       "  </tbody>\n",
       "</table>\n",
       "</div>"
      ],
      "text/plain": [
       "      Price  Age_08_04        KM  Fuel_Type  Automatic        cc     Doors  \\\n",
       "1216   8500   0.755797  0.462235  -2.337868  -0.242893  0.997419  1.014941   \n",
       "1217   8250   1.293619  0.454260   0.354336  -0.242893  0.054555  1.014941   \n",
       "1218   9450   0.755797  0.451726   0.354336   4.117038  0.054555 -1.085139   \n",
       "1219   7950   0.917144  0.444525   0.354336  -0.242893  0.054555 -1.085139   \n",
       "1220   7900   0.755797  0.439191   0.354336  -0.242893  0.054555 -1.085139   \n",
       "\n",
       "         Gears  Quarterly_Tax    Weight  \n",
       "1216 -0.140425       2.380619  1.188466  \n",
       "1217 -0.140425      -0.051626 -0.046740  \n",
       "1218 -0.140425      -0.051626  0.143291  \n",
       "1219 -0.140425      -0.440785 -0.426804  \n",
       "1220 -0.140425      -0.051626 -0.331788  "
      ]
     },
     "execution_count": 240,
     "metadata": {},
     "output_type": "execute_result"
    }
   ],
   "source": [
    "train_data = toyota_data1.iloc[:1221,:]\n",
    "train_data.tail()"
   ]
  },
  {
   "cell_type": "code",
   "execution_count": 241,
   "id": "3c450123",
   "metadata": {},
   "outputs": [
    {
     "data": {
      "text/html": [
       "<div>\n",
       "<style scoped>\n",
       "    .dataframe tbody tr th:only-of-type {\n",
       "        vertical-align: middle;\n",
       "    }\n",
       "\n",
       "    .dataframe tbody tr th {\n",
       "        vertical-align: top;\n",
       "    }\n",
       "\n",
       "    .dataframe thead th {\n",
       "        text-align: right;\n",
       "    }\n",
       "</style>\n",
       "<table border=\"1\" class=\"dataframe\">\n",
       "  <thead>\n",
       "    <tr style=\"text-align: right;\">\n",
       "      <th></th>\n",
       "      <th>Price</th>\n",
       "      <th>Age_08_04</th>\n",
       "      <th>KM</th>\n",
       "      <th>Fuel_Type</th>\n",
       "      <th>Automatic</th>\n",
       "      <th>cc</th>\n",
       "      <th>Doors</th>\n",
       "      <th>Gears</th>\n",
       "      <th>Quarterly_Tax</th>\n",
       "      <th>Weight</th>\n",
       "    </tr>\n",
       "  </thead>\n",
       "  <tbody>\n",
       "    <tr>\n",
       "      <th>1221</th>\n",
       "      <td>8500</td>\n",
       "      <td>0.917144</td>\n",
       "      <td>0.438870</td>\n",
       "      <td>0.354336</td>\n",
       "      <td>-0.242893</td>\n",
       "      <td>0.054555</td>\n",
       "      <td>-1.085139</td>\n",
       "      <td>-0.140425</td>\n",
       "      <td>-0.440785</td>\n",
       "      <td>-0.426804</td>\n",
       "    </tr>\n",
       "    <tr>\n",
       "      <th>1222</th>\n",
       "      <td>8250</td>\n",
       "      <td>1.239837</td>\n",
       "      <td>0.438284</td>\n",
       "      <td>0.354336</td>\n",
       "      <td>-0.242893</td>\n",
       "      <td>0.054555</td>\n",
       "      <td>1.014941</td>\n",
       "      <td>-0.140425</td>\n",
       "      <td>-0.051626</td>\n",
       "      <td>-0.046740</td>\n",
       "    </tr>\n",
       "    <tr>\n",
       "      <th>1223</th>\n",
       "      <td>8250</td>\n",
       "      <td>1.078490</td>\n",
       "      <td>0.425108</td>\n",
       "      <td>0.354336</td>\n",
       "      <td>-0.242893</td>\n",
       "      <td>0.054555</td>\n",
       "      <td>1.014941</td>\n",
       "      <td>-0.140425</td>\n",
       "      <td>-0.051626</td>\n",
       "      <td>-0.046740</td>\n",
       "    </tr>\n",
       "    <tr>\n",
       "      <th>1224</th>\n",
       "      <td>8950</td>\n",
       "      <td>0.917144</td>\n",
       "      <td>0.423241</td>\n",
       "      <td>0.354336</td>\n",
       "      <td>-0.242893</td>\n",
       "      <td>0.054555</td>\n",
       "      <td>-0.035099</td>\n",
       "      <td>-0.140425</td>\n",
       "      <td>-0.440785</td>\n",
       "      <td>-0.711851</td>\n",
       "    </tr>\n",
       "    <tr>\n",
       "      <th>1225</th>\n",
       "      <td>7950</td>\n",
       "      <td>0.970926</td>\n",
       "      <td>0.415800</td>\n",
       "      <td>0.354336</td>\n",
       "      <td>-0.242893</td>\n",
       "      <td>0.054555</td>\n",
       "      <td>-1.085139</td>\n",
       "      <td>-0.140425</td>\n",
       "      <td>-0.440785</td>\n",
       "      <td>-0.426804</td>\n",
       "    </tr>\n",
       "  </tbody>\n",
       "</table>\n",
       "</div>"
      ],
      "text/plain": [
       "      Price  Age_08_04        KM  Fuel_Type  Automatic        cc     Doors  \\\n",
       "1221   8500   0.917144  0.438870   0.354336  -0.242893  0.054555 -1.085139   \n",
       "1222   8250   1.239837  0.438284   0.354336  -0.242893  0.054555  1.014941   \n",
       "1223   8250   1.078490  0.425108   0.354336  -0.242893  0.054555  1.014941   \n",
       "1224   8950   0.917144  0.423241   0.354336  -0.242893  0.054555 -0.035099   \n",
       "1225   7950   0.970926  0.415800   0.354336  -0.242893  0.054555 -1.085139   \n",
       "\n",
       "         Gears  Quarterly_Tax    Weight  \n",
       "1221 -0.140425      -0.440785 -0.426804  \n",
       "1222 -0.140425      -0.051626 -0.046740  \n",
       "1223 -0.140425      -0.051626 -0.046740  \n",
       "1224 -0.140425      -0.440785 -0.711851  \n",
       "1225 -0.140425      -0.440785 -0.426804  "
      ]
     },
     "execution_count": 241,
     "metadata": {},
     "output_type": "execute_result"
    }
   ],
   "source": [
    "test_data = toyota_data1.iloc[1221:,:]\n",
    "test_data.head()"
   ]
  },
  {
   "cell_type": "markdown",
   "id": "f5488461",
   "metadata": {},
   "source": [
    "## 4.Assumption check\n",
    "### 4.1 Linearity check"
   ]
  },
  {
   "cell_type": "code",
   "execution_count": 242,
   "id": "2240dba9",
   "metadata": {},
   "outputs": [
    {
     "data": {
      "image/png": "[encoded data removed]",
      "text/plain": [
       "<Figure size 432x288 with 1 Axes>"
      ]
     },
     "metadata": {
      "needs_background": "light"
     },
     "output_type": "display_data"
    },
    {
     "data": {
      "image/png": "[encoded data removed]",
      "text/plain": [
       "<Figure size 432x288 with 1 Axes>"
      ]
     },
     "metadata": {
      "needs_background": "light"
     },
     "output_type": "display_data"
    },
    {
     "data": {
      "image/png": "[encoded data removed]",
      "text/plain": [
       "<Figure size 432x288 with 1 Axes>"
      ]
     },
     "metadata": {
      "needs_background": "light"
     },
     "output_type": "display_data"
    },
    {
     "data": {
      "image/png": "[encoded data removed]",
      "text/plain": [
       "<Figure size 432x288 with 1 Axes>"
      ]
     },
     "metadata": {
      "needs_background": "light"
     },
     "output_type": "display_data"
    },
    {
     "data": {
      "image/png": "[encoded data removed]",
      "text/plain": [
       "<Figure size 432x288 with 1 Axes>"
      ]
     },
     "metadata": {
      "needs_background": "light"
     },
     "output_type": "display_data"
    },
    {
     "data": {
      "image/png": "[encoded data removed]",
      "text/plain": [
       "<Figure size 432x288 with 1 Axes>"
      ]
     },
     "metadata": {
      "needs_background": "light"
     },
     "output_type": "display_data"
    },
    {
     "data": {
      "image/png": "[encoded data removed]",
      "text/plain": [
       "<Figure size 432x288 with 1 Axes>"
      ]
     },
     "metadata": {
      "needs_background": "light"
     },
     "output_type": "display_data"
    },
    {
     "data": {
      "image/png": "[encoded data removed]",
      "text/plain": [
       "<Figure size 432x288 with 1 Axes>"
      ]
     },
     "metadata": {
      "needs_background": "light"
     },
     "output_type": "display_data"
    },
    {
     "data": {
      "image/png": "[encoded data removed]",
      "text/plain": [
       "<Figure size 432x288 with 1 Axes>"
      ]
     },
     "metadata": {
      "needs_background": "light"
     },
     "output_type": "display_data"
    }
   ],
   "source": [
    "\n",
    "x = np.linspace( 0,10 )\n",
    "\n",
    "for i in toyota_data1.columns:\n",
    "    if i != 'Price':\n",
    "        plt.figure()\n",
    "        sns.scatterplot(x=data[i],y=toyota_data1['Price'])   \n",
    "plt.show()"
   ]
  },
  {
   "cell_type": "markdown",
   "id": "7a71cec3",
   "metadata": {},
   "source": [
    "## 4.2 Multicoliniearity check"
   ]
  },
  {
   "cell_type": "code",
   "execution_count": 243,
   "id": "c72b1efc",
   "metadata": {},
   "outputs": [
    {
     "data": {
      "image/png": "[encoded data removed]",
      "text/plain": [
       "<Figure size 720x720 with 2 Axes>"
      ]
     },
     "metadata": {
      "needs_background": "light"
     },
     "output_type": "display_data"
    }
   ],
   "source": [
    "plt.figure(figsize=(10,10))\n",
    "sns.heatmap(toyota_data1.iloc[:,1:].corr(),annot=True)\n",
    "plt.show()"
   ]
  },
  {
   "cell_type": "markdown",
   "id": "5dd9d925",
   "metadata": {},
   "source": [
    "#### lets see the VIF of all predictors"
   ]
  },
  {
   "cell_type": "code",
   "execution_count": 244,
   "id": "3c40e41e",
   "metadata": {},
   "outputs": [
    {
     "name": "stdout",
     "output_type": "stream",
     "text": [
      "       Variables       VIF\n",
      "0      Age_08_04  1.917399\n",
      "1             KM  1.922182\n",
      "2      Fuel_Type  3.317592\n",
      "3      Automatic  1.061566\n",
      "4             cc  1.160977\n",
      "5          Doors  1.185887\n",
      "6          Gears  1.076055\n",
      "7  Quarterly_Tax  3.413702\n",
      "8         Weight  2.432009\n"
     ]
    }
   ],
   "source": [
    "def calVif(X):\n",
    "    vif = pd.DataFrame()\n",
    "    vif['Variables'] = X.columns\n",
    "    vif['VIF'] = [variance_inflation_factor(X.values,i) for i in range(X.shape[1])]\n",
    "    print(vif)\n",
    "    \n",
    "calVif(toyota_data1.iloc[:,1:])"
   ]
  },
  {
   "cell_type": "markdown",
   "id": "9e03c73c",
   "metadata": {},
   "source": [
    "**VIF of all the predicors < 5 which is acceptable**"
   ]
  },
  {
   "cell_type": "markdown",
   "id": "d5505e03",
   "metadata": {},
   "source": [
    "## 5.Model selection"
   ]
  },
  {
   "cell_type": "code",
   "execution_count": 245,
   "id": "500bfc91",
   "metadata": {
    "scrolled": true
   },
   "outputs": [
    {
     "name": "stdout",
     "output_type": "stream",
     "text": [
      "Age_08_04 Model\n",
      "Pvalue       :  0.0\n",
      "r squared    : 0.7684108996825327\n",
      "adj r squared: 0.7682494010072765\n",
      "aic          : 25516.97057066566\n",
      "bic          : 25527.509804164878\n",
      "*************************************************\n",
      "Age_08_04+KM Model\n",
      "Pvalue       :  0.0\n",
      "r squared    : 0.789976321405393\n",
      "adj r squared: 0.7896831969411995\n",
      "aic          : 25378.609608696705\n",
      "bic          : 25394.41845894553\n",
      "*************************************************\n",
      "Age_08_04+KM+Fuel_Type Model\n",
      "Pvalue       :  0.030551458137005987\n",
      "r squared    : 0.7928896554398609\n",
      "adj r squared: 0.79231073064724\n",
      "aic          : 25362.550752474042\n",
      "bic          : 25388.898836222084\n",
      "*************************************************\n",
      "Age_08_04+KM+Fuel_Type+Automatic Model\n",
      "Pvalue       :  0.02311859021070675\n",
      "r squared    : 0.7950095339065609\n",
      "adj r squared: 0.7942927840251153\n",
      "aic          : 25349.776831866133\n",
      "bic          : 25381.39453236378\n",
      "*************************************************\n",
      "Age_08_04+KM+Fuel_Type+Automatic+cc Model\n",
      "Pvalue       :  0.06318619850143312\n",
      "r squared    : 0.7975912498520943\n",
      "adj r squared: 0.7967413880600107\n",
      "aic          : 25333.576533101674\n",
      "bic          : 25370.46385034893\n",
      "*************************************************\n",
      "Age_08_04+KM+Fuel_Type+Automatic+cc+Doors Model\n",
      "Pvalue       :  0.05192200861619107\n",
      "r squared    : 0.8013126797098983\n",
      "adj r squared: 0.8003387222574958\n",
      "aic          : 25308.92891911946\n",
      "bic          : 25351.085853116325\n",
      "*************************************************\n",
      "Age_08_04+KM+Fuel_Type+Automatic+cc+Doors+Gears Model\n",
      "Pvalue       :  0.06950790654096807\n",
      "r squared    : 0.8076494262635967\n",
      "adj r squared: 0.8065710768663359\n",
      "aic          : 25264.3842500137\n",
      "bic          : 25311.810800760173\n",
      "*************************************************\n",
      "Age_08_04+KM+Fuel_Type+Automatic+cc+Doors+Gears+Quarterly_Tax Model\n",
      "Pvalue       :  0.0824371301892833\n",
      "r squared    : 0.8230199000803624\n",
      "adj r squared: 0.8219029148775036\n",
      "aic          : 25146.790844889103\n",
      "bic          : 25199.487012385183\n",
      "*************************************************\n",
      "Age_08_04+KM+Fuel_Type+Automatic+cc+Doors+Gears+Quarterly_Tax+Weight Model\n",
      "Pvalue       :  0.2030639287651584\n",
      "r squared    : 0.866121023329551\n",
      "adj r squared: 0.8651815217388812\n",
      "aic          : 24748.001717359337\n",
      "bic          : 24805.967501605028\n",
      "*************************************************\n"
     ]
    }
   ],
   "source": [
    "x = 0\n",
    "input_var = ''\n",
    "for i in toyota_data1.columns:\n",
    "    if i != 'Price':\n",
    "        if x == 0:\n",
    "            input_var = input_var+i\n",
    "        else:\n",
    "            input_var = input_var+'+'+i\n",
    "            \n",
    "        model_1 = ols('Price~'+input_var,data).fit()\n",
    "        print(input_var + ' Model')\n",
    "        print('Pvalue       : ', model_1.pvalues[1])\n",
    "        print('r squared    :',model_1.rsquared)\n",
    "        print('adj r squared:',model_1.rsquared_adj)\n",
    "        print('aic          :',model_1.aic)\n",
    "        print('bic          :',model_1.bic)\n",
    "        print('*************************************************')\n",
    "        x = x+1"
   ]
  },
  {
   "cell_type": "markdown",
   "id": "860b7f09",
   "metadata": {},
   "source": [
    "**model with Age_08_04+KM+Fuel_Type+Automatic+cc+Doors+Cylinders+Gears+Quarterly_Tax+Weight as predicotr\n",
    "gives a adj r square of 86**"
   ]
  },
  {
   "cell_type": "markdown",
   "id": "988323a7",
   "metadata": {},
   "source": [
    "## 6.Model building and training"
   ]
  },
  {
   "cell_type": "code",
   "execution_count": 247,
   "id": "02d8a711",
   "metadata": {},
   "outputs": [],
   "source": [
    "toyota_price_pred = ols(formula='Price~Age_08_04+KM+Fuel_Type+Automatic+cc+Doors+Gears+Quarterly_Tax+Weight',\n",
    "                        data=train_data).fit()"
   ]
  },
  {
   "cell_type": "markdown",
   "id": "2da8a38a",
   "metadata": {},
   "source": [
    "## 7.Model testing and evaluation"
   ]
  },
  {
   "cell_type": "code",
   "execution_count": 248,
   "id": "0e768442",
   "metadata": {},
   "outputs": [],
   "source": [
    "y_pred1 = toyota_price_pred.predict(test_data.iloc[:,1:])\n"
   ]
  },
  {
   "cell_type": "code",
   "execution_count": 249,
   "id": "bebc32b5",
   "metadata": {},
   "outputs": [
    {
     "data": {
      "text/plain": [
       "828.1243577402703"
      ]
     },
     "execution_count": 249,
     "metadata": {},
     "output_type": "execute_result"
    }
   ],
   "source": [
    "mean_absolute_error(test_data['Price'],y_pred1)"
   ]
  },
  {
   "cell_type": "code",
   "execution_count": 250,
   "id": "37b7f022",
   "metadata": {},
   "outputs": [
    {
     "data": {
      "text/plain": [
       "0.10228486712042982"
      ]
     },
     "execution_count": 250,
     "metadata": {},
     "output_type": "execute_result"
    }
   ],
   "source": [
    "mean_absolute_percentage_error(test_data['Price'],y_pred1)"
   ]
  },
  {
   "cell_type": "markdown",
   "id": "46d4765d",
   "metadata": {},
   "source": [
    "## 8.1 Normality test for residuals"
   ]
  },
  {
   "cell_type": "code",
   "execution_count": 251,
   "id": "70f698e5",
   "metadata": {},
   "outputs": [
    {
     "data": {
      "image/png": "[encoded data removed]",
      "text/plain": [
       "<Figure size 432x288 with 1 Axes>"
      ]
     },
     "metadata": {
      "needs_background": "light"
     },
     "output_type": "display_data"
    }
   ],
   "source": [
    "plot = qqplot(toyota_price_pred.resid,line='q')\n",
    "plt.show()"
   ]
  },
  {
   "cell_type": "markdown",
   "id": "109ae9a0",
   "metadata": {},
   "source": [
    "## 8.2 Homascedasticity check fro constant varience of residuals"
   ]
  },
  {
   "cell_type": "code",
   "execution_count": 252,
   "id": "9b02041c",
   "metadata": {},
   "outputs": [
    {
     "data": {
      "image/png": "[encoded data removed]",
      "text/plain": [
       "<Figure size 432x288 with 1 Axes>"
      ]
     },
     "metadata": {
      "needs_background": "light"
     },
     "output_type": "display_data"
    }
   ],
   "source": [
    "def get_standardized_values( vals ):\n",
    "    return (vals - vals.mean())/vals.std()\n",
    "\n",
    "plt.scatter(get_standardized_values(toyota_price_pred.fittedvalues),get_standardized_values(toyota_price_pred.resid))\n",
    "plt.xlabel('fitted values or predictions')\n",
    "plt.ylabel('residuals')\n",
    "plt.show()"
   ]
  },
  {
   "cell_type": "markdown",
   "id": "bc77d16c",
   "metadata": {},
   "source": [
    "## model improvement,deleted high influence datapoints"
   ]
  },
  {
   "cell_type": "code",
   "execution_count": 253,
   "id": "9193f9ae",
   "metadata": {},
   "outputs": [],
   "source": [
    "toyota_price_pred1 = ols(formula='Price~Age_08_04+KM+Fuel_Type+Automatic+cc+Doors+Gears+Quarterly_Tax+Weight',\n",
    "                        data=train_data).fit()\n",
    "influnce_data1 = toyota_price_pred1.get_influence()\n",
    "(c,_) = influnce_data.cooks_distance"
   ]
  },
  {
   "cell_type": "code",
   "execution_count": 254,
   "id": "a36409a6",
   "metadata": {},
   "outputs": [
    {
     "data": {
      "image/png": "[encoded data removed]",
      "text/plain": [
       "<Figure size 1296x720 with 1 Axes>"
      ]
     },
     "metadata": {
      "needs_background": "light"
     },
     "output_type": "display_data"
    }
   ],
   "source": [
    "#ploting stem plot using cooks distance\n",
    "\n",
    "plt.figure(figsize=(18,10))\n",
    "plt.stem(np.arange(len(train_data)),np.round(c,3))\n",
    "plt.show()"
   ]
  },
  {
   "cell_type": "code",
   "execution_count": 255,
   "id": "68250fcd",
   "metadata": {},
   "outputs": [
    {
     "data": {
      "text/plain": [
       "(80, 2.5526544219221763)"
      ]
     },
     "execution_count": 255,
     "metadata": {},
     "output_type": "execute_result"
    }
   ],
   "source": [
    "#find the poitn with highest cooks distance \n",
    "(np.argmax(c),np.max(c))"
   ]
  },
  {
   "cell_type": "markdown",
   "id": "ee35eb56",
   "metadata": {},
   "source": [
    "## the same inference can be drawn using influence plot"
   ]
  },
  {
   "cell_type": "code",
   "execution_count": 256,
   "id": "12ff785e",
   "metadata": {},
   "outputs": [
    {
     "data": {
      "image/png": "[encoded data removed]",
      "text/plain": [
       "<Figure size 432x288 with 1 Axes>"
      ]
     },
     "metadata": {
      "needs_background": "light"
     },
     "output_type": "display_data"
    }
   ],
   "source": [
    "influence_plot(toyota_price_pred)\n",
    "plt.show()"
   ]
  },
  {
   "cell_type": "code",
   "execution_count": 257,
   "id": "6bf823d1",
   "metadata": {},
   "outputs": [
    {
     "data": {
      "text/plain": [
       "0.02702702702702703"
      ]
     },
     "execution_count": 257,
     "metadata": {},
     "output_type": "execute_result"
    }
   ],
   "source": [
    "#calculate leverage cut off= 3*((col+1)/rows)\n",
    "\n",
    "c = train_data.shape[1]\n",
    "r = train_data.shape[0]\n",
    "cutoff = 3*((c+1)/r)\n",
    "cutoff\n",
    "\n",
    "#so all the data points above cutoff are infulencial. points .. data points 80"
   ]
  },
  {
   "cell_type": "code",
   "execution_count": 258,
   "id": "0554786f",
   "metadata": {},
   "outputs": [
    {
     "data": {
      "text/html": [
       "<div>\n",
       "<style scoped>\n",
       "    .dataframe tbody tr th:only-of-type {\n",
       "        vertical-align: middle;\n",
       "    }\n",
       "\n",
       "    .dataframe tbody tr th {\n",
       "        vertical-align: top;\n",
       "    }\n",
       "\n",
       "    .dataframe thead th {\n",
       "        text-align: right;\n",
       "    }\n",
       "</style>\n",
       "<table border=\"1\" class=\"dataframe\">\n",
       "  <thead>\n",
       "    <tr style=\"text-align: right;\">\n",
       "      <th></th>\n",
       "      <th>Price</th>\n",
       "      <th>Age_08_04</th>\n",
       "      <th>KM</th>\n",
       "      <th>Fuel_Type</th>\n",
       "      <th>Automatic</th>\n",
       "      <th>cc</th>\n",
       "      <th>Doors</th>\n",
       "      <th>Gears</th>\n",
       "      <th>Quarterly_Tax</th>\n",
       "      <th>Weight</th>\n",
       "    </tr>\n",
       "  </thead>\n",
       "  <tbody>\n",
       "    <tr>\n",
       "      <th>80</th>\n",
       "      <td>18950</td>\n",
       "      <td>-1.664402</td>\n",
       "      <td>-1.293942</td>\n",
       "      <td>0.354336</td>\n",
       "      <td>4.117038</td>\n",
       "      <td>33.997687</td>\n",
       "      <td>1.014941</td>\n",
       "      <td>-0.140425</td>\n",
       "      <td>0.313211</td>\n",
       "      <td>2.043609</td>\n",
       "    </tr>\n",
       "  </tbody>\n",
       "</table>\n",
       "</div>"
      ],
      "text/plain": [
       "    Price  Age_08_04        KM  Fuel_Type  Automatic         cc     Doors  \\\n",
       "80  18950  -1.664402 -1.293942   0.354336   4.117038  33.997687  1.014941   \n",
       "\n",
       "       Gears  Quarterly_Tax    Weight  \n",
       "80 -0.140425       0.313211  2.043609  "
      ]
     },
     "execution_count": 258,
     "metadata": {},
     "output_type": "execute_result"
    }
   ],
   "source": [
    "#deleting these  data points\n",
    "\n",
    "train_data[train_data.index.isin([80])]"
   ]
  },
  {
   "cell_type": "code",
   "execution_count": 259,
   "id": "b96bd38c",
   "metadata": {},
   "outputs": [],
   "source": [
    "train_data = train_data.drop(train_data.index[[80]],axis=0).reset_index()"
   ]
  },
  {
   "cell_type": "code",
   "execution_count": 260,
   "id": "2b8b9468",
   "metadata": {},
   "outputs": [
    {
     "data": {
      "text/html": [
       "<div>\n",
       "<style scoped>\n",
       "    .dataframe tbody tr th:only-of-type {\n",
       "        vertical-align: middle;\n",
       "    }\n",
       "\n",
       "    .dataframe tbody tr th {\n",
       "        vertical-align: top;\n",
       "    }\n",
       "\n",
       "    .dataframe thead th {\n",
       "        text-align: right;\n",
       "    }\n",
       "</style>\n",
       "<table border=\"1\" class=\"dataframe\">\n",
       "  <thead>\n",
       "    <tr style=\"text-align: right;\">\n",
       "      <th></th>\n",
       "      <th>Price</th>\n",
       "      <th>Age_08_04</th>\n",
       "      <th>KM</th>\n",
       "      <th>Fuel_Type</th>\n",
       "      <th>Automatic</th>\n",
       "      <th>cc</th>\n",
       "      <th>Doors</th>\n",
       "      <th>Gears</th>\n",
       "      <th>Quarterly_Tax</th>\n",
       "      <th>Weight</th>\n",
       "    </tr>\n",
       "  </thead>\n",
       "  <tbody>\n",
       "    <tr>\n",
       "      <th>0</th>\n",
       "      <td>13500</td>\n",
       "      <td>-1.771966</td>\n",
       "      <td>-0.574695</td>\n",
       "      <td>-2.337868</td>\n",
       "      <td>-0.242893</td>\n",
       "      <td>0.997419</td>\n",
       "      <td>-1.085139</td>\n",
       "      <td>-0.140425</td>\n",
       "      <td>2.98868</td>\n",
       "      <td>1.758561</td>\n",
       "    </tr>\n",
       "    <tr>\n",
       "      <th>1</th>\n",
       "      <td>13750</td>\n",
       "      <td>-1.771966</td>\n",
       "      <td>0.117454</td>\n",
       "      <td>-2.337868</td>\n",
       "      <td>-0.242893</td>\n",
       "      <td>0.997419</td>\n",
       "      <td>-1.085139</td>\n",
       "      <td>-0.140425</td>\n",
       "      <td>2.98868</td>\n",
       "      <td>1.758561</td>\n",
       "    </tr>\n",
       "    <tr>\n",
       "      <th>2</th>\n",
       "      <td>13950</td>\n",
       "      <td>-1.718184</td>\n",
       "      <td>-0.715386</td>\n",
       "      <td>-2.337868</td>\n",
       "      <td>-0.242893</td>\n",
       "      <td>0.997419</td>\n",
       "      <td>-1.085139</td>\n",
       "      <td>-0.140425</td>\n",
       "      <td>2.98868</td>\n",
       "      <td>1.758561</td>\n",
       "    </tr>\n",
       "    <tr>\n",
       "      <th>3</th>\n",
       "      <td>14950</td>\n",
       "      <td>-1.610620</td>\n",
       "      <td>-0.547650</td>\n",
       "      <td>-2.337868</td>\n",
       "      <td>-0.242893</td>\n",
       "      <td>0.997419</td>\n",
       "      <td>-1.085139</td>\n",
       "      <td>-0.140425</td>\n",
       "      <td>2.98868</td>\n",
       "      <td>1.758561</td>\n",
       "    </tr>\n",
       "    <tr>\n",
       "      <th>4</th>\n",
       "      <td>13750</td>\n",
       "      <td>-1.395491</td>\n",
       "      <td>-0.801028</td>\n",
       "      <td>-2.337868</td>\n",
       "      <td>-0.242893</td>\n",
       "      <td>0.997419</td>\n",
       "      <td>-1.085139</td>\n",
       "      <td>-0.140425</td>\n",
       "      <td>2.98868</td>\n",
       "      <td>1.853577</td>\n",
       "    </tr>\n",
       "  </tbody>\n",
       "</table>\n",
       "</div>"
      ],
      "text/plain": [
       "   Price  Age_08_04        KM  Fuel_Type  Automatic        cc     Doors  \\\n",
       "0  13500  -1.771966 -0.574695  -2.337868  -0.242893  0.997419 -1.085139   \n",
       "1  13750  -1.771966  0.117454  -2.337868  -0.242893  0.997419 -1.085139   \n",
       "2  13950  -1.718184 -0.715386  -2.337868  -0.242893  0.997419 -1.085139   \n",
       "3  14950  -1.610620 -0.547650  -2.337868  -0.242893  0.997419 -1.085139   \n",
       "4  13750  -1.395491 -0.801028  -2.337868  -0.242893  0.997419 -1.085139   \n",
       "\n",
       "      Gears  Quarterly_Tax    Weight  \n",
       "0 -0.140425        2.98868  1.758561  \n",
       "1 -0.140425        2.98868  1.758561  \n",
       "2 -0.140425        2.98868  1.758561  \n",
       "3 -0.140425        2.98868  1.758561  \n",
       "4 -0.140425        2.98868  1.853577  "
      ]
     },
     "execution_count": 260,
     "metadata": {},
     "output_type": "execute_result"
    }
   ],
   "source": [
    "#deleting old index\n",
    "train_data = train_data.drop(['index'],axis=1)\n",
    "train_data.head()"
   ]
  },
  {
   "cell_type": "code",
   "execution_count": 261,
   "id": "9a82180f",
   "metadata": {},
   "outputs": [],
   "source": [
    "#creating a new model with this new data\n",
    "\n",
    "toyota_price_pred2 = ols(formula='Price~Age_08_04+KM+Fuel_Type+Automatic+cc+Doors+Gears+Quarterly_Tax+Weight',\n",
    "                        data=train_data).fit()"
   ]
  },
  {
   "cell_type": "code",
   "execution_count": 262,
   "id": "ef7bbb1a",
   "metadata": {},
   "outputs": [],
   "source": [
    "model_influence2 = toyota_price_pred2.get_influence()\n",
    "\n",
    "(c,_) = model_influence2.cooks_distance"
   ]
  },
  {
   "cell_type": "code",
   "execution_count": 263,
   "id": "b0c15423",
   "metadata": {},
   "outputs": [
    {
     "data": {
      "image/png": "[encoded data removed]",
      "text/plain": [
       "<Figure size 1296x720 with 1 Axes>"
      ]
     },
     "metadata": {
      "needs_background": "light"
     },
     "output_type": "display_data"
    }
   ],
   "source": [
    "#ploting stem plot using cooks distance\n",
    "\n",
    "plt.figure(figsize=(18,10))\n",
    "plt.stem(np.arange(len(train_data)),np.round(c,3))\n",
    "plt.show()"
   ]
  },
  {
   "cell_type": "code",
   "execution_count": 264,
   "id": "343f1c03",
   "metadata": {},
   "outputs": [
    {
     "data": {
      "text/plain": [
       "(220, 2.5547382309594946)"
      ]
     },
     "execution_count": 264,
     "metadata": {},
     "output_type": "execute_result"
    }
   ],
   "source": [
    "#find the poitn with highest cooks distance \n",
    "(np.argmax(c),np.max(c))"
   ]
  },
  {
   "cell_type": "code",
   "execution_count": 265,
   "id": "ea907d29",
   "metadata": {},
   "outputs": [
    {
     "data": {
      "text/html": [
       "<div>\n",
       "<style scoped>\n",
       "    .dataframe tbody tr th:only-of-type {\n",
       "        vertical-align: middle;\n",
       "    }\n",
       "\n",
       "    .dataframe tbody tr th {\n",
       "        vertical-align: top;\n",
       "    }\n",
       "\n",
       "    .dataframe thead th {\n",
       "        text-align: right;\n",
       "    }\n",
       "</style>\n",
       "<table border=\"1\" class=\"dataframe\">\n",
       "  <thead>\n",
       "    <tr style=\"text-align: right;\">\n",
       "      <th></th>\n",
       "      <th>Price</th>\n",
       "      <th>Age_08_04</th>\n",
       "      <th>KM</th>\n",
       "      <th>Fuel_Type</th>\n",
       "      <th>Automatic</th>\n",
       "      <th>cc</th>\n",
       "      <th>Doors</th>\n",
       "      <th>Gears</th>\n",
       "      <th>Quarterly_Tax</th>\n",
       "      <th>Weight</th>\n",
       "    </tr>\n",
       "  </thead>\n",
       "  <tbody>\n",
       "    <tr>\n",
       "      <th>220</th>\n",
       "      <td>12450</td>\n",
       "      <td>-0.64254</td>\n",
       "      <td>0.150393</td>\n",
       "      <td>0.354336</td>\n",
       "      <td>-0.242893</td>\n",
       "      <td>0.054555</td>\n",
       "      <td>1.014941</td>\n",
       "      <td>-0.140425</td>\n",
       "      <td>1.845525</td>\n",
       "      <td>10.309989</td>\n",
       "    </tr>\n",
       "  </tbody>\n",
       "</table>\n",
       "</div>"
      ],
      "text/plain": [
       "     Price  Age_08_04        KM  Fuel_Type  Automatic        cc     Doors  \\\n",
       "220  12450   -0.64254  0.150393   0.354336  -0.242893  0.054555  1.014941   \n",
       "\n",
       "        Gears  Quarterly_Tax     Weight  \n",
       "220 -0.140425       1.845525  10.309989  "
      ]
     },
     "execution_count": 265,
     "metadata": {},
     "output_type": "execute_result"
    }
   ],
   "source": [
    "#deleting these  data points\n",
    "\n",
    "train_data[train_data.index.isin([220])]"
   ]
  },
  {
   "cell_type": "code",
   "execution_count": 266,
   "id": "d91341cb",
   "metadata": {},
   "outputs": [],
   "source": [
    "train_data = train_data.drop(train_data.index[[220]],axis=0).reset_index()"
   ]
  },
  {
   "cell_type": "code",
   "execution_count": 267,
   "id": "282421c7",
   "metadata": {},
   "outputs": [
    {
     "data": {
      "text/html": [
       "<div>\n",
       "<style scoped>\n",
       "    .dataframe tbody tr th:only-of-type {\n",
       "        vertical-align: middle;\n",
       "    }\n",
       "\n",
       "    .dataframe tbody tr th {\n",
       "        vertical-align: top;\n",
       "    }\n",
       "\n",
       "    .dataframe thead th {\n",
       "        text-align: right;\n",
       "    }\n",
       "</style>\n",
       "<table border=\"1\" class=\"dataframe\">\n",
       "  <thead>\n",
       "    <tr style=\"text-align: right;\">\n",
       "      <th></th>\n",
       "      <th>Price</th>\n",
       "      <th>Age_08_04</th>\n",
       "      <th>KM</th>\n",
       "      <th>Fuel_Type</th>\n",
       "      <th>Automatic</th>\n",
       "      <th>cc</th>\n",
       "      <th>Doors</th>\n",
       "      <th>Gears</th>\n",
       "      <th>Quarterly_Tax</th>\n",
       "      <th>Weight</th>\n",
       "    </tr>\n",
       "  </thead>\n",
       "  <tbody>\n",
       "    <tr>\n",
       "      <th>0</th>\n",
       "      <td>13500</td>\n",
       "      <td>-1.771966</td>\n",
       "      <td>-0.574695</td>\n",
       "      <td>-2.337868</td>\n",
       "      <td>-0.242893</td>\n",
       "      <td>0.997419</td>\n",
       "      <td>-1.085139</td>\n",
       "      <td>-0.140425</td>\n",
       "      <td>2.98868</td>\n",
       "      <td>1.758561</td>\n",
       "    </tr>\n",
       "    <tr>\n",
       "      <th>1</th>\n",
       "      <td>13750</td>\n",
       "      <td>-1.771966</td>\n",
       "      <td>0.117454</td>\n",
       "      <td>-2.337868</td>\n",
       "      <td>-0.242893</td>\n",
       "      <td>0.997419</td>\n",
       "      <td>-1.085139</td>\n",
       "      <td>-0.140425</td>\n",
       "      <td>2.98868</td>\n",
       "      <td>1.758561</td>\n",
       "    </tr>\n",
       "    <tr>\n",
       "      <th>2</th>\n",
       "      <td>13950</td>\n",
       "      <td>-1.718184</td>\n",
       "      <td>-0.715386</td>\n",
       "      <td>-2.337868</td>\n",
       "      <td>-0.242893</td>\n",
       "      <td>0.997419</td>\n",
       "      <td>-1.085139</td>\n",
       "      <td>-0.140425</td>\n",
       "      <td>2.98868</td>\n",
       "      <td>1.758561</td>\n",
       "    </tr>\n",
       "    <tr>\n",
       "      <th>3</th>\n",
       "      <td>14950</td>\n",
       "      <td>-1.610620</td>\n",
       "      <td>-0.547650</td>\n",
       "      <td>-2.337868</td>\n",
       "      <td>-0.242893</td>\n",
       "      <td>0.997419</td>\n",
       "      <td>-1.085139</td>\n",
       "      <td>-0.140425</td>\n",
       "      <td>2.98868</td>\n",
       "      <td>1.758561</td>\n",
       "    </tr>\n",
       "    <tr>\n",
       "      <th>4</th>\n",
       "      <td>13750</td>\n",
       "      <td>-1.395491</td>\n",
       "      <td>-0.801028</td>\n",
       "      <td>-2.337868</td>\n",
       "      <td>-0.242893</td>\n",
       "      <td>0.997419</td>\n",
       "      <td>-1.085139</td>\n",
       "      <td>-0.140425</td>\n",
       "      <td>2.98868</td>\n",
       "      <td>1.853577</td>\n",
       "    </tr>\n",
       "  </tbody>\n",
       "</table>\n",
       "</div>"
      ],
      "text/plain": [
       "   Price  Age_08_04        KM  Fuel_Type  Automatic        cc     Doors  \\\n",
       "0  13500  -1.771966 -0.574695  -2.337868  -0.242893  0.997419 -1.085139   \n",
       "1  13750  -1.771966  0.117454  -2.337868  -0.242893  0.997419 -1.085139   \n",
       "2  13950  -1.718184 -0.715386  -2.337868  -0.242893  0.997419 -1.085139   \n",
       "3  14950  -1.610620 -0.547650  -2.337868  -0.242893  0.997419 -1.085139   \n",
       "4  13750  -1.395491 -0.801028  -2.337868  -0.242893  0.997419 -1.085139   \n",
       "\n",
       "      Gears  Quarterly_Tax    Weight  \n",
       "0 -0.140425        2.98868  1.758561  \n",
       "1 -0.140425        2.98868  1.758561  \n",
       "2 -0.140425        2.98868  1.758561  \n",
       "3 -0.140425        2.98868  1.758561  \n",
       "4 -0.140425        2.98868  1.853577  "
      ]
     },
     "execution_count": 267,
     "metadata": {},
     "output_type": "execute_result"
    }
   ],
   "source": [
    "#deleting old index\n",
    "train_data = train_data.drop(['index'],axis=1)\n",
    "train_data.head()"
   ]
  },
  {
   "cell_type": "code",
   "execution_count": 268,
   "id": "63c814e8",
   "metadata": {},
   "outputs": [],
   "source": [
    "#creating a new model with this new data\n",
    "\n",
    "toyota_price_pred3 = ols(formula='Price~Age_08_04+KM+Fuel_Type+Automatic+cc+Doors+Gears+Quarterly_Tax+Weight',\n",
    "                        data=train_data).fit()"
   ]
  },
  {
   "cell_type": "code",
   "execution_count": 269,
   "id": "ee874c11",
   "metadata": {},
   "outputs": [],
   "source": [
    "model_influence3 = toyota_price_pred3.get_influence()\n",
    "\n",
    "(c,_) = model_influence3.cooks_distance"
   ]
  },
  {
   "cell_type": "code",
   "execution_count": 270,
   "id": "dd5a21d2",
   "metadata": {},
   "outputs": [
    {
     "data": {
      "image/png": "[encoded data removed]",
      "text/plain": [
       "<Figure size 1296x720 with 1 Axes>"
      ]
     },
     "metadata": {
      "needs_background": "light"
     },
     "output_type": "display_data"
    }
   ],
   "source": [
    "#ploting stem plot using cooks distance\n",
    "\n",
    "plt.figure(figsize=(18,10))\n",
    "plt.stem(np.arange(len(train_data)),np.round(c,3))\n",
    "plt.show()"
   ]
  },
  {
   "cell_type": "code",
   "execution_count": 271,
   "id": "1f58e46f",
   "metadata": {},
   "outputs": [
    {
     "data": {
      "text/plain": [
       "(958, 3.176572759812637)"
      ]
     },
     "execution_count": 271,
     "metadata": {},
     "output_type": "execute_result"
    }
   ],
   "source": [
    "#find the poitn with highest cooks distance \n",
    "(np.argmax(c),np.max(c))"
   ]
  },
  {
   "cell_type": "code",
   "execution_count": 273,
   "id": "7dc106c1",
   "metadata": {},
   "outputs": [
    {
     "data": {
      "text/html": [
       "<div>\n",
       "<style scoped>\n",
       "    .dataframe tbody tr th:only-of-type {\n",
       "        vertical-align: middle;\n",
       "    }\n",
       "\n",
       "    .dataframe tbody tr th {\n",
       "        vertical-align: top;\n",
       "    }\n",
       "\n",
       "    .dataframe thead th {\n",
       "        text-align: right;\n",
       "    }\n",
       "</style>\n",
       "<table border=\"1\" class=\"dataframe\">\n",
       "  <thead>\n",
       "    <tr style=\"text-align: right;\">\n",
       "      <th></th>\n",
       "      <th>Price</th>\n",
       "      <th>Age_08_04</th>\n",
       "      <th>KM</th>\n",
       "      <th>Fuel_Type</th>\n",
       "      <th>Automatic</th>\n",
       "      <th>cc</th>\n",
       "      <th>Doors</th>\n",
       "      <th>Gears</th>\n",
       "      <th>Quarterly_Tax</th>\n",
       "      <th>Weight</th>\n",
       "    </tr>\n",
       "  </thead>\n",
       "  <tbody>\n",
       "    <tr>\n",
       "      <th>958</th>\n",
       "      <td>9390</td>\n",
       "      <td>0.540668</td>\n",
       "      <td>-0.47281</td>\n",
       "      <td>0.354336</td>\n",
       "      <td>-0.242893</td>\n",
       "      <td>-0.652594</td>\n",
       "      <td>-1.085139</td>\n",
       "      <td>-0.140425</td>\n",
       "      <td>-1.656907</td>\n",
       "      <td>7.744561</td>\n",
       "    </tr>\n",
       "  </tbody>\n",
       "</table>\n",
       "</div>"
      ],
      "text/plain": [
       "     Price  Age_08_04       KM  Fuel_Type  Automatic        cc     Doors  \\\n",
       "958   9390   0.540668 -0.47281   0.354336  -0.242893 -0.652594 -1.085139   \n",
       "\n",
       "        Gears  Quarterly_Tax    Weight  \n",
       "958 -0.140425      -1.656907  7.744561  "
      ]
     },
     "execution_count": 273,
     "metadata": {},
     "output_type": "execute_result"
    }
   ],
   "source": [
    "#deleting these  data points\n",
    "\n",
    "train_data[train_data.index.isin([958])]"
   ]
  },
  {
   "cell_type": "code",
   "execution_count": 274,
   "id": "3e04c06d",
   "metadata": {},
   "outputs": [],
   "source": [
    "train_data = train_data.drop(train_data.index[[958]],axis=0).reset_index()"
   ]
  },
  {
   "cell_type": "code",
   "execution_count": 275,
   "id": "7be0e4b0",
   "metadata": {},
   "outputs": [
    {
     "data": {
      "text/html": [
       "<div>\n",
       "<style scoped>\n",
       "    .dataframe tbody tr th:only-of-type {\n",
       "        vertical-align: middle;\n",
       "    }\n",
       "\n",
       "    .dataframe tbody tr th {\n",
       "        vertical-align: top;\n",
       "    }\n",
       "\n",
       "    .dataframe thead th {\n",
       "        text-align: right;\n",
       "    }\n",
       "</style>\n",
       "<table border=\"1\" class=\"dataframe\">\n",
       "  <thead>\n",
       "    <tr style=\"text-align: right;\">\n",
       "      <th></th>\n",
       "      <th>Price</th>\n",
       "      <th>Age_08_04</th>\n",
       "      <th>KM</th>\n",
       "      <th>Fuel_Type</th>\n",
       "      <th>Automatic</th>\n",
       "      <th>cc</th>\n",
       "      <th>Doors</th>\n",
       "      <th>Gears</th>\n",
       "      <th>Quarterly_Tax</th>\n",
       "      <th>Weight</th>\n",
       "    </tr>\n",
       "  </thead>\n",
       "  <tbody>\n",
       "    <tr>\n",
       "      <th>0</th>\n",
       "      <td>13500</td>\n",
       "      <td>-1.771966</td>\n",
       "      <td>-0.574695</td>\n",
       "      <td>-2.337868</td>\n",
       "      <td>-0.242893</td>\n",
       "      <td>0.997419</td>\n",
       "      <td>-1.085139</td>\n",
       "      <td>-0.140425</td>\n",
       "      <td>2.98868</td>\n",
       "      <td>1.758561</td>\n",
       "    </tr>\n",
       "    <tr>\n",
       "      <th>1</th>\n",
       "      <td>13750</td>\n",
       "      <td>-1.771966</td>\n",
       "      <td>0.117454</td>\n",
       "      <td>-2.337868</td>\n",
       "      <td>-0.242893</td>\n",
       "      <td>0.997419</td>\n",
       "      <td>-1.085139</td>\n",
       "      <td>-0.140425</td>\n",
       "      <td>2.98868</td>\n",
       "      <td>1.758561</td>\n",
       "    </tr>\n",
       "    <tr>\n",
       "      <th>2</th>\n",
       "      <td>13950</td>\n",
       "      <td>-1.718184</td>\n",
       "      <td>-0.715386</td>\n",
       "      <td>-2.337868</td>\n",
       "      <td>-0.242893</td>\n",
       "      <td>0.997419</td>\n",
       "      <td>-1.085139</td>\n",
       "      <td>-0.140425</td>\n",
       "      <td>2.98868</td>\n",
       "      <td>1.758561</td>\n",
       "    </tr>\n",
       "    <tr>\n",
       "      <th>3</th>\n",
       "      <td>14950</td>\n",
       "      <td>-1.610620</td>\n",
       "      <td>-0.547650</td>\n",
       "      <td>-2.337868</td>\n",
       "      <td>-0.242893</td>\n",
       "      <td>0.997419</td>\n",
       "      <td>-1.085139</td>\n",
       "      <td>-0.140425</td>\n",
       "      <td>2.98868</td>\n",
       "      <td>1.758561</td>\n",
       "    </tr>\n",
       "    <tr>\n",
       "      <th>4</th>\n",
       "      <td>13750</td>\n",
       "      <td>-1.395491</td>\n",
       "      <td>-0.801028</td>\n",
       "      <td>-2.337868</td>\n",
       "      <td>-0.242893</td>\n",
       "      <td>0.997419</td>\n",
       "      <td>-1.085139</td>\n",
       "      <td>-0.140425</td>\n",
       "      <td>2.98868</td>\n",
       "      <td>1.853577</td>\n",
       "    </tr>\n",
       "  </tbody>\n",
       "</table>\n",
       "</div>"
      ],
      "text/plain": [
       "   Price  Age_08_04        KM  Fuel_Type  Automatic        cc     Doors  \\\n",
       "0  13500  -1.771966 -0.574695  -2.337868  -0.242893  0.997419 -1.085139   \n",
       "1  13750  -1.771966  0.117454  -2.337868  -0.242893  0.997419 -1.085139   \n",
       "2  13950  -1.718184 -0.715386  -2.337868  -0.242893  0.997419 -1.085139   \n",
       "3  14950  -1.610620 -0.547650  -2.337868  -0.242893  0.997419 -1.085139   \n",
       "4  13750  -1.395491 -0.801028  -2.337868  -0.242893  0.997419 -1.085139   \n",
       "\n",
       "      Gears  Quarterly_Tax    Weight  \n",
       "0 -0.140425        2.98868  1.758561  \n",
       "1 -0.140425        2.98868  1.758561  \n",
       "2 -0.140425        2.98868  1.758561  \n",
       "3 -0.140425        2.98868  1.758561  \n",
       "4 -0.140425        2.98868  1.853577  "
      ]
     },
     "execution_count": 275,
     "metadata": {},
     "output_type": "execute_result"
    }
   ],
   "source": [
    "#deleting old index\n",
    "train_data = train_data.drop(['index'],axis=1)\n",
    "train_data.head()"
   ]
  },
  {
   "cell_type": "code",
   "execution_count": 276,
   "id": "9deba163",
   "metadata": {},
   "outputs": [],
   "source": [
    "#creating a new model with this new data\n",
    "\n",
    "toyota_price_pred4 = ols(formula='Price~Age_08_04+KM+Fuel_Type+Automatic+cc+Doors+Gears+Quarterly_Tax+Weight',\n",
    "                        data=train_data).fit()"
   ]
  },
  {
   "cell_type": "code",
   "execution_count": 277,
   "id": "4e69059e",
   "metadata": {},
   "outputs": [],
   "source": [
    "model_influence4 = toyota_price_pred4.get_influence()\n",
    "\n",
    "(c,_) = model_influence4.cooks_distance"
   ]
  },
  {
   "cell_type": "code",
   "execution_count": 278,
   "id": "163df131",
   "metadata": {},
   "outputs": [
    {
     "data": {
      "image/png": "[encoded data removed]",
      "text/plain": [
       "<Figure size 1296x720 with 1 Axes>"
      ]
     },
     "metadata": {
      "needs_background": "light"
     },
     "output_type": "display_data"
    }
   ],
   "source": [
    "#ploting stem plot using cooks distance\n",
    "\n",
    "plt.figure(figsize=(18,10))\n",
    "plt.stem(np.arange(len(train_data)),np.round(c,3))\n",
    "plt.show()"
   ]
  },
  {
   "cell_type": "code",
   "execution_count": 279,
   "id": "49104522",
   "metadata": {},
   "outputs": [
    {
     "data": {
      "text/plain": [
       "(599, 0.38685435965914666)"
      ]
     },
     "execution_count": 279,
     "metadata": {},
     "output_type": "execute_result"
    }
   ],
   "source": [
    "#find the poitn with highest cooks distance \n",
    "(np.argmax(c),np.max(c))"
   ]
  },
  {
   "cell_type": "markdown",
   "id": "279ea733",
   "metadata": {},
   "source": [
    "#### the cooks distance is less than 1 we can stop improvisation process now"
   ]
  },
  {
   "cell_type": "markdown",
   "id": "9e1a06b5",
   "metadata": {},
   "source": [
    "## Best model creation\n",
    "## 1.Model bulding and training"
   ]
  },
  {
   "cell_type": "code",
   "execution_count": 280,
   "id": "6027bd39",
   "metadata": {},
   "outputs": [],
   "source": [
    "Corolla_price_pred = ols(formula='Price~Age_08_04+KM+Fuel_Type+Automatic+cc+Doors+Gears+Quarterly_Tax+Weight',\n",
    "                        data=train_data).fit()"
   ]
  },
  {
   "cell_type": "markdown",
   "id": "5cf96007",
   "metadata": {},
   "source": [
    "## 2.Model testing"
   ]
  },
  {
   "cell_type": "code",
   "execution_count": 281,
   "id": "c233b863",
   "metadata": {},
   "outputs": [],
   "source": [
    "y_pred = Corolla_price_pred.predict(test_data.iloc[:,1:])"
   ]
  },
  {
   "cell_type": "code",
   "execution_count": 284,
   "id": "baa346d0",
   "metadata": {},
   "outputs": [
    {
     "data": {
      "text/plain": [
       "0.8821822527978498"
      ]
     },
     "execution_count": 284,
     "metadata": {},
     "output_type": "execute_result"
    }
   ],
   "source": [
    "Corolla_price_pred.rsquared_adj"
   ]
  },
  {
   "cell_type": "code",
   "execution_count": 286,
   "id": "e217c823",
   "metadata": {},
   "outputs": [
    {
     "data": {
      "text/plain": [
       "0.10489415872409333"
      ]
     },
     "execution_count": 286,
     "metadata": {},
     "output_type": "execute_result"
    }
   ],
   "source": [
    "mean_absolute_percentage_error(test_data['Price'],y_pred)"
   ]
  },
  {
   "cell_type": "markdown",
   "id": "c7fc0ab7",
   "metadata": {},
   "source": [
    "## Model deployment"
   ]
  },
  {
   "cell_type": "code",
   "execution_count": 289,
   "id": "13fadd56",
   "metadata": {},
   "outputs": [],
   "source": [
    "dump(Corolla_price_pred,open('Corolla_price_pred.pkl','wb'))"
   ]
  }
 ],
 "metadata": {
  "kernelspec": {
   "display_name": "Python 3",
   "language": "python",
   "name": "python3"
  },
  "language_info": {
   "codemirror_mode": {
    "name": "ipython",
    "version": 3
   },
   "file_extension": ".py",
   "mimetype": "text/x-python",
   "name": "python",
   "nbconvert_exporter": "python",
   "pygments_lexer": "ipython3",
   "version": "3.8.8"
  }
 },
 "nbformat": 4,
 "nbformat_minor": 5
}
